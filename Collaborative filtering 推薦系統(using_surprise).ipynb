{
  "cells": [
    {
      "cell_type": "markdown",
      "metadata": {
        "id": "view-in-github",
        "colab_type": "text"
      },
      "source": [
        "<a href=\"https://colab.research.google.com/github/chen2369/data-course-sample/blob/main/Collaborative%20filtering%20%E6%8E%A8%E8%96%A6%E7%B3%BB%E7%B5%B1(using_surprise).ipynb\" target=\"_parent\"><img src=\"https://colab.research.google.com/assets/colab-badge.svg\" alt=\"Open In Colab\"/></a>"
      ]
    },
    {
      "cell_type": "markdown",
      "id": "84de56a8",
      "metadata": {
        "id": "84de56a8"
      },
      "source": [
        "# Code"
      ]
    },
    {
      "cell_type": "markdown",
      "metadata": {
        "id": "djYHSMSqvlZE"
      },
      "source": [
        "## 基礎建設"
      ],
      "id": "djYHSMSqvlZE"
    },
    {
      "cell_type": "code",
      "source": [
        "import warnings\n",
        "warnings.filterwarnings(\"ignore\")"
      ],
      "metadata": {
        "id": "8wD4QICXvM0o"
      },
      "execution_count": 1,
      "outputs": [],
      "id": "8wD4QICXvM0o"
    },
    {
      "cell_type": "code",
      "execution_count": 2,
      "metadata": {
        "scrolled": true,
        "id": "XG45Ak87vlZJ"
      },
      "outputs": [],
      "source": [
        "import pandas as pd\n",
        "import gzip, json\n",
        "\n",
        "def parse(path):\n",
        "    g = gzip.open(path, 'rb')\n",
        "    for l in g:\n",
        "        yield json.loads(l)\n",
        "\n",
        "def getDF(path):\n",
        "    i = 0\n",
        "    df = {}\n",
        "    for d in parse(path):\n",
        "        df[i] = d\n",
        "        i += 1\n",
        "    return pd.DataFrame.from_dict(df, orient='index')"
      ],
      "id": "XG45Ak87vlZJ"
    },
    {
      "cell_type": "markdown",
      "metadata": {
        "id": "-uUA6xnJvlZK"
      },
      "source": [
        "## 載入資料"
      ],
      "id": "-uUA6xnJvlZK"
    },
    {
      "cell_type": "code",
      "execution_count": 3,
      "metadata": {
        "colab": {
          "base_uri": "https://localhost:8080/"
        },
        "outputId": "34ce4db8-55cf-4638-8423-dcb8d71c0c77",
        "id": "ygOODElHvlZL"
      },
      "outputs": [
        {
          "output_type": "stream",
          "name": "stdout",
          "text": [
            "--2022-01-07 13:42:05--  http://deepyeti.ucsd.edu/jianmo/amazon/categoryFilesSmall/All_Beauty.csv\n",
            "Resolving deepyeti.ucsd.edu (deepyeti.ucsd.edu)... 169.228.63.50\n",
            "Connecting to deepyeti.ucsd.edu (deepyeti.ucsd.edu)|169.228.63.50|:80... connected.\n",
            "HTTP request sent, awaiting response... 200 OK\n",
            "Length: 15499476 (15M) [application/octet-stream]\n",
            "Saving to: ‘All_Beauty.csv.1’\n",
            "\n",
            "All_Beauty.csv.1    100%[===================>]  14.78M  10.1MB/s    in 1.5s    \n",
            "\n",
            "2022-01-07 13:42:07 (10.1 MB/s) - ‘All_Beauty.csv.1’ saved [15499476/15499476]\n",
            "\n",
            "--2022-01-07 13:42:07--  http://deepyeti.ucsd.edu/jianmo/amazon/metaFiles2/meta_All_Beauty.json.gz\n",
            "Resolving deepyeti.ucsd.edu (deepyeti.ucsd.edu)... 169.228.63.50\n",
            "Connecting to deepyeti.ucsd.edu (deepyeti.ucsd.edu)|169.228.63.50|:80... connected.\n",
            "HTTP request sent, awaiting response... 200 OK\n",
            "Length: 10329961 (9.9M) [application/octet-stream]\n",
            "Saving to: ‘meta_All_Beauty.json.gz.1’\n",
            "\n",
            "meta_All_Beauty.jso 100%[===================>]   9.85M  7.55MB/s    in 1.3s    \n",
            "\n",
            "2022-01-07 13:42:09 (7.55 MB/s) - ‘meta_All_Beauty.json.gz.1’ saved [10329961/10329961]\n",
            "\n"
          ]
        }
      ],
      "source": [
        "!wget http://deepyeti.ucsd.edu/jianmo/amazon/categoryFilesSmall/All_Beauty.csv\n",
        "!wget http://deepyeti.ucsd.edu/jianmo/amazon/metaFiles2/meta_All_Beauty.json.gz"
      ],
      "id": "ygOODElHvlZL"
    },
    {
      "cell_type": "code",
      "execution_count": 4,
      "metadata": {
        "id": "HlJzKSS8vlZM"
      },
      "outputs": [],
      "source": [
        "metadata = getDF('/content/meta_All_Beauty.json.gz')\n",
        "ratings = pd.read_csv('/content/All_Beauty.csv', names=['asin', 'reviewerID', 'overall', 'unixReviewTime'], header=None)"
      ],
      "id": "HlJzKSS8vlZM"
    },
    {
      "cell_type": "code",
      "execution_count": 5,
      "metadata": {
        "outputId": "f8a4bdc2-cdc6-4c53-de9f-06269f64d878",
        "colab": {
          "base_uri": "https://localhost:8080/",
          "height": 0
        },
        "id": "ziUi-1XIvlZN"
      },
      "outputs": [
        {
          "output_type": "execute_result",
          "data": {
            "text/html": [
              "\n",
              "  <div id=\"df-1110e967-0919-413b-a15f-17090a4b37fb\">\n",
              "    <div class=\"colab-df-container\">\n",
              "      <div>\n",
              "<style scoped>\n",
              "    .dataframe tbody tr th:only-of-type {\n",
              "        vertical-align: middle;\n",
              "    }\n",
              "\n",
              "    .dataframe tbody tr th {\n",
              "        vertical-align: top;\n",
              "    }\n",
              "\n",
              "    .dataframe thead th {\n",
              "        text-align: right;\n",
              "    }\n",
              "</style>\n",
              "<table border=\"1\" class=\"dataframe\">\n",
              "  <thead>\n",
              "    <tr style=\"text-align: right;\">\n",
              "      <th></th>\n",
              "      <th>category</th>\n",
              "      <th>tech1</th>\n",
              "      <th>description</th>\n",
              "      <th>fit</th>\n",
              "      <th>title</th>\n",
              "      <th>also_buy</th>\n",
              "      <th>tech2</th>\n",
              "      <th>brand</th>\n",
              "      <th>feature</th>\n",
              "      <th>rank</th>\n",
              "      <th>also_view</th>\n",
              "      <th>details</th>\n",
              "      <th>main_cat</th>\n",
              "      <th>similar_item</th>\n",
              "      <th>date</th>\n",
              "      <th>price</th>\n",
              "      <th>asin</th>\n",
              "      <th>imageURL</th>\n",
              "      <th>imageURLHighRes</th>\n",
              "    </tr>\n",
              "  </thead>\n",
              "  <tbody>\n",
              "    <tr>\n",
              "      <th>0</th>\n",
              "      <td>[]</td>\n",
              "      <td></td>\n",
              "      <td>[Loud 'N Clear Personal Sound Amplifier allows...</td>\n",
              "      <td></td>\n",
              "      <td>Loud 'N Clear&amp;trade; Personal Sound Amplifier</td>\n",
              "      <td>[]</td>\n",
              "      <td></td>\n",
              "      <td>idea village</td>\n",
              "      <td>[]</td>\n",
              "      <td>2,938,573 in Beauty &amp; Personal Care (</td>\n",
              "      <td>[]</td>\n",
              "      <td>{'ASIN: ': '6546546450'}</td>\n",
              "      <td>All Beauty</td>\n",
              "      <td></td>\n",
              "      <td></td>\n",
              "      <td></td>\n",
              "      <td>6546546450</td>\n",
              "      <td>[]</td>\n",
              "      <td>[]</td>\n",
              "    </tr>\n",
              "    <tr>\n",
              "      <th>1</th>\n",
              "      <td>[]</td>\n",
              "      <td></td>\n",
              "      <td>[No7 Lift &amp; Luminate Triple Action Serum 50ml ...</td>\n",
              "      <td></td>\n",
              "      <td>No7 Lift &amp;amp; Luminate Triple Action Serum 50...</td>\n",
              "      <td>[B01E7LCSL6, B008X5RVME]</td>\n",
              "      <td></td>\n",
              "      <td></td>\n",
              "      <td>[]</td>\n",
              "      <td>872,854 in Beauty &amp; Personal Care (</td>\n",
              "      <td>[]</td>\n",
              "      <td>{'Shipping Weight:': '0.3 ounces (', 'ASIN: ':...</td>\n",
              "      <td>All Beauty</td>\n",
              "      <td>class=\"a-bordered a-horizontal-stripes  a-spa...</td>\n",
              "      <td></td>\n",
              "      <td>$44.99</td>\n",
              "      <td>7178680776</td>\n",
              "      <td>[]</td>\n",
              "      <td>[]</td>\n",
              "    </tr>\n",
              "    <tr>\n",
              "      <th>2</th>\n",
              "      <td>[]</td>\n",
              "      <td></td>\n",
              "      <td>[No7 Stay Perfect Foundation now stays perfect...</td>\n",
              "      <td></td>\n",
              "      <td>No7 Stay Perfect Foundation Cool Vanilla by No7</td>\n",
              "      <td>[]</td>\n",
              "      <td></td>\n",
              "      <td>No7</td>\n",
              "      <td>[]</td>\n",
              "      <td>956,696 in Beauty &amp; Personal Care (</td>\n",
              "      <td>[B01B8BR0O8, B01B8BR0NO, B014MHXXM8]</td>\n",
              "      <td>{'Shipping Weight:': '3.5 ounces (', 'ASIN: ':...</td>\n",
              "      <td>All Beauty</td>\n",
              "      <td></td>\n",
              "      <td></td>\n",
              "      <td>$28.76</td>\n",
              "      <td>7250468162</td>\n",
              "      <td>[]</td>\n",
              "      <td>[]</td>\n",
              "    </tr>\n",
              "    <tr>\n",
              "      <th>3</th>\n",
              "      <td>[]</td>\n",
              "      <td></td>\n",
              "      <td>[]</td>\n",
              "      <td></td>\n",
              "      <td>Wella Koleston Perfect Hair Colour 44/44 Mediu...</td>\n",
              "      <td>[B0041PBXX8]</td>\n",
              "      <td></td>\n",
              "      <td></td>\n",
              "      <td>[]</td>\n",
              "      <td>1,870,258 in Beauty &amp; Personal Care (</td>\n",
              "      <td>[]</td>\n",
              "      <td>{'\n",
              "    Item Weight: \n",
              "    ': '1.76 ounces', 'Sh...</td>\n",
              "      <td>All Beauty</td>\n",
              "      <td></td>\n",
              "      <td></td>\n",
              "      <td></td>\n",
              "      <td>7367905066</td>\n",
              "      <td>[https://images-na.ssl-images-amazon.com/image...</td>\n",
              "      <td>[https://images-na.ssl-images-amazon.com/image...</td>\n",
              "    </tr>\n",
              "    <tr>\n",
              "      <th>4</th>\n",
              "      <td>[]</td>\n",
              "      <td></td>\n",
              "      <td>[Lacto Calamine Skin Balance Daily Nourishing ...</td>\n",
              "      <td></td>\n",
              "      <td>Lacto Calamine Skin Balance Oil control 120 ml...</td>\n",
              "      <td>[]</td>\n",
              "      <td></td>\n",
              "      <td>Pirmal Healthcare</td>\n",
              "      <td>[]</td>\n",
              "      <td>67,701 in Beauty &amp; Personal Care (</td>\n",
              "      <td>[3254895630, B007VL1D9S, B00EH9A0RI, B0773MBG4...</td>\n",
              "      <td>{'Shipping Weight:': '12 ounces (', 'ASIN: ': ...</td>\n",
              "      <td>All Beauty</td>\n",
              "      <td></td>\n",
              "      <td></td>\n",
              "      <td>$12.15</td>\n",
              "      <td>7414204790</td>\n",
              "      <td>[https://images-na.ssl-images-amazon.com/image...</td>\n",
              "      <td>[https://images-na.ssl-images-amazon.com/image...</td>\n",
              "    </tr>\n",
              "  </tbody>\n",
              "</table>\n",
              "</div>\n",
              "      <button class=\"colab-df-convert\" onclick=\"convertToInteractive('df-1110e967-0919-413b-a15f-17090a4b37fb')\"\n",
              "              title=\"Convert this dataframe to an interactive table.\"\n",
              "              style=\"display:none;\">\n",
              "        \n",
              "  <svg xmlns=\"http://www.w3.org/2000/svg\" height=\"24px\"viewBox=\"0 0 24 24\"\n",
              "       width=\"24px\">\n",
              "    <path d=\"M0 0h24v24H0V0z\" fill=\"none\"/>\n",
              "    <path d=\"M18.56 5.44l.94 2.06.94-2.06 2.06-.94-2.06-.94-.94-2.06-.94 2.06-2.06.94zm-11 1L8.5 8.5l.94-2.06 2.06-.94-2.06-.94L8.5 2.5l-.94 2.06-2.06.94zm10 10l.94 2.06.94-2.06 2.06-.94-2.06-.94-.94-2.06-.94 2.06-2.06.94z\"/><path d=\"M17.41 7.96l-1.37-1.37c-.4-.4-.92-.59-1.43-.59-.52 0-1.04.2-1.43.59L10.3 9.45l-7.72 7.72c-.78.78-.78 2.05 0 2.83L4 21.41c.39.39.9.59 1.41.59.51 0 1.02-.2 1.41-.59l7.78-7.78 2.81-2.81c.8-.78.8-2.07 0-2.86zM5.41 20L4 18.59l7.72-7.72 1.47 1.35L5.41 20z\"/>\n",
              "  </svg>\n",
              "      </button>\n",
              "      \n",
              "  <style>\n",
              "    .colab-df-container {\n",
              "      display:flex;\n",
              "      flex-wrap:wrap;\n",
              "      gap: 12px;\n",
              "    }\n",
              "\n",
              "    .colab-df-convert {\n",
              "      background-color: #E8F0FE;\n",
              "      border: none;\n",
              "      border-radius: 50%;\n",
              "      cursor: pointer;\n",
              "      display: none;\n",
              "      fill: #1967D2;\n",
              "      height: 32px;\n",
              "      padding: 0 0 0 0;\n",
              "      width: 32px;\n",
              "    }\n",
              "\n",
              "    .colab-df-convert:hover {\n",
              "      background-color: #E2EBFA;\n",
              "      box-shadow: 0px 1px 2px rgba(60, 64, 67, 0.3), 0px 1px 3px 1px rgba(60, 64, 67, 0.15);\n",
              "      fill: #174EA6;\n",
              "    }\n",
              "\n",
              "    [theme=dark] .colab-df-convert {\n",
              "      background-color: #3B4455;\n",
              "      fill: #D2E3FC;\n",
              "    }\n",
              "\n",
              "    [theme=dark] .colab-df-convert:hover {\n",
              "      background-color: #434B5C;\n",
              "      box-shadow: 0px 1px 3px 1px rgba(0, 0, 0, 0.15);\n",
              "      filter: drop-shadow(0px 1px 2px rgba(0, 0, 0, 0.3));\n",
              "      fill: #FFFFFF;\n",
              "    }\n",
              "  </style>\n",
              "\n",
              "      <script>\n",
              "        const buttonEl =\n",
              "          document.querySelector('#df-1110e967-0919-413b-a15f-17090a4b37fb button.colab-df-convert');\n",
              "        buttonEl.style.display =\n",
              "          google.colab.kernel.accessAllowed ? 'block' : 'none';\n",
              "\n",
              "        async function convertToInteractive(key) {\n",
              "          const element = document.querySelector('#df-1110e967-0919-413b-a15f-17090a4b37fb');\n",
              "          const dataTable =\n",
              "            await google.colab.kernel.invokeFunction('convertToInteractive',\n",
              "                                                     [key], {});\n",
              "          if (!dataTable) return;\n",
              "\n",
              "          const docLinkHtml = 'Like what you see? Visit the ' +\n",
              "            '<a target=\"_blank\" href=https://colab.research.google.com/notebooks/data_table.ipynb>data table notebook</a>'\n",
              "            + ' to learn more about interactive tables.';\n",
              "          element.innerHTML = '';\n",
              "          dataTable['output_type'] = 'display_data';\n",
              "          await google.colab.output.renderOutput(dataTable, element);\n",
              "          const docLink = document.createElement('div');\n",
              "          docLink.innerHTML = docLinkHtml;\n",
              "          element.appendChild(docLink);\n",
              "        }\n",
              "      </script>\n",
              "    </div>\n",
              "  </div>\n",
              "  "
            ],
            "text/plain": [
              "  category  ...                                    imageURLHighRes\n",
              "0       []  ...                                                 []\n",
              "1       []  ...                                                 []\n",
              "2       []  ...                                                 []\n",
              "3       []  ...  [https://images-na.ssl-images-amazon.com/image...\n",
              "4       []  ...  [https://images-na.ssl-images-amazon.com/image...\n",
              "\n",
              "[5 rows x 19 columns]"
            ]
          },
          "metadata": {},
          "execution_count": 5
        }
      ],
      "source": [
        "metadata.head()"
      ],
      "id": "ziUi-1XIvlZN"
    },
    {
      "cell_type": "code",
      "execution_count": 6,
      "metadata": {
        "outputId": "c7f3cda9-ee78-42c7-ff0b-3719e643951a",
        "colab": {
          "base_uri": "https://localhost:8080/",
          "height": 0
        },
        "id": "N2Hua_T7vlZO"
      },
      "outputs": [
        {
          "output_type": "execute_result",
          "data": {
            "text/html": [
              "\n",
              "  <div id=\"df-48aaca73-e57b-4bf2-b7c4-c531945d9b98\">\n",
              "    <div class=\"colab-df-container\">\n",
              "      <div>\n",
              "<style scoped>\n",
              "    .dataframe tbody tr th:only-of-type {\n",
              "        vertical-align: middle;\n",
              "    }\n",
              "\n",
              "    .dataframe tbody tr th {\n",
              "        vertical-align: top;\n",
              "    }\n",
              "\n",
              "    .dataframe thead th {\n",
              "        text-align: right;\n",
              "    }\n",
              "</style>\n",
              "<table border=\"1\" class=\"dataframe\">\n",
              "  <thead>\n",
              "    <tr style=\"text-align: right;\">\n",
              "      <th></th>\n",
              "      <th>asin</th>\n",
              "      <th>reviewerID</th>\n",
              "      <th>overall</th>\n",
              "      <th>unixReviewTime</th>\n",
              "    </tr>\n",
              "  </thead>\n",
              "  <tbody>\n",
              "    <tr>\n",
              "      <th>0</th>\n",
              "      <td>0143026860</td>\n",
              "      <td>A1V6B6TNIC10QE</td>\n",
              "      <td>1.0</td>\n",
              "      <td>1424304000</td>\n",
              "    </tr>\n",
              "    <tr>\n",
              "      <th>1</th>\n",
              "      <td>0143026860</td>\n",
              "      <td>A2F5GHSXFQ0W6J</td>\n",
              "      <td>4.0</td>\n",
              "      <td>1418860800</td>\n",
              "    </tr>\n",
              "    <tr>\n",
              "      <th>2</th>\n",
              "      <td>0143026860</td>\n",
              "      <td>A1572GUYS7DGSR</td>\n",
              "      <td>4.0</td>\n",
              "      <td>1407628800</td>\n",
              "    </tr>\n",
              "    <tr>\n",
              "      <th>3</th>\n",
              "      <td>0143026860</td>\n",
              "      <td>A1PSGLFK1NSVO</td>\n",
              "      <td>5.0</td>\n",
              "      <td>1362960000</td>\n",
              "    </tr>\n",
              "    <tr>\n",
              "      <th>4</th>\n",
              "      <td>0143026860</td>\n",
              "      <td>A6IKXKZMTKGSC</td>\n",
              "      <td>5.0</td>\n",
              "      <td>1324771200</td>\n",
              "    </tr>\n",
              "  </tbody>\n",
              "</table>\n",
              "</div>\n",
              "      <button class=\"colab-df-convert\" onclick=\"convertToInteractive('df-48aaca73-e57b-4bf2-b7c4-c531945d9b98')\"\n",
              "              title=\"Convert this dataframe to an interactive table.\"\n",
              "              style=\"display:none;\">\n",
              "        \n",
              "  <svg xmlns=\"http://www.w3.org/2000/svg\" height=\"24px\"viewBox=\"0 0 24 24\"\n",
              "       width=\"24px\">\n",
              "    <path d=\"M0 0h24v24H0V0z\" fill=\"none\"/>\n",
              "    <path d=\"M18.56 5.44l.94 2.06.94-2.06 2.06-.94-2.06-.94-.94-2.06-.94 2.06-2.06.94zm-11 1L8.5 8.5l.94-2.06 2.06-.94-2.06-.94L8.5 2.5l-.94 2.06-2.06.94zm10 10l.94 2.06.94-2.06 2.06-.94-2.06-.94-.94-2.06-.94 2.06-2.06.94z\"/><path d=\"M17.41 7.96l-1.37-1.37c-.4-.4-.92-.59-1.43-.59-.52 0-1.04.2-1.43.59L10.3 9.45l-7.72 7.72c-.78.78-.78 2.05 0 2.83L4 21.41c.39.39.9.59 1.41.59.51 0 1.02-.2 1.41-.59l7.78-7.78 2.81-2.81c.8-.78.8-2.07 0-2.86zM5.41 20L4 18.59l7.72-7.72 1.47 1.35L5.41 20z\"/>\n",
              "  </svg>\n",
              "      </button>\n",
              "      \n",
              "  <style>\n",
              "    .colab-df-container {\n",
              "      display:flex;\n",
              "      flex-wrap:wrap;\n",
              "      gap: 12px;\n",
              "    }\n",
              "\n",
              "    .colab-df-convert {\n",
              "      background-color: #E8F0FE;\n",
              "      border: none;\n",
              "      border-radius: 50%;\n",
              "      cursor: pointer;\n",
              "      display: none;\n",
              "      fill: #1967D2;\n",
              "      height: 32px;\n",
              "      padding: 0 0 0 0;\n",
              "      width: 32px;\n",
              "    }\n",
              "\n",
              "    .colab-df-convert:hover {\n",
              "      background-color: #E2EBFA;\n",
              "      box-shadow: 0px 1px 2px rgba(60, 64, 67, 0.3), 0px 1px 3px 1px rgba(60, 64, 67, 0.15);\n",
              "      fill: #174EA6;\n",
              "    }\n",
              "\n",
              "    [theme=dark] .colab-df-convert {\n",
              "      background-color: #3B4455;\n",
              "      fill: #D2E3FC;\n",
              "    }\n",
              "\n",
              "    [theme=dark] .colab-df-convert:hover {\n",
              "      background-color: #434B5C;\n",
              "      box-shadow: 0px 1px 3px 1px rgba(0, 0, 0, 0.15);\n",
              "      filter: drop-shadow(0px 1px 2px rgba(0, 0, 0, 0.3));\n",
              "      fill: #FFFFFF;\n",
              "    }\n",
              "  </style>\n",
              "\n",
              "      <script>\n",
              "        const buttonEl =\n",
              "          document.querySelector('#df-48aaca73-e57b-4bf2-b7c4-c531945d9b98 button.colab-df-convert');\n",
              "        buttonEl.style.display =\n",
              "          google.colab.kernel.accessAllowed ? 'block' : 'none';\n",
              "\n",
              "        async function convertToInteractive(key) {\n",
              "          const element = document.querySelector('#df-48aaca73-e57b-4bf2-b7c4-c531945d9b98');\n",
              "          const dataTable =\n",
              "            await google.colab.kernel.invokeFunction('convertToInteractive',\n",
              "                                                     [key], {});\n",
              "          if (!dataTable) return;\n",
              "\n",
              "          const docLinkHtml = 'Like what you see? Visit the ' +\n",
              "            '<a target=\"_blank\" href=https://colab.research.google.com/notebooks/data_table.ipynb>data table notebook</a>'\n",
              "            + ' to learn more about interactive tables.';\n",
              "          element.innerHTML = '';\n",
              "          dataTable['output_type'] = 'display_data';\n",
              "          await google.colab.output.renderOutput(dataTable, element);\n",
              "          const docLink = document.createElement('div');\n",
              "          docLink.innerHTML = docLinkHtml;\n",
              "          element.appendChild(docLink);\n",
              "        }\n",
              "      </script>\n",
              "    </div>\n",
              "  </div>\n",
              "  "
            ],
            "text/plain": [
              "         asin      reviewerID  overall  unixReviewTime\n",
              "0  0143026860  A1V6B6TNIC10QE      1.0      1424304000\n",
              "1  0143026860  A2F5GHSXFQ0W6J      4.0      1418860800\n",
              "2  0143026860  A1572GUYS7DGSR      4.0      1407628800\n",
              "3  0143026860   A1PSGLFK1NSVO      5.0      1362960000\n",
              "4  0143026860   A6IKXKZMTKGSC      5.0      1324771200"
            ]
          },
          "metadata": {},
          "execution_count": 6
        }
      ],
      "source": [
        "ratings.head()"
      ],
      "id": "N2Hua_T7vlZO"
    },
    {
      "cell_type": "markdown",
      "metadata": {
        "id": "U3eZ5IV0lWiw"
      },
      "source": [
        "## 資料整理\n",
        "\n",
        "metadata -> metadata_clean"
      ],
      "id": "U3eZ5IV0lWiw"
    },
    {
      "cell_type": "code",
      "execution_count": 7,
      "metadata": {
        "id": "FhgckGxtlWiw"
      },
      "outputs": [],
      "source": [
        "ratings['DATE'] = pd.to_datetime(ratings['unixReviewTime'], unit='s')"
      ],
      "id": "FhgckGxtlWiw"
    },
    {
      "cell_type": "code",
      "source": [
        "import numpy as np\n",
        "\n",
        "def emptylist_na(cell):\n",
        "    try:\n",
        "        if len(cell) == 0:\n",
        "            return np.nan\n",
        "        else:\n",
        "            return cell\n",
        "    except:\n",
        "        return cell\n",
        "metadata_na = metadata.applymap(emptylist_na)"
      ],
      "metadata": {
        "id": "6bfCfSuD95kh"
      },
      "execution_count": 8,
      "outputs": [],
      "id": "6bfCfSuD95kh"
    },
    {
      "cell_type": "code",
      "source": [
        "metadata_na.isna().sum().sort_values(ascending=False).to_frame(name='Number of NA').T"
      ],
      "metadata": {
        "colab": {
          "base_uri": "https://localhost:8080/",
          "height": 0
        },
        "id": "kn0tlyk9BFYR",
        "outputId": "0590a019-f740-4176-8f5d-4e4af4c44707"
      },
      "execution_count": 9,
      "outputs": [
        {
          "output_type": "execute_result",
          "data": {
            "text/html": [
              "\n",
              "  <div id=\"df-0ca9ea22-7b19-47ea-8c02-178d7155dddb\">\n",
              "    <div class=\"colab-df-container\">\n",
              "      <div>\n",
              "<style scoped>\n",
              "    .dataframe tbody tr th:only-of-type {\n",
              "        vertical-align: middle;\n",
              "    }\n",
              "\n",
              "    .dataframe tbody tr th {\n",
              "        vertical-align: top;\n",
              "    }\n",
              "\n",
              "    .dataframe thead th {\n",
              "        text-align: right;\n",
              "    }\n",
              "</style>\n",
              "<table border=\"1\" class=\"dataframe\">\n",
              "  <thead>\n",
              "    <tr style=\"text-align: right;\">\n",
              "      <th></th>\n",
              "      <th>category</th>\n",
              "      <th>tech2</th>\n",
              "      <th>fit</th>\n",
              "      <th>tech1</th>\n",
              "      <th>date</th>\n",
              "      <th>feature</th>\n",
              "      <th>similar_item</th>\n",
              "      <th>also_buy</th>\n",
              "      <th>also_view</th>\n",
              "      <th>price</th>\n",
              "      <th>description</th>\n",
              "      <th>imageURLHighRes</th>\n",
              "      <th>imageURL</th>\n",
              "      <th>brand</th>\n",
              "      <th>rank</th>\n",
              "      <th>details</th>\n",
              "      <th>title</th>\n",
              "      <th>main_cat</th>\n",
              "      <th>asin</th>\n",
              "    </tr>\n",
              "  </thead>\n",
              "  <tbody>\n",
              "    <tr>\n",
              "      <th>Number of NA</th>\n",
              "      <td>32892</td>\n",
              "      <td>32892</td>\n",
              "      <td>32892</td>\n",
              "      <td>32882</td>\n",
              "      <td>32873</td>\n",
              "      <td>32623</td>\n",
              "      <td>31588</td>\n",
              "      <td>26295</td>\n",
              "      <td>24760</td>\n",
              "      <td>21433</td>\n",
              "      <td>17773</td>\n",
              "      <td>16351</td>\n",
              "      <td>16351</td>\n",
              "      <td>15673</td>\n",
              "      <td>377</td>\n",
              "      <td>132</td>\n",
              "      <td>1</td>\n",
              "      <td>0</td>\n",
              "      <td>0</td>\n",
              "    </tr>\n",
              "  </tbody>\n",
              "</table>\n",
              "</div>\n",
              "      <button class=\"colab-df-convert\" onclick=\"convertToInteractive('df-0ca9ea22-7b19-47ea-8c02-178d7155dddb')\"\n",
              "              title=\"Convert this dataframe to an interactive table.\"\n",
              "              style=\"display:none;\">\n",
              "        \n",
              "  <svg xmlns=\"http://www.w3.org/2000/svg\" height=\"24px\"viewBox=\"0 0 24 24\"\n",
              "       width=\"24px\">\n",
              "    <path d=\"M0 0h24v24H0V0z\" fill=\"none\"/>\n",
              "    <path d=\"M18.56 5.44l.94 2.06.94-2.06 2.06-.94-2.06-.94-.94-2.06-.94 2.06-2.06.94zm-11 1L8.5 8.5l.94-2.06 2.06-.94-2.06-.94L8.5 2.5l-.94 2.06-2.06.94zm10 10l.94 2.06.94-2.06 2.06-.94-2.06-.94-.94-2.06-.94 2.06-2.06.94z\"/><path d=\"M17.41 7.96l-1.37-1.37c-.4-.4-.92-.59-1.43-.59-.52 0-1.04.2-1.43.59L10.3 9.45l-7.72 7.72c-.78.78-.78 2.05 0 2.83L4 21.41c.39.39.9.59 1.41.59.51 0 1.02-.2 1.41-.59l7.78-7.78 2.81-2.81c.8-.78.8-2.07 0-2.86zM5.41 20L4 18.59l7.72-7.72 1.47 1.35L5.41 20z\"/>\n",
              "  </svg>\n",
              "      </button>\n",
              "      \n",
              "  <style>\n",
              "    .colab-df-container {\n",
              "      display:flex;\n",
              "      flex-wrap:wrap;\n",
              "      gap: 12px;\n",
              "    }\n",
              "\n",
              "    .colab-df-convert {\n",
              "      background-color: #E8F0FE;\n",
              "      border: none;\n",
              "      border-radius: 50%;\n",
              "      cursor: pointer;\n",
              "      display: none;\n",
              "      fill: #1967D2;\n",
              "      height: 32px;\n",
              "      padding: 0 0 0 0;\n",
              "      width: 32px;\n",
              "    }\n",
              "\n",
              "    .colab-df-convert:hover {\n",
              "      background-color: #E2EBFA;\n",
              "      box-shadow: 0px 1px 2px rgba(60, 64, 67, 0.3), 0px 1px 3px 1px rgba(60, 64, 67, 0.15);\n",
              "      fill: #174EA6;\n",
              "    }\n",
              "\n",
              "    [theme=dark] .colab-df-convert {\n",
              "      background-color: #3B4455;\n",
              "      fill: #D2E3FC;\n",
              "    }\n",
              "\n",
              "    [theme=dark] .colab-df-convert:hover {\n",
              "      background-color: #434B5C;\n",
              "      box-shadow: 0px 1px 3px 1px rgba(0, 0, 0, 0.15);\n",
              "      filter: drop-shadow(0px 1px 2px rgba(0, 0, 0, 0.3));\n",
              "      fill: #FFFFFF;\n",
              "    }\n",
              "  </style>\n",
              "\n",
              "      <script>\n",
              "        const buttonEl =\n",
              "          document.querySelector('#df-0ca9ea22-7b19-47ea-8c02-178d7155dddb button.colab-df-convert');\n",
              "        buttonEl.style.display =\n",
              "          google.colab.kernel.accessAllowed ? 'block' : 'none';\n",
              "\n",
              "        async function convertToInteractive(key) {\n",
              "          const element = document.querySelector('#df-0ca9ea22-7b19-47ea-8c02-178d7155dddb');\n",
              "          const dataTable =\n",
              "            await google.colab.kernel.invokeFunction('convertToInteractive',\n",
              "                                                     [key], {});\n",
              "          if (!dataTable) return;\n",
              "\n",
              "          const docLinkHtml = 'Like what you see? Visit the ' +\n",
              "            '<a target=\"_blank\" href=https://colab.research.google.com/notebooks/data_table.ipynb>data table notebook</a>'\n",
              "            + ' to learn more about interactive tables.';\n",
              "          element.innerHTML = '';\n",
              "          dataTable['output_type'] = 'display_data';\n",
              "          await google.colab.output.renderOutput(dataTable, element);\n",
              "          const docLink = document.createElement('div');\n",
              "          docLink.innerHTML = docLinkHtml;\n",
              "          element.appendChild(docLink);\n",
              "        }\n",
              "      </script>\n",
              "    </div>\n",
              "  </div>\n",
              "  "
            ],
            "text/plain": [
              "              category  tech2    fit  tech1  ...  details  title  main_cat  asin\n",
              "Number of NA     32892  32892  32892  32882  ...      132      1         0     0\n",
              "\n",
              "[1 rows x 19 columns]"
            ]
          },
          "metadata": {},
          "execution_count": 9
        }
      ],
      "id": "kn0tlyk9BFYR"
    },
    {
      "cell_type": "code",
      "source": [
        "print('# main_cat:', metadata['main_cat'].unique())\n",
        "print('# similar_item:', metadata['similar_item'].unique())\n",
        "print('# details:', metadata['details'].sample(5))"
      ],
      "metadata": {
        "colab": {
          "base_uri": "https://localhost:8080/"
        },
        "id": "fyANlkXYLWt_",
        "outputId": "0172db24-dc6c-4b4f-b22d-02802b5ca667"
      },
      "execution_count": 10,
      "outputs": [
        {
          "output_type": "stream",
          "name": "stdout",
          "text": [
            "# main_cat: ['All Beauty']\n",
            "# similar_item: [''\n",
            " ' class=\"a-bordered a-horizontal-stripes  a-spacing-extra-large a-size-base comparison_table\">\\n\\n\\n\\n            \\n            \\n            \\n            \\n            \\n            <tr class=\"comparison_table_image_row\">\\n                <td class=\"comparison_table_first_col\"></td>\\n\\n\\n                <th class=\"comparison_image_title_cell\" role=\"columnheader\">\\n                    <div class=\"a-row a-spacing-top-micro\">\\n                        <center>\\n                             <img alt=\"No7 Lift &amp; Luminate Triple Action Serum 50ml by Boots\" src=\"https://images-na.ssl-images-amazon.com/images/I/31gXVsxM7FL._SL500_AC_SS350_.jpg\" id=\"comparison_image\">\\n                        </center>\\n                    </div>\\n                    <div class=\"a-row a-spacing-top-small\">\\n                        <div id=\"comparison_title\" class=\"a-section a-spacing-none\">\\n                            <span aria-hidden=\"true\" class=\"a-size-base a-color-base a-text-bold\">\\n                                This item\\n                            </span>\\n                            <span aria-hidden=\"true\" class=\"a-size-base a-color-base\">No7 Lift & Luminate Triple Action Serum 50ml by Boots</span>\\n                        </div>\\n                        \\n                        \\n                    </div>\\n                </th>\\n\\n\\n                \\n                    <th class=\"comparison_image_title_cell comparable_item0\" role=\"columnheader\">\\n                        <a class=\"a-link-normal\" target=\"_self\" rel=\"noopener\" href=\"/dp/B01MR3GO4Q/ref=psdc_10304191_t1_7178680776\">\\n                          <div class=\"a-row a-spacing-top-micro\">\\n                            <center>\\n                                <img alt=\"\" src=\"https://images-na.ssl-images-amazon.com/images/I/31DbyNpwS6L._SL500_AC_SS350_.jpg\" aria-hidden=\"true\" id=\"comparison_image0\">\\n                            </center>\\n                          </div>\\n                          <div id=\"comparison_title0\" class=\"a-row a-spacing-top-small\">\\n                            <span class=\"a-size-base\">No7 Lift & Luminate Triple Action Serum 30ml by No. 7</span>\\n                          </div>\\n                        </a>\\n                        \\n                        \\n                    </th>\\n                \\n                    <th class=\"comparison_image_title_cell comparable_item1\" role=\"columnheader\">\\n                        <a class=\"a-link-normal\" target=\"_self\" rel=\"noopener\" href=\"/dp/B07C9JCYVN/ref=psdc_10304191_t2_7178680776\">\\n                          <div class=\"a-row a-spacing-top-micro\">\\n                            <center>\\n                                <img alt=\"\" src=\"https://images-na.ssl-images-amazon.com/images/I/31wxN2ktk0L._SL500_AC_SS350_.jpg\" aria-hidden=\"true\" id=\"comparison_image1\">\\n                            </center>\\n                          </div>\\n                          <div id=\"comparison_title1\" class=\"a-row a-spacing-top-small\">\\n                            <span class=\"a-size-base\">No7 Lift & Luminate TRIPLE ACTION serum 30ml</span>\\n                          </div>\\n                        </a>\\n                        \\n                        \\n                    </th>\\n                \\n                    <th class=\"comparison_image_title_cell comparable_item2\" role=\"columnheader\">\\n                        <a class=\"a-link-normal\" target=\"_self\" rel=\"noopener\" href=\"/dp/B07BRW8GLB/ref=psdc_10304191_t3_7178680776\">\\n                          <div class=\"a-row a-spacing-top-micro\">\\n                            <center>\\n                                <img alt=\"\" src=\"https://images-na.ssl-images-amazon.com/images/I/312qgBGzYIL._SL500_AC_SS350_.jpg\" aria-hidden=\"true\" id=\"comparison_image2\">\\n                            </center>\\n                          </div>\\n                          <div id=\"comparison_title2\" class=\"a-row a-spacing-top-small\">\\n                            <span class=\"a-size-base\">No7 Lift & Luminate TRIPLE ACTION serum 50ml</span>\\n                          </div>\\n                        </a>\\n                        \\n                        \\n                    </th>\\n                \\n            </tr>\\n\\n\\n            <tr></tr>\\n\\n\\n            \\n            \\n            <tr>\\n                <td class=\"comparison_table_first_col\"></td>\\n\\n\\n                <td class=\"comparison_add_to_cart_button\">\\n                    \\n                        \\n                        \\n                        \\n                            <span id=\"comparison_add_to_cart_button\" class=\"a-button a-spacing-small a-button-primary\"><span class=\"a-button-inner\"><a id=\"comparison_add_to_cart_button-announce\" href=\"/gp/item-dispatch/ref=psdc_10304191_a0_7178680776?ie=UTF8&amp;itemCount=1&amp;nodeID=3760911&amp;offeringID.1=W6l6LwsL5gLn7uyFt9tySXWhTMMnEU%252FfPAftuVlq1885UDuQDqwHP5A%252FaBX4vqcYs35f6NMrZIt2WzP3yG%252F7yHXs7oiPYagr9xCRDEYUifZSkT8NBOQlGq7ntMgpFHa5Qtn69KUaBkzU2HKxhvoQlvOTZGdMKJP0&amp;storeID=beauty&amp;session-id=133-6532085-6397842&amp;submit.addToCart=addToCart&amp;signInToHUC=0\" class=\"a-button-text\" role=\"button\">Add to Cart</a></span></span>\\n                        \\n                    \\n                </td>\\n\\n\\n                \\n                    <td class=\"a-text-left comparison_add_to_cart_button comparable_item0\">\\n                        \\n                            \\n                            \\n                                <span id=\"comparison_add_to_cart_button0\" class=\"a-button a-spacing-small a-button-primary\"><span class=\"a-button-inner\"><a id=\"comparison_add_to_cart_button0-announce\" href=\"/gp/item-dispatch/ref=psdc_10304191_a1_7178680776?ie=UTF8&amp;itemCount=1&amp;nodeID=3760911&amp;offeringID.1=W6l6LwsL5gJRe%252F5c0t96vd7Ahu1%252BCE1lkkaz%252FaDnhWEGTBGzYZ46IOhYDHdQ5OdJX5NS76hXorvAm5F4Qr1FxCmiy3LAui9L2UoxGfXdP1b5pFr9HWGvbLjxC1pXjGZFZ%252FFyrHiGLigLxCPpbBt44l9lMrIQ%252BPov&amp;storeID=beauty&amp;session-id=133-6532085-6397842&amp;submit.addToCart=addToCart&amp;signInToHUC=0\" class=\"a-button-text\" role=\"button\">Add to Cart</a></span></span>\\n                            \\n                        \\n                    </td>\\n                \\n                    <td class=\"a-text-left comparison_add_to_cart_button comparable_item1\">\\n                        \\n                            \\n                            \\n                                <span id=\"comparison_add_to_cart_button1\" class=\"a-button a-spacing-small a-button-primary\"><span class=\"a-button-inner\"><a id=\"comparison_add_to_cart_button1-announce\" href=\"/gp/item-dispatch/ref=psdc_10304191_a2_7178680776?ie=UTF8&amp;itemCount=1&amp;nodeID=3760911&amp;offeringID.1=Amwnpg%252B%252B4Gpkd9AwQPI%252BDaaBvwC7FlgX9C4hCvU88I%252FoXkGhZ4AX0NO4EvwKVeTevj7P5U%252BNU0Phta9ZOE64BiNyfMfwueAjqDvP7Va5zCDZPnakxY%252BepDaeqarkLpB9uoToockuI%252FVKbtTg4i6ehyJjyNBQlmSz&amp;storeID=beauty&amp;session-id=133-6532085-6397842&amp;submit.addToCart=addToCart&amp;signInToHUC=0\" class=\"a-button-text\" role=\"button\">Add to Cart</a></span></span>\\n                            \\n                        \\n                    </td>\\n                \\n                    <td class=\"a-text-left comparison_add_to_cart_button comparable_item2\">\\n                        \\n                            \\n                            \\n                                <span id=\"comparison_add_to_cart_button2\" class=\"a-button a-spacing-small a-button-primary\"><span class=\"a-button-inner\"><a id=\"comparison_add_to_cart_button2-announce\" href=\"/gp/item-dispatch/ref=psdc_10304191_a3_7178680776?ie=UTF8&amp;itemCount=1&amp;nodeID=3760911&amp;offeringID.1=W6l6LwsL5gI1yl8D9h3ZWsHPRKTueez6XTV6v%252Fj%252BnN%252Fv4r5xYLWej1y0XEnimioRuaYpdWDfPOgKGatUcQh9mSSDD1MYxYpLR1RUk0N0d1JPXwVsIM8UGA1%252FldzGb8m1SZRyYP%252Fge4vscvk3sx7Cdg%253D%253D&amp;storeID=beauty&amp;session-id=133-6532085-6397842&amp;submit.addToCart=addToCart&amp;signInToHUC=0\" class=\"a-button-text\" role=\"button\">Add to Cart</a></span></span>\\n                            \\n                        \\n                    </td>\\n                \\n            </tr>\\n\\n\\n            <tr id=\"comparison_custormer_rating_row\">\\n                \\n                \\n                \\n                \\n\\n                <th class=\"comparison_attribute_name_column comparison_table_first_col\" role=\"rowheader\">\\n                    <span class=\"a-size-base a-color-base\">Customer Rating</span>\\n                </th>\\n\\n\\n                <td class=\"comparison_baseitem_column\">\\n                    \\n                    \\n                    \\n                    <span>\\n                        <span class=\"a-declarative\" data-action=\"a-popover\" data-a-popover=\"{&quot;max-width&quot;:&quot;700&quot;,&quot;closeButton&quot;:&quot;false&quot;,&quot;position&quot;:&quot;triggerBottom&quot;,&quot;url&quot;:&quot; /gp/customer-reviews/widgets/average-customer-review/popover/ref=acr_dpComparsion__popover?contextId=dpComparsion&amp;asin=7178680776 &quot;,&quot;restoreFocusOnHide&quot;:&quot;false&quot;}\">\\n                            <i class=\"a-icon a-icon-star a-star-4 a-spacing-none\"><span class=\"a-icon-alt\">4 out of 5 stars</span></i>\\n                        </span>\\n                        <a class=\"a-link-normal\" target=\"_self\" rel=\"noopener\" href=\"/product-reviews/7178680776/ref=psdc_10304191_r0_7178680776?_encoding=UTF8&amp;showViewpoints=1\">(2)</a>\\n                        <span class=\"a-letter-space\"></span>\\n                    </span>\\n                </td>\\n\\n\\n                \\n                    <td class=\"comparison_sim_items_column comparable_item0\">\\n                        \\n                        \\n                        \\n                        <span>\\n                            <span class=\"a-declarative\" data-action=\"a-popover\" data-a-popover=\"{&quot;max-width&quot;:&quot;700&quot;,&quot;closeButton&quot;:&quot;false&quot;,&quot;position&quot;:&quot;triggerBottom&quot;,&quot;url&quot;:&quot; /gp/customer-reviews/widgets/average-customer-review/popover/ref=acr_dpComparsion__popover?contextId=dpComparsion&amp;asin=B01MR3GO4Q &quot;,&quot;restoreFocusOnHide&quot;:&quot;false&quot;}\">\\n                                <i class=\"a-icon a-icon-star a-star-0 a-spacing-none\"><span class=\"a-icon-alt\">0 out of 5 stars</span></i>\\n                            </span>\\n                            <a class=\"a-link-normal\" target=\"_self\" rel=\"noopener\" href=\"/product-reviews/B01MR3GO4Q/ref=psdc_10304191_r1_7178680776?_encoding=UTF8&amp;showViewpoints=1\">(0)</a>\\n                            <span class=\"a-letter-space\"></span>\\n                        </span>\\n                    </td>\\n                \\n                    <td class=\"comparison_sim_items_column comparable_item1\">\\n                        \\n                        \\n                        \\n                        <span>\\n                            <span class=\"a-declarative\" data-action=\"a-popover\" data-a-popover=\"{&quot;max-width&quot;:&quot;700&quot;,&quot;closeButton&quot;:&quot;false&quot;,&quot;position&quot;:&quot;triggerBottom&quot;,&quot;url&quot;:&quot; /gp/customer-reviews/widgets/average-customer-review/popover/ref=acr_dpComparsion__popover?contextId=dpComparsion&amp;asin=B07C9JCYVN &quot;,&quot;restoreFocusOnHide&quot;:&quot;false&quot;}\">\\n                                <i class=\"a-icon a-icon-star a-star-0 a-spacing-none\"><span class=\"a-icon-alt\">0 out of 5 stars</span></i>\\n                            </span>\\n                            <a class=\"a-link-normal\" target=\"_self\" rel=\"noopener\" href=\"/product-reviews/B07C9JCYVN/ref=psdc_10304191_r2_7178680776?_encoding=UTF8&amp;showViewpoints=1\">(0)</a>\\n                            <span class=\"a-letter-space\"></span>\\n                        </span>\\n                    </td>\\n                \\n                    <td class=\"comparison_sim_items_column comparable_item2\">\\n                        \\n                        \\n                        \\n                        <span>\\n                            <span class=\"a-declarative\" data-action=\"a-popover\" data-a-popover=\"{&quot;max-width&quot;:&quot;700&quot;,&quot;closeButton&quot;:&quot;false&quot;,&quot;position&quot;:&quot;triggerBottom&quot;,&quot;url&quot;:&quot; /gp/customer-reviews/widgets/average-customer-review/popover/ref=acr_dpComparsion__popover?contextId=dpComparsion&amp;asin=B07BRW8GLB &quot;,&quot;restoreFocusOnHide&quot;:&quot;false&quot;}\">\\n                                <i class=\"a-icon a-icon-star a-star-0 a-spacing-none\"><span class=\"a-icon-alt\">0 out of 5 stars</span></i>\\n                            </span>\\n                            <a class=\"a-link-normal\" target=\"_self\" rel=\"noopener\" href=\"/product-reviews/B07BRW8GLB/ref=psdc_10304191_r3_7178680776?_encoding=UTF8&amp;showViewpoints=1\">(0)</a>\\n                            <span class=\"a-letter-space\"></span>\\n                        </span>\\n                    </td>\\n                \\n            </tr>\\n\\n\\n            <tr id=\"comparison_price_row\">\\n                <th class=\"comparison_attribute_name_column comparison_table_first_col\" role=\"rowheader\">\\n                    <span class=\"a-size-base a-color-base\">Price</span>\\n                </th>\\n\\n\\n                <td class=\"comparison_baseitem_column\">\\n                    \\n                        \\n                        \\n                        \\n                        \\n                            \\n                                \\n                                    <span class=\"a-price\" data-a-size=\"l\" data-a-color=\"base\"><span class=\"a-offscreen\">$44.99</span><span aria-hidden=\"true\"><span class=\"a-price-symbol\">$</span><span class=\"a-price-whole\">44<span class=\"a-price-decimal\">\\x00</span></span><span class=\"a-price-fraction\">99</span></span></span>\\n                                \\n                                \\n                            \\n                        \\n                    \\n                </td>\\n\\n\\n                \\n                    <td class=\"comparison_sim_items_column comparable_item0\">\\n                    \\n                        \\n                        \\n                        \\n                            \\n                                \\n                                    <span class=\"a-price\" data-a-size=\"l\" data-a-color=\"base\"><span class=\"a-offscreen\">$29.98</span><span aria-hidden=\"true\"><span class=\"a-price-symbol\">$</span><span class=\"a-price-whole\">29<span class=\"a-price-decimal\">\\x00</span></span><span class=\"a-price-fraction\">98</span></span></span>\\n                                \\n                                \\n                            \\n                        \\n                    \\n                    </td>\\n                \\n                    <td class=\"comparison_sim_items_column comparable_item1\">\\n                    \\n                        \\n                        \\n                        \\n                            \\n                                \\n                                    <span class=\"a-price\" data-a-size=\"l\" data-a-color=\"base\"><span class=\"a-offscreen\">$22.95</span><span aria-hidden=\"true\"><span class=\"a-price-symbol\">$</span><span class=\"a-price-whole\">22<span class=\"a-price-decimal\">\\x00</span></span><span class=\"a-price-fraction\">95</span></span></span>\\n                                \\n                                \\n                            \\n                        \\n                    \\n                    </td>\\n                \\n                    <td class=\"comparison_sim_items_column comparable_item2\">\\n                    \\n                        \\n                        \\n                        \\n                            \\n                                \\n                                    <span class=\"a-price\" data-a-size=\"l\" data-a-color=\"base\"><span class=\"a-offscreen\">$59.99</span><span aria-hidden=\"true\"><span class=\"a-price-symbol\">$</span><span class=\"a-price-whole\">59<span class=\"a-price-decimal\">\\x00</span></span><span class=\"a-price-fraction\">99</span></span></span>\\n                                \\n                                \\n                            \\n                        \\n                    \\n                    </td>\\n                \\n            </tr>\\n\\n\\n    \\n                <tr id=\"comparison_shipping_info_row\">\\n                    <th class=\"comparison_attribute_name_column comparison_table_first_col\" role=\"rowheader\">\\n                        <span class=\"a-size-base a-color-base\">Shipping</span>\\n                    </th>\\n\\n    \\n                    <td class=\"comparison_baseitem_column\">\\n                        \\n                            \\n                            \\n                            \\n                                <span class=\"a-size-base a-color-base\">Eligible for FREE Shipping</span>\\n                            \\n                            \\n                            \\n                            \\n                            \\n                        \\n                    </td>\\n\\n    \\n                    \\n                        <td class=\"comparison_sim_items_column comparable_item0\">\\n                            \\n                                \\n                                \\n                                    <span class=\"a-size-base a-color-base\">Eligible for FREE Shipping</span>\\n                                \\n                                \\n                                \\n                                \\n                                \\n                            \\n                        </td>\\n                    \\n                        <td class=\"comparison_sim_items_column comparable_item1\">\\n                            \\n                                \\n                                \\n                                \\n                                \\n                                \\n                                    <span class=\"a-size-base a-color-price a-text-bold\">$6.49</span>\\n                                \\n                                \\n                            \\n                        </td>\\n                    \\n                        <td class=\"comparison_sim_items_column comparable_item2\">\\n                            \\n                                \\n                                \\n                                \\n                                \\n                                \\n                                    <span class=\"a-size-base a-color-price a-text-bold\">$7.49</span>\\n                                \\n                                \\n                            \\n                        </td>\\n                    \\n                </tr>\\n\\n\\n\\n            <tr id=\"comparison_sold_by_row\">\\n                <th class=\"comparison_attribute_name_column comparison_table_first_col\" role=\"rowheader\">\\n                    <span class=\"a-size-base a-color-base\">Sold By</span>\\n                </th>\\n\\n  \\n                <td class=\"comparison_baseitem_column\">\\n                    \\n                        \\n                        \\n                        \\n                            <a class=\"a-spacing-top-small a-link-normal\" target=\"_self\" rel=\"noopener\" href=\"/gp/help/seller/at-a-glance.html/ref=psdc_10304191_s0_7178680776?ie=UTF8&amp;seller=A3956JYB8ZMS1F&amp;isAmazonFulfilled=1\">Best Skincare Inc.</a>\\n                        \\n                     \\n                </td>\\n\\n\\n                \\n                    <td class=\"comparison_sim_items_column comparable_item0\">\\n                         \\n                            \\n                         \\n                             <a class=\"a-spacing-top-small a-link-normal\" target=\"_self\" rel=\"noopener\" href=\"/gp/help/seller/at-a-glance.html/ref=psdc_10304191_s1_7178680776?ie=UTF8&amp;seller=ATWWOXPMRKSFC&amp;isAmazonFulfilled=1\">Sender\\'s Store</a>\\n                         \\n                         \\n                     </td>\\n                \\n                    <td class=\"comparison_sim_items_column comparable_item1\">\\n                         \\n                            \\n                         \\n                             <a class=\"a-spacing-top-small a-link-normal\" target=\"_self\" rel=\"noopener\" href=\"/gp/help/seller/at-a-glance.html/ref=psdc_10304191_s2_7178680776?ie=UTF8&amp;seller=A1M0RAJTDTZ2P1\">Beauty-Online</a>\\n                         \\n                         \\n                     </td>\\n                \\n                    <td class=\"comparison_sim_items_column comparable_item2\">\\n                         \\n                            \\n                         \\n                             <a class=\"a-spacing-top-small a-link-normal\" target=\"_self\" rel=\"noopener\" href=\"/gp/help/seller/at-a-glance.html/ref=psdc_10304191_s3_7178680776?ie=UTF8&amp;seller=A3EQXKK9ZNX68T\">Southeast  Depot</a>\\n                         \\n                         \\n                     </td>\\n                \\n             </tr>\\n\\n\\n            \\n       '\n",
            " ' class=\"a-bordered a-horizontal-stripes  a-spacing-extra-large a-size-base comparison_table\">\\n\\n\\n\\n            \\n            \\n            \\n            \\n            \\n            <tbody><tr class=\"comparison_table_image_row\">\\n                <td class=\"comparison_table_first_col\"></td>\\n\\n\\n                <th class=\"comparison_image_title_cell\" role=\"columnheader\">\\n                    <div class=\"a-row a-spacing-top-micro\">\\n                        <center>\\n                             <img alt=\"Dual Jet Bath Spa\" src=\"https://images-na.ssl-images-amazon.com/images/I/11BZZ0G5FRL._SL500_AC_SS350_.jpg\" id=\"comparison_image\" />\\n                        </center>\\n                    </div>\\n                    <div class=\"a-row a-spacing-top-small\">\\n                        <div id=\"comparison_title\" class=\"a-section a-spacing-none\">\\n                            <span aria-hidden=\"true\" class=\"a-size-base a-color-base a-text-bold\">\\n                                This item\\n                            </span>\\n                            <span aria-hidden=\"true\" class=\"a-size-base a-color-base\">Dual Jet Bath Spa</span>\\n                        </div>\\n                        \\n                        \\n                    </div>\\n                </th>\\n\\n\\n                \\n                    <th class=\"comparison_image_title_cell comparable_item0\" role=\"columnheader\">\\n                        <a class=\"a-link-normal\" target=\"_self\" rel=\"noopener\" href=\"/dp/B00005A44E/ref=psdc_10304191_t1_B000067EE4\">\\n                          <div class=\"a-row a-spacing-top-micro\">\\n                            <center>\\n                                <img alt=\"\" src=\"https://images-na.ssl-images-amazon.com/images/I/418NWF32K6L._SL500_AC_SS350_.jpg\" aria-hidden=\"true\" id=\"comparison_image0\" />\\n                            </center>\\n                          </div>\\n                          <div id=\"comparison_title0\" class=\"a-row a-spacing-top-small\">\\n                            <span class=\"a-size-base\">Conair MBTS3 Thermal Spa Bathmat Bubble Massager</span>\\n                          </div>\\n                        </a>\\n                        \\n                        \\n                    </th>\\n                \\n                    <th class=\"comparison_image_title_cell comparable_item1\" role=\"columnheader\">\\n                        <a class=\"a-link-normal\" target=\"_self\" rel=\"noopener\" href=\"/dp/B005NWFA5K/ref=psdc_10304191_t2_B000067EE4\">\\n                          <div class=\"a-row a-spacing-top-micro\">\\n                            <center>\\n                                <img alt=\"\" src=\"https://images-na.ssl-images-amazon.com/images/I/41-aeWDiisL._SL500_AC_SS350_.jpg\" aria-hidden=\"true\" id=\"comparison_image1\" />\\n                            </center>\\n                          </div>\\n                          <div id=\"comparison_title1\" class=\"a-row a-spacing-top-small\">\\n                            <span class=\"a-size-base\">Conair Hr10 Heated Hot Stone Rock Warmer Bath Spa Therapy</span>\\n                          </div>\\n                        </a>\\n                        \\n                        \\n                    </th>\\n                \\n                    <th class=\"comparison_image_title_cell comparable_item2\" role=\"columnheader\">\\n                        <a class=\"a-link-normal\" target=\"_self\" rel=\"noopener\" href=\"/dp/B01B0O4KJQ/ref=psdc_10304191_t3_B000067EE4\">\\n                          <div class=\"a-row a-spacing-top-micro\">\\n                            <center>\\n                                <img alt=\"\" src=\"https://images-na.ssl-images-amazon.com/images/I/41Z5uu%2BJSOL._SL500_AC_SS350_.jpg\" aria-hidden=\"true\" id=\"comparison_image2\" />\\n                            </center>\\n                          </div>\\n                          <div id=\"comparison_title2\" class=\"a-row a-spacing-top-small\">\\n                            <span class=\"a-size-base\">Bathtub Heater - \"Thermal Wrap\" Heater w/ Installation Kit - fits most bathtubs</span>\\n                          </div>\\n                        </a>\\n                        \\n                        \\n                    </th>\\n                \\n                    <th class=\"comparison_image_title_cell comparable_item3\" role=\"columnheader\">\\n                        <a class=\"a-link-normal\" target=\"_self\" rel=\"noopener\" href=\"/dp/B000063TL2/ref=psdc_10304191_t4_B000067EE4\">\\n                          <div class=\"a-row a-spacing-top-micro\">\\n                            <center>\\n                                <img alt=\"\" src=\"https://images-na.ssl-images-amazon.com/images/I/41Z9RVRR58L._SL500_AC_SS350_.jpg\" aria-hidden=\"true\" id=\"comparison_image3\" />\\n                            </center>\\n                          </div>\\n                          <div id=\"comparison_title3\" class=\"a-row a-spacing-top-small\">\\n                            <span class=\"a-size-base\">HoMedics BMAT-5 Bubble Spa Bath Mat Massager with PVC Mat and Touch Pad Control</span>\\n                          </div>\\n                        </a>\\n                        \\n                        \\n                    </th>\\n                \\n            </tr>\\n\\n\\n            <tr></tr>\\n\\n\\n            \\n            \\n            <tr>\\n                <td class=\"comparison_table_first_col\"></td>\\n\\n\\n                <td class=\"comparison_add_to_cart_button\">\\n                    \\n                        \\n                        \\n                        \\n                            <span id=\"comparison_add_to_cart_button\" class=\"a-button a-spacing-small a-button-primary\"><span class=\"a-button-inner\"><a id=\"comparison_add_to_cart_button-announce\" href=\"/gp/item-dispatch/ref=psdc_10304191_a0_B000067EE4?ie=UTF8&amp;itemCount=1&amp;nodeID=3760911&amp;offeringID.1=9RB1Gk87XRGidhPHLaoP%252BvXTDqsGI9j7hLkEhiBWpItwD7arYGfKm4Tuzu0BNqhPF2kYKwJY9MPVyR4YHjTu19qdWxdQsNpajAE55v1ZjK6%252FWwS%252ByDFwAIF2d%252BIv5eyJO2Qxec569zCGh7fp0T%252BbLw%253D%253D&amp;storeID=beauty&amp;session-id=137-9151311-2769708&amp;submit.addToCart=addToCart&amp;signInToHUC=0\" class=\"a-button-text\" role=\"button\">Add to Cart</a></span></span>\\n                        \\n                    \\n                </td>\\n\\n\\n                \\n                    <td class=\"a-text-left comparison_add_to_cart_button comparable_item0\">\\n                        \\n                            \\n                            \\n                                <span id=\"comparison_add_to_cart_button0\" class=\"a-button a-spacing-small a-button-primary\"><span class=\"a-button-inner\"><a id=\"comparison_add_to_cart_button0-announce\" href=\"/gp/item-dispatch/ref=psdc_10304191_a1_B000067EE4?ie=UTF8&amp;itemCount=1&amp;nodeID=3760901&amp;offeringID.1=9RB1Gk87XRGidhPHLaoP%252BgZHKTVyqXxOo7e82LHYM8%252FcMiI3n4NWMztMc32LwNX98%252F1RAmDCKAdBo4eFaWsEYYPekA84HfdR9nfVxNDB4UJI%252FCIuyn%252BVVPSlli%252Fnw123QO0PhjmcL%252F5%252FjUUgtKd3Fg%253D%253D&amp;storeID=hpc&amp;session-id=137-9151311-2769708&amp;submit.addToCart=addToCart&amp;signInToHUC=0\" class=\"a-button-text\" role=\"button\">Add to Cart</a></span></span>\\n                            \\n                        \\n                    </td>\\n                \\n                    <td class=\"a-text-left comparison_add_to_cart_button comparable_item1\">\\n                        \\n                            \\n                            \\n                                <span id=\"comparison_add_to_cart_button1\" class=\"a-button a-spacing-small a-button-primary\"><span class=\"a-button-inner\"><a id=\"comparison_add_to_cart_button1-announce\" href=\"/gp/item-dispatch/ref=psdc_10304191_a2_B000067EE4?ie=UTF8&amp;itemCount=1&amp;nodeID=&amp;offeringID.1=9RB1Gk87XRGidhPHLaoP%252Bu9CTZV51hGtboDe%252FHcDmPZ3jN9uPFeafb6zBtjelD%252FnQRjmumjzzdEnFGJ2p%252FKdcN%252ByuzuuGu%252BU%252BHEzPhuhvMNAhWHErjp3kCn9jQLssSuzo1caRZsH1m134HLiIjeGVA%253D%253D&amp;storeID=miscellaneous&amp;session-id=137-9151311-2769708&amp;submit.addToCart=addToCart&amp;signInToHUC=0\" class=\"a-button-text\" role=\"button\">Add to Cart</a></span></span>\\n                            \\n                        \\n                    </td>\\n                \\n                    <td class=\"a-text-left comparison_add_to_cart_button comparable_item2\">\\n                        \\n                            \\n                            \\n                                <span id=\"comparison_add_to_cart_button2\" class=\"a-button a-spacing-small a-button-primary\"><span class=\"a-button-inner\"><a id=\"comparison_add_to_cart_button2-announce\" href=\"/gp/item-dispatch/ref=psdc_10304191_a3_B000067EE4?ie=UTF8&amp;itemCount=1&amp;nodeID=&amp;offeringID.1=9RB1Gk87XRGKH6m6q3zeQR3Jz9BHnMxEo1UzktxoOnQRuJYqyythNJ0pZH3lkUMSYXK6g%252BuNx936V%252BQ7y%252F8VSGD1bbF5KCfU6aC6EcV7r15S4AuYEityH0o9FTgmME92bIKenAriuxo%252BJ5NABfQdF27xgMQyUl%252Fk&amp;storeID=miscellaneous&amp;session-id=137-9151311-2769708&amp;submit.addToCart=addToCart&amp;signInToHUC=0\" class=\"a-button-text\" role=\"button\">Add to Cart</a></span></span>\\n                            \\n                        \\n                    </td>\\n                \\n                    <td class=\"a-text-left comparison_add_to_cart_button comparable_item3\">\\n                        \\n                            \\n                            \\n                                <span id=\"comparison_add_to_cart_button3\" class=\"a-button a-spacing-small a-button-primary\"><span class=\"a-button-inner\"><a id=\"comparison_add_to_cart_button3-announce\" href=\"/gp/item-dispatch/ref=psdc_10304191_a4_B000067EE4?ie=UTF8&amp;itemCount=1&amp;nodeID=3760901&amp;offeringID.1=9RB1Gk87XRGidhPHLaoP%252BvhfCBaTmVRCfQwxfjU8ZlZpR2NgdW3AVf9khtMNDM9HLu%252FonNJPA8DNfsqxd1GrqrRZjnUig2IZwKiG1ivzBrVCTzJgPtR7iAUFkpMqU%252BVH8EF1Wr0EOfgJ1lP9FZb1oQ%253D%253D&amp;storeID=hpc&amp;session-id=137-9151311-2769708&amp;submit.addToCart=addToCart&amp;signInToHUC=0\" class=\"a-button-text\" role=\"button\">Add to Cart</a></span></span>\\n                            \\n                        \\n                    </td>\\n                \\n            </tr>\\n\\n\\n            <tr id=\"comparison_custormer_rating_row\">\\n                \\n                \\n                \\n                \\n\\n                <th class=\"comparison_attribute_name_column comparison_table_first_col\" role=\"rowheader\">\\n                    <span class=\"a-size-base a-color-base\">Customer Rating</span>\\n                </th>\\n\\n\\n                <td class=\"comparison_baseitem_column\">\\n                    \\n                    \\n                    \\n                    <span>\\n                        <span class=\"a-declarative\" data-action=\"a-popover\" data-a-popover=\"{&quot;max-width&quot;:&quot;700&quot;,&quot;closeButton&quot;:&quot;false&quot;,&quot;position&quot;:&quot;triggerBottom&quot;,&quot;url&quot;:&quot; /gp/customer-reviews/widgets/average-customer-review/popover/ref=acr_dpComparsion__popover?contextId=dpComparsion&amp;asin=B000067EE4 &quot;,&quot;restoreFocusOnHide&quot;:&quot;false&quot;}\">\\n                            <i class=\"a-icon a-icon-star a-star-2-5 a-spacing-none\"><span class=\"a-icon-alt\">2 out of 5 stars</span></i>\\n                        </span>\\n                        <a class=\"a-link-normal\" target=\"_self\" rel=\"noopener\" href=\"/product-reviews/B000067EE4/ref=psdc_10304191_r0_B000067EE4?_encoding=UTF8&amp;showViewpoints=1\">(8)</a>\\n                        <span class=\"a-letter-space\"></span>\\n                    </span>\\n                </td>\\n\\n\\n                \\n                    <td class=\"comparison_sim_items_column comparable_item0\">\\n                        \\n                        \\n                        \\n                        <span>\\n                            <span class=\"a-declarative\" data-action=\"a-popover\" data-a-popover=\"{&quot;max-width&quot;:&quot;700&quot;,&quot;closeButton&quot;:&quot;false&quot;,&quot;position&quot;:&quot;triggerBottom&quot;,&quot;url&quot;:&quot; /gp/customer-reviews/widgets/average-customer-review/popover/ref=acr_dpComparsion__popover?contextId=dpComparsion&amp;asin=B00005A44E &quot;,&quot;restoreFocusOnHide&quot;:&quot;false&quot;}\">\\n                                <i class=\"a-icon a-icon-star a-star-3-5 a-spacing-none\"><span class=\"a-icon-alt\">3 out of 5 stars</span></i>\\n                            </span>\\n                            <a class=\"a-link-normal\" target=\"_self\" rel=\"noopener\" href=\"/product-reviews/B00005A44E/ref=psdc_10304191_r1_B000067EE4?_encoding=UTF8&amp;showViewpoints=1\">(19)</a>\\n                            <span class=\"a-letter-space\"></span>\\n                        </span>\\n                    </td>\\n                \\n                    <td class=\"comparison_sim_items_column comparable_item1\">\\n                        \\n                        \\n                        \\n                        <span>\\n                            <span class=\"a-declarative\" data-action=\"a-popover\" data-a-popover=\"{&quot;max-width&quot;:&quot;700&quot;,&quot;closeButton&quot;:&quot;false&quot;,&quot;position&quot;:&quot;triggerBottom&quot;,&quot;url&quot;:&quot; /gp/customer-reviews/widgets/average-customer-review/popover/ref=acr_dpComparsion__popover?contextId=dpComparsion&amp;asin=B005NWFA5K &quot;,&quot;restoreFocusOnHide&quot;:&quot;false&quot;}\">\\n                                <i class=\"a-icon a-icon-star a-star-2-5 a-spacing-none\"><span class=\"a-icon-alt\">2 out of 5 stars</span></i>\\n                            </span>\\n                            <a class=\"a-link-normal\" target=\"_self\" rel=\"noopener\" href=\"/product-reviews/B005NWFA5K/ref=psdc_10304191_r2_B000067EE4?_encoding=UTF8&amp;showViewpoints=1\">(4)</a>\\n                            <span class=\"a-letter-space\"></span>\\n                        </span>\\n                    </td>\\n                \\n                    <td class=\"comparison_sim_items_column comparable_item2\">\\n                        \\n                        \\n                        \\n                        <span>\\n                            <span class=\"a-declarative\" data-action=\"a-popover\" data-a-popover=\"{&quot;max-width&quot;:&quot;700&quot;,&quot;closeButton&quot;:&quot;false&quot;,&quot;position&quot;:&quot;triggerBottom&quot;,&quot;url&quot;:&quot; /gp/customer-reviews/widgets/average-customer-review/popover/ref=acr_dpComparsion__popover?contextId=dpComparsion&amp;asin=B01B0O4KJQ &quot;,&quot;restoreFocusOnHide&quot;:&quot;false&quot;}\">\\n                                <i class=\"a-icon a-icon-star a-star-0 a-spacing-none\"><span class=\"a-icon-alt\">0 out of 5 stars</span></i>\\n                            </span>\\n                            <a class=\"a-link-normal\" target=\"_self\" rel=\"noopener\" href=\"/product-reviews/B01B0O4KJQ/ref=psdc_10304191_r3_B000067EE4?_encoding=UTF8&amp;showViewpoints=1\">(0)</a>\\n                            <span class=\"a-letter-space\"></span>\\n                        </span>\\n                    </td>\\n                \\n                    <td class=\"comparison_sim_items_column comparable_item3\">\\n                        \\n                        \\n                        \\n                        <span>\\n                            <span class=\"a-declarative\" data-action=\"a-popover\" data-a-popover=\"{&quot;max-width&quot;:&quot;700&quot;,&quot;closeButton&quot;:&quot;false&quot;,&quot;position&quot;:&quot;triggerBottom&quot;,&quot;url&quot;:&quot; /gp/customer-reviews/widgets/average-customer-review/popover/ref=acr_dpComparsion__popover?contextId=dpComparsion&amp;asin=B000063TL2 &quot;,&quot;restoreFocusOnHide&quot;:&quot;false&quot;}\">\\n                                <i class=\"a-icon a-icon-star a-star-3-5 a-spacing-none\"><span class=\"a-icon-alt\">3 out of 5 stars</span></i>\\n                            </span>\\n                            <a class=\"a-link-normal\" target=\"_self\" rel=\"noopener\" href=\"/product-reviews/B000063TL2/ref=psdc_10304191_r4_B000067EE4?_encoding=UTF8&amp;showViewpoints=1\">(6)</a>\\n                            <span class=\"a-letter-space\"></span>\\n                        </span>\\n                    </td>\\n                \\n            </tr>\\n\\n\\n            <tr id=\"comparison_price_row\">\\n                <th class=\"comparison_attribute_name_column comparison_table_first_col\" role=\"rowheader\">\\n                    <span class=\"a-size-base a-color-base\">Price</span>\\n                </th>\\n\\n\\n                <td class=\"comparison_baseitem_column\">\\n                    \\n                        \\n                        \\n                        \\n                        \\n                            \\n                                \\n                                    <span class=\"a-price\" data-a-size=\"l\" data-a-color=\"base\"><span class=\"a-offscreen\">$144.18</span><span aria-hidden=\"true\"><span class=\"a-price-symbol\">$</span><span class=\"a-price-whole\">144<span class=\"a-price-decimal\"></span></span><span class=\"a-price-fraction\">18</span></span></span>\\n                                \\n                                \\n                            \\n                        \\n                    \\n                </td>\\n\\n\\n                \\n                    <td class=\"comparison_sim_items_column comparable_item0\">\\n                    \\n                        \\n                        \\n                        \\n                            \\n                                \\n                                    <span class=\"a-price\" data-a-size=\"l\" data-a-color=\"base\"><span class=\"a-offscreen\">$234.18</span><span aria-hidden=\"true\"><span class=\"a-price-symbol\">$</span><span class=\"a-price-whole\">234<span class=\"a-price-decimal\"></span></span><span class=\"a-price-fraction\">18</span></span></span>\\n                                \\n                                \\n                            \\n                        \\n                    \\n                    </td>\\n                \\n                    <td class=\"comparison_sim_items_column comparable_item1\">\\n                    \\n                        \\n                        \\n                        \\n                            \\n                                \\n                                    <span class=\"a-price\" data-a-size=\"l\" data-a-color=\"base\"><span class=\"a-offscreen\">$174.18</span><span aria-hidden=\"true\"><span class=\"a-price-symbol\">$</span><span class=\"a-price-whole\">174<span class=\"a-price-decimal\"></span></span><span class=\"a-price-fraction\">18</span></span></span>\\n                                \\n                                \\n                            \\n                        \\n                    \\n                    </td>\\n                \\n                    <td class=\"comparison_sim_items_column comparable_item2\">\\n                    \\n                        \\n                        \\n                        \\n                            \\n                                \\n                                    <span class=\"a-price\" data-a-size=\"l\" data-a-color=\"base\"><span class=\"a-offscreen\">$141.00</span><span aria-hidden=\"true\"><span class=\"a-price-symbol\">$</span><span class=\"a-price-whole\">141<span class=\"a-price-decimal\"></span></span><span class=\"a-price-fraction\">00</span></span></span>\\n                                \\n                                \\n                            \\n                        \\n                    \\n                    </td>\\n                \\n                    <td class=\"comparison_sim_items_column comparable_item3\">\\n                    \\n                        \\n                        \\n                        \\n                            \\n                                \\n                                    <span class=\"a-price\" data-a-size=\"l\" data-a-color=\"base\"><span class=\"a-offscreen\">$104.18</span><span aria-hidden=\"true\"><span class=\"a-price-symbol\">$</span><span class=\"a-price-whole\">104<span class=\"a-price-decimal\"></span></span><span class=\"a-price-fraction\">18</span></span></span>\\n                                \\n                                \\n                            \\n                        \\n                    \\n                    </td>\\n                \\n            </tr>\\n\\n\\n    \\n                <tr id=\"comparison_shipping_info_row\">\\n                    <th class=\"comparison_attribute_name_column comparison_table_first_col\" role=\"rowheader\">\\n                        <span class=\"a-size-base a-color-base\">Shipping</span>\\n                    </th>\\n\\n    \\n                    <td class=\"comparison_baseitem_column\">\\n                        \\n                            \\n                            \\n                            \\n                            \\n                            \\n                            \\n                                <span class=\"a-size-base a-color-price a-text-bold\">$18.15</span>\\n                            \\n                            \\n                        \\n                    </td>\\n\\n    \\n                    \\n                        <td class=\"comparison_sim_items_column comparable_item0\">\\n                            \\n                                \\n                                \\n                                \\n                                \\n                                \\n                                    <span class=\"a-size-base a-color-price a-text-bold\">$32.25</span>\\n                                \\n                                \\n                            \\n                        </td>\\n                    \\n                        <td class=\"comparison_sim_items_column comparable_item1\">\\n                            \\n                                \\n                                \\n                                \\n                                \\n                                \\n                                    <span class=\"a-size-base a-color-price a-text-bold\">$20.15</span>\\n                                \\n                                \\n                            \\n                        </td>\\n                    \\n                        <td class=\"comparison_sim_items_column comparable_item2\">\\n                            \\n                                \\n                                \\n                                    <span class=\"a-size-base a-color-base\">Eligible for FREE Shipping</span>\\n                                \\n                                \\n                                \\n                                \\n                                \\n                            \\n                        </td>\\n                    \\n                        <td class=\"comparison_sim_items_column comparable_item3\">\\n                            \\n                                \\n                                \\n                                \\n                                \\n                                \\n                                    <span class=\"a-size-base a-color-price a-text-bold\">$23.65</span>\\n                                \\n                                \\n                            \\n                        </td>\\n                    \\n                </tr>\\n\\n\\n\\n            <tr id=\"comparison_sold_by_row\">\\n                <th class=\"comparison_attribute_name_column comparison_table_first_col\" role=\"rowheader\">\\n                    <span class=\"a-size-base a-color-base\">Sold By</span>\\n                </th>\\n\\n  \\n                <td class=\"comparison_baseitem_column\">\\n                    \\n                        \\n                        \\n                        \\n                            <a class=\"a-spacing-top-small a-link-normal\" target=\"_self\" rel=\"noopener\" href=\"/gp/help/seller/at-a-glance.html/ref=psdc_10304191_s0_B000067EE4?ie=UTF8&amp;seller=A2M0FUT1UHQA4D\">hotdealshop</a>\\n                        \\n                     \\n                </td>\\n\\n\\n                \\n                    <td class=\"comparison_sim_items_column comparable_item0\">\\n                         \\n                            \\n                         \\n                             <a class=\"a-spacing-top-small a-link-normal\" target=\"_self\" rel=\"noopener\" href=\"/gp/help/seller/at-a-glance.html/ref=psdc_10304191_s1_B000067EE4?ie=UTF8&amp;seller=A2M0FUT1UHQA4D\">hotdealshop</a>\\n                         \\n                         \\n                     </td>\\n                \\n                    <td class=\"comparison_sim_items_column comparable_item1\">\\n                         \\n                            \\n                         \\n                             <a class=\"a-spacing-top-small a-link-normal\" target=\"_self\" rel=\"noopener\" href=\"/gp/help/seller/at-a-glance.html/ref=psdc_10304191_s2_B000067EE4?ie=UTF8&amp;seller=A2M0FUT1UHQA4D\">hotdealshop</a>\\n                         \\n                         \\n                     </td>\\n                \\n                    <td class=\"comparison_sim_items_column comparable_item2\">\\n                         \\n                            \\n                         \\n                             <a class=\"a-spacing-top-small a-link-normal\" target=\"_self\" rel=\"noopener\" href=\"/gp/help/seller/at-a-glance.html/ref=psdc_10304191_s3_B000067EE4?ie=UTF8&amp;seller=A21ENAV0C10FG6\">TroDen</a>\\n                         \\n                         \\n                     </td>\\n                \\n                    <td class=\"comparison_sim_items_column comparable_item3\">\\n                         \\n                            \\n                         \\n                             <a class=\"a-spacing-top-small a-link-normal\" target=\"_self\" rel=\"noopener\" href=\"/gp/help/seller/at-a-glance.html/ref=psdc_10304191_s4_B000067EE4?ie=UTF8&amp;seller=A2M0FUT1UHQA4D\">hotdealshop</a>\\n                         \\n                         \\n                     </td>\\n                \\n             </tr>\\n\\n\\n            \\n       </tbody>'\n",
            " ...\n",
            " ' class=\"a-bordered a-horizontal-stripes  a-spacing-extra-large a-size-base comparison_table\">\\n\\n\\n\\n            \\n            \\n            \\n            \\n            \\n            <tr class=\"comparison_table_image_row\">\\n                <td class=\"comparison_table_first_col\"></td>\\n\\n\\n                <th class=\"comparison_image_title_cell\" role=\"columnheader\">\\n                    <div class=\"a-row a-spacing-top-micro\">\\n                        <center>\\n                             <img alt=\"Phytomer Hydra Original Thirst-Relief Melting Cream - 1.6oz\" src=\"https://images-na.ssl-images-amazon.com/images/I/41CQgwpv2DL._SL500_AC_SS350_.jpg\" id=\"comparison_image\">\\n                        </center>\\n                    </div>\\n                    <div class=\"a-row a-spacing-top-small\">\\n                        <div id=\"comparison_title\" class=\"a-section a-spacing-none\">\\n                            <span aria-hidden=\"true\" class=\"a-size-base a-color-base a-text-bold\">\\n                                This item\\n                            </span>\\n                            <span aria-hidden=\"true\" class=\"a-size-base a-color-base\">Phytomer Hydra Original Thirst-Relief Melting Cream - 1.6oz</span>\\n                        </div>\\n                        \\n                        \\n                    </div>\\n                </th>\\n\\n\\n                \\n                    <th class=\"comparison_image_title_cell comparable_item0\" role=\"columnheader\">\\n                        <a class=\"a-link-normal\" target=\"_self\" rel=\"noopener\" href=\"/dp/B00PKQVGTI/ref=psdc_16479981011_t1_B01HHAWG20\">\\n                          <div class=\"a-row a-spacing-top-micro\">\\n                            <center>\\n                                <img alt=\"\" src=\"https://images-na.ssl-images-amazon.com/images/I/41aSQnDd8CL._SL500_AC_SS350_.jpg\" aria-hidden=\"true\" id=\"comparison_image0\">\\n                            </center>\\n                          </div>\\n                          <div id=\"comparison_title0\" class=\"a-row a-spacing-top-small\">\\n                            <span class=\"a-size-base\">Phytomer Velvety Soothing Cream - Douceur Marine - 50ml/1.6oz</span>\\n                          </div>\\n                        </a>\\n                        \\n                        \\n                    </th>\\n                \\n                    <th class=\"comparison_image_title_cell comparable_item1\" role=\"columnheader\">\\n                        <a class=\"a-link-normal\" target=\"_self\" rel=\"noopener\" href=\"/dp/B078RKVQPG/ref=psdc_16479981011_t2_B01HHAWG20\">\\n                          <div class=\"a-row a-spacing-top-micro\">\\n                            <center>\\n                                <img alt=\"\" src=\"https://images-na.ssl-images-amazon.com/images/I/41IKpKVXgRL._SL500_AC_SS350_.jpg\" aria-hidden=\"true\" id=\"comparison_image1\">\\n                            </center>\\n                          </div>\\n                          <div id=\"comparison_title1\" class=\"a-row a-spacing-top-small\">\\n                            <span class=\"a-size-base\">Phytomer Oligoforce Moisturizing Enforcement Serum with Oligomer 50ml/1.6oz (Salon Size)</span>\\n                          </div>\\n                        </a>\\n                        \\n                        \\n                    </th>\\n                \\n                    <th class=\"comparison_image_title_cell comparable_item2\" role=\"columnheader\">\\n                        <a class=\"a-link-normal\" target=\"_self\" rel=\"noopener\" href=\"/dp/B07883ZN1B/ref=psdc_16479981011_t3_B01HHAWG20\">\\n                          <div class=\"a-row a-spacing-top-micro\">\\n                            <center>\\n                                <img alt=\"\" src=\"https://images-na.ssl-images-amazon.com/images/I/41Oe9xUD5pL._SL500_AC_SS350_.jpg\" aria-hidden=\"true\" id=\"comparison_image2\">\\n                            </center>\\n                          </div>\\n                          <div id=\"comparison_title2\" class=\"a-row a-spacing-top-small\">\\n                            <span class=\"a-size-base\">Phytomer Oligoforce Soothing Enforcement Serum with Oligomer 50ml/1.6oz (Salon Size)</span>\\n                          </div>\\n                        </a>\\n                        \\n                        \\n                    </th>\\n                \\n                    <th class=\"comparison_image_title_cell comparable_item3\" role=\"columnheader\">\\n                        <a class=\"a-link-normal\" target=\"_self\" rel=\"noopener\" href=\"/dp/B005678LY4/ref=psdc_16479981011_t4_B01HHAWG20\">\\n                          <div class=\"a-row a-spacing-top-micro\">\\n                            <center>\\n                                <img alt=\"\" src=\"https://images-na.ssl-images-amazon.com/images/I/41vtW27-ZhL._SL500_AC_SS350_.jpg\" aria-hidden=\"true\" id=\"comparison_image3\">\\n                            </center>\\n                          </div>\\n                          <div id=\"comparison_title3\" class=\"a-row a-spacing-top-small\">\\n                            <span class=\"a-size-base\">Phytomer Oligopur - Hydra-Matifying Control Cream - 1.6 fl oz</span>\\n                          </div>\\n                        </a>\\n                        \\n                        \\n                    </th>\\n                \\n                    <th class=\"comparison_image_title_cell comparable_item4\" role=\"columnheader\">\\n                        <a class=\"a-link-normal\" target=\"_self\" rel=\"noopener\" href=\"/dp/B078RPGNHF/ref=psdc_16479981011_t5_B01HHAWG20\">\\n                          <div class=\"a-row a-spacing-top-micro\">\\n                            <center>\\n                                <img alt=\"\" src=\"https://images-na.ssl-images-amazon.com/images/I/41EjOcwMhOL._SL500_AC_SS350_.jpg\" aria-hidden=\"true\" id=\"comparison_image4\">\\n                            </center>\\n                          </div>\\n                          <div id=\"comparison_title4\" class=\"a-row a-spacing-top-small\">\\n                            <span class=\"a-size-base\">Phytomer Hydracontinue Radiance Energizing Cream 100ml/3.3oz (Salon Size)</span>\\n                          </div>\\n                        </a>\\n                        \\n                        \\n                    </th>\\n                \\n            </tr>\\n\\n\\n            <tr></tr>\\n\\n\\n            \\n            \\n            <tr>\\n                <td class=\"comparison_table_first_col\"></td>\\n\\n\\n                <td class=\"comparison_add_to_cart_button\">\\n                    \\n                        \\n                        \\n                        \\n                            <span id=\"comparison_add_to_cart_button\" class=\"a-button a-spacing-small a-button-primary\"><span class=\"a-button-inner\"><a id=\"comparison_add_to_cart_button-announce\" href=\"/gp/item-dispatch/ref=psdc_16479981011_a0_B01HHAWG20?ie=UTF8&amp;itemCount=1&amp;nodeID=3760911&amp;offeringID.1=%252B4RdYOMPYolquqgHW2nwmuWSbxZT6FfiAkDHaVay6%252B5jqQ%252FH9v7VJN%252FFWaJxclVpljEkbtzfNb9uaiHamqHdtlXA8u6YOyzdipBOkKj%252F0lNO2Zj9eVas2h9PS2foXXf%252BdATVZsu8JmObP9rDxlUZfYEyyQFX6nJN&amp;storeID=beauty&amp;session-id=144-6296541-9587901&amp;submit.addToCart=addToCart&amp;signInToHUC=0\" class=\"a-button-text\" role=\"button\">Add to Cart</a></span></span>\\n                        \\n                    \\n                </td>\\n\\n\\n                \\n                    <td class=\"a-text-left comparison_add_to_cart_button comparable_item0\">\\n                        \\n                            \\n                            \\n                                <span id=\"comparison_add_to_cart_button0\" class=\"a-button a-spacing-small a-button-primary\"><span class=\"a-button-inner\"><a id=\"comparison_add_to_cart_button0-announce\" href=\"/gp/item-dispatch/ref=psdc_16479981011_a1_B01HHAWG20?ie=UTF8&amp;itemCount=1&amp;nodeID=3760911&amp;offeringID.1=%252B4RdYOMPYomsr8hFAA21pNWEjO11kRymhuDKcF2I5LlwRClibo%252F9bMa7jeTGcB5MOmceKOHGXkdudgq9azWQT6kqiDpqmCcpm6lFUkrQTR0ZnvP9ws04G6%252FPVbd7Pqz6VSzMCudF72bO2R%252BEbsn1QsueYvGM%252F12h&amp;storeID=beauty&amp;session-id=144-6296541-9587901&amp;submit.addToCart=addToCart&amp;signInToHUC=0\" class=\"a-button-text\" role=\"button\">Add to Cart</a></span></span>\\n                            \\n                        \\n                    </td>\\n                \\n                    <td class=\"a-text-left comparison_add_to_cart_button comparable_item1\">\\n                        \\n                            \\n                            \\n                                <span id=\"comparison_add_to_cart_button1\" class=\"a-button a-spacing-small a-button-primary\"><span class=\"a-button-inner\"><a id=\"comparison_add_to_cart_button1-announce\" href=\"/gp/item-dispatch/ref=psdc_16479981011_a2_B01HHAWG20?ie=UTF8&amp;itemCount=1&amp;nodeID=3760911&amp;offeringID.1=%252B4RdYOMPYon31anpMgl9yWbxxslxGA2qgfRBGxQlA45MPDuiQbVYcHXAhMDloaHVplAwVGymr5xAfBui%252BB7B5qs4hM8hrzmVeRPowfliIsjyZQv%252FNztpAjEUtgAxmolY%252FUlZBL8TdLhi%252BBTsLpn4%252Fk%252FhbjHf2XKf&amp;storeID=beauty&amp;session-id=144-6296541-9587901&amp;submit.addToCart=addToCart&amp;signInToHUC=0\" class=\"a-button-text\" role=\"button\">Add to Cart</a></span></span>\\n                            \\n                        \\n                    </td>\\n                \\n                    <td class=\"a-text-left comparison_add_to_cart_button comparable_item2\">\\n                        \\n                            \\n                            \\n                                <span id=\"comparison_add_to_cart_button2\" class=\"a-button a-spacing-small a-button-primary\"><span class=\"a-button-inner\"><a id=\"comparison_add_to_cart_button2-announce\" href=\"/gp/item-dispatch/ref=psdc_16479981011_a3_B01HHAWG20?ie=UTF8&amp;itemCount=1&amp;nodeID=3760911&amp;offeringID.1=%252B4RdYOMPYon31anpMgl9yW7Ej8QmwgDizmLglpzzOofLGywwJVmmQBrxVOhclem%252Bz5srmKGhTk3NSNHATVSNsBUDkQ4ba2r%252BlQck7oH73FTqQgzxKlJICbm6c85545xSeuZwptYVKJhiEfXtOxlFQPF3jrQExNGm&amp;storeID=beauty&amp;session-id=144-6296541-9587901&amp;submit.addToCart=addToCart&amp;signInToHUC=0\" class=\"a-button-text\" role=\"button\">Add to Cart</a></span></span>\\n                            \\n                        \\n                    </td>\\n                \\n                    <td class=\"a-text-left comparison_add_to_cart_button comparable_item3\">\\n                        \\n                            \\n                            \\n                                <span id=\"comparison_add_to_cart_button3\" class=\"a-button a-spacing-small a-button-primary\"><span class=\"a-button-inner\"><a id=\"comparison_add_to_cart_button3-announce\" href=\"/gp/item-dispatch/ref=psdc_16479981011_a4_B01HHAWG20?ie=UTF8&amp;itemCount=1&amp;nodeID=3760901&amp;offeringID.1=%252B4RdYOMPYomsr8hFAA21pA0BGKvY0brJLE361XQ8hfuxDi54nvIaYgyTYBW4E0f%252BgNFh63XdDQ60Qs%252FIFNj9hAFldUJ429EdZKDNZFWWE6QSPc4VF0CC921e6N3rhIT%252By8JAgzleatTVofTSba81DTLyPY%252FqtKLi&amp;storeID=hpc&amp;session-id=144-6296541-9587901&amp;submit.addToCart=addToCart&amp;signInToHUC=0\" class=\"a-button-text\" role=\"button\">Add to Cart</a></span></span>\\n                            \\n                        \\n                    </td>\\n                \\n                    <td class=\"a-text-left comparison_add_to_cart_button comparable_item4\">\\n                        \\n                            \\n                            \\n                                <span id=\"comparison_add_to_cart_button4\" class=\"a-button a-spacing-small a-button-primary\"><span class=\"a-button-inner\"><a id=\"comparison_add_to_cart_button4-announce\" href=\"/gp/item-dispatch/ref=psdc_16479981011_a5_B01HHAWG20?ie=UTF8&amp;itemCount=1&amp;nodeID=3760911&amp;offeringID.1=%252B4RdYOMPYon31anpMgl9yR%252FXZxfeJk6wCvh9hCKGgPNprTsPZe33hjEw5ix8HpiJPEiyrDpUQxfd%252FXzCwheaSJeFCoF%252B3MEyRBjUHmMY8aZtmOH3VkkOK6yZGjLBWJ1zD3jHb6LboltziVAOE4bBdA%253D%253D&amp;storeID=beauty&amp;session-id=144-6296541-9587901&amp;submit.addToCart=addToCart&amp;signInToHUC=0\" class=\"a-button-text\" role=\"button\">Add to Cart</a></span></span>\\n                            \\n                        \\n                    </td>\\n                \\n            </tr>\\n\\n\\n            <tr id=\"comparison_custormer_rating_row\">\\n                \\n                \\n                \\n                \\n\\n                <th class=\"comparison_attribute_name_column comparison_table_first_col\" role=\"rowheader\">\\n                    <span class=\"a-size-base a-color-base\">Customer Rating</span>\\n                </th>\\n\\n\\n                <td class=\"comparison_baseitem_column\">\\n                    \\n                    \\n                    \\n                    <span>\\n                        <span class=\"a-declarative\" data-action=\"a-popover\" data-a-popover=\"{&quot;max-width&quot;:&quot;700&quot;,&quot;closeButton&quot;:&quot;false&quot;,&quot;position&quot;:&quot;triggerBottom&quot;,&quot;url&quot;:&quot; /gp/customer-reviews/widgets/average-customer-review/popover/ref=acr_dpComparsion__popover?contextId=dpComparsion&amp;asin=B01HHAWG20 &quot;,&quot;restoreFocusOnHide&quot;:&quot;false&quot;}\">\\n                            <i class=\"a-icon a-icon-star a-star-4-5 a-spacing-none\"><span class=\"a-icon-alt\">4 out of 5 stars</span></i>\\n                        </span>\\n                        <a class=\"a-link-normal\" target=\"_self\" rel=\"noopener\" href=\"/product-reviews/B01HHAWG20/ref=psdc_16479981011_r0_B01HHAWG20?_encoding=UTF8&amp;showViewpoints=1\">(4)</a>\\n                        <span class=\"a-letter-space\"></span>\\n                    </span>\\n                </td>\\n\\n\\n                \\n                    <td class=\"comparison_sim_items_column comparable_item0\">\\n                        \\n                        \\n                        \\n                        <span>\\n                            <span class=\"a-declarative\" data-action=\"a-popover\" data-a-popover=\"{&quot;max-width&quot;:&quot;700&quot;,&quot;closeButton&quot;:&quot;false&quot;,&quot;position&quot;:&quot;triggerBottom&quot;,&quot;url&quot;:&quot; /gp/customer-reviews/widgets/average-customer-review/popover/ref=acr_dpComparsion__popover?contextId=dpComparsion&amp;asin=B00PKQVGTI &quot;,&quot;restoreFocusOnHide&quot;:&quot;false&quot;}\">\\n                                <i class=\"a-icon a-icon-star a-star-5 a-spacing-none\"><span class=\"a-icon-alt\">5 out of 5 stars</span></i>\\n                            </span>\\n                            <a class=\"a-link-normal\" target=\"_self\" rel=\"noopener\" href=\"/product-reviews/B00PKQVGTI/ref=psdc_16479981011_r1_B01HHAWG20?_encoding=UTF8&amp;showViewpoints=1\">(1)</a>\\n                            <span class=\"a-letter-space\"></span>\\n                        </span>\\n                    </td>\\n                \\n                    <td class=\"comparison_sim_items_column comparable_item1\">\\n                        \\n                        \\n                        \\n                        <span>\\n                            <span class=\"a-declarative\" data-action=\"a-popover\" data-a-popover=\"{&quot;max-width&quot;:&quot;700&quot;,&quot;closeButton&quot;:&quot;false&quot;,&quot;position&quot;:&quot;triggerBottom&quot;,&quot;url&quot;:&quot; /gp/customer-reviews/widgets/average-customer-review/popover/ref=acr_dpComparsion__popover?contextId=dpComparsion&amp;asin=B078RKVQPG &quot;,&quot;restoreFocusOnHide&quot;:&quot;false&quot;}\">\\n                                <i class=\"a-icon a-icon-star a-star-0 a-spacing-none\"><span class=\"a-icon-alt\">0 out of 5 stars</span></i>\\n                            </span>\\n                            <a class=\"a-link-normal\" target=\"_self\" rel=\"noopener\" href=\"/product-reviews/B078RKVQPG/ref=psdc_16479981011_r2_B01HHAWG20?_encoding=UTF8&amp;showViewpoints=1\">(0)</a>\\n                            <span class=\"a-letter-space\"></span>\\n                        </span>\\n                    </td>\\n                \\n                    <td class=\"comparison_sim_items_column comparable_item2\">\\n                        \\n                        \\n                        \\n                        <span>\\n                            <span class=\"a-declarative\" data-action=\"a-popover\" data-a-popover=\"{&quot;max-width&quot;:&quot;700&quot;,&quot;closeButton&quot;:&quot;false&quot;,&quot;position&quot;:&quot;triggerBottom&quot;,&quot;url&quot;:&quot; /gp/customer-reviews/widgets/average-customer-review/popover/ref=acr_dpComparsion__popover?contextId=dpComparsion&amp;asin=B07883ZN1B &quot;,&quot;restoreFocusOnHide&quot;:&quot;false&quot;}\">\\n                                <i class=\"a-icon a-icon-star a-star-5 a-spacing-none\"><span class=\"a-icon-alt\">5 out of 5 stars</span></i>\\n                            </span>\\n                            <a class=\"a-link-normal\" target=\"_self\" rel=\"noopener\" href=\"/product-reviews/B07883ZN1B/ref=psdc_16479981011_r3_B01HHAWG20?_encoding=UTF8&amp;showViewpoints=1\">(1)</a>\\n                            <span class=\"a-letter-space\"></span>\\n                        </span>\\n                    </td>\\n                \\n                    <td class=\"comparison_sim_items_column comparable_item3\">\\n                        \\n                        \\n                        \\n                        <span>\\n                            <span class=\"a-declarative\" data-action=\"a-popover\" data-a-popover=\"{&quot;max-width&quot;:&quot;700&quot;,&quot;closeButton&quot;:&quot;false&quot;,&quot;position&quot;:&quot;triggerBottom&quot;,&quot;url&quot;:&quot; /gp/customer-reviews/widgets/average-customer-review/popover/ref=acr_dpComparsion__popover?contextId=dpComparsion&amp;asin=B005678LY4 &quot;,&quot;restoreFocusOnHide&quot;:&quot;false&quot;}\">\\n                                <i class=\"a-icon a-icon-star a-star-4-5 a-spacing-none\"><span class=\"a-icon-alt\">4 out of 5 stars</span></i>\\n                            </span>\\n                            <a class=\"a-link-normal\" target=\"_self\" rel=\"noopener\" href=\"/product-reviews/B005678LY4/ref=psdc_16479981011_r4_B01HHAWG20?_encoding=UTF8&amp;showViewpoints=1\">(11)</a>\\n                            <span class=\"a-letter-space\"></span>\\n                        </span>\\n                    </td>\\n                \\n                    <td class=\"comparison_sim_items_column comparable_item4\">\\n                        \\n                        \\n                        \\n                        <span>\\n                            <span class=\"a-declarative\" data-action=\"a-popover\" data-a-popover=\"{&quot;max-width&quot;:&quot;700&quot;,&quot;closeButton&quot;:&quot;false&quot;,&quot;position&quot;:&quot;triggerBottom&quot;,&quot;url&quot;:&quot; /gp/customer-reviews/widgets/average-customer-review/popover/ref=acr_dpComparsion__popover?contextId=dpComparsion&amp;asin=B078RPGNHF &quot;,&quot;restoreFocusOnHide&quot;:&quot;false&quot;}\">\\n                                <i class=\"a-icon a-icon-star a-star-0 a-spacing-none\"><span class=\"a-icon-alt\">0 out of 5 stars</span></i>\\n                            </span>\\n                            <a class=\"a-link-normal\" target=\"_self\" rel=\"noopener\" href=\"/product-reviews/B078RPGNHF/ref=psdc_16479981011_r5_B01HHAWG20?_encoding=UTF8&amp;showViewpoints=1\">(0)</a>\\n                            <span class=\"a-letter-space\"></span>\\n                        </span>\\n                    </td>\\n                \\n            </tr>\\n\\n\\n            <tr id=\"comparison_price_row\">\\n                <th class=\"comparison_attribute_name_column comparison_table_first_col\" role=\"rowheader\">\\n                    <span class=\"a-size-base a-color-base\">Price</span>\\n                </th>\\n\\n\\n                <td class=\"comparison_baseitem_column\">\\n                    \\n                        \\n                        \\n                        \\n                        \\n                            \\n                                \\n                                    <span class=\"a-price\" data-a-size=\"l\" data-a-color=\"base\"><span class=\"a-offscreen\">$65.76</span><span aria-hidden=\"true\"><span class=\"a-price-symbol\">$</span><span class=\"a-price-whole\">65<span class=\"a-price-decimal\">\\x00</span></span><span class=\"a-price-fraction\">76</span></span></span>\\n                                \\n                                \\n                            \\n                        \\n                    \\n                </td>\\n\\n\\n                \\n                    <td class=\"comparison_sim_items_column comparable_item0\">\\n                    \\n                        \\n                        \\n                        \\n                            \\n                                \\n                                    <span class=\"a-price\" data-a-size=\"l\" data-a-color=\"base\"><span class=\"a-offscreen\">$54.19</span><span aria-hidden=\"true\"><span class=\"a-price-symbol\">$</span><span class=\"a-price-whole\">54<span class=\"a-price-decimal\">\\x00</span></span><span class=\"a-price-fraction\">19</span></span></span>\\n                                \\n                                \\n                            \\n                        \\n                    \\n                    </td>\\n                \\n                    <td class=\"comparison_sim_items_column comparable_item1\">\\n                    \\n                        \\n                        \\n                        \\n                            \\n                                \\n                                    <span class=\"a-price\" data-a-size=\"l\" data-a-color=\"base\"><span class=\"a-offscreen\">$77.57</span><span aria-hidden=\"true\"><span class=\"a-price-symbol\">$</span><span class=\"a-price-whole\">77<span class=\"a-price-decimal\">\\x00</span></span><span class=\"a-price-fraction\">57</span></span></span>\\n                                \\n                                \\n                            \\n                        \\n                    \\n                    </td>\\n                \\n                    <td class=\"comparison_sim_items_column comparable_item2\">\\n                    \\n                        \\n                        \\n                        \\n                            \\n                                \\n                                    <span class=\"a-price\" data-a-size=\"l\" data-a-color=\"base\"><span class=\"a-offscreen\">$69.66</span><span aria-hidden=\"true\"><span class=\"a-price-symbol\">$</span><span class=\"a-price-whole\">69<span class=\"a-price-decimal\">\\x00</span></span><span class=\"a-price-fraction\">66</span></span></span>\\n                                \\n                                \\n                            \\n                        \\n                    \\n                    </td>\\n                \\n                    <td class=\"comparison_sim_items_column comparable_item3\">\\n                    \\n                        \\n                        \\n                        \\n                            \\n                                \\n                                    <span class=\"a-price\" data-a-size=\"l\" data-a-color=\"base\"><span class=\"a-offscreen\">$33.20</span><span aria-hidden=\"true\"><span class=\"a-price-symbol\">$</span><span class=\"a-price-whole\">33<span class=\"a-price-decimal\">\\x00</span></span><span class=\"a-price-fraction\">20</span></span></span>\\n                                \\n                                \\n                            \\n                        \\n                    \\n                    </td>\\n                \\n                    <td class=\"comparison_sim_items_column comparable_item4\">\\n                    \\n                        \\n                        \\n                        \\n                            \\n                                \\n                                    <span class=\"a-price\" data-a-size=\"l\" data-a-color=\"base\"><span class=\"a-offscreen\">$54.09</span><span aria-hidden=\"true\"><span class=\"a-price-symbol\">$</span><span class=\"a-price-whole\">54<span class=\"a-price-decimal\">\\x00</span></span><span class=\"a-price-fraction\">09</span></span></span>\\n                                \\n                                \\n                            \\n                        \\n                    \\n                    </td>\\n                \\n            </tr>\\n\\n\\n    \\n                <tr id=\"comparison_shipping_info_row\">\\n                    <th class=\"comparison_attribute_name_column comparison_table_first_col\" role=\"rowheader\">\\n                        <span class=\"a-size-base a-color-base\">Shipping</span>\\n                    </th>\\n\\n    \\n                    <td class=\"comparison_baseitem_column\">\\n                        \\n                            \\n                            \\n                            \\n                                <span class=\"a-size-base a-color-base\">Eligible for FREE Shipping</span>\\n                            \\n                            \\n                            \\n                            \\n                            \\n                        \\n                    </td>\\n\\n    \\n                    \\n                        <td class=\"comparison_sim_items_column comparable_item0\">\\n                            \\n                                \\n                                \\n                                    <span class=\"a-size-base a-color-base\">Eligible for FREE Shipping</span>\\n                                \\n                                \\n                                \\n                                \\n                                \\n                            \\n                        </td>\\n                    \\n                        <td class=\"comparison_sim_items_column comparable_item1\">\\n                            \\n                                \\n                                \\n                                    <span class=\"a-size-base a-color-base\">Eligible for FREE Shipping</span>\\n                                \\n                                \\n                                \\n                                \\n                                \\n                            \\n                        </td>\\n                    \\n                        <td class=\"comparison_sim_items_column comparable_item2\">\\n                            \\n                                \\n                                \\n                                    <span class=\"a-size-base a-color-base\">Eligible for FREE Shipping</span>\\n                                \\n                                \\n                                \\n                                \\n                                \\n                            \\n                        </td>\\n                    \\n                        <td class=\"comparison_sim_items_column comparable_item3\">\\n                            \\n                                \\n                                \\n                                    <span class=\"a-size-base a-color-base\">Eligible for FREE Shipping</span>\\n                                \\n                                \\n                                \\n                                \\n                                \\n                            \\n                        </td>\\n                    \\n                        <td class=\"comparison_sim_items_column comparable_item4\">\\n                            \\n                                \\n                                \\n                                    <span class=\"a-size-base a-color-base\">Eligible for FREE Shipping</span>\\n                                \\n                                \\n                                \\n                                \\n                                \\n                            \\n                        </td>\\n                    \\n                </tr>\\n\\n\\n\\n            <tr id=\"comparison_sold_by_row\">\\n                <th class=\"comparison_attribute_name_column comparison_table_first_col\" role=\"rowheader\">\\n                    <span class=\"a-size-base a-color-base\">Sold By</span>\\n                </th>\\n\\n  \\n                <td class=\"comparison_baseitem_column\">\\n                    \\n                        \\n                        \\n                        \\n                            <a class=\"a-spacing-top-small a-link-normal\" target=\"_self\" rel=\"noopener\" href=\"/gp/help/seller/at-a-glance.html/ref=psdc_16479981011_s0_B01HHAWG20?ie=UTF8&amp;seller=ACOWV1OFIMQQ2\">Beauty Junkie</a>\\n                        \\n                     \\n                </td>\\n\\n\\n                \\n                    <td class=\"comparison_sim_items_column comparable_item0\">\\n                         \\n                            \\n                         \\n                             <a class=\"a-spacing-top-small a-link-normal\" target=\"_self\" rel=\"noopener\" href=\"/gp/help/seller/at-a-glance.html/ref=psdc_16479981011_s1_B01HHAWG20?ie=UTF8&amp;seller=A18LANNTX286HQ\">Daily Beauty Store</a>\\n                         \\n                         \\n                     </td>\\n                \\n                    <td class=\"comparison_sim_items_column comparable_item1\">\\n                         \\n                            \\n                         \\n                             <a class=\"a-spacing-top-small a-link-normal\" target=\"_self\" rel=\"noopener\" href=\"/gp/help/seller/at-a-glance.html/ref=psdc_16479981011_s2_B01HHAWG20?ie=UTF8&amp;seller=A18LANNTX286HQ\">Daily Beauty Store</a>\\n                         \\n                         \\n                     </td>\\n                \\n                    <td class=\"comparison_sim_items_column comparable_item2\">\\n                         \\n                            \\n                         \\n                             <a class=\"a-spacing-top-small a-link-normal\" target=\"_self\" rel=\"noopener\" href=\"/gp/help/seller/at-a-glance.html/ref=psdc_16479981011_s3_B01HHAWG20?ie=UTF8&amp;seller=ACOWV1OFIMQQ2\">Beauty Junkie</a>\\n                         \\n                         \\n                     </td>\\n                \\n                    <td class=\"comparison_sim_items_column comparable_item3\">\\n                         \\n                            \\n                         \\n                             <a class=\"a-spacing-top-small a-link-normal\" target=\"_self\" rel=\"noopener\" href=\"/gp/help/seller/at-a-glance.html/ref=psdc_16479981011_s4_B01HHAWG20?ie=UTF8&amp;seller=A3MT75038F86CX&amp;isAmazonFulfilled=1\">Johnson Distributors</a>\\n                         \\n                         \\n                     </td>\\n                \\n                    <td class=\"comparison_sim_items_column comparable_item4\">\\n                         \\n                            \\n                         \\n                             <a class=\"a-spacing-top-small a-link-normal\" target=\"_self\" rel=\"noopener\" href=\"/gp/help/seller/at-a-glance.html/ref=psdc_16479981011_s5_B01HHAWG20?ie=UTF8&amp;seller=A2WG3VTYDKLQ9W\">*Bright Light*</a>\\n                         \\n                         \\n                     </td>\\n                \\n             </tr>\\n\\n\\n            \\n                <tr>\\n                    <th class=\"a-span3 comparison_attribute_name_column comparison_table_first_col\" role=\"rowheader\">\\n                        <span class=\"a-size-base a-color-base\">Batteries are Included</span>\\n                    </th>\\n                    \\n\\n                    <td class=\"comparison_baseitem_column\">\\n                     \\n                        \\n                            \\n                            \\n                                 <span class=\"a-size-base a-color-base\">No</span>\\n                            \\n                        \\n                    </td>\\n\\n\\n                    \\n                        <td class=\"comparison_sim_items_column comparable_item0\">\\n                            \\n                            \\n                            \\n                               \\n                                  \\n                                  \\n                                      <span class=\"a-size-base a-color-base\">No</span>\\n                                  \\n                               \\n                        </td>\\n                    \\n                        <td class=\"comparison_sim_items_column comparable_item1\">\\n                            \\n                            \\n                            \\n                               \\n                                  \\n                                  \\n                                      <span class=\"a-size-base a-color-base\">No</span>\\n                                  \\n                               \\n                        </td>\\n                    \\n                        <td class=\"comparison_sim_items_column comparable_item2\">\\n                            \\n                            \\n                            \\n                               \\n                                  \\n                                  \\n                                      <span class=\"a-size-base a-color-base\">No</span>\\n                                  \\n                               \\n                        </td>\\n                    \\n                        <td class=\"comparison_sim_items_column comparable_item3\">\\n                            \\n                            \\n                            \\n                               \\n                                  \\n                                  \\n                                      <span class=\"a-size-base a-color-base\">No</span>\\n                                  \\n                               \\n                        </td>\\n                    \\n                        <td class=\"comparison_sim_items_column comparable_item4\">\\n                            \\n                            \\n                            \\n                               \\n                                  \\n                                  \\n                                      <span class=\"a-size-base a-color-base\">No</span>\\n                                  \\n                               \\n                        </td>\\n                    \\n                </tr>\\n            \\n                <tr>\\n                    <th class=\"a-span3 comparison_attribute_name_column comparison_table_first_col\" role=\"rowheader\">\\n                        <span class=\"a-size-base a-color-base\">Item Weight</span>\\n                    </th>\\n                    \\n\\n                    <td class=\"comparison_baseitem_column\">\\n                     \\n                        \\n                            \\n                                 <span class=\"a-color-secondary\"></span>\\n                            \\n                            \\n                        \\n                    </td>\\n\\n\\n                    \\n                        <td class=\"comparison_sim_items_column comparable_item0\">\\n                            \\n                            \\n                            \\n                               \\n                                  \\n                                      <span class=\"a-color-secondary\"></span>\\n                                  \\n                                  \\n                               \\n                        </td>\\n                    \\n                        <td class=\"comparison_sim_items_column comparable_item1\">\\n                            \\n                            \\n                            \\n                               \\n                                  \\n                                  \\n                                      <span class=\"a-size-base a-color-base\">6 ounces</span>\\n                                  \\n                               \\n                        </td>\\n                    \\n                        <td class=\"comparison_sim_items_column comparable_item2\">\\n                            \\n                            \\n                            \\n                               \\n                                  \\n                                  \\n                                      <span class=\"a-size-base a-color-base\">6 ounces</span>\\n                                  \\n                               \\n                        </td>\\n                    \\n                        <td class=\"comparison_sim_items_column comparable_item3\">\\n                            \\n                            \\n                            \\n                               \\n                                  \\n                                  \\n                                      <span class=\"a-size-base a-color-base\">1.6 ounces</span>\\n                                  \\n                               \\n                        </td>\\n                    \\n                        <td class=\"comparison_sim_items_column comparable_item4\">\\n                            \\n                            \\n                            \\n                               \\n                                  \\n                                  \\n                                      <span class=\"a-size-base a-color-base\">4.23 ounces</span>\\n                                  \\n                               \\n                        </td>\\n                    \\n                </tr>\\n            \\n                <tr>\\n                    <th class=\"a-span3 comparison_attribute_name_column comparison_table_first_col\" role=\"rowheader\">\\n                        <span class=\"a-size-base a-color-base\">Skin Type</span>\\n                    </th>\\n                    \\n\\n                    <td class=\"comparison_baseitem_column\">\\n                     \\n                        \\n                            \\n                                 <span class=\"a-color-secondary\"></span>\\n                            \\n                            \\n                        \\n                    </td>\\n\\n\\n                    \\n                        <td class=\"comparison_sim_items_column comparable_item0\">\\n                            \\n                            \\n                            \\n                               \\n                                  \\n                                  \\n                                      <span class=\"a-size-base a-color-base\">Sensitive</span>\\n                                  \\n                               \\n                        </td>\\n                    \\n                        <td class=\"comparison_sim_items_column comparable_item1\">\\n                            \\n                            \\n                            \\n                               \\n                                  \\n                                      <span class=\"a-color-secondary\"></span>\\n                                  \\n                                  \\n                               \\n                        </td>\\n                    \\n                        <td class=\"comparison_sim_items_column comparable_item2\">\\n                            \\n                            \\n                            \\n                               \\n                                  \\n                                      <span class=\"a-color-secondary\"></span>\\n                                  \\n                                  \\n                               \\n                        </td>\\n                    \\n                        <td class=\"comparison_sim_items_column comparable_item3\">\\n                            \\n                            \\n                            \\n                               \\n                                  \\n                                      <span class=\"a-color-secondary\"></span>\\n                                  \\n                                  \\n                               \\n                        </td>\\n                    \\n                        <td class=\"comparison_sim_items_column comparable_item4\">\\n                            \\n                            \\n                            \\n                               \\n                                  \\n                                      <span class=\"a-color-secondary\"></span>\\n                                  \\n                                  \\n                               \\n                        </td>\\n                    \\n                </tr>\\n            \\n       '\n",
            " ' class=\"a-bordered a-horizontal-stripes  a-spacing-extra-large a-size-base comparison_table\">\\n\\n\\n\\n            \\n            \\n            \\n            \\n            \\n            <tr class=\"comparison_table_image_row\">\\n                <td class=\"comparison_table_first_col\"></td>\\n\\n\\n                <th class=\"comparison_image_title_cell\" role=\"columnheader\">\\n                    <div class=\"a-row a-spacing-top-micro\">\\n                        <center>\\n                             <img alt=\"JahyShow Replacement Shaver Head For Philips Norelco RQ11 RQ12 Sensotouch 3D 1260 1280 1290 RQ1180 1160 1150 Arcitec Razor Shaving Unit Triple 3D\" src=\"https://images-na.ssl-images-amazon.com/images/I/51L8hPam5zL._SL500_AC_SS350_.jpg\" id=\"comparison_image\">\\n                        </center>\\n                    </div>\\n                    <div class=\"a-row a-spacing-top-small\">\\n                        <div id=\"comparison_title\" class=\"a-section a-spacing-none\">\\n                            <span aria-hidden=\"true\" class=\"a-size-base a-color-base a-text-bold\">\\n                                This item\\n                            </span>\\n                            <span aria-hidden=\"true\" class=\"a-size-base a-color-base\">JahyShow Replacement Shaver Head For Philips Norelco RQ11 RQ12 Sensotouch 3D 1260 1280 1290 RQ1180 1160 1150 Arcitec Razor Shaving Unit Triple 3D</span>\\n                        </div>\\n                        \\n                        \\n                    </div>\\n                </th>\\n\\n\\n                \\n                    <th class=\"comparison_image_title_cell comparable_item0\" role=\"columnheader\">\\n                        <a class=\"a-link-normal\" target=\"_self\" rel=\"noopener\" href=\"/dp/B0719PTM9Y/ref=psdc_10304191_t1_B01HHJQN8E\">\\n                          <div class=\"a-row a-spacing-top-micro\">\\n                            <center>\\n                                <img alt=\"\" src=\"https://images-na.ssl-images-amazon.com/images/I/41oh5%2BvsKPL._SL500_AC_SS350_.jpg\" aria-hidden=\"true\" id=\"comparison_image0\">\\n                            </center>\\n                          </div>\\n                          <div id=\"comparison_title0\" class=\"a-row a-spacing-top-small\">\\n                            <span class=\"a-size-base\">Replacement Head For Philips Norelco RQ11 Arcitec Razor Shaving Unit Triple Track SensoTouch 2D RQ1180 1160X 1150X</span>\\n                          </div>\\n                        </a>\\n                        \\n                        \\n                    </th>\\n                \\n                    <th class=\"comparison_image_title_cell comparable_item1\" role=\"columnheader\">\\n                        <a class=\"a-link-normal\" target=\"_self\" rel=\"noopener\" href=\"/dp/B01JZ5G9RS/ref=psdc_10304191_t2_B01HHJQN8E\">\\n                          <div class=\"a-row a-spacing-top-micro\">\\n                            <center>\\n                                <img alt=\"\" src=\"https://images-na.ssl-images-amazon.com/images/I/41E1WS1hzSL._SL500_AC_SS350_.jpg\" aria-hidden=\"true\" id=\"comparison_image1\">\\n                            </center>\\n                          </div>\\n                          <div id=\"comparison_title1\" class=\"a-row a-spacing-top-small\">\\n                            <span class=\"a-size-base\">New Shaver Head For PHILIPS NORELCO RQ12 Sensotouch 3D RQ12 Series Shavers</span>\\n                          </div>\\n                        </a>\\n                        \\n                        \\n                    </th>\\n                \\n                    <th class=\"comparison_image_title_cell comparable_item2\" role=\"columnheader\">\\n                        <a class=\"a-link-normal\" target=\"_self\" rel=\"noopener\" href=\"/dp/B072C2QC9L/ref=psdc_10304191_t3_B01HHJQN8E\">\\n                          <div class=\"a-row a-spacing-top-micro\">\\n                            <center>\\n                                <img alt=\"\" src=\"https://images-na.ssl-images-amazon.com/images/I/51oyraMV7vL._SL500_AC_SS350_.jpg\" aria-hidden=\"true\" id=\"comparison_image2\">\\n                            </center>\\n                          </div>\\n                          <div id=\"comparison_title2\" class=\"a-row a-spacing-top-small\">\\n                            <span class=\"a-size-base\">Replacement Shaving Head For Philips Norelco RQ12+ Arcitec Razor Unit Triple Track for Series 8000 (SensoTouch 3D) 1250X 1260X 1280X 1290X La Divine</span>\\n                          </div>\\n                        </a>\\n                        \\n                        \\n                    </th>\\n                \\n                    <th class=\"comparison_image_title_cell comparable_item3\" role=\"columnheader\">\\n                        <a class=\"a-link-normal\" target=\"_self\" rel=\"noopener\" href=\"/dp/B07BD1859Y/ref=psdc_10304191_t4_B01HHJQN8E\">\\n                          <div class=\"a-row a-spacing-top-micro\">\\n                            <center>\\n                                <img alt=\"\" src=\"https://images-na.ssl-images-amazon.com/images/I/41YuANXIioL._SL500_AC_SS350_.jpg\" aria-hidden=\"true\" id=\"comparison_image3\">\\n                            </center>\\n                          </div>\\n                          <div id=\"comparison_title3\" class=\"a-row a-spacing-top-small\">\\n                            <span class=\"a-size-base\">Full Set of Replacement Shaving Head fit Philips Norelco RQ10 Arcitec Razors RQ1050 RQ1060 RQ1080 RQ1095 RQ1075</span>\\n                          </div>\\n                        </a>\\n                        \\n                        \\n                    </th>\\n                \\n                    <th class=\"comparison_image_title_cell comparable_item4\" role=\"columnheader\">\\n                        <a class=\"a-link-normal\" target=\"_self\" rel=\"noopener\" href=\"/dp/B07JY7L8HR/ref=psdc_10304191_t5_B01HHJQN8E\">\\n                          <div class=\"a-row a-spacing-top-micro\">\\n                            <center>\\n                                <img alt=\"\" src=\"https://images-na.ssl-images-amazon.com/images/I/41cV12GejpL._SL500_AC_SS350_.jpg\" aria-hidden=\"true\" id=\"comparison_image4\">\\n                            </center>\\n                          </div>\\n                          <div id=\"comparison_title4\" class=\"a-row a-spacing-top-small\">\\n                            <span class=\"a-size-base\">Replacment Shaving Head for Philips Norelco RQ12 Arcitec Razer Shaving Until Triple Track SensoTouch 3D RQ1250 RQ1250CC RQ1260 RQ1260CC</span>\\n                          </div>\\n                        </a>\\n                        \\n                        \\n                    </th>\\n                \\n            </tr>\\n\\n\\n            <tr></tr>\\n\\n\\n            \\n            \\n            <tr>\\n                <td class=\"comparison_table_first_col\"></td>\\n\\n\\n                <td class=\"comparison_add_to_cart_button\">\\n                    \\n                        \\n                        \\n                        \\n                            <span id=\"comparison_add_to_cart_button\" class=\"a-button a-spacing-small a-button-primary\"><span class=\"a-button-inner\"><a id=\"comparison_add_to_cart_button-announce\" href=\"/gp/item-dispatch/ref=psdc_10304191_a0_B01HHJQN8E?ie=UTF8&amp;itemCount=1&amp;nodeID=3760911&amp;offeringID.1=Ja4CTqCWpfWRLteGuXMZmv1Zgc9KpcFi5SLWOvh21cG%252B50ygFoqyf7tZjvMHLaxfK6s3eBIV4oBeexiAWT06%252FCVnluoZB5eMNm7iDiejOzpTM8lbS62S%252Bs1yuBMj1VH96zQEzoMWhzyamWQXLxd0fvb7HF6iAxMJ&amp;storeID=beauty&amp;session-id=135-1438400-1937644&amp;submit.addToCart=addToCart&amp;signInToHUC=0\" class=\"a-button-text\" role=\"button\">Add to Cart</a></span></span>\\n                        \\n                    \\n                </td>\\n\\n\\n                \\n                    <td class=\"a-text-left comparison_add_to_cart_button comparable_item0\">\\n                        \\n                            \\n                            \\n                                <span id=\"comparison_add_to_cart_button0\" class=\"a-button a-spacing-small a-button-primary\"><span class=\"a-button-inner\"><a id=\"comparison_add_to_cart_button0-announce\" href=\"/gp/item-dispatch/ref=psdc_10304191_a1_B01HHJQN8E?ie=UTF8&amp;itemCount=1&amp;nodeID=3760911&amp;offeringID.1=Ja4CTqCWpfWOOIW3mUcXrHj6EjPC01w0q80Mwx%252BodqfsVq16F%252Blh8Vusqooa4kGIQUqlViwnq%252FWVmVUNO6itMSS2EAGLvDGZemtQy2MvHFPTbCoNziCeDjK%252FIV4atzuDjO%252BWyZV%252BtpQMXVm5UN4bKMzd%252B1c%252FNQzl&amp;storeID=beauty&amp;session-id=135-1438400-1937644&amp;submit.addToCart=addToCart&amp;signInToHUC=0\" class=\"a-button-text\" role=\"button\">Add to Cart</a></span></span>\\n                            \\n                        \\n                    </td>\\n                \\n                    <td class=\"a-text-left comparison_add_to_cart_button comparable_item1\">\\n                        \\n                            \\n                            \\n                                <span id=\"comparison_add_to_cart_button1\" class=\"a-button a-spacing-small a-button-primary\"><span class=\"a-button-inner\"><a id=\"comparison_add_to_cart_button1-announce\" href=\"/gp/item-dispatch/ref=psdc_10304191_a2_B01HHJQN8E?ie=UTF8&amp;itemCount=1&amp;nodeID=3760911&amp;offeringID.1=Ja4CTqCWpfWRLteGuXMZmoStY%252BD%252F9aa5jtOhbUO9lzGtY3n3rJqCXQRLH1kwTDOYMi2SZ7SlwweuKowApn1HNxV0y93bCjUP7m7kOyCrGXcnkBCWYotb%252FADL0V9UpZxG9etTWQKftBw%252FLd%252FKxpWBlAgNsK8P%252BKxG&amp;storeID=beauty&amp;session-id=135-1438400-1937644&amp;submit.addToCart=addToCart&amp;signInToHUC=0\" class=\"a-button-text\" role=\"button\">Add to Cart</a></span></span>\\n                            \\n                        \\n                    </td>\\n                \\n                    <td class=\"a-text-left comparison_add_to_cart_button comparable_item2\">\\n                        \\n                            \\n                            \\n                                <span id=\"comparison_add_to_cart_button2\" class=\"a-button a-spacing-small a-button-primary\"><span class=\"a-button-inner\"><a id=\"comparison_add_to_cart_button2-announce\" href=\"/gp/item-dispatch/ref=psdc_10304191_a3_B01HHJQN8E?ie=UTF8&amp;itemCount=1&amp;nodeID=3760911&amp;offeringID.1=Ja4CTqCWpfWOOIW3mUcXrCZzyZIbCFMDKCoaYgxyvvj0W05qN9R4PU4NIsW9O5htbDUOP%252FDARMAjOS8HGXB7HGjnfG%252FcMaMgy9h6bf3XAr0C5hNasKwLI3oK5zv1ftGYZAXYmdNLLOM3GxcXRZVidE2tWyiVWuid&amp;storeID=beauty&amp;session-id=135-1438400-1937644&amp;submit.addToCart=addToCart&amp;signInToHUC=0\" class=\"a-button-text\" role=\"button\">Add to Cart</a></span></span>\\n                            \\n                        \\n                    </td>\\n                \\n                    <td class=\"a-text-left comparison_add_to_cart_button comparable_item3\">\\n                        \\n                            \\n                            \\n                                <span id=\"comparison_add_to_cart_button3\" class=\"a-button a-spacing-small a-button-primary\"><span class=\"a-button-inner\"><a id=\"comparison_add_to_cart_button3-announce\" href=\"/gp/item-dispatch/ref=psdc_10304191_a4_B01HHJQN8E?ie=UTF8&amp;itemCount=1&amp;nodeID=3760911&amp;offeringID.1=Ja4CTqCWpfWOOIW3mUcXrNZYUppIHbzSlxxIm6VuDIzeMNvmxQGszu9jMpl75DyDKXH7YdcyK%252BfpE7RFa9jncWOcBiZp0YGev6RfzRnDleoY3%252FFOPlAEHA5G%252BxSmUaW%252BLrfCojTB4tq4zBk9BldM%252BXvz3Pab29ac&amp;storeID=beauty&amp;session-id=135-1438400-1937644&amp;submit.addToCart=addToCart&amp;signInToHUC=0\" class=\"a-button-text\" role=\"button\">Add to Cart</a></span></span>\\n                            \\n                        \\n                    </td>\\n                \\n                    <td class=\"a-text-left comparison_add_to_cart_button comparable_item4\">\\n                        \\n                            \\n                            \\n                                <span id=\"comparison_add_to_cart_button4\" class=\"a-button a-spacing-small a-button-primary\"><span class=\"a-button-inner\"><a id=\"comparison_add_to_cart_button4-announce\" href=\"/gp/item-dispatch/ref=psdc_10304191_a5_B01HHJQN8E?ie=UTF8&amp;itemCount=1&amp;nodeID=3760911&amp;offeringID.1=Ja4CTqCWpfWOOIW3mUcXrFSX%252F2yK%252FWFhQuogVkRfuI13zSuEvk4WXVpEVyHRyfHlEwMBEJFlJMYKedpS6gV5SzCDuwyJdSIq1oOAMygftupzA5ryQ9t9CZb4NRLTu5I7s0Q%252BP7JPhHs9Bd7zRw80%252Bsiouj5AxjDw&amp;storeID=beauty&amp;session-id=135-1438400-1937644&amp;submit.addToCart=addToCart&amp;signInToHUC=0\" class=\"a-button-text\" role=\"button\">Add to Cart</a></span></span>\\n                            \\n                        \\n                    </td>\\n                \\n            </tr>\\n\\n\\n            <tr id=\"comparison_custormer_rating_row\">\\n                \\n                \\n                \\n                \\n\\n                <th class=\"comparison_attribute_name_column comparison_table_first_col\" role=\"rowheader\">\\n                    <span class=\"a-size-base a-color-base\">Customer Rating</span>\\n                </th>\\n\\n\\n                <td class=\"comparison_baseitem_column\">\\n                    \\n                    \\n                    \\n                    <span>\\n                        <span class=\"a-declarative\" data-action=\"a-popover\" data-a-popover=\"{&quot;max-width&quot;:&quot;700&quot;,&quot;closeButton&quot;:&quot;false&quot;,&quot;position&quot;:&quot;triggerBottom&quot;,&quot;url&quot;:&quot; /gp/customer-reviews/widgets/average-customer-review/popover/ref=acr_dpComparsion__popover?contextId=dpComparsion&amp;asin=B01HHJQN8E &quot;,&quot;restoreFocusOnHide&quot;:&quot;false&quot;}\">\\n                            <i class=\"a-icon a-icon-star a-star-3-5 a-spacing-none\"><span class=\"a-icon-alt\">3 out of 5 stars</span></i>\\n                        </span>\\n                        <a class=\"a-link-normal\" target=\"_self\" rel=\"noopener\" href=\"/product-reviews/B01HHJQN8E/ref=psdc_10304191_r0_B01HHJQN8E?_encoding=UTF8&amp;showViewpoints=1\">(46)</a>\\n                        <span class=\"a-letter-space\"></span>\\n                    </span>\\n                </td>\\n\\n\\n                \\n                    <td class=\"comparison_sim_items_column comparable_item0\">\\n                        \\n                        \\n                        \\n                        <span>\\n                            <span class=\"a-declarative\" data-action=\"a-popover\" data-a-popover=\"{&quot;max-width&quot;:&quot;700&quot;,&quot;closeButton&quot;:&quot;false&quot;,&quot;position&quot;:&quot;triggerBottom&quot;,&quot;url&quot;:&quot; /gp/customer-reviews/widgets/average-customer-review/popover/ref=acr_dpComparsion__popover?contextId=dpComparsion&amp;asin=B0719PTM9Y &quot;,&quot;restoreFocusOnHide&quot;:&quot;false&quot;}\">\\n                                <i class=\"a-icon a-icon-star a-star-2 a-spacing-none\"><span class=\"a-icon-alt\">2 out of 5 stars</span></i>\\n                            </span>\\n                            <a class=\"a-link-normal\" target=\"_self\" rel=\"noopener\" href=\"/product-reviews/B0719PTM9Y/ref=psdc_10304191_r1_B01HHJQN8E?_encoding=UTF8&amp;showViewpoints=1\">(41)</a>\\n                            <span class=\"a-letter-space\"></span>\\n                        </span>\\n                    </td>\\n                \\n                    <td class=\"comparison_sim_items_column comparable_item1\">\\n                        \\n                        \\n                        \\n                        <span>\\n                            <span class=\"a-declarative\" data-action=\"a-popover\" data-a-popover=\"{&quot;max-width&quot;:&quot;700&quot;,&quot;closeButton&quot;:&quot;false&quot;,&quot;position&quot;:&quot;triggerBottom&quot;,&quot;url&quot;:&quot; /gp/customer-reviews/widgets/average-customer-review/popover/ref=acr_dpComparsion__popover?contextId=dpComparsion&amp;asin=B01JZ5G9RS &quot;,&quot;restoreFocusOnHide&quot;:&quot;false&quot;}\">\\n                                <i class=\"a-icon a-icon-star a-star-3 a-spacing-none\"><span class=\"a-icon-alt\">3 out of 5 stars</span></i>\\n                            </span>\\n                            <a class=\"a-link-normal\" target=\"_self\" rel=\"noopener\" href=\"/product-reviews/B01JZ5G9RS/ref=psdc_10304191_r2_B01HHJQN8E?_encoding=UTF8&amp;showViewpoints=1\">(25)</a>\\n                            <span class=\"a-letter-space\"></span>\\n                        </span>\\n                    </td>\\n                \\n                    <td class=\"comparison_sim_items_column comparable_item2\">\\n                        \\n                        \\n                        \\n                        <span>\\n                            <span class=\"a-declarative\" data-action=\"a-popover\" data-a-popover=\"{&quot;max-width&quot;:&quot;700&quot;,&quot;closeButton&quot;:&quot;false&quot;,&quot;position&quot;:&quot;triggerBottom&quot;,&quot;url&quot;:&quot; /gp/customer-reviews/widgets/average-customer-review/popover/ref=acr_dpComparsion__popover?contextId=dpComparsion&amp;asin=B072C2QC9L &quot;,&quot;restoreFocusOnHide&quot;:&quot;false&quot;}\">\\n                                <i class=\"a-icon a-icon-star a-star-0 a-spacing-none\"><span class=\"a-icon-alt\">0 out of 5 stars</span></i>\\n                            </span>\\n                            <a class=\"a-link-normal\" target=\"_self\" rel=\"noopener\" href=\"/product-reviews/B072C2QC9L/ref=psdc_10304191_r3_B01HHJQN8E?_encoding=UTF8&amp;showViewpoints=1\">(0)</a>\\n                            <span class=\"a-letter-space\"></span>\\n                        </span>\\n                    </td>\\n                \\n                    <td class=\"comparison_sim_items_column comparable_item3\">\\n                        \\n                        \\n                        \\n                        <span>\\n                            <span class=\"a-declarative\" data-action=\"a-popover\" data-a-popover=\"{&quot;max-width&quot;:&quot;700&quot;,&quot;closeButton&quot;:&quot;false&quot;,&quot;position&quot;:&quot;triggerBottom&quot;,&quot;url&quot;:&quot; /gp/customer-reviews/widgets/average-customer-review/popover/ref=acr_dpComparsion__popover?contextId=dpComparsion&amp;asin=B07BD1859Y &quot;,&quot;restoreFocusOnHide&quot;:&quot;false&quot;}\">\\n                                <i class=\"a-icon a-icon-star a-star-3 a-spacing-none\"><span class=\"a-icon-alt\">3 out of 5 stars</span></i>\\n                            </span>\\n                            <a class=\"a-link-normal\" target=\"_self\" rel=\"noopener\" href=\"/product-reviews/B07BD1859Y/ref=psdc_10304191_r4_B01HHJQN8E?_encoding=UTF8&amp;showViewpoints=1\">(31)</a>\\n                            <span class=\"a-letter-space\"></span>\\n                        </span>\\n                    </td>\\n                \\n                    <td class=\"comparison_sim_items_column comparable_item4\">\\n                        \\n                        \\n                        \\n                        <span>\\n                            <span class=\"a-declarative\" data-action=\"a-popover\" data-a-popover=\"{&quot;max-width&quot;:&quot;700&quot;,&quot;closeButton&quot;:&quot;false&quot;,&quot;position&quot;:&quot;triggerBottom&quot;,&quot;url&quot;:&quot; /gp/customer-reviews/widgets/average-customer-review/popover/ref=acr_dpComparsion__popover?contextId=dpComparsion&amp;asin=B07JY7L8HR &quot;,&quot;restoreFocusOnHide&quot;:&quot;false&quot;}\">\\n                                <i class=\"a-icon a-icon-star a-star-0 a-spacing-none\"><span class=\"a-icon-alt\">0 out of 5 stars</span></i>\\n                            </span>\\n                            <a class=\"a-link-normal\" target=\"_self\" rel=\"noopener\" href=\"/product-reviews/B07JY7L8HR/ref=psdc_10304191_r5_B01HHJQN8E?_encoding=UTF8&amp;showViewpoints=1\">(0)</a>\\n                            <span class=\"a-letter-space\"></span>\\n                        </span>\\n                    </td>\\n                \\n            </tr>\\n\\n\\n            <tr id=\"comparison_price_row\">\\n                <th class=\"comparison_attribute_name_column comparison_table_first_col\" role=\"rowheader\">\\n                    <span class=\"a-size-base a-color-base\">Price</span>\\n                </th>\\n\\n\\n                <td class=\"comparison_baseitem_column\">\\n                    \\n                        \\n                        \\n                        \\n                        \\n                            \\n                                \\n                                    <span class=\"a-price\" data-a-size=\"l\" data-a-color=\"base\"><span class=\"a-offscreen\">$13.80</span><span aria-hidden=\"true\"><span class=\"a-price-symbol\">$</span><span class=\"a-price-whole\">13<span class=\"a-price-decimal\">\\x00</span></span><span class=\"a-price-fraction\">80</span></span></span>\\n                                \\n                                \\n                            \\n                        \\n                    \\n                </td>\\n\\n\\n                \\n                    <td class=\"comparison_sim_items_column comparable_item0\">\\n                    \\n                        \\n                        \\n                        \\n                            \\n                                \\n                                    <span class=\"a-price\" data-a-size=\"l\" data-a-color=\"base\"><span class=\"a-offscreen\">$24.15</span><span aria-hidden=\"true\"><span class=\"a-price-symbol\">$</span><span class=\"a-price-whole\">24<span class=\"a-price-decimal\">\\x00</span></span><span class=\"a-price-fraction\">15</span></span></span>\\n                                \\n                                \\n                            \\n                        \\n                    \\n                    </td>\\n                \\n                    <td class=\"comparison_sim_items_column comparable_item1\">\\n                    \\n                        \\n                        \\n                        \\n                            \\n                                \\n                                    <span class=\"a-price\" data-a-size=\"l\" data-a-color=\"base\"><span class=\"a-offscreen\">$25.99</span><span aria-hidden=\"true\"><span class=\"a-price-symbol\">$</span><span class=\"a-price-whole\">25<span class=\"a-price-decimal\">\\x00</span></span><span class=\"a-price-fraction\">99</span></span></span>\\n                                \\n                                \\n                            \\n                        \\n                    \\n                    </td>\\n                \\n                    <td class=\"comparison_sim_items_column comparable_item2\">\\n                    \\n                        \\n                        \\n                        \\n                            \\n                                \\n                                    <span class=\"a-price\" data-a-size=\"l\" data-a-color=\"base\"><span class=\"a-offscreen\">$16.98</span><span aria-hidden=\"true\"><span class=\"a-price-symbol\">$</span><span class=\"a-price-whole\">16<span class=\"a-price-decimal\">\\x00</span></span><span class=\"a-price-fraction\">98</span></span></span>\\n                                \\n                                \\n                            \\n                        \\n                    \\n                    </td>\\n                \\n                    <td class=\"comparison_sim_items_column comparable_item3\">\\n                    \\n                        \\n                        \\n                        \\n                            \\n                                \\n                                    <span class=\"a-price\" data-a-size=\"l\" data-a-color=\"base\"><span class=\"a-offscreen\">$25.99</span><span aria-hidden=\"true\"><span class=\"a-price-symbol\">$</span><span class=\"a-price-whole\">25<span class=\"a-price-decimal\">\\x00</span></span><span class=\"a-price-fraction\">99</span></span></span>\\n                                \\n                                \\n                            \\n                        \\n                    \\n                    </td>\\n                \\n                    <td class=\"comparison_sim_items_column comparable_item4\">\\n                    \\n                        \\n                        \\n                        \\n                            \\n                                \\n                                    <span class=\"a-price\" data-a-size=\"l\" data-a-color=\"base\"><span class=\"a-offscreen\">$15.99</span><span aria-hidden=\"true\"><span class=\"a-price-symbol\">$</span><span class=\"a-price-whole\">15<span class=\"a-price-decimal\">\\x00</span></span><span class=\"a-price-fraction\">99</span></span></span>\\n                                \\n                                \\n                            \\n                        \\n                    \\n                    </td>\\n                \\n            </tr>\\n\\n\\n    \\n                <tr id=\"comparison_shipping_info_row\">\\n                    <th class=\"comparison_attribute_name_column comparison_table_first_col\" role=\"rowheader\">\\n                        <span class=\"a-size-base a-color-base\">Shipping</span>\\n                    </th>\\n\\n    \\n                    <td class=\"comparison_baseitem_column\">\\n                        \\n                            \\n                            \\n                            \\n                                <span class=\"a-size-base a-color-base\">Eligible for FREE Shipping</span>\\n                            \\n                            \\n                            \\n                            \\n                            \\n                        \\n                    </td>\\n\\n    \\n                    \\n                        <td class=\"comparison_sim_items_column comparable_item0\">\\n                            \\n                                \\n                                \\n                                    <span class=\"a-size-base a-color-base\">Eligible for FREE Shipping</span>\\n                                \\n                                \\n                                \\n                                \\n                                \\n                            \\n                        </td>\\n                    \\n                        <td class=\"comparison_sim_items_column comparable_item1\">\\n                            \\n                                \\n                                \\n                                    <span class=\"a-size-base a-color-base\">Eligible for FREE Shipping</span>\\n                                \\n                                \\n                                \\n                                \\n                                \\n                            \\n                        </td>\\n                    \\n                        <td class=\"comparison_sim_items_column comparable_item2\">\\n                            \\n                                \\n                                \\n                                    <span class=\"a-size-base a-color-base\">Eligible for FREE Shipping</span>\\n                                \\n                                \\n                                \\n                                \\n                                \\n                            \\n                        </td>\\n                    \\n                        <td class=\"comparison_sim_items_column comparable_item3\">\\n                            \\n                                \\n                                \\n                                    <span class=\"a-size-base a-color-base\">Eligible for FREE Shipping</span>\\n                                \\n                                \\n                                \\n                                \\n                                \\n                            \\n                        </td>\\n                    \\n                        <td class=\"comparison_sim_items_column comparable_item4\">\\n                            \\n                                \\n                                \\n                                    <span class=\"a-size-base a-color-base\">Eligible for FREE Shipping</span>\\n                                \\n                                \\n                                \\n                                \\n                                \\n                            \\n                        </td>\\n                    \\n                </tr>\\n\\n\\n\\n            <tr id=\"comparison_sold_by_row\">\\n                <th class=\"comparison_attribute_name_column comparison_table_first_col\" role=\"rowheader\">\\n                    <span class=\"a-size-base a-color-base\">Sold By</span>\\n                </th>\\n\\n  \\n                <td class=\"comparison_baseitem_column\">\\n                    \\n                        \\n                        \\n                        \\n                            <a class=\"a-spacing-top-small a-link-normal\" target=\"_self\" rel=\"noopener\" href=\"/gp/help/seller/at-a-glance.html/ref=psdc_10304191_s0_B01HHJQN8E?ie=UTF8&amp;seller=A21V3QIJN24012&amp;isAmazonFulfilled=1\">JahyShow</a>\\n                        \\n                     \\n                </td>\\n\\n\\n                \\n                    <td class=\"comparison_sim_items_column comparable_item0\">\\n                         \\n                            \\n                         \\n                             <a class=\"a-spacing-top-small a-link-normal\" target=\"_self\" rel=\"noopener\" href=\"/gp/help/seller/at-a-glance.html/ref=psdc_10304191_s1_B01HHJQN8E?ie=UTF8&amp;seller=A1OJ8JAK3OKCBX&amp;isAmazonFulfilled=1\">ZB LIMITED</a>\\n                         \\n                         \\n                     </td>\\n                \\n                    <td class=\"comparison_sim_items_column comparable_item1\">\\n                         \\n                            \\n                         \\n                             <a class=\"a-spacing-top-small a-link-normal\" target=\"_self\" rel=\"noopener\" href=\"/gp/help/seller/at-a-glance.html/ref=psdc_10304191_s2_B01HHJQN8E?ie=UTF8&amp;seller=A32SEX6CGLBPEK&amp;isAmazonFulfilled=1\">Acupress</a>\\n                         \\n                         \\n                     </td>\\n                \\n                    <td class=\"comparison_sim_items_column comparable_item2\">\\n                         \\n                            \\n                         \\n                             <a class=\"a-spacing-top-small a-link-normal\" target=\"_self\" rel=\"noopener\" href=\"/gp/help/seller/at-a-glance.html/ref=psdc_10304191_s3_B01HHJQN8E?ie=UTF8&amp;seller=A3OOCK6DL3TXLA&amp;isAmazonFulfilled=1\">Buy4Less Outlet</a>\\n                         \\n                         \\n                     </td>\\n                \\n                    <td class=\"comparison_sim_items_column comparable_item3\">\\n                         \\n                            \\n                         \\n                             <a class=\"a-spacing-top-small a-link-normal\" target=\"_self\" rel=\"noopener\" href=\"/gp/help/seller/at-a-glance.html/ref=psdc_10304191_s4_B01HHJQN8E?ie=UTF8&amp;seller=A32SEX6CGLBPEK&amp;isAmazonFulfilled=1\">Acupress</a>\\n                         \\n                         \\n                     </td>\\n                \\n                    <td class=\"comparison_sim_items_column comparable_item4\">\\n                         \\n                            \\n                         \\n                             <a class=\"a-spacing-top-small a-link-normal\" target=\"_self\" rel=\"noopener\" href=\"/gp/help/seller/at-a-glance.html/ref=psdc_10304191_s5_B01HHJQN8E?ie=UTF8&amp;seller=A2A0528UIFJUPL&amp;isAmazonFulfilled=1\">YamaMarket</a>\\n                         \\n                         \\n                     </td>\\n                \\n             </tr>\\n\\n\\n            \\n       '\n",
            " ' class=\"a-bordered a-horizontal-stripes  a-spacing-extra-large a-size-base comparison_table\">\\n\\n\\n\\n            \\n            \\n            \\n            \\n            \\n            <tr class=\"comparison_table_image_row\">\\n                <td class=\"comparison_table_first_col\"></td>\\n\\n\\n                <th class=\"comparison_image_title_cell\" role=\"columnheader\">\\n                    <div class=\"a-row a-spacing-top-micro\">\\n                        <center>\\n                             <img alt=\"Pokemon Plush 9.2 Inch / 23cm Gengar Doll Stuffed Animals Figure Soft Anime Collection Toy\" src=\"https://images-na.ssl-images-amazon.com/images/I/51MJdQ7FetL._SL500_AC_SS350_.jpg\" id=\"comparison_image\">\\n                        </center>\\n                    </div>\\n                    <div class=\"a-row a-spacing-top-small\">\\n                        <div id=\"comparison_title\" class=\"a-section a-spacing-none\">\\n                            <span aria-hidden=\"true\" class=\"a-size-base a-color-base a-text-bold\">\\n                                This item\\n                            </span>\\n                            <span aria-hidden=\"true\" class=\"a-size-base a-color-base\">Pokemon Plush 9.2 Inch / 23cm Gengar Doll Stuffed Animals Figure Soft Anime Collection Toy</span>\\n                        </div>\\n                        \\n                        \\n                    </div>\\n                </th>\\n\\n\\n                \\n                    <th class=\"comparison_image_title_cell comparable_item0\" role=\"columnheader\">\\n                        <a class=\"a-link-normal\" target=\"_self\" rel=\"noopener\" href=\"/dp/B01KAWUITU/ref=psdc_10304191_t1_B01HIUEEHO\">\\n                          <div class=\"a-row a-spacing-top-micro\">\\n                            <center>\\n                                <img alt=\"\" src=\"https://images-na.ssl-images-amazon.com/images/I/414a3l5hS4L._SL500_AC_SS350_.jpg\" aria-hidden=\"true\" id=\"comparison_image0\">\\n                            </center>\\n                          </div>\\n                          <div id=\"comparison_title0\" class=\"a-row a-spacing-top-small\">\\n                            <span class=\"a-size-base\">Pokemon Plush 11.6 Inch / 29cm Charmander Doll Stuffed Animals Figure Soft Anime Collection Toy</span>\\n                          </div>\\n                        </a>\\n                        \\n                        \\n                    </th>\\n                \\n                    <th class=\"comparison_image_title_cell comparable_item1\" role=\"columnheader\">\\n                        <a class=\"a-link-normal\" target=\"_self\" rel=\"noopener\" href=\"/dp/B00NWV6PJE/ref=psdc_10304191_t2_B01HIUEEHO\">\\n                          <div class=\"a-row a-spacing-top-micro\">\\n                            <center>\\n                                <img alt=\"\" src=\"https://images-na.ssl-images-amazon.com/images/I/51daPEUeSTL._SL500_AC_SS350_.jpg\" aria-hidden=\"true\" id=\"comparison_image1\">\\n                            </center>\\n                          </div>\\n                          <div id=\"comparison_title1\" class=\"a-row a-spacing-top-small\">\\n                            <span class=\"a-size-base\">Pocoyo 10\" Anime Animal Stuffed Plush Toys Pocoyo Elly</span>\\n                          </div>\\n                        </a>\\n                        \\n                        \\n                    </th>\\n                \\n                    <th class=\"comparison_image_title_cell comparable_item2\" role=\"columnheader\">\\n                        <a class=\"a-link-normal\" target=\"_self\" rel=\"noopener\" href=\"/dp/B00S65NE2C/ref=psdc_10304191_t3_B01HIUEEHO\">\\n                          <div class=\"a-row a-spacing-top-micro\">\\n                            <center>\\n                                <img alt=\"\" src=\"https://images-na.ssl-images-amazon.com/images/I/61L5kuWd1-L._SL500_AC_SS350_.jpg\" aria-hidden=\"true\" id=\"comparison_image2\">\\n                            </center>\\n                          </div>\\n                          <div id=\"comparison_title2\" class=\"a-row a-spacing-top-small\">\\n                            <span class=\"a-size-base\">Pocoyo 14cm Anime Animal Stuffed Plush Toys Loula</span>\\n                          </div>\\n                        </a>\\n                        \\n                        \\n                    </th>\\n                \\n            </tr>\\n\\n\\n            <tr></tr>\\n\\n\\n            \\n            \\n            <tr>\\n                <td class=\"comparison_table_first_col\"></td>\\n\\n\\n                <td class=\"comparison_add_to_cart_button\">\\n                    \\n                        \\n                        \\n                        \\n                            <span id=\"comparison_add_to_cart_button\" class=\"a-button a-spacing-small a-button-primary\"><span class=\"a-button-inner\"><a id=\"comparison_add_to_cart_button-announce\" href=\"/gp/item-dispatch/ref=psdc_10304191_a0_B01HIUEEHO?ie=UTF8&amp;itemCount=1&amp;nodeID=3760911&amp;offeringID.1=iR7hlPGAr5B6Ayqf5FtDDuSOBdGzxJHSGwJ4XCD7n%252BtHNnfgV3KmzzC71JTOLbjyeu59KP%252FtLxJT6k7quAuY8HXO228cioEgdy7ZXGZ8ygf829M9KkMNyKXU52Ypu%252FG5I27xBxy7%252F8qda8RFnEazicutQE9qb1W1&amp;storeID=beauty&amp;session-id=135-1438400-1937644&amp;submit.addToCart=addToCart&amp;signInToHUC=0\" class=\"a-button-text\" role=\"button\">Add to Cart</a></span></span>\\n                        \\n                    \\n                </td>\\n\\n\\n                \\n                    <td class=\"a-text-left comparison_add_to_cart_button comparable_item0\">\\n                        \\n                            \\n                            \\n                                <span id=\"comparison_add_to_cart_button0\" class=\"a-button a-spacing-small a-button-primary\"><span class=\"a-button-inner\"><a id=\"comparison_add_to_cart_button0-announce\" href=\"/gp/item-dispatch/ref=psdc_10304191_a1_B01HIUEEHO?ie=UTF8&amp;itemCount=1&amp;nodeID=3760911&amp;offeringID.1=iR7hlPGAr5B6Ayqf5FtDDhPBfcVbBfqTdNx0ug%252Fl7ZLkRK3q%252BtGjOnG%252Bxlh9BMDgXjefjDXD0n5r%252FZMtmLK76Tc2ewX43amlCFgIppkrUHPw1xPBH18UKfG5DNuCW0X%252FiKidEA52l125Yb%252FKS2YiwlTvbw5JYFXK&amp;storeID=beauty&amp;session-id=135-1438400-1937644&amp;submit.addToCart=addToCart&amp;signInToHUC=0\" class=\"a-button-text\" role=\"button\">Add to Cart</a></span></span>\\n                            \\n                        \\n                    </td>\\n                \\n                    <td class=\"a-text-left comparison_add_to_cart_button comparable_item1\">\\n                        \\n                            \\n                            \\n                                <span id=\"comparison_add_to_cart_button1\" class=\"a-button a-spacing-small a-button-primary\"><span class=\"a-button-inner\"><a id=\"comparison_add_to_cart_button1-announce\" href=\"/gp/item-dispatch/ref=psdc_10304191_a2_B01HIUEEHO?ie=UTF8&amp;itemCount=1&amp;nodeID=3760911&amp;offeringID.1=iR7hlPGAr5CtOPYvLpamheuTNUbfURhApk98YszV6CGjNIyC3g5S9%252BHaJ2iSORTcKRRFbllCkWuI7TjWd%252BAtGDUsbHl%252BWjE67gs2D7Rfp33yvpFGLADzQQ7Ve8RE9YrMVTogDIqT259xWy9gAmWoWPGk%252Bx97z3%252Fp&amp;storeID=beauty&amp;session-id=135-1438400-1937644&amp;submit.addToCart=addToCart&amp;signInToHUC=0\" class=\"a-button-text\" role=\"button\">Add to Cart</a></span></span>\\n                            \\n                        \\n                    </td>\\n                \\n                    <td class=\"a-text-left comparison_add_to_cart_button comparable_item2\">\\n                        \\n                            \\n                            \\n                                <span id=\"comparison_add_to_cart_button2\" class=\"a-button a-spacing-small a-button-primary\"><span class=\"a-button-inner\"><a id=\"comparison_add_to_cart_button2-announce\" href=\"/gp/item-dispatch/ref=psdc_10304191_a3_B01HIUEEHO?ie=UTF8&amp;itemCount=1&amp;nodeID=3760911&amp;offeringID.1=iR7hlPGAr5CtOPYvLpamhWnYmUTVSk2zJvBDpaLcAqnZ33ReP162erXz6BgRVX8C3qESEJYpEXwVcBmMNxJRVY6j2EPcudhHUpVmuwMYnhTKP6NFaoJMXQziyUpm%252Blxya5ZCxohwBuXEqm%252FFSj%252FM7N64L%252Bp3CMnv&amp;storeID=beauty&amp;session-id=135-1438400-1937644&amp;submit.addToCart=addToCart&amp;signInToHUC=0\" class=\"a-button-text\" role=\"button\">Add to Cart</a></span></span>\\n                            \\n                        \\n                    </td>\\n                \\n            </tr>\\n\\n\\n            <tr id=\"comparison_custormer_rating_row\">\\n                \\n                \\n                \\n                \\n\\n                <th class=\"comparison_attribute_name_column comparison_table_first_col\" role=\"rowheader\">\\n                    <span class=\"a-size-base a-color-base\">Customer Rating</span>\\n                </th>\\n\\n\\n                <td class=\"comparison_baseitem_column\">\\n                    \\n                    \\n                    \\n                    <span>\\n                        <span class=\"a-declarative\" data-action=\"a-popover\" data-a-popover=\"{&quot;max-width&quot;:&quot;700&quot;,&quot;closeButton&quot;:&quot;false&quot;,&quot;position&quot;:&quot;triggerBottom&quot;,&quot;url&quot;:&quot; /gp/customer-reviews/widgets/average-customer-review/popover/ref=acr_dpComparsion__popover?contextId=dpComparsion&amp;asin=B01HIUEEHO &quot;,&quot;restoreFocusOnHide&quot;:&quot;false&quot;}\">\\n                            <i class=\"a-icon a-icon-star a-star-4 a-spacing-none\"><span class=\"a-icon-alt\">4 out of 5 stars</span></i>\\n                        </span>\\n                        <a class=\"a-link-normal\" target=\"_self\" rel=\"noopener\" href=\"/product-reviews/B01HIUEEHO/ref=psdc_10304191_r0_B01HIUEEHO?_encoding=UTF8&amp;showViewpoints=1\">(5)</a>\\n                        <span class=\"a-letter-space\"></span>\\n                    </span>\\n                </td>\\n\\n\\n                \\n                    <td class=\"comparison_sim_items_column comparable_item0\">\\n                        \\n                        \\n                        \\n                        <span>\\n                            <span class=\"a-declarative\" data-action=\"a-popover\" data-a-popover=\"{&quot;max-width&quot;:&quot;700&quot;,&quot;closeButton&quot;:&quot;false&quot;,&quot;position&quot;:&quot;triggerBottom&quot;,&quot;url&quot;:&quot; /gp/customer-reviews/widgets/average-customer-review/popover/ref=acr_dpComparsion__popover?contextId=dpComparsion&amp;asin=B01KAWUITU &quot;,&quot;restoreFocusOnHide&quot;:&quot;false&quot;}\">\\n                                <i class=\"a-icon a-icon-star a-star-0 a-spacing-none\"><span class=\"a-icon-alt\">0 out of 5 stars</span></i>\\n                            </span>\\n                            <a class=\"a-link-normal\" target=\"_self\" rel=\"noopener\" href=\"/product-reviews/B01KAWUITU/ref=psdc_10304191_r1_B01HIUEEHO?_encoding=UTF8&amp;showViewpoints=1\">(0)</a>\\n                            <span class=\"a-letter-space\"></span>\\n                        </span>\\n                    </td>\\n                \\n                    <td class=\"comparison_sim_items_column comparable_item1\">\\n                        \\n                        \\n                        \\n                        <span>\\n                            <span class=\"a-declarative\" data-action=\"a-popover\" data-a-popover=\"{&quot;max-width&quot;:&quot;700&quot;,&quot;closeButton&quot;:&quot;false&quot;,&quot;position&quot;:&quot;triggerBottom&quot;,&quot;url&quot;:&quot; /gp/customer-reviews/widgets/average-customer-review/popover/ref=acr_dpComparsion__popover?contextId=dpComparsion&amp;asin=B00NWV6PJE &quot;,&quot;restoreFocusOnHide&quot;:&quot;false&quot;}\">\\n                                <i class=\"a-icon a-icon-star a-star-5 a-spacing-none\"><span class=\"a-icon-alt\">5 out of 5 stars</span></i>\\n                            </span>\\n                            <a class=\"a-link-normal\" target=\"_self\" rel=\"noopener\" href=\"/product-reviews/B00NWV6PJE/ref=psdc_10304191_r2_B01HIUEEHO?_encoding=UTF8&amp;showViewpoints=1\">(1)</a>\\n                            <span class=\"a-letter-space\"></span>\\n                        </span>\\n                    </td>\\n                \\n                    <td class=\"comparison_sim_items_column comparable_item2\">\\n                        \\n                        \\n                        \\n                        <span>\\n                            <span class=\"a-declarative\" data-action=\"a-popover\" data-a-popover=\"{&quot;max-width&quot;:&quot;700&quot;,&quot;closeButton&quot;:&quot;false&quot;,&quot;position&quot;:&quot;triggerBottom&quot;,&quot;url&quot;:&quot; /gp/customer-reviews/widgets/average-customer-review/popover/ref=acr_dpComparsion__popover?contextId=dpComparsion&amp;asin=B00S65NE2C &quot;,&quot;restoreFocusOnHide&quot;:&quot;false&quot;}\">\\n                                <i class=\"a-icon a-icon-star a-star-0 a-spacing-none\"><span class=\"a-icon-alt\">0 out of 5 stars</span></i>\\n                            </span>\\n                            <a class=\"a-link-normal\" target=\"_self\" rel=\"noopener\" href=\"/product-reviews/B00S65NE2C/ref=psdc_10304191_r3_B01HIUEEHO?_encoding=UTF8&amp;showViewpoints=1\">(0)</a>\\n                            <span class=\"a-letter-space\"></span>\\n                        </span>\\n                    </td>\\n                \\n            </tr>\\n\\n\\n            <tr id=\"comparison_price_row\">\\n                <th class=\"comparison_attribute_name_column comparison_table_first_col\" role=\"rowheader\">\\n                    <span class=\"a-size-base a-color-base\">Price</span>\\n                </th>\\n\\n\\n                <td class=\"comparison_baseitem_column\">\\n                    \\n                        \\n                        \\n                        \\n                        \\n                            \\n                                \\n                                    <span class=\"a-price\" data-a-size=\"l\" data-a-color=\"base\"><span class=\"a-offscreen\">$20.74</span><span aria-hidden=\"true\"><span class=\"a-price-symbol\">$</span><span class=\"a-price-whole\">20<span class=\"a-price-decimal\">\\x00</span></span><span class=\"a-price-fraction\">74</span></span></span>\\n                                \\n                                \\n                            \\n                        \\n                    \\n                </td>\\n\\n\\n                \\n                    <td class=\"comparison_sim_items_column comparable_item0\">\\n                    \\n                        \\n                        \\n                        \\n                            \\n                                \\n                                    <span class=\"a-price\" data-a-size=\"l\" data-a-color=\"base\"><span class=\"a-offscreen\">$15.25</span><span aria-hidden=\"true\"><span class=\"a-price-symbol\">$</span><span class=\"a-price-whole\">15<span class=\"a-price-decimal\">\\x00</span></span><span class=\"a-price-fraction\">25</span></span></span>\\n                                \\n                                \\n                            \\n                        \\n                    \\n                    </td>\\n                \\n                    <td class=\"comparison_sim_items_column comparable_item1\">\\n                    \\n                        \\n                        \\n                        \\n                            \\n                                \\n                                    <span class=\"a-price\" data-a-size=\"l\" data-a-color=\"base\"><span class=\"a-offscreen\">$36.99</span><span aria-hidden=\"true\"><span class=\"a-price-symbol\">$</span><span class=\"a-price-whole\">36<span class=\"a-price-decimal\">\\x00</span></span><span class=\"a-price-fraction\">99</span></span></span>\\n                                \\n                                \\n                            \\n                        \\n                    \\n                    </td>\\n                \\n                    <td class=\"comparison_sim_items_column comparable_item2\">\\n                    \\n                        \\n                        \\n                        \\n                            \\n                                \\n                                    <span class=\"a-price\" data-a-size=\"l\" data-a-color=\"base\"><span class=\"a-offscreen\">$25.51</span><span aria-hidden=\"true\"><span class=\"a-price-symbol\">$</span><span class=\"a-price-whole\">25<span class=\"a-price-decimal\">\\x00</span></span><span class=\"a-price-fraction\">51</span></span></span>\\n                                \\n                                \\n                            \\n                        \\n                    \\n                    </td>\\n                \\n            </tr>\\n\\n\\n    \\n                <tr id=\"comparison_shipping_info_row\">\\n                    <th class=\"comparison_attribute_name_column comparison_table_first_col\" role=\"rowheader\">\\n                        <span class=\"a-size-base a-color-base\">Shipping</span>\\n                    </th>\\n\\n    \\n                    <td class=\"comparison_baseitem_column\">\\n                        \\n                            \\n                            \\n                            \\n                                <span class=\"a-size-base a-color-base\">Eligible for FREE Shipping</span>\\n                            \\n                            \\n                            \\n                            \\n                            \\n                        \\n                    </td>\\n\\n    \\n                    \\n                        <td class=\"comparison_sim_items_column comparable_item0\">\\n                            \\n                                \\n                                \\n                                    <span class=\"a-size-base a-color-base\">Eligible for FREE Shipping</span>\\n                                \\n                                \\n                                \\n                                \\n                                \\n                            \\n                        </td>\\n                    \\n                        <td class=\"comparison_sim_items_column comparable_item1\">\\n                            \\n                                \\n                                \\n                                \\n                                \\n                                \\n                                    <span class=\"a-size-base a-color-price a-text-bold\">$4.49</span>\\n                                \\n                                \\n                            \\n                        </td>\\n                    \\n                        <td class=\"comparison_sim_items_column comparable_item2\">\\n                            \\n                                \\n                                \\n                                \\n                                \\n                                \\n                                    <span class=\"a-size-base a-color-price a-text-bold\">$4.49</span>\\n                                \\n                                \\n                            \\n                        </td>\\n                    \\n                </tr>\\n\\n\\n\\n            <tr id=\"comparison_sold_by_row\">\\n                <th class=\"comparison_attribute_name_column comparison_table_first_col\" role=\"rowheader\">\\n                    <span class=\"a-size-base a-color-base\">Sold By</span>\\n                </th>\\n\\n  \\n                <td class=\"comparison_baseitem_column\">\\n                    \\n                        \\n                        \\n                        \\n                            <a class=\"a-spacing-top-small a-link-normal\" target=\"_self\" rel=\"noopener\" href=\"/gp/help/seller/at-a-glance.html/ref=psdc_10304191_s0_B01HIUEEHO?ie=UTF8&amp;seller=A25YEU9EMIVXVC\">TILTON GRAY</a>\\n                        \\n                     \\n                </td>\\n\\n\\n                \\n                    <td class=\"comparison_sim_items_column comparable_item0\">\\n                         \\n                            \\n                         \\n                             <a class=\"a-spacing-top-small a-link-normal\" target=\"_self\" rel=\"noopener\" href=\"/gp/help/seller/at-a-glance.html/ref=psdc_10304191_s1_B01HIUEEHO?ie=UTF8&amp;seller=A2GV1O0AYGRZLM\">stephanie nelson</a>\\n                         \\n                         \\n                     </td>\\n                \\n                    <td class=\"comparison_sim_items_column comparable_item1\">\\n                         \\n                            \\n                         \\n                             <a class=\"a-spacing-top-small a-link-normal\" target=\"_self\" rel=\"noopener\" href=\"/gp/help/seller/at-a-glance.html/ref=psdc_10304191_s2_B01HIUEEHO?ie=UTF8&amp;seller=A2AZ7JNT9N1GWO\">24x7 toys</a>\\n                         \\n                         \\n                     </td>\\n                \\n                    <td class=\"comparison_sim_items_column comparable_item2\">\\n                         \\n                            \\n                         \\n                             <a class=\"a-spacing-top-small a-link-normal\" target=\"_self\" rel=\"noopener\" href=\"/gp/help/seller/at-a-glance.html/ref=psdc_10304191_s3_B01HIUEEHO?ie=UTF8&amp;seller=A2AZ7JNT9N1GWO\">24x7 toys</a>\\n                         \\n                         \\n                     </td>\\n                \\n             </tr>\\n\\n\\n            \\n       ']\n",
            "# details: 15929                             {'ASIN: ': 'B00N0IRJRQ'}\n",
            "20846    {'Shipping Weight:': '2.1 pounds', 'ASIN: ': '...\n",
            "15685                             {'ASIN: ': 'B00MS1LBJS'}\n",
            "9615      {'ASIN: ': 'B00DTMIGUW', 'UPC:': '692198832480'}\n",
            "2595     {'\n",
            "    Product Dimensions: \n",
            "    ': '8.8 x 1.3 ...\n",
            "Name: details, dtype: object\n"
          ]
        }
      ],
      "id": "fyANlkXYLWt_"
    },
    {
      "cell_type": "code",
      "source": [
        "metadata.head(1)"
      ],
      "metadata": {
        "colab": {
          "base_uri": "https://localhost:8080/",
          "height": 0
        },
        "id": "QlY8o72oE0dq",
        "outputId": "d9921dfe-2e5c-4bbf-d790-4f02c01546b8"
      },
      "execution_count": 11,
      "outputs": [
        {
          "output_type": "execute_result",
          "data": {
            "text/html": [
              "\n",
              "  <div id=\"df-e623a9e0-5812-49bf-8e7b-3735ced35a14\">\n",
              "    <div class=\"colab-df-container\">\n",
              "      <div>\n",
              "<style scoped>\n",
              "    .dataframe tbody tr th:only-of-type {\n",
              "        vertical-align: middle;\n",
              "    }\n",
              "\n",
              "    .dataframe tbody tr th {\n",
              "        vertical-align: top;\n",
              "    }\n",
              "\n",
              "    .dataframe thead th {\n",
              "        text-align: right;\n",
              "    }\n",
              "</style>\n",
              "<table border=\"1\" class=\"dataframe\">\n",
              "  <thead>\n",
              "    <tr style=\"text-align: right;\">\n",
              "      <th></th>\n",
              "      <th>category</th>\n",
              "      <th>tech1</th>\n",
              "      <th>description</th>\n",
              "      <th>fit</th>\n",
              "      <th>title</th>\n",
              "      <th>also_buy</th>\n",
              "      <th>tech2</th>\n",
              "      <th>brand</th>\n",
              "      <th>feature</th>\n",
              "      <th>rank</th>\n",
              "      <th>also_view</th>\n",
              "      <th>details</th>\n",
              "      <th>main_cat</th>\n",
              "      <th>similar_item</th>\n",
              "      <th>date</th>\n",
              "      <th>price</th>\n",
              "      <th>asin</th>\n",
              "      <th>imageURL</th>\n",
              "      <th>imageURLHighRes</th>\n",
              "    </tr>\n",
              "  </thead>\n",
              "  <tbody>\n",
              "    <tr>\n",
              "      <th>0</th>\n",
              "      <td>[]</td>\n",
              "      <td></td>\n",
              "      <td>[Loud 'N Clear Personal Sound Amplifier allows...</td>\n",
              "      <td></td>\n",
              "      <td>Loud 'N Clear&amp;trade; Personal Sound Amplifier</td>\n",
              "      <td>[]</td>\n",
              "      <td></td>\n",
              "      <td>idea village</td>\n",
              "      <td>[]</td>\n",
              "      <td>2,938,573 in Beauty &amp; Personal Care (</td>\n",
              "      <td>[]</td>\n",
              "      <td>{'ASIN: ': '6546546450'}</td>\n",
              "      <td>All Beauty</td>\n",
              "      <td></td>\n",
              "      <td></td>\n",
              "      <td></td>\n",
              "      <td>6546546450</td>\n",
              "      <td>[]</td>\n",
              "      <td>[]</td>\n",
              "    </tr>\n",
              "  </tbody>\n",
              "</table>\n",
              "</div>\n",
              "      <button class=\"colab-df-convert\" onclick=\"convertToInteractive('df-e623a9e0-5812-49bf-8e7b-3735ced35a14')\"\n",
              "              title=\"Convert this dataframe to an interactive table.\"\n",
              "              style=\"display:none;\">\n",
              "        \n",
              "  <svg xmlns=\"http://www.w3.org/2000/svg\" height=\"24px\"viewBox=\"0 0 24 24\"\n",
              "       width=\"24px\">\n",
              "    <path d=\"M0 0h24v24H0V0z\" fill=\"none\"/>\n",
              "    <path d=\"M18.56 5.44l.94 2.06.94-2.06 2.06-.94-2.06-.94-.94-2.06-.94 2.06-2.06.94zm-11 1L8.5 8.5l.94-2.06 2.06-.94-2.06-.94L8.5 2.5l-.94 2.06-2.06.94zm10 10l.94 2.06.94-2.06 2.06-.94-2.06-.94-.94-2.06-.94 2.06-2.06.94z\"/><path d=\"M17.41 7.96l-1.37-1.37c-.4-.4-.92-.59-1.43-.59-.52 0-1.04.2-1.43.59L10.3 9.45l-7.72 7.72c-.78.78-.78 2.05 0 2.83L4 21.41c.39.39.9.59 1.41.59.51 0 1.02-.2 1.41-.59l7.78-7.78 2.81-2.81c.8-.78.8-2.07 0-2.86zM5.41 20L4 18.59l7.72-7.72 1.47 1.35L5.41 20z\"/>\n",
              "  </svg>\n",
              "      </button>\n",
              "      \n",
              "  <style>\n",
              "    .colab-df-container {\n",
              "      display:flex;\n",
              "      flex-wrap:wrap;\n",
              "      gap: 12px;\n",
              "    }\n",
              "\n",
              "    .colab-df-convert {\n",
              "      background-color: #E8F0FE;\n",
              "      border: none;\n",
              "      border-radius: 50%;\n",
              "      cursor: pointer;\n",
              "      display: none;\n",
              "      fill: #1967D2;\n",
              "      height: 32px;\n",
              "      padding: 0 0 0 0;\n",
              "      width: 32px;\n",
              "    }\n",
              "\n",
              "    .colab-df-convert:hover {\n",
              "      background-color: #E2EBFA;\n",
              "      box-shadow: 0px 1px 2px rgba(60, 64, 67, 0.3), 0px 1px 3px 1px rgba(60, 64, 67, 0.15);\n",
              "      fill: #174EA6;\n",
              "    }\n",
              "\n",
              "    [theme=dark] .colab-df-convert {\n",
              "      background-color: #3B4455;\n",
              "      fill: #D2E3FC;\n",
              "    }\n",
              "\n",
              "    [theme=dark] .colab-df-convert:hover {\n",
              "      background-color: #434B5C;\n",
              "      box-shadow: 0px 1px 3px 1px rgba(0, 0, 0, 0.15);\n",
              "      filter: drop-shadow(0px 1px 2px rgba(0, 0, 0, 0.3));\n",
              "      fill: #FFFFFF;\n",
              "    }\n",
              "  </style>\n",
              "\n",
              "      <script>\n",
              "        const buttonEl =\n",
              "          document.querySelector('#df-e623a9e0-5812-49bf-8e7b-3735ced35a14 button.colab-df-convert');\n",
              "        buttonEl.style.display =\n",
              "          google.colab.kernel.accessAllowed ? 'block' : 'none';\n",
              "\n",
              "        async function convertToInteractive(key) {\n",
              "          const element = document.querySelector('#df-e623a9e0-5812-49bf-8e7b-3735ced35a14');\n",
              "          const dataTable =\n",
              "            await google.colab.kernel.invokeFunction('convertToInteractive',\n",
              "                                                     [key], {});\n",
              "          if (!dataTable) return;\n",
              "\n",
              "          const docLinkHtml = 'Like what you see? Visit the ' +\n",
              "            '<a target=\"_blank\" href=https://colab.research.google.com/notebooks/data_table.ipynb>data table notebook</a>'\n",
              "            + ' to learn more about interactive tables.';\n",
              "          element.innerHTML = '';\n",
              "          dataTable['output_type'] = 'display_data';\n",
              "          await google.colab.output.renderOutput(dataTable, element);\n",
              "          const docLink = document.createElement('div');\n",
              "          docLink.innerHTML = docLinkHtml;\n",
              "          element.appendChild(docLink);\n",
              "        }\n",
              "      </script>\n",
              "    </div>\n",
              "  </div>\n",
              "  "
            ],
            "text/plain": [
              "  category tech1  ... imageURL imageURLHighRes\n",
              "0       []        ...       []              []\n",
              "\n",
              "[1 rows x 19 columns]"
            ]
          },
          "metadata": {},
          "execution_count": 11
        }
      ],
      "id": "QlY8o72oE0dq"
    },
    {
      "cell_type": "code",
      "source": [
        "(metadata.asin.value_counts()!=1).sum()"
      ],
      "metadata": {
        "colab": {
          "base_uri": "https://localhost:8080/"
        },
        "id": "YguA4chfnOXm",
        "outputId": "2e3b88c1-4de6-418f-8954-8acc64ad0dcd"
      },
      "execution_count": 12,
      "outputs": [
        {
          "output_type": "execute_result",
          "data": {
            "text/plain": [
              "404"
            ]
          },
          "metadata": {},
          "execution_count": 12
        }
      ],
      "id": "YguA4chfnOXm"
    },
    {
      "cell_type": "code",
      "source": [
        "metadata_clean = metadata[['asin', 'rank', 'brand', 'price', 'also_view', 'also_buy']]\n",
        "metadata_clean = metadata_clean.drop_duplicates('asin')\n",
        "metadata_clean.head(1)"
      ],
      "metadata": {
        "colab": {
          "base_uri": "https://localhost:8080/",
          "height": 0
        },
        "id": "YLb4Ie78BUC1",
        "outputId": "dddd64f4-9b0f-4faf-9a21-3d28ef964ef5"
      },
      "execution_count": 13,
      "outputs": [
        {
          "output_type": "execute_result",
          "data": {
            "text/html": [
              "\n",
              "  <div id=\"df-2947472d-4f58-4f63-b4c7-186a237075f2\">\n",
              "    <div class=\"colab-df-container\">\n",
              "      <div>\n",
              "<style scoped>\n",
              "    .dataframe tbody tr th:only-of-type {\n",
              "        vertical-align: middle;\n",
              "    }\n",
              "\n",
              "    .dataframe tbody tr th {\n",
              "        vertical-align: top;\n",
              "    }\n",
              "\n",
              "    .dataframe thead th {\n",
              "        text-align: right;\n",
              "    }\n",
              "</style>\n",
              "<table border=\"1\" class=\"dataframe\">\n",
              "  <thead>\n",
              "    <tr style=\"text-align: right;\">\n",
              "      <th></th>\n",
              "      <th>asin</th>\n",
              "      <th>rank</th>\n",
              "      <th>brand</th>\n",
              "      <th>price</th>\n",
              "      <th>also_view</th>\n",
              "      <th>also_buy</th>\n",
              "    </tr>\n",
              "  </thead>\n",
              "  <tbody>\n",
              "    <tr>\n",
              "      <th>0</th>\n",
              "      <td>6546546450</td>\n",
              "      <td>2,938,573 in Beauty &amp; Personal Care (</td>\n",
              "      <td>idea village</td>\n",
              "      <td></td>\n",
              "      <td>[]</td>\n",
              "      <td>[]</td>\n",
              "    </tr>\n",
              "  </tbody>\n",
              "</table>\n",
              "</div>\n",
              "      <button class=\"colab-df-convert\" onclick=\"convertToInteractive('df-2947472d-4f58-4f63-b4c7-186a237075f2')\"\n",
              "              title=\"Convert this dataframe to an interactive table.\"\n",
              "              style=\"display:none;\">\n",
              "        \n",
              "  <svg xmlns=\"http://www.w3.org/2000/svg\" height=\"24px\"viewBox=\"0 0 24 24\"\n",
              "       width=\"24px\">\n",
              "    <path d=\"M0 0h24v24H0V0z\" fill=\"none\"/>\n",
              "    <path d=\"M18.56 5.44l.94 2.06.94-2.06 2.06-.94-2.06-.94-.94-2.06-.94 2.06-2.06.94zm-11 1L8.5 8.5l.94-2.06 2.06-.94-2.06-.94L8.5 2.5l-.94 2.06-2.06.94zm10 10l.94 2.06.94-2.06 2.06-.94-2.06-.94-.94-2.06-.94 2.06-2.06.94z\"/><path d=\"M17.41 7.96l-1.37-1.37c-.4-.4-.92-.59-1.43-.59-.52 0-1.04.2-1.43.59L10.3 9.45l-7.72 7.72c-.78.78-.78 2.05 0 2.83L4 21.41c.39.39.9.59 1.41.59.51 0 1.02-.2 1.41-.59l7.78-7.78 2.81-2.81c.8-.78.8-2.07 0-2.86zM5.41 20L4 18.59l7.72-7.72 1.47 1.35L5.41 20z\"/>\n",
              "  </svg>\n",
              "      </button>\n",
              "      \n",
              "  <style>\n",
              "    .colab-df-container {\n",
              "      display:flex;\n",
              "      flex-wrap:wrap;\n",
              "      gap: 12px;\n",
              "    }\n",
              "\n",
              "    .colab-df-convert {\n",
              "      background-color: #E8F0FE;\n",
              "      border: none;\n",
              "      border-radius: 50%;\n",
              "      cursor: pointer;\n",
              "      display: none;\n",
              "      fill: #1967D2;\n",
              "      height: 32px;\n",
              "      padding: 0 0 0 0;\n",
              "      width: 32px;\n",
              "    }\n",
              "\n",
              "    .colab-df-convert:hover {\n",
              "      background-color: #E2EBFA;\n",
              "      box-shadow: 0px 1px 2px rgba(60, 64, 67, 0.3), 0px 1px 3px 1px rgba(60, 64, 67, 0.15);\n",
              "      fill: #174EA6;\n",
              "    }\n",
              "\n",
              "    [theme=dark] .colab-df-convert {\n",
              "      background-color: #3B4455;\n",
              "      fill: #D2E3FC;\n",
              "    }\n",
              "\n",
              "    [theme=dark] .colab-df-convert:hover {\n",
              "      background-color: #434B5C;\n",
              "      box-shadow: 0px 1px 3px 1px rgba(0, 0, 0, 0.15);\n",
              "      filter: drop-shadow(0px 1px 2px rgba(0, 0, 0, 0.3));\n",
              "      fill: #FFFFFF;\n",
              "    }\n",
              "  </style>\n",
              "\n",
              "      <script>\n",
              "        const buttonEl =\n",
              "          document.querySelector('#df-2947472d-4f58-4f63-b4c7-186a237075f2 button.colab-df-convert');\n",
              "        buttonEl.style.display =\n",
              "          google.colab.kernel.accessAllowed ? 'block' : 'none';\n",
              "\n",
              "        async function convertToInteractive(key) {\n",
              "          const element = document.querySelector('#df-2947472d-4f58-4f63-b4c7-186a237075f2');\n",
              "          const dataTable =\n",
              "            await google.colab.kernel.invokeFunction('convertToInteractive',\n",
              "                                                     [key], {});\n",
              "          if (!dataTable) return;\n",
              "\n",
              "          const docLinkHtml = 'Like what you see? Visit the ' +\n",
              "            '<a target=\"_blank\" href=https://colab.research.google.com/notebooks/data_table.ipynb>data table notebook</a>'\n",
              "            + ' to learn more about interactive tables.';\n",
              "          element.innerHTML = '';\n",
              "          dataTable['output_type'] = 'display_data';\n",
              "          await google.colab.output.renderOutput(dataTable, element);\n",
              "          const docLink = document.createElement('div');\n",
              "          docLink.innerHTML = docLinkHtml;\n",
              "          element.appendChild(docLink);\n",
              "        }\n",
              "      </script>\n",
              "    </div>\n",
              "  </div>\n",
              "  "
            ],
            "text/plain": [
              "         asin                                   rank  ... also_view also_buy\n",
              "0  6546546450  2,938,573 in Beauty & Personal Care (  ...        []       []\n",
              "\n",
              "[1 rows x 6 columns]"
            ]
          },
          "metadata": {},
          "execution_count": 13
        }
      ],
      "id": "YLb4Ie78BUC1"
    },
    {
      "cell_type": "code",
      "source": [
        "metadata_clean['price'] = metadata_clean['price'].str.replace('$', '')\n",
        "metadata_clean['price'] = pd.to_numeric(metadata_clean['price'], errors = 'coerce')"
      ],
      "metadata": {
        "id": "2laCdlHhMpHq"
      },
      "execution_count": 14,
      "outputs": [],
      "id": "2laCdlHhMpHq"
    },
    {
      "cell_type": "code",
      "source": [
        "metadata_clean['cate'] = metadata_clean['rank'].str.split(' in ').str[1]\n",
        "metadata_clean['cate'] = metadata_clean['cate'].str.replace('amp;', '')\n",
        "metadata_clean['cate'] = metadata_clean['cate'].str.replace(' \\(', '')\n",
        "metadata_clean['cate'].unique()"
      ],
      "metadata": {
        "colab": {
          "base_uri": "https://localhost:8080/"
        },
        "id": "SOav6QnuEVJa",
        "outputId": "ae5fb52f-6091-4f1e-a471-5728a9a38d07"
      },
      "execution_count": 15,
      "outputs": [
        {
          "output_type": "execute_result",
          "data": {
            "text/plain": [
              "array(['Beauty & Personal Care', nan, 'Grocery & Gourmet Food',\n",
              "       'Health & Household', 'Sports & Outdoors', 'Toys & Games', 'Baby',\n",
              "       'Clothing, Shoes & Jewelry', 'Home & Kitchen', 'Automotive',\n",
              "       'Tools & Home Improvement'], dtype=object)"
            ]
          },
          "metadata": {},
          "execution_count": 15
        }
      ],
      "id": "SOav6QnuEVJa"
    },
    {
      "cell_type": "code",
      "source": [
        "metadata_clean = metadata_clean[metadata_clean['cate'] == 'Beauty & Personal Care']"
      ],
      "metadata": {
        "id": "T-_DVci4l0G2"
      },
      "execution_count": 16,
      "outputs": [],
      "id": "T-_DVci4l0G2"
    },
    {
      "cell_type": "code",
      "source": [
        "metadata_clean['rank'] = metadata_clean['rank'].str.split(expand = True)[0]\n",
        "metadata_clean['rank'] = metadata_clean['rank'].str.replace(',', '')\n",
        "metadata_clean['rank'] = pd.to_numeric(metadata_clean['rank'])"
      ],
      "metadata": {
        "id": "huzcQB3WEDuh"
      },
      "execution_count": 17,
      "outputs": [],
      "id": "huzcQB3WEDuh"
    },
    {
      "cell_type": "code",
      "source": [
        "metadata_clean.head(1)"
      ],
      "metadata": {
        "colab": {
          "base_uri": "https://localhost:8080/",
          "height": 0
        },
        "id": "lyzLudoqKxRM",
        "outputId": "ab0a5345-4dbd-4c7d-d438-8c6ccb8936db"
      },
      "execution_count": 18,
      "outputs": [
        {
          "output_type": "execute_result",
          "data": {
            "text/html": [
              "\n",
              "  <div id=\"df-e9dd052a-2d9d-48e2-aca5-1c096d96799f\">\n",
              "    <div class=\"colab-df-container\">\n",
              "      <div>\n",
              "<style scoped>\n",
              "    .dataframe tbody tr th:only-of-type {\n",
              "        vertical-align: middle;\n",
              "    }\n",
              "\n",
              "    .dataframe tbody tr th {\n",
              "        vertical-align: top;\n",
              "    }\n",
              "\n",
              "    .dataframe thead th {\n",
              "        text-align: right;\n",
              "    }\n",
              "</style>\n",
              "<table border=\"1\" class=\"dataframe\">\n",
              "  <thead>\n",
              "    <tr style=\"text-align: right;\">\n",
              "      <th></th>\n",
              "      <th>asin</th>\n",
              "      <th>rank</th>\n",
              "      <th>brand</th>\n",
              "      <th>price</th>\n",
              "      <th>also_view</th>\n",
              "      <th>also_buy</th>\n",
              "      <th>cate</th>\n",
              "    </tr>\n",
              "  </thead>\n",
              "  <tbody>\n",
              "    <tr>\n",
              "      <th>0</th>\n",
              "      <td>6546546450</td>\n",
              "      <td>2938573</td>\n",
              "      <td>idea village</td>\n",
              "      <td>NaN</td>\n",
              "      <td>[]</td>\n",
              "      <td>[]</td>\n",
              "      <td>Beauty &amp; Personal Care</td>\n",
              "    </tr>\n",
              "  </tbody>\n",
              "</table>\n",
              "</div>\n",
              "      <button class=\"colab-df-convert\" onclick=\"convertToInteractive('df-e9dd052a-2d9d-48e2-aca5-1c096d96799f')\"\n",
              "              title=\"Convert this dataframe to an interactive table.\"\n",
              "              style=\"display:none;\">\n",
              "        \n",
              "  <svg xmlns=\"http://www.w3.org/2000/svg\" height=\"24px\"viewBox=\"0 0 24 24\"\n",
              "       width=\"24px\">\n",
              "    <path d=\"M0 0h24v24H0V0z\" fill=\"none\"/>\n",
              "    <path d=\"M18.56 5.44l.94 2.06.94-2.06 2.06-.94-2.06-.94-.94-2.06-.94 2.06-2.06.94zm-11 1L8.5 8.5l.94-2.06 2.06-.94-2.06-.94L8.5 2.5l-.94 2.06-2.06.94zm10 10l.94 2.06.94-2.06 2.06-.94-2.06-.94-.94-2.06-.94 2.06-2.06.94z\"/><path d=\"M17.41 7.96l-1.37-1.37c-.4-.4-.92-.59-1.43-.59-.52 0-1.04.2-1.43.59L10.3 9.45l-7.72 7.72c-.78.78-.78 2.05 0 2.83L4 21.41c.39.39.9.59 1.41.59.51 0 1.02-.2 1.41-.59l7.78-7.78 2.81-2.81c.8-.78.8-2.07 0-2.86zM5.41 20L4 18.59l7.72-7.72 1.47 1.35L5.41 20z\"/>\n",
              "  </svg>\n",
              "      </button>\n",
              "      \n",
              "  <style>\n",
              "    .colab-df-container {\n",
              "      display:flex;\n",
              "      flex-wrap:wrap;\n",
              "      gap: 12px;\n",
              "    }\n",
              "\n",
              "    .colab-df-convert {\n",
              "      background-color: #E8F0FE;\n",
              "      border: none;\n",
              "      border-radius: 50%;\n",
              "      cursor: pointer;\n",
              "      display: none;\n",
              "      fill: #1967D2;\n",
              "      height: 32px;\n",
              "      padding: 0 0 0 0;\n",
              "      width: 32px;\n",
              "    }\n",
              "\n",
              "    .colab-df-convert:hover {\n",
              "      background-color: #E2EBFA;\n",
              "      box-shadow: 0px 1px 2px rgba(60, 64, 67, 0.3), 0px 1px 3px 1px rgba(60, 64, 67, 0.15);\n",
              "      fill: #174EA6;\n",
              "    }\n",
              "\n",
              "    [theme=dark] .colab-df-convert {\n",
              "      background-color: #3B4455;\n",
              "      fill: #D2E3FC;\n",
              "    }\n",
              "\n",
              "    [theme=dark] .colab-df-convert:hover {\n",
              "      background-color: #434B5C;\n",
              "      box-shadow: 0px 1px 3px 1px rgba(0, 0, 0, 0.15);\n",
              "      filter: drop-shadow(0px 1px 2px rgba(0, 0, 0, 0.3));\n",
              "      fill: #FFFFFF;\n",
              "    }\n",
              "  </style>\n",
              "\n",
              "      <script>\n",
              "        const buttonEl =\n",
              "          document.querySelector('#df-e9dd052a-2d9d-48e2-aca5-1c096d96799f button.colab-df-convert');\n",
              "        buttonEl.style.display =\n",
              "          google.colab.kernel.accessAllowed ? 'block' : 'none';\n",
              "\n",
              "        async function convertToInteractive(key) {\n",
              "          const element = document.querySelector('#df-e9dd052a-2d9d-48e2-aca5-1c096d96799f');\n",
              "          const dataTable =\n",
              "            await google.colab.kernel.invokeFunction('convertToInteractive',\n",
              "                                                     [key], {});\n",
              "          if (!dataTable) return;\n",
              "\n",
              "          const docLinkHtml = 'Like what you see? Visit the ' +\n",
              "            '<a target=\"_blank\" href=https://colab.research.google.com/notebooks/data_table.ipynb>data table notebook</a>'\n",
              "            + ' to learn more about interactive tables.';\n",
              "          element.innerHTML = '';\n",
              "          dataTable['output_type'] = 'display_data';\n",
              "          await google.colab.output.renderOutput(dataTable, element);\n",
              "          const docLink = document.createElement('div');\n",
              "          docLink.innerHTML = docLinkHtml;\n",
              "          element.appendChild(docLink);\n",
              "        }\n",
              "      </script>\n",
              "    </div>\n",
              "  </div>\n",
              "  "
            ],
            "text/plain": [
              "         asin     rank         brand  ...  also_view also_buy                    cate\n",
              "0  6546546450  2938573  idea village  ...         []       []  Beauty & Personal Care\n",
              "\n",
              "[1 rows x 7 columns]"
            ]
          },
          "metadata": {},
          "execution_count": 18
        }
      ],
      "id": "lyzLudoqKxRM"
    },
    {
      "cell_type": "markdown",
      "metadata": {
        "id": "FFiC2D-KvlZY"
      },
      "source": [
        "## 資料切分"
      ],
      "id": "FFiC2D-KvlZY"
    },
    {
      "cell_type": "code",
      "execution_count": 19,
      "metadata": {
        "id": "pqumQ3OmvlZY"
      },
      "outputs": [],
      "source": [
        "ratings_trainings = ratings[\n",
        "    (ratings['DATE'] < '2018-09-01')\n",
        "]\n",
        "ratings_testings = ratings[\n",
        "    (ratings['DATE'] >= '2018-09-01') & \n",
        "    (ratings['DATE'] <= '2018-09-30')\n",
        "]\n",
        "ratings_testings_by_user = ratings_testings.groupby('reviewerID').agg(list).reset_index()[['reviewerID', 'asin']].to_dict('records')\n",
        "ratings_testings_by_user = { rating['reviewerID']: rating['asin'] for rating in ratings_testings_by_user }\n",
        "users = list(ratings_testings_by_user.keys())"
      ],
      "id": "pqumQ3OmvlZY"
    },
    {
      "cell_type": "code",
      "source": [
        "users_training = ratings_trainings['reviewerID'].unique()"
      ],
      "metadata": {
        "id": "5ilhZyJtfxlm"
      },
      "execution_count": 20,
      "outputs": [],
      "id": "5ilhZyJtfxlm"
    },
    {
      "cell_type": "markdown",
      "id": "a6c76061",
      "metadata": {
        "id": "a6c76061"
      },
      "source": [
        "## 產生推薦"
      ]
    },
    {
      "cell_type": "code",
      "source": [
        "!pip install surprise"
      ],
      "metadata": {
        "colab": {
          "base_uri": "https://localhost:8080/"
        },
        "id": "gE08y9s4xRfC",
        "outputId": "259afdd4-b61e-4455-c5ca-96f91950cf0a"
      },
      "id": "gE08y9s4xRfC",
      "execution_count": 21,
      "outputs": [
        {
          "output_type": "stream",
          "name": "stdout",
          "text": [
            "Requirement already satisfied: surprise in /usr/local/lib/python3.7/dist-packages (0.1)\n",
            "Requirement already satisfied: scikit-surprise in /usr/local/lib/python3.7/dist-packages (from surprise) (1.1.1)\n",
            "Requirement already satisfied: numpy>=1.11.2 in /usr/local/lib/python3.7/dist-packages (from scikit-surprise->surprise) (1.19.5)\n",
            "Requirement already satisfied: joblib>=0.11 in /usr/local/lib/python3.7/dist-packages (from scikit-surprise->surprise) (1.1.0)\n",
            "Requirement already satisfied: six>=1.10.0 in /usr/local/lib/python3.7/dist-packages (from scikit-surprise->surprise) (1.15.0)\n",
            "Requirement already satisfied: scipy>=1.0.0 in /usr/local/lib/python3.7/dist-packages (from scikit-surprise->surprise) (1.4.1)\n"
          ]
        }
      ]
    },
    {
      "cell_type": "code",
      "execution_count": 22,
      "id": "9280a043",
      "metadata": {
        "id": "9280a043"
      },
      "outputs": [],
      "source": [
        "import time\n",
        "import datetime\n",
        "import pandas as pd\n",
        "from surprise import Reader\n",
        "from surprise import Dataset\n",
        "from surprise import KNNBasic\n",
        "\n",
        "def recommender(training_data, users=[], k=10, user_based=False, algo=KNNBasic, days=9999, score=0):\n",
        "\n",
        "    training_data = (\n",
        "        training_data\n",
        "        .sort_values(\"DATE\", ascending=False)\n",
        "        .groupby(['reviewerID', 'asin']).head(1)\n",
        "    )\n",
        "    training_data = training_data[(training_data['DATE'] + datetime.timedelta(days = days)) > '2018-09-01']\n",
        "    training_data = training_data[training_data['overall'] > score]\n",
        "\n",
        "    reader = Reader(rating_scale=(0, 5))\n",
        "    training_data = training_data[['reviewerID', 'asin', 'overall']]\n",
        "    data = Dataset.load_from_df(training_data, reader=reader)\n",
        "\n",
        "    sim_options = {\n",
        "        'name': 'cosine',\n",
        "        'user_based': user_based  # compute similarities between items\n",
        "    }\n",
        "    algo_impl = algo(sim_options=sim_options)\n",
        "    trainset = data.build_full_trainset()\n",
        "    algo_impl.fit(trainset)\n",
        "\n",
        "    recommendation = {}\n",
        "    for user in users:\n",
        "        items_user_rated = set(training_data.loc[training_data['reviewerID'] == user]['asin'].to_list())\n",
        "        recommend_item_list = []\n",
        "        recommend_item_set = set()\n",
        "        for item in items_user_rated:\n",
        "            iid = algo_impl.trainset.to_inner_iid(item)\n",
        "            recommend_items_iid = algo_impl.get_neighbors(iid, k)\n",
        "            for sim_item_iid in recommend_items_iid:\n",
        "                item_raw_id = algo_impl.trainset.to_raw_iid(sim_item_iid)\n",
        "                if item_raw_id not in items_user_rated and item_raw_id not in recommend_item_set:\n",
        "                    recommend_item_list.append(item_raw_id)\n",
        "                    recommend_item_set.add(item_raw_id)\n",
        "\n",
        "            if len(recommend_item_list) >= k:\n",
        "                recommend_item_list = recommend_item_list[:k]\n",
        "                break\n",
        "        recommendation[user] = recommend_item_list\n",
        "\n",
        "    return recommendation"
      ]
    },
    {
      "cell_type": "markdown",
      "id": "04a4ca9e",
      "metadata": {
        "id": "04a4ca9e"
      },
      "source": [
        "## 結果評估"
      ]
    },
    {
      "cell_type": "code",
      "execution_count": 23,
      "id": "ee763747",
      "metadata": {
        "id": "ee763747"
      },
      "outputs": [],
      "source": [
        "def evaluate(ratings_testings_by_user={}, ratings_by_user={}, method=None):\n",
        "    '''\n",
        "    * ratings_testings_by_user: dict 真實被購買的商品資料（2018-09-01 以後資料）\n",
        "    * ratings_by_user: dict 利用訓練資料學習的推薦商品\n",
        "    * method: str\n",
        "    * score: float\n",
        "    '''\n",
        "    total = 0\n",
        "    for d in ratings_testings_by_user:\n",
        "        if d in ratings_by_user:\n",
        "            total += len(set(ratings_by_user[d]) & set(ratings_testings_by_user[d]))\n",
        "\n",
        "    score = total / len(ratings_testings)\n",
        "    return score"
      ]
    },
    {
      "cell_type": "code",
      "execution_count": 24,
      "id": "53055ac2",
      "metadata": {
        "id": "53055ac2",
        "colab": {
          "base_uri": "https://localhost:8080/"
        },
        "outputId": "1dc44ecf-d0f4-4c04-f64a-1214d89dacd9"
      },
      "outputs": [
        {
          "output_type": "stream",
          "name": "stdout",
          "text": [
            "Computing the cosine similarity matrix...\n",
            "Done computing similarity matrix.\n",
            "0 0.0\n",
            "Computing the cosine similarity matrix...\n",
            "Done computing similarity matrix.\n",
            "1 0.0\n",
            "Computing the cosine similarity matrix...\n",
            "Done computing similarity matrix.\n",
            "2 0.0\n",
            "Computing the cosine similarity matrix...\n",
            "Done computing similarity matrix.\n",
            "3 0.0\n",
            "Computing the cosine similarity matrix...\n",
            "Done computing similarity matrix.\n",
            "4 0.0\n",
            "Computing the cosine similarity matrix...\n",
            "Done computing similarity matrix.\n",
            "5 0.0\n"
          ]
        }
      ],
      "source": [
        "for s in range(6):\n",
        "    ratings_by_user = recommender(ratings_trainings, users, days=30, score=s)\n",
        "    print(s, evaluate(ratings_testings_by_user, ratings_by_user))"
      ]
    },
    {
      "cell_type": "code",
      "source": [
        "for d in range(30,181,30):\n",
        "    ratings_by_user = recommender(ratings_trainings, users, days=d, score=3)\n",
        "    print(d, evaluate(ratings_testings_by_user, ratings_by_user))"
      ],
      "metadata": {
        "colab": {
          "base_uri": "https://localhost:8080/"
        },
        "id": "Ucmj_he_zlgj",
        "outputId": "bdc78c1a-bcef-4c8b-ee1a-2803e7d6c7b9"
      },
      "id": "Ucmj_he_zlgj",
      "execution_count": 26,
      "outputs": [
        {
          "output_type": "stream",
          "name": "stdout",
          "text": [
            "Computing the cosine similarity matrix...\n",
            "Done computing similarity matrix.\n",
            "30 0.0\n",
            "Computing the cosine similarity matrix...\n",
            "Done computing similarity matrix.\n",
            "60 0.0\n",
            "Computing the cosine similarity matrix...\n",
            "Done computing similarity matrix.\n",
            "90 0.0\n",
            "Computing the cosine similarity matrix...\n",
            "Done computing similarity matrix.\n",
            "120 0.0\n",
            "Computing the cosine similarity matrix...\n",
            "Done computing similarity matrix.\n",
            "150 0.001694915254237288\n",
            "Computing the cosine similarity matrix...\n",
            "Done computing similarity matrix.\n",
            "180 0.001694915254237288\n"
          ]
        }
      ]
    }
  ],
  "metadata": {
    "kernelspec": {
      "display_name": "Python 3",
      "language": "python",
      "name": "python3"
    },
    "language_info": {
      "codemirror_mode": {
        "name": "ipython",
        "version": 3
      },
      "file_extension": ".py",
      "mimetype": "text/x-python",
      "name": "python",
      "nbconvert_exporter": "python",
      "pygments_lexer": "ipython3",
      "version": "3.9.0"
    },
    "colab": {
      "name": "Collaborative filtering 推薦系統(using surprise).ipynb",
      "provenance": [],
      "include_colab_link": true
    }
  },
  "nbformat": 4,
  "nbformat_minor": 5
}