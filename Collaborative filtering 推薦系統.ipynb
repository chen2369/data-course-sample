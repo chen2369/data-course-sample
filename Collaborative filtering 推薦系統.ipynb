{
  "cells": [
    {
      "cell_type": "markdown",
      "metadata": {
        "id": "view-in-github",
        "colab_type": "text"
      },
      "source": [
        "<a href=\"https://colab.research.google.com/github/chen2369/data-course-sample/blob/main/Collaborative%20filtering%20%E6%8E%A8%E8%96%A6%E7%B3%BB%E7%B5%B1.ipynb\" target=\"_parent\"><img src=\"https://colab.research.google.com/assets/colab-badge.svg\" alt=\"Open In Colab\"/></a>"
      ]
    },
    {
      "cell_type": "markdown",
      "id": "84de56a8",
      "metadata": {
        "id": "84de56a8"
      },
      "source": [
        "# Code"
      ]
    },
    {
      "cell_type": "markdown",
      "id": "688675f5",
      "metadata": {
        "id": "688675f5"
      },
      "source": [
        "## 基礎建設"
      ]
    },
    {
      "cell_type": "code",
      "source": [
        "import warnings\n",
        "warnings.filterwarnings(\"ignore\")"
      ],
      "metadata": {
        "id": "8wD4QICXvM0o"
      },
      "execution_count": null,
      "outputs": [],
      "id": "8wD4QICXvM0o"
    },
    {
      "cell_type": "code",
      "execution_count": null,
      "id": "b32226db",
      "metadata": {
        "scrolled": true,
        "id": "b32226db"
      },
      "outputs": [],
      "source": [
        "import pandas as pd\n",
        "import gzip, json\n",
        "\n",
        "def parse(path):\n",
        "    g = gzip.open(path, 'rb')\n",
        "    for l in g:\n",
        "        yield json.loads(l)\n",
        "\n",
        "def getDF(path):\n",
        "    i = 0\n",
        "    df = {}\n",
        "    for d in parse(path):\n",
        "        df[i] = d\n",
        "        i += 1\n",
        "    return pd.DataFrame.from_dict(df, orient='index')"
      ]
    },
    {
      "cell_type": "markdown",
      "id": "84ff0f9d",
      "metadata": {
        "id": "84ff0f9d"
      },
      "source": [
        "## 載入資料"
      ]
    },
    {
      "cell_type": "code",
      "execution_count": null,
      "id": "9402e9c7",
      "metadata": {
        "id": "9402e9c7",
        "colab": {
          "base_uri": "https://localhost:8080/"
        },
        "outputId": "a9b61263-0087-4c20-dcd7-8880a4bd45af"
      },
      "outputs": [
        {
          "output_type": "stream",
          "name": "stdout",
          "text": [
            "--2022-01-07 17:28:06--  http://deepyeti.ucsd.edu/jianmo/amazon/categoryFilesSmall/All_Beauty.csv\n",
            "Resolving deepyeti.ucsd.edu (deepyeti.ucsd.edu)... 169.228.63.50\n",
            "Connecting to deepyeti.ucsd.edu (deepyeti.ucsd.edu)|169.228.63.50|:80... connected.\n",
            "HTTP request sent, awaiting response... 200 OK\n",
            "Length: 15499476 (15M) [application/octet-stream]\n",
            "Saving to: ‘All_Beauty.csv’\n",
            "\n",
            "All_Beauty.csv      100%[===================>]  14.78M  20.0MB/s    in 0.7s    \n",
            "\n",
            "2022-01-07 17:28:07 (20.0 MB/s) - ‘All_Beauty.csv’ saved [15499476/15499476]\n",
            "\n",
            "--2022-01-07 17:28:07--  http://deepyeti.ucsd.edu/jianmo/amazon/metaFiles2/meta_All_Beauty.json.gz\n",
            "Resolving deepyeti.ucsd.edu (deepyeti.ucsd.edu)... 169.228.63.50\n",
            "Connecting to deepyeti.ucsd.edu (deepyeti.ucsd.edu)|169.228.63.50|:80... connected.\n",
            "HTTP request sent, awaiting response... 200 OK\n",
            "Length: 10329961 (9.9M) [application/octet-stream]\n",
            "Saving to: ‘meta_All_Beauty.json.gz’\n",
            "\n",
            "meta_All_Beauty.jso 100%[===================>]   9.85M  15.1MB/s    in 0.7s    \n",
            "\n",
            "2022-01-07 17:28:08 (15.1 MB/s) - ‘meta_All_Beauty.json.gz’ saved [10329961/10329961]\n",
            "\n"
          ]
        }
      ],
      "source": [
        "!wget http://deepyeti.ucsd.edu/jianmo/amazon/categoryFilesSmall/All_Beauty.csv\n",
        "!wget http://deepyeti.ucsd.edu/jianmo/amazon/metaFiles2/meta_All_Beauty.json.gz"
      ]
    },
    {
      "cell_type": "code",
      "execution_count": null,
      "id": "84b66cc7",
      "metadata": {
        "id": "84b66cc7"
      },
      "outputs": [],
      "source": [
        "metadata = getDF('/content/meta_All_Beauty.json.gz')\n",
        "ratings = pd.read_csv('/content/All_Beauty.csv', names=['asin', 'reviewerID', 'overall', 'unixReviewTime'], header=None)"
      ]
    },
    {
      "cell_type": "code",
      "execution_count": null,
      "id": "9fd77203",
      "metadata": {
        "id": "9fd77203",
        "outputId": "66b96aea-ca65-4046-9502-b2b7a9a5f93e",
        "colab": {
          "base_uri": "https://localhost:8080/"
        }
      },
      "outputs": [
        {
          "output_type": "execute_result",
          "data": {
            "text/html": [
              "\n",
              "  <div id=\"df-34fb2056-c507-4b55-925f-5560028c78e7\">\n",
              "    <div class=\"colab-df-container\">\n",
              "      <div>\n",
              "<style scoped>\n",
              "    .dataframe tbody tr th:only-of-type {\n",
              "        vertical-align: middle;\n",
              "    }\n",
              "\n",
              "    .dataframe tbody tr th {\n",
              "        vertical-align: top;\n",
              "    }\n",
              "\n",
              "    .dataframe thead th {\n",
              "        text-align: right;\n",
              "    }\n",
              "</style>\n",
              "<table border=\"1\" class=\"dataframe\">\n",
              "  <thead>\n",
              "    <tr style=\"text-align: right;\">\n",
              "      <th></th>\n",
              "      <th>category</th>\n",
              "      <th>tech1</th>\n",
              "      <th>description</th>\n",
              "      <th>fit</th>\n",
              "      <th>title</th>\n",
              "      <th>also_buy</th>\n",
              "      <th>tech2</th>\n",
              "      <th>brand</th>\n",
              "      <th>feature</th>\n",
              "      <th>rank</th>\n",
              "      <th>also_view</th>\n",
              "      <th>details</th>\n",
              "      <th>main_cat</th>\n",
              "      <th>similar_item</th>\n",
              "      <th>date</th>\n",
              "      <th>price</th>\n",
              "      <th>asin</th>\n",
              "      <th>imageURL</th>\n",
              "      <th>imageURLHighRes</th>\n",
              "    </tr>\n",
              "  </thead>\n",
              "  <tbody>\n",
              "    <tr>\n",
              "      <th>0</th>\n",
              "      <td>[]</td>\n",
              "      <td></td>\n",
              "      <td>[Loud 'N Clear Personal Sound Amplifier allows...</td>\n",
              "      <td></td>\n",
              "      <td>Loud 'N Clear&amp;trade; Personal Sound Amplifier</td>\n",
              "      <td>[]</td>\n",
              "      <td></td>\n",
              "      <td>idea village</td>\n",
              "      <td>[]</td>\n",
              "      <td>2,938,573 in Beauty &amp; Personal Care (</td>\n",
              "      <td>[]</td>\n",
              "      <td>{'ASIN: ': '6546546450'}</td>\n",
              "      <td>All Beauty</td>\n",
              "      <td></td>\n",
              "      <td></td>\n",
              "      <td></td>\n",
              "      <td>6546546450</td>\n",
              "      <td>[]</td>\n",
              "      <td>[]</td>\n",
              "    </tr>\n",
              "    <tr>\n",
              "      <th>1</th>\n",
              "      <td>[]</td>\n",
              "      <td></td>\n",
              "      <td>[No7 Lift &amp; Luminate Triple Action Serum 50ml ...</td>\n",
              "      <td></td>\n",
              "      <td>No7 Lift &amp;amp; Luminate Triple Action Serum 50...</td>\n",
              "      <td>[B01E7LCSL6, B008X5RVME]</td>\n",
              "      <td></td>\n",
              "      <td></td>\n",
              "      <td>[]</td>\n",
              "      <td>872,854 in Beauty &amp; Personal Care (</td>\n",
              "      <td>[]</td>\n",
              "      <td>{'Shipping Weight:': '0.3 ounces (', 'ASIN: ':...</td>\n",
              "      <td>All Beauty</td>\n",
              "      <td>class=\"a-bordered a-horizontal-stripes  a-spa...</td>\n",
              "      <td></td>\n",
              "      <td>$44.99</td>\n",
              "      <td>7178680776</td>\n",
              "      <td>[]</td>\n",
              "      <td>[]</td>\n",
              "    </tr>\n",
              "    <tr>\n",
              "      <th>2</th>\n",
              "      <td>[]</td>\n",
              "      <td></td>\n",
              "      <td>[No7 Stay Perfect Foundation now stays perfect...</td>\n",
              "      <td></td>\n",
              "      <td>No7 Stay Perfect Foundation Cool Vanilla by No7</td>\n",
              "      <td>[]</td>\n",
              "      <td></td>\n",
              "      <td>No7</td>\n",
              "      <td>[]</td>\n",
              "      <td>956,696 in Beauty &amp; Personal Care (</td>\n",
              "      <td>[B01B8BR0O8, B01B8BR0NO, B014MHXXM8]</td>\n",
              "      <td>{'Shipping Weight:': '3.5 ounces (', 'ASIN: ':...</td>\n",
              "      <td>All Beauty</td>\n",
              "      <td></td>\n",
              "      <td></td>\n",
              "      <td>$28.76</td>\n",
              "      <td>7250468162</td>\n",
              "      <td>[]</td>\n",
              "      <td>[]</td>\n",
              "    </tr>\n",
              "    <tr>\n",
              "      <th>3</th>\n",
              "      <td>[]</td>\n",
              "      <td></td>\n",
              "      <td>[]</td>\n",
              "      <td></td>\n",
              "      <td>Wella Koleston Perfect Hair Colour 44/44 Mediu...</td>\n",
              "      <td>[B0041PBXX8]</td>\n",
              "      <td></td>\n",
              "      <td></td>\n",
              "      <td>[]</td>\n",
              "      <td>1,870,258 in Beauty &amp; Personal Care (</td>\n",
              "      <td>[]</td>\n",
              "      <td>{'\n",
              "    Item Weight: \n",
              "    ': '1.76 ounces', 'Sh...</td>\n",
              "      <td>All Beauty</td>\n",
              "      <td></td>\n",
              "      <td></td>\n",
              "      <td></td>\n",
              "      <td>7367905066</td>\n",
              "      <td>[https://images-na.ssl-images-amazon.com/image...</td>\n",
              "      <td>[https://images-na.ssl-images-amazon.com/image...</td>\n",
              "    </tr>\n",
              "    <tr>\n",
              "      <th>4</th>\n",
              "      <td>[]</td>\n",
              "      <td></td>\n",
              "      <td>[Lacto Calamine Skin Balance Daily Nourishing ...</td>\n",
              "      <td></td>\n",
              "      <td>Lacto Calamine Skin Balance Oil control 120 ml...</td>\n",
              "      <td>[]</td>\n",
              "      <td></td>\n",
              "      <td>Pirmal Healthcare</td>\n",
              "      <td>[]</td>\n",
              "      <td>67,701 in Beauty &amp; Personal Care (</td>\n",
              "      <td>[3254895630, B007VL1D9S, B00EH9A0RI, B0773MBG4...</td>\n",
              "      <td>{'Shipping Weight:': '12 ounces (', 'ASIN: ': ...</td>\n",
              "      <td>All Beauty</td>\n",
              "      <td></td>\n",
              "      <td></td>\n",
              "      <td>$12.15</td>\n",
              "      <td>7414204790</td>\n",
              "      <td>[https://images-na.ssl-images-amazon.com/image...</td>\n",
              "      <td>[https://images-na.ssl-images-amazon.com/image...</td>\n",
              "    </tr>\n",
              "  </tbody>\n",
              "</table>\n",
              "</div>\n",
              "      <button class=\"colab-df-convert\" onclick=\"convertToInteractive('df-34fb2056-c507-4b55-925f-5560028c78e7')\"\n",
              "              title=\"Convert this dataframe to an interactive table.\"\n",
              "              style=\"display:none;\">\n",
              "        \n",
              "  <svg xmlns=\"http://www.w3.org/2000/svg\" height=\"24px\"viewBox=\"0 0 24 24\"\n",
              "       width=\"24px\">\n",
              "    <path d=\"M0 0h24v24H0V0z\" fill=\"none\"/>\n",
              "    <path d=\"M18.56 5.44l.94 2.06.94-2.06 2.06-.94-2.06-.94-.94-2.06-.94 2.06-2.06.94zm-11 1L8.5 8.5l.94-2.06 2.06-.94-2.06-.94L8.5 2.5l-.94 2.06-2.06.94zm10 10l.94 2.06.94-2.06 2.06-.94-2.06-.94-.94-2.06-.94 2.06-2.06.94z\"/><path d=\"M17.41 7.96l-1.37-1.37c-.4-.4-.92-.59-1.43-.59-.52 0-1.04.2-1.43.59L10.3 9.45l-7.72 7.72c-.78.78-.78 2.05 0 2.83L4 21.41c.39.39.9.59 1.41.59.51 0 1.02-.2 1.41-.59l7.78-7.78 2.81-2.81c.8-.78.8-2.07 0-2.86zM5.41 20L4 18.59l7.72-7.72 1.47 1.35L5.41 20z\"/>\n",
              "  </svg>\n",
              "      </button>\n",
              "      \n",
              "  <style>\n",
              "    .colab-df-container {\n",
              "      display:flex;\n",
              "      flex-wrap:wrap;\n",
              "      gap: 12px;\n",
              "    }\n",
              "\n",
              "    .colab-df-convert {\n",
              "      background-color: #E8F0FE;\n",
              "      border: none;\n",
              "      border-radius: 50%;\n",
              "      cursor: pointer;\n",
              "      display: none;\n",
              "      fill: #1967D2;\n",
              "      height: 32px;\n",
              "      padding: 0 0 0 0;\n",
              "      width: 32px;\n",
              "    }\n",
              "\n",
              "    .colab-df-convert:hover {\n",
              "      background-color: #E2EBFA;\n",
              "      box-shadow: 0px 1px 2px rgba(60, 64, 67, 0.3), 0px 1px 3px 1px rgba(60, 64, 67, 0.15);\n",
              "      fill: #174EA6;\n",
              "    }\n",
              "\n",
              "    [theme=dark] .colab-df-convert {\n",
              "      background-color: #3B4455;\n",
              "      fill: #D2E3FC;\n",
              "    }\n",
              "\n",
              "    [theme=dark] .colab-df-convert:hover {\n",
              "      background-color: #434B5C;\n",
              "      box-shadow: 0px 1px 3px 1px rgba(0, 0, 0, 0.15);\n",
              "      filter: drop-shadow(0px 1px 2px rgba(0, 0, 0, 0.3));\n",
              "      fill: #FFFFFF;\n",
              "    }\n",
              "  </style>\n",
              "\n",
              "      <script>\n",
              "        const buttonEl =\n",
              "          document.querySelector('#df-34fb2056-c507-4b55-925f-5560028c78e7 button.colab-df-convert');\n",
              "        buttonEl.style.display =\n",
              "          google.colab.kernel.accessAllowed ? 'block' : 'none';\n",
              "\n",
              "        async function convertToInteractive(key) {\n",
              "          const element = document.querySelector('#df-34fb2056-c507-4b55-925f-5560028c78e7');\n",
              "          const dataTable =\n",
              "            await google.colab.kernel.invokeFunction('convertToInteractive',\n",
              "                                                     [key], {});\n",
              "          if (!dataTable) return;\n",
              "\n",
              "          const docLinkHtml = 'Like what you see? Visit the ' +\n",
              "            '<a target=\"_blank\" href=https://colab.research.google.com/notebooks/data_table.ipynb>data table notebook</a>'\n",
              "            + ' to learn more about interactive tables.';\n",
              "          element.innerHTML = '';\n",
              "          dataTable['output_type'] = 'display_data';\n",
              "          await google.colab.output.renderOutput(dataTable, element);\n",
              "          const docLink = document.createElement('div');\n",
              "          docLink.innerHTML = docLinkHtml;\n",
              "          element.appendChild(docLink);\n",
              "        }\n",
              "      </script>\n",
              "    </div>\n",
              "  </div>\n",
              "  "
            ],
            "text/plain": [
              "  category  ...                                    imageURLHighRes\n",
              "0       []  ...                                                 []\n",
              "1       []  ...                                                 []\n",
              "2       []  ...                                                 []\n",
              "3       []  ...  [https://images-na.ssl-images-amazon.com/image...\n",
              "4       []  ...  [https://images-na.ssl-images-amazon.com/image...\n",
              "\n",
              "[5 rows x 19 columns]"
            ]
          },
          "metadata": {},
          "execution_count": 5
        }
      ],
      "source": [
        "metadata.head()"
      ]
    },
    {
      "cell_type": "code",
      "execution_count": null,
      "id": "b402792c",
      "metadata": {
        "id": "b402792c",
        "outputId": "78e628c4-f762-4a7b-9cde-5fea90fd9178",
        "colab": {
          "base_uri": "https://localhost:8080/"
        }
      },
      "outputs": [
        {
          "output_type": "execute_result",
          "data": {
            "text/html": [
              "\n",
              "  <div id=\"df-1758ba1b-dcff-4fc3-aca3-1182d85731c9\">\n",
              "    <div class=\"colab-df-container\">\n",
              "      <div>\n",
              "<style scoped>\n",
              "    .dataframe tbody tr th:only-of-type {\n",
              "        vertical-align: middle;\n",
              "    }\n",
              "\n",
              "    .dataframe tbody tr th {\n",
              "        vertical-align: top;\n",
              "    }\n",
              "\n",
              "    .dataframe thead th {\n",
              "        text-align: right;\n",
              "    }\n",
              "</style>\n",
              "<table border=\"1\" class=\"dataframe\">\n",
              "  <thead>\n",
              "    <tr style=\"text-align: right;\">\n",
              "      <th></th>\n",
              "      <th>asin</th>\n",
              "      <th>reviewerID</th>\n",
              "      <th>overall</th>\n",
              "      <th>unixReviewTime</th>\n",
              "    </tr>\n",
              "  </thead>\n",
              "  <tbody>\n",
              "    <tr>\n",
              "      <th>0</th>\n",
              "      <td>0143026860</td>\n",
              "      <td>A1V6B6TNIC10QE</td>\n",
              "      <td>1.0</td>\n",
              "      <td>1424304000</td>\n",
              "    </tr>\n",
              "    <tr>\n",
              "      <th>1</th>\n",
              "      <td>0143026860</td>\n",
              "      <td>A2F5GHSXFQ0W6J</td>\n",
              "      <td>4.0</td>\n",
              "      <td>1418860800</td>\n",
              "    </tr>\n",
              "    <tr>\n",
              "      <th>2</th>\n",
              "      <td>0143026860</td>\n",
              "      <td>A1572GUYS7DGSR</td>\n",
              "      <td>4.0</td>\n",
              "      <td>1407628800</td>\n",
              "    </tr>\n",
              "    <tr>\n",
              "      <th>3</th>\n",
              "      <td>0143026860</td>\n",
              "      <td>A1PSGLFK1NSVO</td>\n",
              "      <td>5.0</td>\n",
              "      <td>1362960000</td>\n",
              "    </tr>\n",
              "    <tr>\n",
              "      <th>4</th>\n",
              "      <td>0143026860</td>\n",
              "      <td>A6IKXKZMTKGSC</td>\n",
              "      <td>5.0</td>\n",
              "      <td>1324771200</td>\n",
              "    </tr>\n",
              "  </tbody>\n",
              "</table>\n",
              "</div>\n",
              "      <button class=\"colab-df-convert\" onclick=\"convertToInteractive('df-1758ba1b-dcff-4fc3-aca3-1182d85731c9')\"\n",
              "              title=\"Convert this dataframe to an interactive table.\"\n",
              "              style=\"display:none;\">\n",
              "        \n",
              "  <svg xmlns=\"http://www.w3.org/2000/svg\" height=\"24px\"viewBox=\"0 0 24 24\"\n",
              "       width=\"24px\">\n",
              "    <path d=\"M0 0h24v24H0V0z\" fill=\"none\"/>\n",
              "    <path d=\"M18.56 5.44l.94 2.06.94-2.06 2.06-.94-2.06-.94-.94-2.06-.94 2.06-2.06.94zm-11 1L8.5 8.5l.94-2.06 2.06-.94-2.06-.94L8.5 2.5l-.94 2.06-2.06.94zm10 10l.94 2.06.94-2.06 2.06-.94-2.06-.94-.94-2.06-.94 2.06-2.06.94z\"/><path d=\"M17.41 7.96l-1.37-1.37c-.4-.4-.92-.59-1.43-.59-.52 0-1.04.2-1.43.59L10.3 9.45l-7.72 7.72c-.78.78-.78 2.05 0 2.83L4 21.41c.39.39.9.59 1.41.59.51 0 1.02-.2 1.41-.59l7.78-7.78 2.81-2.81c.8-.78.8-2.07 0-2.86zM5.41 20L4 18.59l7.72-7.72 1.47 1.35L5.41 20z\"/>\n",
              "  </svg>\n",
              "      </button>\n",
              "      \n",
              "  <style>\n",
              "    .colab-df-container {\n",
              "      display:flex;\n",
              "      flex-wrap:wrap;\n",
              "      gap: 12px;\n",
              "    }\n",
              "\n",
              "    .colab-df-convert {\n",
              "      background-color: #E8F0FE;\n",
              "      border: none;\n",
              "      border-radius: 50%;\n",
              "      cursor: pointer;\n",
              "      display: none;\n",
              "      fill: #1967D2;\n",
              "      height: 32px;\n",
              "      padding: 0 0 0 0;\n",
              "      width: 32px;\n",
              "    }\n",
              "\n",
              "    .colab-df-convert:hover {\n",
              "      background-color: #E2EBFA;\n",
              "      box-shadow: 0px 1px 2px rgba(60, 64, 67, 0.3), 0px 1px 3px 1px rgba(60, 64, 67, 0.15);\n",
              "      fill: #174EA6;\n",
              "    }\n",
              "\n",
              "    [theme=dark] .colab-df-convert {\n",
              "      background-color: #3B4455;\n",
              "      fill: #D2E3FC;\n",
              "    }\n",
              "\n",
              "    [theme=dark] .colab-df-convert:hover {\n",
              "      background-color: #434B5C;\n",
              "      box-shadow: 0px 1px 3px 1px rgba(0, 0, 0, 0.15);\n",
              "      filter: drop-shadow(0px 1px 2px rgba(0, 0, 0, 0.3));\n",
              "      fill: #FFFFFF;\n",
              "    }\n",
              "  </style>\n",
              "\n",
              "      <script>\n",
              "        const buttonEl =\n",
              "          document.querySelector('#df-1758ba1b-dcff-4fc3-aca3-1182d85731c9 button.colab-df-convert');\n",
              "        buttonEl.style.display =\n",
              "          google.colab.kernel.accessAllowed ? 'block' : 'none';\n",
              "\n",
              "        async function convertToInteractive(key) {\n",
              "          const element = document.querySelector('#df-1758ba1b-dcff-4fc3-aca3-1182d85731c9');\n",
              "          const dataTable =\n",
              "            await google.colab.kernel.invokeFunction('convertToInteractive',\n",
              "                                                     [key], {});\n",
              "          if (!dataTable) return;\n",
              "\n",
              "          const docLinkHtml = 'Like what you see? Visit the ' +\n",
              "            '<a target=\"_blank\" href=https://colab.research.google.com/notebooks/data_table.ipynb>data table notebook</a>'\n",
              "            + ' to learn more about interactive tables.';\n",
              "          element.innerHTML = '';\n",
              "          dataTable['output_type'] = 'display_data';\n",
              "          await google.colab.output.renderOutput(dataTable, element);\n",
              "          const docLink = document.createElement('div');\n",
              "          docLink.innerHTML = docLinkHtml;\n",
              "          element.appendChild(docLink);\n",
              "        }\n",
              "      </script>\n",
              "    </div>\n",
              "  </div>\n",
              "  "
            ],
            "text/plain": [
              "         asin      reviewerID  overall  unixReviewTime\n",
              "0  0143026860  A1V6B6TNIC10QE      1.0      1424304000\n",
              "1  0143026860  A2F5GHSXFQ0W6J      4.0      1418860800\n",
              "2  0143026860  A1572GUYS7DGSR      4.0      1407628800\n",
              "3  0143026860   A1PSGLFK1NSVO      5.0      1362960000\n",
              "4  0143026860   A6IKXKZMTKGSC      5.0      1324771200"
            ]
          },
          "metadata": {},
          "execution_count": 6
        }
      ],
      "source": [
        "ratings.head()"
      ]
    },
    {
      "cell_type": "markdown",
      "metadata": {
        "id": "U3eZ5IV0lWiw"
      },
      "source": [
        "## 資料整理\n",
        "\n",
        "metadata -> metadata_clean"
      ],
      "id": "U3eZ5IV0lWiw"
    },
    {
      "cell_type": "code",
      "execution_count": null,
      "metadata": {
        "id": "FhgckGxtlWiw"
      },
      "outputs": [],
      "source": [
        "ratings['DATE'] = pd.to_datetime(ratings['unixReviewTime'], unit='s')"
      ],
      "id": "FhgckGxtlWiw"
    },
    {
      "cell_type": "code",
      "source": [
        "import numpy as np\n",
        "\n",
        "def emptylist_na(cell):\n",
        "    try:\n",
        "        if len(cell) == 0:\n",
        "            return np.nan\n",
        "        else:\n",
        "            return cell\n",
        "    except:\n",
        "        return cell\n",
        "metadata_na = metadata.applymap(emptylist_na)"
      ],
      "metadata": {
        "id": "6bfCfSuD95kh"
      },
      "execution_count": null,
      "outputs": [],
      "id": "6bfCfSuD95kh"
    },
    {
      "cell_type": "code",
      "source": [
        "metadata_na.isna().sum().sort_values(ascending=False).to_frame(name='Number of NA').T"
      ],
      "metadata": {
        "colab": {
          "base_uri": "https://localhost:8080/"
        },
        "id": "kn0tlyk9BFYR",
        "outputId": "286c521c-a6aa-42ba-9c14-78129a961cbd"
      },
      "execution_count": null,
      "outputs": [
        {
          "output_type": "execute_result",
          "data": {
            "text/html": [
              "\n",
              "  <div id=\"df-ea1c74d7-daa2-49f3-83ef-4a5e4e74c3e2\">\n",
              "    <div class=\"colab-df-container\">\n",
              "      <div>\n",
              "<style scoped>\n",
              "    .dataframe tbody tr th:only-of-type {\n",
              "        vertical-align: middle;\n",
              "    }\n",
              "\n",
              "    .dataframe tbody tr th {\n",
              "        vertical-align: top;\n",
              "    }\n",
              "\n",
              "    .dataframe thead th {\n",
              "        text-align: right;\n",
              "    }\n",
              "</style>\n",
              "<table border=\"1\" class=\"dataframe\">\n",
              "  <thead>\n",
              "    <tr style=\"text-align: right;\">\n",
              "      <th></th>\n",
              "      <th>category</th>\n",
              "      <th>tech2</th>\n",
              "      <th>fit</th>\n",
              "      <th>tech1</th>\n",
              "      <th>date</th>\n",
              "      <th>feature</th>\n",
              "      <th>similar_item</th>\n",
              "      <th>also_buy</th>\n",
              "      <th>also_view</th>\n",
              "      <th>price</th>\n",
              "      <th>description</th>\n",
              "      <th>imageURLHighRes</th>\n",
              "      <th>imageURL</th>\n",
              "      <th>brand</th>\n",
              "      <th>rank</th>\n",
              "      <th>details</th>\n",
              "      <th>title</th>\n",
              "      <th>main_cat</th>\n",
              "      <th>asin</th>\n",
              "    </tr>\n",
              "  </thead>\n",
              "  <tbody>\n",
              "    <tr>\n",
              "      <th>Number of NA</th>\n",
              "      <td>32892</td>\n",
              "      <td>32892</td>\n",
              "      <td>32892</td>\n",
              "      <td>32882</td>\n",
              "      <td>32873</td>\n",
              "      <td>32623</td>\n",
              "      <td>31588</td>\n",
              "      <td>26295</td>\n",
              "      <td>24760</td>\n",
              "      <td>21433</td>\n",
              "      <td>17773</td>\n",
              "      <td>16351</td>\n",
              "      <td>16351</td>\n",
              "      <td>15673</td>\n",
              "      <td>377</td>\n",
              "      <td>132</td>\n",
              "      <td>1</td>\n",
              "      <td>0</td>\n",
              "      <td>0</td>\n",
              "    </tr>\n",
              "  </tbody>\n",
              "</table>\n",
              "</div>\n",
              "      <button class=\"colab-df-convert\" onclick=\"convertToInteractive('df-ea1c74d7-daa2-49f3-83ef-4a5e4e74c3e2')\"\n",
              "              title=\"Convert this dataframe to an interactive table.\"\n",
              "              style=\"display:none;\">\n",
              "        \n",
              "  <svg xmlns=\"http://www.w3.org/2000/svg\" height=\"24px\"viewBox=\"0 0 24 24\"\n",
              "       width=\"24px\">\n",
              "    <path d=\"M0 0h24v24H0V0z\" fill=\"none\"/>\n",
              "    <path d=\"M18.56 5.44l.94 2.06.94-2.06 2.06-.94-2.06-.94-.94-2.06-.94 2.06-2.06.94zm-11 1L8.5 8.5l.94-2.06 2.06-.94-2.06-.94L8.5 2.5l-.94 2.06-2.06.94zm10 10l.94 2.06.94-2.06 2.06-.94-2.06-.94-.94-2.06-.94 2.06-2.06.94z\"/><path d=\"M17.41 7.96l-1.37-1.37c-.4-.4-.92-.59-1.43-.59-.52 0-1.04.2-1.43.59L10.3 9.45l-7.72 7.72c-.78.78-.78 2.05 0 2.83L4 21.41c.39.39.9.59 1.41.59.51 0 1.02-.2 1.41-.59l7.78-7.78 2.81-2.81c.8-.78.8-2.07 0-2.86zM5.41 20L4 18.59l7.72-7.72 1.47 1.35L5.41 20z\"/>\n",
              "  </svg>\n",
              "      </button>\n",
              "      \n",
              "  <style>\n",
              "    .colab-df-container {\n",
              "      display:flex;\n",
              "      flex-wrap:wrap;\n",
              "      gap: 12px;\n",
              "    }\n",
              "\n",
              "    .colab-df-convert {\n",
              "      background-color: #E8F0FE;\n",
              "      border: none;\n",
              "      border-radius: 50%;\n",
              "      cursor: pointer;\n",
              "      display: none;\n",
              "      fill: #1967D2;\n",
              "      height: 32px;\n",
              "      padding: 0 0 0 0;\n",
              "      width: 32px;\n",
              "    }\n",
              "\n",
              "    .colab-df-convert:hover {\n",
              "      background-color: #E2EBFA;\n",
              "      box-shadow: 0px 1px 2px rgba(60, 64, 67, 0.3), 0px 1px 3px 1px rgba(60, 64, 67, 0.15);\n",
              "      fill: #174EA6;\n",
              "    }\n",
              "\n",
              "    [theme=dark] .colab-df-convert {\n",
              "      background-color: #3B4455;\n",
              "      fill: #D2E3FC;\n",
              "    }\n",
              "\n",
              "    [theme=dark] .colab-df-convert:hover {\n",
              "      background-color: #434B5C;\n",
              "      box-shadow: 0px 1px 3px 1px rgba(0, 0, 0, 0.15);\n",
              "      filter: drop-shadow(0px 1px 2px rgba(0, 0, 0, 0.3));\n",
              "      fill: #FFFFFF;\n",
              "    }\n",
              "  </style>\n",
              "\n",
              "      <script>\n",
              "        const buttonEl =\n",
              "          document.querySelector('#df-ea1c74d7-daa2-49f3-83ef-4a5e4e74c3e2 button.colab-df-convert');\n",
              "        buttonEl.style.display =\n",
              "          google.colab.kernel.accessAllowed ? 'block' : 'none';\n",
              "\n",
              "        async function convertToInteractive(key) {\n",
              "          const element = document.querySelector('#df-ea1c74d7-daa2-49f3-83ef-4a5e4e74c3e2');\n",
              "          const dataTable =\n",
              "            await google.colab.kernel.invokeFunction('convertToInteractive',\n",
              "                                                     [key], {});\n",
              "          if (!dataTable) return;\n",
              "\n",
              "          const docLinkHtml = 'Like what you see? Visit the ' +\n",
              "            '<a target=\"_blank\" href=https://colab.research.google.com/notebooks/data_table.ipynb>data table notebook</a>'\n",
              "            + ' to learn more about interactive tables.';\n",
              "          element.innerHTML = '';\n",
              "          dataTable['output_type'] = 'display_data';\n",
              "          await google.colab.output.renderOutput(dataTable, element);\n",
              "          const docLink = document.createElement('div');\n",
              "          docLink.innerHTML = docLinkHtml;\n",
              "          element.appendChild(docLink);\n",
              "        }\n",
              "      </script>\n",
              "    </div>\n",
              "  </div>\n",
              "  "
            ],
            "text/plain": [
              "              category  tech2    fit  tech1  ...  details  title  main_cat  asin\n",
              "Number of NA     32892  32892  32892  32882  ...      132      1         0     0\n",
              "\n",
              "[1 rows x 19 columns]"
            ]
          },
          "metadata": {},
          "execution_count": 9
        }
      ],
      "id": "kn0tlyk9BFYR"
    },
    {
      "cell_type": "code",
      "source": [
        "print('# main_cat:', metadata['main_cat'].unique())\n",
        "print('# similar_item:', metadata['similar_item'].unique())\n",
        "print('# details:', metadata['details'].sample(5))"
      ],
      "metadata": {
        "colab": {
          "base_uri": "https://localhost:8080/"
        },
        "id": "fyANlkXYLWt_",
        "outputId": "ae19645f-8ec4-44f5-8dea-4cef8a3b4d57"
      },
      "execution_count": null,
      "outputs": [
        {
          "output_type": "stream",
          "name": "stdout",
          "text": [
            "# main_cat: ['All Beauty']\n",
            "# similar_item: [''\n",
            " ' class=\"a-bordered a-horizontal-stripes  a-spacing-extra-large a-size-base comparison_table\">\\n\\n\\n\\n            \\n            \\n            \\n            \\n            \\n            <tr class=\"comparison_table_image_row\">\\n                <td class=\"comparison_table_first_col\"></td>\\n\\n\\n                <th class=\"comparison_image_title_cell\" role=\"columnheader\">\\n                    <div class=\"a-row a-spacing-top-micro\">\\n                        <center>\\n                             <img alt=\"No7 Lift &amp; Luminate Triple Action Serum 50ml by Boots\" src=\"https://images-na.ssl-images-amazon.com/images/I/31gXVsxM7FL._SL500_AC_SS350_.jpg\" id=\"comparison_image\">\\n                        </center>\\n                    </div>\\n                    <div class=\"a-row a-spacing-top-small\">\\n                        <div id=\"comparison_title\" class=\"a-section a-spacing-none\">\\n                            <span aria-hidden=\"true\" class=\"a-size-base a-color-base a-text-bold\">\\n                                This item\\n                            </span>\\n                            <span aria-hidden=\"true\" class=\"a-size-base a-color-base\">No7 Lift & Luminate Triple Action Serum 50ml by Boots</span>\\n                        </div>\\n                        \\n                        \\n                    </div>\\n                </th>\\n\\n\\n                \\n                    <th class=\"comparison_image_title_cell comparable_item0\" role=\"columnheader\">\\n                        <a class=\"a-link-normal\" target=\"_self\" rel=\"noopener\" href=\"/dp/B01MR3GO4Q/ref=psdc_10304191_t1_7178680776\">\\n                          <div class=\"a-row a-spacing-top-micro\">\\n                            <center>\\n                                <img alt=\"\" src=\"https://images-na.ssl-images-amazon.com/images/I/31DbyNpwS6L._SL500_AC_SS350_.jpg\" aria-hidden=\"true\" id=\"comparison_image0\">\\n                            </center>\\n                          </div>\\n                          <div id=\"comparison_title0\" class=\"a-row a-spacing-top-small\">\\n                            <span class=\"a-size-base\">No7 Lift & Luminate Triple Action Serum 30ml by No. 7</span>\\n                          </div>\\n                        </a>\\n                        \\n                        \\n                    </th>\\n                \\n                    <th class=\"comparison_image_title_cell comparable_item1\" role=\"columnheader\">\\n                        <a class=\"a-link-normal\" target=\"_self\" rel=\"noopener\" href=\"/dp/B07C9JCYVN/ref=psdc_10304191_t2_7178680776\">\\n                          <div class=\"a-row a-spacing-top-micro\">\\n                            <center>\\n                                <img alt=\"\" src=\"https://images-na.ssl-images-amazon.com/images/I/31wxN2ktk0L._SL500_AC_SS350_.jpg\" aria-hidden=\"true\" id=\"comparison_image1\">\\n                            </center>\\n                          </div>\\n                          <div id=\"comparison_title1\" class=\"a-row a-spacing-top-small\">\\n                            <span class=\"a-size-base\">No7 Lift & Luminate TRIPLE ACTION serum 30ml</span>\\n                          </div>\\n                        </a>\\n                        \\n                        \\n                    </th>\\n                \\n                    <th class=\"comparison_image_title_cell comparable_item2\" role=\"columnheader\">\\n                        <a class=\"a-link-normal\" target=\"_self\" rel=\"noopener\" href=\"/dp/B07BRW8GLB/ref=psdc_10304191_t3_7178680776\">\\n                          <div class=\"a-row a-spacing-top-micro\">\\n                            <center>\\n                                <img alt=\"\" src=\"https://images-na.ssl-images-amazon.com/images/I/312qgBGzYIL._SL500_AC_SS350_.jpg\" aria-hidden=\"true\" id=\"comparison_image2\">\\n                            </center>\\n                          </div>\\n                          <div id=\"comparison_title2\" class=\"a-row a-spacing-top-small\">\\n                            <span class=\"a-size-base\">No7 Lift & Luminate TRIPLE ACTION serum 50ml</span>\\n                          </div>\\n                        </a>\\n                        \\n                        \\n                    </th>\\n                \\n            </tr>\\n\\n\\n            <tr></tr>\\n\\n\\n            \\n            \\n            <tr>\\n                <td class=\"comparison_table_first_col\"></td>\\n\\n\\n                <td class=\"comparison_add_to_cart_button\">\\n                    \\n                        \\n                        \\n                        \\n                            <span id=\"comparison_add_to_cart_button\" class=\"a-button a-spacing-small a-button-primary\"><span class=\"a-button-inner\"><a id=\"comparison_add_to_cart_button-announce\" href=\"/gp/item-dispatch/ref=psdc_10304191_a0_7178680776?ie=UTF8&amp;itemCount=1&amp;nodeID=3760911&amp;offeringID.1=W6l6LwsL5gLn7uyFt9tySXWhTMMnEU%252FfPAftuVlq1885UDuQDqwHP5A%252FaBX4vqcYs35f6NMrZIt2WzP3yG%252F7yHXs7oiPYagr9xCRDEYUifZSkT8NBOQlGq7ntMgpFHa5Qtn69KUaBkzU2HKxhvoQlvOTZGdMKJP0&amp;storeID=beauty&amp;session-id=133-6532085-6397842&amp;submit.addToCart=addToCart&amp;signInToHUC=0\" class=\"a-button-text\" role=\"button\">Add to Cart</a></span></span>\\n                        \\n                    \\n                </td>\\n\\n\\n                \\n                    <td class=\"a-text-left comparison_add_to_cart_button comparable_item0\">\\n                        \\n                            \\n                            \\n                                <span id=\"comparison_add_to_cart_button0\" class=\"a-button a-spacing-small a-button-primary\"><span class=\"a-button-inner\"><a id=\"comparison_add_to_cart_button0-announce\" href=\"/gp/item-dispatch/ref=psdc_10304191_a1_7178680776?ie=UTF8&amp;itemCount=1&amp;nodeID=3760911&amp;offeringID.1=W6l6LwsL5gJRe%252F5c0t96vd7Ahu1%252BCE1lkkaz%252FaDnhWEGTBGzYZ46IOhYDHdQ5OdJX5NS76hXorvAm5F4Qr1FxCmiy3LAui9L2UoxGfXdP1b5pFr9HWGvbLjxC1pXjGZFZ%252FFyrHiGLigLxCPpbBt44l9lMrIQ%252BPov&amp;storeID=beauty&amp;session-id=133-6532085-6397842&amp;submit.addToCart=addToCart&amp;signInToHUC=0\" class=\"a-button-text\" role=\"button\">Add to Cart</a></span></span>\\n                            \\n                        \\n                    </td>\\n                \\n                    <td class=\"a-text-left comparison_add_to_cart_button comparable_item1\">\\n                        \\n                            \\n                            \\n                                <span id=\"comparison_add_to_cart_button1\" class=\"a-button a-spacing-small a-button-primary\"><span class=\"a-button-inner\"><a id=\"comparison_add_to_cart_button1-announce\" href=\"/gp/item-dispatch/ref=psdc_10304191_a2_7178680776?ie=UTF8&amp;itemCount=1&amp;nodeID=3760911&amp;offeringID.1=Amwnpg%252B%252B4Gpkd9AwQPI%252BDaaBvwC7FlgX9C4hCvU88I%252FoXkGhZ4AX0NO4EvwKVeTevj7P5U%252BNU0Phta9ZOE64BiNyfMfwueAjqDvP7Va5zCDZPnakxY%252BepDaeqarkLpB9uoToockuI%252FVKbtTg4i6ehyJjyNBQlmSz&amp;storeID=beauty&amp;session-id=133-6532085-6397842&amp;submit.addToCart=addToCart&amp;signInToHUC=0\" class=\"a-button-text\" role=\"button\">Add to Cart</a></span></span>\\n                            \\n                        \\n                    </td>\\n                \\n                    <td class=\"a-text-left comparison_add_to_cart_button comparable_item2\">\\n                        \\n                            \\n                            \\n                                <span id=\"comparison_add_to_cart_button2\" class=\"a-button a-spacing-small a-button-primary\"><span class=\"a-button-inner\"><a id=\"comparison_add_to_cart_button2-announce\" href=\"/gp/item-dispatch/ref=psdc_10304191_a3_7178680776?ie=UTF8&amp;itemCount=1&amp;nodeID=3760911&amp;offeringID.1=W6l6LwsL5gI1yl8D9h3ZWsHPRKTueez6XTV6v%252Fj%252BnN%252Fv4r5xYLWej1y0XEnimioRuaYpdWDfPOgKGatUcQh9mSSDD1MYxYpLR1RUk0N0d1JPXwVsIM8UGA1%252FldzGb8m1SZRyYP%252Fge4vscvk3sx7Cdg%253D%253D&amp;storeID=beauty&amp;session-id=133-6532085-6397842&amp;submit.addToCart=addToCart&amp;signInToHUC=0\" class=\"a-button-text\" role=\"button\">Add to Cart</a></span></span>\\n                            \\n                        \\n                    </td>\\n                \\n            </tr>\\n\\n\\n            <tr id=\"comparison_custormer_rating_row\">\\n                \\n                \\n                \\n                \\n\\n                <th class=\"comparison_attribute_name_column comparison_table_first_col\" role=\"rowheader\">\\n                    <span class=\"a-size-base a-color-base\">Customer Rating</span>\\n                </th>\\n\\n\\n                <td class=\"comparison_baseitem_column\">\\n                    \\n                    \\n                    \\n                    <span>\\n                        <span class=\"a-declarative\" data-action=\"a-popover\" data-a-popover=\"{&quot;max-width&quot;:&quot;700&quot;,&quot;closeButton&quot;:&quot;false&quot;,&quot;position&quot;:&quot;triggerBottom&quot;,&quot;url&quot;:&quot; /gp/customer-reviews/widgets/average-customer-review/popover/ref=acr_dpComparsion__popover?contextId=dpComparsion&amp;asin=7178680776 &quot;,&quot;restoreFocusOnHide&quot;:&quot;false&quot;}\">\\n                            <i class=\"a-icon a-icon-star a-star-4 a-spacing-none\"><span class=\"a-icon-alt\">4 out of 5 stars</span></i>\\n                        </span>\\n                        <a class=\"a-link-normal\" target=\"_self\" rel=\"noopener\" href=\"/product-reviews/7178680776/ref=psdc_10304191_r0_7178680776?_encoding=UTF8&amp;showViewpoints=1\">(2)</a>\\n                        <span class=\"a-letter-space\"></span>\\n                    </span>\\n                </td>\\n\\n\\n                \\n                    <td class=\"comparison_sim_items_column comparable_item0\">\\n                        \\n                        \\n                        \\n                        <span>\\n                            <span class=\"a-declarative\" data-action=\"a-popover\" data-a-popover=\"{&quot;max-width&quot;:&quot;700&quot;,&quot;closeButton&quot;:&quot;false&quot;,&quot;position&quot;:&quot;triggerBottom&quot;,&quot;url&quot;:&quot; /gp/customer-reviews/widgets/average-customer-review/popover/ref=acr_dpComparsion__popover?contextId=dpComparsion&amp;asin=B01MR3GO4Q &quot;,&quot;restoreFocusOnHide&quot;:&quot;false&quot;}\">\\n                                <i class=\"a-icon a-icon-star a-star-0 a-spacing-none\"><span class=\"a-icon-alt\">0 out of 5 stars</span></i>\\n                            </span>\\n                            <a class=\"a-link-normal\" target=\"_self\" rel=\"noopener\" href=\"/product-reviews/B01MR3GO4Q/ref=psdc_10304191_r1_7178680776?_encoding=UTF8&amp;showViewpoints=1\">(0)</a>\\n                            <span class=\"a-letter-space\"></span>\\n                        </span>\\n                    </td>\\n                \\n                    <td class=\"comparison_sim_items_column comparable_item1\">\\n                        \\n                        \\n                        \\n                        <span>\\n                            <span class=\"a-declarative\" data-action=\"a-popover\" data-a-popover=\"{&quot;max-width&quot;:&quot;700&quot;,&quot;closeButton&quot;:&quot;false&quot;,&quot;position&quot;:&quot;triggerBottom&quot;,&quot;url&quot;:&quot; /gp/customer-reviews/widgets/average-customer-review/popover/ref=acr_dpComparsion__popover?contextId=dpComparsion&amp;asin=B07C9JCYVN &quot;,&quot;restoreFocusOnHide&quot;:&quot;false&quot;}\">\\n                                <i class=\"a-icon a-icon-star a-star-0 a-spacing-none\"><span class=\"a-icon-alt\">0 out of 5 stars</span></i>\\n                            </span>\\n                            <a class=\"a-link-normal\" target=\"_self\" rel=\"noopener\" href=\"/product-reviews/B07C9JCYVN/ref=psdc_10304191_r2_7178680776?_encoding=UTF8&amp;showViewpoints=1\">(0)</a>\\n                            <span class=\"a-letter-space\"></span>\\n                        </span>\\n                    </td>\\n                \\n                    <td class=\"comparison_sim_items_column comparable_item2\">\\n                        \\n                        \\n                        \\n                        <span>\\n                            <span class=\"a-declarative\" data-action=\"a-popover\" data-a-popover=\"{&quot;max-width&quot;:&quot;700&quot;,&quot;closeButton&quot;:&quot;false&quot;,&quot;position&quot;:&quot;triggerBottom&quot;,&quot;url&quot;:&quot; /gp/customer-reviews/widgets/average-customer-review/popover/ref=acr_dpComparsion__popover?contextId=dpComparsion&amp;asin=B07BRW8GLB &quot;,&quot;restoreFocusOnHide&quot;:&quot;false&quot;}\">\\n                                <i class=\"a-icon a-icon-star a-star-0 a-spacing-none\"><span class=\"a-icon-alt\">0 out of 5 stars</span></i>\\n                            </span>\\n                            <a class=\"a-link-normal\" target=\"_self\" rel=\"noopener\" href=\"/product-reviews/B07BRW8GLB/ref=psdc_10304191_r3_7178680776?_encoding=UTF8&amp;showViewpoints=1\">(0)</a>\\n                            <span class=\"a-letter-space\"></span>\\n                        </span>\\n                    </td>\\n                \\n            </tr>\\n\\n\\n            <tr id=\"comparison_price_row\">\\n                <th class=\"comparison_attribute_name_column comparison_table_first_col\" role=\"rowheader\">\\n                    <span class=\"a-size-base a-color-base\">Price</span>\\n                </th>\\n\\n\\n                <td class=\"comparison_baseitem_column\">\\n                    \\n                        \\n                        \\n                        \\n                        \\n                            \\n                                \\n                                    <span class=\"a-price\" data-a-size=\"l\" data-a-color=\"base\"><span class=\"a-offscreen\">$44.99</span><span aria-hidden=\"true\"><span class=\"a-price-symbol\">$</span><span class=\"a-price-whole\">44<span class=\"a-price-decimal\">\\x00</span></span><span class=\"a-price-fraction\">99</span></span></span>\\n                                \\n                                \\n                            \\n                        \\n                    \\n                </td>\\n\\n\\n                \\n                    <td class=\"comparison_sim_items_column comparable_item0\">\\n                    \\n                        \\n                        \\n                        \\n                            \\n                                \\n                                    <span class=\"a-price\" data-a-size=\"l\" data-a-color=\"base\"><span class=\"a-offscreen\">$29.98</span><span aria-hidden=\"true\"><span class=\"a-price-symbol\">$</span><span class=\"a-price-whole\">29<span class=\"a-price-decimal\">\\x00</span></span><span class=\"a-price-fraction\">98</span></span></span>\\n                                \\n                                \\n                            \\n                        \\n                    \\n                    </td>\\n                \\n                    <td class=\"comparison_sim_items_column comparable_item1\">\\n                    \\n                        \\n                        \\n                        \\n                            \\n                                \\n                                    <span class=\"a-price\" data-a-size=\"l\" data-a-color=\"base\"><span class=\"a-offscreen\">$22.95</span><span aria-hidden=\"true\"><span class=\"a-price-symbol\">$</span><span class=\"a-price-whole\">22<span class=\"a-price-decimal\">\\x00</span></span><span class=\"a-price-fraction\">95</span></span></span>\\n                                \\n                                \\n                            \\n                        \\n                    \\n                    </td>\\n                \\n                    <td class=\"comparison_sim_items_column comparable_item2\">\\n                    \\n                        \\n                        \\n                        \\n                            \\n                                \\n                                    <span class=\"a-price\" data-a-size=\"l\" data-a-color=\"base\"><span class=\"a-offscreen\">$59.99</span><span aria-hidden=\"true\"><span class=\"a-price-symbol\">$</span><span class=\"a-price-whole\">59<span class=\"a-price-decimal\">\\x00</span></span><span class=\"a-price-fraction\">99</span></span></span>\\n                                \\n                                \\n                            \\n                        \\n                    \\n                    </td>\\n                \\n            </tr>\\n\\n\\n    \\n                <tr id=\"comparison_shipping_info_row\">\\n                    <th class=\"comparison_attribute_name_column comparison_table_first_col\" role=\"rowheader\">\\n                        <span class=\"a-size-base a-color-base\">Shipping</span>\\n                    </th>\\n\\n    \\n                    <td class=\"comparison_baseitem_column\">\\n                        \\n                            \\n                            \\n                            \\n                                <span class=\"a-size-base a-color-base\">Eligible for FREE Shipping</span>\\n                            \\n                            \\n                            \\n                            \\n                            \\n                        \\n                    </td>\\n\\n    \\n                    \\n                        <td class=\"comparison_sim_items_column comparable_item0\">\\n                            \\n                                \\n                                \\n                                    <span class=\"a-size-base a-color-base\">Eligible for FREE Shipping</span>\\n                                \\n                                \\n                                \\n                                \\n                                \\n                            \\n                        </td>\\n                    \\n                        <td class=\"comparison_sim_items_column comparable_item1\">\\n                            \\n                                \\n                                \\n                                \\n                                \\n                                \\n                                    <span class=\"a-size-base a-color-price a-text-bold\">$6.49</span>\\n                                \\n                                \\n                            \\n                        </td>\\n                    \\n                        <td class=\"comparison_sim_items_column comparable_item2\">\\n                            \\n                                \\n                                \\n                                \\n                                \\n                                \\n                                    <span class=\"a-size-base a-color-price a-text-bold\">$7.49</span>\\n                                \\n                                \\n                            \\n                        </td>\\n                    \\n                </tr>\\n\\n\\n\\n            <tr id=\"comparison_sold_by_row\">\\n                <th class=\"comparison_attribute_name_column comparison_table_first_col\" role=\"rowheader\">\\n                    <span class=\"a-size-base a-color-base\">Sold By</span>\\n                </th>\\n\\n  \\n                <td class=\"comparison_baseitem_column\">\\n                    \\n                        \\n                        \\n                        \\n                            <a class=\"a-spacing-top-small a-link-normal\" target=\"_self\" rel=\"noopener\" href=\"/gp/help/seller/at-a-glance.html/ref=psdc_10304191_s0_7178680776?ie=UTF8&amp;seller=A3956JYB8ZMS1F&amp;isAmazonFulfilled=1\">Best Skincare Inc.</a>\\n                        \\n                     \\n                </td>\\n\\n\\n                \\n                    <td class=\"comparison_sim_items_column comparable_item0\">\\n                         \\n                            \\n                         \\n                             <a class=\"a-spacing-top-small a-link-normal\" target=\"_self\" rel=\"noopener\" href=\"/gp/help/seller/at-a-glance.html/ref=psdc_10304191_s1_7178680776?ie=UTF8&amp;seller=ATWWOXPMRKSFC&amp;isAmazonFulfilled=1\">Sender\\'s Store</a>\\n                         \\n                         \\n                     </td>\\n                \\n                    <td class=\"comparison_sim_items_column comparable_item1\">\\n                         \\n                            \\n                         \\n                             <a class=\"a-spacing-top-small a-link-normal\" target=\"_self\" rel=\"noopener\" href=\"/gp/help/seller/at-a-glance.html/ref=psdc_10304191_s2_7178680776?ie=UTF8&amp;seller=A1M0RAJTDTZ2P1\">Beauty-Online</a>\\n                         \\n                         \\n                     </td>\\n                \\n                    <td class=\"comparison_sim_items_column comparable_item2\">\\n                         \\n                            \\n                         \\n                             <a class=\"a-spacing-top-small a-link-normal\" target=\"_self\" rel=\"noopener\" href=\"/gp/help/seller/at-a-glance.html/ref=psdc_10304191_s3_7178680776?ie=UTF8&amp;seller=A3EQXKK9ZNX68T\">Southeast  Depot</a>\\n                         \\n                         \\n                     </td>\\n                \\n             </tr>\\n\\n\\n            \\n       '\n",
            " ' class=\"a-bordered a-horizontal-stripes  a-spacing-extra-large a-size-base comparison_table\">\\n\\n\\n\\n            \\n            \\n            \\n            \\n            \\n            <tbody><tr class=\"comparison_table_image_row\">\\n                <td class=\"comparison_table_first_col\"></td>\\n\\n\\n                <th class=\"comparison_image_title_cell\" role=\"columnheader\">\\n                    <div class=\"a-row a-spacing-top-micro\">\\n                        <center>\\n                             <img alt=\"Dual Jet Bath Spa\" src=\"https://images-na.ssl-images-amazon.com/images/I/11BZZ0G5FRL._SL500_AC_SS350_.jpg\" id=\"comparison_image\" />\\n                        </center>\\n                    </div>\\n                    <div class=\"a-row a-spacing-top-small\">\\n                        <div id=\"comparison_title\" class=\"a-section a-spacing-none\">\\n                            <span aria-hidden=\"true\" class=\"a-size-base a-color-base a-text-bold\">\\n                                This item\\n                            </span>\\n                            <span aria-hidden=\"true\" class=\"a-size-base a-color-base\">Dual Jet Bath Spa</span>\\n                        </div>\\n                        \\n                        \\n                    </div>\\n                </th>\\n\\n\\n                \\n                    <th class=\"comparison_image_title_cell comparable_item0\" role=\"columnheader\">\\n                        <a class=\"a-link-normal\" target=\"_self\" rel=\"noopener\" href=\"/dp/B00005A44E/ref=psdc_10304191_t1_B000067EE4\">\\n                          <div class=\"a-row a-spacing-top-micro\">\\n                            <center>\\n                                <img alt=\"\" src=\"https://images-na.ssl-images-amazon.com/images/I/418NWF32K6L._SL500_AC_SS350_.jpg\" aria-hidden=\"true\" id=\"comparison_image0\" />\\n                            </center>\\n                          </div>\\n                          <div id=\"comparison_title0\" class=\"a-row a-spacing-top-small\">\\n                            <span class=\"a-size-base\">Conair MBTS3 Thermal Spa Bathmat Bubble Massager</span>\\n                          </div>\\n                        </a>\\n                        \\n                        \\n                    </th>\\n                \\n                    <th class=\"comparison_image_title_cell comparable_item1\" role=\"columnheader\">\\n                        <a class=\"a-link-normal\" target=\"_self\" rel=\"noopener\" href=\"/dp/B005NWFA5K/ref=psdc_10304191_t2_B000067EE4\">\\n                          <div class=\"a-row a-spacing-top-micro\">\\n                            <center>\\n                                <img alt=\"\" src=\"https://images-na.ssl-images-amazon.com/images/I/41-aeWDiisL._SL500_AC_SS350_.jpg\" aria-hidden=\"true\" id=\"comparison_image1\" />\\n                            </center>\\n                          </div>\\n                          <div id=\"comparison_title1\" class=\"a-row a-spacing-top-small\">\\n                            <span class=\"a-size-base\">Conair Hr10 Heated Hot Stone Rock Warmer Bath Spa Therapy</span>\\n                          </div>\\n                        </a>\\n                        \\n                        \\n                    </th>\\n                \\n                    <th class=\"comparison_image_title_cell comparable_item2\" role=\"columnheader\">\\n                        <a class=\"a-link-normal\" target=\"_self\" rel=\"noopener\" href=\"/dp/B01B0O4KJQ/ref=psdc_10304191_t3_B000067EE4\">\\n                          <div class=\"a-row a-spacing-top-micro\">\\n                            <center>\\n                                <img alt=\"\" src=\"https://images-na.ssl-images-amazon.com/images/I/41Z5uu%2BJSOL._SL500_AC_SS350_.jpg\" aria-hidden=\"true\" id=\"comparison_image2\" />\\n                            </center>\\n                          </div>\\n                          <div id=\"comparison_title2\" class=\"a-row a-spacing-top-small\">\\n                            <span class=\"a-size-base\">Bathtub Heater - \"Thermal Wrap\" Heater w/ Installation Kit - fits most bathtubs</span>\\n                          </div>\\n                        </a>\\n                        \\n                        \\n                    </th>\\n                \\n                    <th class=\"comparison_image_title_cell comparable_item3\" role=\"columnheader\">\\n                        <a class=\"a-link-normal\" target=\"_self\" rel=\"noopener\" href=\"/dp/B000063TL2/ref=psdc_10304191_t4_B000067EE4\">\\n                          <div class=\"a-row a-spacing-top-micro\">\\n                            <center>\\n                                <img alt=\"\" src=\"https://images-na.ssl-images-amazon.com/images/I/41Z9RVRR58L._SL500_AC_SS350_.jpg\" aria-hidden=\"true\" id=\"comparison_image3\" />\\n                            </center>\\n                          </div>\\n                          <div id=\"comparison_title3\" class=\"a-row a-spacing-top-small\">\\n                            <span class=\"a-size-base\">HoMedics BMAT-5 Bubble Spa Bath Mat Massager with PVC Mat and Touch Pad Control</span>\\n                          </div>\\n                        </a>\\n                        \\n                        \\n                    </th>\\n                \\n            </tr>\\n\\n\\n            <tr></tr>\\n\\n\\n            \\n            \\n            <tr>\\n                <td class=\"comparison_table_first_col\"></td>\\n\\n\\n                <td class=\"comparison_add_to_cart_button\">\\n                    \\n                        \\n                        \\n                        \\n                            <span id=\"comparison_add_to_cart_button\" class=\"a-button a-spacing-small a-button-primary\"><span class=\"a-button-inner\"><a id=\"comparison_add_to_cart_button-announce\" href=\"/gp/item-dispatch/ref=psdc_10304191_a0_B000067EE4?ie=UTF8&amp;itemCount=1&amp;nodeID=3760911&amp;offeringID.1=9RB1Gk87XRGidhPHLaoP%252BvXTDqsGI9j7hLkEhiBWpItwD7arYGfKm4Tuzu0BNqhPF2kYKwJY9MPVyR4YHjTu19qdWxdQsNpajAE55v1ZjK6%252FWwS%252ByDFwAIF2d%252BIv5eyJO2Qxec569zCGh7fp0T%252BbLw%253D%253D&amp;storeID=beauty&amp;session-id=137-9151311-2769708&amp;submit.addToCart=addToCart&amp;signInToHUC=0\" class=\"a-button-text\" role=\"button\">Add to Cart</a></span></span>\\n                        \\n                    \\n                </td>\\n\\n\\n                \\n                    <td class=\"a-text-left comparison_add_to_cart_button comparable_item0\">\\n                        \\n                            \\n                            \\n                                <span id=\"comparison_add_to_cart_button0\" class=\"a-button a-spacing-small a-button-primary\"><span class=\"a-button-inner\"><a id=\"comparison_add_to_cart_button0-announce\" href=\"/gp/item-dispatch/ref=psdc_10304191_a1_B000067EE4?ie=UTF8&amp;itemCount=1&amp;nodeID=3760901&amp;offeringID.1=9RB1Gk87XRGidhPHLaoP%252BgZHKTVyqXxOo7e82LHYM8%252FcMiI3n4NWMztMc32LwNX98%252F1RAmDCKAdBo4eFaWsEYYPekA84HfdR9nfVxNDB4UJI%252FCIuyn%252BVVPSlli%252Fnw123QO0PhjmcL%252F5%252FjUUgtKd3Fg%253D%253D&amp;storeID=hpc&amp;session-id=137-9151311-2769708&amp;submit.addToCart=addToCart&amp;signInToHUC=0\" class=\"a-button-text\" role=\"button\">Add to Cart</a></span></span>\\n                            \\n                        \\n                    </td>\\n                \\n                    <td class=\"a-text-left comparison_add_to_cart_button comparable_item1\">\\n                        \\n                            \\n                            \\n                                <span id=\"comparison_add_to_cart_button1\" class=\"a-button a-spacing-small a-button-primary\"><span class=\"a-button-inner\"><a id=\"comparison_add_to_cart_button1-announce\" href=\"/gp/item-dispatch/ref=psdc_10304191_a2_B000067EE4?ie=UTF8&amp;itemCount=1&amp;nodeID=&amp;offeringID.1=9RB1Gk87XRGidhPHLaoP%252Bu9CTZV51hGtboDe%252FHcDmPZ3jN9uPFeafb6zBtjelD%252FnQRjmumjzzdEnFGJ2p%252FKdcN%252ByuzuuGu%252BU%252BHEzPhuhvMNAhWHErjp3kCn9jQLssSuzo1caRZsH1m134HLiIjeGVA%253D%253D&amp;storeID=miscellaneous&amp;session-id=137-9151311-2769708&amp;submit.addToCart=addToCart&amp;signInToHUC=0\" class=\"a-button-text\" role=\"button\">Add to Cart</a></span></span>\\n                            \\n                        \\n                    </td>\\n                \\n                    <td class=\"a-text-left comparison_add_to_cart_button comparable_item2\">\\n                        \\n                            \\n                            \\n                                <span id=\"comparison_add_to_cart_button2\" class=\"a-button a-spacing-small a-button-primary\"><span class=\"a-button-inner\"><a id=\"comparison_add_to_cart_button2-announce\" href=\"/gp/item-dispatch/ref=psdc_10304191_a3_B000067EE4?ie=UTF8&amp;itemCount=1&amp;nodeID=&amp;offeringID.1=9RB1Gk87XRGKH6m6q3zeQR3Jz9BHnMxEo1UzktxoOnQRuJYqyythNJ0pZH3lkUMSYXK6g%252BuNx936V%252BQ7y%252F8VSGD1bbF5KCfU6aC6EcV7r15S4AuYEityH0o9FTgmME92bIKenAriuxo%252BJ5NABfQdF27xgMQyUl%252Fk&amp;storeID=miscellaneous&amp;session-id=137-9151311-2769708&amp;submit.addToCart=addToCart&amp;signInToHUC=0\" class=\"a-button-text\" role=\"button\">Add to Cart</a></span></span>\\n                            \\n                        \\n                    </td>\\n                \\n                    <td class=\"a-text-left comparison_add_to_cart_button comparable_item3\">\\n                        \\n                            \\n                            \\n                                <span id=\"comparison_add_to_cart_button3\" class=\"a-button a-spacing-small a-button-primary\"><span class=\"a-button-inner\"><a id=\"comparison_add_to_cart_button3-announce\" href=\"/gp/item-dispatch/ref=psdc_10304191_a4_B000067EE4?ie=UTF8&amp;itemCount=1&amp;nodeID=3760901&amp;offeringID.1=9RB1Gk87XRGidhPHLaoP%252BvhfCBaTmVRCfQwxfjU8ZlZpR2NgdW3AVf9khtMNDM9HLu%252FonNJPA8DNfsqxd1GrqrRZjnUig2IZwKiG1ivzBrVCTzJgPtR7iAUFkpMqU%252BVH8EF1Wr0EOfgJ1lP9FZb1oQ%253D%253D&amp;storeID=hpc&amp;session-id=137-9151311-2769708&amp;submit.addToCart=addToCart&amp;signInToHUC=0\" class=\"a-button-text\" role=\"button\">Add to Cart</a></span></span>\\n                            \\n                        \\n                    </td>\\n                \\n            </tr>\\n\\n\\n            <tr id=\"comparison_custormer_rating_row\">\\n                \\n                \\n                \\n                \\n\\n                <th class=\"comparison_attribute_name_column comparison_table_first_col\" role=\"rowheader\">\\n                    <span class=\"a-size-base a-color-base\">Customer Rating</span>\\n                </th>\\n\\n\\n                <td class=\"comparison_baseitem_column\">\\n                    \\n                    \\n                    \\n                    <span>\\n                        <span class=\"a-declarative\" data-action=\"a-popover\" data-a-popover=\"{&quot;max-width&quot;:&quot;700&quot;,&quot;closeButton&quot;:&quot;false&quot;,&quot;position&quot;:&quot;triggerBottom&quot;,&quot;url&quot;:&quot; /gp/customer-reviews/widgets/average-customer-review/popover/ref=acr_dpComparsion__popover?contextId=dpComparsion&amp;asin=B000067EE4 &quot;,&quot;restoreFocusOnHide&quot;:&quot;false&quot;}\">\\n                            <i class=\"a-icon a-icon-star a-star-2-5 a-spacing-none\"><span class=\"a-icon-alt\">2 out of 5 stars</span></i>\\n                        </span>\\n                        <a class=\"a-link-normal\" target=\"_self\" rel=\"noopener\" href=\"/product-reviews/B000067EE4/ref=psdc_10304191_r0_B000067EE4?_encoding=UTF8&amp;showViewpoints=1\">(8)</a>\\n                        <span class=\"a-letter-space\"></span>\\n                    </span>\\n                </td>\\n\\n\\n                \\n                    <td class=\"comparison_sim_items_column comparable_item0\">\\n                        \\n                        \\n                        \\n                        <span>\\n                            <span class=\"a-declarative\" data-action=\"a-popover\" data-a-popover=\"{&quot;max-width&quot;:&quot;700&quot;,&quot;closeButton&quot;:&quot;false&quot;,&quot;position&quot;:&quot;triggerBottom&quot;,&quot;url&quot;:&quot; /gp/customer-reviews/widgets/average-customer-review/popover/ref=acr_dpComparsion__popover?contextId=dpComparsion&amp;asin=B00005A44E &quot;,&quot;restoreFocusOnHide&quot;:&quot;false&quot;}\">\\n                                <i class=\"a-icon a-icon-star a-star-3-5 a-spacing-none\"><span class=\"a-icon-alt\">3 out of 5 stars</span></i>\\n                            </span>\\n                            <a class=\"a-link-normal\" target=\"_self\" rel=\"noopener\" href=\"/product-reviews/B00005A44E/ref=psdc_10304191_r1_B000067EE4?_encoding=UTF8&amp;showViewpoints=1\">(19)</a>\\n                            <span class=\"a-letter-space\"></span>\\n                        </span>\\n                    </td>\\n                \\n                    <td class=\"comparison_sim_items_column comparable_item1\">\\n                        \\n                        \\n                        \\n                        <span>\\n                            <span class=\"a-declarative\" data-action=\"a-popover\" data-a-popover=\"{&quot;max-width&quot;:&quot;700&quot;,&quot;closeButton&quot;:&quot;false&quot;,&quot;position&quot;:&quot;triggerBottom&quot;,&quot;url&quot;:&quot; /gp/customer-reviews/widgets/average-customer-review/popover/ref=acr_dpComparsion__popover?contextId=dpComparsion&amp;asin=B005NWFA5K &quot;,&quot;restoreFocusOnHide&quot;:&quot;false&quot;}\">\\n                                <i class=\"a-icon a-icon-star a-star-2-5 a-spacing-none\"><span class=\"a-icon-alt\">2 out of 5 stars</span></i>\\n                            </span>\\n                            <a class=\"a-link-normal\" target=\"_self\" rel=\"noopener\" href=\"/product-reviews/B005NWFA5K/ref=psdc_10304191_r2_B000067EE4?_encoding=UTF8&amp;showViewpoints=1\">(4)</a>\\n                            <span class=\"a-letter-space\"></span>\\n                        </span>\\n                    </td>\\n                \\n                    <td class=\"comparison_sim_items_column comparable_item2\">\\n                        \\n                        \\n                        \\n                        <span>\\n                            <span class=\"a-declarative\" data-action=\"a-popover\" data-a-popover=\"{&quot;max-width&quot;:&quot;700&quot;,&quot;closeButton&quot;:&quot;false&quot;,&quot;position&quot;:&quot;triggerBottom&quot;,&quot;url&quot;:&quot; /gp/customer-reviews/widgets/average-customer-review/popover/ref=acr_dpComparsion__popover?contextId=dpComparsion&amp;asin=B01B0O4KJQ &quot;,&quot;restoreFocusOnHide&quot;:&quot;false&quot;}\">\\n                                <i class=\"a-icon a-icon-star a-star-0 a-spacing-none\"><span class=\"a-icon-alt\">0 out of 5 stars</span></i>\\n                            </span>\\n                            <a class=\"a-link-normal\" target=\"_self\" rel=\"noopener\" href=\"/product-reviews/B01B0O4KJQ/ref=psdc_10304191_r3_B000067EE4?_encoding=UTF8&amp;showViewpoints=1\">(0)</a>\\n                            <span class=\"a-letter-space\"></span>\\n                        </span>\\n                    </td>\\n                \\n                    <td class=\"comparison_sim_items_column comparable_item3\">\\n                        \\n                        \\n                        \\n                        <span>\\n                            <span class=\"a-declarative\" data-action=\"a-popover\" data-a-popover=\"{&quot;max-width&quot;:&quot;700&quot;,&quot;closeButton&quot;:&quot;false&quot;,&quot;position&quot;:&quot;triggerBottom&quot;,&quot;url&quot;:&quot; /gp/customer-reviews/widgets/average-customer-review/popover/ref=acr_dpComparsion__popover?contextId=dpComparsion&amp;asin=B000063TL2 &quot;,&quot;restoreFocusOnHide&quot;:&quot;false&quot;}\">\\n                                <i class=\"a-icon a-icon-star a-star-3-5 a-spacing-none\"><span class=\"a-icon-alt\">3 out of 5 stars</span></i>\\n                            </span>\\n                            <a class=\"a-link-normal\" target=\"_self\" rel=\"noopener\" href=\"/product-reviews/B000063TL2/ref=psdc_10304191_r4_B000067EE4?_encoding=UTF8&amp;showViewpoints=1\">(6)</a>\\n                            <span class=\"a-letter-space\"></span>\\n                        </span>\\n                    </td>\\n                \\n            </tr>\\n\\n\\n            <tr id=\"comparison_price_row\">\\n                <th class=\"comparison_attribute_name_column comparison_table_first_col\" role=\"rowheader\">\\n                    <span class=\"a-size-base a-color-base\">Price</span>\\n                </th>\\n\\n\\n                <td class=\"comparison_baseitem_column\">\\n                    \\n                        \\n                        \\n                        \\n                        \\n                            \\n                                \\n                                    <span class=\"a-price\" data-a-size=\"l\" data-a-color=\"base\"><span class=\"a-offscreen\">$144.18</span><span aria-hidden=\"true\"><span class=\"a-price-symbol\">$</span><span class=\"a-price-whole\">144<span class=\"a-price-decimal\"></span></span><span class=\"a-price-fraction\">18</span></span></span>\\n                                \\n                                \\n                            \\n                        \\n                    \\n                </td>\\n\\n\\n                \\n                    <td class=\"comparison_sim_items_column comparable_item0\">\\n                    \\n                        \\n                        \\n                        \\n                            \\n                                \\n                                    <span class=\"a-price\" data-a-size=\"l\" data-a-color=\"base\"><span class=\"a-offscreen\">$234.18</span><span aria-hidden=\"true\"><span class=\"a-price-symbol\">$</span><span class=\"a-price-whole\">234<span class=\"a-price-decimal\"></span></span><span class=\"a-price-fraction\">18</span></span></span>\\n                                \\n                                \\n                            \\n                        \\n                    \\n                    </td>\\n                \\n                    <td class=\"comparison_sim_items_column comparable_item1\">\\n                    \\n                        \\n                        \\n                        \\n                            \\n                                \\n                                    <span class=\"a-price\" data-a-size=\"l\" data-a-color=\"base\"><span class=\"a-offscreen\">$174.18</span><span aria-hidden=\"true\"><span class=\"a-price-symbol\">$</span><span class=\"a-price-whole\">174<span class=\"a-price-decimal\"></span></span><span class=\"a-price-fraction\">18</span></span></span>\\n                                \\n                                \\n                            \\n                        \\n                    \\n                    </td>\\n                \\n                    <td class=\"comparison_sim_items_column comparable_item2\">\\n                    \\n                        \\n                        \\n                        \\n                            \\n                                \\n                                    <span class=\"a-price\" data-a-size=\"l\" data-a-color=\"base\"><span class=\"a-offscreen\">$141.00</span><span aria-hidden=\"true\"><span class=\"a-price-symbol\">$</span><span class=\"a-price-whole\">141<span class=\"a-price-decimal\"></span></span><span class=\"a-price-fraction\">00</span></span></span>\\n                                \\n                                \\n                            \\n                        \\n                    \\n                    </td>\\n                \\n                    <td class=\"comparison_sim_items_column comparable_item3\">\\n                    \\n                        \\n                        \\n                        \\n                            \\n                                \\n                                    <span class=\"a-price\" data-a-size=\"l\" data-a-color=\"base\"><span class=\"a-offscreen\">$104.18</span><span aria-hidden=\"true\"><span class=\"a-price-symbol\">$</span><span class=\"a-price-whole\">104<span class=\"a-price-decimal\"></span></span><span class=\"a-price-fraction\">18</span></span></span>\\n                                \\n                                \\n                            \\n                        \\n                    \\n                    </td>\\n                \\n            </tr>\\n\\n\\n    \\n                <tr id=\"comparison_shipping_info_row\">\\n                    <th class=\"comparison_attribute_name_column comparison_table_first_col\" role=\"rowheader\">\\n                        <span class=\"a-size-base a-color-base\">Shipping</span>\\n                    </th>\\n\\n    \\n                    <td class=\"comparison_baseitem_column\">\\n                        \\n                            \\n                            \\n                            \\n                            \\n                            \\n                            \\n                                <span class=\"a-size-base a-color-price a-text-bold\">$18.15</span>\\n                            \\n                            \\n                        \\n                    </td>\\n\\n    \\n                    \\n                        <td class=\"comparison_sim_items_column comparable_item0\">\\n                            \\n                                \\n                                \\n                                \\n                                \\n                                \\n                                    <span class=\"a-size-base a-color-price a-text-bold\">$32.25</span>\\n                                \\n                                \\n                            \\n                        </td>\\n                    \\n                        <td class=\"comparison_sim_items_column comparable_item1\">\\n                            \\n                                \\n                                \\n                                \\n                                \\n                                \\n                                    <span class=\"a-size-base a-color-price a-text-bold\">$20.15</span>\\n                                \\n                                \\n                            \\n                        </td>\\n                    \\n                        <td class=\"comparison_sim_items_column comparable_item2\">\\n                            \\n                                \\n                                \\n                                    <span class=\"a-size-base a-color-base\">Eligible for FREE Shipping</span>\\n                                \\n                                \\n                                \\n                                \\n                                \\n                            \\n                        </td>\\n                    \\n                        <td class=\"comparison_sim_items_column comparable_item3\">\\n                            \\n                                \\n                                \\n                                \\n                                \\n                                \\n                                    <span class=\"a-size-base a-color-price a-text-bold\">$23.65</span>\\n                                \\n                                \\n                            \\n                        </td>\\n                    \\n                </tr>\\n\\n\\n\\n            <tr id=\"comparison_sold_by_row\">\\n                <th class=\"comparison_attribute_name_column comparison_table_first_col\" role=\"rowheader\">\\n                    <span class=\"a-size-base a-color-base\">Sold By</span>\\n                </th>\\n\\n  \\n                <td class=\"comparison_baseitem_column\">\\n                    \\n                        \\n                        \\n                        \\n                            <a class=\"a-spacing-top-small a-link-normal\" target=\"_self\" rel=\"noopener\" href=\"/gp/help/seller/at-a-glance.html/ref=psdc_10304191_s0_B000067EE4?ie=UTF8&amp;seller=A2M0FUT1UHQA4D\">hotdealshop</a>\\n                        \\n                     \\n                </td>\\n\\n\\n                \\n                    <td class=\"comparison_sim_items_column comparable_item0\">\\n                         \\n                            \\n                         \\n                             <a class=\"a-spacing-top-small a-link-normal\" target=\"_self\" rel=\"noopener\" href=\"/gp/help/seller/at-a-glance.html/ref=psdc_10304191_s1_B000067EE4?ie=UTF8&amp;seller=A2M0FUT1UHQA4D\">hotdealshop</a>\\n                         \\n                         \\n                     </td>\\n                \\n                    <td class=\"comparison_sim_items_column comparable_item1\">\\n                         \\n                            \\n                         \\n                             <a class=\"a-spacing-top-small a-link-normal\" target=\"_self\" rel=\"noopener\" href=\"/gp/help/seller/at-a-glance.html/ref=psdc_10304191_s2_B000067EE4?ie=UTF8&amp;seller=A2M0FUT1UHQA4D\">hotdealshop</a>\\n                         \\n                         \\n                     </td>\\n                \\n                    <td class=\"comparison_sim_items_column comparable_item2\">\\n                         \\n                            \\n                         \\n                             <a class=\"a-spacing-top-small a-link-normal\" target=\"_self\" rel=\"noopener\" href=\"/gp/help/seller/at-a-glance.html/ref=psdc_10304191_s3_B000067EE4?ie=UTF8&amp;seller=A21ENAV0C10FG6\">TroDen</a>\\n                         \\n                         \\n                     </td>\\n                \\n                    <td class=\"comparison_sim_items_column comparable_item3\">\\n                         \\n                            \\n                         \\n                             <a class=\"a-spacing-top-small a-link-normal\" target=\"_self\" rel=\"noopener\" href=\"/gp/help/seller/at-a-glance.html/ref=psdc_10304191_s4_B000067EE4?ie=UTF8&amp;seller=A2M0FUT1UHQA4D\">hotdealshop</a>\\n                         \\n                         \\n                     </td>\\n                \\n             </tr>\\n\\n\\n            \\n       </tbody>'\n",
            " ...\n",
            " ' class=\"a-bordered a-horizontal-stripes  a-spacing-extra-large a-size-base comparison_table\">\\n\\n\\n\\n            \\n            \\n            \\n            \\n            \\n            <tr class=\"comparison_table_image_row\">\\n                <td class=\"comparison_table_first_col\"></td>\\n\\n\\n                <th class=\"comparison_image_title_cell\" role=\"columnheader\">\\n                    <div class=\"a-row a-spacing-top-micro\">\\n                        <center>\\n                             <img alt=\"Phytomer Hydra Original Thirst-Relief Melting Cream - 1.6oz\" src=\"https://images-na.ssl-images-amazon.com/images/I/41CQgwpv2DL._SL500_AC_SS350_.jpg\" id=\"comparison_image\">\\n                        </center>\\n                    </div>\\n                    <div class=\"a-row a-spacing-top-small\">\\n                        <div id=\"comparison_title\" class=\"a-section a-spacing-none\">\\n                            <span aria-hidden=\"true\" class=\"a-size-base a-color-base a-text-bold\">\\n                                This item\\n                            </span>\\n                            <span aria-hidden=\"true\" class=\"a-size-base a-color-base\">Phytomer Hydra Original Thirst-Relief Melting Cream - 1.6oz</span>\\n                        </div>\\n                        \\n                        \\n                    </div>\\n                </th>\\n\\n\\n                \\n                    <th class=\"comparison_image_title_cell comparable_item0\" role=\"columnheader\">\\n                        <a class=\"a-link-normal\" target=\"_self\" rel=\"noopener\" href=\"/dp/B00PKQVGTI/ref=psdc_16479981011_t1_B01HHAWG20\">\\n                          <div class=\"a-row a-spacing-top-micro\">\\n                            <center>\\n                                <img alt=\"\" src=\"https://images-na.ssl-images-amazon.com/images/I/41aSQnDd8CL._SL500_AC_SS350_.jpg\" aria-hidden=\"true\" id=\"comparison_image0\">\\n                            </center>\\n                          </div>\\n                          <div id=\"comparison_title0\" class=\"a-row a-spacing-top-small\">\\n                            <span class=\"a-size-base\">Phytomer Velvety Soothing Cream - Douceur Marine - 50ml/1.6oz</span>\\n                          </div>\\n                        </a>\\n                        \\n                        \\n                    </th>\\n                \\n                    <th class=\"comparison_image_title_cell comparable_item1\" role=\"columnheader\">\\n                        <a class=\"a-link-normal\" target=\"_self\" rel=\"noopener\" href=\"/dp/B078RKVQPG/ref=psdc_16479981011_t2_B01HHAWG20\">\\n                          <div class=\"a-row a-spacing-top-micro\">\\n                            <center>\\n                                <img alt=\"\" src=\"https://images-na.ssl-images-amazon.com/images/I/41IKpKVXgRL._SL500_AC_SS350_.jpg\" aria-hidden=\"true\" id=\"comparison_image1\">\\n                            </center>\\n                          </div>\\n                          <div id=\"comparison_title1\" class=\"a-row a-spacing-top-small\">\\n                            <span class=\"a-size-base\">Phytomer Oligoforce Moisturizing Enforcement Serum with Oligomer 50ml/1.6oz (Salon Size)</span>\\n                          </div>\\n                        </a>\\n                        \\n                        \\n                    </th>\\n                \\n                    <th class=\"comparison_image_title_cell comparable_item2\" role=\"columnheader\">\\n                        <a class=\"a-link-normal\" target=\"_self\" rel=\"noopener\" href=\"/dp/B07883ZN1B/ref=psdc_16479981011_t3_B01HHAWG20\">\\n                          <div class=\"a-row a-spacing-top-micro\">\\n                            <center>\\n                                <img alt=\"\" src=\"https://images-na.ssl-images-amazon.com/images/I/41Oe9xUD5pL._SL500_AC_SS350_.jpg\" aria-hidden=\"true\" id=\"comparison_image2\">\\n                            </center>\\n                          </div>\\n                          <div id=\"comparison_title2\" class=\"a-row a-spacing-top-small\">\\n                            <span class=\"a-size-base\">Phytomer Oligoforce Soothing Enforcement Serum with Oligomer 50ml/1.6oz (Salon Size)</span>\\n                          </div>\\n                        </a>\\n                        \\n                        \\n                    </th>\\n                \\n                    <th class=\"comparison_image_title_cell comparable_item3\" role=\"columnheader\">\\n                        <a class=\"a-link-normal\" target=\"_self\" rel=\"noopener\" href=\"/dp/B005678LY4/ref=psdc_16479981011_t4_B01HHAWG20\">\\n                          <div class=\"a-row a-spacing-top-micro\">\\n                            <center>\\n                                <img alt=\"\" src=\"https://images-na.ssl-images-amazon.com/images/I/41vtW27-ZhL._SL500_AC_SS350_.jpg\" aria-hidden=\"true\" id=\"comparison_image3\">\\n                            </center>\\n                          </div>\\n                          <div id=\"comparison_title3\" class=\"a-row a-spacing-top-small\">\\n                            <span class=\"a-size-base\">Phytomer Oligopur - Hydra-Matifying Control Cream - 1.6 fl oz</span>\\n                          </div>\\n                        </a>\\n                        \\n                        \\n                    </th>\\n                \\n                    <th class=\"comparison_image_title_cell comparable_item4\" role=\"columnheader\">\\n                        <a class=\"a-link-normal\" target=\"_self\" rel=\"noopener\" href=\"/dp/B078RPGNHF/ref=psdc_16479981011_t5_B01HHAWG20\">\\n                          <div class=\"a-row a-spacing-top-micro\">\\n                            <center>\\n                                <img alt=\"\" src=\"https://images-na.ssl-images-amazon.com/images/I/41EjOcwMhOL._SL500_AC_SS350_.jpg\" aria-hidden=\"true\" id=\"comparison_image4\">\\n                            </center>\\n                          </div>\\n                          <div id=\"comparison_title4\" class=\"a-row a-spacing-top-small\">\\n                            <span class=\"a-size-base\">Phytomer Hydracontinue Radiance Energizing Cream 100ml/3.3oz (Salon Size)</span>\\n                          </div>\\n                        </a>\\n                        \\n                        \\n                    </th>\\n                \\n            </tr>\\n\\n\\n            <tr></tr>\\n\\n\\n            \\n            \\n            <tr>\\n                <td class=\"comparison_table_first_col\"></td>\\n\\n\\n                <td class=\"comparison_add_to_cart_button\">\\n                    \\n                        \\n                        \\n                        \\n                            <span id=\"comparison_add_to_cart_button\" class=\"a-button a-spacing-small a-button-primary\"><span class=\"a-button-inner\"><a id=\"comparison_add_to_cart_button-announce\" href=\"/gp/item-dispatch/ref=psdc_16479981011_a0_B01HHAWG20?ie=UTF8&amp;itemCount=1&amp;nodeID=3760911&amp;offeringID.1=%252B4RdYOMPYolquqgHW2nwmuWSbxZT6FfiAkDHaVay6%252B5jqQ%252FH9v7VJN%252FFWaJxclVpljEkbtzfNb9uaiHamqHdtlXA8u6YOyzdipBOkKj%252F0lNO2Zj9eVas2h9PS2foXXf%252BdATVZsu8JmObP9rDxlUZfYEyyQFX6nJN&amp;storeID=beauty&amp;session-id=144-6296541-9587901&amp;submit.addToCart=addToCart&amp;signInToHUC=0\" class=\"a-button-text\" role=\"button\">Add to Cart</a></span></span>\\n                        \\n                    \\n                </td>\\n\\n\\n                \\n                    <td class=\"a-text-left comparison_add_to_cart_button comparable_item0\">\\n                        \\n                            \\n                            \\n                                <span id=\"comparison_add_to_cart_button0\" class=\"a-button a-spacing-small a-button-primary\"><span class=\"a-button-inner\"><a id=\"comparison_add_to_cart_button0-announce\" href=\"/gp/item-dispatch/ref=psdc_16479981011_a1_B01HHAWG20?ie=UTF8&amp;itemCount=1&amp;nodeID=3760911&amp;offeringID.1=%252B4RdYOMPYomsr8hFAA21pNWEjO11kRymhuDKcF2I5LlwRClibo%252F9bMa7jeTGcB5MOmceKOHGXkdudgq9azWQT6kqiDpqmCcpm6lFUkrQTR0ZnvP9ws04G6%252FPVbd7Pqz6VSzMCudF72bO2R%252BEbsn1QsueYvGM%252F12h&amp;storeID=beauty&amp;session-id=144-6296541-9587901&amp;submit.addToCart=addToCart&amp;signInToHUC=0\" class=\"a-button-text\" role=\"button\">Add to Cart</a></span></span>\\n                            \\n                        \\n                    </td>\\n                \\n                    <td class=\"a-text-left comparison_add_to_cart_button comparable_item1\">\\n                        \\n                            \\n                            \\n                                <span id=\"comparison_add_to_cart_button1\" class=\"a-button a-spacing-small a-button-primary\"><span class=\"a-button-inner\"><a id=\"comparison_add_to_cart_button1-announce\" href=\"/gp/item-dispatch/ref=psdc_16479981011_a2_B01HHAWG20?ie=UTF8&amp;itemCount=1&amp;nodeID=3760911&amp;offeringID.1=%252B4RdYOMPYon31anpMgl9yWbxxslxGA2qgfRBGxQlA45MPDuiQbVYcHXAhMDloaHVplAwVGymr5xAfBui%252BB7B5qs4hM8hrzmVeRPowfliIsjyZQv%252FNztpAjEUtgAxmolY%252FUlZBL8TdLhi%252BBTsLpn4%252Fk%252FhbjHf2XKf&amp;storeID=beauty&amp;session-id=144-6296541-9587901&amp;submit.addToCart=addToCart&amp;signInToHUC=0\" class=\"a-button-text\" role=\"button\">Add to Cart</a></span></span>\\n                            \\n                        \\n                    </td>\\n                \\n                    <td class=\"a-text-left comparison_add_to_cart_button comparable_item2\">\\n                        \\n                            \\n                            \\n                                <span id=\"comparison_add_to_cart_button2\" class=\"a-button a-spacing-small a-button-primary\"><span class=\"a-button-inner\"><a id=\"comparison_add_to_cart_button2-announce\" href=\"/gp/item-dispatch/ref=psdc_16479981011_a3_B01HHAWG20?ie=UTF8&amp;itemCount=1&amp;nodeID=3760911&amp;offeringID.1=%252B4RdYOMPYon31anpMgl9yW7Ej8QmwgDizmLglpzzOofLGywwJVmmQBrxVOhclem%252Bz5srmKGhTk3NSNHATVSNsBUDkQ4ba2r%252BlQck7oH73FTqQgzxKlJICbm6c85545xSeuZwptYVKJhiEfXtOxlFQPF3jrQExNGm&amp;storeID=beauty&amp;session-id=144-6296541-9587901&amp;submit.addToCart=addToCart&amp;signInToHUC=0\" class=\"a-button-text\" role=\"button\">Add to Cart</a></span></span>\\n                            \\n                        \\n                    </td>\\n                \\n                    <td class=\"a-text-left comparison_add_to_cart_button comparable_item3\">\\n                        \\n                            \\n                            \\n                                <span id=\"comparison_add_to_cart_button3\" class=\"a-button a-spacing-small a-button-primary\"><span class=\"a-button-inner\"><a id=\"comparison_add_to_cart_button3-announce\" href=\"/gp/item-dispatch/ref=psdc_16479981011_a4_B01HHAWG20?ie=UTF8&amp;itemCount=1&amp;nodeID=3760901&amp;offeringID.1=%252B4RdYOMPYomsr8hFAA21pA0BGKvY0brJLE361XQ8hfuxDi54nvIaYgyTYBW4E0f%252BgNFh63XdDQ60Qs%252FIFNj9hAFldUJ429EdZKDNZFWWE6QSPc4VF0CC921e6N3rhIT%252By8JAgzleatTVofTSba81DTLyPY%252FqtKLi&amp;storeID=hpc&amp;session-id=144-6296541-9587901&amp;submit.addToCart=addToCart&amp;signInToHUC=0\" class=\"a-button-text\" role=\"button\">Add to Cart</a></span></span>\\n                            \\n                        \\n                    </td>\\n                \\n                    <td class=\"a-text-left comparison_add_to_cart_button comparable_item4\">\\n                        \\n                            \\n                            \\n                                <span id=\"comparison_add_to_cart_button4\" class=\"a-button a-spacing-small a-button-primary\"><span class=\"a-button-inner\"><a id=\"comparison_add_to_cart_button4-announce\" href=\"/gp/item-dispatch/ref=psdc_16479981011_a5_B01HHAWG20?ie=UTF8&amp;itemCount=1&amp;nodeID=3760911&amp;offeringID.1=%252B4RdYOMPYon31anpMgl9yR%252FXZxfeJk6wCvh9hCKGgPNprTsPZe33hjEw5ix8HpiJPEiyrDpUQxfd%252FXzCwheaSJeFCoF%252B3MEyRBjUHmMY8aZtmOH3VkkOK6yZGjLBWJ1zD3jHb6LboltziVAOE4bBdA%253D%253D&amp;storeID=beauty&amp;session-id=144-6296541-9587901&amp;submit.addToCart=addToCart&amp;signInToHUC=0\" class=\"a-button-text\" role=\"button\">Add to Cart</a></span></span>\\n                            \\n                        \\n                    </td>\\n                \\n            </tr>\\n\\n\\n            <tr id=\"comparison_custormer_rating_row\">\\n                \\n                \\n                \\n                \\n\\n                <th class=\"comparison_attribute_name_column comparison_table_first_col\" role=\"rowheader\">\\n                    <span class=\"a-size-base a-color-base\">Customer Rating</span>\\n                </th>\\n\\n\\n                <td class=\"comparison_baseitem_column\">\\n                    \\n                    \\n                    \\n                    <span>\\n                        <span class=\"a-declarative\" data-action=\"a-popover\" data-a-popover=\"{&quot;max-width&quot;:&quot;700&quot;,&quot;closeButton&quot;:&quot;false&quot;,&quot;position&quot;:&quot;triggerBottom&quot;,&quot;url&quot;:&quot; /gp/customer-reviews/widgets/average-customer-review/popover/ref=acr_dpComparsion__popover?contextId=dpComparsion&amp;asin=B01HHAWG20 &quot;,&quot;restoreFocusOnHide&quot;:&quot;false&quot;}\">\\n                            <i class=\"a-icon a-icon-star a-star-4-5 a-spacing-none\"><span class=\"a-icon-alt\">4 out of 5 stars</span></i>\\n                        </span>\\n                        <a class=\"a-link-normal\" target=\"_self\" rel=\"noopener\" href=\"/product-reviews/B01HHAWG20/ref=psdc_16479981011_r0_B01HHAWG20?_encoding=UTF8&amp;showViewpoints=1\">(4)</a>\\n                        <span class=\"a-letter-space\"></span>\\n                    </span>\\n                </td>\\n\\n\\n                \\n                    <td class=\"comparison_sim_items_column comparable_item0\">\\n                        \\n                        \\n                        \\n                        <span>\\n                            <span class=\"a-declarative\" data-action=\"a-popover\" data-a-popover=\"{&quot;max-width&quot;:&quot;700&quot;,&quot;closeButton&quot;:&quot;false&quot;,&quot;position&quot;:&quot;triggerBottom&quot;,&quot;url&quot;:&quot; /gp/customer-reviews/widgets/average-customer-review/popover/ref=acr_dpComparsion__popover?contextId=dpComparsion&amp;asin=B00PKQVGTI &quot;,&quot;restoreFocusOnHide&quot;:&quot;false&quot;}\">\\n                                <i class=\"a-icon a-icon-star a-star-5 a-spacing-none\"><span class=\"a-icon-alt\">5 out of 5 stars</span></i>\\n                            </span>\\n                            <a class=\"a-link-normal\" target=\"_self\" rel=\"noopener\" href=\"/product-reviews/B00PKQVGTI/ref=psdc_16479981011_r1_B01HHAWG20?_encoding=UTF8&amp;showViewpoints=1\">(1)</a>\\n                            <span class=\"a-letter-space\"></span>\\n                        </span>\\n                    </td>\\n                \\n                    <td class=\"comparison_sim_items_column comparable_item1\">\\n                        \\n                        \\n                        \\n                        <span>\\n                            <span class=\"a-declarative\" data-action=\"a-popover\" data-a-popover=\"{&quot;max-width&quot;:&quot;700&quot;,&quot;closeButton&quot;:&quot;false&quot;,&quot;position&quot;:&quot;triggerBottom&quot;,&quot;url&quot;:&quot; /gp/customer-reviews/widgets/average-customer-review/popover/ref=acr_dpComparsion__popover?contextId=dpComparsion&amp;asin=B078RKVQPG &quot;,&quot;restoreFocusOnHide&quot;:&quot;false&quot;}\">\\n                                <i class=\"a-icon a-icon-star a-star-0 a-spacing-none\"><span class=\"a-icon-alt\">0 out of 5 stars</span></i>\\n                            </span>\\n                            <a class=\"a-link-normal\" target=\"_self\" rel=\"noopener\" href=\"/product-reviews/B078RKVQPG/ref=psdc_16479981011_r2_B01HHAWG20?_encoding=UTF8&amp;showViewpoints=1\">(0)</a>\\n                            <span class=\"a-letter-space\"></span>\\n                        </span>\\n                    </td>\\n                \\n                    <td class=\"comparison_sim_items_column comparable_item2\">\\n                        \\n                        \\n                        \\n                        <span>\\n                            <span class=\"a-declarative\" data-action=\"a-popover\" data-a-popover=\"{&quot;max-width&quot;:&quot;700&quot;,&quot;closeButton&quot;:&quot;false&quot;,&quot;position&quot;:&quot;triggerBottom&quot;,&quot;url&quot;:&quot; /gp/customer-reviews/widgets/average-customer-review/popover/ref=acr_dpComparsion__popover?contextId=dpComparsion&amp;asin=B07883ZN1B &quot;,&quot;restoreFocusOnHide&quot;:&quot;false&quot;}\">\\n                                <i class=\"a-icon a-icon-star a-star-5 a-spacing-none\"><span class=\"a-icon-alt\">5 out of 5 stars</span></i>\\n                            </span>\\n                            <a class=\"a-link-normal\" target=\"_self\" rel=\"noopener\" href=\"/product-reviews/B07883ZN1B/ref=psdc_16479981011_r3_B01HHAWG20?_encoding=UTF8&amp;showViewpoints=1\">(1)</a>\\n                            <span class=\"a-letter-space\"></span>\\n                        </span>\\n                    </td>\\n                \\n                    <td class=\"comparison_sim_items_column comparable_item3\">\\n                        \\n                        \\n                        \\n                        <span>\\n                            <span class=\"a-declarative\" data-action=\"a-popover\" data-a-popover=\"{&quot;max-width&quot;:&quot;700&quot;,&quot;closeButton&quot;:&quot;false&quot;,&quot;position&quot;:&quot;triggerBottom&quot;,&quot;url&quot;:&quot; /gp/customer-reviews/widgets/average-customer-review/popover/ref=acr_dpComparsion__popover?contextId=dpComparsion&amp;asin=B005678LY4 &quot;,&quot;restoreFocusOnHide&quot;:&quot;false&quot;}\">\\n                                <i class=\"a-icon a-icon-star a-star-4-5 a-spacing-none\"><span class=\"a-icon-alt\">4 out of 5 stars</span></i>\\n                            </span>\\n                            <a class=\"a-link-normal\" target=\"_self\" rel=\"noopener\" href=\"/product-reviews/B005678LY4/ref=psdc_16479981011_r4_B01HHAWG20?_encoding=UTF8&amp;showViewpoints=1\">(11)</a>\\n                            <span class=\"a-letter-space\"></span>\\n                        </span>\\n                    </td>\\n                \\n                    <td class=\"comparison_sim_items_column comparable_item4\">\\n                        \\n                        \\n                        \\n                        <span>\\n                            <span class=\"a-declarative\" data-action=\"a-popover\" data-a-popover=\"{&quot;max-width&quot;:&quot;700&quot;,&quot;closeButton&quot;:&quot;false&quot;,&quot;position&quot;:&quot;triggerBottom&quot;,&quot;url&quot;:&quot; /gp/customer-reviews/widgets/average-customer-review/popover/ref=acr_dpComparsion__popover?contextId=dpComparsion&amp;asin=B078RPGNHF &quot;,&quot;restoreFocusOnHide&quot;:&quot;false&quot;}\">\\n                                <i class=\"a-icon a-icon-star a-star-0 a-spacing-none\"><span class=\"a-icon-alt\">0 out of 5 stars</span></i>\\n                            </span>\\n                            <a class=\"a-link-normal\" target=\"_self\" rel=\"noopener\" href=\"/product-reviews/B078RPGNHF/ref=psdc_16479981011_r5_B01HHAWG20?_encoding=UTF8&amp;showViewpoints=1\">(0)</a>\\n                            <span class=\"a-letter-space\"></span>\\n                        </span>\\n                    </td>\\n                \\n            </tr>\\n\\n\\n            <tr id=\"comparison_price_row\">\\n                <th class=\"comparison_attribute_name_column comparison_table_first_col\" role=\"rowheader\">\\n                    <span class=\"a-size-base a-color-base\">Price</span>\\n                </th>\\n\\n\\n                <td class=\"comparison_baseitem_column\">\\n                    \\n                        \\n                        \\n                        \\n                        \\n                            \\n                                \\n                                    <span class=\"a-price\" data-a-size=\"l\" data-a-color=\"base\"><span class=\"a-offscreen\">$65.76</span><span aria-hidden=\"true\"><span class=\"a-price-symbol\">$</span><span class=\"a-price-whole\">65<span class=\"a-price-decimal\">\\x00</span></span><span class=\"a-price-fraction\">76</span></span></span>\\n                                \\n                                \\n                            \\n                        \\n                    \\n                </td>\\n\\n\\n                \\n                    <td class=\"comparison_sim_items_column comparable_item0\">\\n                    \\n                        \\n                        \\n                        \\n                            \\n                                \\n                                    <span class=\"a-price\" data-a-size=\"l\" data-a-color=\"base\"><span class=\"a-offscreen\">$54.19</span><span aria-hidden=\"true\"><span class=\"a-price-symbol\">$</span><span class=\"a-price-whole\">54<span class=\"a-price-decimal\">\\x00</span></span><span class=\"a-price-fraction\">19</span></span></span>\\n                                \\n                                \\n                            \\n                        \\n                    \\n                    </td>\\n                \\n                    <td class=\"comparison_sim_items_column comparable_item1\">\\n                    \\n                        \\n                        \\n                        \\n                            \\n                                \\n                                    <span class=\"a-price\" data-a-size=\"l\" data-a-color=\"base\"><span class=\"a-offscreen\">$77.57</span><span aria-hidden=\"true\"><span class=\"a-price-symbol\">$</span><span class=\"a-price-whole\">77<span class=\"a-price-decimal\">\\x00</span></span><span class=\"a-price-fraction\">57</span></span></span>\\n                                \\n                                \\n                            \\n                        \\n                    \\n                    </td>\\n                \\n                    <td class=\"comparison_sim_items_column comparable_item2\">\\n                    \\n                        \\n                        \\n                        \\n                            \\n                                \\n                                    <span class=\"a-price\" data-a-size=\"l\" data-a-color=\"base\"><span class=\"a-offscreen\">$69.66</span><span aria-hidden=\"true\"><span class=\"a-price-symbol\">$</span><span class=\"a-price-whole\">69<span class=\"a-price-decimal\">\\x00</span></span><span class=\"a-price-fraction\">66</span></span></span>\\n                                \\n                                \\n                            \\n                        \\n                    \\n                    </td>\\n                \\n                    <td class=\"comparison_sim_items_column comparable_item3\">\\n                    \\n                        \\n                        \\n                        \\n                            \\n                                \\n                                    <span class=\"a-price\" data-a-size=\"l\" data-a-color=\"base\"><span class=\"a-offscreen\">$33.20</span><span aria-hidden=\"true\"><span class=\"a-price-symbol\">$</span><span class=\"a-price-whole\">33<span class=\"a-price-decimal\">\\x00</span></span><span class=\"a-price-fraction\">20</span></span></span>\\n                                \\n                                \\n                            \\n                        \\n                    \\n                    </td>\\n                \\n                    <td class=\"comparison_sim_items_column comparable_item4\">\\n                    \\n                        \\n                        \\n                        \\n                            \\n                                \\n                                    <span class=\"a-price\" data-a-size=\"l\" data-a-color=\"base\"><span class=\"a-offscreen\">$54.09</span><span aria-hidden=\"true\"><span class=\"a-price-symbol\">$</span><span class=\"a-price-whole\">54<span class=\"a-price-decimal\">\\x00</span></span><span class=\"a-price-fraction\">09</span></span></span>\\n                                \\n                                \\n                            \\n                        \\n                    \\n                    </td>\\n                \\n            </tr>\\n\\n\\n    \\n                <tr id=\"comparison_shipping_info_row\">\\n                    <th class=\"comparison_attribute_name_column comparison_table_first_col\" role=\"rowheader\">\\n                        <span class=\"a-size-base a-color-base\">Shipping</span>\\n                    </th>\\n\\n    \\n                    <td class=\"comparison_baseitem_column\">\\n                        \\n                            \\n                            \\n                            \\n                                <span class=\"a-size-base a-color-base\">Eligible for FREE Shipping</span>\\n                            \\n                            \\n                            \\n                            \\n                            \\n                        \\n                    </td>\\n\\n    \\n                    \\n                        <td class=\"comparison_sim_items_column comparable_item0\">\\n                            \\n                                \\n                                \\n                                    <span class=\"a-size-base a-color-base\">Eligible for FREE Shipping</span>\\n                                \\n                                \\n                                \\n                                \\n                                \\n                            \\n                        </td>\\n                    \\n                        <td class=\"comparison_sim_items_column comparable_item1\">\\n                            \\n                                \\n                                \\n                                    <span class=\"a-size-base a-color-base\">Eligible for FREE Shipping</span>\\n                                \\n                                \\n                                \\n                                \\n                                \\n                            \\n                        </td>\\n                    \\n                        <td class=\"comparison_sim_items_column comparable_item2\">\\n                            \\n                                \\n                                \\n                                    <span class=\"a-size-base a-color-base\">Eligible for FREE Shipping</span>\\n                                \\n                                \\n                                \\n                                \\n                                \\n                            \\n                        </td>\\n                    \\n                        <td class=\"comparison_sim_items_column comparable_item3\">\\n                            \\n                                \\n                                \\n                                    <span class=\"a-size-base a-color-base\">Eligible for FREE Shipping</span>\\n                                \\n                                \\n                                \\n                                \\n                                \\n                            \\n                        </td>\\n                    \\n                        <td class=\"comparison_sim_items_column comparable_item4\">\\n                            \\n                                \\n                                \\n                                    <span class=\"a-size-base a-color-base\">Eligible for FREE Shipping</span>\\n                                \\n                                \\n                                \\n                                \\n                                \\n                            \\n                        </td>\\n                    \\n                </tr>\\n\\n\\n\\n            <tr id=\"comparison_sold_by_row\">\\n                <th class=\"comparison_attribute_name_column comparison_table_first_col\" role=\"rowheader\">\\n                    <span class=\"a-size-base a-color-base\">Sold By</span>\\n                </th>\\n\\n  \\n                <td class=\"comparison_baseitem_column\">\\n                    \\n                        \\n                        \\n                        \\n                            <a class=\"a-spacing-top-small a-link-normal\" target=\"_self\" rel=\"noopener\" href=\"/gp/help/seller/at-a-glance.html/ref=psdc_16479981011_s0_B01HHAWG20?ie=UTF8&amp;seller=ACOWV1OFIMQQ2\">Beauty Junkie</a>\\n                        \\n                     \\n                </td>\\n\\n\\n                \\n                    <td class=\"comparison_sim_items_column comparable_item0\">\\n                         \\n                            \\n                         \\n                             <a class=\"a-spacing-top-small a-link-normal\" target=\"_self\" rel=\"noopener\" href=\"/gp/help/seller/at-a-glance.html/ref=psdc_16479981011_s1_B01HHAWG20?ie=UTF8&amp;seller=A18LANNTX286HQ\">Daily Beauty Store</a>\\n                         \\n                         \\n                     </td>\\n                \\n                    <td class=\"comparison_sim_items_column comparable_item1\">\\n                         \\n                            \\n                         \\n                             <a class=\"a-spacing-top-small a-link-normal\" target=\"_self\" rel=\"noopener\" href=\"/gp/help/seller/at-a-glance.html/ref=psdc_16479981011_s2_B01HHAWG20?ie=UTF8&amp;seller=A18LANNTX286HQ\">Daily Beauty Store</a>\\n                         \\n                         \\n                     </td>\\n                \\n                    <td class=\"comparison_sim_items_column comparable_item2\">\\n                         \\n                            \\n                         \\n                             <a class=\"a-spacing-top-small a-link-normal\" target=\"_self\" rel=\"noopener\" href=\"/gp/help/seller/at-a-glance.html/ref=psdc_16479981011_s3_B01HHAWG20?ie=UTF8&amp;seller=ACOWV1OFIMQQ2\">Beauty Junkie</a>\\n                         \\n                         \\n                     </td>\\n                \\n                    <td class=\"comparison_sim_items_column comparable_item3\">\\n                         \\n                            \\n                         \\n                             <a class=\"a-spacing-top-small a-link-normal\" target=\"_self\" rel=\"noopener\" href=\"/gp/help/seller/at-a-glance.html/ref=psdc_16479981011_s4_B01HHAWG20?ie=UTF8&amp;seller=A3MT75038F86CX&amp;isAmazonFulfilled=1\">Johnson Distributors</a>\\n                         \\n                         \\n                     </td>\\n                \\n                    <td class=\"comparison_sim_items_column comparable_item4\">\\n                         \\n                            \\n                         \\n                             <a class=\"a-spacing-top-small a-link-normal\" target=\"_self\" rel=\"noopener\" href=\"/gp/help/seller/at-a-glance.html/ref=psdc_16479981011_s5_B01HHAWG20?ie=UTF8&amp;seller=A2WG3VTYDKLQ9W\">*Bright Light*</a>\\n                         \\n                         \\n                     </td>\\n                \\n             </tr>\\n\\n\\n            \\n                <tr>\\n                    <th class=\"a-span3 comparison_attribute_name_column comparison_table_first_col\" role=\"rowheader\">\\n                        <span class=\"a-size-base a-color-base\">Batteries are Included</span>\\n                    </th>\\n                    \\n\\n                    <td class=\"comparison_baseitem_column\">\\n                     \\n                        \\n                            \\n                            \\n                                 <span class=\"a-size-base a-color-base\">No</span>\\n                            \\n                        \\n                    </td>\\n\\n\\n                    \\n                        <td class=\"comparison_sim_items_column comparable_item0\">\\n                            \\n                            \\n                            \\n                               \\n                                  \\n                                  \\n                                      <span class=\"a-size-base a-color-base\">No</span>\\n                                  \\n                               \\n                        </td>\\n                    \\n                        <td class=\"comparison_sim_items_column comparable_item1\">\\n                            \\n                            \\n                            \\n                               \\n                                  \\n                                  \\n                                      <span class=\"a-size-base a-color-base\">No</span>\\n                                  \\n                               \\n                        </td>\\n                    \\n                        <td class=\"comparison_sim_items_column comparable_item2\">\\n                            \\n                            \\n                            \\n                               \\n                                  \\n                                  \\n                                      <span class=\"a-size-base a-color-base\">No</span>\\n                                  \\n                               \\n                        </td>\\n                    \\n                        <td class=\"comparison_sim_items_column comparable_item3\">\\n                            \\n                            \\n                            \\n                               \\n                                  \\n                                  \\n                                      <span class=\"a-size-base a-color-base\">No</span>\\n                                  \\n                               \\n                        </td>\\n                    \\n                        <td class=\"comparison_sim_items_column comparable_item4\">\\n                            \\n                            \\n                            \\n                               \\n                                  \\n                                  \\n                                      <span class=\"a-size-base a-color-base\">No</span>\\n                                  \\n                               \\n                        </td>\\n                    \\n                </tr>\\n            \\n                <tr>\\n                    <th class=\"a-span3 comparison_attribute_name_column comparison_table_first_col\" role=\"rowheader\">\\n                        <span class=\"a-size-base a-color-base\">Item Weight</span>\\n                    </th>\\n                    \\n\\n                    <td class=\"comparison_baseitem_column\">\\n                     \\n                        \\n                            \\n                                 <span class=\"a-color-secondary\"></span>\\n                            \\n                            \\n                        \\n                    </td>\\n\\n\\n                    \\n                        <td class=\"comparison_sim_items_column comparable_item0\">\\n                            \\n                            \\n                            \\n                               \\n                                  \\n                                      <span class=\"a-color-secondary\"></span>\\n                                  \\n                                  \\n                               \\n                        </td>\\n                    \\n                        <td class=\"comparison_sim_items_column comparable_item1\">\\n                            \\n                            \\n                            \\n                               \\n                                  \\n                                  \\n                                      <span class=\"a-size-base a-color-base\">6 ounces</span>\\n                                  \\n                               \\n                        </td>\\n                    \\n                        <td class=\"comparison_sim_items_column comparable_item2\">\\n                            \\n                            \\n                            \\n                               \\n                                  \\n                                  \\n                                      <span class=\"a-size-base a-color-base\">6 ounces</span>\\n                                  \\n                               \\n                        </td>\\n                    \\n                        <td class=\"comparison_sim_items_column comparable_item3\">\\n                            \\n                            \\n                            \\n                               \\n                                  \\n                                  \\n                                      <span class=\"a-size-base a-color-base\">1.6 ounces</span>\\n                                  \\n                               \\n                        </td>\\n                    \\n                        <td class=\"comparison_sim_items_column comparable_item4\">\\n                            \\n                            \\n                            \\n                               \\n                                  \\n                                  \\n                                      <span class=\"a-size-base a-color-base\">4.23 ounces</span>\\n                                  \\n                               \\n                        </td>\\n                    \\n                </tr>\\n            \\n                <tr>\\n                    <th class=\"a-span3 comparison_attribute_name_column comparison_table_first_col\" role=\"rowheader\">\\n                        <span class=\"a-size-base a-color-base\">Skin Type</span>\\n                    </th>\\n                    \\n\\n                    <td class=\"comparison_baseitem_column\">\\n                     \\n                        \\n                            \\n                                 <span class=\"a-color-secondary\"></span>\\n                            \\n                            \\n                        \\n                    </td>\\n\\n\\n                    \\n                        <td class=\"comparison_sim_items_column comparable_item0\">\\n                            \\n                            \\n                            \\n                               \\n                                  \\n                                  \\n                                      <span class=\"a-size-base a-color-base\">Sensitive</span>\\n                                  \\n                               \\n                        </td>\\n                    \\n                        <td class=\"comparison_sim_items_column comparable_item1\">\\n                            \\n                            \\n                            \\n                               \\n                                  \\n                                      <span class=\"a-color-secondary\"></span>\\n                                  \\n                                  \\n                               \\n                        </td>\\n                    \\n                        <td class=\"comparison_sim_items_column comparable_item2\">\\n                            \\n                            \\n                            \\n                               \\n                                  \\n                                      <span class=\"a-color-secondary\"></span>\\n                                  \\n                                  \\n                               \\n                        </td>\\n                    \\n                        <td class=\"comparison_sim_items_column comparable_item3\">\\n                            \\n                            \\n                            \\n                               \\n                                  \\n                                      <span class=\"a-color-secondary\"></span>\\n                                  \\n                                  \\n                               \\n                        </td>\\n                    \\n                        <td class=\"comparison_sim_items_column comparable_item4\">\\n                            \\n                            \\n                            \\n                               \\n                                  \\n                                      <span class=\"a-color-secondary\"></span>\\n                                  \\n                                  \\n                               \\n                        </td>\\n                    \\n                </tr>\\n            \\n       '\n",
            " ' class=\"a-bordered a-horizontal-stripes  a-spacing-extra-large a-size-base comparison_table\">\\n\\n\\n\\n            \\n            \\n            \\n            \\n            \\n            <tr class=\"comparison_table_image_row\">\\n                <td class=\"comparison_table_first_col\"></td>\\n\\n\\n                <th class=\"comparison_image_title_cell\" role=\"columnheader\">\\n                    <div class=\"a-row a-spacing-top-micro\">\\n                        <center>\\n                             <img alt=\"JahyShow Replacement Shaver Head For Philips Norelco RQ11 RQ12 Sensotouch 3D 1260 1280 1290 RQ1180 1160 1150 Arcitec Razor Shaving Unit Triple 3D\" src=\"https://images-na.ssl-images-amazon.com/images/I/51L8hPam5zL._SL500_AC_SS350_.jpg\" id=\"comparison_image\">\\n                        </center>\\n                    </div>\\n                    <div class=\"a-row a-spacing-top-small\">\\n                        <div id=\"comparison_title\" class=\"a-section a-spacing-none\">\\n                            <span aria-hidden=\"true\" class=\"a-size-base a-color-base a-text-bold\">\\n                                This item\\n                            </span>\\n                            <span aria-hidden=\"true\" class=\"a-size-base a-color-base\">JahyShow Replacement Shaver Head For Philips Norelco RQ11 RQ12 Sensotouch 3D 1260 1280 1290 RQ1180 1160 1150 Arcitec Razor Shaving Unit Triple 3D</span>\\n                        </div>\\n                        \\n                        \\n                    </div>\\n                </th>\\n\\n\\n                \\n                    <th class=\"comparison_image_title_cell comparable_item0\" role=\"columnheader\">\\n                        <a class=\"a-link-normal\" target=\"_self\" rel=\"noopener\" href=\"/dp/B0719PTM9Y/ref=psdc_10304191_t1_B01HHJQN8E\">\\n                          <div class=\"a-row a-spacing-top-micro\">\\n                            <center>\\n                                <img alt=\"\" src=\"https://images-na.ssl-images-amazon.com/images/I/41oh5%2BvsKPL._SL500_AC_SS350_.jpg\" aria-hidden=\"true\" id=\"comparison_image0\">\\n                            </center>\\n                          </div>\\n                          <div id=\"comparison_title0\" class=\"a-row a-spacing-top-small\">\\n                            <span class=\"a-size-base\">Replacement Head For Philips Norelco RQ11 Arcitec Razor Shaving Unit Triple Track SensoTouch 2D RQ1180 1160X 1150X</span>\\n                          </div>\\n                        </a>\\n                        \\n                        \\n                    </th>\\n                \\n                    <th class=\"comparison_image_title_cell comparable_item1\" role=\"columnheader\">\\n                        <a class=\"a-link-normal\" target=\"_self\" rel=\"noopener\" href=\"/dp/B01JZ5G9RS/ref=psdc_10304191_t2_B01HHJQN8E\">\\n                          <div class=\"a-row a-spacing-top-micro\">\\n                            <center>\\n                                <img alt=\"\" src=\"https://images-na.ssl-images-amazon.com/images/I/41E1WS1hzSL._SL500_AC_SS350_.jpg\" aria-hidden=\"true\" id=\"comparison_image1\">\\n                            </center>\\n                          </div>\\n                          <div id=\"comparison_title1\" class=\"a-row a-spacing-top-small\">\\n                            <span class=\"a-size-base\">New Shaver Head For PHILIPS NORELCO RQ12 Sensotouch 3D RQ12 Series Shavers</span>\\n                          </div>\\n                        </a>\\n                        \\n                        \\n                    </th>\\n                \\n                    <th class=\"comparison_image_title_cell comparable_item2\" role=\"columnheader\">\\n                        <a class=\"a-link-normal\" target=\"_self\" rel=\"noopener\" href=\"/dp/B072C2QC9L/ref=psdc_10304191_t3_B01HHJQN8E\">\\n                          <div class=\"a-row a-spacing-top-micro\">\\n                            <center>\\n                                <img alt=\"\" src=\"https://images-na.ssl-images-amazon.com/images/I/51oyraMV7vL._SL500_AC_SS350_.jpg\" aria-hidden=\"true\" id=\"comparison_image2\">\\n                            </center>\\n                          </div>\\n                          <div id=\"comparison_title2\" class=\"a-row a-spacing-top-small\">\\n                            <span class=\"a-size-base\">Replacement Shaving Head For Philips Norelco RQ12+ Arcitec Razor Unit Triple Track for Series 8000 (SensoTouch 3D) 1250X 1260X 1280X 1290X La Divine</span>\\n                          </div>\\n                        </a>\\n                        \\n                        \\n                    </th>\\n                \\n                    <th class=\"comparison_image_title_cell comparable_item3\" role=\"columnheader\">\\n                        <a class=\"a-link-normal\" target=\"_self\" rel=\"noopener\" href=\"/dp/B07BD1859Y/ref=psdc_10304191_t4_B01HHJQN8E\">\\n                          <div class=\"a-row a-spacing-top-micro\">\\n                            <center>\\n                                <img alt=\"\" src=\"https://images-na.ssl-images-amazon.com/images/I/41YuANXIioL._SL500_AC_SS350_.jpg\" aria-hidden=\"true\" id=\"comparison_image3\">\\n                            </center>\\n                          </div>\\n                          <div id=\"comparison_title3\" class=\"a-row a-spacing-top-small\">\\n                            <span class=\"a-size-base\">Full Set of Replacement Shaving Head fit Philips Norelco RQ10 Arcitec Razors RQ1050 RQ1060 RQ1080 RQ1095 RQ1075</span>\\n                          </div>\\n                        </a>\\n                        \\n                        \\n                    </th>\\n                \\n                    <th class=\"comparison_image_title_cell comparable_item4\" role=\"columnheader\">\\n                        <a class=\"a-link-normal\" target=\"_self\" rel=\"noopener\" href=\"/dp/B07JY7L8HR/ref=psdc_10304191_t5_B01HHJQN8E\">\\n                          <div class=\"a-row a-spacing-top-micro\">\\n                            <center>\\n                                <img alt=\"\" src=\"https://images-na.ssl-images-amazon.com/images/I/41cV12GejpL._SL500_AC_SS350_.jpg\" aria-hidden=\"true\" id=\"comparison_image4\">\\n                            </center>\\n                          </div>\\n                          <div id=\"comparison_title4\" class=\"a-row a-spacing-top-small\">\\n                            <span class=\"a-size-base\">Replacment Shaving Head for Philips Norelco RQ12 Arcitec Razer Shaving Until Triple Track SensoTouch 3D RQ1250 RQ1250CC RQ1260 RQ1260CC</span>\\n                          </div>\\n                        </a>\\n                        \\n                        \\n                    </th>\\n                \\n            </tr>\\n\\n\\n            <tr></tr>\\n\\n\\n            \\n            \\n            <tr>\\n                <td class=\"comparison_table_first_col\"></td>\\n\\n\\n                <td class=\"comparison_add_to_cart_button\">\\n                    \\n                        \\n                        \\n                        \\n                            <span id=\"comparison_add_to_cart_button\" class=\"a-button a-spacing-small a-button-primary\"><span class=\"a-button-inner\"><a id=\"comparison_add_to_cart_button-announce\" href=\"/gp/item-dispatch/ref=psdc_10304191_a0_B01HHJQN8E?ie=UTF8&amp;itemCount=1&amp;nodeID=3760911&amp;offeringID.1=Ja4CTqCWpfWRLteGuXMZmv1Zgc9KpcFi5SLWOvh21cG%252B50ygFoqyf7tZjvMHLaxfK6s3eBIV4oBeexiAWT06%252FCVnluoZB5eMNm7iDiejOzpTM8lbS62S%252Bs1yuBMj1VH96zQEzoMWhzyamWQXLxd0fvb7HF6iAxMJ&amp;storeID=beauty&amp;session-id=135-1438400-1937644&amp;submit.addToCart=addToCart&amp;signInToHUC=0\" class=\"a-button-text\" role=\"button\">Add to Cart</a></span></span>\\n                        \\n                    \\n                </td>\\n\\n\\n                \\n                    <td class=\"a-text-left comparison_add_to_cart_button comparable_item0\">\\n                        \\n                            \\n                            \\n                                <span id=\"comparison_add_to_cart_button0\" class=\"a-button a-spacing-small a-button-primary\"><span class=\"a-button-inner\"><a id=\"comparison_add_to_cart_button0-announce\" href=\"/gp/item-dispatch/ref=psdc_10304191_a1_B01HHJQN8E?ie=UTF8&amp;itemCount=1&amp;nodeID=3760911&amp;offeringID.1=Ja4CTqCWpfWOOIW3mUcXrHj6EjPC01w0q80Mwx%252BodqfsVq16F%252Blh8Vusqooa4kGIQUqlViwnq%252FWVmVUNO6itMSS2EAGLvDGZemtQy2MvHFPTbCoNziCeDjK%252FIV4atzuDjO%252BWyZV%252BtpQMXVm5UN4bKMzd%252B1c%252FNQzl&amp;storeID=beauty&amp;session-id=135-1438400-1937644&amp;submit.addToCart=addToCart&amp;signInToHUC=0\" class=\"a-button-text\" role=\"button\">Add to Cart</a></span></span>\\n                            \\n                        \\n                    </td>\\n                \\n                    <td class=\"a-text-left comparison_add_to_cart_button comparable_item1\">\\n                        \\n                            \\n                            \\n                                <span id=\"comparison_add_to_cart_button1\" class=\"a-button a-spacing-small a-button-primary\"><span class=\"a-button-inner\"><a id=\"comparison_add_to_cart_button1-announce\" href=\"/gp/item-dispatch/ref=psdc_10304191_a2_B01HHJQN8E?ie=UTF8&amp;itemCount=1&amp;nodeID=3760911&amp;offeringID.1=Ja4CTqCWpfWRLteGuXMZmoStY%252BD%252F9aa5jtOhbUO9lzGtY3n3rJqCXQRLH1kwTDOYMi2SZ7SlwweuKowApn1HNxV0y93bCjUP7m7kOyCrGXcnkBCWYotb%252FADL0V9UpZxG9etTWQKftBw%252FLd%252FKxpWBlAgNsK8P%252BKxG&amp;storeID=beauty&amp;session-id=135-1438400-1937644&amp;submit.addToCart=addToCart&amp;signInToHUC=0\" class=\"a-button-text\" role=\"button\">Add to Cart</a></span></span>\\n                            \\n                        \\n                    </td>\\n                \\n                    <td class=\"a-text-left comparison_add_to_cart_button comparable_item2\">\\n                        \\n                            \\n                            \\n                                <span id=\"comparison_add_to_cart_button2\" class=\"a-button a-spacing-small a-button-primary\"><span class=\"a-button-inner\"><a id=\"comparison_add_to_cart_button2-announce\" href=\"/gp/item-dispatch/ref=psdc_10304191_a3_B01HHJQN8E?ie=UTF8&amp;itemCount=1&amp;nodeID=3760911&amp;offeringID.1=Ja4CTqCWpfWOOIW3mUcXrCZzyZIbCFMDKCoaYgxyvvj0W05qN9R4PU4NIsW9O5htbDUOP%252FDARMAjOS8HGXB7HGjnfG%252FcMaMgy9h6bf3XAr0C5hNasKwLI3oK5zv1ftGYZAXYmdNLLOM3GxcXRZVidE2tWyiVWuid&amp;storeID=beauty&amp;session-id=135-1438400-1937644&amp;submit.addToCart=addToCart&amp;signInToHUC=0\" class=\"a-button-text\" role=\"button\">Add to Cart</a></span></span>\\n                            \\n                        \\n                    </td>\\n                \\n                    <td class=\"a-text-left comparison_add_to_cart_button comparable_item3\">\\n                        \\n                            \\n                            \\n                                <span id=\"comparison_add_to_cart_button3\" class=\"a-button a-spacing-small a-button-primary\"><span class=\"a-button-inner\"><a id=\"comparison_add_to_cart_button3-announce\" href=\"/gp/item-dispatch/ref=psdc_10304191_a4_B01HHJQN8E?ie=UTF8&amp;itemCount=1&amp;nodeID=3760911&amp;offeringID.1=Ja4CTqCWpfWOOIW3mUcXrNZYUppIHbzSlxxIm6VuDIzeMNvmxQGszu9jMpl75DyDKXH7YdcyK%252BfpE7RFa9jncWOcBiZp0YGev6RfzRnDleoY3%252FFOPlAEHA5G%252BxSmUaW%252BLrfCojTB4tq4zBk9BldM%252BXvz3Pab29ac&amp;storeID=beauty&amp;session-id=135-1438400-1937644&amp;submit.addToCart=addToCart&amp;signInToHUC=0\" class=\"a-button-text\" role=\"button\">Add to Cart</a></span></span>\\n                            \\n                        \\n                    </td>\\n                \\n                    <td class=\"a-text-left comparison_add_to_cart_button comparable_item4\">\\n                        \\n                            \\n                            \\n                                <span id=\"comparison_add_to_cart_button4\" class=\"a-button a-spacing-small a-button-primary\"><span class=\"a-button-inner\"><a id=\"comparison_add_to_cart_button4-announce\" href=\"/gp/item-dispatch/ref=psdc_10304191_a5_B01HHJQN8E?ie=UTF8&amp;itemCount=1&amp;nodeID=3760911&amp;offeringID.1=Ja4CTqCWpfWOOIW3mUcXrFSX%252F2yK%252FWFhQuogVkRfuI13zSuEvk4WXVpEVyHRyfHlEwMBEJFlJMYKedpS6gV5SzCDuwyJdSIq1oOAMygftupzA5ryQ9t9CZb4NRLTu5I7s0Q%252BP7JPhHs9Bd7zRw80%252Bsiouj5AxjDw&amp;storeID=beauty&amp;session-id=135-1438400-1937644&amp;submit.addToCart=addToCart&amp;signInToHUC=0\" class=\"a-button-text\" role=\"button\">Add to Cart</a></span></span>\\n                            \\n                        \\n                    </td>\\n                \\n            </tr>\\n\\n\\n            <tr id=\"comparison_custormer_rating_row\">\\n                \\n                \\n                \\n                \\n\\n                <th class=\"comparison_attribute_name_column comparison_table_first_col\" role=\"rowheader\">\\n                    <span class=\"a-size-base a-color-base\">Customer Rating</span>\\n                </th>\\n\\n\\n                <td class=\"comparison_baseitem_column\">\\n                    \\n                    \\n                    \\n                    <span>\\n                        <span class=\"a-declarative\" data-action=\"a-popover\" data-a-popover=\"{&quot;max-width&quot;:&quot;700&quot;,&quot;closeButton&quot;:&quot;false&quot;,&quot;position&quot;:&quot;triggerBottom&quot;,&quot;url&quot;:&quot; /gp/customer-reviews/widgets/average-customer-review/popover/ref=acr_dpComparsion__popover?contextId=dpComparsion&amp;asin=B01HHJQN8E &quot;,&quot;restoreFocusOnHide&quot;:&quot;false&quot;}\">\\n                            <i class=\"a-icon a-icon-star a-star-3-5 a-spacing-none\"><span class=\"a-icon-alt\">3 out of 5 stars</span></i>\\n                        </span>\\n                        <a class=\"a-link-normal\" target=\"_self\" rel=\"noopener\" href=\"/product-reviews/B01HHJQN8E/ref=psdc_10304191_r0_B01HHJQN8E?_encoding=UTF8&amp;showViewpoints=1\">(46)</a>\\n                        <span class=\"a-letter-space\"></span>\\n                    </span>\\n                </td>\\n\\n\\n                \\n                    <td class=\"comparison_sim_items_column comparable_item0\">\\n                        \\n                        \\n                        \\n                        <span>\\n                            <span class=\"a-declarative\" data-action=\"a-popover\" data-a-popover=\"{&quot;max-width&quot;:&quot;700&quot;,&quot;closeButton&quot;:&quot;false&quot;,&quot;position&quot;:&quot;triggerBottom&quot;,&quot;url&quot;:&quot; /gp/customer-reviews/widgets/average-customer-review/popover/ref=acr_dpComparsion__popover?contextId=dpComparsion&amp;asin=B0719PTM9Y &quot;,&quot;restoreFocusOnHide&quot;:&quot;false&quot;}\">\\n                                <i class=\"a-icon a-icon-star a-star-2 a-spacing-none\"><span class=\"a-icon-alt\">2 out of 5 stars</span></i>\\n                            </span>\\n                            <a class=\"a-link-normal\" target=\"_self\" rel=\"noopener\" href=\"/product-reviews/B0719PTM9Y/ref=psdc_10304191_r1_B01HHJQN8E?_encoding=UTF8&amp;showViewpoints=1\">(41)</a>\\n                            <span class=\"a-letter-space\"></span>\\n                        </span>\\n                    </td>\\n                \\n                    <td class=\"comparison_sim_items_column comparable_item1\">\\n                        \\n                        \\n                        \\n                        <span>\\n                            <span class=\"a-declarative\" data-action=\"a-popover\" data-a-popover=\"{&quot;max-width&quot;:&quot;700&quot;,&quot;closeButton&quot;:&quot;false&quot;,&quot;position&quot;:&quot;triggerBottom&quot;,&quot;url&quot;:&quot; /gp/customer-reviews/widgets/average-customer-review/popover/ref=acr_dpComparsion__popover?contextId=dpComparsion&amp;asin=B01JZ5G9RS &quot;,&quot;restoreFocusOnHide&quot;:&quot;false&quot;}\">\\n                                <i class=\"a-icon a-icon-star a-star-3 a-spacing-none\"><span class=\"a-icon-alt\">3 out of 5 stars</span></i>\\n                            </span>\\n                            <a class=\"a-link-normal\" target=\"_self\" rel=\"noopener\" href=\"/product-reviews/B01JZ5G9RS/ref=psdc_10304191_r2_B01HHJQN8E?_encoding=UTF8&amp;showViewpoints=1\">(25)</a>\\n                            <span class=\"a-letter-space\"></span>\\n                        </span>\\n                    </td>\\n                \\n                    <td class=\"comparison_sim_items_column comparable_item2\">\\n                        \\n                        \\n                        \\n                        <span>\\n                            <span class=\"a-declarative\" data-action=\"a-popover\" data-a-popover=\"{&quot;max-width&quot;:&quot;700&quot;,&quot;closeButton&quot;:&quot;false&quot;,&quot;position&quot;:&quot;triggerBottom&quot;,&quot;url&quot;:&quot; /gp/customer-reviews/widgets/average-customer-review/popover/ref=acr_dpComparsion__popover?contextId=dpComparsion&amp;asin=B072C2QC9L &quot;,&quot;restoreFocusOnHide&quot;:&quot;false&quot;}\">\\n                                <i class=\"a-icon a-icon-star a-star-0 a-spacing-none\"><span class=\"a-icon-alt\">0 out of 5 stars</span></i>\\n                            </span>\\n                            <a class=\"a-link-normal\" target=\"_self\" rel=\"noopener\" href=\"/product-reviews/B072C2QC9L/ref=psdc_10304191_r3_B01HHJQN8E?_encoding=UTF8&amp;showViewpoints=1\">(0)</a>\\n                            <span class=\"a-letter-space\"></span>\\n                        </span>\\n                    </td>\\n                \\n                    <td class=\"comparison_sim_items_column comparable_item3\">\\n                        \\n                        \\n                        \\n                        <span>\\n                            <span class=\"a-declarative\" data-action=\"a-popover\" data-a-popover=\"{&quot;max-width&quot;:&quot;700&quot;,&quot;closeButton&quot;:&quot;false&quot;,&quot;position&quot;:&quot;triggerBottom&quot;,&quot;url&quot;:&quot; /gp/customer-reviews/widgets/average-customer-review/popover/ref=acr_dpComparsion__popover?contextId=dpComparsion&amp;asin=B07BD1859Y &quot;,&quot;restoreFocusOnHide&quot;:&quot;false&quot;}\">\\n                                <i class=\"a-icon a-icon-star a-star-3 a-spacing-none\"><span class=\"a-icon-alt\">3 out of 5 stars</span></i>\\n                            </span>\\n                            <a class=\"a-link-normal\" target=\"_self\" rel=\"noopener\" href=\"/product-reviews/B07BD1859Y/ref=psdc_10304191_r4_B01HHJQN8E?_encoding=UTF8&amp;showViewpoints=1\">(31)</a>\\n                            <span class=\"a-letter-space\"></span>\\n                        </span>\\n                    </td>\\n                \\n                    <td class=\"comparison_sim_items_column comparable_item4\">\\n                        \\n                        \\n                        \\n                        <span>\\n                            <span class=\"a-declarative\" data-action=\"a-popover\" data-a-popover=\"{&quot;max-width&quot;:&quot;700&quot;,&quot;closeButton&quot;:&quot;false&quot;,&quot;position&quot;:&quot;triggerBottom&quot;,&quot;url&quot;:&quot; /gp/customer-reviews/widgets/average-customer-review/popover/ref=acr_dpComparsion__popover?contextId=dpComparsion&amp;asin=B07JY7L8HR &quot;,&quot;restoreFocusOnHide&quot;:&quot;false&quot;}\">\\n                                <i class=\"a-icon a-icon-star a-star-0 a-spacing-none\"><span class=\"a-icon-alt\">0 out of 5 stars</span></i>\\n                            </span>\\n                            <a class=\"a-link-normal\" target=\"_self\" rel=\"noopener\" href=\"/product-reviews/B07JY7L8HR/ref=psdc_10304191_r5_B01HHJQN8E?_encoding=UTF8&amp;showViewpoints=1\">(0)</a>\\n                            <span class=\"a-letter-space\"></span>\\n                        </span>\\n                    </td>\\n                \\n            </tr>\\n\\n\\n            <tr id=\"comparison_price_row\">\\n                <th class=\"comparison_attribute_name_column comparison_table_first_col\" role=\"rowheader\">\\n                    <span class=\"a-size-base a-color-base\">Price</span>\\n                </th>\\n\\n\\n                <td class=\"comparison_baseitem_column\">\\n                    \\n                        \\n                        \\n                        \\n                        \\n                            \\n                                \\n                                    <span class=\"a-price\" data-a-size=\"l\" data-a-color=\"base\"><span class=\"a-offscreen\">$13.80</span><span aria-hidden=\"true\"><span class=\"a-price-symbol\">$</span><span class=\"a-price-whole\">13<span class=\"a-price-decimal\">\\x00</span></span><span class=\"a-price-fraction\">80</span></span></span>\\n                                \\n                                \\n                            \\n                        \\n                    \\n                </td>\\n\\n\\n                \\n                    <td class=\"comparison_sim_items_column comparable_item0\">\\n                    \\n                        \\n                        \\n                        \\n                            \\n                                \\n                                    <span class=\"a-price\" data-a-size=\"l\" data-a-color=\"base\"><span class=\"a-offscreen\">$24.15</span><span aria-hidden=\"true\"><span class=\"a-price-symbol\">$</span><span class=\"a-price-whole\">24<span class=\"a-price-decimal\">\\x00</span></span><span class=\"a-price-fraction\">15</span></span></span>\\n                                \\n                                \\n                            \\n                        \\n                    \\n                    </td>\\n                \\n                    <td class=\"comparison_sim_items_column comparable_item1\">\\n                    \\n                        \\n                        \\n                        \\n                            \\n                                \\n                                    <span class=\"a-price\" data-a-size=\"l\" data-a-color=\"base\"><span class=\"a-offscreen\">$25.99</span><span aria-hidden=\"true\"><span class=\"a-price-symbol\">$</span><span class=\"a-price-whole\">25<span class=\"a-price-decimal\">\\x00</span></span><span class=\"a-price-fraction\">99</span></span></span>\\n                                \\n                                \\n                            \\n                        \\n                    \\n                    </td>\\n                \\n                    <td class=\"comparison_sim_items_column comparable_item2\">\\n                    \\n                        \\n                        \\n                        \\n                            \\n                                \\n                                    <span class=\"a-price\" data-a-size=\"l\" data-a-color=\"base\"><span class=\"a-offscreen\">$16.98</span><span aria-hidden=\"true\"><span class=\"a-price-symbol\">$</span><span class=\"a-price-whole\">16<span class=\"a-price-decimal\">\\x00</span></span><span class=\"a-price-fraction\">98</span></span></span>\\n                                \\n                                \\n                            \\n                        \\n                    \\n                    </td>\\n                \\n                    <td class=\"comparison_sim_items_column comparable_item3\">\\n                    \\n                        \\n                        \\n                        \\n                            \\n                                \\n                                    <span class=\"a-price\" data-a-size=\"l\" data-a-color=\"base\"><span class=\"a-offscreen\">$25.99</span><span aria-hidden=\"true\"><span class=\"a-price-symbol\">$</span><span class=\"a-price-whole\">25<span class=\"a-price-decimal\">\\x00</span></span><span class=\"a-price-fraction\">99</span></span></span>\\n                                \\n                                \\n                            \\n                        \\n                    \\n                    </td>\\n                \\n                    <td class=\"comparison_sim_items_column comparable_item4\">\\n                    \\n                        \\n                        \\n                        \\n                            \\n                                \\n                                    <span class=\"a-price\" data-a-size=\"l\" data-a-color=\"base\"><span class=\"a-offscreen\">$15.99</span><span aria-hidden=\"true\"><span class=\"a-price-symbol\">$</span><span class=\"a-price-whole\">15<span class=\"a-price-decimal\">\\x00</span></span><span class=\"a-price-fraction\">99</span></span></span>\\n                                \\n                                \\n                            \\n                        \\n                    \\n                    </td>\\n                \\n            </tr>\\n\\n\\n    \\n                <tr id=\"comparison_shipping_info_row\">\\n                    <th class=\"comparison_attribute_name_column comparison_table_first_col\" role=\"rowheader\">\\n                        <span class=\"a-size-base a-color-base\">Shipping</span>\\n                    </th>\\n\\n    \\n                    <td class=\"comparison_baseitem_column\">\\n                        \\n                            \\n                            \\n                            \\n                                <span class=\"a-size-base a-color-base\">Eligible for FREE Shipping</span>\\n                            \\n                            \\n                            \\n                            \\n                            \\n                        \\n                    </td>\\n\\n    \\n                    \\n                        <td class=\"comparison_sim_items_column comparable_item0\">\\n                            \\n                                \\n                                \\n                                    <span class=\"a-size-base a-color-base\">Eligible for FREE Shipping</span>\\n                                \\n                                \\n                                \\n                                \\n                                \\n                            \\n                        </td>\\n                    \\n                        <td class=\"comparison_sim_items_column comparable_item1\">\\n                            \\n                                \\n                                \\n                                    <span class=\"a-size-base a-color-base\">Eligible for FREE Shipping</span>\\n                                \\n                                \\n                                \\n                                \\n                                \\n                            \\n                        </td>\\n                    \\n                        <td class=\"comparison_sim_items_column comparable_item2\">\\n                            \\n                                \\n                                \\n                                    <span class=\"a-size-base a-color-base\">Eligible for FREE Shipping</span>\\n                                \\n                                \\n                                \\n                                \\n                                \\n                            \\n                        </td>\\n                    \\n                        <td class=\"comparison_sim_items_column comparable_item3\">\\n                            \\n                                \\n                                \\n                                    <span class=\"a-size-base a-color-base\">Eligible for FREE Shipping</span>\\n                                \\n                                \\n                                \\n                                \\n                                \\n                            \\n                        </td>\\n                    \\n                        <td class=\"comparison_sim_items_column comparable_item4\">\\n                            \\n                                \\n                                \\n                                    <span class=\"a-size-base a-color-base\">Eligible for FREE Shipping</span>\\n                                \\n                                \\n                                \\n                                \\n                                \\n                            \\n                        </td>\\n                    \\n                </tr>\\n\\n\\n\\n            <tr id=\"comparison_sold_by_row\">\\n                <th class=\"comparison_attribute_name_column comparison_table_first_col\" role=\"rowheader\">\\n                    <span class=\"a-size-base a-color-base\">Sold By</span>\\n                </th>\\n\\n  \\n                <td class=\"comparison_baseitem_column\">\\n                    \\n                        \\n                        \\n                        \\n                            <a class=\"a-spacing-top-small a-link-normal\" target=\"_self\" rel=\"noopener\" href=\"/gp/help/seller/at-a-glance.html/ref=psdc_10304191_s0_B01HHJQN8E?ie=UTF8&amp;seller=A21V3QIJN24012&amp;isAmazonFulfilled=1\">JahyShow</a>\\n                        \\n                     \\n                </td>\\n\\n\\n                \\n                    <td class=\"comparison_sim_items_column comparable_item0\">\\n                         \\n                            \\n                         \\n                             <a class=\"a-spacing-top-small a-link-normal\" target=\"_self\" rel=\"noopener\" href=\"/gp/help/seller/at-a-glance.html/ref=psdc_10304191_s1_B01HHJQN8E?ie=UTF8&amp;seller=A1OJ8JAK3OKCBX&amp;isAmazonFulfilled=1\">ZB LIMITED</a>\\n                         \\n                         \\n                     </td>\\n                \\n                    <td class=\"comparison_sim_items_column comparable_item1\">\\n                         \\n                            \\n                         \\n                             <a class=\"a-spacing-top-small a-link-normal\" target=\"_self\" rel=\"noopener\" href=\"/gp/help/seller/at-a-glance.html/ref=psdc_10304191_s2_B01HHJQN8E?ie=UTF8&amp;seller=A32SEX6CGLBPEK&amp;isAmazonFulfilled=1\">Acupress</a>\\n                         \\n                         \\n                     </td>\\n                \\n                    <td class=\"comparison_sim_items_column comparable_item2\">\\n                         \\n                            \\n                         \\n                             <a class=\"a-spacing-top-small a-link-normal\" target=\"_self\" rel=\"noopener\" href=\"/gp/help/seller/at-a-glance.html/ref=psdc_10304191_s3_B01HHJQN8E?ie=UTF8&amp;seller=A3OOCK6DL3TXLA&amp;isAmazonFulfilled=1\">Buy4Less Outlet</a>\\n                         \\n                         \\n                     </td>\\n                \\n                    <td class=\"comparison_sim_items_column comparable_item3\">\\n                         \\n                            \\n                         \\n                             <a class=\"a-spacing-top-small a-link-normal\" target=\"_self\" rel=\"noopener\" href=\"/gp/help/seller/at-a-glance.html/ref=psdc_10304191_s4_B01HHJQN8E?ie=UTF8&amp;seller=A32SEX6CGLBPEK&amp;isAmazonFulfilled=1\">Acupress</a>\\n                         \\n                         \\n                     </td>\\n                \\n                    <td class=\"comparison_sim_items_column comparable_item4\">\\n                         \\n                            \\n                         \\n                             <a class=\"a-spacing-top-small a-link-normal\" target=\"_self\" rel=\"noopener\" href=\"/gp/help/seller/at-a-glance.html/ref=psdc_10304191_s5_B01HHJQN8E?ie=UTF8&amp;seller=A2A0528UIFJUPL&amp;isAmazonFulfilled=1\">YamaMarket</a>\\n                         \\n                         \\n                     </td>\\n                \\n             </tr>\\n\\n\\n            \\n       '\n",
            " ' class=\"a-bordered a-horizontal-stripes  a-spacing-extra-large a-size-base comparison_table\">\\n\\n\\n\\n            \\n            \\n            \\n            \\n            \\n            <tr class=\"comparison_table_image_row\">\\n                <td class=\"comparison_table_first_col\"></td>\\n\\n\\n                <th class=\"comparison_image_title_cell\" role=\"columnheader\">\\n                    <div class=\"a-row a-spacing-top-micro\">\\n                        <center>\\n                             <img alt=\"Pokemon Plush 9.2 Inch / 23cm Gengar Doll Stuffed Animals Figure Soft Anime Collection Toy\" src=\"https://images-na.ssl-images-amazon.com/images/I/51MJdQ7FetL._SL500_AC_SS350_.jpg\" id=\"comparison_image\">\\n                        </center>\\n                    </div>\\n                    <div class=\"a-row a-spacing-top-small\">\\n                        <div id=\"comparison_title\" class=\"a-section a-spacing-none\">\\n                            <span aria-hidden=\"true\" class=\"a-size-base a-color-base a-text-bold\">\\n                                This item\\n                            </span>\\n                            <span aria-hidden=\"true\" class=\"a-size-base a-color-base\">Pokemon Plush 9.2 Inch / 23cm Gengar Doll Stuffed Animals Figure Soft Anime Collection Toy</span>\\n                        </div>\\n                        \\n                        \\n                    </div>\\n                </th>\\n\\n\\n                \\n                    <th class=\"comparison_image_title_cell comparable_item0\" role=\"columnheader\">\\n                        <a class=\"a-link-normal\" target=\"_self\" rel=\"noopener\" href=\"/dp/B01KAWUITU/ref=psdc_10304191_t1_B01HIUEEHO\">\\n                          <div class=\"a-row a-spacing-top-micro\">\\n                            <center>\\n                                <img alt=\"\" src=\"https://images-na.ssl-images-amazon.com/images/I/414a3l5hS4L._SL500_AC_SS350_.jpg\" aria-hidden=\"true\" id=\"comparison_image0\">\\n                            </center>\\n                          </div>\\n                          <div id=\"comparison_title0\" class=\"a-row a-spacing-top-small\">\\n                            <span class=\"a-size-base\">Pokemon Plush 11.6 Inch / 29cm Charmander Doll Stuffed Animals Figure Soft Anime Collection Toy</span>\\n                          </div>\\n                        </a>\\n                        \\n                        \\n                    </th>\\n                \\n                    <th class=\"comparison_image_title_cell comparable_item1\" role=\"columnheader\">\\n                        <a class=\"a-link-normal\" target=\"_self\" rel=\"noopener\" href=\"/dp/B00NWV6PJE/ref=psdc_10304191_t2_B01HIUEEHO\">\\n                          <div class=\"a-row a-spacing-top-micro\">\\n                            <center>\\n                                <img alt=\"\" src=\"https://images-na.ssl-images-amazon.com/images/I/51daPEUeSTL._SL500_AC_SS350_.jpg\" aria-hidden=\"true\" id=\"comparison_image1\">\\n                            </center>\\n                          </div>\\n                          <div id=\"comparison_title1\" class=\"a-row a-spacing-top-small\">\\n                            <span class=\"a-size-base\">Pocoyo 10\" Anime Animal Stuffed Plush Toys Pocoyo Elly</span>\\n                          </div>\\n                        </a>\\n                        \\n                        \\n                    </th>\\n                \\n                    <th class=\"comparison_image_title_cell comparable_item2\" role=\"columnheader\">\\n                        <a class=\"a-link-normal\" target=\"_self\" rel=\"noopener\" href=\"/dp/B00S65NE2C/ref=psdc_10304191_t3_B01HIUEEHO\">\\n                          <div class=\"a-row a-spacing-top-micro\">\\n                            <center>\\n                                <img alt=\"\" src=\"https://images-na.ssl-images-amazon.com/images/I/61L5kuWd1-L._SL500_AC_SS350_.jpg\" aria-hidden=\"true\" id=\"comparison_image2\">\\n                            </center>\\n                          </div>\\n                          <div id=\"comparison_title2\" class=\"a-row a-spacing-top-small\">\\n                            <span class=\"a-size-base\">Pocoyo 14cm Anime Animal Stuffed Plush Toys Loula</span>\\n                          </div>\\n                        </a>\\n                        \\n                        \\n                    </th>\\n                \\n            </tr>\\n\\n\\n            <tr></tr>\\n\\n\\n            \\n            \\n            <tr>\\n                <td class=\"comparison_table_first_col\"></td>\\n\\n\\n                <td class=\"comparison_add_to_cart_button\">\\n                    \\n                        \\n                        \\n                        \\n                            <span id=\"comparison_add_to_cart_button\" class=\"a-button a-spacing-small a-button-primary\"><span class=\"a-button-inner\"><a id=\"comparison_add_to_cart_button-announce\" href=\"/gp/item-dispatch/ref=psdc_10304191_a0_B01HIUEEHO?ie=UTF8&amp;itemCount=1&amp;nodeID=3760911&amp;offeringID.1=iR7hlPGAr5B6Ayqf5FtDDuSOBdGzxJHSGwJ4XCD7n%252BtHNnfgV3KmzzC71JTOLbjyeu59KP%252FtLxJT6k7quAuY8HXO228cioEgdy7ZXGZ8ygf829M9KkMNyKXU52Ypu%252FG5I27xBxy7%252F8qda8RFnEazicutQE9qb1W1&amp;storeID=beauty&amp;session-id=135-1438400-1937644&amp;submit.addToCart=addToCart&amp;signInToHUC=0\" class=\"a-button-text\" role=\"button\">Add to Cart</a></span></span>\\n                        \\n                    \\n                </td>\\n\\n\\n                \\n                    <td class=\"a-text-left comparison_add_to_cart_button comparable_item0\">\\n                        \\n                            \\n                            \\n                                <span id=\"comparison_add_to_cart_button0\" class=\"a-button a-spacing-small a-button-primary\"><span class=\"a-button-inner\"><a id=\"comparison_add_to_cart_button0-announce\" href=\"/gp/item-dispatch/ref=psdc_10304191_a1_B01HIUEEHO?ie=UTF8&amp;itemCount=1&amp;nodeID=3760911&amp;offeringID.1=iR7hlPGAr5B6Ayqf5FtDDhPBfcVbBfqTdNx0ug%252Fl7ZLkRK3q%252BtGjOnG%252Bxlh9BMDgXjefjDXD0n5r%252FZMtmLK76Tc2ewX43amlCFgIppkrUHPw1xPBH18UKfG5DNuCW0X%252FiKidEA52l125Yb%252FKS2YiwlTvbw5JYFXK&amp;storeID=beauty&amp;session-id=135-1438400-1937644&amp;submit.addToCart=addToCart&amp;signInToHUC=0\" class=\"a-button-text\" role=\"button\">Add to Cart</a></span></span>\\n                            \\n                        \\n                    </td>\\n                \\n                    <td class=\"a-text-left comparison_add_to_cart_button comparable_item1\">\\n                        \\n                            \\n                            \\n                                <span id=\"comparison_add_to_cart_button1\" class=\"a-button a-spacing-small a-button-primary\"><span class=\"a-button-inner\"><a id=\"comparison_add_to_cart_button1-announce\" href=\"/gp/item-dispatch/ref=psdc_10304191_a2_B01HIUEEHO?ie=UTF8&amp;itemCount=1&amp;nodeID=3760911&amp;offeringID.1=iR7hlPGAr5CtOPYvLpamheuTNUbfURhApk98YszV6CGjNIyC3g5S9%252BHaJ2iSORTcKRRFbllCkWuI7TjWd%252BAtGDUsbHl%252BWjE67gs2D7Rfp33yvpFGLADzQQ7Ve8RE9YrMVTogDIqT259xWy9gAmWoWPGk%252Bx97z3%252Fp&amp;storeID=beauty&amp;session-id=135-1438400-1937644&amp;submit.addToCart=addToCart&amp;signInToHUC=0\" class=\"a-button-text\" role=\"button\">Add to Cart</a></span></span>\\n                            \\n                        \\n                    </td>\\n                \\n                    <td class=\"a-text-left comparison_add_to_cart_button comparable_item2\">\\n                        \\n                            \\n                            \\n                                <span id=\"comparison_add_to_cart_button2\" class=\"a-button a-spacing-small a-button-primary\"><span class=\"a-button-inner\"><a id=\"comparison_add_to_cart_button2-announce\" href=\"/gp/item-dispatch/ref=psdc_10304191_a3_B01HIUEEHO?ie=UTF8&amp;itemCount=1&amp;nodeID=3760911&amp;offeringID.1=iR7hlPGAr5CtOPYvLpamhWnYmUTVSk2zJvBDpaLcAqnZ33ReP162erXz6BgRVX8C3qESEJYpEXwVcBmMNxJRVY6j2EPcudhHUpVmuwMYnhTKP6NFaoJMXQziyUpm%252Blxya5ZCxohwBuXEqm%252FFSj%252FM7N64L%252Bp3CMnv&amp;storeID=beauty&amp;session-id=135-1438400-1937644&amp;submit.addToCart=addToCart&amp;signInToHUC=0\" class=\"a-button-text\" role=\"button\">Add to Cart</a></span></span>\\n                            \\n                        \\n                    </td>\\n                \\n            </tr>\\n\\n\\n            <tr id=\"comparison_custormer_rating_row\">\\n                \\n                \\n                \\n                \\n\\n                <th class=\"comparison_attribute_name_column comparison_table_first_col\" role=\"rowheader\">\\n                    <span class=\"a-size-base a-color-base\">Customer Rating</span>\\n                </th>\\n\\n\\n                <td class=\"comparison_baseitem_column\">\\n                    \\n                    \\n                    \\n                    <span>\\n                        <span class=\"a-declarative\" data-action=\"a-popover\" data-a-popover=\"{&quot;max-width&quot;:&quot;700&quot;,&quot;closeButton&quot;:&quot;false&quot;,&quot;position&quot;:&quot;triggerBottom&quot;,&quot;url&quot;:&quot; /gp/customer-reviews/widgets/average-customer-review/popover/ref=acr_dpComparsion__popover?contextId=dpComparsion&amp;asin=B01HIUEEHO &quot;,&quot;restoreFocusOnHide&quot;:&quot;false&quot;}\">\\n                            <i class=\"a-icon a-icon-star a-star-4 a-spacing-none\"><span class=\"a-icon-alt\">4 out of 5 stars</span></i>\\n                        </span>\\n                        <a class=\"a-link-normal\" target=\"_self\" rel=\"noopener\" href=\"/product-reviews/B01HIUEEHO/ref=psdc_10304191_r0_B01HIUEEHO?_encoding=UTF8&amp;showViewpoints=1\">(5)</a>\\n                        <span class=\"a-letter-space\"></span>\\n                    </span>\\n                </td>\\n\\n\\n                \\n                    <td class=\"comparison_sim_items_column comparable_item0\">\\n                        \\n                        \\n                        \\n                        <span>\\n                            <span class=\"a-declarative\" data-action=\"a-popover\" data-a-popover=\"{&quot;max-width&quot;:&quot;700&quot;,&quot;closeButton&quot;:&quot;false&quot;,&quot;position&quot;:&quot;triggerBottom&quot;,&quot;url&quot;:&quot; /gp/customer-reviews/widgets/average-customer-review/popover/ref=acr_dpComparsion__popover?contextId=dpComparsion&amp;asin=B01KAWUITU &quot;,&quot;restoreFocusOnHide&quot;:&quot;false&quot;}\">\\n                                <i class=\"a-icon a-icon-star a-star-0 a-spacing-none\"><span class=\"a-icon-alt\">0 out of 5 stars</span></i>\\n                            </span>\\n                            <a class=\"a-link-normal\" target=\"_self\" rel=\"noopener\" href=\"/product-reviews/B01KAWUITU/ref=psdc_10304191_r1_B01HIUEEHO?_encoding=UTF8&amp;showViewpoints=1\">(0)</a>\\n                            <span class=\"a-letter-space\"></span>\\n                        </span>\\n                    </td>\\n                \\n                    <td class=\"comparison_sim_items_column comparable_item1\">\\n                        \\n                        \\n                        \\n                        <span>\\n                            <span class=\"a-declarative\" data-action=\"a-popover\" data-a-popover=\"{&quot;max-width&quot;:&quot;700&quot;,&quot;closeButton&quot;:&quot;false&quot;,&quot;position&quot;:&quot;triggerBottom&quot;,&quot;url&quot;:&quot; /gp/customer-reviews/widgets/average-customer-review/popover/ref=acr_dpComparsion__popover?contextId=dpComparsion&amp;asin=B00NWV6PJE &quot;,&quot;restoreFocusOnHide&quot;:&quot;false&quot;}\">\\n                                <i class=\"a-icon a-icon-star a-star-5 a-spacing-none\"><span class=\"a-icon-alt\">5 out of 5 stars</span></i>\\n                            </span>\\n                            <a class=\"a-link-normal\" target=\"_self\" rel=\"noopener\" href=\"/product-reviews/B00NWV6PJE/ref=psdc_10304191_r2_B01HIUEEHO?_encoding=UTF8&amp;showViewpoints=1\">(1)</a>\\n                            <span class=\"a-letter-space\"></span>\\n                        </span>\\n                    </td>\\n                \\n                    <td class=\"comparison_sim_items_column comparable_item2\">\\n                        \\n                        \\n                        \\n                        <span>\\n                            <span class=\"a-declarative\" data-action=\"a-popover\" data-a-popover=\"{&quot;max-width&quot;:&quot;700&quot;,&quot;closeButton&quot;:&quot;false&quot;,&quot;position&quot;:&quot;triggerBottom&quot;,&quot;url&quot;:&quot; /gp/customer-reviews/widgets/average-customer-review/popover/ref=acr_dpComparsion__popover?contextId=dpComparsion&amp;asin=B00S65NE2C &quot;,&quot;restoreFocusOnHide&quot;:&quot;false&quot;}\">\\n                                <i class=\"a-icon a-icon-star a-star-0 a-spacing-none\"><span class=\"a-icon-alt\">0 out of 5 stars</span></i>\\n                            </span>\\n                            <a class=\"a-link-normal\" target=\"_self\" rel=\"noopener\" href=\"/product-reviews/B00S65NE2C/ref=psdc_10304191_r3_B01HIUEEHO?_encoding=UTF8&amp;showViewpoints=1\">(0)</a>\\n                            <span class=\"a-letter-space\"></span>\\n                        </span>\\n                    </td>\\n                \\n            </tr>\\n\\n\\n            <tr id=\"comparison_price_row\">\\n                <th class=\"comparison_attribute_name_column comparison_table_first_col\" role=\"rowheader\">\\n                    <span class=\"a-size-base a-color-base\">Price</span>\\n                </th>\\n\\n\\n                <td class=\"comparison_baseitem_column\">\\n                    \\n                        \\n                        \\n                        \\n                        \\n                            \\n                                \\n                                    <span class=\"a-price\" data-a-size=\"l\" data-a-color=\"base\"><span class=\"a-offscreen\">$20.74</span><span aria-hidden=\"true\"><span class=\"a-price-symbol\">$</span><span class=\"a-price-whole\">20<span class=\"a-price-decimal\">\\x00</span></span><span class=\"a-price-fraction\">74</span></span></span>\\n                                \\n                                \\n                            \\n                        \\n                    \\n                </td>\\n\\n\\n                \\n                    <td class=\"comparison_sim_items_column comparable_item0\">\\n                    \\n                        \\n                        \\n                        \\n                            \\n                                \\n                                    <span class=\"a-price\" data-a-size=\"l\" data-a-color=\"base\"><span class=\"a-offscreen\">$15.25</span><span aria-hidden=\"true\"><span class=\"a-price-symbol\">$</span><span class=\"a-price-whole\">15<span class=\"a-price-decimal\">\\x00</span></span><span class=\"a-price-fraction\">25</span></span></span>\\n                                \\n                                \\n                            \\n                        \\n                    \\n                    </td>\\n                \\n                    <td class=\"comparison_sim_items_column comparable_item1\">\\n                    \\n                        \\n                        \\n                        \\n                            \\n                                \\n                                    <span class=\"a-price\" data-a-size=\"l\" data-a-color=\"base\"><span class=\"a-offscreen\">$36.99</span><span aria-hidden=\"true\"><span class=\"a-price-symbol\">$</span><span class=\"a-price-whole\">36<span class=\"a-price-decimal\">\\x00</span></span><span class=\"a-price-fraction\">99</span></span></span>\\n                                \\n                                \\n                            \\n                        \\n                    \\n                    </td>\\n                \\n                    <td class=\"comparison_sim_items_column comparable_item2\">\\n                    \\n                        \\n                        \\n                        \\n                            \\n                                \\n                                    <span class=\"a-price\" data-a-size=\"l\" data-a-color=\"base\"><span class=\"a-offscreen\">$25.51</span><span aria-hidden=\"true\"><span class=\"a-price-symbol\">$</span><span class=\"a-price-whole\">25<span class=\"a-price-decimal\">\\x00</span></span><span class=\"a-price-fraction\">51</span></span></span>\\n                                \\n                                \\n                            \\n                        \\n                    \\n                    </td>\\n                \\n            </tr>\\n\\n\\n    \\n                <tr id=\"comparison_shipping_info_row\">\\n                    <th class=\"comparison_attribute_name_column comparison_table_first_col\" role=\"rowheader\">\\n                        <span class=\"a-size-base a-color-base\">Shipping</span>\\n                    </th>\\n\\n    \\n                    <td class=\"comparison_baseitem_column\">\\n                        \\n                            \\n                            \\n                            \\n                                <span class=\"a-size-base a-color-base\">Eligible for FREE Shipping</span>\\n                            \\n                            \\n                            \\n                            \\n                            \\n                        \\n                    </td>\\n\\n    \\n                    \\n                        <td class=\"comparison_sim_items_column comparable_item0\">\\n                            \\n                                \\n                                \\n                                    <span class=\"a-size-base a-color-base\">Eligible for FREE Shipping</span>\\n                                \\n                                \\n                                \\n                                \\n                                \\n                            \\n                        </td>\\n                    \\n                        <td class=\"comparison_sim_items_column comparable_item1\">\\n                            \\n                                \\n                                \\n                                \\n                                \\n                                \\n                                    <span class=\"a-size-base a-color-price a-text-bold\">$4.49</span>\\n                                \\n                                \\n                            \\n                        </td>\\n                    \\n                        <td class=\"comparison_sim_items_column comparable_item2\">\\n                            \\n                                \\n                                \\n                                \\n                                \\n                                \\n                                    <span class=\"a-size-base a-color-price a-text-bold\">$4.49</span>\\n                                \\n                                \\n                            \\n                        </td>\\n                    \\n                </tr>\\n\\n\\n\\n            <tr id=\"comparison_sold_by_row\">\\n                <th class=\"comparison_attribute_name_column comparison_table_first_col\" role=\"rowheader\">\\n                    <span class=\"a-size-base a-color-base\">Sold By</span>\\n                </th>\\n\\n  \\n                <td class=\"comparison_baseitem_column\">\\n                    \\n                        \\n                        \\n                        \\n                            <a class=\"a-spacing-top-small a-link-normal\" target=\"_self\" rel=\"noopener\" href=\"/gp/help/seller/at-a-glance.html/ref=psdc_10304191_s0_B01HIUEEHO?ie=UTF8&amp;seller=A25YEU9EMIVXVC\">TILTON GRAY</a>\\n                        \\n                     \\n                </td>\\n\\n\\n                \\n                    <td class=\"comparison_sim_items_column comparable_item0\">\\n                         \\n                            \\n                         \\n                             <a class=\"a-spacing-top-small a-link-normal\" target=\"_self\" rel=\"noopener\" href=\"/gp/help/seller/at-a-glance.html/ref=psdc_10304191_s1_B01HIUEEHO?ie=UTF8&amp;seller=A2GV1O0AYGRZLM\">stephanie nelson</a>\\n                         \\n                         \\n                     </td>\\n                \\n                    <td class=\"comparison_sim_items_column comparable_item1\">\\n                         \\n                            \\n                         \\n                             <a class=\"a-spacing-top-small a-link-normal\" target=\"_self\" rel=\"noopener\" href=\"/gp/help/seller/at-a-glance.html/ref=psdc_10304191_s2_B01HIUEEHO?ie=UTF8&amp;seller=A2AZ7JNT9N1GWO\">24x7 toys</a>\\n                         \\n                         \\n                     </td>\\n                \\n                    <td class=\"comparison_sim_items_column comparable_item2\">\\n                         \\n                            \\n                         \\n                             <a class=\"a-spacing-top-small a-link-normal\" target=\"_self\" rel=\"noopener\" href=\"/gp/help/seller/at-a-glance.html/ref=psdc_10304191_s3_B01HIUEEHO?ie=UTF8&amp;seller=A2AZ7JNT9N1GWO\">24x7 toys</a>\\n                         \\n                         \\n                     </td>\\n                \\n             </tr>\\n\\n\\n            \\n       ']\n",
            "# details: 27539    {'Shipping Weight:': '3.8 pounds', 'ASIN: ': '...\n",
            "9322     {'\n",
            "    Product Dimensions: \n",
            "    ': '4 x 2 x 2 ...\n",
            "3206     {'\n",
            "    Product Dimensions: \n",
            "    ': '6 x 5 x 4 ...\n",
            "3417     {'\n",
            "    Item Weight: \n",
            "    ': '11.8 ounces', 'Sh...\n",
            "15318    {'Shipping Weight:': '1.1 pounds', 'ASIN: ': '...\n",
            "Name: details, dtype: object\n"
          ]
        }
      ],
      "id": "fyANlkXYLWt_"
    },
    {
      "cell_type": "code",
      "source": [
        "metadata.head(1)"
      ],
      "metadata": {
        "colab": {
          "base_uri": "https://localhost:8080/"
        },
        "id": "QlY8o72oE0dq",
        "outputId": "d958c5dd-2b85-4191-935c-014a52476854"
      },
      "execution_count": null,
      "outputs": [
        {
          "output_type": "execute_result",
          "data": {
            "text/html": [
              "\n",
              "  <div id=\"df-3e96021f-d01d-4ed5-9371-cefe620c937a\">\n",
              "    <div class=\"colab-df-container\">\n",
              "      <div>\n",
              "<style scoped>\n",
              "    .dataframe tbody tr th:only-of-type {\n",
              "        vertical-align: middle;\n",
              "    }\n",
              "\n",
              "    .dataframe tbody tr th {\n",
              "        vertical-align: top;\n",
              "    }\n",
              "\n",
              "    .dataframe thead th {\n",
              "        text-align: right;\n",
              "    }\n",
              "</style>\n",
              "<table border=\"1\" class=\"dataframe\">\n",
              "  <thead>\n",
              "    <tr style=\"text-align: right;\">\n",
              "      <th></th>\n",
              "      <th>category</th>\n",
              "      <th>tech1</th>\n",
              "      <th>description</th>\n",
              "      <th>fit</th>\n",
              "      <th>title</th>\n",
              "      <th>also_buy</th>\n",
              "      <th>tech2</th>\n",
              "      <th>brand</th>\n",
              "      <th>feature</th>\n",
              "      <th>rank</th>\n",
              "      <th>also_view</th>\n",
              "      <th>details</th>\n",
              "      <th>main_cat</th>\n",
              "      <th>similar_item</th>\n",
              "      <th>date</th>\n",
              "      <th>price</th>\n",
              "      <th>asin</th>\n",
              "      <th>imageURL</th>\n",
              "      <th>imageURLHighRes</th>\n",
              "    </tr>\n",
              "  </thead>\n",
              "  <tbody>\n",
              "    <tr>\n",
              "      <th>0</th>\n",
              "      <td>[]</td>\n",
              "      <td></td>\n",
              "      <td>[Loud 'N Clear Personal Sound Amplifier allows...</td>\n",
              "      <td></td>\n",
              "      <td>Loud 'N Clear&amp;trade; Personal Sound Amplifier</td>\n",
              "      <td>[]</td>\n",
              "      <td></td>\n",
              "      <td>idea village</td>\n",
              "      <td>[]</td>\n",
              "      <td>2,938,573 in Beauty &amp; Personal Care (</td>\n",
              "      <td>[]</td>\n",
              "      <td>{'ASIN: ': '6546546450'}</td>\n",
              "      <td>All Beauty</td>\n",
              "      <td></td>\n",
              "      <td></td>\n",
              "      <td></td>\n",
              "      <td>6546546450</td>\n",
              "      <td>[]</td>\n",
              "      <td>[]</td>\n",
              "    </tr>\n",
              "  </tbody>\n",
              "</table>\n",
              "</div>\n",
              "      <button class=\"colab-df-convert\" onclick=\"convertToInteractive('df-3e96021f-d01d-4ed5-9371-cefe620c937a')\"\n",
              "              title=\"Convert this dataframe to an interactive table.\"\n",
              "              style=\"display:none;\">\n",
              "        \n",
              "  <svg xmlns=\"http://www.w3.org/2000/svg\" height=\"24px\"viewBox=\"0 0 24 24\"\n",
              "       width=\"24px\">\n",
              "    <path d=\"M0 0h24v24H0V0z\" fill=\"none\"/>\n",
              "    <path d=\"M18.56 5.44l.94 2.06.94-2.06 2.06-.94-2.06-.94-.94-2.06-.94 2.06-2.06.94zm-11 1L8.5 8.5l.94-2.06 2.06-.94-2.06-.94L8.5 2.5l-.94 2.06-2.06.94zm10 10l.94 2.06.94-2.06 2.06-.94-2.06-.94-.94-2.06-.94 2.06-2.06.94z\"/><path d=\"M17.41 7.96l-1.37-1.37c-.4-.4-.92-.59-1.43-.59-.52 0-1.04.2-1.43.59L10.3 9.45l-7.72 7.72c-.78.78-.78 2.05 0 2.83L4 21.41c.39.39.9.59 1.41.59.51 0 1.02-.2 1.41-.59l7.78-7.78 2.81-2.81c.8-.78.8-2.07 0-2.86zM5.41 20L4 18.59l7.72-7.72 1.47 1.35L5.41 20z\"/>\n",
              "  </svg>\n",
              "      </button>\n",
              "      \n",
              "  <style>\n",
              "    .colab-df-container {\n",
              "      display:flex;\n",
              "      flex-wrap:wrap;\n",
              "      gap: 12px;\n",
              "    }\n",
              "\n",
              "    .colab-df-convert {\n",
              "      background-color: #E8F0FE;\n",
              "      border: none;\n",
              "      border-radius: 50%;\n",
              "      cursor: pointer;\n",
              "      display: none;\n",
              "      fill: #1967D2;\n",
              "      height: 32px;\n",
              "      padding: 0 0 0 0;\n",
              "      width: 32px;\n",
              "    }\n",
              "\n",
              "    .colab-df-convert:hover {\n",
              "      background-color: #E2EBFA;\n",
              "      box-shadow: 0px 1px 2px rgba(60, 64, 67, 0.3), 0px 1px 3px 1px rgba(60, 64, 67, 0.15);\n",
              "      fill: #174EA6;\n",
              "    }\n",
              "\n",
              "    [theme=dark] .colab-df-convert {\n",
              "      background-color: #3B4455;\n",
              "      fill: #D2E3FC;\n",
              "    }\n",
              "\n",
              "    [theme=dark] .colab-df-convert:hover {\n",
              "      background-color: #434B5C;\n",
              "      box-shadow: 0px 1px 3px 1px rgba(0, 0, 0, 0.15);\n",
              "      filter: drop-shadow(0px 1px 2px rgba(0, 0, 0, 0.3));\n",
              "      fill: #FFFFFF;\n",
              "    }\n",
              "  </style>\n",
              "\n",
              "      <script>\n",
              "        const buttonEl =\n",
              "          document.querySelector('#df-3e96021f-d01d-4ed5-9371-cefe620c937a button.colab-df-convert');\n",
              "        buttonEl.style.display =\n",
              "          google.colab.kernel.accessAllowed ? 'block' : 'none';\n",
              "\n",
              "        async function convertToInteractive(key) {\n",
              "          const element = document.querySelector('#df-3e96021f-d01d-4ed5-9371-cefe620c937a');\n",
              "          const dataTable =\n",
              "            await google.colab.kernel.invokeFunction('convertToInteractive',\n",
              "                                                     [key], {});\n",
              "          if (!dataTable) return;\n",
              "\n",
              "          const docLinkHtml = 'Like what you see? Visit the ' +\n",
              "            '<a target=\"_blank\" href=https://colab.research.google.com/notebooks/data_table.ipynb>data table notebook</a>'\n",
              "            + ' to learn more about interactive tables.';\n",
              "          element.innerHTML = '';\n",
              "          dataTable['output_type'] = 'display_data';\n",
              "          await google.colab.output.renderOutput(dataTable, element);\n",
              "          const docLink = document.createElement('div');\n",
              "          docLink.innerHTML = docLinkHtml;\n",
              "          element.appendChild(docLink);\n",
              "        }\n",
              "      </script>\n",
              "    </div>\n",
              "  </div>\n",
              "  "
            ],
            "text/plain": [
              "  category tech1  ... imageURL imageURLHighRes\n",
              "0       []        ...       []              []\n",
              "\n",
              "[1 rows x 19 columns]"
            ]
          },
          "metadata": {},
          "execution_count": 11
        }
      ],
      "id": "QlY8o72oE0dq"
    },
    {
      "cell_type": "code",
      "source": [
        "(metadata.asin.value_counts()!=1).sum()"
      ],
      "metadata": {
        "colab": {
          "base_uri": "https://localhost:8080/"
        },
        "id": "YguA4chfnOXm",
        "outputId": "52e4f3bf-9076-4cb7-bdd6-651c65661281"
      },
      "execution_count": null,
      "outputs": [
        {
          "output_type": "execute_result",
          "data": {
            "text/plain": [
              "404"
            ]
          },
          "metadata": {},
          "execution_count": 12
        }
      ],
      "id": "YguA4chfnOXm"
    },
    {
      "cell_type": "code",
      "source": [
        "metadata_clean = metadata[['asin', 'rank', 'brand', 'price', 'also_view', 'also_buy']]\n",
        "metadata_clean = metadata_clean.drop_duplicates('asin')\n",
        "metadata_clean.head(1)"
      ],
      "metadata": {
        "colab": {
          "base_uri": "https://localhost:8080/"
        },
        "id": "YLb4Ie78BUC1",
        "outputId": "83cf5cbe-5796-4e58-89e3-35cff383eced"
      },
      "execution_count": null,
      "outputs": [
        {
          "output_type": "execute_result",
          "data": {
            "text/html": [
              "\n",
              "  <div id=\"df-b2f23066-af0e-4a5e-b62a-4c1b488f3d0b\">\n",
              "    <div class=\"colab-df-container\">\n",
              "      <div>\n",
              "<style scoped>\n",
              "    .dataframe tbody tr th:only-of-type {\n",
              "        vertical-align: middle;\n",
              "    }\n",
              "\n",
              "    .dataframe tbody tr th {\n",
              "        vertical-align: top;\n",
              "    }\n",
              "\n",
              "    .dataframe thead th {\n",
              "        text-align: right;\n",
              "    }\n",
              "</style>\n",
              "<table border=\"1\" class=\"dataframe\">\n",
              "  <thead>\n",
              "    <tr style=\"text-align: right;\">\n",
              "      <th></th>\n",
              "      <th>asin</th>\n",
              "      <th>rank</th>\n",
              "      <th>brand</th>\n",
              "      <th>price</th>\n",
              "      <th>also_view</th>\n",
              "      <th>also_buy</th>\n",
              "    </tr>\n",
              "  </thead>\n",
              "  <tbody>\n",
              "    <tr>\n",
              "      <th>0</th>\n",
              "      <td>6546546450</td>\n",
              "      <td>2,938,573 in Beauty &amp; Personal Care (</td>\n",
              "      <td>idea village</td>\n",
              "      <td></td>\n",
              "      <td>[]</td>\n",
              "      <td>[]</td>\n",
              "    </tr>\n",
              "  </tbody>\n",
              "</table>\n",
              "</div>\n",
              "      <button class=\"colab-df-convert\" onclick=\"convertToInteractive('df-b2f23066-af0e-4a5e-b62a-4c1b488f3d0b')\"\n",
              "              title=\"Convert this dataframe to an interactive table.\"\n",
              "              style=\"display:none;\">\n",
              "        \n",
              "  <svg xmlns=\"http://www.w3.org/2000/svg\" height=\"24px\"viewBox=\"0 0 24 24\"\n",
              "       width=\"24px\">\n",
              "    <path d=\"M0 0h24v24H0V0z\" fill=\"none\"/>\n",
              "    <path d=\"M18.56 5.44l.94 2.06.94-2.06 2.06-.94-2.06-.94-.94-2.06-.94 2.06-2.06.94zm-11 1L8.5 8.5l.94-2.06 2.06-.94-2.06-.94L8.5 2.5l-.94 2.06-2.06.94zm10 10l.94 2.06.94-2.06 2.06-.94-2.06-.94-.94-2.06-.94 2.06-2.06.94z\"/><path d=\"M17.41 7.96l-1.37-1.37c-.4-.4-.92-.59-1.43-.59-.52 0-1.04.2-1.43.59L10.3 9.45l-7.72 7.72c-.78.78-.78 2.05 0 2.83L4 21.41c.39.39.9.59 1.41.59.51 0 1.02-.2 1.41-.59l7.78-7.78 2.81-2.81c.8-.78.8-2.07 0-2.86zM5.41 20L4 18.59l7.72-7.72 1.47 1.35L5.41 20z\"/>\n",
              "  </svg>\n",
              "      </button>\n",
              "      \n",
              "  <style>\n",
              "    .colab-df-container {\n",
              "      display:flex;\n",
              "      flex-wrap:wrap;\n",
              "      gap: 12px;\n",
              "    }\n",
              "\n",
              "    .colab-df-convert {\n",
              "      background-color: #E8F0FE;\n",
              "      border: none;\n",
              "      border-radius: 50%;\n",
              "      cursor: pointer;\n",
              "      display: none;\n",
              "      fill: #1967D2;\n",
              "      height: 32px;\n",
              "      padding: 0 0 0 0;\n",
              "      width: 32px;\n",
              "    }\n",
              "\n",
              "    .colab-df-convert:hover {\n",
              "      background-color: #E2EBFA;\n",
              "      box-shadow: 0px 1px 2px rgba(60, 64, 67, 0.3), 0px 1px 3px 1px rgba(60, 64, 67, 0.15);\n",
              "      fill: #174EA6;\n",
              "    }\n",
              "\n",
              "    [theme=dark] .colab-df-convert {\n",
              "      background-color: #3B4455;\n",
              "      fill: #D2E3FC;\n",
              "    }\n",
              "\n",
              "    [theme=dark] .colab-df-convert:hover {\n",
              "      background-color: #434B5C;\n",
              "      box-shadow: 0px 1px 3px 1px rgba(0, 0, 0, 0.15);\n",
              "      filter: drop-shadow(0px 1px 2px rgba(0, 0, 0, 0.3));\n",
              "      fill: #FFFFFF;\n",
              "    }\n",
              "  </style>\n",
              "\n",
              "      <script>\n",
              "        const buttonEl =\n",
              "          document.querySelector('#df-b2f23066-af0e-4a5e-b62a-4c1b488f3d0b button.colab-df-convert');\n",
              "        buttonEl.style.display =\n",
              "          google.colab.kernel.accessAllowed ? 'block' : 'none';\n",
              "\n",
              "        async function convertToInteractive(key) {\n",
              "          const element = document.querySelector('#df-b2f23066-af0e-4a5e-b62a-4c1b488f3d0b');\n",
              "          const dataTable =\n",
              "            await google.colab.kernel.invokeFunction('convertToInteractive',\n",
              "                                                     [key], {});\n",
              "          if (!dataTable) return;\n",
              "\n",
              "          const docLinkHtml = 'Like what you see? Visit the ' +\n",
              "            '<a target=\"_blank\" href=https://colab.research.google.com/notebooks/data_table.ipynb>data table notebook</a>'\n",
              "            + ' to learn more about interactive tables.';\n",
              "          element.innerHTML = '';\n",
              "          dataTable['output_type'] = 'display_data';\n",
              "          await google.colab.output.renderOutput(dataTable, element);\n",
              "          const docLink = document.createElement('div');\n",
              "          docLink.innerHTML = docLinkHtml;\n",
              "          element.appendChild(docLink);\n",
              "        }\n",
              "      </script>\n",
              "    </div>\n",
              "  </div>\n",
              "  "
            ],
            "text/plain": [
              "         asin                                   rank  ... also_view also_buy\n",
              "0  6546546450  2,938,573 in Beauty & Personal Care (  ...        []       []\n",
              "\n",
              "[1 rows x 6 columns]"
            ]
          },
          "metadata": {},
          "execution_count": 13
        }
      ],
      "id": "YLb4Ie78BUC1"
    },
    {
      "cell_type": "code",
      "source": [
        "metadata_clean['price'] = metadata_clean['price'].str.replace('$', '')\n",
        "metadata_clean['price'] = pd.to_numeric(metadata_clean['price'], errors = 'coerce')"
      ],
      "metadata": {
        "id": "2laCdlHhMpHq"
      },
      "execution_count": null,
      "outputs": [],
      "id": "2laCdlHhMpHq"
    },
    {
      "cell_type": "code",
      "source": [
        "metadata_clean['cate'] = metadata_clean['rank'].str.split(' in ').str[1]\n",
        "metadata_clean['cate'] = metadata_clean['cate'].str.replace('amp;', '')\n",
        "metadata_clean['cate'] = metadata_clean['cate'].str.replace(' \\(', '')\n",
        "metadata_clean['cate'].unique()"
      ],
      "metadata": {
        "colab": {
          "base_uri": "https://localhost:8080/"
        },
        "id": "SOav6QnuEVJa",
        "outputId": "ad7993fb-e87d-4050-aedf-24c60d18cc6e"
      },
      "execution_count": null,
      "outputs": [
        {
          "output_type": "execute_result",
          "data": {
            "text/plain": [
              "array(['Beauty & Personal Care', nan, 'Grocery & Gourmet Food',\n",
              "       'Health & Household', 'Sports & Outdoors', 'Toys & Games', 'Baby',\n",
              "       'Clothing, Shoes & Jewelry', 'Home & Kitchen', 'Automotive',\n",
              "       'Tools & Home Improvement'], dtype=object)"
            ]
          },
          "metadata": {},
          "execution_count": 15
        }
      ],
      "id": "SOav6QnuEVJa"
    },
    {
      "cell_type": "code",
      "source": [
        "metadata_clean = metadata_clean[metadata_clean['cate'] == 'Beauty & Personal Care']"
      ],
      "metadata": {
        "id": "T-_DVci4l0G2"
      },
      "execution_count": null,
      "outputs": [],
      "id": "T-_DVci4l0G2"
    },
    {
      "cell_type": "code",
      "source": [
        "metadata_clean['rank'] = metadata_clean['rank'].str.split(expand = True)[0]\n",
        "metadata_clean['rank'] = metadata_clean['rank'].str.replace(',', '')\n",
        "metadata_clean['rank'] = pd.to_numeric(metadata_clean['rank'])"
      ],
      "metadata": {
        "id": "huzcQB3WEDuh"
      },
      "execution_count": null,
      "outputs": [],
      "id": "huzcQB3WEDuh"
    },
    {
      "cell_type": "code",
      "source": [
        "metadata_clean.head(1)"
      ],
      "metadata": {
        "colab": {
          "base_uri": "https://localhost:8080/"
        },
        "id": "lyzLudoqKxRM",
        "outputId": "b7fdc692-381f-4362-d4b8-b68a5e45b5d6"
      },
      "execution_count": null,
      "outputs": [
        {
          "output_type": "execute_result",
          "data": {
            "text/html": [
              "\n",
              "  <div id=\"df-08804240-71af-4b39-a2a4-5359add3b34c\">\n",
              "    <div class=\"colab-df-container\">\n",
              "      <div>\n",
              "<style scoped>\n",
              "    .dataframe tbody tr th:only-of-type {\n",
              "        vertical-align: middle;\n",
              "    }\n",
              "\n",
              "    .dataframe tbody tr th {\n",
              "        vertical-align: top;\n",
              "    }\n",
              "\n",
              "    .dataframe thead th {\n",
              "        text-align: right;\n",
              "    }\n",
              "</style>\n",
              "<table border=\"1\" class=\"dataframe\">\n",
              "  <thead>\n",
              "    <tr style=\"text-align: right;\">\n",
              "      <th></th>\n",
              "      <th>asin</th>\n",
              "      <th>rank</th>\n",
              "      <th>brand</th>\n",
              "      <th>price</th>\n",
              "      <th>also_view</th>\n",
              "      <th>also_buy</th>\n",
              "      <th>cate</th>\n",
              "    </tr>\n",
              "  </thead>\n",
              "  <tbody>\n",
              "    <tr>\n",
              "      <th>0</th>\n",
              "      <td>6546546450</td>\n",
              "      <td>2938573</td>\n",
              "      <td>idea village</td>\n",
              "      <td>NaN</td>\n",
              "      <td>[]</td>\n",
              "      <td>[]</td>\n",
              "      <td>Beauty &amp; Personal Care</td>\n",
              "    </tr>\n",
              "  </tbody>\n",
              "</table>\n",
              "</div>\n",
              "      <button class=\"colab-df-convert\" onclick=\"convertToInteractive('df-08804240-71af-4b39-a2a4-5359add3b34c')\"\n",
              "              title=\"Convert this dataframe to an interactive table.\"\n",
              "              style=\"display:none;\">\n",
              "        \n",
              "  <svg xmlns=\"http://www.w3.org/2000/svg\" height=\"24px\"viewBox=\"0 0 24 24\"\n",
              "       width=\"24px\">\n",
              "    <path d=\"M0 0h24v24H0V0z\" fill=\"none\"/>\n",
              "    <path d=\"M18.56 5.44l.94 2.06.94-2.06 2.06-.94-2.06-.94-.94-2.06-.94 2.06-2.06.94zm-11 1L8.5 8.5l.94-2.06 2.06-.94-2.06-.94L8.5 2.5l-.94 2.06-2.06.94zm10 10l.94 2.06.94-2.06 2.06-.94-2.06-.94-.94-2.06-.94 2.06-2.06.94z\"/><path d=\"M17.41 7.96l-1.37-1.37c-.4-.4-.92-.59-1.43-.59-.52 0-1.04.2-1.43.59L10.3 9.45l-7.72 7.72c-.78.78-.78 2.05 0 2.83L4 21.41c.39.39.9.59 1.41.59.51 0 1.02-.2 1.41-.59l7.78-7.78 2.81-2.81c.8-.78.8-2.07 0-2.86zM5.41 20L4 18.59l7.72-7.72 1.47 1.35L5.41 20z\"/>\n",
              "  </svg>\n",
              "      </button>\n",
              "      \n",
              "  <style>\n",
              "    .colab-df-container {\n",
              "      display:flex;\n",
              "      flex-wrap:wrap;\n",
              "      gap: 12px;\n",
              "    }\n",
              "\n",
              "    .colab-df-convert {\n",
              "      background-color: #E8F0FE;\n",
              "      border: none;\n",
              "      border-radius: 50%;\n",
              "      cursor: pointer;\n",
              "      display: none;\n",
              "      fill: #1967D2;\n",
              "      height: 32px;\n",
              "      padding: 0 0 0 0;\n",
              "      width: 32px;\n",
              "    }\n",
              "\n",
              "    .colab-df-convert:hover {\n",
              "      background-color: #E2EBFA;\n",
              "      box-shadow: 0px 1px 2px rgba(60, 64, 67, 0.3), 0px 1px 3px 1px rgba(60, 64, 67, 0.15);\n",
              "      fill: #174EA6;\n",
              "    }\n",
              "\n",
              "    [theme=dark] .colab-df-convert {\n",
              "      background-color: #3B4455;\n",
              "      fill: #D2E3FC;\n",
              "    }\n",
              "\n",
              "    [theme=dark] .colab-df-convert:hover {\n",
              "      background-color: #434B5C;\n",
              "      box-shadow: 0px 1px 3px 1px rgba(0, 0, 0, 0.15);\n",
              "      filter: drop-shadow(0px 1px 2px rgba(0, 0, 0, 0.3));\n",
              "      fill: #FFFFFF;\n",
              "    }\n",
              "  </style>\n",
              "\n",
              "      <script>\n",
              "        const buttonEl =\n",
              "          document.querySelector('#df-08804240-71af-4b39-a2a4-5359add3b34c button.colab-df-convert');\n",
              "        buttonEl.style.display =\n",
              "          google.colab.kernel.accessAllowed ? 'block' : 'none';\n",
              "\n",
              "        async function convertToInteractive(key) {\n",
              "          const element = document.querySelector('#df-08804240-71af-4b39-a2a4-5359add3b34c');\n",
              "          const dataTable =\n",
              "            await google.colab.kernel.invokeFunction('convertToInteractive',\n",
              "                                                     [key], {});\n",
              "          if (!dataTable) return;\n",
              "\n",
              "          const docLinkHtml = 'Like what you see? Visit the ' +\n",
              "            '<a target=\"_blank\" href=https://colab.research.google.com/notebooks/data_table.ipynb>data table notebook</a>'\n",
              "            + ' to learn more about interactive tables.';\n",
              "          element.innerHTML = '';\n",
              "          dataTable['output_type'] = 'display_data';\n",
              "          await google.colab.output.renderOutput(dataTable, element);\n",
              "          const docLink = document.createElement('div');\n",
              "          docLink.innerHTML = docLinkHtml;\n",
              "          element.appendChild(docLink);\n",
              "        }\n",
              "      </script>\n",
              "    </div>\n",
              "  </div>\n",
              "  "
            ],
            "text/plain": [
              "         asin     rank         brand  ...  also_view also_buy                    cate\n",
              "0  6546546450  2938573  idea village  ...         []       []  Beauty & Personal Care\n",
              "\n",
              "[1 rows x 7 columns]"
            ]
          },
          "metadata": {},
          "execution_count": 18
        }
      ],
      "id": "lyzLudoqKxRM"
    },
    {
      "cell_type": "markdown",
      "id": "054eeba4",
      "metadata": {
        "id": "054eeba4"
      },
      "source": [
        "## 資料切分"
      ]
    },
    {
      "cell_type": "code",
      "execution_count": null,
      "id": "284b14a8",
      "metadata": {
        "id": "284b14a8"
      },
      "outputs": [],
      "source": [
        "ratings_trainings = ratings[\n",
        "    (ratings['DATE'] < '2018-09-01')\n",
        "]\n",
        "ratings_testings = ratings[\n",
        "    (ratings['DATE'] >= '2018-09-01') & \n",
        "    (ratings['DATE'] <= '2018-09-30')\n",
        "]\n",
        "ratings_testings_by_user = ratings_testings.groupby('reviewerID').agg(list).reset_index()[['reviewerID', 'asin']].to_dict('records')\n",
        "ratings_testings_by_user = { rating['reviewerID']: rating['asin'] for rating in ratings_testings_by_user }\n",
        "users = list(ratings_testings_by_user.keys())"
      ]
    },
    {
      "cell_type": "code",
      "source": [
        "users_training = ratings_trainings['reviewerID'].unique()"
      ],
      "metadata": {
        "id": "5ilhZyJtfxlm"
      },
      "execution_count": null,
      "outputs": [],
      "id": "5ilhZyJtfxlm"
    },
    {
      "cell_type": "markdown",
      "id": "a6c76061",
      "metadata": {
        "id": "a6c76061"
      },
      "source": [
        "## 產生推薦(item-based)"
      ]
    },
    {
      "cell_type": "code",
      "execution_count": null,
      "id": "9280a043",
      "metadata": {
        "id": "9280a043"
      },
      "outputs": [],
      "source": [
        "import pandas as pd\n",
        "import datetime\n",
        "from itertools import combinations\n",
        "from collections import defaultdict\n",
        "\n",
        "def recommender(training_data, metadata, users=[], hot=False, k=10, days=9999, score=0):\n",
        "    # loading data from dataframe\n",
        "    # item_to_users dict:\n",
        "    # {\n",
        "    #   'item': {\n",
        "    #       'user': ratings...\n",
        "    #   }...\n",
        "    # }\n",
        "\n",
        "    training_data = training_data.sort_values(\"DATE\", ascending=False).groupby(['reviewerID', 'asin']).head(1)\n",
        "    training_data = training_data[(training_data['DATE'] + datetime.timedelta(days = days)) > '2018-09-01']\n",
        "    ratehot_table = training_data.groupby(by = ['asin']).aggregate({'overall':['mean', 'size']})['overall']\n",
        "    metadata = pd.merge(metadata, ratehot_table, on='asin', how='left')\n",
        "    metadata = metadata.sort_values(['size'], ascending=False)\n",
        "    metadata = metadata[(metadata['mean']<score) == False]\n",
        "\n",
        "    hottest = metadata['asin'].tolist()[:k]\n",
        "    \n",
        "    if hot:\n",
        "        return {user: hottest for user in users}\n",
        "\n",
        "    item_to_users = defaultdict(dict)\n",
        "    for _, row in training_data.iterrows():\n",
        "        row = dict(row)\n",
        "        user = row['reviewerID']\n",
        "        item = row['asin']\n",
        "        rating = float(row['overall'])\n",
        "        if rating > score:\n",
        "            item_to_users[item][user] = rating\n",
        "\n",
        "    # print(\"data converted\")\n",
        "\n",
        "    user_to_items = defaultdict(dict)\n",
        "    for item, rating_users in item_to_users.items():\n",
        "        for user, rating in rating_users.items():\n",
        "            user_to_items[user][item] = rating\n",
        "\n",
        "    # print(\"data inverted\")\n",
        "\n",
        "    init_sim = lambda: [0, 0, 0]\n",
        "    factory = lambda: defaultdict(init_sim)\n",
        "    pre_item_similarity = defaultdict(factory)\n",
        "    for user, items in user_to_items.items():\n",
        "        if len(items) > 1:\n",
        "            for i1, i2 in combinations(items.keys(), 2):\n",
        "                xy = items[i1] * items[i2]\n",
        "                xx = items[i1] ** 2\n",
        "                yy = items[i2] ** 2\n",
        "                pre_item_similarity[i1][i2][0] += xy\n",
        "                pre_item_similarity[i1][i2][1] += xx\n",
        "                pre_item_similarity[i1][i2][2] += yy\n",
        "\n",
        "                pre_item_similarity[i2][i1][0] += xy\n",
        "                pre_item_similarity[i2][i1][1] += xx\n",
        "                pre_item_similarity[i2][i1][2] += yy\n",
        "\n",
        "    # print(\"sim data prepared\")\n",
        "\n",
        "    item_similarity = {}\n",
        "    for src_item in pre_item_similarity:\n",
        "        item_similarity_order = []\n",
        "        for dst_item, val in pre_item_similarity[src_item].items():\n",
        "            xy = val[0]\n",
        "            xx = val[1]\n",
        "            yy = val[2]\n",
        "            div = ((xx*yy) ** 0.5)\n",
        "            if div == 0:\n",
        "                continue\n",
        "            similarity = xy / div\n",
        "            if similarity < 0:\n",
        "                continue\n",
        "            for i, s in enumerate(item_similarity_order):\n",
        "                target_similarity = s[1]\n",
        "                if target_similarity < similarity:\n",
        "                    item_similarity_order.insert(i, (dst_item, similarity))\n",
        "                    break\n",
        "            else:\n",
        "                item_similarity_order.append((dst_item, similarity))\n",
        "        item_similarity[src_item] = item_similarity_order\n",
        "\n",
        "    print(f\"get {k} recommendation items for user: {users}\")\n",
        "\n",
        "    recommendation = {}\n",
        "    a = 0\n",
        "    l = 0\n",
        "    for user in users:\n",
        "        items = []\n",
        "        items_set = set()\n",
        "        stop = False\n",
        "        user_has_rated = set(user_to_items[user])\n",
        "        for item in user_has_rated:\n",
        "            if item in item_similarity:\n",
        "                for sim_item, _ in item_similarity[item]:\n",
        "                    # skip the item user has rated\n",
        "                    if sim_item not in user_has_rated and sim_item not in items_set:\n",
        "                        items.append(sim_item)\n",
        "                        items_set.add(sim_item)\n",
        "                    if len(items) >= k:\n",
        "                        stop = True\n",
        "                        break\n",
        "                if stop:\n",
        "                    break\n",
        "        recommendation[user] = items\n",
        "        if len(items) > 0:\n",
        "            a += 1\n",
        "            l += min(len(items), k)\n",
        "    print(a, l)\n",
        "    return recommendation    "
      ]
    },
    {
      "cell_type": "markdown",
      "id": "04a4ca9e",
      "metadata": {
        "id": "04a4ca9e"
      },
      "source": [
        "## 結果評估(item-based)"
      ]
    },
    {
      "cell_type": "code",
      "execution_count": null,
      "id": "ee763747",
      "metadata": {
        "id": "ee763747"
      },
      "outputs": [],
      "source": [
        "def evaluate(ratings_testings_by_user={}, ratings_by_user={}, method=None):\n",
        "    '''\n",
        "    * ratings_testings_by_user: dict 真實被購買的商品資料（2018-09-01 以後資料）\n",
        "    * ratings_by_user: dict 利用訓練資料學習的推薦商品\n",
        "    * method: str\n",
        "    * score: float\n",
        "    '''\n",
        "    total = 0\n",
        "    for d in ratings_testings_by_user:\n",
        "        if d in ratings_by_user:\n",
        "            total += len(set(ratings_by_user[d]) & set(ratings_testings_by_user[d]))\n",
        "\n",
        "    score = total / len(ratings_testings)\n",
        "    print(total)\n",
        "    print(len(ratings_testings))\n",
        "    return score"
      ]
    },
    {
      "cell_type": "code",
      "source": [
        "ratings_by_user = recommender(ratings_trainings, metadata_clean, users, k=10, hot=False)"
      ],
      "metadata": {
        "colab": {
          "base_uri": "https://localhost:8080/"
        },
        "id": "w14Q6EFL6IhT",
        "outputId": "debc006c-5ded-492f-c607-833b9695e57f"
      },
      "id": "w14Q6EFL6IhT",
      "execution_count": null,
      "outputs": [
        {
          "output_type": "stream",
          "name": "stdout",
          "text": [
            "get 10 recommendation items for user: ['A100XQFWKQ30O2', 'A103T1QOGFCSEH', 'A106UKKSJ2KXPF', 'A10A7GV4D5A11V', 'A1119JJ37ZLB8R', 'A113UOOLBSZN52', 'A12M4U7WK4ALCR', 'A12T8YTW6VWT7S', 'A1364JXGKB46MM', 'A137DALOQFKBTI', 'A13FEZ3WV7S2EY', 'A13IV4I1B0RXMG', 'A13JU88JAHN72I', 'A13K55R6VH1OOD', 'A13P7VFU075A', 'A13SWYE4QLB6NG', 'A13ZTQ0Q4ATA41', 'A142EDN04OD62U', 'A142I22FIC8MZK', 'A14834QTII5TLT', 'A14A447VPACTBC', 'A14AP6MN5XO6LB', 'A14CLF25IX25US', 'A14LYXC3HTBAHI', 'A14VUW4KZ34EOE', 'A14Y32P26G9YL', 'A157T25PBS7MX4', 'A15HZDSERD85C8', 'A15JJ8J1FGADIX', 'A15ZCL70JXXH89', 'A1617KN2IAWZ6J', 'A16E0O88262HKA', 'A16NSZ58PTVIYF', 'A16UGDXRTDLJG5', 'A16X9HR3UFQQXY', 'A16Y7V1CZCWKFV', 'A174YOBOSW9WDN', 'A1786SKRAJXH86', 'A17K2BUZ20WD2', 'A17LYRFV645L0V', 'A18LNGVXDZBTUR', 'A19503XX7GU6J2', 'A19HVHRZDYFEOP', 'A19JM38B861BO4', 'A19KGY3W1P0MHT', 'A19KJPOF3QOJ24', 'A19U5RT4Q8Q1T6', 'A1AQNQUNX8B6JT', 'A1ARU0IN6RUFFD', 'A1BB4635KSKDMV', 'A1BCC7X6KRTBG0', 'A1BPJ56BXENC7', 'A1C0RI6W65FC8B', 'A1C60LJGZVEK27', 'A1CB2SMS3TD44Z', 'A1CNSU8P68CPLT', 'A1CSDWBYUJBCJZ', 'A1CTNNVIYHO25P', 'A1CTQF97HFYOZB', 'A1D5C2H9UFZHPU', 'A1D5UVH72Z6NJ1', 'A1DAUVZRVSLLNW', 'A1DCZ9882PXLVB', 'A1DZ63D35BNT86', 'A1E0QCKB4R2X8X', 'A1E76OZZ5YUWVA', 'A1EBHZPAYMILW9', 'A1EJVNGBY5GM5I', 'A1ER0356V2DSKW', 'A1EY751AUVO5NZ', 'A1EZFX1TRHSAJX', 'A1F08GM4B97FV', 'A1F6EFMBK795DJ', 'A1FC8Y896NZP4T', 'A1FKIAKVOBNN7Y', 'A1FKUBRPLG6Y8I', 'A1G2HL4W8B3TA0', 'A1G8Z9IKJ0BD1M', 'A1GEJ55RJGD7JW', 'A1GIYGD23YIDTN', 'A1GLG2IZBZHRAJ', 'A1H1T82FPO20DN', 'A1H7JDZ9BKTKGC', 'A1HBROZPSV5KT6', 'A1HBXMUIHTAIU2', 'A1I32A4SA9W2L2', 'A1IDJ6KR8CQV9I', 'A1II0TTUUE2C7Y', 'A1ILEZFIVOU0EP', 'A1ITJ5M7I9G7FR', 'A1IWTXM1SJWHDN', 'A1J2NTTE63GNG2', 'A1JRREJ5D62LFF', 'A1KGMTEXL70WF6', 'A1KWUQZJ1Z6MN2', 'A1LXJ8XCGNBXOF', 'A1M8YMS915ZK0B', 'A1NDRR3G9SJF18', 'A1NE6K8PXW780O', 'A1NEG0FRW5FDBL', 'A1NN82RWB6PXJW', 'A1NY67EVWD6CD6', 'A1OB41VQHXZ0R8', 'A1OJ2IXX8F7Q7X', 'A1OTIUDE7LWAGT', 'A1P1OHYJOOZX5P', 'A1PFDA9SL15S4O', 'A1PKBKALGLSX0Z', 'A1PMLXHE863GR6', 'A1PR178735XC70', 'A1PXO67EUM5HJQ', 'A1QHS58JVFLF3I', 'A1QPKRHCAOQVZ5', 'A1R2TTULP0Z2BM', 'A1R8GBYBJWWWU0', 'A1RAXJN2Q4V20X', 'A1RCMCAJR2LJA4', 'A1RE2XA5HQD1D3', 'A1RMLPJ1PF8LGV', 'A1RX2ODQRQZVSI', 'A1S3NMNTSO6GW', 'A1S6OQV823B53J', 'A1SA3N793WT2LM', 'A1SA932MLERVQY', 'A1SCZBXGPJ2615', 'A1SMXRCNRO4ZQM', 'A1T1N2585E1T0D', 'A1TEKLMF4V1X2C', 'A1TF44D9KYAD60', 'A1TGP1VTM3KCTI', 'A1TK5M6EM3GS3C', 'A1TO3GV14TGF2R', 'A1TP9JHTIY468V', 'A1UAOE8KO7Q1DZ', 'A1UDCDY6ZNE83T', 'A1UUNKRU1DTZTL', 'A1V0UJQ4XGAJ3H', 'A1VBZLO2JGYU1B', 'A1VC6YCAFKV6Q', 'A1VVEX78B2TYBX', 'A1VVQ2DFL0QLXF', 'A1VYWSQ2OXLH98', 'A1WEFBEJ7OHSVZ', 'A1WOX40GUAFDKW', 'A1WSZED2O5MA5T', 'A1XBJBT6HORBLA', 'A1XHN6JF8A8W69', 'A1XWCTARAQ0679', 'A1XZJ85PKMAZP0', 'A1YALF6PWOMS6S', 'A1YEO5KEW7M2GF', 'A1YQ33635DJEG5', 'A1YSAFP6T3JZ1C', 'A1YTPCNXQ2LJ5Z', 'A1YVXZK51DEDPC', 'A1Z3GE09RDY6O7', 'A1Z6IPI0G3QIUR', 'A1ZVXL7K0XY3S6', 'A1ZXYITUZM3Q6A', 'A202BVEB76NTMK', 'A205S0BTPEFI0I', 'A20MSUD02BETH2', 'A20P2XESU3G3EC', 'A20QY357E6SAF', 'A20SJ2793OUCPW', 'A20T7NNNUHH60H', 'A21JL9NVA7KEMC', 'A21M4N08F3EU5J', 'A21NUBJVBS230S', 'A21OELUKDF2E57', 'A21XQP90LEND9R', 'A21YO11OY4KATO', 'A220EHDBIGBL30', 'A224YJVNU30DVM', 'A22A1B25VBD0YO', 'A22EWIMT2GUTTL', 'A22EZJLTPINCFS', 'A22QJRB86RF6O1', 'A2320AUCHA95U2', 'A232IJ75I4KP9C', 'A23GTKDW92ZPP2', 'A23O1B8IVSYKMO', 'A23VR3KT0TPG83', 'A24HCM5QV0ZTJ5', 'A24ZE4O3OQMSP0', 'A255E6ZWUBMEJJ', 'A258D00BRNHJ77', 'A25TLD8KIU807H', 'A26434CRUTADT5', 'A26AT96096UOEZ', 'A26RKZDM4DK8OQ', 'A274IW68565M0U', 'A286OWYO1BDT52', 'A288UAQLON8FK2', 'A28E3FNV1BYC94', 'A28GO11F387SOX', 'A28H0PFALTML0I', 'A28OZKV4ZYZX42', 'A28P7FF1TVPG1K', 'A28Q7C1FAIZGLV', 'A29834GBB4DOP1', 'A29HQ60YC1RG1P', 'A29MENRU87PET0', 'A29PZKXDCQFTYW', 'A29SD3TFGX6Q34', 'A2A0MIOWIW2SB8', 'A2A8ECI6ABJBMA', 'A2AAQWBJJTK3E1', 'A2AE0E0H463YL6', 'A2APG6OZXU4QIZ', 'A2BDB427ROEP7H', 'A2BHJO8WOGMW6E', 'A2BOSA30FCF6G8', 'A2BU6N5956T9NH', 'A2BUZ308P92OYA', 'A2C1F859F9V1SL', 'A2C8YINPNRQOAU', 'A2CDQOF7WHUYKJ', 'A2CEEE0IK3LKN1', 'A2CZVE6ORV87C5', 'A2DD6RH1AF0PLI', 'A2DFOCWUKJX3PT', 'A2E8WG5GRZGMXU', 'A2ESQAPIGR2TJF', 'A2EUQ4ESAB2N6A', 'A2EZXF5YGYTOWN', 'A2F0VQQLSF558D', 'A2F3QV40SONN60', 'A2F95NSPD4XEEU', 'A2FA2J1JT12N7J', 'A2FFUJ5D4CMJ4L', 'A2FLLYV6Z8UQ26', 'A2G1XJ25DR7PVF', 'A2G5KJ0CZE65ZD', 'A2GFPTQ4VWDX96', 'A2GJLNRQTVUNOF', 'A2GOFJ3OZZUZ3H', 'A2GV0FE30O6M67', 'A2H3W11661MWDA', 'A2H7FD5GQMJXAQ', 'A2H7VSYLKGKLLJ', 'A2HFAX39PMLIGH', 'A2I4O72AAE1T1T', 'A2I868XUY96VWA', 'A2IK039KMC8UP1', 'A2IMJV0CQMZLGC', 'A2INWR0T7A7UN5', 'A2IOBG1ERS4JP3', 'A2IRPQ7DXQ9YIN', 'A2J4WOR87ELFBH', 'A2JCBLTLYDPQLW', 'A2JEH2NKM1Z8CQ', 'A2JXZSR7R85KX4', 'A2K7XZCFYGZH0O', 'A2KO4HGLWB57LI', 'A2KVN4XKFJH0I8', 'A2LM47GK1W7RRR', 'A2LSOMD2X9KCCH', 'A2LYTBRWFQJMKM', 'A2M4YSOJZELJ6N', 'A2MAZK8XSIDXPF', 'A2MDIPJ7MS0MUJ', 'A2MGO3WV3SX7X', 'A2MLV3I5MMJ2RA', 'A2MPSHMC0U29AV', 'A2NI47L1B1RXSG', 'A2NJQZBE8TSUYO', 'A2NWTETCSLOEQN', 'A2O4DMC8M5JFHG', 'A2O823CIB99X95', 'A2OT3011J8E1ZP', 'A2OXIHJW4K9NKE', 'A2P6L9MQK99U36', 'A2PB6LYMRA7Z9V', 'A2PEJEOUE9MNA6', 'A2PIBK3EOG5TBK', 'A2PY1DBGV9FQA2', 'A2Q5UOQ4L1BOB9', 'A2QE1WIYFY0HAP', 'A2QP73U21FHJZI', 'A2QV1YJODH28QP', 'A2RAISC8UEEBK9', 'A2RDNAR2R66DKD', 'A2RXAD7UZ4VFT6', 'A2S47NK970GKD9', 'A2SMFKDH22FMA3', 'A2SOH4QHL5DZ6D', 'A2SQIQZUBEAJR3', 'A2SWEHEK2BMPM8', 'A2SYZ28NVJZ4R1', 'A2T0AMZZLASKKV', 'A2TCLY6N04N9D7', 'A2TW5FC72PI7SE', 'A2UAC8RKSPUIKH', 'A2UX00W1OX5A80', 'A2V88AD0XHE2IE', 'A2VC9R3XCFOEP1', 'A2VLCD1OWKXBW0', 'A2VTFDQ1DZN7UI', 'A2WHTNQ939BS71', 'A2WQGKM49J8UYT', 'A2WX2YLLHJDLX7', 'A2X4BZH61VJH5M', 'A2XEM0Y2PBNYK3', 'A2XFJ8CTY7VDNN', 'A2XTIQTNDTY6IA', 'A2XVM7UW32TYJ4', 'A2XY3CJ3ZCAD03', 'A2XYR0XUSOOBKN', 'A2Y1J1AKXDLR1', 'A2Y88AU2Y58W78', 'A2Z6RKQQUX4RJA', 'A2ZBZF2MUG5BMT', 'A2ZFTLMOAS9YS9', 'A2ZIIOGLNJDGAW', 'A2ZKSKEG5ADC67', 'A2ZZKY1V6M940H', 'A31LANQ03TDCXY', 'A323D529OO2E1G', 'A3254BNN69CL47', 'A327I3S4ZCZYBV', 'A32D5I46E15TEC', 'A32H6TQKJ1PQTP', 'A32KYN14BUANDF', 'A32OQFYMJ18HD6', 'A333LLJ35S8DVV', 'A33M6H443E78K3', 'A33S6R9E8SJQBP', 'A34DAQYDWYMVSG', 'A35F9VHYWAFR8J', 'A35F9XOEGELEWC', 'A35PB7968I55RI', 'A35RIL0AVMMXXL', 'A35Y5NLC3UEUQD', 'A367NSWV6NUSL1', 'A36I89SEZ432XE', 'A375WSDCO30KT9', 'A37G41T4DD51AH', 'A37M369VIVDDVJ', 'A37OPVPXMWHJJK', 'A37WMXX147RL1X', 'A37XPPIGUTR4LE', 'A388NSX468EY1E', 'A38GODWWMRN5IP', 'A38J6ZI0XZOY54', 'A38KP6TI3BUIM6', 'A38KUK8INKLRVW', 'A38OH5OTHDIENK', 'A38QGF4YG5YLUX', 'A3909LKTROS8XZ', 'A3961EO6PXRSV4', 'A39LZUDABR584J', 'A39PTGNQVCNU44', 'A39VI1UOID3TYE', 'A39YNT3CHM2I0Z', 'A3A3FMJO4E1E16', 'A3B99K4E030SZQ', 'A3BE6JK97CYAGA', 'A3BLE5G96342IP', 'A3BNG9PTUPB4QO', 'A3BPFL7PM0EX1K', 'A3BT1WLPENXMD6', 'A3BU92XQ2M0FQV', 'A3BWTFXS9CXVAE', 'A3BXCNI6BG5GCW', 'A3C2F0Y7G5FRW3', 'A3CBKKG14IB1KH', 'A3CQ0NMUJ9TODP', 'A3CUAESGA4K7FU', 'A3CXM8XQ5Q1KPP', 'A3D0FFKCWXN2LR', 'A3D1IGUMS62SNU', 'A3D1VPTQGDS7H3', 'A3D4BNTGWVUMYY', 'A3DKARAF791Z5X', 'A3DTSBINBC9T1Y', 'A3DXQ86N43AUK3', 'A3DXW3542E4QUC', 'A3E9HGSGQCU4CT', 'A3EAHHQ7KV8LFG', 'A3EJS66CXBQLE8', 'A3ENBUF1TIQR5K', 'A3EZHDCUB7I4KM', 'A3F1C4MOB3X5XL', 'A3F6V5A2SFES04', 'A3FDEHXOYLD1AC', 'A3FGDP5PT4SPLK', 'A3FGWJLDNTJWED', 'A3G1X7LFBAPCUJ', 'A3GCKFO3G4AHLF', 'A3GGSN44XCR1LP', 'A3GPMU8E282AUW', 'A3GRQ9WMP4OXFE', 'A3GWKJFBX8ZKT6', 'A3H8Z7JS7XJHJJ', 'A3HRUR5VRFZ09F', 'A3IGRPW3T3WYYQ', 'A3J1T4IGQLKKMB', 'A3J9IGXNOJR2BL', 'A3JA23Z053GQH', 'A3JCDPKW3RY4RN', 'A3JEQJCEMX20GI', 'A3KFRJBKYYNED7', 'A3KS7QCK708PRV', 'A3KYSCD09GNSUT', 'A3LA1YKU7MU28G', 'A3LEZ2F3IJC8PI', 'A3LIUDVZL87BJ1', 'A3LW4UWD5IH59X', 'A3LX43D34SINN3', 'A3LZ31BL10WT5Y', 'A3MAKZCODKKTYI', 'A3MFCMTXMF9B6W', 'A3MKAAS1OCULM6', 'A3MOSFTVDLAPDQ', 'A3MSPZTFP55OAG', 'A3MYAEQWFLNGT7', 'A3N4SR54KR77RK', 'A3NVFNLI1D4JUI', 'A3NYG8M131X9CM', 'A3OAQJCQBNF2JV', 'A3OCZRK8OEGZKL', 'A3OIDZP7AI0URM', 'A3OVOP3ZAF1EZ2', 'A3P3RV0CUR0VRQ', 'A3P8Z0J9AH92IZ', 'A3PJ22YDBOO8DN', 'A3PLMGKX9OQWOY', 'A3QL4UXK2Z5Q7T', 'A3QLWWO4V4PFMJ', 'A3QUUP6DYHF9YC', 'A3R7ZWTFN19KIX', 'A3RCVP2TSCL409', 'A3RUEIK67SFBFQ', 'A3SG2GXNRU6AO8', 'A3SL5YEUG12X9A', 'A3SME2XHYE99M5', 'A3T0BPK8JD6MD5', 'A3T2OTYYUYGLP0', 'A3T35MARIMRX9M', 'A3T9MTY43BVAL8', 'A3T9WXXE7EWNT8', 'A3TELGW4O61A61', 'A3TGG91X7W9SE8', 'A3TSVNG02WZYSW', 'A3U32YT7BSZ0KJ', 'A3UAJ5O4VR3IQ3', 'A3UBQFB24OY57', 'A3UCBR5T51RVRF', 'A3URWO9TFNH3IW', 'A3V81XSQIPRKO8', 'A3V9LE9I6Z5AF3', 'A3VEZWV624JM4O', 'A3VFDFSQ8X74WJ', 'A3VXSKW11C3301', 'A4INUX2JA7KE2', 'A4IQXCCXDEAKW', 'A4PZHPMLBS8T3', 'A4SRPWVKZ8MBC', 'A4V3S90H5OZTV', 'A4VQ44JM97RBL', 'A5ECS1R7F1TUD', 'A5LV53PMV1X6R', 'A674HJEQGJ5R9', 'A679PFWSVAY0B', 'A6IX0T5Z4NEXG', 'A6JVX3BIR03UT', 'A6P34Q7M983DN', 'A72IXFDV3HVU6', 'A74XHLD33IB9S', 'A7EG6541KYNIU', 'A7HS9Y95Y9BI6', 'A7JUHUYLXIUVQ', 'A7KQ3EGH8QTDS', 'A7SILTHEWXQ8T', 'A7Y4ETTLARUGI', 'A7Z2BG3284EE8', 'A8FMILLDHAI14', 'A8JUUA4GHIAMI', 'A8LVPPXFVYGVU', 'A8ZUDRNPFB0FU', 'A9BXB2XYAW169', 'A9LOWDS5H848B', 'AA3TPN2ZXE9TE', 'AAD3T3WYTF1BR', 'AAJ1IA9SFH4IG', 'AAT4JCLA3VGRZ', 'ABNE90UVC4BMT', 'ABSMQNX2PDSWH', 'ABWCUEDFH8W5H', 'ABYOL1GQA39OB', 'AC0X1OVDMJX9', 'ACCY5NWUNEC87', 'ACE1ZIOI3U6PY', 'ACLAKWV2EFFB5', 'AD9O852KPYLHY', 'ADDXT6NXD9GQ7', 'ADG8D8X6P9X7M', 'ADR4IE33O06IJ', 'ADV1MNMPVS17V', 'ADYRHTPM2T2SE', 'AE6VHWVRXHU19', 'AEKJTREHL41OE', 'AEP7KPEZWI7VY', 'AETOYW0R5VN0X', 'AEZBSOFLB44RG', 'AFE9H6ABXM735', 'AFMQ7BBR4FYMB', 'AFY8EIWAT6H8J', 'AG0867QGE3R2B', 'AG3T3ILPXFL3H', 'AG74ZKO3BG57J', 'AGORXWI6K2RIR', 'AGRZQOBCF8H87', 'AGTD0T9R78YLG', 'AGYIYIVZHBI60', 'AHGNU4UWGATOH', 'AHYRXYR235TWH', 'AIB7HX2UC3WHM', 'AITF34BGBMVJJ', 'AIU7HYQIC5D95', 'AJHSB0LT8NKP4', 'AJYMJEC6B7V52', 'AK4VANLR5UK95', 'AK7YIZE6ZZ1N9', 'AKHSKD91MQ9DP', 'ALUZH689LQE6K', 'ALWLZC3GRRXPN', 'AM1KUDVTKXIAQ', 'AM9HBLGAPZQR7', 'AMA98TY969A1T', 'AMLDY4QY4HV0D', 'AMVZ9HW23Y42N', 'AN3QZR3OD7SFO', 'ANC6FN6T8JBB2', 'ANDGVKQ15NCZM', 'ANFUWUOC7EJKR', 'ANG7MOYBTWQE6', 'ANJ6Y9G0B4TM8', 'ANR73TPVBCQ9K', 'ANT034IX5ZPI9', 'AOB2Y1KJQG7K7', 'AONHG4PDUQ0D6', 'APA9SALOTTBM6', 'APARJQGAD0J4C', 'AQ5PKYF0FJA4B', 'AQCQQYEUHUX3M', 'AQYL4TDY2HU8Z', 'AR9Y0CM5B174', 'ARLN791TA1RV7', 'AS8T77HTF9IHW', 'ASGIVOW34XNQS', 'ATJRZUXNWAWIK', 'ATP2UCHTR7QMZ', 'ATR9J7TYR1KVL', 'ATVP6QJLS27EN', 'AU03W1V42994X', 'AU1BVXGV2KO8I', 'AU2JWZMFEVAH5', 'AU3MVNMVFSIM', 'AUKMWTDK16PAP', 'AUWJT1DM7SG2D', 'AV0O5NWF2NKDF', 'AV2MC7NNTMKTF', 'AVC89473DX6XU', 'AVFBQDR2KRNK6', 'AVIMJH2FF6QCH', 'AVO5FL5T9EZSR', 'AVQ0V2MIW2Z5K', 'AVWSUUBWD3RK4', 'AWJFUVK3064HX', 'AXM9OKKHRR4RP', 'AXPZI9N8HVHYO', 'AXQ57AZLKLPCQ', 'AXQS1B3WVRHQV', 'AXS7NH3GDN7EE', 'AY4F95T0JSTZ2', 'AYG63OK9TNBNP', 'AZE64W03EUJA4', 'AZECTAHZICNW5', 'AZEGZXCFTLSQB', 'AZEKC7DEXXJD7', 'AZFGSCB0S59LQ', 'AZHS42HV4FKKA']\n",
            "32 250\n"
          ]
        }
      ]
    },
    {
      "cell_type": "code",
      "source": [
        "ratings_by_user = recommender(ratings_trainings, metadata_clean, users, k=10, hot=False, days=150, score=3)\n",
        "evaluate(ratings_testings_by_user, ratings_by_user)"
      ],
      "metadata": {
        "colab": {
          "base_uri": "https://localhost:8080/"
        },
        "id": "xeq8_d9g5u5l",
        "outputId": "34de1d29-a54c-49ef-b738-26cd08727227"
      },
      "id": "xeq8_d9g5u5l",
      "execution_count": null,
      "outputs": [
        {
          "output_type": "stream",
          "name": "stdout",
          "text": [
            "get 10 recommendation items for user: ['A100XQFWKQ30O2', 'A103T1QOGFCSEH', 'A106UKKSJ2KXPF', 'A10A7GV4D5A11V', 'A1119JJ37ZLB8R', 'A113UOOLBSZN52', 'A12M4U7WK4ALCR', 'A12T8YTW6VWT7S', 'A1364JXGKB46MM', 'A137DALOQFKBTI', 'A13FEZ3WV7S2EY', 'A13IV4I1B0RXMG', 'A13JU88JAHN72I', 'A13K55R6VH1OOD', 'A13P7VFU075A', 'A13SWYE4QLB6NG', 'A13ZTQ0Q4ATA41', 'A142EDN04OD62U', 'A142I22FIC8MZK', 'A14834QTII5TLT', 'A14A447VPACTBC', 'A14AP6MN5XO6LB', 'A14CLF25IX25US', 'A14LYXC3HTBAHI', 'A14VUW4KZ34EOE', 'A14Y32P26G9YL', 'A157T25PBS7MX4', 'A15HZDSERD85C8', 'A15JJ8J1FGADIX', 'A15ZCL70JXXH89', 'A1617KN2IAWZ6J', 'A16E0O88262HKA', 'A16NSZ58PTVIYF', 'A16UGDXRTDLJG5', 'A16X9HR3UFQQXY', 'A16Y7V1CZCWKFV', 'A174YOBOSW9WDN', 'A1786SKRAJXH86', 'A17K2BUZ20WD2', 'A17LYRFV645L0V', 'A18LNGVXDZBTUR', 'A19503XX7GU6J2', 'A19HVHRZDYFEOP', 'A19JM38B861BO4', 'A19KGY3W1P0MHT', 'A19KJPOF3QOJ24', 'A19U5RT4Q8Q1T6', 'A1AQNQUNX8B6JT', 'A1ARU0IN6RUFFD', 'A1BB4635KSKDMV', 'A1BCC7X6KRTBG0', 'A1BPJ56BXENC7', 'A1C0RI6W65FC8B', 'A1C60LJGZVEK27', 'A1CB2SMS3TD44Z', 'A1CNSU8P68CPLT', 'A1CSDWBYUJBCJZ', 'A1CTNNVIYHO25P', 'A1CTQF97HFYOZB', 'A1D5C2H9UFZHPU', 'A1D5UVH72Z6NJ1', 'A1DAUVZRVSLLNW', 'A1DCZ9882PXLVB', 'A1DZ63D35BNT86', 'A1E0QCKB4R2X8X', 'A1E76OZZ5YUWVA', 'A1EBHZPAYMILW9', 'A1EJVNGBY5GM5I', 'A1ER0356V2DSKW', 'A1EY751AUVO5NZ', 'A1EZFX1TRHSAJX', 'A1F08GM4B97FV', 'A1F6EFMBK795DJ', 'A1FC8Y896NZP4T', 'A1FKIAKVOBNN7Y', 'A1FKUBRPLG6Y8I', 'A1G2HL4W8B3TA0', 'A1G8Z9IKJ0BD1M', 'A1GEJ55RJGD7JW', 'A1GIYGD23YIDTN', 'A1GLG2IZBZHRAJ', 'A1H1T82FPO20DN', 'A1H7JDZ9BKTKGC', 'A1HBROZPSV5KT6', 'A1HBXMUIHTAIU2', 'A1I32A4SA9W2L2', 'A1IDJ6KR8CQV9I', 'A1II0TTUUE2C7Y', 'A1ILEZFIVOU0EP', 'A1ITJ5M7I9G7FR', 'A1IWTXM1SJWHDN', 'A1J2NTTE63GNG2', 'A1JRREJ5D62LFF', 'A1KGMTEXL70WF6', 'A1KWUQZJ1Z6MN2', 'A1LXJ8XCGNBXOF', 'A1M8YMS915ZK0B', 'A1NDRR3G9SJF18', 'A1NE6K8PXW780O', 'A1NEG0FRW5FDBL', 'A1NN82RWB6PXJW', 'A1NY67EVWD6CD6', 'A1OB41VQHXZ0R8', 'A1OJ2IXX8F7Q7X', 'A1OTIUDE7LWAGT', 'A1P1OHYJOOZX5P', 'A1PFDA9SL15S4O', 'A1PKBKALGLSX0Z', 'A1PMLXHE863GR6', 'A1PR178735XC70', 'A1PXO67EUM5HJQ', 'A1QHS58JVFLF3I', 'A1QPKRHCAOQVZ5', 'A1R2TTULP0Z2BM', 'A1R8GBYBJWWWU0', 'A1RAXJN2Q4V20X', 'A1RCMCAJR2LJA4', 'A1RE2XA5HQD1D3', 'A1RMLPJ1PF8LGV', 'A1RX2ODQRQZVSI', 'A1S3NMNTSO6GW', 'A1S6OQV823B53J', 'A1SA3N793WT2LM', 'A1SA932MLERVQY', 'A1SCZBXGPJ2615', 'A1SMXRCNRO4ZQM', 'A1T1N2585E1T0D', 'A1TEKLMF4V1X2C', 'A1TF44D9KYAD60', 'A1TGP1VTM3KCTI', 'A1TK5M6EM3GS3C', 'A1TO3GV14TGF2R', 'A1TP9JHTIY468V', 'A1UAOE8KO7Q1DZ', 'A1UDCDY6ZNE83T', 'A1UUNKRU1DTZTL', 'A1V0UJQ4XGAJ3H', 'A1VBZLO2JGYU1B', 'A1VC6YCAFKV6Q', 'A1VVEX78B2TYBX', 'A1VVQ2DFL0QLXF', 'A1VYWSQ2OXLH98', 'A1WEFBEJ7OHSVZ', 'A1WOX40GUAFDKW', 'A1WSZED2O5MA5T', 'A1XBJBT6HORBLA', 'A1XHN6JF8A8W69', 'A1XWCTARAQ0679', 'A1XZJ85PKMAZP0', 'A1YALF6PWOMS6S', 'A1YEO5KEW7M2GF', 'A1YQ33635DJEG5', 'A1YSAFP6T3JZ1C', 'A1YTPCNXQ2LJ5Z', 'A1YVXZK51DEDPC', 'A1Z3GE09RDY6O7', 'A1Z6IPI0G3QIUR', 'A1ZVXL7K0XY3S6', 'A1ZXYITUZM3Q6A', 'A202BVEB76NTMK', 'A205S0BTPEFI0I', 'A20MSUD02BETH2', 'A20P2XESU3G3EC', 'A20QY357E6SAF', 'A20SJ2793OUCPW', 'A20T7NNNUHH60H', 'A21JL9NVA7KEMC', 'A21M4N08F3EU5J', 'A21NUBJVBS230S', 'A21OELUKDF2E57', 'A21XQP90LEND9R', 'A21YO11OY4KATO', 'A220EHDBIGBL30', 'A224YJVNU30DVM', 'A22A1B25VBD0YO', 'A22EWIMT2GUTTL', 'A22EZJLTPINCFS', 'A22QJRB86RF6O1', 'A2320AUCHA95U2', 'A232IJ75I4KP9C', 'A23GTKDW92ZPP2', 'A23O1B8IVSYKMO', 'A23VR3KT0TPG83', 'A24HCM5QV0ZTJ5', 'A24ZE4O3OQMSP0', 'A255E6ZWUBMEJJ', 'A258D00BRNHJ77', 'A25TLD8KIU807H', 'A26434CRUTADT5', 'A26AT96096UOEZ', 'A26RKZDM4DK8OQ', 'A274IW68565M0U', 'A286OWYO1BDT52', 'A288UAQLON8FK2', 'A28E3FNV1BYC94', 'A28GO11F387SOX', 'A28H0PFALTML0I', 'A28OZKV4ZYZX42', 'A28P7FF1TVPG1K', 'A28Q7C1FAIZGLV', 'A29834GBB4DOP1', 'A29HQ60YC1RG1P', 'A29MENRU87PET0', 'A29PZKXDCQFTYW', 'A29SD3TFGX6Q34', 'A2A0MIOWIW2SB8', 'A2A8ECI6ABJBMA', 'A2AAQWBJJTK3E1', 'A2AE0E0H463YL6', 'A2APG6OZXU4QIZ', 'A2BDB427ROEP7H', 'A2BHJO8WOGMW6E', 'A2BOSA30FCF6G8', 'A2BU6N5956T9NH', 'A2BUZ308P92OYA', 'A2C1F859F9V1SL', 'A2C8YINPNRQOAU', 'A2CDQOF7WHUYKJ', 'A2CEEE0IK3LKN1', 'A2CZVE6ORV87C5', 'A2DD6RH1AF0PLI', 'A2DFOCWUKJX3PT', 'A2E8WG5GRZGMXU', 'A2ESQAPIGR2TJF', 'A2EUQ4ESAB2N6A', 'A2EZXF5YGYTOWN', 'A2F0VQQLSF558D', 'A2F3QV40SONN60', 'A2F95NSPD4XEEU', 'A2FA2J1JT12N7J', 'A2FFUJ5D4CMJ4L', 'A2FLLYV6Z8UQ26', 'A2G1XJ25DR7PVF', 'A2G5KJ0CZE65ZD', 'A2GFPTQ4VWDX96', 'A2GJLNRQTVUNOF', 'A2GOFJ3OZZUZ3H', 'A2GV0FE30O6M67', 'A2H3W11661MWDA', 'A2H7FD5GQMJXAQ', 'A2H7VSYLKGKLLJ', 'A2HFAX39PMLIGH', 'A2I4O72AAE1T1T', 'A2I868XUY96VWA', 'A2IK039KMC8UP1', 'A2IMJV0CQMZLGC', 'A2INWR0T7A7UN5', 'A2IOBG1ERS4JP3', 'A2IRPQ7DXQ9YIN', 'A2J4WOR87ELFBH', 'A2JCBLTLYDPQLW', 'A2JEH2NKM1Z8CQ', 'A2JXZSR7R85KX4', 'A2K7XZCFYGZH0O', 'A2KO4HGLWB57LI', 'A2KVN4XKFJH0I8', 'A2LM47GK1W7RRR', 'A2LSOMD2X9KCCH', 'A2LYTBRWFQJMKM', 'A2M4YSOJZELJ6N', 'A2MAZK8XSIDXPF', 'A2MDIPJ7MS0MUJ', 'A2MGO3WV3SX7X', 'A2MLV3I5MMJ2RA', 'A2MPSHMC0U29AV', 'A2NI47L1B1RXSG', 'A2NJQZBE8TSUYO', 'A2NWTETCSLOEQN', 'A2O4DMC8M5JFHG', 'A2O823CIB99X95', 'A2OT3011J8E1ZP', 'A2OXIHJW4K9NKE', 'A2P6L9MQK99U36', 'A2PB6LYMRA7Z9V', 'A2PEJEOUE9MNA6', 'A2PIBK3EOG5TBK', 'A2PY1DBGV9FQA2', 'A2Q5UOQ4L1BOB9', 'A2QE1WIYFY0HAP', 'A2QP73U21FHJZI', 'A2QV1YJODH28QP', 'A2RAISC8UEEBK9', 'A2RDNAR2R66DKD', 'A2RXAD7UZ4VFT6', 'A2S47NK970GKD9', 'A2SMFKDH22FMA3', 'A2SOH4QHL5DZ6D', 'A2SQIQZUBEAJR3', 'A2SWEHEK2BMPM8', 'A2SYZ28NVJZ4R1', 'A2T0AMZZLASKKV', 'A2TCLY6N04N9D7', 'A2TW5FC72PI7SE', 'A2UAC8RKSPUIKH', 'A2UX00W1OX5A80', 'A2V88AD0XHE2IE', 'A2VC9R3XCFOEP1', 'A2VLCD1OWKXBW0', 'A2VTFDQ1DZN7UI', 'A2WHTNQ939BS71', 'A2WQGKM49J8UYT', 'A2WX2YLLHJDLX7', 'A2X4BZH61VJH5M', 'A2XEM0Y2PBNYK3', 'A2XFJ8CTY7VDNN', 'A2XTIQTNDTY6IA', 'A2XVM7UW32TYJ4', 'A2XY3CJ3ZCAD03', 'A2XYR0XUSOOBKN', 'A2Y1J1AKXDLR1', 'A2Y88AU2Y58W78', 'A2Z6RKQQUX4RJA', 'A2ZBZF2MUG5BMT', 'A2ZFTLMOAS9YS9', 'A2ZIIOGLNJDGAW', 'A2ZKSKEG5ADC67', 'A2ZZKY1V6M940H', 'A31LANQ03TDCXY', 'A323D529OO2E1G', 'A3254BNN69CL47', 'A327I3S4ZCZYBV', 'A32D5I46E15TEC', 'A32H6TQKJ1PQTP', 'A32KYN14BUANDF', 'A32OQFYMJ18HD6', 'A333LLJ35S8DVV', 'A33M6H443E78K3', 'A33S6R9E8SJQBP', 'A34DAQYDWYMVSG', 'A35F9VHYWAFR8J', 'A35F9XOEGELEWC', 'A35PB7968I55RI', 'A35RIL0AVMMXXL', 'A35Y5NLC3UEUQD', 'A367NSWV6NUSL1', 'A36I89SEZ432XE', 'A375WSDCO30KT9', 'A37G41T4DD51AH', 'A37M369VIVDDVJ', 'A37OPVPXMWHJJK', 'A37WMXX147RL1X', 'A37XPPIGUTR4LE', 'A388NSX468EY1E', 'A38GODWWMRN5IP', 'A38J6ZI0XZOY54', 'A38KP6TI3BUIM6', 'A38KUK8INKLRVW', 'A38OH5OTHDIENK', 'A38QGF4YG5YLUX', 'A3909LKTROS8XZ', 'A3961EO6PXRSV4', 'A39LZUDABR584J', 'A39PTGNQVCNU44', 'A39VI1UOID3TYE', 'A39YNT3CHM2I0Z', 'A3A3FMJO4E1E16', 'A3B99K4E030SZQ', 'A3BE6JK97CYAGA', 'A3BLE5G96342IP', 'A3BNG9PTUPB4QO', 'A3BPFL7PM0EX1K', 'A3BT1WLPENXMD6', 'A3BU92XQ2M0FQV', 'A3BWTFXS9CXVAE', 'A3BXCNI6BG5GCW', 'A3C2F0Y7G5FRW3', 'A3CBKKG14IB1KH', 'A3CQ0NMUJ9TODP', 'A3CUAESGA4K7FU', 'A3CXM8XQ5Q1KPP', 'A3D0FFKCWXN2LR', 'A3D1IGUMS62SNU', 'A3D1VPTQGDS7H3', 'A3D4BNTGWVUMYY', 'A3DKARAF791Z5X', 'A3DTSBINBC9T1Y', 'A3DXQ86N43AUK3', 'A3DXW3542E4QUC', 'A3E9HGSGQCU4CT', 'A3EAHHQ7KV8LFG', 'A3EJS66CXBQLE8', 'A3ENBUF1TIQR5K', 'A3EZHDCUB7I4KM', 'A3F1C4MOB3X5XL', 'A3F6V5A2SFES04', 'A3FDEHXOYLD1AC', 'A3FGDP5PT4SPLK', 'A3FGWJLDNTJWED', 'A3G1X7LFBAPCUJ', 'A3GCKFO3G4AHLF', 'A3GGSN44XCR1LP', 'A3GPMU8E282AUW', 'A3GRQ9WMP4OXFE', 'A3GWKJFBX8ZKT6', 'A3H8Z7JS7XJHJJ', 'A3HRUR5VRFZ09F', 'A3IGRPW3T3WYYQ', 'A3J1T4IGQLKKMB', 'A3J9IGXNOJR2BL', 'A3JA23Z053GQH', 'A3JCDPKW3RY4RN', 'A3JEQJCEMX20GI', 'A3KFRJBKYYNED7', 'A3KS7QCK708PRV', 'A3KYSCD09GNSUT', 'A3LA1YKU7MU28G', 'A3LEZ2F3IJC8PI', 'A3LIUDVZL87BJ1', 'A3LW4UWD5IH59X', 'A3LX43D34SINN3', 'A3LZ31BL10WT5Y', 'A3MAKZCODKKTYI', 'A3MFCMTXMF9B6W', 'A3MKAAS1OCULM6', 'A3MOSFTVDLAPDQ', 'A3MSPZTFP55OAG', 'A3MYAEQWFLNGT7', 'A3N4SR54KR77RK', 'A3NVFNLI1D4JUI', 'A3NYG8M131X9CM', 'A3OAQJCQBNF2JV', 'A3OCZRK8OEGZKL', 'A3OIDZP7AI0URM', 'A3OVOP3ZAF1EZ2', 'A3P3RV0CUR0VRQ', 'A3P8Z0J9AH92IZ', 'A3PJ22YDBOO8DN', 'A3PLMGKX9OQWOY', 'A3QL4UXK2Z5Q7T', 'A3QLWWO4V4PFMJ', 'A3QUUP6DYHF9YC', 'A3R7ZWTFN19KIX', 'A3RCVP2TSCL409', 'A3RUEIK67SFBFQ', 'A3SG2GXNRU6AO8', 'A3SL5YEUG12X9A', 'A3SME2XHYE99M5', 'A3T0BPK8JD6MD5', 'A3T2OTYYUYGLP0', 'A3T35MARIMRX9M', 'A3T9MTY43BVAL8', 'A3T9WXXE7EWNT8', 'A3TELGW4O61A61', 'A3TGG91X7W9SE8', 'A3TSVNG02WZYSW', 'A3U32YT7BSZ0KJ', 'A3UAJ5O4VR3IQ3', 'A3UBQFB24OY57', 'A3UCBR5T51RVRF', 'A3URWO9TFNH3IW', 'A3V81XSQIPRKO8', 'A3V9LE9I6Z5AF3', 'A3VEZWV624JM4O', 'A3VFDFSQ8X74WJ', 'A3VXSKW11C3301', 'A4INUX2JA7KE2', 'A4IQXCCXDEAKW', 'A4PZHPMLBS8T3', 'A4SRPWVKZ8MBC', 'A4V3S90H5OZTV', 'A4VQ44JM97RBL', 'A5ECS1R7F1TUD', 'A5LV53PMV1X6R', 'A674HJEQGJ5R9', 'A679PFWSVAY0B', 'A6IX0T5Z4NEXG', 'A6JVX3BIR03UT', 'A6P34Q7M983DN', 'A72IXFDV3HVU6', 'A74XHLD33IB9S', 'A7EG6541KYNIU', 'A7HS9Y95Y9BI6', 'A7JUHUYLXIUVQ', 'A7KQ3EGH8QTDS', 'A7SILTHEWXQ8T', 'A7Y4ETTLARUGI', 'A7Z2BG3284EE8', 'A8FMILLDHAI14', 'A8JUUA4GHIAMI', 'A8LVPPXFVYGVU', 'A8ZUDRNPFB0FU', 'A9BXB2XYAW169', 'A9LOWDS5H848B', 'AA3TPN2ZXE9TE', 'AAD3T3WYTF1BR', 'AAJ1IA9SFH4IG', 'AAT4JCLA3VGRZ', 'ABNE90UVC4BMT', 'ABSMQNX2PDSWH', 'ABWCUEDFH8W5H', 'ABYOL1GQA39OB', 'AC0X1OVDMJX9', 'ACCY5NWUNEC87', 'ACE1ZIOI3U6PY', 'ACLAKWV2EFFB5', 'AD9O852KPYLHY', 'ADDXT6NXD9GQ7', 'ADG8D8X6P9X7M', 'ADR4IE33O06IJ', 'ADV1MNMPVS17V', 'ADYRHTPM2T2SE', 'AE6VHWVRXHU19', 'AEKJTREHL41OE', 'AEP7KPEZWI7VY', 'AETOYW0R5VN0X', 'AEZBSOFLB44RG', 'AFE9H6ABXM735', 'AFMQ7BBR4FYMB', 'AFY8EIWAT6H8J', 'AG0867QGE3R2B', 'AG3T3ILPXFL3H', 'AG74ZKO3BG57J', 'AGORXWI6K2RIR', 'AGRZQOBCF8H87', 'AGTD0T9R78YLG', 'AGYIYIVZHBI60', 'AHGNU4UWGATOH', 'AHYRXYR235TWH', 'AIB7HX2UC3WHM', 'AITF34BGBMVJJ', 'AIU7HYQIC5D95', 'AJHSB0LT8NKP4', 'AJYMJEC6B7V52', 'AK4VANLR5UK95', 'AK7YIZE6ZZ1N9', 'AKHSKD91MQ9DP', 'ALUZH689LQE6K', 'ALWLZC3GRRXPN', 'AM1KUDVTKXIAQ', 'AM9HBLGAPZQR7', 'AMA98TY969A1T', 'AMLDY4QY4HV0D', 'AMVZ9HW23Y42N', 'AN3QZR3OD7SFO', 'ANC6FN6T8JBB2', 'ANDGVKQ15NCZM', 'ANFUWUOC7EJKR', 'ANG7MOYBTWQE6', 'ANJ6Y9G0B4TM8', 'ANR73TPVBCQ9K', 'ANT034IX5ZPI9', 'AOB2Y1KJQG7K7', 'AONHG4PDUQ0D6', 'APA9SALOTTBM6', 'APARJQGAD0J4C', 'AQ5PKYF0FJA4B', 'AQCQQYEUHUX3M', 'AQYL4TDY2HU8Z', 'AR9Y0CM5B174', 'ARLN791TA1RV7', 'AS8T77HTF9IHW', 'ASGIVOW34XNQS', 'ATJRZUXNWAWIK', 'ATP2UCHTR7QMZ', 'ATR9J7TYR1KVL', 'ATVP6QJLS27EN', 'AU03W1V42994X', 'AU1BVXGV2KO8I', 'AU2JWZMFEVAH5', 'AU3MVNMVFSIM', 'AUKMWTDK16PAP', 'AUWJT1DM7SG2D', 'AV0O5NWF2NKDF', 'AV2MC7NNTMKTF', 'AVC89473DX6XU', 'AVFBQDR2KRNK6', 'AVIMJH2FF6QCH', 'AVO5FL5T9EZSR', 'AVQ0V2MIW2Z5K', 'AVWSUUBWD3RK4', 'AWJFUVK3064HX', 'AXM9OKKHRR4RP', 'AXPZI9N8HVHYO', 'AXQ57AZLKLPCQ', 'AXQS1B3WVRHQV', 'AXS7NH3GDN7EE', 'AY4F95T0JSTZ2', 'AYG63OK9TNBNP', 'AZE64W03EUJA4', 'AZECTAHZICNW5', 'AZEGZXCFTLSQB', 'AZEKC7DEXXJD7', 'AZFGSCB0S59LQ', 'AZHS42HV4FKKA']\n",
            "3 13\n",
            "1\n",
            "590\n"
          ]
        },
        {
          "output_type": "execute_result",
          "data": {
            "text/plain": [
              "0.001694915254237288"
            ]
          },
          "metadata": {},
          "execution_count": 28
        }
      ]
    },
    {
      "cell_type": "code",
      "execution_count": null,
      "id": "53055ac2",
      "metadata": {
        "id": "53055ac2",
        "colab": {
          "base_uri": "https://localhost:8080/"
        },
        "outputId": "a59eb03e-feca-4658-cd45-c64b5f8b29b3"
      },
      "outputs": [
        {
          "output_type": "stream",
          "name": "stdout",
          "text": [
            "data converted\n",
            "data inverted\n",
            "sim data prepared\n",
            "get 50 recommendation items for user: ['A100XQFWKQ30O2', 'A103T1QOGFCSEH', 'A106UKKSJ2KXPF', 'A10A7GV4D5A11V', 'A1119JJ37ZLB8R', 'A113UOOLBSZN52', 'A12M4U7WK4ALCR', 'A12T8YTW6VWT7S', 'A1364JXGKB46MM', 'A137DALOQFKBTI', 'A13FEZ3WV7S2EY', 'A13IV4I1B0RXMG', 'A13JU88JAHN72I', 'A13K55R6VH1OOD', 'A13P7VFU075A', 'A13SWYE4QLB6NG', 'A13ZTQ0Q4ATA41', 'A142EDN04OD62U', 'A142I22FIC8MZK', 'A14834QTII5TLT', 'A14A447VPACTBC', 'A14AP6MN5XO6LB', 'A14CLF25IX25US', 'A14LYXC3HTBAHI', 'A14VUW4KZ34EOE', 'A14Y32P26G9YL', 'A157T25PBS7MX4', 'A15HZDSERD85C8', 'A15JJ8J1FGADIX', 'A15ZCL70JXXH89', 'A1617KN2IAWZ6J', 'A16E0O88262HKA', 'A16NSZ58PTVIYF', 'A16UGDXRTDLJG5', 'A16X9HR3UFQQXY', 'A16Y7V1CZCWKFV', 'A174YOBOSW9WDN', 'A1786SKRAJXH86', 'A17K2BUZ20WD2', 'A17LYRFV645L0V', 'A18LNGVXDZBTUR', 'A19503XX7GU6J2', 'A19HVHRZDYFEOP', 'A19JM38B861BO4', 'A19KGY3W1P0MHT', 'A19KJPOF3QOJ24', 'A19U5RT4Q8Q1T6', 'A1AQNQUNX8B6JT', 'A1ARU0IN6RUFFD', 'A1BB4635KSKDMV', 'A1BCC7X6KRTBG0', 'A1BPJ56BXENC7', 'A1C0RI6W65FC8B', 'A1C60LJGZVEK27', 'A1CB2SMS3TD44Z', 'A1CNSU8P68CPLT', 'A1CSDWBYUJBCJZ', 'A1CTNNVIYHO25P', 'A1CTQF97HFYOZB', 'A1D5C2H9UFZHPU', 'A1D5UVH72Z6NJ1', 'A1DAUVZRVSLLNW', 'A1DCZ9882PXLVB', 'A1DZ63D35BNT86', 'A1E0QCKB4R2X8X', 'A1E76OZZ5YUWVA', 'A1EBHZPAYMILW9', 'A1EJVNGBY5GM5I', 'A1ER0356V2DSKW', 'A1EY751AUVO5NZ', 'A1EZFX1TRHSAJX', 'A1F08GM4B97FV', 'A1F6EFMBK795DJ', 'A1FC8Y896NZP4T', 'A1FKIAKVOBNN7Y', 'A1FKUBRPLG6Y8I', 'A1G2HL4W8B3TA0', 'A1G8Z9IKJ0BD1M', 'A1GEJ55RJGD7JW', 'A1GIYGD23YIDTN', 'A1GLG2IZBZHRAJ', 'A1H1T82FPO20DN', 'A1H7JDZ9BKTKGC', 'A1HBROZPSV5KT6', 'A1HBXMUIHTAIU2', 'A1I32A4SA9W2L2', 'A1IDJ6KR8CQV9I', 'A1II0TTUUE2C7Y', 'A1ILEZFIVOU0EP', 'A1ITJ5M7I9G7FR', 'A1IWTXM1SJWHDN', 'A1J2NTTE63GNG2', 'A1JRREJ5D62LFF', 'A1KGMTEXL70WF6', 'A1KWUQZJ1Z6MN2', 'A1LXJ8XCGNBXOF', 'A1M8YMS915ZK0B', 'A1NDRR3G9SJF18', 'A1NE6K8PXW780O', 'A1NEG0FRW5FDBL', 'A1NN82RWB6PXJW', 'A1NY67EVWD6CD6', 'A1OB41VQHXZ0R8', 'A1OJ2IXX8F7Q7X', 'A1OTIUDE7LWAGT', 'A1P1OHYJOOZX5P', 'A1PFDA9SL15S4O', 'A1PKBKALGLSX0Z', 'A1PMLXHE863GR6', 'A1PR178735XC70', 'A1PXO67EUM5HJQ', 'A1QHS58JVFLF3I', 'A1QPKRHCAOQVZ5', 'A1R2TTULP0Z2BM', 'A1R8GBYBJWWWU0', 'A1RAXJN2Q4V20X', 'A1RCMCAJR2LJA4', 'A1RE2XA5HQD1D3', 'A1RMLPJ1PF8LGV', 'A1RX2ODQRQZVSI', 'A1S3NMNTSO6GW', 'A1S6OQV823B53J', 'A1SA3N793WT2LM', 'A1SA932MLERVQY', 'A1SCZBXGPJ2615', 'A1SMXRCNRO4ZQM', 'A1T1N2585E1T0D', 'A1TEKLMF4V1X2C', 'A1TF44D9KYAD60', 'A1TGP1VTM3KCTI', 'A1TK5M6EM3GS3C', 'A1TO3GV14TGF2R', 'A1TP9JHTIY468V', 'A1UAOE8KO7Q1DZ', 'A1UDCDY6ZNE83T', 'A1UUNKRU1DTZTL', 'A1V0UJQ4XGAJ3H', 'A1VBZLO2JGYU1B', 'A1VC6YCAFKV6Q', 'A1VVEX78B2TYBX', 'A1VVQ2DFL0QLXF', 'A1VYWSQ2OXLH98', 'A1WEFBEJ7OHSVZ', 'A1WOX40GUAFDKW', 'A1WSZED2O5MA5T', 'A1XBJBT6HORBLA', 'A1XHN6JF8A8W69', 'A1XWCTARAQ0679', 'A1XZJ85PKMAZP0', 'A1YALF6PWOMS6S', 'A1YEO5KEW7M2GF', 'A1YQ33635DJEG5', 'A1YSAFP6T3JZ1C', 'A1YTPCNXQ2LJ5Z', 'A1YVXZK51DEDPC', 'A1Z3GE09RDY6O7', 'A1Z6IPI0G3QIUR', 'A1ZVXL7K0XY3S6', 'A1ZXYITUZM3Q6A', 'A202BVEB76NTMK', 'A205S0BTPEFI0I', 'A20MSUD02BETH2', 'A20P2XESU3G3EC', 'A20QY357E6SAF', 'A20SJ2793OUCPW', 'A20T7NNNUHH60H', 'A21JL9NVA7KEMC', 'A21M4N08F3EU5J', 'A21NUBJVBS230S', 'A21OELUKDF2E57', 'A21XQP90LEND9R', 'A21YO11OY4KATO', 'A220EHDBIGBL30', 'A224YJVNU30DVM', 'A22A1B25VBD0YO', 'A22EWIMT2GUTTL', 'A22EZJLTPINCFS', 'A22QJRB86RF6O1', 'A2320AUCHA95U2', 'A232IJ75I4KP9C', 'A23GTKDW92ZPP2', 'A23O1B8IVSYKMO', 'A23VR3KT0TPG83', 'A24HCM5QV0ZTJ5', 'A24ZE4O3OQMSP0', 'A255E6ZWUBMEJJ', 'A258D00BRNHJ77', 'A25TLD8KIU807H', 'A26434CRUTADT5', 'A26AT96096UOEZ', 'A26RKZDM4DK8OQ', 'A274IW68565M0U', 'A286OWYO1BDT52', 'A288UAQLON8FK2', 'A28E3FNV1BYC94', 'A28GO11F387SOX', 'A28H0PFALTML0I', 'A28OZKV4ZYZX42', 'A28P7FF1TVPG1K', 'A28Q7C1FAIZGLV', 'A29834GBB4DOP1', 'A29HQ60YC1RG1P', 'A29MENRU87PET0', 'A29PZKXDCQFTYW', 'A29SD3TFGX6Q34', 'A2A0MIOWIW2SB8', 'A2A8ECI6ABJBMA', 'A2AAQWBJJTK3E1', 'A2AE0E0H463YL6', 'A2APG6OZXU4QIZ', 'A2BDB427ROEP7H', 'A2BHJO8WOGMW6E', 'A2BOSA30FCF6G8', 'A2BU6N5956T9NH', 'A2BUZ308P92OYA', 'A2C1F859F9V1SL', 'A2C8YINPNRQOAU', 'A2CDQOF7WHUYKJ', 'A2CEEE0IK3LKN1', 'A2CZVE6ORV87C5', 'A2DD6RH1AF0PLI', 'A2DFOCWUKJX3PT', 'A2E8WG5GRZGMXU', 'A2ESQAPIGR2TJF', 'A2EUQ4ESAB2N6A', 'A2EZXF5YGYTOWN', 'A2F0VQQLSF558D', 'A2F3QV40SONN60', 'A2F95NSPD4XEEU', 'A2FA2J1JT12N7J', 'A2FFUJ5D4CMJ4L', 'A2FLLYV6Z8UQ26', 'A2G1XJ25DR7PVF', 'A2G5KJ0CZE65ZD', 'A2GFPTQ4VWDX96', 'A2GJLNRQTVUNOF', 'A2GOFJ3OZZUZ3H', 'A2GV0FE30O6M67', 'A2H3W11661MWDA', 'A2H7FD5GQMJXAQ', 'A2H7VSYLKGKLLJ', 'A2HFAX39PMLIGH', 'A2I4O72AAE1T1T', 'A2I868XUY96VWA', 'A2IK039KMC8UP1', 'A2IMJV0CQMZLGC', 'A2INWR0T7A7UN5', 'A2IOBG1ERS4JP3', 'A2IRPQ7DXQ9YIN', 'A2J4WOR87ELFBH', 'A2JCBLTLYDPQLW', 'A2JEH2NKM1Z8CQ', 'A2JXZSR7R85KX4', 'A2K7XZCFYGZH0O', 'A2KO4HGLWB57LI', 'A2KVN4XKFJH0I8', 'A2LM47GK1W7RRR', 'A2LSOMD2X9KCCH', 'A2LYTBRWFQJMKM', 'A2M4YSOJZELJ6N', 'A2MAZK8XSIDXPF', 'A2MDIPJ7MS0MUJ', 'A2MGO3WV3SX7X', 'A2MLV3I5MMJ2RA', 'A2MPSHMC0U29AV', 'A2NI47L1B1RXSG', 'A2NJQZBE8TSUYO', 'A2NWTETCSLOEQN', 'A2O4DMC8M5JFHG', 'A2O823CIB99X95', 'A2OT3011J8E1ZP', 'A2OXIHJW4K9NKE', 'A2P6L9MQK99U36', 'A2PB6LYMRA7Z9V', 'A2PEJEOUE9MNA6', 'A2PIBK3EOG5TBK', 'A2PY1DBGV9FQA2', 'A2Q5UOQ4L1BOB9', 'A2QE1WIYFY0HAP', 'A2QP73U21FHJZI', 'A2QV1YJODH28QP', 'A2RAISC8UEEBK9', 'A2RDNAR2R66DKD', 'A2RXAD7UZ4VFT6', 'A2S47NK970GKD9', 'A2SMFKDH22FMA3', 'A2SOH4QHL5DZ6D', 'A2SQIQZUBEAJR3', 'A2SWEHEK2BMPM8', 'A2SYZ28NVJZ4R1', 'A2T0AMZZLASKKV', 'A2TCLY6N04N9D7', 'A2TW5FC72PI7SE', 'A2UAC8RKSPUIKH', 'A2UX00W1OX5A80', 'A2V88AD0XHE2IE', 'A2VC9R3XCFOEP1', 'A2VLCD1OWKXBW0', 'A2VTFDQ1DZN7UI', 'A2WHTNQ939BS71', 'A2WQGKM49J8UYT', 'A2WX2YLLHJDLX7', 'A2X4BZH61VJH5M', 'A2XEM0Y2PBNYK3', 'A2XFJ8CTY7VDNN', 'A2XTIQTNDTY6IA', 'A2XVM7UW32TYJ4', 'A2XY3CJ3ZCAD03', 'A2XYR0XUSOOBKN', 'A2Y1J1AKXDLR1', 'A2Y88AU2Y58W78', 'A2Z6RKQQUX4RJA', 'A2ZBZF2MUG5BMT', 'A2ZFTLMOAS9YS9', 'A2ZIIOGLNJDGAW', 'A2ZKSKEG5ADC67', 'A2ZZKY1V6M940H', 'A31LANQ03TDCXY', 'A323D529OO2E1G', 'A3254BNN69CL47', 'A327I3S4ZCZYBV', 'A32D5I46E15TEC', 'A32H6TQKJ1PQTP', 'A32KYN14BUANDF', 'A32OQFYMJ18HD6', 'A333LLJ35S8DVV', 'A33M6H443E78K3', 'A33S6R9E8SJQBP', 'A34DAQYDWYMVSG', 'A35F9VHYWAFR8J', 'A35F9XOEGELEWC', 'A35PB7968I55RI', 'A35RIL0AVMMXXL', 'A35Y5NLC3UEUQD', 'A367NSWV6NUSL1', 'A36I89SEZ432XE', 'A375WSDCO30KT9', 'A37G41T4DD51AH', 'A37M369VIVDDVJ', 'A37OPVPXMWHJJK', 'A37WMXX147RL1X', 'A37XPPIGUTR4LE', 'A388NSX468EY1E', 'A38GODWWMRN5IP', 'A38J6ZI0XZOY54', 'A38KP6TI3BUIM6', 'A38KUK8INKLRVW', 'A38OH5OTHDIENK', 'A38QGF4YG5YLUX', 'A3909LKTROS8XZ', 'A3961EO6PXRSV4', 'A39LZUDABR584J', 'A39PTGNQVCNU44', 'A39VI1UOID3TYE', 'A39YNT3CHM2I0Z', 'A3A3FMJO4E1E16', 'A3B99K4E030SZQ', 'A3BE6JK97CYAGA', 'A3BLE5G96342IP', 'A3BNG9PTUPB4QO', 'A3BPFL7PM0EX1K', 'A3BT1WLPENXMD6', 'A3BU92XQ2M0FQV', 'A3BWTFXS9CXVAE', 'A3BXCNI6BG5GCW', 'A3C2F0Y7G5FRW3', 'A3CBKKG14IB1KH', 'A3CQ0NMUJ9TODP', 'A3CUAESGA4K7FU', 'A3CXM8XQ5Q1KPP', 'A3D0FFKCWXN2LR', 'A3D1IGUMS62SNU', 'A3D1VPTQGDS7H3', 'A3D4BNTGWVUMYY', 'A3DKARAF791Z5X', 'A3DTSBINBC9T1Y', 'A3DXQ86N43AUK3', 'A3DXW3542E4QUC', 'A3E9HGSGQCU4CT', 'A3EAHHQ7KV8LFG', 'A3EJS66CXBQLE8', 'A3ENBUF1TIQR5K', 'A3EZHDCUB7I4KM', 'A3F1C4MOB3X5XL', 'A3F6V5A2SFES04', 'A3FDEHXOYLD1AC', 'A3FGDP5PT4SPLK', 'A3FGWJLDNTJWED', 'A3G1X7LFBAPCUJ', 'A3GCKFO3G4AHLF', 'A3GGSN44XCR1LP', 'A3GPMU8E282AUW', 'A3GRQ9WMP4OXFE', 'A3GWKJFBX8ZKT6', 'A3H8Z7JS7XJHJJ', 'A3HRUR5VRFZ09F', 'A3IGRPW3T3WYYQ', 'A3J1T4IGQLKKMB', 'A3J9IGXNOJR2BL', 'A3JA23Z053GQH', 'A3JCDPKW3RY4RN', 'A3JEQJCEMX20GI', 'A3KFRJBKYYNED7', 'A3KS7QCK708PRV', 'A3KYSCD09GNSUT', 'A3LA1YKU7MU28G', 'A3LEZ2F3IJC8PI', 'A3LIUDVZL87BJ1', 'A3LW4UWD5IH59X', 'A3LX43D34SINN3', 'A3LZ31BL10WT5Y', 'A3MAKZCODKKTYI', 'A3MFCMTXMF9B6W', 'A3MKAAS1OCULM6', 'A3MOSFTVDLAPDQ', 'A3MSPZTFP55OAG', 'A3MYAEQWFLNGT7', 'A3N4SR54KR77RK', 'A3NVFNLI1D4JUI', 'A3NYG8M131X9CM', 'A3OAQJCQBNF2JV', 'A3OCZRK8OEGZKL', 'A3OIDZP7AI0URM', 'A3OVOP3ZAF1EZ2', 'A3P3RV0CUR0VRQ', 'A3P8Z0J9AH92IZ', 'A3PJ22YDBOO8DN', 'A3PLMGKX9OQWOY', 'A3QL4UXK2Z5Q7T', 'A3QLWWO4V4PFMJ', 'A3QUUP6DYHF9YC', 'A3R7ZWTFN19KIX', 'A3RCVP2TSCL409', 'A3RUEIK67SFBFQ', 'A3SG2GXNRU6AO8', 'A3SL5YEUG12X9A', 'A3SME2XHYE99M5', 'A3T0BPK8JD6MD5', 'A3T2OTYYUYGLP0', 'A3T35MARIMRX9M', 'A3T9MTY43BVAL8', 'A3T9WXXE7EWNT8', 'A3TELGW4O61A61', 'A3TGG91X7W9SE8', 'A3TSVNG02WZYSW', 'A3U32YT7BSZ0KJ', 'A3UAJ5O4VR3IQ3', 'A3UBQFB24OY57', 'A3UCBR5T51RVRF', 'A3URWO9TFNH3IW', 'A3V81XSQIPRKO8', 'A3V9LE9I6Z5AF3', 'A3VEZWV624JM4O', 'A3VFDFSQ8X74WJ', 'A3VXSKW11C3301', 'A4INUX2JA7KE2', 'A4IQXCCXDEAKW', 'A4PZHPMLBS8T3', 'A4SRPWVKZ8MBC', 'A4V3S90H5OZTV', 'A4VQ44JM97RBL', 'A5ECS1R7F1TUD', 'A5LV53PMV1X6R', 'A674HJEQGJ5R9', 'A679PFWSVAY0B', 'A6IX0T5Z4NEXG', 'A6JVX3BIR03UT', 'A6P34Q7M983DN', 'A72IXFDV3HVU6', 'A74XHLD33IB9S', 'A7EG6541KYNIU', 'A7HS9Y95Y9BI6', 'A7JUHUYLXIUVQ', 'A7KQ3EGH8QTDS', 'A7SILTHEWXQ8T', 'A7Y4ETTLARUGI', 'A7Z2BG3284EE8', 'A8FMILLDHAI14', 'A8JUUA4GHIAMI', 'A8LVPPXFVYGVU', 'A8ZUDRNPFB0FU', 'A9BXB2XYAW169', 'A9LOWDS5H848B', 'AA3TPN2ZXE9TE', 'AAD3T3WYTF1BR', 'AAJ1IA9SFH4IG', 'AAT4JCLA3VGRZ', 'ABNE90UVC4BMT', 'ABSMQNX2PDSWH', 'ABWCUEDFH8W5H', 'ABYOL1GQA39OB', 'AC0X1OVDMJX9', 'ACCY5NWUNEC87', 'ACE1ZIOI3U6PY', 'ACLAKWV2EFFB5', 'AD9O852KPYLHY', 'ADDXT6NXD9GQ7', 'ADG8D8X6P9X7M', 'ADR4IE33O06IJ', 'ADV1MNMPVS17V', 'ADYRHTPM2T2SE', 'AE6VHWVRXHU19', 'AEKJTREHL41OE', 'AEP7KPEZWI7VY', 'AETOYW0R5VN0X', 'AEZBSOFLB44RG', 'AFE9H6ABXM735', 'AFMQ7BBR4FYMB', 'AFY8EIWAT6H8J', 'AG0867QGE3R2B', 'AG3T3ILPXFL3H', 'AG74ZKO3BG57J', 'AGORXWI6K2RIR', 'AGRZQOBCF8H87', 'AGTD0T9R78YLG', 'AGYIYIVZHBI60', 'AHGNU4UWGATOH', 'AHYRXYR235TWH', 'AIB7HX2UC3WHM', 'AITF34BGBMVJJ', 'AIU7HYQIC5D95', 'AJHSB0LT8NKP4', 'AJYMJEC6B7V52', 'AK4VANLR5UK95', 'AK7YIZE6ZZ1N9', 'AKHSKD91MQ9DP', 'ALUZH689LQE6K', 'ALWLZC3GRRXPN', 'AM1KUDVTKXIAQ', 'AM9HBLGAPZQR7', 'AMA98TY969A1T', 'AMLDY4QY4HV0D', 'AMVZ9HW23Y42N', 'AN3QZR3OD7SFO', 'ANC6FN6T8JBB2', 'ANDGVKQ15NCZM', 'ANFUWUOC7EJKR', 'ANG7MOYBTWQE6', 'ANJ6Y9G0B4TM8', 'ANR73TPVBCQ9K', 'ANT034IX5ZPI9', 'AOB2Y1KJQG7K7', 'AONHG4PDUQ0D6', 'APA9SALOTTBM6', 'APARJQGAD0J4C', 'AQ5PKYF0FJA4B', 'AQCQQYEUHUX3M', 'AQYL4TDY2HU8Z', 'AR9Y0CM5B174', 'ARLN791TA1RV7', 'AS8T77HTF9IHW', 'ASGIVOW34XNQS', 'ATJRZUXNWAWIK', 'ATP2UCHTR7QMZ', 'ATR9J7TYR1KVL', 'ATVP6QJLS27EN', 'AU03W1V42994X', 'AU1BVXGV2KO8I', 'AU2JWZMFEVAH5', 'AU3MVNMVFSIM', 'AUKMWTDK16PAP', 'AUWJT1DM7SG2D', 'AV0O5NWF2NKDF', 'AV2MC7NNTMKTF', 'AVC89473DX6XU', 'AVFBQDR2KRNK6', 'AVIMJH2FF6QCH', 'AVO5FL5T9EZSR', 'AVQ0V2MIW2Z5K', 'AVWSUUBWD3RK4', 'AWJFUVK3064HX', 'AXM9OKKHRR4RP', 'AXPZI9N8HVHYO', 'AXQ57AZLKLPCQ', 'AXQS1B3WVRHQV', 'AXS7NH3GDN7EE', 'AY4F95T0JSTZ2', 'AYG63OK9TNBNP', 'AZE64W03EUJA4', 'AZECTAHZICNW5', 'AZEGZXCFTLSQB', 'AZEKC7DEXXJD7', 'AZFGSCB0S59LQ', 'AZHS42HV4FKKA']\n"
          ]
        },
        {
          "output_type": "execute_result",
          "data": {
            "text/plain": [
              "0.001694915254237288"
            ]
          },
          "metadata": {},
          "execution_count": 35
        }
      ],
      "source": [
        "ratings_by_user = recommender(ratings_trainings, metadata_clean, users, k=50, hot=False)\n",
        "evaluate(ratings_testings_by_user, ratings_by_user)"
      ]
    },
    {
      "cell_type": "code",
      "source": [
        "for s in range(6):\n",
        "    ratings_by_user = recommender(ratings_trainings, metadata_clean, users, hot=False, score=s)\n",
        "    print(s, evaluate(ratings_testings_by_user, ratings_by_user))"
      ],
      "metadata": {
        "colab": {
          "base_uri": "https://localhost:8080/"
        },
        "id": "tpdYEjtCuf0t",
        "outputId": "f05514dc-379a-4c11-f838-79a792172ad2"
      },
      "id": "tpdYEjtCuf0t",
      "execution_count": null,
      "outputs": [
        {
          "output_type": "stream",
          "name": "stdout",
          "text": [
            "get 10 recommendation items for user: ['A100XQFWKQ30O2', 'A103T1QOGFCSEH', 'A106UKKSJ2KXPF', 'A10A7GV4D5A11V', 'A1119JJ37ZLB8R', 'A113UOOLBSZN52', 'A12M4U7WK4ALCR', 'A12T8YTW6VWT7S', 'A1364JXGKB46MM', 'A137DALOQFKBTI', 'A13FEZ3WV7S2EY', 'A13IV4I1B0RXMG', 'A13JU88JAHN72I', 'A13K55R6VH1OOD', 'A13P7VFU075A', 'A13SWYE4QLB6NG', 'A13ZTQ0Q4ATA41', 'A142EDN04OD62U', 'A142I22FIC8MZK', 'A14834QTII5TLT', 'A14A447VPACTBC', 'A14AP6MN5XO6LB', 'A14CLF25IX25US', 'A14LYXC3HTBAHI', 'A14VUW4KZ34EOE', 'A14Y32P26G9YL', 'A157T25PBS7MX4', 'A15HZDSERD85C8', 'A15JJ8J1FGADIX', 'A15ZCL70JXXH89', 'A1617KN2IAWZ6J', 'A16E0O88262HKA', 'A16NSZ58PTVIYF', 'A16UGDXRTDLJG5', 'A16X9HR3UFQQXY', 'A16Y7V1CZCWKFV', 'A174YOBOSW9WDN', 'A1786SKRAJXH86', 'A17K2BUZ20WD2', 'A17LYRFV645L0V', 'A18LNGVXDZBTUR', 'A19503XX7GU6J2', 'A19HVHRZDYFEOP', 'A19JM38B861BO4', 'A19KGY3W1P0MHT', 'A19KJPOF3QOJ24', 'A19U5RT4Q8Q1T6', 'A1AQNQUNX8B6JT', 'A1ARU0IN6RUFFD', 'A1BB4635KSKDMV', 'A1BCC7X6KRTBG0', 'A1BPJ56BXENC7', 'A1C0RI6W65FC8B', 'A1C60LJGZVEK27', 'A1CB2SMS3TD44Z', 'A1CNSU8P68CPLT', 'A1CSDWBYUJBCJZ', 'A1CTNNVIYHO25P', 'A1CTQF97HFYOZB', 'A1D5C2H9UFZHPU', 'A1D5UVH72Z6NJ1', 'A1DAUVZRVSLLNW', 'A1DCZ9882PXLVB', 'A1DZ63D35BNT86', 'A1E0QCKB4R2X8X', 'A1E76OZZ5YUWVA', 'A1EBHZPAYMILW9', 'A1EJVNGBY5GM5I', 'A1ER0356V2DSKW', 'A1EY751AUVO5NZ', 'A1EZFX1TRHSAJX', 'A1F08GM4B97FV', 'A1F6EFMBK795DJ', 'A1FC8Y896NZP4T', 'A1FKIAKVOBNN7Y', 'A1FKUBRPLG6Y8I', 'A1G2HL4W8B3TA0', 'A1G8Z9IKJ0BD1M', 'A1GEJ55RJGD7JW', 'A1GIYGD23YIDTN', 'A1GLG2IZBZHRAJ', 'A1H1T82FPO20DN', 'A1H7JDZ9BKTKGC', 'A1HBROZPSV5KT6', 'A1HBXMUIHTAIU2', 'A1I32A4SA9W2L2', 'A1IDJ6KR8CQV9I', 'A1II0TTUUE2C7Y', 'A1ILEZFIVOU0EP', 'A1ITJ5M7I9G7FR', 'A1IWTXM1SJWHDN', 'A1J2NTTE63GNG2', 'A1JRREJ5D62LFF', 'A1KGMTEXL70WF6', 'A1KWUQZJ1Z6MN2', 'A1LXJ8XCGNBXOF', 'A1M8YMS915ZK0B', 'A1NDRR3G9SJF18', 'A1NE6K8PXW780O', 'A1NEG0FRW5FDBL', 'A1NN82RWB6PXJW', 'A1NY67EVWD6CD6', 'A1OB41VQHXZ0R8', 'A1OJ2IXX8F7Q7X', 'A1OTIUDE7LWAGT', 'A1P1OHYJOOZX5P', 'A1PFDA9SL15S4O', 'A1PKBKALGLSX0Z', 'A1PMLXHE863GR6', 'A1PR178735XC70', 'A1PXO67EUM5HJQ', 'A1QHS58JVFLF3I', 'A1QPKRHCAOQVZ5', 'A1R2TTULP0Z2BM', 'A1R8GBYBJWWWU0', 'A1RAXJN2Q4V20X', 'A1RCMCAJR2LJA4', 'A1RE2XA5HQD1D3', 'A1RMLPJ1PF8LGV', 'A1RX2ODQRQZVSI', 'A1S3NMNTSO6GW', 'A1S6OQV823B53J', 'A1SA3N793WT2LM', 'A1SA932MLERVQY', 'A1SCZBXGPJ2615', 'A1SMXRCNRO4ZQM', 'A1T1N2585E1T0D', 'A1TEKLMF4V1X2C', 'A1TF44D9KYAD60', 'A1TGP1VTM3KCTI', 'A1TK5M6EM3GS3C', 'A1TO3GV14TGF2R', 'A1TP9JHTIY468V', 'A1UAOE8KO7Q1DZ', 'A1UDCDY6ZNE83T', 'A1UUNKRU1DTZTL', 'A1V0UJQ4XGAJ3H', 'A1VBZLO2JGYU1B', 'A1VC6YCAFKV6Q', 'A1VVEX78B2TYBX', 'A1VVQ2DFL0QLXF', 'A1VYWSQ2OXLH98', 'A1WEFBEJ7OHSVZ', 'A1WOX40GUAFDKW', 'A1WSZED2O5MA5T', 'A1XBJBT6HORBLA', 'A1XHN6JF8A8W69', 'A1XWCTARAQ0679', 'A1XZJ85PKMAZP0', 'A1YALF6PWOMS6S', 'A1YEO5KEW7M2GF', 'A1YQ33635DJEG5', 'A1YSAFP6T3JZ1C', 'A1YTPCNXQ2LJ5Z', 'A1YVXZK51DEDPC', 'A1Z3GE09RDY6O7', 'A1Z6IPI0G3QIUR', 'A1ZVXL7K0XY3S6', 'A1ZXYITUZM3Q6A', 'A202BVEB76NTMK', 'A205S0BTPEFI0I', 'A20MSUD02BETH2', 'A20P2XESU3G3EC', 'A20QY357E6SAF', 'A20SJ2793OUCPW', 'A20T7NNNUHH60H', 'A21JL9NVA7KEMC', 'A21M4N08F3EU5J', 'A21NUBJVBS230S', 'A21OELUKDF2E57', 'A21XQP90LEND9R', 'A21YO11OY4KATO', 'A220EHDBIGBL30', 'A224YJVNU30DVM', 'A22A1B25VBD0YO', 'A22EWIMT2GUTTL', 'A22EZJLTPINCFS', 'A22QJRB86RF6O1', 'A2320AUCHA95U2', 'A232IJ75I4KP9C', 'A23GTKDW92ZPP2', 'A23O1B8IVSYKMO', 'A23VR3KT0TPG83', 'A24HCM5QV0ZTJ5', 'A24ZE4O3OQMSP0', 'A255E6ZWUBMEJJ', 'A258D00BRNHJ77', 'A25TLD8KIU807H', 'A26434CRUTADT5', 'A26AT96096UOEZ', 'A26RKZDM4DK8OQ', 'A274IW68565M0U', 'A286OWYO1BDT52', 'A288UAQLON8FK2', 'A28E3FNV1BYC94', 'A28GO11F387SOX', 'A28H0PFALTML0I', 'A28OZKV4ZYZX42', 'A28P7FF1TVPG1K', 'A28Q7C1FAIZGLV', 'A29834GBB4DOP1', 'A29HQ60YC1RG1P', 'A29MENRU87PET0', 'A29PZKXDCQFTYW', 'A29SD3TFGX6Q34', 'A2A0MIOWIW2SB8', 'A2A8ECI6ABJBMA', 'A2AAQWBJJTK3E1', 'A2AE0E0H463YL6', 'A2APG6OZXU4QIZ', 'A2BDB427ROEP7H', 'A2BHJO8WOGMW6E', 'A2BOSA30FCF6G8', 'A2BU6N5956T9NH', 'A2BUZ308P92OYA', 'A2C1F859F9V1SL', 'A2C8YINPNRQOAU', 'A2CDQOF7WHUYKJ', 'A2CEEE0IK3LKN1', 'A2CZVE6ORV87C5', 'A2DD6RH1AF0PLI', 'A2DFOCWUKJX3PT', 'A2E8WG5GRZGMXU', 'A2ESQAPIGR2TJF', 'A2EUQ4ESAB2N6A', 'A2EZXF5YGYTOWN', 'A2F0VQQLSF558D', 'A2F3QV40SONN60', 'A2F95NSPD4XEEU', 'A2FA2J1JT12N7J', 'A2FFUJ5D4CMJ4L', 'A2FLLYV6Z8UQ26', 'A2G1XJ25DR7PVF', 'A2G5KJ0CZE65ZD', 'A2GFPTQ4VWDX96', 'A2GJLNRQTVUNOF', 'A2GOFJ3OZZUZ3H', 'A2GV0FE30O6M67', 'A2H3W11661MWDA', 'A2H7FD5GQMJXAQ', 'A2H7VSYLKGKLLJ', 'A2HFAX39PMLIGH', 'A2I4O72AAE1T1T', 'A2I868XUY96VWA', 'A2IK039KMC8UP1', 'A2IMJV0CQMZLGC', 'A2INWR0T7A7UN5', 'A2IOBG1ERS4JP3', 'A2IRPQ7DXQ9YIN', 'A2J4WOR87ELFBH', 'A2JCBLTLYDPQLW', 'A2JEH2NKM1Z8CQ', 'A2JXZSR7R85KX4', 'A2K7XZCFYGZH0O', 'A2KO4HGLWB57LI', 'A2KVN4XKFJH0I8', 'A2LM47GK1W7RRR', 'A2LSOMD2X9KCCH', 'A2LYTBRWFQJMKM', 'A2M4YSOJZELJ6N', 'A2MAZK8XSIDXPF', 'A2MDIPJ7MS0MUJ', 'A2MGO3WV3SX7X', 'A2MLV3I5MMJ2RA', 'A2MPSHMC0U29AV', 'A2NI47L1B1RXSG', 'A2NJQZBE8TSUYO', 'A2NWTETCSLOEQN', 'A2O4DMC8M5JFHG', 'A2O823CIB99X95', 'A2OT3011J8E1ZP', 'A2OXIHJW4K9NKE', 'A2P6L9MQK99U36', 'A2PB6LYMRA7Z9V', 'A2PEJEOUE9MNA6', 'A2PIBK3EOG5TBK', 'A2PY1DBGV9FQA2', 'A2Q5UOQ4L1BOB9', 'A2QE1WIYFY0HAP', 'A2QP73U21FHJZI', 'A2QV1YJODH28QP', 'A2RAISC8UEEBK9', 'A2RDNAR2R66DKD', 'A2RXAD7UZ4VFT6', 'A2S47NK970GKD9', 'A2SMFKDH22FMA3', 'A2SOH4QHL5DZ6D', 'A2SQIQZUBEAJR3', 'A2SWEHEK2BMPM8', 'A2SYZ28NVJZ4R1', 'A2T0AMZZLASKKV', 'A2TCLY6N04N9D7', 'A2TW5FC72PI7SE', 'A2UAC8RKSPUIKH', 'A2UX00W1OX5A80', 'A2V88AD0XHE2IE', 'A2VC9R3XCFOEP1', 'A2VLCD1OWKXBW0', 'A2VTFDQ1DZN7UI', 'A2WHTNQ939BS71', 'A2WQGKM49J8UYT', 'A2WX2YLLHJDLX7', 'A2X4BZH61VJH5M', 'A2XEM0Y2PBNYK3', 'A2XFJ8CTY7VDNN', 'A2XTIQTNDTY6IA', 'A2XVM7UW32TYJ4', 'A2XY3CJ3ZCAD03', 'A2XYR0XUSOOBKN', 'A2Y1J1AKXDLR1', 'A2Y88AU2Y58W78', 'A2Z6RKQQUX4RJA', 'A2ZBZF2MUG5BMT', 'A2ZFTLMOAS9YS9', 'A2ZIIOGLNJDGAW', 'A2ZKSKEG5ADC67', 'A2ZZKY1V6M940H', 'A31LANQ03TDCXY', 'A323D529OO2E1G', 'A3254BNN69CL47', 'A327I3S4ZCZYBV', 'A32D5I46E15TEC', 'A32H6TQKJ1PQTP', 'A32KYN14BUANDF', 'A32OQFYMJ18HD6', 'A333LLJ35S8DVV', 'A33M6H443E78K3', 'A33S6R9E8SJQBP', 'A34DAQYDWYMVSG', 'A35F9VHYWAFR8J', 'A35F9XOEGELEWC', 'A35PB7968I55RI', 'A35RIL0AVMMXXL', 'A35Y5NLC3UEUQD', 'A367NSWV6NUSL1', 'A36I89SEZ432XE', 'A375WSDCO30KT9', 'A37G41T4DD51AH', 'A37M369VIVDDVJ', 'A37OPVPXMWHJJK', 'A37WMXX147RL1X', 'A37XPPIGUTR4LE', 'A388NSX468EY1E', 'A38GODWWMRN5IP', 'A38J6ZI0XZOY54', 'A38KP6TI3BUIM6', 'A38KUK8INKLRVW', 'A38OH5OTHDIENK', 'A38QGF4YG5YLUX', 'A3909LKTROS8XZ', 'A3961EO6PXRSV4', 'A39LZUDABR584J', 'A39PTGNQVCNU44', 'A39VI1UOID3TYE', 'A39YNT3CHM2I0Z', 'A3A3FMJO4E1E16', 'A3B99K4E030SZQ', 'A3BE6JK97CYAGA', 'A3BLE5G96342IP', 'A3BNG9PTUPB4QO', 'A3BPFL7PM0EX1K', 'A3BT1WLPENXMD6', 'A3BU92XQ2M0FQV', 'A3BWTFXS9CXVAE', 'A3BXCNI6BG5GCW', 'A3C2F0Y7G5FRW3', 'A3CBKKG14IB1KH', 'A3CQ0NMUJ9TODP', 'A3CUAESGA4K7FU', 'A3CXM8XQ5Q1KPP', 'A3D0FFKCWXN2LR', 'A3D1IGUMS62SNU', 'A3D1VPTQGDS7H3', 'A3D4BNTGWVUMYY', 'A3DKARAF791Z5X', 'A3DTSBINBC9T1Y', 'A3DXQ86N43AUK3', 'A3DXW3542E4QUC', 'A3E9HGSGQCU4CT', 'A3EAHHQ7KV8LFG', 'A3EJS66CXBQLE8', 'A3ENBUF1TIQR5K', 'A3EZHDCUB7I4KM', 'A3F1C4MOB3X5XL', 'A3F6V5A2SFES04', 'A3FDEHXOYLD1AC', 'A3FGDP5PT4SPLK', 'A3FGWJLDNTJWED', 'A3G1X7LFBAPCUJ', 'A3GCKFO3G4AHLF', 'A3GGSN44XCR1LP', 'A3GPMU8E282AUW', 'A3GRQ9WMP4OXFE', 'A3GWKJFBX8ZKT6', 'A3H8Z7JS7XJHJJ', 'A3HRUR5VRFZ09F', 'A3IGRPW3T3WYYQ', 'A3J1T4IGQLKKMB', 'A3J9IGXNOJR2BL', 'A3JA23Z053GQH', 'A3JCDPKW3RY4RN', 'A3JEQJCEMX20GI', 'A3KFRJBKYYNED7', 'A3KS7QCK708PRV', 'A3KYSCD09GNSUT', 'A3LA1YKU7MU28G', 'A3LEZ2F3IJC8PI', 'A3LIUDVZL87BJ1', 'A3LW4UWD5IH59X', 'A3LX43D34SINN3', 'A3LZ31BL10WT5Y', 'A3MAKZCODKKTYI', 'A3MFCMTXMF9B6W', 'A3MKAAS1OCULM6', 'A3MOSFTVDLAPDQ', 'A3MSPZTFP55OAG', 'A3MYAEQWFLNGT7', 'A3N4SR54KR77RK', 'A3NVFNLI1D4JUI', 'A3NYG8M131X9CM', 'A3OAQJCQBNF2JV', 'A3OCZRK8OEGZKL', 'A3OIDZP7AI0URM', 'A3OVOP3ZAF1EZ2', 'A3P3RV0CUR0VRQ', 'A3P8Z0J9AH92IZ', 'A3PJ22YDBOO8DN', 'A3PLMGKX9OQWOY', 'A3QL4UXK2Z5Q7T', 'A3QLWWO4V4PFMJ', 'A3QUUP6DYHF9YC', 'A3R7ZWTFN19KIX', 'A3RCVP2TSCL409', 'A3RUEIK67SFBFQ', 'A3SG2GXNRU6AO8', 'A3SL5YEUG12X9A', 'A3SME2XHYE99M5', 'A3T0BPK8JD6MD5', 'A3T2OTYYUYGLP0', 'A3T35MARIMRX9M', 'A3T9MTY43BVAL8', 'A3T9WXXE7EWNT8', 'A3TELGW4O61A61', 'A3TGG91X7W9SE8', 'A3TSVNG02WZYSW', 'A3U32YT7BSZ0KJ', 'A3UAJ5O4VR3IQ3', 'A3UBQFB24OY57', 'A3UCBR5T51RVRF', 'A3URWO9TFNH3IW', 'A3V81XSQIPRKO8', 'A3V9LE9I6Z5AF3', 'A3VEZWV624JM4O', 'A3VFDFSQ8X74WJ', 'A3VXSKW11C3301', 'A4INUX2JA7KE2', 'A4IQXCCXDEAKW', 'A4PZHPMLBS8T3', 'A4SRPWVKZ8MBC', 'A4V3S90H5OZTV', 'A4VQ44JM97RBL', 'A5ECS1R7F1TUD', 'A5LV53PMV1X6R', 'A674HJEQGJ5R9', 'A679PFWSVAY0B', 'A6IX0T5Z4NEXG', 'A6JVX3BIR03UT', 'A6P34Q7M983DN', 'A72IXFDV3HVU6', 'A74XHLD33IB9S', 'A7EG6541KYNIU', 'A7HS9Y95Y9BI6', 'A7JUHUYLXIUVQ', 'A7KQ3EGH8QTDS', 'A7SILTHEWXQ8T', 'A7Y4ETTLARUGI', 'A7Z2BG3284EE8', 'A8FMILLDHAI14', 'A8JUUA4GHIAMI', 'A8LVPPXFVYGVU', 'A8ZUDRNPFB0FU', 'A9BXB2XYAW169', 'A9LOWDS5H848B', 'AA3TPN2ZXE9TE', 'AAD3T3WYTF1BR', 'AAJ1IA9SFH4IG', 'AAT4JCLA3VGRZ', 'ABNE90UVC4BMT', 'ABSMQNX2PDSWH', 'ABWCUEDFH8W5H', 'ABYOL1GQA39OB', 'AC0X1OVDMJX9', 'ACCY5NWUNEC87', 'ACE1ZIOI3U6PY', 'ACLAKWV2EFFB5', 'AD9O852KPYLHY', 'ADDXT6NXD9GQ7', 'ADG8D8X6P9X7M', 'ADR4IE33O06IJ', 'ADV1MNMPVS17V', 'ADYRHTPM2T2SE', 'AE6VHWVRXHU19', 'AEKJTREHL41OE', 'AEP7KPEZWI7VY', 'AETOYW0R5VN0X', 'AEZBSOFLB44RG', 'AFE9H6ABXM735', 'AFMQ7BBR4FYMB', 'AFY8EIWAT6H8J', 'AG0867QGE3R2B', 'AG3T3ILPXFL3H', 'AG74ZKO3BG57J', 'AGORXWI6K2RIR', 'AGRZQOBCF8H87', 'AGTD0T9R78YLG', 'AGYIYIVZHBI60', 'AHGNU4UWGATOH', 'AHYRXYR235TWH', 'AIB7HX2UC3WHM', 'AITF34BGBMVJJ', 'AIU7HYQIC5D95', 'AJHSB0LT8NKP4', 'AJYMJEC6B7V52', 'AK4VANLR5UK95', 'AK7YIZE6ZZ1N9', 'AKHSKD91MQ9DP', 'ALUZH689LQE6K', 'ALWLZC3GRRXPN', 'AM1KUDVTKXIAQ', 'AM9HBLGAPZQR7', 'AMA98TY969A1T', 'AMLDY4QY4HV0D', 'AMVZ9HW23Y42N', 'AN3QZR3OD7SFO', 'ANC6FN6T8JBB2', 'ANDGVKQ15NCZM', 'ANFUWUOC7EJKR', 'ANG7MOYBTWQE6', 'ANJ6Y9G0B4TM8', 'ANR73TPVBCQ9K', 'ANT034IX5ZPI9', 'AOB2Y1KJQG7K7', 'AONHG4PDUQ0D6', 'APA9SALOTTBM6', 'APARJQGAD0J4C', 'AQ5PKYF0FJA4B', 'AQCQQYEUHUX3M', 'AQYL4TDY2HU8Z', 'AR9Y0CM5B174', 'ARLN791TA1RV7', 'AS8T77HTF9IHW', 'ASGIVOW34XNQS', 'ATJRZUXNWAWIK', 'ATP2UCHTR7QMZ', 'ATR9J7TYR1KVL', 'ATVP6QJLS27EN', 'AU03W1V42994X', 'AU1BVXGV2KO8I', 'AU2JWZMFEVAH5', 'AU3MVNMVFSIM', 'AUKMWTDK16PAP', 'AUWJT1DM7SG2D', 'AV0O5NWF2NKDF', 'AV2MC7NNTMKTF', 'AVC89473DX6XU', 'AVFBQDR2KRNK6', 'AVIMJH2FF6QCH', 'AVO5FL5T9EZSR', 'AVQ0V2MIW2Z5K', 'AVWSUUBWD3RK4', 'AWJFUVK3064HX', 'AXM9OKKHRR4RP', 'AXPZI9N8HVHYO', 'AXQ57AZLKLPCQ', 'AXQS1B3WVRHQV', 'AXS7NH3GDN7EE', 'AY4F95T0JSTZ2', 'AYG63OK9TNBNP', 'AZE64W03EUJA4', 'AZECTAHZICNW5', 'AZEGZXCFTLSQB', 'AZEKC7DEXXJD7', 'AZFGSCB0S59LQ', 'AZHS42HV4FKKA']\n",
            "0 0.001694915254237288\n",
            "get 10 recommendation items for user: ['A100XQFWKQ30O2', 'A103T1QOGFCSEH', 'A106UKKSJ2KXPF', 'A10A7GV4D5A11V', 'A1119JJ37ZLB8R', 'A113UOOLBSZN52', 'A12M4U7WK4ALCR', 'A12T8YTW6VWT7S', 'A1364JXGKB46MM', 'A137DALOQFKBTI', 'A13FEZ3WV7S2EY', 'A13IV4I1B0RXMG', 'A13JU88JAHN72I', 'A13K55R6VH1OOD', 'A13P7VFU075A', 'A13SWYE4QLB6NG', 'A13ZTQ0Q4ATA41', 'A142EDN04OD62U', 'A142I22FIC8MZK', 'A14834QTII5TLT', 'A14A447VPACTBC', 'A14AP6MN5XO6LB', 'A14CLF25IX25US', 'A14LYXC3HTBAHI', 'A14VUW4KZ34EOE', 'A14Y32P26G9YL', 'A157T25PBS7MX4', 'A15HZDSERD85C8', 'A15JJ8J1FGADIX', 'A15ZCL70JXXH89', 'A1617KN2IAWZ6J', 'A16E0O88262HKA', 'A16NSZ58PTVIYF', 'A16UGDXRTDLJG5', 'A16X9HR3UFQQXY', 'A16Y7V1CZCWKFV', 'A174YOBOSW9WDN', 'A1786SKRAJXH86', 'A17K2BUZ20WD2', 'A17LYRFV645L0V', 'A18LNGVXDZBTUR', 'A19503XX7GU6J2', 'A19HVHRZDYFEOP', 'A19JM38B861BO4', 'A19KGY3W1P0MHT', 'A19KJPOF3QOJ24', 'A19U5RT4Q8Q1T6', 'A1AQNQUNX8B6JT', 'A1ARU0IN6RUFFD', 'A1BB4635KSKDMV', 'A1BCC7X6KRTBG0', 'A1BPJ56BXENC7', 'A1C0RI6W65FC8B', 'A1C60LJGZVEK27', 'A1CB2SMS3TD44Z', 'A1CNSU8P68CPLT', 'A1CSDWBYUJBCJZ', 'A1CTNNVIYHO25P', 'A1CTQF97HFYOZB', 'A1D5C2H9UFZHPU', 'A1D5UVH72Z6NJ1', 'A1DAUVZRVSLLNW', 'A1DCZ9882PXLVB', 'A1DZ63D35BNT86', 'A1E0QCKB4R2X8X', 'A1E76OZZ5YUWVA', 'A1EBHZPAYMILW9', 'A1EJVNGBY5GM5I', 'A1ER0356V2DSKW', 'A1EY751AUVO5NZ', 'A1EZFX1TRHSAJX', 'A1F08GM4B97FV', 'A1F6EFMBK795DJ', 'A1FC8Y896NZP4T', 'A1FKIAKVOBNN7Y', 'A1FKUBRPLG6Y8I', 'A1G2HL4W8B3TA0', 'A1G8Z9IKJ0BD1M', 'A1GEJ55RJGD7JW', 'A1GIYGD23YIDTN', 'A1GLG2IZBZHRAJ', 'A1H1T82FPO20DN', 'A1H7JDZ9BKTKGC', 'A1HBROZPSV5KT6', 'A1HBXMUIHTAIU2', 'A1I32A4SA9W2L2', 'A1IDJ6KR8CQV9I', 'A1II0TTUUE2C7Y', 'A1ILEZFIVOU0EP', 'A1ITJ5M7I9G7FR', 'A1IWTXM1SJWHDN', 'A1J2NTTE63GNG2', 'A1JRREJ5D62LFF', 'A1KGMTEXL70WF6', 'A1KWUQZJ1Z6MN2', 'A1LXJ8XCGNBXOF', 'A1M8YMS915ZK0B', 'A1NDRR3G9SJF18', 'A1NE6K8PXW780O', 'A1NEG0FRW5FDBL', 'A1NN82RWB6PXJW', 'A1NY67EVWD6CD6', 'A1OB41VQHXZ0R8', 'A1OJ2IXX8F7Q7X', 'A1OTIUDE7LWAGT', 'A1P1OHYJOOZX5P', 'A1PFDA9SL15S4O', 'A1PKBKALGLSX0Z', 'A1PMLXHE863GR6', 'A1PR178735XC70', 'A1PXO67EUM5HJQ', 'A1QHS58JVFLF3I', 'A1QPKRHCAOQVZ5', 'A1R2TTULP0Z2BM', 'A1R8GBYBJWWWU0', 'A1RAXJN2Q4V20X', 'A1RCMCAJR2LJA4', 'A1RE2XA5HQD1D3', 'A1RMLPJ1PF8LGV', 'A1RX2ODQRQZVSI', 'A1S3NMNTSO6GW', 'A1S6OQV823B53J', 'A1SA3N793WT2LM', 'A1SA932MLERVQY', 'A1SCZBXGPJ2615', 'A1SMXRCNRO4ZQM', 'A1T1N2585E1T0D', 'A1TEKLMF4V1X2C', 'A1TF44D9KYAD60', 'A1TGP1VTM3KCTI', 'A1TK5M6EM3GS3C', 'A1TO3GV14TGF2R', 'A1TP9JHTIY468V', 'A1UAOE8KO7Q1DZ', 'A1UDCDY6ZNE83T', 'A1UUNKRU1DTZTL', 'A1V0UJQ4XGAJ3H', 'A1VBZLO2JGYU1B', 'A1VC6YCAFKV6Q', 'A1VVEX78B2TYBX', 'A1VVQ2DFL0QLXF', 'A1VYWSQ2OXLH98', 'A1WEFBEJ7OHSVZ', 'A1WOX40GUAFDKW', 'A1WSZED2O5MA5T', 'A1XBJBT6HORBLA', 'A1XHN6JF8A8W69', 'A1XWCTARAQ0679', 'A1XZJ85PKMAZP0', 'A1YALF6PWOMS6S', 'A1YEO5KEW7M2GF', 'A1YQ33635DJEG5', 'A1YSAFP6T3JZ1C', 'A1YTPCNXQ2LJ5Z', 'A1YVXZK51DEDPC', 'A1Z3GE09RDY6O7', 'A1Z6IPI0G3QIUR', 'A1ZVXL7K0XY3S6', 'A1ZXYITUZM3Q6A', 'A202BVEB76NTMK', 'A205S0BTPEFI0I', 'A20MSUD02BETH2', 'A20P2XESU3G3EC', 'A20QY357E6SAF', 'A20SJ2793OUCPW', 'A20T7NNNUHH60H', 'A21JL9NVA7KEMC', 'A21M4N08F3EU5J', 'A21NUBJVBS230S', 'A21OELUKDF2E57', 'A21XQP90LEND9R', 'A21YO11OY4KATO', 'A220EHDBIGBL30', 'A224YJVNU30DVM', 'A22A1B25VBD0YO', 'A22EWIMT2GUTTL', 'A22EZJLTPINCFS', 'A22QJRB86RF6O1', 'A2320AUCHA95U2', 'A232IJ75I4KP9C', 'A23GTKDW92ZPP2', 'A23O1B8IVSYKMO', 'A23VR3KT0TPG83', 'A24HCM5QV0ZTJ5', 'A24ZE4O3OQMSP0', 'A255E6ZWUBMEJJ', 'A258D00BRNHJ77', 'A25TLD8KIU807H', 'A26434CRUTADT5', 'A26AT96096UOEZ', 'A26RKZDM4DK8OQ', 'A274IW68565M0U', 'A286OWYO1BDT52', 'A288UAQLON8FK2', 'A28E3FNV1BYC94', 'A28GO11F387SOX', 'A28H0PFALTML0I', 'A28OZKV4ZYZX42', 'A28P7FF1TVPG1K', 'A28Q7C1FAIZGLV', 'A29834GBB4DOP1', 'A29HQ60YC1RG1P', 'A29MENRU87PET0', 'A29PZKXDCQFTYW', 'A29SD3TFGX6Q34', 'A2A0MIOWIW2SB8', 'A2A8ECI6ABJBMA', 'A2AAQWBJJTK3E1', 'A2AE0E0H463YL6', 'A2APG6OZXU4QIZ', 'A2BDB427ROEP7H', 'A2BHJO8WOGMW6E', 'A2BOSA30FCF6G8', 'A2BU6N5956T9NH', 'A2BUZ308P92OYA', 'A2C1F859F9V1SL', 'A2C8YINPNRQOAU', 'A2CDQOF7WHUYKJ', 'A2CEEE0IK3LKN1', 'A2CZVE6ORV87C5', 'A2DD6RH1AF0PLI', 'A2DFOCWUKJX3PT', 'A2E8WG5GRZGMXU', 'A2ESQAPIGR2TJF', 'A2EUQ4ESAB2N6A', 'A2EZXF5YGYTOWN', 'A2F0VQQLSF558D', 'A2F3QV40SONN60', 'A2F95NSPD4XEEU', 'A2FA2J1JT12N7J', 'A2FFUJ5D4CMJ4L', 'A2FLLYV6Z8UQ26', 'A2G1XJ25DR7PVF', 'A2G5KJ0CZE65ZD', 'A2GFPTQ4VWDX96', 'A2GJLNRQTVUNOF', 'A2GOFJ3OZZUZ3H', 'A2GV0FE30O6M67', 'A2H3W11661MWDA', 'A2H7FD5GQMJXAQ', 'A2H7VSYLKGKLLJ', 'A2HFAX39PMLIGH', 'A2I4O72AAE1T1T', 'A2I868XUY96VWA', 'A2IK039KMC8UP1', 'A2IMJV0CQMZLGC', 'A2INWR0T7A7UN5', 'A2IOBG1ERS4JP3', 'A2IRPQ7DXQ9YIN', 'A2J4WOR87ELFBH', 'A2JCBLTLYDPQLW', 'A2JEH2NKM1Z8CQ', 'A2JXZSR7R85KX4', 'A2K7XZCFYGZH0O', 'A2KO4HGLWB57LI', 'A2KVN4XKFJH0I8', 'A2LM47GK1W7RRR', 'A2LSOMD2X9KCCH', 'A2LYTBRWFQJMKM', 'A2M4YSOJZELJ6N', 'A2MAZK8XSIDXPF', 'A2MDIPJ7MS0MUJ', 'A2MGO3WV3SX7X', 'A2MLV3I5MMJ2RA', 'A2MPSHMC0U29AV', 'A2NI47L1B1RXSG', 'A2NJQZBE8TSUYO', 'A2NWTETCSLOEQN', 'A2O4DMC8M5JFHG', 'A2O823CIB99X95', 'A2OT3011J8E1ZP', 'A2OXIHJW4K9NKE', 'A2P6L9MQK99U36', 'A2PB6LYMRA7Z9V', 'A2PEJEOUE9MNA6', 'A2PIBK3EOG5TBK', 'A2PY1DBGV9FQA2', 'A2Q5UOQ4L1BOB9', 'A2QE1WIYFY0HAP', 'A2QP73U21FHJZI', 'A2QV1YJODH28QP', 'A2RAISC8UEEBK9', 'A2RDNAR2R66DKD', 'A2RXAD7UZ4VFT6', 'A2S47NK970GKD9', 'A2SMFKDH22FMA3', 'A2SOH4QHL5DZ6D', 'A2SQIQZUBEAJR3', 'A2SWEHEK2BMPM8', 'A2SYZ28NVJZ4R1', 'A2T0AMZZLASKKV', 'A2TCLY6N04N9D7', 'A2TW5FC72PI7SE', 'A2UAC8RKSPUIKH', 'A2UX00W1OX5A80', 'A2V88AD0XHE2IE', 'A2VC9R3XCFOEP1', 'A2VLCD1OWKXBW0', 'A2VTFDQ1DZN7UI', 'A2WHTNQ939BS71', 'A2WQGKM49J8UYT', 'A2WX2YLLHJDLX7', 'A2X4BZH61VJH5M', 'A2XEM0Y2PBNYK3', 'A2XFJ8CTY7VDNN', 'A2XTIQTNDTY6IA', 'A2XVM7UW32TYJ4', 'A2XY3CJ3ZCAD03', 'A2XYR0XUSOOBKN', 'A2Y1J1AKXDLR1', 'A2Y88AU2Y58W78', 'A2Z6RKQQUX4RJA', 'A2ZBZF2MUG5BMT', 'A2ZFTLMOAS9YS9', 'A2ZIIOGLNJDGAW', 'A2ZKSKEG5ADC67', 'A2ZZKY1V6M940H', 'A31LANQ03TDCXY', 'A323D529OO2E1G', 'A3254BNN69CL47', 'A327I3S4ZCZYBV', 'A32D5I46E15TEC', 'A32H6TQKJ1PQTP', 'A32KYN14BUANDF', 'A32OQFYMJ18HD6', 'A333LLJ35S8DVV', 'A33M6H443E78K3', 'A33S6R9E8SJQBP', 'A34DAQYDWYMVSG', 'A35F9VHYWAFR8J', 'A35F9XOEGELEWC', 'A35PB7968I55RI', 'A35RIL0AVMMXXL', 'A35Y5NLC3UEUQD', 'A367NSWV6NUSL1', 'A36I89SEZ432XE', 'A375WSDCO30KT9', 'A37G41T4DD51AH', 'A37M369VIVDDVJ', 'A37OPVPXMWHJJK', 'A37WMXX147RL1X', 'A37XPPIGUTR4LE', 'A388NSX468EY1E', 'A38GODWWMRN5IP', 'A38J6ZI0XZOY54', 'A38KP6TI3BUIM6', 'A38KUK8INKLRVW', 'A38OH5OTHDIENK', 'A38QGF4YG5YLUX', 'A3909LKTROS8XZ', 'A3961EO6PXRSV4', 'A39LZUDABR584J', 'A39PTGNQVCNU44', 'A39VI1UOID3TYE', 'A39YNT3CHM2I0Z', 'A3A3FMJO4E1E16', 'A3B99K4E030SZQ', 'A3BE6JK97CYAGA', 'A3BLE5G96342IP', 'A3BNG9PTUPB4QO', 'A3BPFL7PM0EX1K', 'A3BT1WLPENXMD6', 'A3BU92XQ2M0FQV', 'A3BWTFXS9CXVAE', 'A3BXCNI6BG5GCW', 'A3C2F0Y7G5FRW3', 'A3CBKKG14IB1KH', 'A3CQ0NMUJ9TODP', 'A3CUAESGA4K7FU', 'A3CXM8XQ5Q1KPP', 'A3D0FFKCWXN2LR', 'A3D1IGUMS62SNU', 'A3D1VPTQGDS7H3', 'A3D4BNTGWVUMYY', 'A3DKARAF791Z5X', 'A3DTSBINBC9T1Y', 'A3DXQ86N43AUK3', 'A3DXW3542E4QUC', 'A3E9HGSGQCU4CT', 'A3EAHHQ7KV8LFG', 'A3EJS66CXBQLE8', 'A3ENBUF1TIQR5K', 'A3EZHDCUB7I4KM', 'A3F1C4MOB3X5XL', 'A3F6V5A2SFES04', 'A3FDEHXOYLD1AC', 'A3FGDP5PT4SPLK', 'A3FGWJLDNTJWED', 'A3G1X7LFBAPCUJ', 'A3GCKFO3G4AHLF', 'A3GGSN44XCR1LP', 'A3GPMU8E282AUW', 'A3GRQ9WMP4OXFE', 'A3GWKJFBX8ZKT6', 'A3H8Z7JS7XJHJJ', 'A3HRUR5VRFZ09F', 'A3IGRPW3T3WYYQ', 'A3J1T4IGQLKKMB', 'A3J9IGXNOJR2BL', 'A3JA23Z053GQH', 'A3JCDPKW3RY4RN', 'A3JEQJCEMX20GI', 'A3KFRJBKYYNED7', 'A3KS7QCK708PRV', 'A3KYSCD09GNSUT', 'A3LA1YKU7MU28G', 'A3LEZ2F3IJC8PI', 'A3LIUDVZL87BJ1', 'A3LW4UWD5IH59X', 'A3LX43D34SINN3', 'A3LZ31BL10WT5Y', 'A3MAKZCODKKTYI', 'A3MFCMTXMF9B6W', 'A3MKAAS1OCULM6', 'A3MOSFTVDLAPDQ', 'A3MSPZTFP55OAG', 'A3MYAEQWFLNGT7', 'A3N4SR54KR77RK', 'A3NVFNLI1D4JUI', 'A3NYG8M131X9CM', 'A3OAQJCQBNF2JV', 'A3OCZRK8OEGZKL', 'A3OIDZP7AI0URM', 'A3OVOP3ZAF1EZ2', 'A3P3RV0CUR0VRQ', 'A3P8Z0J9AH92IZ', 'A3PJ22YDBOO8DN', 'A3PLMGKX9OQWOY', 'A3QL4UXK2Z5Q7T', 'A3QLWWO4V4PFMJ', 'A3QUUP6DYHF9YC', 'A3R7ZWTFN19KIX', 'A3RCVP2TSCL409', 'A3RUEIK67SFBFQ', 'A3SG2GXNRU6AO8', 'A3SL5YEUG12X9A', 'A3SME2XHYE99M5', 'A3T0BPK8JD6MD5', 'A3T2OTYYUYGLP0', 'A3T35MARIMRX9M', 'A3T9MTY43BVAL8', 'A3T9WXXE7EWNT8', 'A3TELGW4O61A61', 'A3TGG91X7W9SE8', 'A3TSVNG02WZYSW', 'A3U32YT7BSZ0KJ', 'A3UAJ5O4VR3IQ3', 'A3UBQFB24OY57', 'A3UCBR5T51RVRF', 'A3URWO9TFNH3IW', 'A3V81XSQIPRKO8', 'A3V9LE9I6Z5AF3', 'A3VEZWV624JM4O', 'A3VFDFSQ8X74WJ', 'A3VXSKW11C3301', 'A4INUX2JA7KE2', 'A4IQXCCXDEAKW', 'A4PZHPMLBS8T3', 'A4SRPWVKZ8MBC', 'A4V3S90H5OZTV', 'A4VQ44JM97RBL', 'A5ECS1R7F1TUD', 'A5LV53PMV1X6R', 'A674HJEQGJ5R9', 'A679PFWSVAY0B', 'A6IX0T5Z4NEXG', 'A6JVX3BIR03UT', 'A6P34Q7M983DN', 'A72IXFDV3HVU6', 'A74XHLD33IB9S', 'A7EG6541KYNIU', 'A7HS9Y95Y9BI6', 'A7JUHUYLXIUVQ', 'A7KQ3EGH8QTDS', 'A7SILTHEWXQ8T', 'A7Y4ETTLARUGI', 'A7Z2BG3284EE8', 'A8FMILLDHAI14', 'A8JUUA4GHIAMI', 'A8LVPPXFVYGVU', 'A8ZUDRNPFB0FU', 'A9BXB2XYAW169', 'A9LOWDS5H848B', 'AA3TPN2ZXE9TE', 'AAD3T3WYTF1BR', 'AAJ1IA9SFH4IG', 'AAT4JCLA3VGRZ', 'ABNE90UVC4BMT', 'ABSMQNX2PDSWH', 'ABWCUEDFH8W5H', 'ABYOL1GQA39OB', 'AC0X1OVDMJX9', 'ACCY5NWUNEC87', 'ACE1ZIOI3U6PY', 'ACLAKWV2EFFB5', 'AD9O852KPYLHY', 'ADDXT6NXD9GQ7', 'ADG8D8X6P9X7M', 'ADR4IE33O06IJ', 'ADV1MNMPVS17V', 'ADYRHTPM2T2SE', 'AE6VHWVRXHU19', 'AEKJTREHL41OE', 'AEP7KPEZWI7VY', 'AETOYW0R5VN0X', 'AEZBSOFLB44RG', 'AFE9H6ABXM735', 'AFMQ7BBR4FYMB', 'AFY8EIWAT6H8J', 'AG0867QGE3R2B', 'AG3T3ILPXFL3H', 'AG74ZKO3BG57J', 'AGORXWI6K2RIR', 'AGRZQOBCF8H87', 'AGTD0T9R78YLG', 'AGYIYIVZHBI60', 'AHGNU4UWGATOH', 'AHYRXYR235TWH', 'AIB7HX2UC3WHM', 'AITF34BGBMVJJ', 'AIU7HYQIC5D95', 'AJHSB0LT8NKP4', 'AJYMJEC6B7V52', 'AK4VANLR5UK95', 'AK7YIZE6ZZ1N9', 'AKHSKD91MQ9DP', 'ALUZH689LQE6K', 'ALWLZC3GRRXPN', 'AM1KUDVTKXIAQ', 'AM9HBLGAPZQR7', 'AMA98TY969A1T', 'AMLDY4QY4HV0D', 'AMVZ9HW23Y42N', 'AN3QZR3OD7SFO', 'ANC6FN6T8JBB2', 'ANDGVKQ15NCZM', 'ANFUWUOC7EJKR', 'ANG7MOYBTWQE6', 'ANJ6Y9G0B4TM8', 'ANR73TPVBCQ9K', 'ANT034IX5ZPI9', 'AOB2Y1KJQG7K7', 'AONHG4PDUQ0D6', 'APA9SALOTTBM6', 'APARJQGAD0J4C', 'AQ5PKYF0FJA4B', 'AQCQQYEUHUX3M', 'AQYL4TDY2HU8Z', 'AR9Y0CM5B174', 'ARLN791TA1RV7', 'AS8T77HTF9IHW', 'ASGIVOW34XNQS', 'ATJRZUXNWAWIK', 'ATP2UCHTR7QMZ', 'ATR9J7TYR1KVL', 'ATVP6QJLS27EN', 'AU03W1V42994X', 'AU1BVXGV2KO8I', 'AU2JWZMFEVAH5', 'AU3MVNMVFSIM', 'AUKMWTDK16PAP', 'AUWJT1DM7SG2D', 'AV0O5NWF2NKDF', 'AV2MC7NNTMKTF', 'AVC89473DX6XU', 'AVFBQDR2KRNK6', 'AVIMJH2FF6QCH', 'AVO5FL5T9EZSR', 'AVQ0V2MIW2Z5K', 'AVWSUUBWD3RK4', 'AWJFUVK3064HX', 'AXM9OKKHRR4RP', 'AXPZI9N8HVHYO', 'AXQ57AZLKLPCQ', 'AXQS1B3WVRHQV', 'AXS7NH3GDN7EE', 'AY4F95T0JSTZ2', 'AYG63OK9TNBNP', 'AZE64W03EUJA4', 'AZECTAHZICNW5', 'AZEGZXCFTLSQB', 'AZEKC7DEXXJD7', 'AZFGSCB0S59LQ', 'AZHS42HV4FKKA']\n",
            "1 0.001694915254237288\n",
            "get 10 recommendation items for user: ['A100XQFWKQ30O2', 'A103T1QOGFCSEH', 'A106UKKSJ2KXPF', 'A10A7GV4D5A11V', 'A1119JJ37ZLB8R', 'A113UOOLBSZN52', 'A12M4U7WK4ALCR', 'A12T8YTW6VWT7S', 'A1364JXGKB46MM', 'A137DALOQFKBTI', 'A13FEZ3WV7S2EY', 'A13IV4I1B0RXMG', 'A13JU88JAHN72I', 'A13K55R6VH1OOD', 'A13P7VFU075A', 'A13SWYE4QLB6NG', 'A13ZTQ0Q4ATA41', 'A142EDN04OD62U', 'A142I22FIC8MZK', 'A14834QTII5TLT', 'A14A447VPACTBC', 'A14AP6MN5XO6LB', 'A14CLF25IX25US', 'A14LYXC3HTBAHI', 'A14VUW4KZ34EOE', 'A14Y32P26G9YL', 'A157T25PBS7MX4', 'A15HZDSERD85C8', 'A15JJ8J1FGADIX', 'A15ZCL70JXXH89', 'A1617KN2IAWZ6J', 'A16E0O88262HKA', 'A16NSZ58PTVIYF', 'A16UGDXRTDLJG5', 'A16X9HR3UFQQXY', 'A16Y7V1CZCWKFV', 'A174YOBOSW9WDN', 'A1786SKRAJXH86', 'A17K2BUZ20WD2', 'A17LYRFV645L0V', 'A18LNGVXDZBTUR', 'A19503XX7GU6J2', 'A19HVHRZDYFEOP', 'A19JM38B861BO4', 'A19KGY3W1P0MHT', 'A19KJPOF3QOJ24', 'A19U5RT4Q8Q1T6', 'A1AQNQUNX8B6JT', 'A1ARU0IN6RUFFD', 'A1BB4635KSKDMV', 'A1BCC7X6KRTBG0', 'A1BPJ56BXENC7', 'A1C0RI6W65FC8B', 'A1C60LJGZVEK27', 'A1CB2SMS3TD44Z', 'A1CNSU8P68CPLT', 'A1CSDWBYUJBCJZ', 'A1CTNNVIYHO25P', 'A1CTQF97HFYOZB', 'A1D5C2H9UFZHPU', 'A1D5UVH72Z6NJ1', 'A1DAUVZRVSLLNW', 'A1DCZ9882PXLVB', 'A1DZ63D35BNT86', 'A1E0QCKB4R2X8X', 'A1E76OZZ5YUWVA', 'A1EBHZPAYMILW9', 'A1EJVNGBY5GM5I', 'A1ER0356V2DSKW', 'A1EY751AUVO5NZ', 'A1EZFX1TRHSAJX', 'A1F08GM4B97FV', 'A1F6EFMBK795DJ', 'A1FC8Y896NZP4T', 'A1FKIAKVOBNN7Y', 'A1FKUBRPLG6Y8I', 'A1G2HL4W8B3TA0', 'A1G8Z9IKJ0BD1M', 'A1GEJ55RJGD7JW', 'A1GIYGD23YIDTN', 'A1GLG2IZBZHRAJ', 'A1H1T82FPO20DN', 'A1H7JDZ9BKTKGC', 'A1HBROZPSV5KT6', 'A1HBXMUIHTAIU2', 'A1I32A4SA9W2L2', 'A1IDJ6KR8CQV9I', 'A1II0TTUUE2C7Y', 'A1ILEZFIVOU0EP', 'A1ITJ5M7I9G7FR', 'A1IWTXM1SJWHDN', 'A1J2NTTE63GNG2', 'A1JRREJ5D62LFF', 'A1KGMTEXL70WF6', 'A1KWUQZJ1Z6MN2', 'A1LXJ8XCGNBXOF', 'A1M8YMS915ZK0B', 'A1NDRR3G9SJF18', 'A1NE6K8PXW780O', 'A1NEG0FRW5FDBL', 'A1NN82RWB6PXJW', 'A1NY67EVWD6CD6', 'A1OB41VQHXZ0R8', 'A1OJ2IXX8F7Q7X', 'A1OTIUDE7LWAGT', 'A1P1OHYJOOZX5P', 'A1PFDA9SL15S4O', 'A1PKBKALGLSX0Z', 'A1PMLXHE863GR6', 'A1PR178735XC70', 'A1PXO67EUM5HJQ', 'A1QHS58JVFLF3I', 'A1QPKRHCAOQVZ5', 'A1R2TTULP0Z2BM', 'A1R8GBYBJWWWU0', 'A1RAXJN2Q4V20X', 'A1RCMCAJR2LJA4', 'A1RE2XA5HQD1D3', 'A1RMLPJ1PF8LGV', 'A1RX2ODQRQZVSI', 'A1S3NMNTSO6GW', 'A1S6OQV823B53J', 'A1SA3N793WT2LM', 'A1SA932MLERVQY', 'A1SCZBXGPJ2615', 'A1SMXRCNRO4ZQM', 'A1T1N2585E1T0D', 'A1TEKLMF4V1X2C', 'A1TF44D9KYAD60', 'A1TGP1VTM3KCTI', 'A1TK5M6EM3GS3C', 'A1TO3GV14TGF2R', 'A1TP9JHTIY468V', 'A1UAOE8KO7Q1DZ', 'A1UDCDY6ZNE83T', 'A1UUNKRU1DTZTL', 'A1V0UJQ4XGAJ3H', 'A1VBZLO2JGYU1B', 'A1VC6YCAFKV6Q', 'A1VVEX78B2TYBX', 'A1VVQ2DFL0QLXF', 'A1VYWSQ2OXLH98', 'A1WEFBEJ7OHSVZ', 'A1WOX40GUAFDKW', 'A1WSZED2O5MA5T', 'A1XBJBT6HORBLA', 'A1XHN6JF8A8W69', 'A1XWCTARAQ0679', 'A1XZJ85PKMAZP0', 'A1YALF6PWOMS6S', 'A1YEO5KEW7M2GF', 'A1YQ33635DJEG5', 'A1YSAFP6T3JZ1C', 'A1YTPCNXQ2LJ5Z', 'A1YVXZK51DEDPC', 'A1Z3GE09RDY6O7', 'A1Z6IPI0G3QIUR', 'A1ZVXL7K0XY3S6', 'A1ZXYITUZM3Q6A', 'A202BVEB76NTMK', 'A205S0BTPEFI0I', 'A20MSUD02BETH2', 'A20P2XESU3G3EC', 'A20QY357E6SAF', 'A20SJ2793OUCPW', 'A20T7NNNUHH60H', 'A21JL9NVA7KEMC', 'A21M4N08F3EU5J', 'A21NUBJVBS230S', 'A21OELUKDF2E57', 'A21XQP90LEND9R', 'A21YO11OY4KATO', 'A220EHDBIGBL30', 'A224YJVNU30DVM', 'A22A1B25VBD0YO', 'A22EWIMT2GUTTL', 'A22EZJLTPINCFS', 'A22QJRB86RF6O1', 'A2320AUCHA95U2', 'A232IJ75I4KP9C', 'A23GTKDW92ZPP2', 'A23O1B8IVSYKMO', 'A23VR3KT0TPG83', 'A24HCM5QV0ZTJ5', 'A24ZE4O3OQMSP0', 'A255E6ZWUBMEJJ', 'A258D00BRNHJ77', 'A25TLD8KIU807H', 'A26434CRUTADT5', 'A26AT96096UOEZ', 'A26RKZDM4DK8OQ', 'A274IW68565M0U', 'A286OWYO1BDT52', 'A288UAQLON8FK2', 'A28E3FNV1BYC94', 'A28GO11F387SOX', 'A28H0PFALTML0I', 'A28OZKV4ZYZX42', 'A28P7FF1TVPG1K', 'A28Q7C1FAIZGLV', 'A29834GBB4DOP1', 'A29HQ60YC1RG1P', 'A29MENRU87PET0', 'A29PZKXDCQFTYW', 'A29SD3TFGX6Q34', 'A2A0MIOWIW2SB8', 'A2A8ECI6ABJBMA', 'A2AAQWBJJTK3E1', 'A2AE0E0H463YL6', 'A2APG6OZXU4QIZ', 'A2BDB427ROEP7H', 'A2BHJO8WOGMW6E', 'A2BOSA30FCF6G8', 'A2BU6N5956T9NH', 'A2BUZ308P92OYA', 'A2C1F859F9V1SL', 'A2C8YINPNRQOAU', 'A2CDQOF7WHUYKJ', 'A2CEEE0IK3LKN1', 'A2CZVE6ORV87C5', 'A2DD6RH1AF0PLI', 'A2DFOCWUKJX3PT', 'A2E8WG5GRZGMXU', 'A2ESQAPIGR2TJF', 'A2EUQ4ESAB2N6A', 'A2EZXF5YGYTOWN', 'A2F0VQQLSF558D', 'A2F3QV40SONN60', 'A2F95NSPD4XEEU', 'A2FA2J1JT12N7J', 'A2FFUJ5D4CMJ4L', 'A2FLLYV6Z8UQ26', 'A2G1XJ25DR7PVF', 'A2G5KJ0CZE65ZD', 'A2GFPTQ4VWDX96', 'A2GJLNRQTVUNOF', 'A2GOFJ3OZZUZ3H', 'A2GV0FE30O6M67', 'A2H3W11661MWDA', 'A2H7FD5GQMJXAQ', 'A2H7VSYLKGKLLJ', 'A2HFAX39PMLIGH', 'A2I4O72AAE1T1T', 'A2I868XUY96VWA', 'A2IK039KMC8UP1', 'A2IMJV0CQMZLGC', 'A2INWR0T7A7UN5', 'A2IOBG1ERS4JP3', 'A2IRPQ7DXQ9YIN', 'A2J4WOR87ELFBH', 'A2JCBLTLYDPQLW', 'A2JEH2NKM1Z8CQ', 'A2JXZSR7R85KX4', 'A2K7XZCFYGZH0O', 'A2KO4HGLWB57LI', 'A2KVN4XKFJH0I8', 'A2LM47GK1W7RRR', 'A2LSOMD2X9KCCH', 'A2LYTBRWFQJMKM', 'A2M4YSOJZELJ6N', 'A2MAZK8XSIDXPF', 'A2MDIPJ7MS0MUJ', 'A2MGO3WV3SX7X', 'A2MLV3I5MMJ2RA', 'A2MPSHMC0U29AV', 'A2NI47L1B1RXSG', 'A2NJQZBE8TSUYO', 'A2NWTETCSLOEQN', 'A2O4DMC8M5JFHG', 'A2O823CIB99X95', 'A2OT3011J8E1ZP', 'A2OXIHJW4K9NKE', 'A2P6L9MQK99U36', 'A2PB6LYMRA7Z9V', 'A2PEJEOUE9MNA6', 'A2PIBK3EOG5TBK', 'A2PY1DBGV9FQA2', 'A2Q5UOQ4L1BOB9', 'A2QE1WIYFY0HAP', 'A2QP73U21FHJZI', 'A2QV1YJODH28QP', 'A2RAISC8UEEBK9', 'A2RDNAR2R66DKD', 'A2RXAD7UZ4VFT6', 'A2S47NK970GKD9', 'A2SMFKDH22FMA3', 'A2SOH4QHL5DZ6D', 'A2SQIQZUBEAJR3', 'A2SWEHEK2BMPM8', 'A2SYZ28NVJZ4R1', 'A2T0AMZZLASKKV', 'A2TCLY6N04N9D7', 'A2TW5FC72PI7SE', 'A2UAC8RKSPUIKH', 'A2UX00W1OX5A80', 'A2V88AD0XHE2IE', 'A2VC9R3XCFOEP1', 'A2VLCD1OWKXBW0', 'A2VTFDQ1DZN7UI', 'A2WHTNQ939BS71', 'A2WQGKM49J8UYT', 'A2WX2YLLHJDLX7', 'A2X4BZH61VJH5M', 'A2XEM0Y2PBNYK3', 'A2XFJ8CTY7VDNN', 'A2XTIQTNDTY6IA', 'A2XVM7UW32TYJ4', 'A2XY3CJ3ZCAD03', 'A2XYR0XUSOOBKN', 'A2Y1J1AKXDLR1', 'A2Y88AU2Y58W78', 'A2Z6RKQQUX4RJA', 'A2ZBZF2MUG5BMT', 'A2ZFTLMOAS9YS9', 'A2ZIIOGLNJDGAW', 'A2ZKSKEG5ADC67', 'A2ZZKY1V6M940H', 'A31LANQ03TDCXY', 'A323D529OO2E1G', 'A3254BNN69CL47', 'A327I3S4ZCZYBV', 'A32D5I46E15TEC', 'A32H6TQKJ1PQTP', 'A32KYN14BUANDF', 'A32OQFYMJ18HD6', 'A333LLJ35S8DVV', 'A33M6H443E78K3', 'A33S6R9E8SJQBP', 'A34DAQYDWYMVSG', 'A35F9VHYWAFR8J', 'A35F9XOEGELEWC', 'A35PB7968I55RI', 'A35RIL0AVMMXXL', 'A35Y5NLC3UEUQD', 'A367NSWV6NUSL1', 'A36I89SEZ432XE', 'A375WSDCO30KT9', 'A37G41T4DD51AH', 'A37M369VIVDDVJ', 'A37OPVPXMWHJJK', 'A37WMXX147RL1X', 'A37XPPIGUTR4LE', 'A388NSX468EY1E', 'A38GODWWMRN5IP', 'A38J6ZI0XZOY54', 'A38KP6TI3BUIM6', 'A38KUK8INKLRVW', 'A38OH5OTHDIENK', 'A38QGF4YG5YLUX', 'A3909LKTROS8XZ', 'A3961EO6PXRSV4', 'A39LZUDABR584J', 'A39PTGNQVCNU44', 'A39VI1UOID3TYE', 'A39YNT3CHM2I0Z', 'A3A3FMJO4E1E16', 'A3B99K4E030SZQ', 'A3BE6JK97CYAGA', 'A3BLE5G96342IP', 'A3BNG9PTUPB4QO', 'A3BPFL7PM0EX1K', 'A3BT1WLPENXMD6', 'A3BU92XQ2M0FQV', 'A3BWTFXS9CXVAE', 'A3BXCNI6BG5GCW', 'A3C2F0Y7G5FRW3', 'A3CBKKG14IB1KH', 'A3CQ0NMUJ9TODP', 'A3CUAESGA4K7FU', 'A3CXM8XQ5Q1KPP', 'A3D0FFKCWXN2LR', 'A3D1IGUMS62SNU', 'A3D1VPTQGDS7H3', 'A3D4BNTGWVUMYY', 'A3DKARAF791Z5X', 'A3DTSBINBC9T1Y', 'A3DXQ86N43AUK3', 'A3DXW3542E4QUC', 'A3E9HGSGQCU4CT', 'A3EAHHQ7KV8LFG', 'A3EJS66CXBQLE8', 'A3ENBUF1TIQR5K', 'A3EZHDCUB7I4KM', 'A3F1C4MOB3X5XL', 'A3F6V5A2SFES04', 'A3FDEHXOYLD1AC', 'A3FGDP5PT4SPLK', 'A3FGWJLDNTJWED', 'A3G1X7LFBAPCUJ', 'A3GCKFO3G4AHLF', 'A3GGSN44XCR1LP', 'A3GPMU8E282AUW', 'A3GRQ9WMP4OXFE', 'A3GWKJFBX8ZKT6', 'A3H8Z7JS7XJHJJ', 'A3HRUR5VRFZ09F', 'A3IGRPW3T3WYYQ', 'A3J1T4IGQLKKMB', 'A3J9IGXNOJR2BL', 'A3JA23Z053GQH', 'A3JCDPKW3RY4RN', 'A3JEQJCEMX20GI', 'A3KFRJBKYYNED7', 'A3KS7QCK708PRV', 'A3KYSCD09GNSUT', 'A3LA1YKU7MU28G', 'A3LEZ2F3IJC8PI', 'A3LIUDVZL87BJ1', 'A3LW4UWD5IH59X', 'A3LX43D34SINN3', 'A3LZ31BL10WT5Y', 'A3MAKZCODKKTYI', 'A3MFCMTXMF9B6W', 'A3MKAAS1OCULM6', 'A3MOSFTVDLAPDQ', 'A3MSPZTFP55OAG', 'A3MYAEQWFLNGT7', 'A3N4SR54KR77RK', 'A3NVFNLI1D4JUI', 'A3NYG8M131X9CM', 'A3OAQJCQBNF2JV', 'A3OCZRK8OEGZKL', 'A3OIDZP7AI0URM', 'A3OVOP3ZAF1EZ2', 'A3P3RV0CUR0VRQ', 'A3P8Z0J9AH92IZ', 'A3PJ22YDBOO8DN', 'A3PLMGKX9OQWOY', 'A3QL4UXK2Z5Q7T', 'A3QLWWO4V4PFMJ', 'A3QUUP6DYHF9YC', 'A3R7ZWTFN19KIX', 'A3RCVP2TSCL409', 'A3RUEIK67SFBFQ', 'A3SG2GXNRU6AO8', 'A3SL5YEUG12X9A', 'A3SME2XHYE99M5', 'A3T0BPK8JD6MD5', 'A3T2OTYYUYGLP0', 'A3T35MARIMRX9M', 'A3T9MTY43BVAL8', 'A3T9WXXE7EWNT8', 'A3TELGW4O61A61', 'A3TGG91X7W9SE8', 'A3TSVNG02WZYSW', 'A3U32YT7BSZ0KJ', 'A3UAJ5O4VR3IQ3', 'A3UBQFB24OY57', 'A3UCBR5T51RVRF', 'A3URWO9TFNH3IW', 'A3V81XSQIPRKO8', 'A3V9LE9I6Z5AF3', 'A3VEZWV624JM4O', 'A3VFDFSQ8X74WJ', 'A3VXSKW11C3301', 'A4INUX2JA7KE2', 'A4IQXCCXDEAKW', 'A4PZHPMLBS8T3', 'A4SRPWVKZ8MBC', 'A4V3S90H5OZTV', 'A4VQ44JM97RBL', 'A5ECS1R7F1TUD', 'A5LV53PMV1X6R', 'A674HJEQGJ5R9', 'A679PFWSVAY0B', 'A6IX0T5Z4NEXG', 'A6JVX3BIR03UT', 'A6P34Q7M983DN', 'A72IXFDV3HVU6', 'A74XHLD33IB9S', 'A7EG6541KYNIU', 'A7HS9Y95Y9BI6', 'A7JUHUYLXIUVQ', 'A7KQ3EGH8QTDS', 'A7SILTHEWXQ8T', 'A7Y4ETTLARUGI', 'A7Z2BG3284EE8', 'A8FMILLDHAI14', 'A8JUUA4GHIAMI', 'A8LVPPXFVYGVU', 'A8ZUDRNPFB0FU', 'A9BXB2XYAW169', 'A9LOWDS5H848B', 'AA3TPN2ZXE9TE', 'AAD3T3WYTF1BR', 'AAJ1IA9SFH4IG', 'AAT4JCLA3VGRZ', 'ABNE90UVC4BMT', 'ABSMQNX2PDSWH', 'ABWCUEDFH8W5H', 'ABYOL1GQA39OB', 'AC0X1OVDMJX9', 'ACCY5NWUNEC87', 'ACE1ZIOI3U6PY', 'ACLAKWV2EFFB5', 'AD9O852KPYLHY', 'ADDXT6NXD9GQ7', 'ADG8D8X6P9X7M', 'ADR4IE33O06IJ', 'ADV1MNMPVS17V', 'ADYRHTPM2T2SE', 'AE6VHWVRXHU19', 'AEKJTREHL41OE', 'AEP7KPEZWI7VY', 'AETOYW0R5VN0X', 'AEZBSOFLB44RG', 'AFE9H6ABXM735', 'AFMQ7BBR4FYMB', 'AFY8EIWAT6H8J', 'AG0867QGE3R2B', 'AG3T3ILPXFL3H', 'AG74ZKO3BG57J', 'AGORXWI6K2RIR', 'AGRZQOBCF8H87', 'AGTD0T9R78YLG', 'AGYIYIVZHBI60', 'AHGNU4UWGATOH', 'AHYRXYR235TWH', 'AIB7HX2UC3WHM', 'AITF34BGBMVJJ', 'AIU7HYQIC5D95', 'AJHSB0LT8NKP4', 'AJYMJEC6B7V52', 'AK4VANLR5UK95', 'AK7YIZE6ZZ1N9', 'AKHSKD91MQ9DP', 'ALUZH689LQE6K', 'ALWLZC3GRRXPN', 'AM1KUDVTKXIAQ', 'AM9HBLGAPZQR7', 'AMA98TY969A1T', 'AMLDY4QY4HV0D', 'AMVZ9HW23Y42N', 'AN3QZR3OD7SFO', 'ANC6FN6T8JBB2', 'ANDGVKQ15NCZM', 'ANFUWUOC7EJKR', 'ANG7MOYBTWQE6', 'ANJ6Y9G0B4TM8', 'ANR73TPVBCQ9K', 'ANT034IX5ZPI9', 'AOB2Y1KJQG7K7', 'AONHG4PDUQ0D6', 'APA9SALOTTBM6', 'APARJQGAD0J4C', 'AQ5PKYF0FJA4B', 'AQCQQYEUHUX3M', 'AQYL4TDY2HU8Z', 'AR9Y0CM5B174', 'ARLN791TA1RV7', 'AS8T77HTF9IHW', 'ASGIVOW34XNQS', 'ATJRZUXNWAWIK', 'ATP2UCHTR7QMZ', 'ATR9J7TYR1KVL', 'ATVP6QJLS27EN', 'AU03W1V42994X', 'AU1BVXGV2KO8I', 'AU2JWZMFEVAH5', 'AU3MVNMVFSIM', 'AUKMWTDK16PAP', 'AUWJT1DM7SG2D', 'AV0O5NWF2NKDF', 'AV2MC7NNTMKTF', 'AVC89473DX6XU', 'AVFBQDR2KRNK6', 'AVIMJH2FF6QCH', 'AVO5FL5T9EZSR', 'AVQ0V2MIW2Z5K', 'AVWSUUBWD3RK4', 'AWJFUVK3064HX', 'AXM9OKKHRR4RP', 'AXPZI9N8HVHYO', 'AXQ57AZLKLPCQ', 'AXQS1B3WVRHQV', 'AXS7NH3GDN7EE', 'AY4F95T0JSTZ2', 'AYG63OK9TNBNP', 'AZE64W03EUJA4', 'AZECTAHZICNW5', 'AZEGZXCFTLSQB', 'AZEKC7DEXXJD7', 'AZFGSCB0S59LQ', 'AZHS42HV4FKKA']\n",
            "2 0.001694915254237288\n",
            "get 10 recommendation items for user: ['A100XQFWKQ30O2', 'A103T1QOGFCSEH', 'A106UKKSJ2KXPF', 'A10A7GV4D5A11V', 'A1119JJ37ZLB8R', 'A113UOOLBSZN52', 'A12M4U7WK4ALCR', 'A12T8YTW6VWT7S', 'A1364JXGKB46MM', 'A137DALOQFKBTI', 'A13FEZ3WV7S2EY', 'A13IV4I1B0RXMG', 'A13JU88JAHN72I', 'A13K55R6VH1OOD', 'A13P7VFU075A', 'A13SWYE4QLB6NG', 'A13ZTQ0Q4ATA41', 'A142EDN04OD62U', 'A142I22FIC8MZK', 'A14834QTII5TLT', 'A14A447VPACTBC', 'A14AP6MN5XO6LB', 'A14CLF25IX25US', 'A14LYXC3HTBAHI', 'A14VUW4KZ34EOE', 'A14Y32P26G9YL', 'A157T25PBS7MX4', 'A15HZDSERD85C8', 'A15JJ8J1FGADIX', 'A15ZCL70JXXH89', 'A1617KN2IAWZ6J', 'A16E0O88262HKA', 'A16NSZ58PTVIYF', 'A16UGDXRTDLJG5', 'A16X9HR3UFQQXY', 'A16Y7V1CZCWKFV', 'A174YOBOSW9WDN', 'A1786SKRAJXH86', 'A17K2BUZ20WD2', 'A17LYRFV645L0V', 'A18LNGVXDZBTUR', 'A19503XX7GU6J2', 'A19HVHRZDYFEOP', 'A19JM38B861BO4', 'A19KGY3W1P0MHT', 'A19KJPOF3QOJ24', 'A19U5RT4Q8Q1T6', 'A1AQNQUNX8B6JT', 'A1ARU0IN6RUFFD', 'A1BB4635KSKDMV', 'A1BCC7X6KRTBG0', 'A1BPJ56BXENC7', 'A1C0RI6W65FC8B', 'A1C60LJGZVEK27', 'A1CB2SMS3TD44Z', 'A1CNSU8P68CPLT', 'A1CSDWBYUJBCJZ', 'A1CTNNVIYHO25P', 'A1CTQF97HFYOZB', 'A1D5C2H9UFZHPU', 'A1D5UVH72Z6NJ1', 'A1DAUVZRVSLLNW', 'A1DCZ9882PXLVB', 'A1DZ63D35BNT86', 'A1E0QCKB4R2X8X', 'A1E76OZZ5YUWVA', 'A1EBHZPAYMILW9', 'A1EJVNGBY5GM5I', 'A1ER0356V2DSKW', 'A1EY751AUVO5NZ', 'A1EZFX1TRHSAJX', 'A1F08GM4B97FV', 'A1F6EFMBK795DJ', 'A1FC8Y896NZP4T', 'A1FKIAKVOBNN7Y', 'A1FKUBRPLG6Y8I', 'A1G2HL4W8B3TA0', 'A1G8Z9IKJ0BD1M', 'A1GEJ55RJGD7JW', 'A1GIYGD23YIDTN', 'A1GLG2IZBZHRAJ', 'A1H1T82FPO20DN', 'A1H7JDZ9BKTKGC', 'A1HBROZPSV5KT6', 'A1HBXMUIHTAIU2', 'A1I32A4SA9W2L2', 'A1IDJ6KR8CQV9I', 'A1II0TTUUE2C7Y', 'A1ILEZFIVOU0EP', 'A1ITJ5M7I9G7FR', 'A1IWTXM1SJWHDN', 'A1J2NTTE63GNG2', 'A1JRREJ5D62LFF', 'A1KGMTEXL70WF6', 'A1KWUQZJ1Z6MN2', 'A1LXJ8XCGNBXOF', 'A1M8YMS915ZK0B', 'A1NDRR3G9SJF18', 'A1NE6K8PXW780O', 'A1NEG0FRW5FDBL', 'A1NN82RWB6PXJW', 'A1NY67EVWD6CD6', 'A1OB41VQHXZ0R8', 'A1OJ2IXX8F7Q7X', 'A1OTIUDE7LWAGT', 'A1P1OHYJOOZX5P', 'A1PFDA9SL15S4O', 'A1PKBKALGLSX0Z', 'A1PMLXHE863GR6', 'A1PR178735XC70', 'A1PXO67EUM5HJQ', 'A1QHS58JVFLF3I', 'A1QPKRHCAOQVZ5', 'A1R2TTULP0Z2BM', 'A1R8GBYBJWWWU0', 'A1RAXJN2Q4V20X', 'A1RCMCAJR2LJA4', 'A1RE2XA5HQD1D3', 'A1RMLPJ1PF8LGV', 'A1RX2ODQRQZVSI', 'A1S3NMNTSO6GW', 'A1S6OQV823B53J', 'A1SA3N793WT2LM', 'A1SA932MLERVQY', 'A1SCZBXGPJ2615', 'A1SMXRCNRO4ZQM', 'A1T1N2585E1T0D', 'A1TEKLMF4V1X2C', 'A1TF44D9KYAD60', 'A1TGP1VTM3KCTI', 'A1TK5M6EM3GS3C', 'A1TO3GV14TGF2R', 'A1TP9JHTIY468V', 'A1UAOE8KO7Q1DZ', 'A1UDCDY6ZNE83T', 'A1UUNKRU1DTZTL', 'A1V0UJQ4XGAJ3H', 'A1VBZLO2JGYU1B', 'A1VC6YCAFKV6Q', 'A1VVEX78B2TYBX', 'A1VVQ2DFL0QLXF', 'A1VYWSQ2OXLH98', 'A1WEFBEJ7OHSVZ', 'A1WOX40GUAFDKW', 'A1WSZED2O5MA5T', 'A1XBJBT6HORBLA', 'A1XHN6JF8A8W69', 'A1XWCTARAQ0679', 'A1XZJ85PKMAZP0', 'A1YALF6PWOMS6S', 'A1YEO5KEW7M2GF', 'A1YQ33635DJEG5', 'A1YSAFP6T3JZ1C', 'A1YTPCNXQ2LJ5Z', 'A1YVXZK51DEDPC', 'A1Z3GE09RDY6O7', 'A1Z6IPI0G3QIUR', 'A1ZVXL7K0XY3S6', 'A1ZXYITUZM3Q6A', 'A202BVEB76NTMK', 'A205S0BTPEFI0I', 'A20MSUD02BETH2', 'A20P2XESU3G3EC', 'A20QY357E6SAF', 'A20SJ2793OUCPW', 'A20T7NNNUHH60H', 'A21JL9NVA7KEMC', 'A21M4N08F3EU5J', 'A21NUBJVBS230S', 'A21OELUKDF2E57', 'A21XQP90LEND9R', 'A21YO11OY4KATO', 'A220EHDBIGBL30', 'A224YJVNU30DVM', 'A22A1B25VBD0YO', 'A22EWIMT2GUTTL', 'A22EZJLTPINCFS', 'A22QJRB86RF6O1', 'A2320AUCHA95U2', 'A232IJ75I4KP9C', 'A23GTKDW92ZPP2', 'A23O1B8IVSYKMO', 'A23VR3KT0TPG83', 'A24HCM5QV0ZTJ5', 'A24ZE4O3OQMSP0', 'A255E6ZWUBMEJJ', 'A258D00BRNHJ77', 'A25TLD8KIU807H', 'A26434CRUTADT5', 'A26AT96096UOEZ', 'A26RKZDM4DK8OQ', 'A274IW68565M0U', 'A286OWYO1BDT52', 'A288UAQLON8FK2', 'A28E3FNV1BYC94', 'A28GO11F387SOX', 'A28H0PFALTML0I', 'A28OZKV4ZYZX42', 'A28P7FF1TVPG1K', 'A28Q7C1FAIZGLV', 'A29834GBB4DOP1', 'A29HQ60YC1RG1P', 'A29MENRU87PET0', 'A29PZKXDCQFTYW', 'A29SD3TFGX6Q34', 'A2A0MIOWIW2SB8', 'A2A8ECI6ABJBMA', 'A2AAQWBJJTK3E1', 'A2AE0E0H463YL6', 'A2APG6OZXU4QIZ', 'A2BDB427ROEP7H', 'A2BHJO8WOGMW6E', 'A2BOSA30FCF6G8', 'A2BU6N5956T9NH', 'A2BUZ308P92OYA', 'A2C1F859F9V1SL', 'A2C8YINPNRQOAU', 'A2CDQOF7WHUYKJ', 'A2CEEE0IK3LKN1', 'A2CZVE6ORV87C5', 'A2DD6RH1AF0PLI', 'A2DFOCWUKJX3PT', 'A2E8WG5GRZGMXU', 'A2ESQAPIGR2TJF', 'A2EUQ4ESAB2N6A', 'A2EZXF5YGYTOWN', 'A2F0VQQLSF558D', 'A2F3QV40SONN60', 'A2F95NSPD4XEEU', 'A2FA2J1JT12N7J', 'A2FFUJ5D4CMJ4L', 'A2FLLYV6Z8UQ26', 'A2G1XJ25DR7PVF', 'A2G5KJ0CZE65ZD', 'A2GFPTQ4VWDX96', 'A2GJLNRQTVUNOF', 'A2GOFJ3OZZUZ3H', 'A2GV0FE30O6M67', 'A2H3W11661MWDA', 'A2H7FD5GQMJXAQ', 'A2H7VSYLKGKLLJ', 'A2HFAX39PMLIGH', 'A2I4O72AAE1T1T', 'A2I868XUY96VWA', 'A2IK039KMC8UP1', 'A2IMJV0CQMZLGC', 'A2INWR0T7A7UN5', 'A2IOBG1ERS4JP3', 'A2IRPQ7DXQ9YIN', 'A2J4WOR87ELFBH', 'A2JCBLTLYDPQLW', 'A2JEH2NKM1Z8CQ', 'A2JXZSR7R85KX4', 'A2K7XZCFYGZH0O', 'A2KO4HGLWB57LI', 'A2KVN4XKFJH0I8', 'A2LM47GK1W7RRR', 'A2LSOMD2X9KCCH', 'A2LYTBRWFQJMKM', 'A2M4YSOJZELJ6N', 'A2MAZK8XSIDXPF', 'A2MDIPJ7MS0MUJ', 'A2MGO3WV3SX7X', 'A2MLV3I5MMJ2RA', 'A2MPSHMC0U29AV', 'A2NI47L1B1RXSG', 'A2NJQZBE8TSUYO', 'A2NWTETCSLOEQN', 'A2O4DMC8M5JFHG', 'A2O823CIB99X95', 'A2OT3011J8E1ZP', 'A2OXIHJW4K9NKE', 'A2P6L9MQK99U36', 'A2PB6LYMRA7Z9V', 'A2PEJEOUE9MNA6', 'A2PIBK3EOG5TBK', 'A2PY1DBGV9FQA2', 'A2Q5UOQ4L1BOB9', 'A2QE1WIYFY0HAP', 'A2QP73U21FHJZI', 'A2QV1YJODH28QP', 'A2RAISC8UEEBK9', 'A2RDNAR2R66DKD', 'A2RXAD7UZ4VFT6', 'A2S47NK970GKD9', 'A2SMFKDH22FMA3', 'A2SOH4QHL5DZ6D', 'A2SQIQZUBEAJR3', 'A2SWEHEK2BMPM8', 'A2SYZ28NVJZ4R1', 'A2T0AMZZLASKKV', 'A2TCLY6N04N9D7', 'A2TW5FC72PI7SE', 'A2UAC8RKSPUIKH', 'A2UX00W1OX5A80', 'A2V88AD0XHE2IE', 'A2VC9R3XCFOEP1', 'A2VLCD1OWKXBW0', 'A2VTFDQ1DZN7UI', 'A2WHTNQ939BS71', 'A2WQGKM49J8UYT', 'A2WX2YLLHJDLX7', 'A2X4BZH61VJH5M', 'A2XEM0Y2PBNYK3', 'A2XFJ8CTY7VDNN', 'A2XTIQTNDTY6IA', 'A2XVM7UW32TYJ4', 'A2XY3CJ3ZCAD03', 'A2XYR0XUSOOBKN', 'A2Y1J1AKXDLR1', 'A2Y88AU2Y58W78', 'A2Z6RKQQUX4RJA', 'A2ZBZF2MUG5BMT', 'A2ZFTLMOAS9YS9', 'A2ZIIOGLNJDGAW', 'A2ZKSKEG5ADC67', 'A2ZZKY1V6M940H', 'A31LANQ03TDCXY', 'A323D529OO2E1G', 'A3254BNN69CL47', 'A327I3S4ZCZYBV', 'A32D5I46E15TEC', 'A32H6TQKJ1PQTP', 'A32KYN14BUANDF', 'A32OQFYMJ18HD6', 'A333LLJ35S8DVV', 'A33M6H443E78K3', 'A33S6R9E8SJQBP', 'A34DAQYDWYMVSG', 'A35F9VHYWAFR8J', 'A35F9XOEGELEWC', 'A35PB7968I55RI', 'A35RIL0AVMMXXL', 'A35Y5NLC3UEUQD', 'A367NSWV6NUSL1', 'A36I89SEZ432XE', 'A375WSDCO30KT9', 'A37G41T4DD51AH', 'A37M369VIVDDVJ', 'A37OPVPXMWHJJK', 'A37WMXX147RL1X', 'A37XPPIGUTR4LE', 'A388NSX468EY1E', 'A38GODWWMRN5IP', 'A38J6ZI0XZOY54', 'A38KP6TI3BUIM6', 'A38KUK8INKLRVW', 'A38OH5OTHDIENK', 'A38QGF4YG5YLUX', 'A3909LKTROS8XZ', 'A3961EO6PXRSV4', 'A39LZUDABR584J', 'A39PTGNQVCNU44', 'A39VI1UOID3TYE', 'A39YNT3CHM2I0Z', 'A3A3FMJO4E1E16', 'A3B99K4E030SZQ', 'A3BE6JK97CYAGA', 'A3BLE5G96342IP', 'A3BNG9PTUPB4QO', 'A3BPFL7PM0EX1K', 'A3BT1WLPENXMD6', 'A3BU92XQ2M0FQV', 'A3BWTFXS9CXVAE', 'A3BXCNI6BG5GCW', 'A3C2F0Y7G5FRW3', 'A3CBKKG14IB1KH', 'A3CQ0NMUJ9TODP', 'A3CUAESGA4K7FU', 'A3CXM8XQ5Q1KPP', 'A3D0FFKCWXN2LR', 'A3D1IGUMS62SNU', 'A3D1VPTQGDS7H3', 'A3D4BNTGWVUMYY', 'A3DKARAF791Z5X', 'A3DTSBINBC9T1Y', 'A3DXQ86N43AUK3', 'A3DXW3542E4QUC', 'A3E9HGSGQCU4CT', 'A3EAHHQ7KV8LFG', 'A3EJS66CXBQLE8', 'A3ENBUF1TIQR5K', 'A3EZHDCUB7I4KM', 'A3F1C4MOB3X5XL', 'A3F6V5A2SFES04', 'A3FDEHXOYLD1AC', 'A3FGDP5PT4SPLK', 'A3FGWJLDNTJWED', 'A3G1X7LFBAPCUJ', 'A3GCKFO3G4AHLF', 'A3GGSN44XCR1LP', 'A3GPMU8E282AUW', 'A3GRQ9WMP4OXFE', 'A3GWKJFBX8ZKT6', 'A3H8Z7JS7XJHJJ', 'A3HRUR5VRFZ09F', 'A3IGRPW3T3WYYQ', 'A3J1T4IGQLKKMB', 'A3J9IGXNOJR2BL', 'A3JA23Z053GQH', 'A3JCDPKW3RY4RN', 'A3JEQJCEMX20GI', 'A3KFRJBKYYNED7', 'A3KS7QCK708PRV', 'A3KYSCD09GNSUT', 'A3LA1YKU7MU28G', 'A3LEZ2F3IJC8PI', 'A3LIUDVZL87BJ1', 'A3LW4UWD5IH59X', 'A3LX43D34SINN3', 'A3LZ31BL10WT5Y', 'A3MAKZCODKKTYI', 'A3MFCMTXMF9B6W', 'A3MKAAS1OCULM6', 'A3MOSFTVDLAPDQ', 'A3MSPZTFP55OAG', 'A3MYAEQWFLNGT7', 'A3N4SR54KR77RK', 'A3NVFNLI1D4JUI', 'A3NYG8M131X9CM', 'A3OAQJCQBNF2JV', 'A3OCZRK8OEGZKL', 'A3OIDZP7AI0URM', 'A3OVOP3ZAF1EZ2', 'A3P3RV0CUR0VRQ', 'A3P8Z0J9AH92IZ', 'A3PJ22YDBOO8DN', 'A3PLMGKX9OQWOY', 'A3QL4UXK2Z5Q7T', 'A3QLWWO4V4PFMJ', 'A3QUUP6DYHF9YC', 'A3R7ZWTFN19KIX', 'A3RCVP2TSCL409', 'A3RUEIK67SFBFQ', 'A3SG2GXNRU6AO8', 'A3SL5YEUG12X9A', 'A3SME2XHYE99M5', 'A3T0BPK8JD6MD5', 'A3T2OTYYUYGLP0', 'A3T35MARIMRX9M', 'A3T9MTY43BVAL8', 'A3T9WXXE7EWNT8', 'A3TELGW4O61A61', 'A3TGG91X7W9SE8', 'A3TSVNG02WZYSW', 'A3U32YT7BSZ0KJ', 'A3UAJ5O4VR3IQ3', 'A3UBQFB24OY57', 'A3UCBR5T51RVRF', 'A3URWO9TFNH3IW', 'A3V81XSQIPRKO8', 'A3V9LE9I6Z5AF3', 'A3VEZWV624JM4O', 'A3VFDFSQ8X74WJ', 'A3VXSKW11C3301', 'A4INUX2JA7KE2', 'A4IQXCCXDEAKW', 'A4PZHPMLBS8T3', 'A4SRPWVKZ8MBC', 'A4V3S90H5OZTV', 'A4VQ44JM97RBL', 'A5ECS1R7F1TUD', 'A5LV53PMV1X6R', 'A674HJEQGJ5R9', 'A679PFWSVAY0B', 'A6IX0T5Z4NEXG', 'A6JVX3BIR03UT', 'A6P34Q7M983DN', 'A72IXFDV3HVU6', 'A74XHLD33IB9S', 'A7EG6541KYNIU', 'A7HS9Y95Y9BI6', 'A7JUHUYLXIUVQ', 'A7KQ3EGH8QTDS', 'A7SILTHEWXQ8T', 'A7Y4ETTLARUGI', 'A7Z2BG3284EE8', 'A8FMILLDHAI14', 'A8JUUA4GHIAMI', 'A8LVPPXFVYGVU', 'A8ZUDRNPFB0FU', 'A9BXB2XYAW169', 'A9LOWDS5H848B', 'AA3TPN2ZXE9TE', 'AAD3T3WYTF1BR', 'AAJ1IA9SFH4IG', 'AAT4JCLA3VGRZ', 'ABNE90UVC4BMT', 'ABSMQNX2PDSWH', 'ABWCUEDFH8W5H', 'ABYOL1GQA39OB', 'AC0X1OVDMJX9', 'ACCY5NWUNEC87', 'ACE1ZIOI3U6PY', 'ACLAKWV2EFFB5', 'AD9O852KPYLHY', 'ADDXT6NXD9GQ7', 'ADG8D8X6P9X7M', 'ADR4IE33O06IJ', 'ADV1MNMPVS17V', 'ADYRHTPM2T2SE', 'AE6VHWVRXHU19', 'AEKJTREHL41OE', 'AEP7KPEZWI7VY', 'AETOYW0R5VN0X', 'AEZBSOFLB44RG', 'AFE9H6ABXM735', 'AFMQ7BBR4FYMB', 'AFY8EIWAT6H8J', 'AG0867QGE3R2B', 'AG3T3ILPXFL3H', 'AG74ZKO3BG57J', 'AGORXWI6K2RIR', 'AGRZQOBCF8H87', 'AGTD0T9R78YLG', 'AGYIYIVZHBI60', 'AHGNU4UWGATOH', 'AHYRXYR235TWH', 'AIB7HX2UC3WHM', 'AITF34BGBMVJJ', 'AIU7HYQIC5D95', 'AJHSB0LT8NKP4', 'AJYMJEC6B7V52', 'AK4VANLR5UK95', 'AK7YIZE6ZZ1N9', 'AKHSKD91MQ9DP', 'ALUZH689LQE6K', 'ALWLZC3GRRXPN', 'AM1KUDVTKXIAQ', 'AM9HBLGAPZQR7', 'AMA98TY969A1T', 'AMLDY4QY4HV0D', 'AMVZ9HW23Y42N', 'AN3QZR3OD7SFO', 'ANC6FN6T8JBB2', 'ANDGVKQ15NCZM', 'ANFUWUOC7EJKR', 'ANG7MOYBTWQE6', 'ANJ6Y9G0B4TM8', 'ANR73TPVBCQ9K', 'ANT034IX5ZPI9', 'AOB2Y1KJQG7K7', 'AONHG4PDUQ0D6', 'APA9SALOTTBM6', 'APARJQGAD0J4C', 'AQ5PKYF0FJA4B', 'AQCQQYEUHUX3M', 'AQYL4TDY2HU8Z', 'AR9Y0CM5B174', 'ARLN791TA1RV7', 'AS8T77HTF9IHW', 'ASGIVOW34XNQS', 'ATJRZUXNWAWIK', 'ATP2UCHTR7QMZ', 'ATR9J7TYR1KVL', 'ATVP6QJLS27EN', 'AU03W1V42994X', 'AU1BVXGV2KO8I', 'AU2JWZMFEVAH5', 'AU3MVNMVFSIM', 'AUKMWTDK16PAP', 'AUWJT1DM7SG2D', 'AV0O5NWF2NKDF', 'AV2MC7NNTMKTF', 'AVC89473DX6XU', 'AVFBQDR2KRNK6', 'AVIMJH2FF6QCH', 'AVO5FL5T9EZSR', 'AVQ0V2MIW2Z5K', 'AVWSUUBWD3RK4', 'AWJFUVK3064HX', 'AXM9OKKHRR4RP', 'AXPZI9N8HVHYO', 'AXQ57AZLKLPCQ', 'AXQS1B3WVRHQV', 'AXS7NH3GDN7EE', 'AY4F95T0JSTZ2', 'AYG63OK9TNBNP', 'AZE64W03EUJA4', 'AZECTAHZICNW5', 'AZEGZXCFTLSQB', 'AZEKC7DEXXJD7', 'AZFGSCB0S59LQ', 'AZHS42HV4FKKA']\n",
            "3 0.001694915254237288\n",
            "get 10 recommendation items for user: ['A100XQFWKQ30O2', 'A103T1QOGFCSEH', 'A106UKKSJ2KXPF', 'A10A7GV4D5A11V', 'A1119JJ37ZLB8R', 'A113UOOLBSZN52', 'A12M4U7WK4ALCR', 'A12T8YTW6VWT7S', 'A1364JXGKB46MM', 'A137DALOQFKBTI', 'A13FEZ3WV7S2EY', 'A13IV4I1B0RXMG', 'A13JU88JAHN72I', 'A13K55R6VH1OOD', 'A13P7VFU075A', 'A13SWYE4QLB6NG', 'A13ZTQ0Q4ATA41', 'A142EDN04OD62U', 'A142I22FIC8MZK', 'A14834QTII5TLT', 'A14A447VPACTBC', 'A14AP6MN5XO6LB', 'A14CLF25IX25US', 'A14LYXC3HTBAHI', 'A14VUW4KZ34EOE', 'A14Y32P26G9YL', 'A157T25PBS7MX4', 'A15HZDSERD85C8', 'A15JJ8J1FGADIX', 'A15ZCL70JXXH89', 'A1617KN2IAWZ6J', 'A16E0O88262HKA', 'A16NSZ58PTVIYF', 'A16UGDXRTDLJG5', 'A16X9HR3UFQQXY', 'A16Y7V1CZCWKFV', 'A174YOBOSW9WDN', 'A1786SKRAJXH86', 'A17K2BUZ20WD2', 'A17LYRFV645L0V', 'A18LNGVXDZBTUR', 'A19503XX7GU6J2', 'A19HVHRZDYFEOP', 'A19JM38B861BO4', 'A19KGY3W1P0MHT', 'A19KJPOF3QOJ24', 'A19U5RT4Q8Q1T6', 'A1AQNQUNX8B6JT', 'A1ARU0IN6RUFFD', 'A1BB4635KSKDMV', 'A1BCC7X6KRTBG0', 'A1BPJ56BXENC7', 'A1C0RI6W65FC8B', 'A1C60LJGZVEK27', 'A1CB2SMS3TD44Z', 'A1CNSU8P68CPLT', 'A1CSDWBYUJBCJZ', 'A1CTNNVIYHO25P', 'A1CTQF97HFYOZB', 'A1D5C2H9UFZHPU', 'A1D5UVH72Z6NJ1', 'A1DAUVZRVSLLNW', 'A1DCZ9882PXLVB', 'A1DZ63D35BNT86', 'A1E0QCKB4R2X8X', 'A1E76OZZ5YUWVA', 'A1EBHZPAYMILW9', 'A1EJVNGBY5GM5I', 'A1ER0356V2DSKW', 'A1EY751AUVO5NZ', 'A1EZFX1TRHSAJX', 'A1F08GM4B97FV', 'A1F6EFMBK795DJ', 'A1FC8Y896NZP4T', 'A1FKIAKVOBNN7Y', 'A1FKUBRPLG6Y8I', 'A1G2HL4W8B3TA0', 'A1G8Z9IKJ0BD1M', 'A1GEJ55RJGD7JW', 'A1GIYGD23YIDTN', 'A1GLG2IZBZHRAJ', 'A1H1T82FPO20DN', 'A1H7JDZ9BKTKGC', 'A1HBROZPSV5KT6', 'A1HBXMUIHTAIU2', 'A1I32A4SA9W2L2', 'A1IDJ6KR8CQV9I', 'A1II0TTUUE2C7Y', 'A1ILEZFIVOU0EP', 'A1ITJ5M7I9G7FR', 'A1IWTXM1SJWHDN', 'A1J2NTTE63GNG2', 'A1JRREJ5D62LFF', 'A1KGMTEXL70WF6', 'A1KWUQZJ1Z6MN2', 'A1LXJ8XCGNBXOF', 'A1M8YMS915ZK0B', 'A1NDRR3G9SJF18', 'A1NE6K8PXW780O', 'A1NEG0FRW5FDBL', 'A1NN82RWB6PXJW', 'A1NY67EVWD6CD6', 'A1OB41VQHXZ0R8', 'A1OJ2IXX8F7Q7X', 'A1OTIUDE7LWAGT', 'A1P1OHYJOOZX5P', 'A1PFDA9SL15S4O', 'A1PKBKALGLSX0Z', 'A1PMLXHE863GR6', 'A1PR178735XC70', 'A1PXO67EUM5HJQ', 'A1QHS58JVFLF3I', 'A1QPKRHCAOQVZ5', 'A1R2TTULP0Z2BM', 'A1R8GBYBJWWWU0', 'A1RAXJN2Q4V20X', 'A1RCMCAJR2LJA4', 'A1RE2XA5HQD1D3', 'A1RMLPJ1PF8LGV', 'A1RX2ODQRQZVSI', 'A1S3NMNTSO6GW', 'A1S6OQV823B53J', 'A1SA3N793WT2LM', 'A1SA932MLERVQY', 'A1SCZBXGPJ2615', 'A1SMXRCNRO4ZQM', 'A1T1N2585E1T0D', 'A1TEKLMF4V1X2C', 'A1TF44D9KYAD60', 'A1TGP1VTM3KCTI', 'A1TK5M6EM3GS3C', 'A1TO3GV14TGF2R', 'A1TP9JHTIY468V', 'A1UAOE8KO7Q1DZ', 'A1UDCDY6ZNE83T', 'A1UUNKRU1DTZTL', 'A1V0UJQ4XGAJ3H', 'A1VBZLO2JGYU1B', 'A1VC6YCAFKV6Q', 'A1VVEX78B2TYBX', 'A1VVQ2DFL0QLXF', 'A1VYWSQ2OXLH98', 'A1WEFBEJ7OHSVZ', 'A1WOX40GUAFDKW', 'A1WSZED2O5MA5T', 'A1XBJBT6HORBLA', 'A1XHN6JF8A8W69', 'A1XWCTARAQ0679', 'A1XZJ85PKMAZP0', 'A1YALF6PWOMS6S', 'A1YEO5KEW7M2GF', 'A1YQ33635DJEG5', 'A1YSAFP6T3JZ1C', 'A1YTPCNXQ2LJ5Z', 'A1YVXZK51DEDPC', 'A1Z3GE09RDY6O7', 'A1Z6IPI0G3QIUR', 'A1ZVXL7K0XY3S6', 'A1ZXYITUZM3Q6A', 'A202BVEB76NTMK', 'A205S0BTPEFI0I', 'A20MSUD02BETH2', 'A20P2XESU3G3EC', 'A20QY357E6SAF', 'A20SJ2793OUCPW', 'A20T7NNNUHH60H', 'A21JL9NVA7KEMC', 'A21M4N08F3EU5J', 'A21NUBJVBS230S', 'A21OELUKDF2E57', 'A21XQP90LEND9R', 'A21YO11OY4KATO', 'A220EHDBIGBL30', 'A224YJVNU30DVM', 'A22A1B25VBD0YO', 'A22EWIMT2GUTTL', 'A22EZJLTPINCFS', 'A22QJRB86RF6O1', 'A2320AUCHA95U2', 'A232IJ75I4KP9C', 'A23GTKDW92ZPP2', 'A23O1B8IVSYKMO', 'A23VR3KT0TPG83', 'A24HCM5QV0ZTJ5', 'A24ZE4O3OQMSP0', 'A255E6ZWUBMEJJ', 'A258D00BRNHJ77', 'A25TLD8KIU807H', 'A26434CRUTADT5', 'A26AT96096UOEZ', 'A26RKZDM4DK8OQ', 'A274IW68565M0U', 'A286OWYO1BDT52', 'A288UAQLON8FK2', 'A28E3FNV1BYC94', 'A28GO11F387SOX', 'A28H0PFALTML0I', 'A28OZKV4ZYZX42', 'A28P7FF1TVPG1K', 'A28Q7C1FAIZGLV', 'A29834GBB4DOP1', 'A29HQ60YC1RG1P', 'A29MENRU87PET0', 'A29PZKXDCQFTYW', 'A29SD3TFGX6Q34', 'A2A0MIOWIW2SB8', 'A2A8ECI6ABJBMA', 'A2AAQWBJJTK3E1', 'A2AE0E0H463YL6', 'A2APG6OZXU4QIZ', 'A2BDB427ROEP7H', 'A2BHJO8WOGMW6E', 'A2BOSA30FCF6G8', 'A2BU6N5956T9NH', 'A2BUZ308P92OYA', 'A2C1F859F9V1SL', 'A2C8YINPNRQOAU', 'A2CDQOF7WHUYKJ', 'A2CEEE0IK3LKN1', 'A2CZVE6ORV87C5', 'A2DD6RH1AF0PLI', 'A2DFOCWUKJX3PT', 'A2E8WG5GRZGMXU', 'A2ESQAPIGR2TJF', 'A2EUQ4ESAB2N6A', 'A2EZXF5YGYTOWN', 'A2F0VQQLSF558D', 'A2F3QV40SONN60', 'A2F95NSPD4XEEU', 'A2FA2J1JT12N7J', 'A2FFUJ5D4CMJ4L', 'A2FLLYV6Z8UQ26', 'A2G1XJ25DR7PVF', 'A2G5KJ0CZE65ZD', 'A2GFPTQ4VWDX96', 'A2GJLNRQTVUNOF', 'A2GOFJ3OZZUZ3H', 'A2GV0FE30O6M67', 'A2H3W11661MWDA', 'A2H7FD5GQMJXAQ', 'A2H7VSYLKGKLLJ', 'A2HFAX39PMLIGH', 'A2I4O72AAE1T1T', 'A2I868XUY96VWA', 'A2IK039KMC8UP1', 'A2IMJV0CQMZLGC', 'A2INWR0T7A7UN5', 'A2IOBG1ERS4JP3', 'A2IRPQ7DXQ9YIN', 'A2J4WOR87ELFBH', 'A2JCBLTLYDPQLW', 'A2JEH2NKM1Z8CQ', 'A2JXZSR7R85KX4', 'A2K7XZCFYGZH0O', 'A2KO4HGLWB57LI', 'A2KVN4XKFJH0I8', 'A2LM47GK1W7RRR', 'A2LSOMD2X9KCCH', 'A2LYTBRWFQJMKM', 'A2M4YSOJZELJ6N', 'A2MAZK8XSIDXPF', 'A2MDIPJ7MS0MUJ', 'A2MGO3WV3SX7X', 'A2MLV3I5MMJ2RA', 'A2MPSHMC0U29AV', 'A2NI47L1B1RXSG', 'A2NJQZBE8TSUYO', 'A2NWTETCSLOEQN', 'A2O4DMC8M5JFHG', 'A2O823CIB99X95', 'A2OT3011J8E1ZP', 'A2OXIHJW4K9NKE', 'A2P6L9MQK99U36', 'A2PB6LYMRA7Z9V', 'A2PEJEOUE9MNA6', 'A2PIBK3EOG5TBK', 'A2PY1DBGV9FQA2', 'A2Q5UOQ4L1BOB9', 'A2QE1WIYFY0HAP', 'A2QP73U21FHJZI', 'A2QV1YJODH28QP', 'A2RAISC8UEEBK9', 'A2RDNAR2R66DKD', 'A2RXAD7UZ4VFT6', 'A2S47NK970GKD9', 'A2SMFKDH22FMA3', 'A2SOH4QHL5DZ6D', 'A2SQIQZUBEAJR3', 'A2SWEHEK2BMPM8', 'A2SYZ28NVJZ4R1', 'A2T0AMZZLASKKV', 'A2TCLY6N04N9D7', 'A2TW5FC72PI7SE', 'A2UAC8RKSPUIKH', 'A2UX00W1OX5A80', 'A2V88AD0XHE2IE', 'A2VC9R3XCFOEP1', 'A2VLCD1OWKXBW0', 'A2VTFDQ1DZN7UI', 'A2WHTNQ939BS71', 'A2WQGKM49J8UYT', 'A2WX2YLLHJDLX7', 'A2X4BZH61VJH5M', 'A2XEM0Y2PBNYK3', 'A2XFJ8CTY7VDNN', 'A2XTIQTNDTY6IA', 'A2XVM7UW32TYJ4', 'A2XY3CJ3ZCAD03', 'A2XYR0XUSOOBKN', 'A2Y1J1AKXDLR1', 'A2Y88AU2Y58W78', 'A2Z6RKQQUX4RJA', 'A2ZBZF2MUG5BMT', 'A2ZFTLMOAS9YS9', 'A2ZIIOGLNJDGAW', 'A2ZKSKEG5ADC67', 'A2ZZKY1V6M940H', 'A31LANQ03TDCXY', 'A323D529OO2E1G', 'A3254BNN69CL47', 'A327I3S4ZCZYBV', 'A32D5I46E15TEC', 'A32H6TQKJ1PQTP', 'A32KYN14BUANDF', 'A32OQFYMJ18HD6', 'A333LLJ35S8DVV', 'A33M6H443E78K3', 'A33S6R9E8SJQBP', 'A34DAQYDWYMVSG', 'A35F9VHYWAFR8J', 'A35F9XOEGELEWC', 'A35PB7968I55RI', 'A35RIL0AVMMXXL', 'A35Y5NLC3UEUQD', 'A367NSWV6NUSL1', 'A36I89SEZ432XE', 'A375WSDCO30KT9', 'A37G41T4DD51AH', 'A37M369VIVDDVJ', 'A37OPVPXMWHJJK', 'A37WMXX147RL1X', 'A37XPPIGUTR4LE', 'A388NSX468EY1E', 'A38GODWWMRN5IP', 'A38J6ZI0XZOY54', 'A38KP6TI3BUIM6', 'A38KUK8INKLRVW', 'A38OH5OTHDIENK', 'A38QGF4YG5YLUX', 'A3909LKTROS8XZ', 'A3961EO6PXRSV4', 'A39LZUDABR584J', 'A39PTGNQVCNU44', 'A39VI1UOID3TYE', 'A39YNT3CHM2I0Z', 'A3A3FMJO4E1E16', 'A3B99K4E030SZQ', 'A3BE6JK97CYAGA', 'A3BLE5G96342IP', 'A3BNG9PTUPB4QO', 'A3BPFL7PM0EX1K', 'A3BT1WLPENXMD6', 'A3BU92XQ2M0FQV', 'A3BWTFXS9CXVAE', 'A3BXCNI6BG5GCW', 'A3C2F0Y7G5FRW3', 'A3CBKKG14IB1KH', 'A3CQ0NMUJ9TODP', 'A3CUAESGA4K7FU', 'A3CXM8XQ5Q1KPP', 'A3D0FFKCWXN2LR', 'A3D1IGUMS62SNU', 'A3D1VPTQGDS7H3', 'A3D4BNTGWVUMYY', 'A3DKARAF791Z5X', 'A3DTSBINBC9T1Y', 'A3DXQ86N43AUK3', 'A3DXW3542E4QUC', 'A3E9HGSGQCU4CT', 'A3EAHHQ7KV8LFG', 'A3EJS66CXBQLE8', 'A3ENBUF1TIQR5K', 'A3EZHDCUB7I4KM', 'A3F1C4MOB3X5XL', 'A3F6V5A2SFES04', 'A3FDEHXOYLD1AC', 'A3FGDP5PT4SPLK', 'A3FGWJLDNTJWED', 'A3G1X7LFBAPCUJ', 'A3GCKFO3G4AHLF', 'A3GGSN44XCR1LP', 'A3GPMU8E282AUW', 'A3GRQ9WMP4OXFE', 'A3GWKJFBX8ZKT6', 'A3H8Z7JS7XJHJJ', 'A3HRUR5VRFZ09F', 'A3IGRPW3T3WYYQ', 'A3J1T4IGQLKKMB', 'A3J9IGXNOJR2BL', 'A3JA23Z053GQH', 'A3JCDPKW3RY4RN', 'A3JEQJCEMX20GI', 'A3KFRJBKYYNED7', 'A3KS7QCK708PRV', 'A3KYSCD09GNSUT', 'A3LA1YKU7MU28G', 'A3LEZ2F3IJC8PI', 'A3LIUDVZL87BJ1', 'A3LW4UWD5IH59X', 'A3LX43D34SINN3', 'A3LZ31BL10WT5Y', 'A3MAKZCODKKTYI', 'A3MFCMTXMF9B6W', 'A3MKAAS1OCULM6', 'A3MOSFTVDLAPDQ', 'A3MSPZTFP55OAG', 'A3MYAEQWFLNGT7', 'A3N4SR54KR77RK', 'A3NVFNLI1D4JUI', 'A3NYG8M131X9CM', 'A3OAQJCQBNF2JV', 'A3OCZRK8OEGZKL', 'A3OIDZP7AI0URM', 'A3OVOP3ZAF1EZ2', 'A3P3RV0CUR0VRQ', 'A3P8Z0J9AH92IZ', 'A3PJ22YDBOO8DN', 'A3PLMGKX9OQWOY', 'A3QL4UXK2Z5Q7T', 'A3QLWWO4V4PFMJ', 'A3QUUP6DYHF9YC', 'A3R7ZWTFN19KIX', 'A3RCVP2TSCL409', 'A3RUEIK67SFBFQ', 'A3SG2GXNRU6AO8', 'A3SL5YEUG12X9A', 'A3SME2XHYE99M5', 'A3T0BPK8JD6MD5', 'A3T2OTYYUYGLP0', 'A3T35MARIMRX9M', 'A3T9MTY43BVAL8', 'A3T9WXXE7EWNT8', 'A3TELGW4O61A61', 'A3TGG91X7W9SE8', 'A3TSVNG02WZYSW', 'A3U32YT7BSZ0KJ', 'A3UAJ5O4VR3IQ3', 'A3UBQFB24OY57', 'A3UCBR5T51RVRF', 'A3URWO9TFNH3IW', 'A3V81XSQIPRKO8', 'A3V9LE9I6Z5AF3', 'A3VEZWV624JM4O', 'A3VFDFSQ8X74WJ', 'A3VXSKW11C3301', 'A4INUX2JA7KE2', 'A4IQXCCXDEAKW', 'A4PZHPMLBS8T3', 'A4SRPWVKZ8MBC', 'A4V3S90H5OZTV', 'A4VQ44JM97RBL', 'A5ECS1R7F1TUD', 'A5LV53PMV1X6R', 'A674HJEQGJ5R9', 'A679PFWSVAY0B', 'A6IX0T5Z4NEXG', 'A6JVX3BIR03UT', 'A6P34Q7M983DN', 'A72IXFDV3HVU6', 'A74XHLD33IB9S', 'A7EG6541KYNIU', 'A7HS9Y95Y9BI6', 'A7JUHUYLXIUVQ', 'A7KQ3EGH8QTDS', 'A7SILTHEWXQ8T', 'A7Y4ETTLARUGI', 'A7Z2BG3284EE8', 'A8FMILLDHAI14', 'A8JUUA4GHIAMI', 'A8LVPPXFVYGVU', 'A8ZUDRNPFB0FU', 'A9BXB2XYAW169', 'A9LOWDS5H848B', 'AA3TPN2ZXE9TE', 'AAD3T3WYTF1BR', 'AAJ1IA9SFH4IG', 'AAT4JCLA3VGRZ', 'ABNE90UVC4BMT', 'ABSMQNX2PDSWH', 'ABWCUEDFH8W5H', 'ABYOL1GQA39OB', 'AC0X1OVDMJX9', 'ACCY5NWUNEC87', 'ACE1ZIOI3U6PY', 'ACLAKWV2EFFB5', 'AD9O852KPYLHY', 'ADDXT6NXD9GQ7', 'ADG8D8X6P9X7M', 'ADR4IE33O06IJ', 'ADV1MNMPVS17V', 'ADYRHTPM2T2SE', 'AE6VHWVRXHU19', 'AEKJTREHL41OE', 'AEP7KPEZWI7VY', 'AETOYW0R5VN0X', 'AEZBSOFLB44RG', 'AFE9H6ABXM735', 'AFMQ7BBR4FYMB', 'AFY8EIWAT6H8J', 'AG0867QGE3R2B', 'AG3T3ILPXFL3H', 'AG74ZKO3BG57J', 'AGORXWI6K2RIR', 'AGRZQOBCF8H87', 'AGTD0T9R78YLG', 'AGYIYIVZHBI60', 'AHGNU4UWGATOH', 'AHYRXYR235TWH', 'AIB7HX2UC3WHM', 'AITF34BGBMVJJ', 'AIU7HYQIC5D95', 'AJHSB0LT8NKP4', 'AJYMJEC6B7V52', 'AK4VANLR5UK95', 'AK7YIZE6ZZ1N9', 'AKHSKD91MQ9DP', 'ALUZH689LQE6K', 'ALWLZC3GRRXPN', 'AM1KUDVTKXIAQ', 'AM9HBLGAPZQR7', 'AMA98TY969A1T', 'AMLDY4QY4HV0D', 'AMVZ9HW23Y42N', 'AN3QZR3OD7SFO', 'ANC6FN6T8JBB2', 'ANDGVKQ15NCZM', 'ANFUWUOC7EJKR', 'ANG7MOYBTWQE6', 'ANJ6Y9G0B4TM8', 'ANR73TPVBCQ9K', 'ANT034IX5ZPI9', 'AOB2Y1KJQG7K7', 'AONHG4PDUQ0D6', 'APA9SALOTTBM6', 'APARJQGAD0J4C', 'AQ5PKYF0FJA4B', 'AQCQQYEUHUX3M', 'AQYL4TDY2HU8Z', 'AR9Y0CM5B174', 'ARLN791TA1RV7', 'AS8T77HTF9IHW', 'ASGIVOW34XNQS', 'ATJRZUXNWAWIK', 'ATP2UCHTR7QMZ', 'ATR9J7TYR1KVL', 'ATVP6QJLS27EN', 'AU03W1V42994X', 'AU1BVXGV2KO8I', 'AU2JWZMFEVAH5', 'AU3MVNMVFSIM', 'AUKMWTDK16PAP', 'AUWJT1DM7SG2D', 'AV0O5NWF2NKDF', 'AV2MC7NNTMKTF', 'AVC89473DX6XU', 'AVFBQDR2KRNK6', 'AVIMJH2FF6QCH', 'AVO5FL5T9EZSR', 'AVQ0V2MIW2Z5K', 'AVWSUUBWD3RK4', 'AWJFUVK3064HX', 'AXM9OKKHRR4RP', 'AXPZI9N8HVHYO', 'AXQ57AZLKLPCQ', 'AXQS1B3WVRHQV', 'AXS7NH3GDN7EE', 'AY4F95T0JSTZ2', 'AYG63OK9TNBNP', 'AZE64W03EUJA4', 'AZECTAHZICNW5', 'AZEGZXCFTLSQB', 'AZEKC7DEXXJD7', 'AZFGSCB0S59LQ', 'AZHS42HV4FKKA']\n",
            "4 0.001694915254237288\n",
            "get 10 recommendation items for user: ['A100XQFWKQ30O2', 'A103T1QOGFCSEH', 'A106UKKSJ2KXPF', 'A10A7GV4D5A11V', 'A1119JJ37ZLB8R', 'A113UOOLBSZN52', 'A12M4U7WK4ALCR', 'A12T8YTW6VWT7S', 'A1364JXGKB46MM', 'A137DALOQFKBTI', 'A13FEZ3WV7S2EY', 'A13IV4I1B0RXMG', 'A13JU88JAHN72I', 'A13K55R6VH1OOD', 'A13P7VFU075A', 'A13SWYE4QLB6NG', 'A13ZTQ0Q4ATA41', 'A142EDN04OD62U', 'A142I22FIC8MZK', 'A14834QTII5TLT', 'A14A447VPACTBC', 'A14AP6MN5XO6LB', 'A14CLF25IX25US', 'A14LYXC3HTBAHI', 'A14VUW4KZ34EOE', 'A14Y32P26G9YL', 'A157T25PBS7MX4', 'A15HZDSERD85C8', 'A15JJ8J1FGADIX', 'A15ZCL70JXXH89', 'A1617KN2IAWZ6J', 'A16E0O88262HKA', 'A16NSZ58PTVIYF', 'A16UGDXRTDLJG5', 'A16X9HR3UFQQXY', 'A16Y7V1CZCWKFV', 'A174YOBOSW9WDN', 'A1786SKRAJXH86', 'A17K2BUZ20WD2', 'A17LYRFV645L0V', 'A18LNGVXDZBTUR', 'A19503XX7GU6J2', 'A19HVHRZDYFEOP', 'A19JM38B861BO4', 'A19KGY3W1P0MHT', 'A19KJPOF3QOJ24', 'A19U5RT4Q8Q1T6', 'A1AQNQUNX8B6JT', 'A1ARU0IN6RUFFD', 'A1BB4635KSKDMV', 'A1BCC7X6KRTBG0', 'A1BPJ56BXENC7', 'A1C0RI6W65FC8B', 'A1C60LJGZVEK27', 'A1CB2SMS3TD44Z', 'A1CNSU8P68CPLT', 'A1CSDWBYUJBCJZ', 'A1CTNNVIYHO25P', 'A1CTQF97HFYOZB', 'A1D5C2H9UFZHPU', 'A1D5UVH72Z6NJ1', 'A1DAUVZRVSLLNW', 'A1DCZ9882PXLVB', 'A1DZ63D35BNT86', 'A1E0QCKB4R2X8X', 'A1E76OZZ5YUWVA', 'A1EBHZPAYMILW9', 'A1EJVNGBY5GM5I', 'A1ER0356V2DSKW', 'A1EY751AUVO5NZ', 'A1EZFX1TRHSAJX', 'A1F08GM4B97FV', 'A1F6EFMBK795DJ', 'A1FC8Y896NZP4T', 'A1FKIAKVOBNN7Y', 'A1FKUBRPLG6Y8I', 'A1G2HL4W8B3TA0', 'A1G8Z9IKJ0BD1M', 'A1GEJ55RJGD7JW', 'A1GIYGD23YIDTN', 'A1GLG2IZBZHRAJ', 'A1H1T82FPO20DN', 'A1H7JDZ9BKTKGC', 'A1HBROZPSV5KT6', 'A1HBXMUIHTAIU2', 'A1I32A4SA9W2L2', 'A1IDJ6KR8CQV9I', 'A1II0TTUUE2C7Y', 'A1ILEZFIVOU0EP', 'A1ITJ5M7I9G7FR', 'A1IWTXM1SJWHDN', 'A1J2NTTE63GNG2', 'A1JRREJ5D62LFF', 'A1KGMTEXL70WF6', 'A1KWUQZJ1Z6MN2', 'A1LXJ8XCGNBXOF', 'A1M8YMS915ZK0B', 'A1NDRR3G9SJF18', 'A1NE6K8PXW780O', 'A1NEG0FRW5FDBL', 'A1NN82RWB6PXJW', 'A1NY67EVWD6CD6', 'A1OB41VQHXZ0R8', 'A1OJ2IXX8F7Q7X', 'A1OTIUDE7LWAGT', 'A1P1OHYJOOZX5P', 'A1PFDA9SL15S4O', 'A1PKBKALGLSX0Z', 'A1PMLXHE863GR6', 'A1PR178735XC70', 'A1PXO67EUM5HJQ', 'A1QHS58JVFLF3I', 'A1QPKRHCAOQVZ5', 'A1R2TTULP0Z2BM', 'A1R8GBYBJWWWU0', 'A1RAXJN2Q4V20X', 'A1RCMCAJR2LJA4', 'A1RE2XA5HQD1D3', 'A1RMLPJ1PF8LGV', 'A1RX2ODQRQZVSI', 'A1S3NMNTSO6GW', 'A1S6OQV823B53J', 'A1SA3N793WT2LM', 'A1SA932MLERVQY', 'A1SCZBXGPJ2615', 'A1SMXRCNRO4ZQM', 'A1T1N2585E1T0D', 'A1TEKLMF4V1X2C', 'A1TF44D9KYAD60', 'A1TGP1VTM3KCTI', 'A1TK5M6EM3GS3C', 'A1TO3GV14TGF2R', 'A1TP9JHTIY468V', 'A1UAOE8KO7Q1DZ', 'A1UDCDY6ZNE83T', 'A1UUNKRU1DTZTL', 'A1V0UJQ4XGAJ3H', 'A1VBZLO2JGYU1B', 'A1VC6YCAFKV6Q', 'A1VVEX78B2TYBX', 'A1VVQ2DFL0QLXF', 'A1VYWSQ2OXLH98', 'A1WEFBEJ7OHSVZ', 'A1WOX40GUAFDKW', 'A1WSZED2O5MA5T', 'A1XBJBT6HORBLA', 'A1XHN6JF8A8W69', 'A1XWCTARAQ0679', 'A1XZJ85PKMAZP0', 'A1YALF6PWOMS6S', 'A1YEO5KEW7M2GF', 'A1YQ33635DJEG5', 'A1YSAFP6T3JZ1C', 'A1YTPCNXQ2LJ5Z', 'A1YVXZK51DEDPC', 'A1Z3GE09RDY6O7', 'A1Z6IPI0G3QIUR', 'A1ZVXL7K0XY3S6', 'A1ZXYITUZM3Q6A', 'A202BVEB76NTMK', 'A205S0BTPEFI0I', 'A20MSUD02BETH2', 'A20P2XESU3G3EC', 'A20QY357E6SAF', 'A20SJ2793OUCPW', 'A20T7NNNUHH60H', 'A21JL9NVA7KEMC', 'A21M4N08F3EU5J', 'A21NUBJVBS230S', 'A21OELUKDF2E57', 'A21XQP90LEND9R', 'A21YO11OY4KATO', 'A220EHDBIGBL30', 'A224YJVNU30DVM', 'A22A1B25VBD0YO', 'A22EWIMT2GUTTL', 'A22EZJLTPINCFS', 'A22QJRB86RF6O1', 'A2320AUCHA95U2', 'A232IJ75I4KP9C', 'A23GTKDW92ZPP2', 'A23O1B8IVSYKMO', 'A23VR3KT0TPG83', 'A24HCM5QV0ZTJ5', 'A24ZE4O3OQMSP0', 'A255E6ZWUBMEJJ', 'A258D00BRNHJ77', 'A25TLD8KIU807H', 'A26434CRUTADT5', 'A26AT96096UOEZ', 'A26RKZDM4DK8OQ', 'A274IW68565M0U', 'A286OWYO1BDT52', 'A288UAQLON8FK2', 'A28E3FNV1BYC94', 'A28GO11F387SOX', 'A28H0PFALTML0I', 'A28OZKV4ZYZX42', 'A28P7FF1TVPG1K', 'A28Q7C1FAIZGLV', 'A29834GBB4DOP1', 'A29HQ60YC1RG1P', 'A29MENRU87PET0', 'A29PZKXDCQFTYW', 'A29SD3TFGX6Q34', 'A2A0MIOWIW2SB8', 'A2A8ECI6ABJBMA', 'A2AAQWBJJTK3E1', 'A2AE0E0H463YL6', 'A2APG6OZXU4QIZ', 'A2BDB427ROEP7H', 'A2BHJO8WOGMW6E', 'A2BOSA30FCF6G8', 'A2BU6N5956T9NH', 'A2BUZ308P92OYA', 'A2C1F859F9V1SL', 'A2C8YINPNRQOAU', 'A2CDQOF7WHUYKJ', 'A2CEEE0IK3LKN1', 'A2CZVE6ORV87C5', 'A2DD6RH1AF0PLI', 'A2DFOCWUKJX3PT', 'A2E8WG5GRZGMXU', 'A2ESQAPIGR2TJF', 'A2EUQ4ESAB2N6A', 'A2EZXF5YGYTOWN', 'A2F0VQQLSF558D', 'A2F3QV40SONN60', 'A2F95NSPD4XEEU', 'A2FA2J1JT12N7J', 'A2FFUJ5D4CMJ4L', 'A2FLLYV6Z8UQ26', 'A2G1XJ25DR7PVF', 'A2G5KJ0CZE65ZD', 'A2GFPTQ4VWDX96', 'A2GJLNRQTVUNOF', 'A2GOFJ3OZZUZ3H', 'A2GV0FE30O6M67', 'A2H3W11661MWDA', 'A2H7FD5GQMJXAQ', 'A2H7VSYLKGKLLJ', 'A2HFAX39PMLIGH', 'A2I4O72AAE1T1T', 'A2I868XUY96VWA', 'A2IK039KMC8UP1', 'A2IMJV0CQMZLGC', 'A2INWR0T7A7UN5', 'A2IOBG1ERS4JP3', 'A2IRPQ7DXQ9YIN', 'A2J4WOR87ELFBH', 'A2JCBLTLYDPQLW', 'A2JEH2NKM1Z8CQ', 'A2JXZSR7R85KX4', 'A2K7XZCFYGZH0O', 'A2KO4HGLWB57LI', 'A2KVN4XKFJH0I8', 'A2LM47GK1W7RRR', 'A2LSOMD2X9KCCH', 'A2LYTBRWFQJMKM', 'A2M4YSOJZELJ6N', 'A2MAZK8XSIDXPF', 'A2MDIPJ7MS0MUJ', 'A2MGO3WV3SX7X', 'A2MLV3I5MMJ2RA', 'A2MPSHMC0U29AV', 'A2NI47L1B1RXSG', 'A2NJQZBE8TSUYO', 'A2NWTETCSLOEQN', 'A2O4DMC8M5JFHG', 'A2O823CIB99X95', 'A2OT3011J8E1ZP', 'A2OXIHJW4K9NKE', 'A2P6L9MQK99U36', 'A2PB6LYMRA7Z9V', 'A2PEJEOUE9MNA6', 'A2PIBK3EOG5TBK', 'A2PY1DBGV9FQA2', 'A2Q5UOQ4L1BOB9', 'A2QE1WIYFY0HAP', 'A2QP73U21FHJZI', 'A2QV1YJODH28QP', 'A2RAISC8UEEBK9', 'A2RDNAR2R66DKD', 'A2RXAD7UZ4VFT6', 'A2S47NK970GKD9', 'A2SMFKDH22FMA3', 'A2SOH4QHL5DZ6D', 'A2SQIQZUBEAJR3', 'A2SWEHEK2BMPM8', 'A2SYZ28NVJZ4R1', 'A2T0AMZZLASKKV', 'A2TCLY6N04N9D7', 'A2TW5FC72PI7SE', 'A2UAC8RKSPUIKH', 'A2UX00W1OX5A80', 'A2V88AD0XHE2IE', 'A2VC9R3XCFOEP1', 'A2VLCD1OWKXBW0', 'A2VTFDQ1DZN7UI', 'A2WHTNQ939BS71', 'A2WQGKM49J8UYT', 'A2WX2YLLHJDLX7', 'A2X4BZH61VJH5M', 'A2XEM0Y2PBNYK3', 'A2XFJ8CTY7VDNN', 'A2XTIQTNDTY6IA', 'A2XVM7UW32TYJ4', 'A2XY3CJ3ZCAD03', 'A2XYR0XUSOOBKN', 'A2Y1J1AKXDLR1', 'A2Y88AU2Y58W78', 'A2Z6RKQQUX4RJA', 'A2ZBZF2MUG5BMT', 'A2ZFTLMOAS9YS9', 'A2ZIIOGLNJDGAW', 'A2ZKSKEG5ADC67', 'A2ZZKY1V6M940H', 'A31LANQ03TDCXY', 'A323D529OO2E1G', 'A3254BNN69CL47', 'A327I3S4ZCZYBV', 'A32D5I46E15TEC', 'A32H6TQKJ1PQTP', 'A32KYN14BUANDF', 'A32OQFYMJ18HD6', 'A333LLJ35S8DVV', 'A33M6H443E78K3', 'A33S6R9E8SJQBP', 'A34DAQYDWYMVSG', 'A35F9VHYWAFR8J', 'A35F9XOEGELEWC', 'A35PB7968I55RI', 'A35RIL0AVMMXXL', 'A35Y5NLC3UEUQD', 'A367NSWV6NUSL1', 'A36I89SEZ432XE', 'A375WSDCO30KT9', 'A37G41T4DD51AH', 'A37M369VIVDDVJ', 'A37OPVPXMWHJJK', 'A37WMXX147RL1X', 'A37XPPIGUTR4LE', 'A388NSX468EY1E', 'A38GODWWMRN5IP', 'A38J6ZI0XZOY54', 'A38KP6TI3BUIM6', 'A38KUK8INKLRVW', 'A38OH5OTHDIENK', 'A38QGF4YG5YLUX', 'A3909LKTROS8XZ', 'A3961EO6PXRSV4', 'A39LZUDABR584J', 'A39PTGNQVCNU44', 'A39VI1UOID3TYE', 'A39YNT3CHM2I0Z', 'A3A3FMJO4E1E16', 'A3B99K4E030SZQ', 'A3BE6JK97CYAGA', 'A3BLE5G96342IP', 'A3BNG9PTUPB4QO', 'A3BPFL7PM0EX1K', 'A3BT1WLPENXMD6', 'A3BU92XQ2M0FQV', 'A3BWTFXS9CXVAE', 'A3BXCNI6BG5GCW', 'A3C2F0Y7G5FRW3', 'A3CBKKG14IB1KH', 'A3CQ0NMUJ9TODP', 'A3CUAESGA4K7FU', 'A3CXM8XQ5Q1KPP', 'A3D0FFKCWXN2LR', 'A3D1IGUMS62SNU', 'A3D1VPTQGDS7H3', 'A3D4BNTGWVUMYY', 'A3DKARAF791Z5X', 'A3DTSBINBC9T1Y', 'A3DXQ86N43AUK3', 'A3DXW3542E4QUC', 'A3E9HGSGQCU4CT', 'A3EAHHQ7KV8LFG', 'A3EJS66CXBQLE8', 'A3ENBUF1TIQR5K', 'A3EZHDCUB7I4KM', 'A3F1C4MOB3X5XL', 'A3F6V5A2SFES04', 'A3FDEHXOYLD1AC', 'A3FGDP5PT4SPLK', 'A3FGWJLDNTJWED', 'A3G1X7LFBAPCUJ', 'A3GCKFO3G4AHLF', 'A3GGSN44XCR1LP', 'A3GPMU8E282AUW', 'A3GRQ9WMP4OXFE', 'A3GWKJFBX8ZKT6', 'A3H8Z7JS7XJHJJ', 'A3HRUR5VRFZ09F', 'A3IGRPW3T3WYYQ', 'A3J1T4IGQLKKMB', 'A3J9IGXNOJR2BL', 'A3JA23Z053GQH', 'A3JCDPKW3RY4RN', 'A3JEQJCEMX20GI', 'A3KFRJBKYYNED7', 'A3KS7QCK708PRV', 'A3KYSCD09GNSUT', 'A3LA1YKU7MU28G', 'A3LEZ2F3IJC8PI', 'A3LIUDVZL87BJ1', 'A3LW4UWD5IH59X', 'A3LX43D34SINN3', 'A3LZ31BL10WT5Y', 'A3MAKZCODKKTYI', 'A3MFCMTXMF9B6W', 'A3MKAAS1OCULM6', 'A3MOSFTVDLAPDQ', 'A3MSPZTFP55OAG', 'A3MYAEQWFLNGT7', 'A3N4SR54KR77RK', 'A3NVFNLI1D4JUI', 'A3NYG8M131X9CM', 'A3OAQJCQBNF2JV', 'A3OCZRK8OEGZKL', 'A3OIDZP7AI0URM', 'A3OVOP3ZAF1EZ2', 'A3P3RV0CUR0VRQ', 'A3P8Z0J9AH92IZ', 'A3PJ22YDBOO8DN', 'A3PLMGKX9OQWOY', 'A3QL4UXK2Z5Q7T', 'A3QLWWO4V4PFMJ', 'A3QUUP6DYHF9YC', 'A3R7ZWTFN19KIX', 'A3RCVP2TSCL409', 'A3RUEIK67SFBFQ', 'A3SG2GXNRU6AO8', 'A3SL5YEUG12X9A', 'A3SME2XHYE99M5', 'A3T0BPK8JD6MD5', 'A3T2OTYYUYGLP0', 'A3T35MARIMRX9M', 'A3T9MTY43BVAL8', 'A3T9WXXE7EWNT8', 'A3TELGW4O61A61', 'A3TGG91X7W9SE8', 'A3TSVNG02WZYSW', 'A3U32YT7BSZ0KJ', 'A3UAJ5O4VR3IQ3', 'A3UBQFB24OY57', 'A3UCBR5T51RVRF', 'A3URWO9TFNH3IW', 'A3V81XSQIPRKO8', 'A3V9LE9I6Z5AF3', 'A3VEZWV624JM4O', 'A3VFDFSQ8X74WJ', 'A3VXSKW11C3301', 'A4INUX2JA7KE2', 'A4IQXCCXDEAKW', 'A4PZHPMLBS8T3', 'A4SRPWVKZ8MBC', 'A4V3S90H5OZTV', 'A4VQ44JM97RBL', 'A5ECS1R7F1TUD', 'A5LV53PMV1X6R', 'A674HJEQGJ5R9', 'A679PFWSVAY0B', 'A6IX0T5Z4NEXG', 'A6JVX3BIR03UT', 'A6P34Q7M983DN', 'A72IXFDV3HVU6', 'A74XHLD33IB9S', 'A7EG6541KYNIU', 'A7HS9Y95Y9BI6', 'A7JUHUYLXIUVQ', 'A7KQ3EGH8QTDS', 'A7SILTHEWXQ8T', 'A7Y4ETTLARUGI', 'A7Z2BG3284EE8', 'A8FMILLDHAI14', 'A8JUUA4GHIAMI', 'A8LVPPXFVYGVU', 'A8ZUDRNPFB0FU', 'A9BXB2XYAW169', 'A9LOWDS5H848B', 'AA3TPN2ZXE9TE', 'AAD3T3WYTF1BR', 'AAJ1IA9SFH4IG', 'AAT4JCLA3VGRZ', 'ABNE90UVC4BMT', 'ABSMQNX2PDSWH', 'ABWCUEDFH8W5H', 'ABYOL1GQA39OB', 'AC0X1OVDMJX9', 'ACCY5NWUNEC87', 'ACE1ZIOI3U6PY', 'ACLAKWV2EFFB5', 'AD9O852KPYLHY', 'ADDXT6NXD9GQ7', 'ADG8D8X6P9X7M', 'ADR4IE33O06IJ', 'ADV1MNMPVS17V', 'ADYRHTPM2T2SE', 'AE6VHWVRXHU19', 'AEKJTREHL41OE', 'AEP7KPEZWI7VY', 'AETOYW0R5VN0X', 'AEZBSOFLB44RG', 'AFE9H6ABXM735', 'AFMQ7BBR4FYMB', 'AFY8EIWAT6H8J', 'AG0867QGE3R2B', 'AG3T3ILPXFL3H', 'AG74ZKO3BG57J', 'AGORXWI6K2RIR', 'AGRZQOBCF8H87', 'AGTD0T9R78YLG', 'AGYIYIVZHBI60', 'AHGNU4UWGATOH', 'AHYRXYR235TWH', 'AIB7HX2UC3WHM', 'AITF34BGBMVJJ', 'AIU7HYQIC5D95', 'AJHSB0LT8NKP4', 'AJYMJEC6B7V52', 'AK4VANLR5UK95', 'AK7YIZE6ZZ1N9', 'AKHSKD91MQ9DP', 'ALUZH689LQE6K', 'ALWLZC3GRRXPN', 'AM1KUDVTKXIAQ', 'AM9HBLGAPZQR7', 'AMA98TY969A1T', 'AMLDY4QY4HV0D', 'AMVZ9HW23Y42N', 'AN3QZR3OD7SFO', 'ANC6FN6T8JBB2', 'ANDGVKQ15NCZM', 'ANFUWUOC7EJKR', 'ANG7MOYBTWQE6', 'ANJ6Y9G0B4TM8', 'ANR73TPVBCQ9K', 'ANT034IX5ZPI9', 'AOB2Y1KJQG7K7', 'AONHG4PDUQ0D6', 'APA9SALOTTBM6', 'APARJQGAD0J4C', 'AQ5PKYF0FJA4B', 'AQCQQYEUHUX3M', 'AQYL4TDY2HU8Z', 'AR9Y0CM5B174', 'ARLN791TA1RV7', 'AS8T77HTF9IHW', 'ASGIVOW34XNQS', 'ATJRZUXNWAWIK', 'ATP2UCHTR7QMZ', 'ATR9J7TYR1KVL', 'ATVP6QJLS27EN', 'AU03W1V42994X', 'AU1BVXGV2KO8I', 'AU2JWZMFEVAH5', 'AU3MVNMVFSIM', 'AUKMWTDK16PAP', 'AUWJT1DM7SG2D', 'AV0O5NWF2NKDF', 'AV2MC7NNTMKTF', 'AVC89473DX6XU', 'AVFBQDR2KRNK6', 'AVIMJH2FF6QCH', 'AVO5FL5T9EZSR', 'AVQ0V2MIW2Z5K', 'AVWSUUBWD3RK4', 'AWJFUVK3064HX', 'AXM9OKKHRR4RP', 'AXPZI9N8HVHYO', 'AXQ57AZLKLPCQ', 'AXQS1B3WVRHQV', 'AXS7NH3GDN7EE', 'AY4F95T0JSTZ2', 'AYG63OK9TNBNP', 'AZE64W03EUJA4', 'AZECTAHZICNW5', 'AZEGZXCFTLSQB', 'AZEKC7DEXXJD7', 'AZFGSCB0S59LQ', 'AZHS42HV4FKKA']\n",
            "5 0.0\n"
          ]
        }
      ]
    },
    {
      "cell_type": "markdown",
      "metadata": {
        "id": "TjmS-IU5ogH2"
      },
      "source": [
        "## 產生推薦(user-based)"
      ],
      "id": "TjmS-IU5ogH2"
    },
    {
      "cell_type": "code",
      "execution_count": null,
      "metadata": {
        "id": "gQYdsoj0ogH2"
      },
      "outputs": [],
      "source": [
        "import pandas as pd\n",
        "import datetime\n",
        "from itertools import combinations\n",
        "from collections import defaultdict\n",
        "# header: user_id,item_id,rating,timestamp\n",
        "\n",
        "def recommender(training_data, metadata, users=[], hot=False, k=10, days=9999, score=0, remove_user=True):\n",
        "\n",
        "    # loading data from dataframe\n",
        "    # user_to_items dict:\n",
        "    # {\n",
        "    #   'user': {\n",
        "    #       'item': ratings...\n",
        "    #   }...\n",
        "    # }\n",
        "    training_data = training_data.sort_values(\"DATE\", ascending=False).groupby(['reviewerID', 'asin']).head(1)\n",
        "    training_data = training_data[(training_data['DATE'] + datetime.timedelta(days = days)) > '2018-09-01']\n",
        "    ratehot_table = training_data.groupby(by = ['asin']).aggregate({'overall':['mean', 'size']})['overall']\n",
        "    metadata = pd.merge(metadata, ratehot_table, on='asin', how='left')\n",
        "    metadata = metadata.sort_values(['size'], ascending=False)\n",
        "    metadata = metadata[(metadata['mean']<score) == False]\n",
        "\n",
        "    hottest = metadata['asin'].tolist()[:k]\n",
        "\n",
        "    if hot:\n",
        "        return {user: hottest for user in users}\n",
        "\n",
        "    user_to_items = defaultdict(dict)\n",
        "    for _, row in training_data.iterrows():\n",
        "        row = dict(row)\n",
        "        user = row['reviewerID']\n",
        "        item = row['asin']\n",
        "        rating = float(row['overall'])\n",
        "\n",
        "        if rating >= score:\n",
        "            user_to_items[user][item] = rating\n",
        "\n",
        "    print(\"total users before filtering: \", len(user_to_items))\n",
        "\n",
        "    # remove obscure user to decrease data size\n",
        "    # filtering params\n",
        "    remove_obscure_user = remove_user\n",
        "    user_rating_threshold = 3\n",
        "    all_users = list(user_to_items.keys())\n",
        "    for user in all_users:\n",
        "        ratings = user_to_items[user]\n",
        "        if remove_obscure_user and len(ratings) < user_rating_threshold:\n",
        "            del user_to_items[user]\n",
        "\n",
        "    print(\"total users after filtering: \", len(user_to_items))\n",
        "\n",
        "    # generate item to user mapping dict\n",
        "    # {\n",
        "    #   'item': {\n",
        "    #       'user': ratings...\n",
        "    #   }...\n",
        "    # }\n",
        "    item_to_users = defaultdict(dict)\n",
        "    for user, items in user_to_items.items():\n",
        "        for item, rating in items.items():\n",
        "            item_to_users[item][user] = rating\n",
        "\n",
        "    # prepare data of computing user similarity \n",
        "    init_sim = lambda: [0 for _ in range(3)]\n",
        "    factory = lambda: defaultdict(init_sim)\n",
        "    pre_user_similarity = defaultdict(factory)\n",
        "    n = len(item_to_users)\n",
        "    index = 0\n",
        "    for item, user_ratings in item_to_users.items():\n",
        "        if len(user_ratings) > 1:\n",
        "            # print(f\"item: {item} have been rated by {len(user_ratings)} users progress: {index}/{n}\")\n",
        "            for user1, user2 in combinations(user_ratings.keys(), 2):\n",
        "                xy = user_ratings[user1] * user_ratings[user2]\n",
        "                xx = user_ratings[user1] ** 2\n",
        "                yy = user_ratings[user2] ** 2\n",
        "                pre_user_similarity[user1][user2][0] += xy\n",
        "                pre_user_similarity[user1][user2][1] += xx\n",
        "                pre_user_similarity[user1][user2][2] += yy\n",
        "\n",
        "                pre_user_similarity[user2][user1][0] += xy\n",
        "                pre_user_similarity[user2][user1][1] += xx\n",
        "                pre_user_similarity[user2][user1][2] += yy\n",
        "        index += 1\n",
        "\n",
        "    user_similarity = {}\n",
        "    for src_user in pre_user_similarity:\n",
        "        user_similarity_order = []\n",
        "        a = 0\n",
        "        for dst_user, val in pre_user_similarity[src_user].items():\n",
        "            a += 1\n",
        "            xy = val[0]\n",
        "            xx = val[1]\n",
        "            yy = val[2]\n",
        "            div = ((xx*yy) ** 0.5)\n",
        "            if div == 0:\n",
        "                continue\n",
        "            similarity = xy / div\n",
        "            if similarity < 0:\n",
        "                continue\n",
        "            for i, s in enumerate(user_similarity_order):\n",
        "                target_similarity = s[1]\n",
        "                if target_similarity < similarity:\n",
        "                    user_similarity_order.insert(i, (dst_user, similarity))\n",
        "                    break\n",
        "            else:\n",
        "                user_similarity_order.append((dst_user, similarity))\n",
        "        user_similarity[src_user] = user_similarity_order\n",
        "    \n",
        "    recommendation = {}\n",
        "    a = 0\n",
        "    l = 0\n",
        "    for user in users:\n",
        "        if user in user_similarity:\n",
        "            sim_users = user_similarity[user]\n",
        "            recommended_items = []\n",
        "            recommended_items_set = set()\n",
        "            user_have_rated = set(user_to_items[user])\n",
        "            stop_recommend = False\n",
        "            for sim_user, _ in sim_users:\n",
        "                items_from_sim_user = sorted(list(user_to_items[sim_user].items()), key=lambda item: item[1])\n",
        "                for item, _ in items_from_sim_user:\n",
        "                    if item not in user_have_rated and item not in recommended_items_set:\n",
        "                        recommended_items.append(item)\n",
        "                        recommended_items_set.add(item)\n",
        "                    if len(recommended_items) >= k:\n",
        "                        stop_recommend = True\n",
        "                        break\n",
        "                if stop_recommend:\n",
        "                    break\n",
        "            recommendation[user] = recommended_items\n",
        "            a += 1\n",
        "            l += len(recommended_items)\n",
        "        elif hot:\n",
        "            recommendation[user] = hottest\n",
        "    print(a, l)            \n",
        "    return recommendation"
      ],
      "id": "gQYdsoj0ogH2"
    },
    {
      "cell_type": "markdown",
      "metadata": {
        "id": "Gd7gqSykogH4"
      },
      "source": [
        "## 結果評估(user-based)"
      ],
      "id": "Gd7gqSykogH4"
    },
    {
      "cell_type": "code",
      "execution_count": null,
      "metadata": {
        "id": "KBg_8QFKogH4"
      },
      "outputs": [],
      "source": [
        "def evaluate(ratings_testings_by_user={}, ratings_by_user={}, method=None):\n",
        "    '''\n",
        "    * ratings_testings_by_user: dict 真實被購買的商品資料（2018-09-01 以後資料）\n",
        "    * ratings_by_user: dict 利用訓練資料學習的推薦商品\n",
        "    * method: str\n",
        "    * score: float\n",
        "    '''\n",
        "    total = 0\n",
        "    for d in ratings_testings_by_user:\n",
        "        if d in ratings_by_user:\n",
        "            total += len(set(ratings_by_user[d]) & set(ratings_testings_by_user[d]))\n",
        "\n",
        "    score = total / len(ratings_testings)\n",
        "    return score"
      ],
      "id": "KBg_8QFKogH4"
    },
    {
      "cell_type": "code",
      "source": [
        "ratings_by_user = recommender(ratings_trainings, metadata_clean, users, hot=False)"
      ],
      "metadata": {
        "colab": {
          "base_uri": "https://localhost:8080/"
        },
        "id": "lwII8bED2jVM",
        "outputId": "450e82a2-b771-485d-eac2-92dd0cc38b26"
      },
      "execution_count": null,
      "outputs": [
        {
          "output_type": "stream",
          "name": "stdout",
          "text": [
            "total users before filtering:  323489\n",
            "total users after filtering:  4793\n",
            "3 26\n"
          ]
        }
      ],
      "id": "lwII8bED2jVM"
    },
    {
      "cell_type": "code",
      "source": [
        "ratings_by_user = recommender(ratings_trainings, metadata_clean, users, hot=False, remove_user=False)"
      ],
      "metadata": {
        "colab": {
          "base_uri": "https://localhost:8080/"
        },
        "id": "Eg1S3YiY8Nq7",
        "outputId": "59896027-fc76-4697-d0e3-fcbf6899ecd9"
      },
      "execution_count": null,
      "outputs": [
        {
          "output_type": "stream",
          "name": "stdout",
          "text": [
            "total users before filtering:  323489\n",
            "total users after filtering:  323489\n"
          ]
        }
      ],
      "id": "Eg1S3YiY8Nq7"
    },
    {
      "cell_type": "code",
      "source": [
        "scorelist = list(range(6))\n",
        "\n",
        "for s in scorelist:\n",
        "    ratings_by_user = recommender(ratings_trainings, metadata_clean, users, hot=False, days=180, score=s)\n",
        "    print(s, evaluate(ratings_testings_by_user, ratings_by_user))"
      ],
      "metadata": {
        "colab": {
          "base_uri": "https://localhost:8080/"
        },
        "id": "45TZ30_EoP-u",
        "outputId": "054326fa-39a7-434a-af41-7ae89b834c6c"
      },
      "execution_count": null,
      "outputs": [
        {
          "output_type": "stream",
          "name": "stdout",
          "text": [
            "total users before filtering:  18662\n",
            "total users after filtering:  111\n",
            "0 0.0\n",
            "total users before filtering:  18662\n",
            "total users after filtering:  111\n",
            "1 0.0\n",
            "total users before filtering:  16034\n",
            "total users after filtering:  89\n",
            "2 0.0\n",
            "total users before filtering:  14905\n",
            "total users after filtering:  79\n",
            "3 0.0\n",
            "total users before filtering:  13454\n",
            "total users after filtering:  73\n",
            "4 0.0\n",
            "total users before filtering:  11438\n",
            "total users after filtering:  69\n",
            "5 0.0\n"
          ]
        }
      ],
      "id": "45TZ30_EoP-u"
    },
    {
      "cell_type": "code",
      "source": [
        "scorelist = list(range(6))\n",
        "\n",
        "for s in scorelist:\n",
        "    ratings_by_user = recommender(ratings_trainings, metadata_clean, users, hot=True, days=180, score=s)\n",
        "    print(s, evaluate(ratings_testings_by_user, ratings_by_user))"
      ],
      "metadata": {
        "colab": {
          "base_uri": "https://localhost:8080/"
        },
        "id": "6kdSD5KcoUlS",
        "outputId": "7c92bfc4-61ff-4497-fd8f-caa940396681"
      },
      "execution_count": null,
      "outputs": [
        {
          "output_type": "stream",
          "name": "stdout",
          "text": [
            "0 0.09830508474576272\n",
            "1 0.09830508474576272\n",
            "2 0.09830508474576272\n",
            "3 0.09830508474576272\n",
            "4 0.01694915254237288\n",
            "5 0.006779661016949152\n"
          ]
        }
      ],
      "id": "6kdSD5KcoUlS"
    },
    {
      "cell_type": "code",
      "source": [
        "daylist = [15, 30, 60, 90, 180, 360]\n",
        "\n",
        "for d in daylist:\n",
        "    ratings_by_user = recommender(ratings_trainings, metadata_clean, users, hot=True, days=d, score=3)\n",
        "    print(d, evaluate(ratings_testings_by_user, ratings_by_user))"
      ],
      "metadata": {
        "colab": {
          "base_uri": "https://localhost:8080/"
        },
        "id": "Utu-5tlfojDy",
        "outputId": "a72b4499-2587-461b-a94f-cc136c7c85c5"
      },
      "execution_count": null,
      "outputs": [
        {
          "output_type": "stream",
          "name": "stdout",
          "text": [
            "15 0.1423728813559322\n",
            "30 0.15423728813559323\n",
            "60 0.15084745762711865\n",
            "90 0.13389830508474576\n",
            "180 0.09830508474576272\n",
            "360 0.09830508474576272\n"
          ]
        }
      ],
      "id": "Utu-5tlfojDy"
    },
    {
      "cell_type": "markdown",
      "metadata": {
        "id": "MM-jNDReorYX"
      },
      "source": [
        "## 產生推薦(surprise套件)"
      ],
      "id": "MM-jNDReorYX"
    },
    {
      "cell_type": "code",
      "source": [
        "!pip install surprise"
      ],
      "metadata": {
        "colab": {
          "base_uri": "https://localhost:8080/"
        },
        "id": "gE08y9s4xRfC",
        "outputId": "ddd63fca-526b-4cd3-c1fc-a1bf4e6fab1a"
      },
      "execution_count": null,
      "outputs": [
        {
          "output_type": "stream",
          "name": "stdout",
          "text": [
            "Collecting surprise\n",
            "  Downloading surprise-0.1-py2.py3-none-any.whl (1.8 kB)\n",
            "Collecting scikit-surprise\n",
            "  Downloading scikit-surprise-1.1.1.tar.gz (11.8 MB)\n",
            "\u001b[K     |████████████████████████████████| 11.8 MB 5.5 MB/s \n",
            "\u001b[?25hRequirement already satisfied: joblib>=0.11 in /usr/local/lib/python3.7/dist-packages (from scikit-surprise->surprise) (1.1.0)\n",
            "Requirement already satisfied: numpy>=1.11.2 in /usr/local/lib/python3.7/dist-packages (from scikit-surprise->surprise) (1.19.5)\n",
            "Requirement already satisfied: scipy>=1.0.0 in /usr/local/lib/python3.7/dist-packages (from scikit-surprise->surprise) (1.4.1)\n",
            "Requirement already satisfied: six>=1.10.0 in /usr/local/lib/python3.7/dist-packages (from scikit-surprise->surprise) (1.15.0)\n",
            "Building wheels for collected packages: scikit-surprise\n",
            "  Building wheel for scikit-surprise (setup.py) ... \u001b[?25l\u001b[?25hdone\n",
            "  Created wheel for scikit-surprise: filename=scikit_surprise-1.1.1-cp37-cp37m-linux_x86_64.whl size=1619450 sha256=d79c1921a9c75068846e5ca4ccb6e6f93b1c34860ba9e800c4c134517977afb5\n",
            "  Stored in directory: /root/.cache/pip/wheels/76/44/74/b498c42be47b2406bd27994e16c5188e337c657025ab400c1c\n",
            "Successfully built scikit-surprise\n",
            "Installing collected packages: scikit-surprise, surprise\n",
            "Successfully installed scikit-surprise-1.1.1 surprise-0.1\n"
          ]
        }
      ],
      "id": "gE08y9s4xRfC"
    },
    {
      "cell_type": "code",
      "execution_count": null,
      "metadata": {
        "id": "Ab_aL7lEorYY"
      },
      "outputs": [],
      "source": [
        "import time\n",
        "import datetime\n",
        "import pandas as pd\n",
        "from surprise import Reader\n",
        "from surprise import Dataset\n",
        "from surprise import KNNBasic\n",
        "\n",
        "def recommender(training_data, users=[], k=10, user_based=False, algo=KNNBasic, days=9999, score=0):\n",
        "\n",
        "    training_data = (\n",
        "        training_data\n",
        "        .sort_values(\"DATE\", ascending=False)\n",
        "        .groupby(['reviewerID', 'asin']).head(1)\n",
        "    )\n",
        "    training_data = training_data[(training_data['DATE'] + datetime.timedelta(days = days)) > '2018-09-01']\n",
        "    training_data = training_data[training_data['overall'] > score]\n",
        "\n",
        "    reader = Reader(rating_scale=(0, 5))\n",
        "    training_data = training_data[['reviewerID', 'asin', 'overall']]\n",
        "    data = Dataset.load_from_df(training_data, reader=reader)\n",
        "\n",
        "    sim_options = {\n",
        "        'name': 'cosine',\n",
        "        'user_based': user_based  # compute similarities between items\n",
        "    }\n",
        "    algo_impl = algo(sim_options=sim_options)\n",
        "    trainset = data.build_full_trainset()\n",
        "    algo_impl.fit(trainset)\n",
        "\n",
        "    recommendation = {}\n",
        "    a = 0\n",
        "    l = 0\n",
        "    for user in users:\n",
        "        items_user_rated = set(training_data.loc[training_data['reviewerID'] == user]['asin'].to_list())\n",
        "        recommend_item_list = []\n",
        "        recommend_item_set = set()\n",
        "        for item in items_user_rated:\n",
        "            iid = algo_impl.trainset.to_inner_iid(item)\n",
        "            recommend_items_iid = algo_impl.get_neighbors(iid, k)\n",
        "            for sim_item_iid in recommend_items_iid:\n",
        "                item_raw_id = algo_impl.trainset.to_raw_iid(sim_item_iid)\n",
        "                if item_raw_id not in items_user_rated and item_raw_id not in recommend_item_set:\n",
        "                    recommend_item_list.append(item_raw_id)\n",
        "                    recommend_item_set.add(item_raw_id)\n",
        "\n",
        "            if len(recommend_item_list) >= k:\n",
        "                recommend_item_list = recommend_item_list[:k]\n",
        "                break\n",
        "        recommendation[user] = recommend_item_list\n",
        "        if len(recommend_item_list) > 0:\n",
        "            a += 1\n",
        "            l += len(recommend_item_list)\n",
        "    print(a, l)\n",
        "    return recommendation"
      ],
      "id": "Ab_aL7lEorYY"
    },
    {
      "cell_type": "markdown",
      "metadata": {
        "id": "BfFERy4BorYY"
      },
      "source": [
        "## 結果評估(surprise套件)"
      ],
      "id": "BfFERy4BorYY"
    },
    {
      "cell_type": "code",
      "execution_count": null,
      "metadata": {
        "id": "WWEgiMPNorYY"
      },
      "outputs": [],
      "source": [
        "def evaluate(ratings_testings_by_user={}, ratings_by_user={}, method=None):\n",
        "    '''\n",
        "    * ratings_testings_by_user: dict 真實被購買的商品資料（2018-09-01 以後資料）\n",
        "    * ratings_by_user: dict 利用訓練資料學習的推薦商品\n",
        "    * method: str\n",
        "    * score: float\n",
        "    '''\n",
        "    total = 0\n",
        "    for d in ratings_testings_by_user:\n",
        "        if d in ratings_by_user:\n",
        "            total += len(set(ratings_by_user[d]) & set(ratings_testings_by_user[d]))\n",
        "\n",
        "    score = total / len(ratings_testings)\n",
        "    return score"
      ],
      "id": "WWEgiMPNorYY"
    },
    {
      "cell_type": "code",
      "source": [
        "ratings_by_user = recommender(ratings_trainings, users)"
      ],
      "metadata": {
        "colab": {
          "base_uri": "https://localhost:8080/"
        },
        "id": "NveadT_M8qUw",
        "outputId": "d16c01e1-3e5f-4682-e77d-69174b1a69f3"
      },
      "execution_count": null,
      "outputs": [
        {
          "output_type": "stream",
          "name": "stdout",
          "text": [
            "Computing the cosine similarity matrix...\n"
          ]
        }
      ],
      "id": "NveadT_M8qUw"
    },
    {
      "cell_type": "code",
      "execution_count": null,
      "metadata": {
        "colab": {
          "base_uri": "https://localhost:8080/"
        },
        "outputId": "1dc44ecf-d0f4-4c04-f64a-1214d89dacd9",
        "id": "PSQVLyjJorYY"
      },
      "outputs": [
        {
          "output_type": "stream",
          "name": "stdout",
          "text": [
            "Computing the cosine similarity matrix...\n",
            "Done computing similarity matrix.\n",
            "0 0.0\n",
            "Computing the cosine similarity matrix...\n",
            "Done computing similarity matrix.\n",
            "1 0.0\n",
            "Computing the cosine similarity matrix...\n",
            "Done computing similarity matrix.\n",
            "2 0.0\n",
            "Computing the cosine similarity matrix...\n",
            "Done computing similarity matrix.\n",
            "3 0.0\n",
            "Computing the cosine similarity matrix...\n",
            "Done computing similarity matrix.\n",
            "4 0.0\n",
            "Computing the cosine similarity matrix...\n",
            "Done computing similarity matrix.\n",
            "5 0.0\n"
          ]
        }
      ],
      "source": [
        "for s in range(6):\n",
        "    ratings_by_user = recommender(ratings_trainings, users, days=30, score=s)\n",
        "    print(s, evaluate(ratings_testings_by_user, ratings_by_user))"
      ],
      "id": "PSQVLyjJorYY"
    },
    {
      "cell_type": "code",
      "source": [
        "for d in range(30,181,30):\n",
        "    ratings_by_user = recommender(ratings_trainings, users, days=d, score=3)\n",
        "    print(d, evaluate(ratings_testings_by_user, ratings_by_user))"
      ],
      "metadata": {
        "colab": {
          "base_uri": "https://localhost:8080/"
        },
        "id": "Ucmj_he_zlgj",
        "outputId": "bdc78c1a-bcef-4c8b-ee1a-2803e7d6c7b9"
      },
      "execution_count": null,
      "outputs": [
        {
          "output_type": "stream",
          "name": "stdout",
          "text": [
            "Computing the cosine similarity matrix...\n",
            "Done computing similarity matrix.\n",
            "30 0.0\n",
            "Computing the cosine similarity matrix...\n",
            "Done computing similarity matrix.\n",
            "60 0.0\n",
            "Computing the cosine similarity matrix...\n",
            "Done computing similarity matrix.\n",
            "90 0.0\n",
            "Computing the cosine similarity matrix...\n",
            "Done computing similarity matrix.\n",
            "120 0.0\n",
            "Computing the cosine similarity matrix...\n",
            "Done computing similarity matrix.\n",
            "150 0.001694915254237288\n",
            "Computing the cosine similarity matrix...\n",
            "Done computing similarity matrix.\n",
            "180 0.001694915254237288\n"
          ]
        }
      ],
      "id": "Ucmj_he_zlgj"
    }
  ],
  "metadata": {
    "kernelspec": {
      "display_name": "Python 3",
      "language": "python",
      "name": "python3"
    },
    "language_info": {
      "codemirror_mode": {
        "name": "ipython",
        "version": 3
      },
      "file_extension": ".py",
      "mimetype": "text/x-python",
      "name": "python",
      "nbconvert_exporter": "python",
      "pygments_lexer": "ipython3",
      "version": "3.9.0"
    },
    "colab": {
      "name": "Collaborative filtering 推薦系統.ipynb",
      "provenance": [],
      "include_colab_link": true
    }
  },
  "nbformat": 4,
  "nbformat_minor": 5
}