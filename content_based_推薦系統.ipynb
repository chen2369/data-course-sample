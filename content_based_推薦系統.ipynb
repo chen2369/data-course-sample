{
  "cells": [
    {
      "cell_type": "markdown",
      "metadata": {
        "id": "view-in-github",
        "colab_type": "text"
      },
      "source": [
        "<a href=\"https://colab.research.google.com/github/chen2369/data-course-sample/blob/main/content_based_%E6%8E%A8%E8%96%A6%E7%B3%BB%E7%B5%B1.ipynb\" target=\"_parent\"><img src=\"https://colab.research.google.com/assets/colab-badge.svg\" alt=\"Open In Colab\"/></a>"
      ]
    },
    {
      "cell_type": "markdown",
      "id": "84de56a8",
      "metadata": {
        "id": "84de56a8"
      },
      "source": [
        "# Sample Code"
      ]
    },
    {
      "cell_type": "markdown",
      "id": "688675f5",
      "metadata": {
        "id": "688675f5"
      },
      "source": [
        "## 基礎建設"
      ]
    },
    {
      "cell_type": "code",
      "source": [
        "import warnings\n",
        "warnings.filterwarnings(\"ignore\")"
      ],
      "metadata": {
        "id": "8wD4QICXvM0o"
      },
      "id": "8wD4QICXvM0o",
      "execution_count": 1,
      "outputs": []
    },
    {
      "cell_type": "code",
      "execution_count": 2,
      "id": "b32226db",
      "metadata": {
        "scrolled": true,
        "id": "b32226db"
      },
      "outputs": [],
      "source": [
        "import pandas as pd\n",
        "import gzip, json\n",
        "\n",
        "def parse(path):\n",
        "    g = gzip.open(path, 'rb')\n",
        "    for l in g:\n",
        "        yield json.loads(l)\n",
        "\n",
        "def getDF(path):\n",
        "    i = 0\n",
        "    df = {}\n",
        "    for d in parse(path):\n",
        "        df[i] = d\n",
        "        i += 1\n",
        "    return pd.DataFrame.from_dict(df, orient='index')"
      ]
    },
    {
      "cell_type": "markdown",
      "id": "84ff0f9d",
      "metadata": {
        "id": "84ff0f9d"
      },
      "source": [
        "## 載入資料"
      ]
    },
    {
      "cell_type": "code",
      "execution_count": 3,
      "id": "9402e9c7",
      "metadata": {
        "id": "9402e9c7",
        "colab": {
          "base_uri": "https://localhost:8080/"
        },
        "outputId": "604d40ba-ec51-47ca-e3ce-5a105a2c32e4"
      },
      "outputs": [
        {
          "output_type": "stream",
          "name": "stdout",
          "text": [
            "--2022-01-02 09:36:05--  http://deepyeti.ucsd.edu/jianmo/amazon/categoryFilesSmall/All_Beauty.csv\n",
            "Resolving deepyeti.ucsd.edu (deepyeti.ucsd.edu)... 169.228.63.50\n",
            "Connecting to deepyeti.ucsd.edu (deepyeti.ucsd.edu)|169.228.63.50|:80... connected.\n",
            "HTTP request sent, awaiting response... 200 OK\n",
            "Length: 15499476 (15M) [application/octet-stream]\n",
            "Saving to: ‘All_Beauty.csv.5’\n",
            "\n",
            "All_Beauty.csv.5    100%[===================>]  14.78M  23.2MB/s    in 0.6s    \n",
            "\n",
            "2022-01-02 09:36:06 (23.2 MB/s) - ‘All_Beauty.csv.5’ saved [15499476/15499476]\n",
            "\n",
            "--2022-01-02 09:36:06--  http://deepyeti.ucsd.edu/jianmo/amazon/metaFiles2/meta_All_Beauty.json.gz\n",
            "Resolving deepyeti.ucsd.edu (deepyeti.ucsd.edu)... 169.228.63.50\n",
            "Connecting to deepyeti.ucsd.edu (deepyeti.ucsd.edu)|169.228.63.50|:80... connected.\n",
            "HTTP request sent, awaiting response... 200 OK\n",
            "Length: 10329961 (9.9M) [application/octet-stream]\n",
            "Saving to: ‘meta_All_Beauty.json.gz.5’\n",
            "\n",
            "meta_All_Beauty.jso 100%[===================>]   9.85M  18.9MB/s    in 0.5s    \n",
            "\n",
            "2022-01-02 09:36:07 (18.9 MB/s) - ‘meta_All_Beauty.json.gz.5’ saved [10329961/10329961]\n",
            "\n"
          ]
        }
      ],
      "source": [
        "!wget http://deepyeti.ucsd.edu/jianmo/amazon/categoryFilesSmall/All_Beauty.csv\n",
        "!wget http://deepyeti.ucsd.edu/jianmo/amazon/metaFiles2/meta_All_Beauty.json.gz"
      ]
    },
    {
      "cell_type": "code",
      "execution_count": 4,
      "id": "84b66cc7",
      "metadata": {
        "id": "84b66cc7"
      },
      "outputs": [],
      "source": [
        "metadata = getDF('/content/meta_All_Beauty.json.gz')\n",
        "ratings = pd.read_csv('/content/All_Beauty.csv', names=['asin', 'reviewerID', 'overall', 'unixReviewTime'], header=None)"
      ]
    },
    {
      "cell_type": "code",
      "execution_count": 5,
      "id": "9fd77203",
      "metadata": {
        "id": "9fd77203",
        "outputId": "a7188d23-3432-4183-dbb1-53381bb6536c",
        "colab": {
          "base_uri": "https://localhost:8080/",
          "height": 0
        }
      },
      "outputs": [
        {
          "output_type": "execute_result",
          "data": {
            "text/html": [
              "\n",
              "  <div id=\"df-00825296-2cc4-4815-94ae-d2b64ef2bbd3\">\n",
              "    <div class=\"colab-df-container\">\n",
              "      <div>\n",
              "<style scoped>\n",
              "    .dataframe tbody tr th:only-of-type {\n",
              "        vertical-align: middle;\n",
              "    }\n",
              "\n",
              "    .dataframe tbody tr th {\n",
              "        vertical-align: top;\n",
              "    }\n",
              "\n",
              "    .dataframe thead th {\n",
              "        text-align: right;\n",
              "    }\n",
              "</style>\n",
              "<table border=\"1\" class=\"dataframe\">\n",
              "  <thead>\n",
              "    <tr style=\"text-align: right;\">\n",
              "      <th></th>\n",
              "      <th>category</th>\n",
              "      <th>tech1</th>\n",
              "      <th>description</th>\n",
              "      <th>fit</th>\n",
              "      <th>title</th>\n",
              "      <th>also_buy</th>\n",
              "      <th>tech2</th>\n",
              "      <th>brand</th>\n",
              "      <th>feature</th>\n",
              "      <th>rank</th>\n",
              "      <th>also_view</th>\n",
              "      <th>details</th>\n",
              "      <th>main_cat</th>\n",
              "      <th>similar_item</th>\n",
              "      <th>date</th>\n",
              "      <th>price</th>\n",
              "      <th>asin</th>\n",
              "      <th>imageURL</th>\n",
              "      <th>imageURLHighRes</th>\n",
              "    </tr>\n",
              "  </thead>\n",
              "  <tbody>\n",
              "    <tr>\n",
              "      <th>0</th>\n",
              "      <td>[]</td>\n",
              "      <td></td>\n",
              "      <td>[Loud 'N Clear Personal Sound Amplifier allows...</td>\n",
              "      <td></td>\n",
              "      <td>Loud 'N Clear&amp;trade; Personal Sound Amplifier</td>\n",
              "      <td>[]</td>\n",
              "      <td></td>\n",
              "      <td>idea village</td>\n",
              "      <td>[]</td>\n",
              "      <td>2,938,573 in Beauty &amp; Personal Care (</td>\n",
              "      <td>[]</td>\n",
              "      <td>{'ASIN: ': '6546546450'}</td>\n",
              "      <td>All Beauty</td>\n",
              "      <td></td>\n",
              "      <td></td>\n",
              "      <td></td>\n",
              "      <td>6546546450</td>\n",
              "      <td>[]</td>\n",
              "      <td>[]</td>\n",
              "    </tr>\n",
              "    <tr>\n",
              "      <th>1</th>\n",
              "      <td>[]</td>\n",
              "      <td></td>\n",
              "      <td>[No7 Lift &amp; Luminate Triple Action Serum 50ml ...</td>\n",
              "      <td></td>\n",
              "      <td>No7 Lift &amp;amp; Luminate Triple Action Serum 50...</td>\n",
              "      <td>[B01E7LCSL6, B008X5RVME]</td>\n",
              "      <td></td>\n",
              "      <td></td>\n",
              "      <td>[]</td>\n",
              "      <td>872,854 in Beauty &amp; Personal Care (</td>\n",
              "      <td>[]</td>\n",
              "      <td>{'Shipping Weight:': '0.3 ounces (', 'ASIN: ':...</td>\n",
              "      <td>All Beauty</td>\n",
              "      <td>class=\"a-bordered a-horizontal-stripes  a-spa...</td>\n",
              "      <td></td>\n",
              "      <td>$44.99</td>\n",
              "      <td>7178680776</td>\n",
              "      <td>[]</td>\n",
              "      <td>[]</td>\n",
              "    </tr>\n",
              "    <tr>\n",
              "      <th>2</th>\n",
              "      <td>[]</td>\n",
              "      <td></td>\n",
              "      <td>[No7 Stay Perfect Foundation now stays perfect...</td>\n",
              "      <td></td>\n",
              "      <td>No7 Stay Perfect Foundation Cool Vanilla by No7</td>\n",
              "      <td>[]</td>\n",
              "      <td></td>\n",
              "      <td>No7</td>\n",
              "      <td>[]</td>\n",
              "      <td>956,696 in Beauty &amp; Personal Care (</td>\n",
              "      <td>[B01B8BR0O8, B01B8BR0NO, B014MHXXM8]</td>\n",
              "      <td>{'Shipping Weight:': '3.5 ounces (', 'ASIN: ':...</td>\n",
              "      <td>All Beauty</td>\n",
              "      <td></td>\n",
              "      <td></td>\n",
              "      <td>$28.76</td>\n",
              "      <td>7250468162</td>\n",
              "      <td>[]</td>\n",
              "      <td>[]</td>\n",
              "    </tr>\n",
              "    <tr>\n",
              "      <th>3</th>\n",
              "      <td>[]</td>\n",
              "      <td></td>\n",
              "      <td>[]</td>\n",
              "      <td></td>\n",
              "      <td>Wella Koleston Perfect Hair Colour 44/44 Mediu...</td>\n",
              "      <td>[B0041PBXX8]</td>\n",
              "      <td></td>\n",
              "      <td></td>\n",
              "      <td>[]</td>\n",
              "      <td>1,870,258 in Beauty &amp; Personal Care (</td>\n",
              "      <td>[]</td>\n",
              "      <td>{'\n",
              "    Item Weight: \n",
              "    ': '1.76 ounces', 'Sh...</td>\n",
              "      <td>All Beauty</td>\n",
              "      <td></td>\n",
              "      <td></td>\n",
              "      <td></td>\n",
              "      <td>7367905066</td>\n",
              "      <td>[https://images-na.ssl-images-amazon.com/image...</td>\n",
              "      <td>[https://images-na.ssl-images-amazon.com/image...</td>\n",
              "    </tr>\n",
              "    <tr>\n",
              "      <th>4</th>\n",
              "      <td>[]</td>\n",
              "      <td></td>\n",
              "      <td>[Lacto Calamine Skin Balance Daily Nourishing ...</td>\n",
              "      <td></td>\n",
              "      <td>Lacto Calamine Skin Balance Oil control 120 ml...</td>\n",
              "      <td>[]</td>\n",
              "      <td></td>\n",
              "      <td>Pirmal Healthcare</td>\n",
              "      <td>[]</td>\n",
              "      <td>67,701 in Beauty &amp; Personal Care (</td>\n",
              "      <td>[3254895630, B007VL1D9S, B00EH9A0RI, B0773MBG4...</td>\n",
              "      <td>{'Shipping Weight:': '12 ounces (', 'ASIN: ': ...</td>\n",
              "      <td>All Beauty</td>\n",
              "      <td></td>\n",
              "      <td></td>\n",
              "      <td>$12.15</td>\n",
              "      <td>7414204790</td>\n",
              "      <td>[https://images-na.ssl-images-amazon.com/image...</td>\n",
              "      <td>[https://images-na.ssl-images-amazon.com/image...</td>\n",
              "    </tr>\n",
              "  </tbody>\n",
              "</table>\n",
              "</div>\n",
              "      <button class=\"colab-df-convert\" onclick=\"convertToInteractive('df-00825296-2cc4-4815-94ae-d2b64ef2bbd3')\"\n",
              "              title=\"Convert this dataframe to an interactive table.\"\n",
              "              style=\"display:none;\">\n",
              "        \n",
              "  <svg xmlns=\"http://www.w3.org/2000/svg\" height=\"24px\"viewBox=\"0 0 24 24\"\n",
              "       width=\"24px\">\n",
              "    <path d=\"M0 0h24v24H0V0z\" fill=\"none\"/>\n",
              "    <path d=\"M18.56 5.44l.94 2.06.94-2.06 2.06-.94-2.06-.94-.94-2.06-.94 2.06-2.06.94zm-11 1L8.5 8.5l.94-2.06 2.06-.94-2.06-.94L8.5 2.5l-.94 2.06-2.06.94zm10 10l.94 2.06.94-2.06 2.06-.94-2.06-.94-.94-2.06-.94 2.06-2.06.94z\"/><path d=\"M17.41 7.96l-1.37-1.37c-.4-.4-.92-.59-1.43-.59-.52 0-1.04.2-1.43.59L10.3 9.45l-7.72 7.72c-.78.78-.78 2.05 0 2.83L4 21.41c.39.39.9.59 1.41.59.51 0 1.02-.2 1.41-.59l7.78-7.78 2.81-2.81c.8-.78.8-2.07 0-2.86zM5.41 20L4 18.59l7.72-7.72 1.47 1.35L5.41 20z\"/>\n",
              "  </svg>\n",
              "      </button>\n",
              "      \n",
              "  <style>\n",
              "    .colab-df-container {\n",
              "      display:flex;\n",
              "      flex-wrap:wrap;\n",
              "      gap: 12px;\n",
              "    }\n",
              "\n",
              "    .colab-df-convert {\n",
              "      background-color: #E8F0FE;\n",
              "      border: none;\n",
              "      border-radius: 50%;\n",
              "      cursor: pointer;\n",
              "      display: none;\n",
              "      fill: #1967D2;\n",
              "      height: 32px;\n",
              "      padding: 0 0 0 0;\n",
              "      width: 32px;\n",
              "    }\n",
              "\n",
              "    .colab-df-convert:hover {\n",
              "      background-color: #E2EBFA;\n",
              "      box-shadow: 0px 1px 2px rgba(60, 64, 67, 0.3), 0px 1px 3px 1px rgba(60, 64, 67, 0.15);\n",
              "      fill: #174EA6;\n",
              "    }\n",
              "\n",
              "    [theme=dark] .colab-df-convert {\n",
              "      background-color: #3B4455;\n",
              "      fill: #D2E3FC;\n",
              "    }\n",
              "\n",
              "    [theme=dark] .colab-df-convert:hover {\n",
              "      background-color: #434B5C;\n",
              "      box-shadow: 0px 1px 3px 1px rgba(0, 0, 0, 0.15);\n",
              "      filter: drop-shadow(0px 1px 2px rgba(0, 0, 0, 0.3));\n",
              "      fill: #FFFFFF;\n",
              "    }\n",
              "  </style>\n",
              "\n",
              "      <script>\n",
              "        const buttonEl =\n",
              "          document.querySelector('#df-00825296-2cc4-4815-94ae-d2b64ef2bbd3 button.colab-df-convert');\n",
              "        buttonEl.style.display =\n",
              "          google.colab.kernel.accessAllowed ? 'block' : 'none';\n",
              "\n",
              "        async function convertToInteractive(key) {\n",
              "          const element = document.querySelector('#df-00825296-2cc4-4815-94ae-d2b64ef2bbd3');\n",
              "          const dataTable =\n",
              "            await google.colab.kernel.invokeFunction('convertToInteractive',\n",
              "                                                     [key], {});\n",
              "          if (!dataTable) return;\n",
              "\n",
              "          const docLinkHtml = 'Like what you see? Visit the ' +\n",
              "            '<a target=\"_blank\" href=https://colab.research.google.com/notebooks/data_table.ipynb>data table notebook</a>'\n",
              "            + ' to learn more about interactive tables.';\n",
              "          element.innerHTML = '';\n",
              "          dataTable['output_type'] = 'display_data';\n",
              "          await google.colab.output.renderOutput(dataTable, element);\n",
              "          const docLink = document.createElement('div');\n",
              "          docLink.innerHTML = docLinkHtml;\n",
              "          element.appendChild(docLink);\n",
              "        }\n",
              "      </script>\n",
              "    </div>\n",
              "  </div>\n",
              "  "
            ],
            "text/plain": [
              "  category  ...                                    imageURLHighRes\n",
              "0       []  ...                                                 []\n",
              "1       []  ...                                                 []\n",
              "2       []  ...                                                 []\n",
              "3       []  ...  [https://images-na.ssl-images-amazon.com/image...\n",
              "4       []  ...  [https://images-na.ssl-images-amazon.com/image...\n",
              "\n",
              "[5 rows x 19 columns]"
            ]
          },
          "metadata": {},
          "execution_count": 5
        }
      ],
      "source": [
        "metadata.head()"
      ]
    },
    {
      "cell_type": "code",
      "execution_count": 6,
      "id": "b402792c",
      "metadata": {
        "id": "b402792c",
        "outputId": "d93a874a-20e1-483b-ff0c-3877a75de780",
        "colab": {
          "base_uri": "https://localhost:8080/",
          "height": 0
        }
      },
      "outputs": [
        {
          "output_type": "execute_result",
          "data": {
            "text/html": [
              "\n",
              "  <div id=\"df-ef2d8a52-e07c-4441-bd4e-ca9f7aad9731\">\n",
              "    <div class=\"colab-df-container\">\n",
              "      <div>\n",
              "<style scoped>\n",
              "    .dataframe tbody tr th:only-of-type {\n",
              "        vertical-align: middle;\n",
              "    }\n",
              "\n",
              "    .dataframe tbody tr th {\n",
              "        vertical-align: top;\n",
              "    }\n",
              "\n",
              "    .dataframe thead th {\n",
              "        text-align: right;\n",
              "    }\n",
              "</style>\n",
              "<table border=\"1\" class=\"dataframe\">\n",
              "  <thead>\n",
              "    <tr style=\"text-align: right;\">\n",
              "      <th></th>\n",
              "      <th>asin</th>\n",
              "      <th>reviewerID</th>\n",
              "      <th>overall</th>\n",
              "      <th>unixReviewTime</th>\n",
              "    </tr>\n",
              "  </thead>\n",
              "  <tbody>\n",
              "    <tr>\n",
              "      <th>0</th>\n",
              "      <td>0143026860</td>\n",
              "      <td>A1V6B6TNIC10QE</td>\n",
              "      <td>1.0</td>\n",
              "      <td>1424304000</td>\n",
              "    </tr>\n",
              "    <tr>\n",
              "      <th>1</th>\n",
              "      <td>0143026860</td>\n",
              "      <td>A2F5GHSXFQ0W6J</td>\n",
              "      <td>4.0</td>\n",
              "      <td>1418860800</td>\n",
              "    </tr>\n",
              "    <tr>\n",
              "      <th>2</th>\n",
              "      <td>0143026860</td>\n",
              "      <td>A1572GUYS7DGSR</td>\n",
              "      <td>4.0</td>\n",
              "      <td>1407628800</td>\n",
              "    </tr>\n",
              "    <tr>\n",
              "      <th>3</th>\n",
              "      <td>0143026860</td>\n",
              "      <td>A1PSGLFK1NSVO</td>\n",
              "      <td>5.0</td>\n",
              "      <td>1362960000</td>\n",
              "    </tr>\n",
              "    <tr>\n",
              "      <th>4</th>\n",
              "      <td>0143026860</td>\n",
              "      <td>A6IKXKZMTKGSC</td>\n",
              "      <td>5.0</td>\n",
              "      <td>1324771200</td>\n",
              "    </tr>\n",
              "  </tbody>\n",
              "</table>\n",
              "</div>\n",
              "      <button class=\"colab-df-convert\" onclick=\"convertToInteractive('df-ef2d8a52-e07c-4441-bd4e-ca9f7aad9731')\"\n",
              "              title=\"Convert this dataframe to an interactive table.\"\n",
              "              style=\"display:none;\">\n",
              "        \n",
              "  <svg xmlns=\"http://www.w3.org/2000/svg\" height=\"24px\"viewBox=\"0 0 24 24\"\n",
              "       width=\"24px\">\n",
              "    <path d=\"M0 0h24v24H0V0z\" fill=\"none\"/>\n",
              "    <path d=\"M18.56 5.44l.94 2.06.94-2.06 2.06-.94-2.06-.94-.94-2.06-.94 2.06-2.06.94zm-11 1L8.5 8.5l.94-2.06 2.06-.94-2.06-.94L8.5 2.5l-.94 2.06-2.06.94zm10 10l.94 2.06.94-2.06 2.06-.94-2.06-.94-.94-2.06-.94 2.06-2.06.94z\"/><path d=\"M17.41 7.96l-1.37-1.37c-.4-.4-.92-.59-1.43-.59-.52 0-1.04.2-1.43.59L10.3 9.45l-7.72 7.72c-.78.78-.78 2.05 0 2.83L4 21.41c.39.39.9.59 1.41.59.51 0 1.02-.2 1.41-.59l7.78-7.78 2.81-2.81c.8-.78.8-2.07 0-2.86zM5.41 20L4 18.59l7.72-7.72 1.47 1.35L5.41 20z\"/>\n",
              "  </svg>\n",
              "      </button>\n",
              "      \n",
              "  <style>\n",
              "    .colab-df-container {\n",
              "      display:flex;\n",
              "      flex-wrap:wrap;\n",
              "      gap: 12px;\n",
              "    }\n",
              "\n",
              "    .colab-df-convert {\n",
              "      background-color: #E8F0FE;\n",
              "      border: none;\n",
              "      border-radius: 50%;\n",
              "      cursor: pointer;\n",
              "      display: none;\n",
              "      fill: #1967D2;\n",
              "      height: 32px;\n",
              "      padding: 0 0 0 0;\n",
              "      width: 32px;\n",
              "    }\n",
              "\n",
              "    .colab-df-convert:hover {\n",
              "      background-color: #E2EBFA;\n",
              "      box-shadow: 0px 1px 2px rgba(60, 64, 67, 0.3), 0px 1px 3px 1px rgba(60, 64, 67, 0.15);\n",
              "      fill: #174EA6;\n",
              "    }\n",
              "\n",
              "    [theme=dark] .colab-df-convert {\n",
              "      background-color: #3B4455;\n",
              "      fill: #D2E3FC;\n",
              "    }\n",
              "\n",
              "    [theme=dark] .colab-df-convert:hover {\n",
              "      background-color: #434B5C;\n",
              "      box-shadow: 0px 1px 3px 1px rgba(0, 0, 0, 0.15);\n",
              "      filter: drop-shadow(0px 1px 2px rgba(0, 0, 0, 0.3));\n",
              "      fill: #FFFFFF;\n",
              "    }\n",
              "  </style>\n",
              "\n",
              "      <script>\n",
              "        const buttonEl =\n",
              "          document.querySelector('#df-ef2d8a52-e07c-4441-bd4e-ca9f7aad9731 button.colab-df-convert');\n",
              "        buttonEl.style.display =\n",
              "          google.colab.kernel.accessAllowed ? 'block' : 'none';\n",
              "\n",
              "        async function convertToInteractive(key) {\n",
              "          const element = document.querySelector('#df-ef2d8a52-e07c-4441-bd4e-ca9f7aad9731');\n",
              "          const dataTable =\n",
              "            await google.colab.kernel.invokeFunction('convertToInteractive',\n",
              "                                                     [key], {});\n",
              "          if (!dataTable) return;\n",
              "\n",
              "          const docLinkHtml = 'Like what you see? Visit the ' +\n",
              "            '<a target=\"_blank\" href=https://colab.research.google.com/notebooks/data_table.ipynb>data table notebook</a>'\n",
              "            + ' to learn more about interactive tables.';\n",
              "          element.innerHTML = '';\n",
              "          dataTable['output_type'] = 'display_data';\n",
              "          await google.colab.output.renderOutput(dataTable, element);\n",
              "          const docLink = document.createElement('div');\n",
              "          docLink.innerHTML = docLinkHtml;\n",
              "          element.appendChild(docLink);\n",
              "        }\n",
              "      </script>\n",
              "    </div>\n",
              "  </div>\n",
              "  "
            ],
            "text/plain": [
              "         asin      reviewerID  overall  unixReviewTime\n",
              "0  0143026860  A1V6B6TNIC10QE      1.0      1424304000\n",
              "1  0143026860  A2F5GHSXFQ0W6J      4.0      1418860800\n",
              "2  0143026860  A1572GUYS7DGSR      4.0      1407628800\n",
              "3  0143026860   A1PSGLFK1NSVO      5.0      1362960000\n",
              "4  0143026860   A6IKXKZMTKGSC      5.0      1324771200"
            ]
          },
          "metadata": {},
          "execution_count": 6
        }
      ],
      "source": [
        "ratings.head()"
      ]
    },
    {
      "cell_type": "markdown",
      "id": "695362e3",
      "metadata": {
        "id": "695362e3"
      },
      "source": [
        "## 資料整理\n",
        "\n",
        "metadata -> metadata_clean"
      ]
    },
    {
      "cell_type": "code",
      "execution_count": 7,
      "id": "b552fb23",
      "metadata": {
        "id": "b552fb23"
      },
      "outputs": [],
      "source": [
        "ratings['DATE'] = pd.to_datetime(ratings['unixReviewTime'], unit='s')"
      ]
    },
    {
      "cell_type": "code",
      "source": [
        "import numpy as np\n",
        "\n",
        "def emptylist_na(cell):\n",
        "    try:\n",
        "        if len(cell) == 0:\n",
        "            return np.nan\n",
        "        else:\n",
        "            return cell\n",
        "    except:\n",
        "        return cell\n",
        "metadata_na = metadata.applymap(emptylist_na)"
      ],
      "metadata": {
        "id": "6bfCfSuD95kh"
      },
      "execution_count": 8,
      "outputs": [],
      "id": "6bfCfSuD95kh"
    },
    {
      "cell_type": "code",
      "source": [
        "metadata_na.isna().sum().sort_values(ascending=False).to_frame(name='Number of NA').T"
      ],
      "metadata": {
        "colab": {
          "base_uri": "https://localhost:8080/",
          "height": 0
        },
        "id": "kn0tlyk9BFYR",
        "outputId": "4048dedd-fa11-48c5-9673-96a453c2114f"
      },
      "execution_count": 9,
      "outputs": [
        {
          "output_type": "execute_result",
          "data": {
            "text/html": [
              "\n",
              "  <div id=\"df-00fe6616-0f2b-4e66-aaec-d956a5dfd1e1\">\n",
              "    <div class=\"colab-df-container\">\n",
              "      <div>\n",
              "<style scoped>\n",
              "    .dataframe tbody tr th:only-of-type {\n",
              "        vertical-align: middle;\n",
              "    }\n",
              "\n",
              "    .dataframe tbody tr th {\n",
              "        vertical-align: top;\n",
              "    }\n",
              "\n",
              "    .dataframe thead th {\n",
              "        text-align: right;\n",
              "    }\n",
              "</style>\n",
              "<table border=\"1\" class=\"dataframe\">\n",
              "  <thead>\n",
              "    <tr style=\"text-align: right;\">\n",
              "      <th></th>\n",
              "      <th>category</th>\n",
              "      <th>tech2</th>\n",
              "      <th>fit</th>\n",
              "      <th>tech1</th>\n",
              "      <th>date</th>\n",
              "      <th>feature</th>\n",
              "      <th>similar_item</th>\n",
              "      <th>also_buy</th>\n",
              "      <th>also_view</th>\n",
              "      <th>price</th>\n",
              "      <th>description</th>\n",
              "      <th>imageURLHighRes</th>\n",
              "      <th>imageURL</th>\n",
              "      <th>brand</th>\n",
              "      <th>rank</th>\n",
              "      <th>details</th>\n",
              "      <th>title</th>\n",
              "      <th>main_cat</th>\n",
              "      <th>asin</th>\n",
              "    </tr>\n",
              "  </thead>\n",
              "  <tbody>\n",
              "    <tr>\n",
              "      <th>Number of NA</th>\n",
              "      <td>32892</td>\n",
              "      <td>32892</td>\n",
              "      <td>32892</td>\n",
              "      <td>32882</td>\n",
              "      <td>32873</td>\n",
              "      <td>32623</td>\n",
              "      <td>31588</td>\n",
              "      <td>26295</td>\n",
              "      <td>24760</td>\n",
              "      <td>21433</td>\n",
              "      <td>17773</td>\n",
              "      <td>16351</td>\n",
              "      <td>16351</td>\n",
              "      <td>15673</td>\n",
              "      <td>377</td>\n",
              "      <td>132</td>\n",
              "      <td>1</td>\n",
              "      <td>0</td>\n",
              "      <td>0</td>\n",
              "    </tr>\n",
              "  </tbody>\n",
              "</table>\n",
              "</div>\n",
              "      <button class=\"colab-df-convert\" onclick=\"convertToInteractive('df-00fe6616-0f2b-4e66-aaec-d956a5dfd1e1')\"\n",
              "              title=\"Convert this dataframe to an interactive table.\"\n",
              "              style=\"display:none;\">\n",
              "        \n",
              "  <svg xmlns=\"http://www.w3.org/2000/svg\" height=\"24px\"viewBox=\"0 0 24 24\"\n",
              "       width=\"24px\">\n",
              "    <path d=\"M0 0h24v24H0V0z\" fill=\"none\"/>\n",
              "    <path d=\"M18.56 5.44l.94 2.06.94-2.06 2.06-.94-2.06-.94-.94-2.06-.94 2.06-2.06.94zm-11 1L8.5 8.5l.94-2.06 2.06-.94-2.06-.94L8.5 2.5l-.94 2.06-2.06.94zm10 10l.94 2.06.94-2.06 2.06-.94-2.06-.94-.94-2.06-.94 2.06-2.06.94z\"/><path d=\"M17.41 7.96l-1.37-1.37c-.4-.4-.92-.59-1.43-.59-.52 0-1.04.2-1.43.59L10.3 9.45l-7.72 7.72c-.78.78-.78 2.05 0 2.83L4 21.41c.39.39.9.59 1.41.59.51 0 1.02-.2 1.41-.59l7.78-7.78 2.81-2.81c.8-.78.8-2.07 0-2.86zM5.41 20L4 18.59l7.72-7.72 1.47 1.35L5.41 20z\"/>\n",
              "  </svg>\n",
              "      </button>\n",
              "      \n",
              "  <style>\n",
              "    .colab-df-container {\n",
              "      display:flex;\n",
              "      flex-wrap:wrap;\n",
              "      gap: 12px;\n",
              "    }\n",
              "\n",
              "    .colab-df-convert {\n",
              "      background-color: #E8F0FE;\n",
              "      border: none;\n",
              "      border-radius: 50%;\n",
              "      cursor: pointer;\n",
              "      display: none;\n",
              "      fill: #1967D2;\n",
              "      height: 32px;\n",
              "      padding: 0 0 0 0;\n",
              "      width: 32px;\n",
              "    }\n",
              "\n",
              "    .colab-df-convert:hover {\n",
              "      background-color: #E2EBFA;\n",
              "      box-shadow: 0px 1px 2px rgba(60, 64, 67, 0.3), 0px 1px 3px 1px rgba(60, 64, 67, 0.15);\n",
              "      fill: #174EA6;\n",
              "    }\n",
              "\n",
              "    [theme=dark] .colab-df-convert {\n",
              "      background-color: #3B4455;\n",
              "      fill: #D2E3FC;\n",
              "    }\n",
              "\n",
              "    [theme=dark] .colab-df-convert:hover {\n",
              "      background-color: #434B5C;\n",
              "      box-shadow: 0px 1px 3px 1px rgba(0, 0, 0, 0.15);\n",
              "      filter: drop-shadow(0px 1px 2px rgba(0, 0, 0, 0.3));\n",
              "      fill: #FFFFFF;\n",
              "    }\n",
              "  </style>\n",
              "\n",
              "      <script>\n",
              "        const buttonEl =\n",
              "          document.querySelector('#df-00fe6616-0f2b-4e66-aaec-d956a5dfd1e1 button.colab-df-convert');\n",
              "        buttonEl.style.display =\n",
              "          google.colab.kernel.accessAllowed ? 'block' : 'none';\n",
              "\n",
              "        async function convertToInteractive(key) {\n",
              "          const element = document.querySelector('#df-00fe6616-0f2b-4e66-aaec-d956a5dfd1e1');\n",
              "          const dataTable =\n",
              "            await google.colab.kernel.invokeFunction('convertToInteractive',\n",
              "                                                     [key], {});\n",
              "          if (!dataTable) return;\n",
              "\n",
              "          const docLinkHtml = 'Like what you see? Visit the ' +\n",
              "            '<a target=\"_blank\" href=https://colab.research.google.com/notebooks/data_table.ipynb>data table notebook</a>'\n",
              "            + ' to learn more about interactive tables.';\n",
              "          element.innerHTML = '';\n",
              "          dataTable['output_type'] = 'display_data';\n",
              "          await google.colab.output.renderOutput(dataTable, element);\n",
              "          const docLink = document.createElement('div');\n",
              "          docLink.innerHTML = docLinkHtml;\n",
              "          element.appendChild(docLink);\n",
              "        }\n",
              "      </script>\n",
              "    </div>\n",
              "  </div>\n",
              "  "
            ],
            "text/plain": [
              "              category  tech2    fit  tech1  ...  details  title  main_cat  asin\n",
              "Number of NA     32892  32892  32892  32882  ...      132      1         0     0\n",
              "\n",
              "[1 rows x 19 columns]"
            ]
          },
          "metadata": {},
          "execution_count": 9
        }
      ],
      "id": "kn0tlyk9BFYR"
    },
    {
      "cell_type": "code",
      "source": [
        "print('# main_cat:', metadata['main_cat'].unique())\n",
        "print('# similar_item:', metadata['similar_item'].unique())\n",
        "print('# details:', metadata['details'].sample(5))"
      ],
      "metadata": {
        "colab": {
          "base_uri": "https://localhost:8080/"
        },
        "id": "fyANlkXYLWt_",
        "outputId": "8d209d04-91df-43e1-8926-3581eacd7512"
      },
      "execution_count": 10,
      "outputs": [
        {
          "output_type": "stream",
          "name": "stdout",
          "text": [
            "# main_cat: ['All Beauty']\n",
            "# similar_item: [''\n",
            " ' class=\"a-bordered a-horizontal-stripes  a-spacing-extra-large a-size-base comparison_table\">\\n\\n\\n\\n            \\n            \\n            \\n            \\n            \\n            <tr class=\"comparison_table_image_row\">\\n                <td class=\"comparison_table_first_col\"></td>\\n\\n\\n                <th class=\"comparison_image_title_cell\" role=\"columnheader\">\\n                    <div class=\"a-row a-spacing-top-micro\">\\n                        <center>\\n                             <img alt=\"No7 Lift &amp; Luminate Triple Action Serum 50ml by Boots\" src=\"https://images-na.ssl-images-amazon.com/images/I/31gXVsxM7FL._SL500_AC_SS350_.jpg\" id=\"comparison_image\">\\n                        </center>\\n                    </div>\\n                    <div class=\"a-row a-spacing-top-small\">\\n                        <div id=\"comparison_title\" class=\"a-section a-spacing-none\">\\n                            <span aria-hidden=\"true\" class=\"a-size-base a-color-base a-text-bold\">\\n                                This item\\n                            </span>\\n                            <span aria-hidden=\"true\" class=\"a-size-base a-color-base\">No7 Lift & Luminate Triple Action Serum 50ml by Boots</span>\\n                        </div>\\n                        \\n                        \\n                    </div>\\n                </th>\\n\\n\\n                \\n                    <th class=\"comparison_image_title_cell comparable_item0\" role=\"columnheader\">\\n                        <a class=\"a-link-normal\" target=\"_self\" rel=\"noopener\" href=\"/dp/B01MR3GO4Q/ref=psdc_10304191_t1_7178680776\">\\n                          <div class=\"a-row a-spacing-top-micro\">\\n                            <center>\\n                                <img alt=\"\" src=\"https://images-na.ssl-images-amazon.com/images/I/31DbyNpwS6L._SL500_AC_SS350_.jpg\" aria-hidden=\"true\" id=\"comparison_image0\">\\n                            </center>\\n                          </div>\\n                          <div id=\"comparison_title0\" class=\"a-row a-spacing-top-small\">\\n                            <span class=\"a-size-base\">No7 Lift & Luminate Triple Action Serum 30ml by No. 7</span>\\n                          </div>\\n                        </a>\\n                        \\n                        \\n                    </th>\\n                \\n                    <th class=\"comparison_image_title_cell comparable_item1\" role=\"columnheader\">\\n                        <a class=\"a-link-normal\" target=\"_self\" rel=\"noopener\" href=\"/dp/B07C9JCYVN/ref=psdc_10304191_t2_7178680776\">\\n                          <div class=\"a-row a-spacing-top-micro\">\\n                            <center>\\n                                <img alt=\"\" src=\"https://images-na.ssl-images-amazon.com/images/I/31wxN2ktk0L._SL500_AC_SS350_.jpg\" aria-hidden=\"true\" id=\"comparison_image1\">\\n                            </center>\\n                          </div>\\n                          <div id=\"comparison_title1\" class=\"a-row a-spacing-top-small\">\\n                            <span class=\"a-size-base\">No7 Lift & Luminate TRIPLE ACTION serum 30ml</span>\\n                          </div>\\n                        </a>\\n                        \\n                        \\n                    </th>\\n                \\n                    <th class=\"comparison_image_title_cell comparable_item2\" role=\"columnheader\">\\n                        <a class=\"a-link-normal\" target=\"_self\" rel=\"noopener\" href=\"/dp/B07BRW8GLB/ref=psdc_10304191_t3_7178680776\">\\n                          <div class=\"a-row a-spacing-top-micro\">\\n                            <center>\\n                                <img alt=\"\" src=\"https://images-na.ssl-images-amazon.com/images/I/312qgBGzYIL._SL500_AC_SS350_.jpg\" aria-hidden=\"true\" id=\"comparison_image2\">\\n                            </center>\\n                          </div>\\n                          <div id=\"comparison_title2\" class=\"a-row a-spacing-top-small\">\\n                            <span class=\"a-size-base\">No7 Lift & Luminate TRIPLE ACTION serum 50ml</span>\\n                          </div>\\n                        </a>\\n                        \\n                        \\n                    </th>\\n                \\n            </tr>\\n\\n\\n            <tr></tr>\\n\\n\\n            \\n            \\n            <tr>\\n                <td class=\"comparison_table_first_col\"></td>\\n\\n\\n                <td class=\"comparison_add_to_cart_button\">\\n                    \\n                        \\n                        \\n                        \\n                            <span id=\"comparison_add_to_cart_button\" class=\"a-button a-spacing-small a-button-primary\"><span class=\"a-button-inner\"><a id=\"comparison_add_to_cart_button-announce\" href=\"/gp/item-dispatch/ref=psdc_10304191_a0_7178680776?ie=UTF8&amp;itemCount=1&amp;nodeID=3760911&amp;offeringID.1=W6l6LwsL5gLn7uyFt9tySXWhTMMnEU%252FfPAftuVlq1885UDuQDqwHP5A%252FaBX4vqcYs35f6NMrZIt2WzP3yG%252F7yHXs7oiPYagr9xCRDEYUifZSkT8NBOQlGq7ntMgpFHa5Qtn69KUaBkzU2HKxhvoQlvOTZGdMKJP0&amp;storeID=beauty&amp;session-id=133-6532085-6397842&amp;submit.addToCart=addToCart&amp;signInToHUC=0\" class=\"a-button-text\" role=\"button\">Add to Cart</a></span></span>\\n                        \\n                    \\n                </td>\\n\\n\\n                \\n                    <td class=\"a-text-left comparison_add_to_cart_button comparable_item0\">\\n                        \\n                            \\n                            \\n                                <span id=\"comparison_add_to_cart_button0\" class=\"a-button a-spacing-small a-button-primary\"><span class=\"a-button-inner\"><a id=\"comparison_add_to_cart_button0-announce\" href=\"/gp/item-dispatch/ref=psdc_10304191_a1_7178680776?ie=UTF8&amp;itemCount=1&amp;nodeID=3760911&amp;offeringID.1=W6l6LwsL5gJRe%252F5c0t96vd7Ahu1%252BCE1lkkaz%252FaDnhWEGTBGzYZ46IOhYDHdQ5OdJX5NS76hXorvAm5F4Qr1FxCmiy3LAui9L2UoxGfXdP1b5pFr9HWGvbLjxC1pXjGZFZ%252FFyrHiGLigLxCPpbBt44l9lMrIQ%252BPov&amp;storeID=beauty&amp;session-id=133-6532085-6397842&amp;submit.addToCart=addToCart&amp;signInToHUC=0\" class=\"a-button-text\" role=\"button\">Add to Cart</a></span></span>\\n                            \\n                        \\n                    </td>\\n                \\n                    <td class=\"a-text-left comparison_add_to_cart_button comparable_item1\">\\n                        \\n                            \\n                            \\n                                <span id=\"comparison_add_to_cart_button1\" class=\"a-button a-spacing-small a-button-primary\"><span class=\"a-button-inner\"><a id=\"comparison_add_to_cart_button1-announce\" href=\"/gp/item-dispatch/ref=psdc_10304191_a2_7178680776?ie=UTF8&amp;itemCount=1&amp;nodeID=3760911&amp;offeringID.1=Amwnpg%252B%252B4Gpkd9AwQPI%252BDaaBvwC7FlgX9C4hCvU88I%252FoXkGhZ4AX0NO4EvwKVeTevj7P5U%252BNU0Phta9ZOE64BiNyfMfwueAjqDvP7Va5zCDZPnakxY%252BepDaeqarkLpB9uoToockuI%252FVKbtTg4i6ehyJjyNBQlmSz&amp;storeID=beauty&amp;session-id=133-6532085-6397842&amp;submit.addToCart=addToCart&amp;signInToHUC=0\" class=\"a-button-text\" role=\"button\">Add to Cart</a></span></span>\\n                            \\n                        \\n                    </td>\\n                \\n                    <td class=\"a-text-left comparison_add_to_cart_button comparable_item2\">\\n                        \\n                            \\n                            \\n                                <span id=\"comparison_add_to_cart_button2\" class=\"a-button a-spacing-small a-button-primary\"><span class=\"a-button-inner\"><a id=\"comparison_add_to_cart_button2-announce\" href=\"/gp/item-dispatch/ref=psdc_10304191_a3_7178680776?ie=UTF8&amp;itemCount=1&amp;nodeID=3760911&amp;offeringID.1=W6l6LwsL5gI1yl8D9h3ZWsHPRKTueez6XTV6v%252Fj%252BnN%252Fv4r5xYLWej1y0XEnimioRuaYpdWDfPOgKGatUcQh9mSSDD1MYxYpLR1RUk0N0d1JPXwVsIM8UGA1%252FldzGb8m1SZRyYP%252Fge4vscvk3sx7Cdg%253D%253D&amp;storeID=beauty&amp;session-id=133-6532085-6397842&amp;submit.addToCart=addToCart&amp;signInToHUC=0\" class=\"a-button-text\" role=\"button\">Add to Cart</a></span></span>\\n                            \\n                        \\n                    </td>\\n                \\n            </tr>\\n\\n\\n            <tr id=\"comparison_custormer_rating_row\">\\n                \\n                \\n                \\n                \\n\\n                <th class=\"comparison_attribute_name_column comparison_table_first_col\" role=\"rowheader\">\\n                    <span class=\"a-size-base a-color-base\">Customer Rating</span>\\n                </th>\\n\\n\\n                <td class=\"comparison_baseitem_column\">\\n                    \\n                    \\n                    \\n                    <span>\\n                        <span class=\"a-declarative\" data-action=\"a-popover\" data-a-popover=\"{&quot;max-width&quot;:&quot;700&quot;,&quot;closeButton&quot;:&quot;false&quot;,&quot;position&quot;:&quot;triggerBottom&quot;,&quot;url&quot;:&quot; /gp/customer-reviews/widgets/average-customer-review/popover/ref=acr_dpComparsion__popover?contextId=dpComparsion&amp;asin=7178680776 &quot;,&quot;restoreFocusOnHide&quot;:&quot;false&quot;}\">\\n                            <i class=\"a-icon a-icon-star a-star-4 a-spacing-none\"><span class=\"a-icon-alt\">4 out of 5 stars</span></i>\\n                        </span>\\n                        <a class=\"a-link-normal\" target=\"_self\" rel=\"noopener\" href=\"/product-reviews/7178680776/ref=psdc_10304191_r0_7178680776?_encoding=UTF8&amp;showViewpoints=1\">(2)</a>\\n                        <span class=\"a-letter-space\"></span>\\n                    </span>\\n                </td>\\n\\n\\n                \\n                    <td class=\"comparison_sim_items_column comparable_item0\">\\n                        \\n                        \\n                        \\n                        <span>\\n                            <span class=\"a-declarative\" data-action=\"a-popover\" data-a-popover=\"{&quot;max-width&quot;:&quot;700&quot;,&quot;closeButton&quot;:&quot;false&quot;,&quot;position&quot;:&quot;triggerBottom&quot;,&quot;url&quot;:&quot; /gp/customer-reviews/widgets/average-customer-review/popover/ref=acr_dpComparsion__popover?contextId=dpComparsion&amp;asin=B01MR3GO4Q &quot;,&quot;restoreFocusOnHide&quot;:&quot;false&quot;}\">\\n                                <i class=\"a-icon a-icon-star a-star-0 a-spacing-none\"><span class=\"a-icon-alt\">0 out of 5 stars</span></i>\\n                            </span>\\n                            <a class=\"a-link-normal\" target=\"_self\" rel=\"noopener\" href=\"/product-reviews/B01MR3GO4Q/ref=psdc_10304191_r1_7178680776?_encoding=UTF8&amp;showViewpoints=1\">(0)</a>\\n                            <span class=\"a-letter-space\"></span>\\n                        </span>\\n                    </td>\\n                \\n                    <td class=\"comparison_sim_items_column comparable_item1\">\\n                        \\n                        \\n                        \\n                        <span>\\n                            <span class=\"a-declarative\" data-action=\"a-popover\" data-a-popover=\"{&quot;max-width&quot;:&quot;700&quot;,&quot;closeButton&quot;:&quot;false&quot;,&quot;position&quot;:&quot;triggerBottom&quot;,&quot;url&quot;:&quot; /gp/customer-reviews/widgets/average-customer-review/popover/ref=acr_dpComparsion__popover?contextId=dpComparsion&amp;asin=B07C9JCYVN &quot;,&quot;restoreFocusOnHide&quot;:&quot;false&quot;}\">\\n                                <i class=\"a-icon a-icon-star a-star-0 a-spacing-none\"><span class=\"a-icon-alt\">0 out of 5 stars</span></i>\\n                            </span>\\n                            <a class=\"a-link-normal\" target=\"_self\" rel=\"noopener\" href=\"/product-reviews/B07C9JCYVN/ref=psdc_10304191_r2_7178680776?_encoding=UTF8&amp;showViewpoints=1\">(0)</a>\\n                            <span class=\"a-letter-space\"></span>\\n                        </span>\\n                    </td>\\n                \\n                    <td class=\"comparison_sim_items_column comparable_item2\">\\n                        \\n                        \\n                        \\n                        <span>\\n                            <span class=\"a-declarative\" data-action=\"a-popover\" data-a-popover=\"{&quot;max-width&quot;:&quot;700&quot;,&quot;closeButton&quot;:&quot;false&quot;,&quot;position&quot;:&quot;triggerBottom&quot;,&quot;url&quot;:&quot; /gp/customer-reviews/widgets/average-customer-review/popover/ref=acr_dpComparsion__popover?contextId=dpComparsion&amp;asin=B07BRW8GLB &quot;,&quot;restoreFocusOnHide&quot;:&quot;false&quot;}\">\\n                                <i class=\"a-icon a-icon-star a-star-0 a-spacing-none\"><span class=\"a-icon-alt\">0 out of 5 stars</span></i>\\n                            </span>\\n                            <a class=\"a-link-normal\" target=\"_self\" rel=\"noopener\" href=\"/product-reviews/B07BRW8GLB/ref=psdc_10304191_r3_7178680776?_encoding=UTF8&amp;showViewpoints=1\">(0)</a>\\n                            <span class=\"a-letter-space\"></span>\\n                        </span>\\n                    </td>\\n                \\n            </tr>\\n\\n\\n            <tr id=\"comparison_price_row\">\\n                <th class=\"comparison_attribute_name_column comparison_table_first_col\" role=\"rowheader\">\\n                    <span class=\"a-size-base a-color-base\">Price</span>\\n                </th>\\n\\n\\n                <td class=\"comparison_baseitem_column\">\\n                    \\n                        \\n                        \\n                        \\n                        \\n                            \\n                                \\n                                    <span class=\"a-price\" data-a-size=\"l\" data-a-color=\"base\"><span class=\"a-offscreen\">$44.99</span><span aria-hidden=\"true\"><span class=\"a-price-symbol\">$</span><span class=\"a-price-whole\">44<span class=\"a-price-decimal\">\\x00</span></span><span class=\"a-price-fraction\">99</span></span></span>\\n                                \\n                                \\n                            \\n                        \\n                    \\n                </td>\\n\\n\\n                \\n                    <td class=\"comparison_sim_items_column comparable_item0\">\\n                    \\n                        \\n                        \\n                        \\n                            \\n                                \\n                                    <span class=\"a-price\" data-a-size=\"l\" data-a-color=\"base\"><span class=\"a-offscreen\">$29.98</span><span aria-hidden=\"true\"><span class=\"a-price-symbol\">$</span><span class=\"a-price-whole\">29<span class=\"a-price-decimal\">\\x00</span></span><span class=\"a-price-fraction\">98</span></span></span>\\n                                \\n                                \\n                            \\n                        \\n                    \\n                    </td>\\n                \\n                    <td class=\"comparison_sim_items_column comparable_item1\">\\n                    \\n                        \\n                        \\n                        \\n                            \\n                                \\n                                    <span class=\"a-price\" data-a-size=\"l\" data-a-color=\"base\"><span class=\"a-offscreen\">$22.95</span><span aria-hidden=\"true\"><span class=\"a-price-symbol\">$</span><span class=\"a-price-whole\">22<span class=\"a-price-decimal\">\\x00</span></span><span class=\"a-price-fraction\">95</span></span></span>\\n                                \\n                                \\n                            \\n                        \\n                    \\n                    </td>\\n                \\n                    <td class=\"comparison_sim_items_column comparable_item2\">\\n                    \\n                        \\n                        \\n                        \\n                            \\n                                \\n                                    <span class=\"a-price\" data-a-size=\"l\" data-a-color=\"base\"><span class=\"a-offscreen\">$59.99</span><span aria-hidden=\"true\"><span class=\"a-price-symbol\">$</span><span class=\"a-price-whole\">59<span class=\"a-price-decimal\">\\x00</span></span><span class=\"a-price-fraction\">99</span></span></span>\\n                                \\n                                \\n                            \\n                        \\n                    \\n                    </td>\\n                \\n            </tr>\\n\\n\\n    \\n                <tr id=\"comparison_shipping_info_row\">\\n                    <th class=\"comparison_attribute_name_column comparison_table_first_col\" role=\"rowheader\">\\n                        <span class=\"a-size-base a-color-base\">Shipping</span>\\n                    </th>\\n\\n    \\n                    <td class=\"comparison_baseitem_column\">\\n                        \\n                            \\n                            \\n                            \\n                                <span class=\"a-size-base a-color-base\">Eligible for FREE Shipping</span>\\n                            \\n                            \\n                            \\n                            \\n                            \\n                        \\n                    </td>\\n\\n    \\n                    \\n                        <td class=\"comparison_sim_items_column comparable_item0\">\\n                            \\n                                \\n                                \\n                                    <span class=\"a-size-base a-color-base\">Eligible for FREE Shipping</span>\\n                                \\n                                \\n                                \\n                                \\n                                \\n                            \\n                        </td>\\n                    \\n                        <td class=\"comparison_sim_items_column comparable_item1\">\\n                            \\n                                \\n                                \\n                                \\n                                \\n                                \\n                                    <span class=\"a-size-base a-color-price a-text-bold\">$6.49</span>\\n                                \\n                                \\n                            \\n                        </td>\\n                    \\n                        <td class=\"comparison_sim_items_column comparable_item2\">\\n                            \\n                                \\n                                \\n                                \\n                                \\n                                \\n                                    <span class=\"a-size-base a-color-price a-text-bold\">$7.49</span>\\n                                \\n                                \\n                            \\n                        </td>\\n                    \\n                </tr>\\n\\n\\n\\n            <tr id=\"comparison_sold_by_row\">\\n                <th class=\"comparison_attribute_name_column comparison_table_first_col\" role=\"rowheader\">\\n                    <span class=\"a-size-base a-color-base\">Sold By</span>\\n                </th>\\n\\n  \\n                <td class=\"comparison_baseitem_column\">\\n                    \\n                        \\n                        \\n                        \\n                            <a class=\"a-spacing-top-small a-link-normal\" target=\"_self\" rel=\"noopener\" href=\"/gp/help/seller/at-a-glance.html/ref=psdc_10304191_s0_7178680776?ie=UTF8&amp;seller=A3956JYB8ZMS1F&amp;isAmazonFulfilled=1\">Best Skincare Inc.</a>\\n                        \\n                     \\n                </td>\\n\\n\\n                \\n                    <td class=\"comparison_sim_items_column comparable_item0\">\\n                         \\n                            \\n                         \\n                             <a class=\"a-spacing-top-small a-link-normal\" target=\"_self\" rel=\"noopener\" href=\"/gp/help/seller/at-a-glance.html/ref=psdc_10304191_s1_7178680776?ie=UTF8&amp;seller=ATWWOXPMRKSFC&amp;isAmazonFulfilled=1\">Sender\\'s Store</a>\\n                         \\n                         \\n                     </td>\\n                \\n                    <td class=\"comparison_sim_items_column comparable_item1\">\\n                         \\n                            \\n                         \\n                             <a class=\"a-spacing-top-small a-link-normal\" target=\"_self\" rel=\"noopener\" href=\"/gp/help/seller/at-a-glance.html/ref=psdc_10304191_s2_7178680776?ie=UTF8&amp;seller=A1M0RAJTDTZ2P1\">Beauty-Online</a>\\n                         \\n                         \\n                     </td>\\n                \\n                    <td class=\"comparison_sim_items_column comparable_item2\">\\n                         \\n                            \\n                         \\n                             <a class=\"a-spacing-top-small a-link-normal\" target=\"_self\" rel=\"noopener\" href=\"/gp/help/seller/at-a-glance.html/ref=psdc_10304191_s3_7178680776?ie=UTF8&amp;seller=A3EQXKK9ZNX68T\">Southeast  Depot</a>\\n                         \\n                         \\n                     </td>\\n                \\n             </tr>\\n\\n\\n            \\n       '\n",
            " ' class=\"a-bordered a-horizontal-stripes  a-spacing-extra-large a-size-base comparison_table\">\\n\\n\\n\\n            \\n            \\n            \\n            \\n            \\n            <tbody><tr class=\"comparison_table_image_row\">\\n                <td class=\"comparison_table_first_col\"></td>\\n\\n\\n                <th class=\"comparison_image_title_cell\" role=\"columnheader\">\\n                    <div class=\"a-row a-spacing-top-micro\">\\n                        <center>\\n                             <img alt=\"Dual Jet Bath Spa\" src=\"https://images-na.ssl-images-amazon.com/images/I/11BZZ0G5FRL._SL500_AC_SS350_.jpg\" id=\"comparison_image\" />\\n                        </center>\\n                    </div>\\n                    <div class=\"a-row a-spacing-top-small\">\\n                        <div id=\"comparison_title\" class=\"a-section a-spacing-none\">\\n                            <span aria-hidden=\"true\" class=\"a-size-base a-color-base a-text-bold\">\\n                                This item\\n                            </span>\\n                            <span aria-hidden=\"true\" class=\"a-size-base a-color-base\">Dual Jet Bath Spa</span>\\n                        </div>\\n                        \\n                        \\n                    </div>\\n                </th>\\n\\n\\n                \\n                    <th class=\"comparison_image_title_cell comparable_item0\" role=\"columnheader\">\\n                        <a class=\"a-link-normal\" target=\"_self\" rel=\"noopener\" href=\"/dp/B00005A44E/ref=psdc_10304191_t1_B000067EE4\">\\n                          <div class=\"a-row a-spacing-top-micro\">\\n                            <center>\\n                                <img alt=\"\" src=\"https://images-na.ssl-images-amazon.com/images/I/418NWF32K6L._SL500_AC_SS350_.jpg\" aria-hidden=\"true\" id=\"comparison_image0\" />\\n                            </center>\\n                          </div>\\n                          <div id=\"comparison_title0\" class=\"a-row a-spacing-top-small\">\\n                            <span class=\"a-size-base\">Conair MBTS3 Thermal Spa Bathmat Bubble Massager</span>\\n                          </div>\\n                        </a>\\n                        \\n                        \\n                    </th>\\n                \\n                    <th class=\"comparison_image_title_cell comparable_item1\" role=\"columnheader\">\\n                        <a class=\"a-link-normal\" target=\"_self\" rel=\"noopener\" href=\"/dp/B005NWFA5K/ref=psdc_10304191_t2_B000067EE4\">\\n                          <div class=\"a-row a-spacing-top-micro\">\\n                            <center>\\n                                <img alt=\"\" src=\"https://images-na.ssl-images-amazon.com/images/I/41-aeWDiisL._SL500_AC_SS350_.jpg\" aria-hidden=\"true\" id=\"comparison_image1\" />\\n                            </center>\\n                          </div>\\n                          <div id=\"comparison_title1\" class=\"a-row a-spacing-top-small\">\\n                            <span class=\"a-size-base\">Conair Hr10 Heated Hot Stone Rock Warmer Bath Spa Therapy</span>\\n                          </div>\\n                        </a>\\n                        \\n                        \\n                    </th>\\n                \\n                    <th class=\"comparison_image_title_cell comparable_item2\" role=\"columnheader\">\\n                        <a class=\"a-link-normal\" target=\"_self\" rel=\"noopener\" href=\"/dp/B01B0O4KJQ/ref=psdc_10304191_t3_B000067EE4\">\\n                          <div class=\"a-row a-spacing-top-micro\">\\n                            <center>\\n                                <img alt=\"\" src=\"https://images-na.ssl-images-amazon.com/images/I/41Z5uu%2BJSOL._SL500_AC_SS350_.jpg\" aria-hidden=\"true\" id=\"comparison_image2\" />\\n                            </center>\\n                          </div>\\n                          <div id=\"comparison_title2\" class=\"a-row a-spacing-top-small\">\\n                            <span class=\"a-size-base\">Bathtub Heater - \"Thermal Wrap\" Heater w/ Installation Kit - fits most bathtubs</span>\\n                          </div>\\n                        </a>\\n                        \\n                        \\n                    </th>\\n                \\n                    <th class=\"comparison_image_title_cell comparable_item3\" role=\"columnheader\">\\n                        <a class=\"a-link-normal\" target=\"_self\" rel=\"noopener\" href=\"/dp/B000063TL2/ref=psdc_10304191_t4_B000067EE4\">\\n                          <div class=\"a-row a-spacing-top-micro\">\\n                            <center>\\n                                <img alt=\"\" src=\"https://images-na.ssl-images-amazon.com/images/I/41Z9RVRR58L._SL500_AC_SS350_.jpg\" aria-hidden=\"true\" id=\"comparison_image3\" />\\n                            </center>\\n                          </div>\\n                          <div id=\"comparison_title3\" class=\"a-row a-spacing-top-small\">\\n                            <span class=\"a-size-base\">HoMedics BMAT-5 Bubble Spa Bath Mat Massager with PVC Mat and Touch Pad Control</span>\\n                          </div>\\n                        </a>\\n                        \\n                        \\n                    </th>\\n                \\n            </tr>\\n\\n\\n            <tr></tr>\\n\\n\\n            \\n            \\n            <tr>\\n                <td class=\"comparison_table_first_col\"></td>\\n\\n\\n                <td class=\"comparison_add_to_cart_button\">\\n                    \\n                        \\n                        \\n                        \\n                            <span id=\"comparison_add_to_cart_button\" class=\"a-button a-spacing-small a-button-primary\"><span class=\"a-button-inner\"><a id=\"comparison_add_to_cart_button-announce\" href=\"/gp/item-dispatch/ref=psdc_10304191_a0_B000067EE4?ie=UTF8&amp;itemCount=1&amp;nodeID=3760911&amp;offeringID.1=9RB1Gk87XRGidhPHLaoP%252BvXTDqsGI9j7hLkEhiBWpItwD7arYGfKm4Tuzu0BNqhPF2kYKwJY9MPVyR4YHjTu19qdWxdQsNpajAE55v1ZjK6%252FWwS%252ByDFwAIF2d%252BIv5eyJO2Qxec569zCGh7fp0T%252BbLw%253D%253D&amp;storeID=beauty&amp;session-id=137-9151311-2769708&amp;submit.addToCart=addToCart&amp;signInToHUC=0\" class=\"a-button-text\" role=\"button\">Add to Cart</a></span></span>\\n                        \\n                    \\n                </td>\\n\\n\\n                \\n                    <td class=\"a-text-left comparison_add_to_cart_button comparable_item0\">\\n                        \\n                            \\n                            \\n                                <span id=\"comparison_add_to_cart_button0\" class=\"a-button a-spacing-small a-button-primary\"><span class=\"a-button-inner\"><a id=\"comparison_add_to_cart_button0-announce\" href=\"/gp/item-dispatch/ref=psdc_10304191_a1_B000067EE4?ie=UTF8&amp;itemCount=1&amp;nodeID=3760901&amp;offeringID.1=9RB1Gk87XRGidhPHLaoP%252BgZHKTVyqXxOo7e82LHYM8%252FcMiI3n4NWMztMc32LwNX98%252F1RAmDCKAdBo4eFaWsEYYPekA84HfdR9nfVxNDB4UJI%252FCIuyn%252BVVPSlli%252Fnw123QO0PhjmcL%252F5%252FjUUgtKd3Fg%253D%253D&amp;storeID=hpc&amp;session-id=137-9151311-2769708&amp;submit.addToCart=addToCart&amp;signInToHUC=0\" class=\"a-button-text\" role=\"button\">Add to Cart</a></span></span>\\n                            \\n                        \\n                    </td>\\n                \\n                    <td class=\"a-text-left comparison_add_to_cart_button comparable_item1\">\\n                        \\n                            \\n                            \\n                                <span id=\"comparison_add_to_cart_button1\" class=\"a-button a-spacing-small a-button-primary\"><span class=\"a-button-inner\"><a id=\"comparison_add_to_cart_button1-announce\" href=\"/gp/item-dispatch/ref=psdc_10304191_a2_B000067EE4?ie=UTF8&amp;itemCount=1&amp;nodeID=&amp;offeringID.1=9RB1Gk87XRGidhPHLaoP%252Bu9CTZV51hGtboDe%252FHcDmPZ3jN9uPFeafb6zBtjelD%252FnQRjmumjzzdEnFGJ2p%252FKdcN%252ByuzuuGu%252BU%252BHEzPhuhvMNAhWHErjp3kCn9jQLssSuzo1caRZsH1m134HLiIjeGVA%253D%253D&amp;storeID=miscellaneous&amp;session-id=137-9151311-2769708&amp;submit.addToCart=addToCart&amp;signInToHUC=0\" class=\"a-button-text\" role=\"button\">Add to Cart</a></span></span>\\n                            \\n                        \\n                    </td>\\n                \\n                    <td class=\"a-text-left comparison_add_to_cart_button comparable_item2\">\\n                        \\n                            \\n                            \\n                                <span id=\"comparison_add_to_cart_button2\" class=\"a-button a-spacing-small a-button-primary\"><span class=\"a-button-inner\"><a id=\"comparison_add_to_cart_button2-announce\" href=\"/gp/item-dispatch/ref=psdc_10304191_a3_B000067EE4?ie=UTF8&amp;itemCount=1&amp;nodeID=&amp;offeringID.1=9RB1Gk87XRGKH6m6q3zeQR3Jz9BHnMxEo1UzktxoOnQRuJYqyythNJ0pZH3lkUMSYXK6g%252BuNx936V%252BQ7y%252F8VSGD1bbF5KCfU6aC6EcV7r15S4AuYEityH0o9FTgmME92bIKenAriuxo%252BJ5NABfQdF27xgMQyUl%252Fk&amp;storeID=miscellaneous&amp;session-id=137-9151311-2769708&amp;submit.addToCart=addToCart&amp;signInToHUC=0\" class=\"a-button-text\" role=\"button\">Add to Cart</a></span></span>\\n                            \\n                        \\n                    </td>\\n                \\n                    <td class=\"a-text-left comparison_add_to_cart_button comparable_item3\">\\n                        \\n                            \\n                            \\n                                <span id=\"comparison_add_to_cart_button3\" class=\"a-button a-spacing-small a-button-primary\"><span class=\"a-button-inner\"><a id=\"comparison_add_to_cart_button3-announce\" href=\"/gp/item-dispatch/ref=psdc_10304191_a4_B000067EE4?ie=UTF8&amp;itemCount=1&amp;nodeID=3760901&amp;offeringID.1=9RB1Gk87XRGidhPHLaoP%252BvhfCBaTmVRCfQwxfjU8ZlZpR2NgdW3AVf9khtMNDM9HLu%252FonNJPA8DNfsqxd1GrqrRZjnUig2IZwKiG1ivzBrVCTzJgPtR7iAUFkpMqU%252BVH8EF1Wr0EOfgJ1lP9FZb1oQ%253D%253D&amp;storeID=hpc&amp;session-id=137-9151311-2769708&amp;submit.addToCart=addToCart&amp;signInToHUC=0\" class=\"a-button-text\" role=\"button\">Add to Cart</a></span></span>\\n                            \\n                        \\n                    </td>\\n                \\n            </tr>\\n\\n\\n            <tr id=\"comparison_custormer_rating_row\">\\n                \\n                \\n                \\n                \\n\\n                <th class=\"comparison_attribute_name_column comparison_table_first_col\" role=\"rowheader\">\\n                    <span class=\"a-size-base a-color-base\">Customer Rating</span>\\n                </th>\\n\\n\\n                <td class=\"comparison_baseitem_column\">\\n                    \\n                    \\n                    \\n                    <span>\\n                        <span class=\"a-declarative\" data-action=\"a-popover\" data-a-popover=\"{&quot;max-width&quot;:&quot;700&quot;,&quot;closeButton&quot;:&quot;false&quot;,&quot;position&quot;:&quot;triggerBottom&quot;,&quot;url&quot;:&quot; /gp/customer-reviews/widgets/average-customer-review/popover/ref=acr_dpComparsion__popover?contextId=dpComparsion&amp;asin=B000067EE4 &quot;,&quot;restoreFocusOnHide&quot;:&quot;false&quot;}\">\\n                            <i class=\"a-icon a-icon-star a-star-2-5 a-spacing-none\"><span class=\"a-icon-alt\">2 out of 5 stars</span></i>\\n                        </span>\\n                        <a class=\"a-link-normal\" target=\"_self\" rel=\"noopener\" href=\"/product-reviews/B000067EE4/ref=psdc_10304191_r0_B000067EE4?_encoding=UTF8&amp;showViewpoints=1\">(8)</a>\\n                        <span class=\"a-letter-space\"></span>\\n                    </span>\\n                </td>\\n\\n\\n                \\n                    <td class=\"comparison_sim_items_column comparable_item0\">\\n                        \\n                        \\n                        \\n                        <span>\\n                            <span class=\"a-declarative\" data-action=\"a-popover\" data-a-popover=\"{&quot;max-width&quot;:&quot;700&quot;,&quot;closeButton&quot;:&quot;false&quot;,&quot;position&quot;:&quot;triggerBottom&quot;,&quot;url&quot;:&quot; /gp/customer-reviews/widgets/average-customer-review/popover/ref=acr_dpComparsion__popover?contextId=dpComparsion&amp;asin=B00005A44E &quot;,&quot;restoreFocusOnHide&quot;:&quot;false&quot;}\">\\n                                <i class=\"a-icon a-icon-star a-star-3-5 a-spacing-none\"><span class=\"a-icon-alt\">3 out of 5 stars</span></i>\\n                            </span>\\n                            <a class=\"a-link-normal\" target=\"_self\" rel=\"noopener\" href=\"/product-reviews/B00005A44E/ref=psdc_10304191_r1_B000067EE4?_encoding=UTF8&amp;showViewpoints=1\">(19)</a>\\n                            <span class=\"a-letter-space\"></span>\\n                        </span>\\n                    </td>\\n                \\n                    <td class=\"comparison_sim_items_column comparable_item1\">\\n                        \\n                        \\n                        \\n                        <span>\\n                            <span class=\"a-declarative\" data-action=\"a-popover\" data-a-popover=\"{&quot;max-width&quot;:&quot;700&quot;,&quot;closeButton&quot;:&quot;false&quot;,&quot;position&quot;:&quot;triggerBottom&quot;,&quot;url&quot;:&quot; /gp/customer-reviews/widgets/average-customer-review/popover/ref=acr_dpComparsion__popover?contextId=dpComparsion&amp;asin=B005NWFA5K &quot;,&quot;restoreFocusOnHide&quot;:&quot;false&quot;}\">\\n                                <i class=\"a-icon a-icon-star a-star-2-5 a-spacing-none\"><span class=\"a-icon-alt\">2 out of 5 stars</span></i>\\n                            </span>\\n                            <a class=\"a-link-normal\" target=\"_self\" rel=\"noopener\" href=\"/product-reviews/B005NWFA5K/ref=psdc_10304191_r2_B000067EE4?_encoding=UTF8&amp;showViewpoints=1\">(4)</a>\\n                            <span class=\"a-letter-space\"></span>\\n                        </span>\\n                    </td>\\n                \\n                    <td class=\"comparison_sim_items_column comparable_item2\">\\n                        \\n                        \\n                        \\n                        <span>\\n                            <span class=\"a-declarative\" data-action=\"a-popover\" data-a-popover=\"{&quot;max-width&quot;:&quot;700&quot;,&quot;closeButton&quot;:&quot;false&quot;,&quot;position&quot;:&quot;triggerBottom&quot;,&quot;url&quot;:&quot; /gp/customer-reviews/widgets/average-customer-review/popover/ref=acr_dpComparsion__popover?contextId=dpComparsion&amp;asin=B01B0O4KJQ &quot;,&quot;restoreFocusOnHide&quot;:&quot;false&quot;}\">\\n                                <i class=\"a-icon a-icon-star a-star-0 a-spacing-none\"><span class=\"a-icon-alt\">0 out of 5 stars</span></i>\\n                            </span>\\n                            <a class=\"a-link-normal\" target=\"_self\" rel=\"noopener\" href=\"/product-reviews/B01B0O4KJQ/ref=psdc_10304191_r3_B000067EE4?_encoding=UTF8&amp;showViewpoints=1\">(0)</a>\\n                            <span class=\"a-letter-space\"></span>\\n                        </span>\\n                    </td>\\n                \\n                    <td class=\"comparison_sim_items_column comparable_item3\">\\n                        \\n                        \\n                        \\n                        <span>\\n                            <span class=\"a-declarative\" data-action=\"a-popover\" data-a-popover=\"{&quot;max-width&quot;:&quot;700&quot;,&quot;closeButton&quot;:&quot;false&quot;,&quot;position&quot;:&quot;triggerBottom&quot;,&quot;url&quot;:&quot; /gp/customer-reviews/widgets/average-customer-review/popover/ref=acr_dpComparsion__popover?contextId=dpComparsion&amp;asin=B000063TL2 &quot;,&quot;restoreFocusOnHide&quot;:&quot;false&quot;}\">\\n                                <i class=\"a-icon a-icon-star a-star-3-5 a-spacing-none\"><span class=\"a-icon-alt\">3 out of 5 stars</span></i>\\n                            </span>\\n                            <a class=\"a-link-normal\" target=\"_self\" rel=\"noopener\" href=\"/product-reviews/B000063TL2/ref=psdc_10304191_r4_B000067EE4?_encoding=UTF8&amp;showViewpoints=1\">(6)</a>\\n                            <span class=\"a-letter-space\"></span>\\n                        </span>\\n                    </td>\\n                \\n            </tr>\\n\\n\\n            <tr id=\"comparison_price_row\">\\n                <th class=\"comparison_attribute_name_column comparison_table_first_col\" role=\"rowheader\">\\n                    <span class=\"a-size-base a-color-base\">Price</span>\\n                </th>\\n\\n\\n                <td class=\"comparison_baseitem_column\">\\n                    \\n                        \\n                        \\n                        \\n                        \\n                            \\n                                \\n                                    <span class=\"a-price\" data-a-size=\"l\" data-a-color=\"base\"><span class=\"a-offscreen\">$144.18</span><span aria-hidden=\"true\"><span class=\"a-price-symbol\">$</span><span class=\"a-price-whole\">144<span class=\"a-price-decimal\"></span></span><span class=\"a-price-fraction\">18</span></span></span>\\n                                \\n                                \\n                            \\n                        \\n                    \\n                </td>\\n\\n\\n                \\n                    <td class=\"comparison_sim_items_column comparable_item0\">\\n                    \\n                        \\n                        \\n                        \\n                            \\n                                \\n                                    <span class=\"a-price\" data-a-size=\"l\" data-a-color=\"base\"><span class=\"a-offscreen\">$234.18</span><span aria-hidden=\"true\"><span class=\"a-price-symbol\">$</span><span class=\"a-price-whole\">234<span class=\"a-price-decimal\"></span></span><span class=\"a-price-fraction\">18</span></span></span>\\n                                \\n                                \\n                            \\n                        \\n                    \\n                    </td>\\n                \\n                    <td class=\"comparison_sim_items_column comparable_item1\">\\n                    \\n                        \\n                        \\n                        \\n                            \\n                                \\n                                    <span class=\"a-price\" data-a-size=\"l\" data-a-color=\"base\"><span class=\"a-offscreen\">$174.18</span><span aria-hidden=\"true\"><span class=\"a-price-symbol\">$</span><span class=\"a-price-whole\">174<span class=\"a-price-decimal\"></span></span><span class=\"a-price-fraction\">18</span></span></span>\\n                                \\n                                \\n                            \\n                        \\n                    \\n                    </td>\\n                \\n                    <td class=\"comparison_sim_items_column comparable_item2\">\\n                    \\n                        \\n                        \\n                        \\n                            \\n                                \\n                                    <span class=\"a-price\" data-a-size=\"l\" data-a-color=\"base\"><span class=\"a-offscreen\">$141.00</span><span aria-hidden=\"true\"><span class=\"a-price-symbol\">$</span><span class=\"a-price-whole\">141<span class=\"a-price-decimal\"></span></span><span class=\"a-price-fraction\">00</span></span></span>\\n                                \\n                                \\n                            \\n                        \\n                    \\n                    </td>\\n                \\n                    <td class=\"comparison_sim_items_column comparable_item3\">\\n                    \\n                        \\n                        \\n                        \\n                            \\n                                \\n                                    <span class=\"a-price\" data-a-size=\"l\" data-a-color=\"base\"><span class=\"a-offscreen\">$104.18</span><span aria-hidden=\"true\"><span class=\"a-price-symbol\">$</span><span class=\"a-price-whole\">104<span class=\"a-price-decimal\"></span></span><span class=\"a-price-fraction\">18</span></span></span>\\n                                \\n                                \\n                            \\n                        \\n                    \\n                    </td>\\n                \\n            </tr>\\n\\n\\n    \\n                <tr id=\"comparison_shipping_info_row\">\\n                    <th class=\"comparison_attribute_name_column comparison_table_first_col\" role=\"rowheader\">\\n                        <span class=\"a-size-base a-color-base\">Shipping</span>\\n                    </th>\\n\\n    \\n                    <td class=\"comparison_baseitem_column\">\\n                        \\n                            \\n                            \\n                            \\n                            \\n                            \\n                            \\n                                <span class=\"a-size-base a-color-price a-text-bold\">$18.15</span>\\n                            \\n                            \\n                        \\n                    </td>\\n\\n    \\n                    \\n                        <td class=\"comparison_sim_items_column comparable_item0\">\\n                            \\n                                \\n                                \\n                                \\n                                \\n                                \\n                                    <span class=\"a-size-base a-color-price a-text-bold\">$32.25</span>\\n                                \\n                                \\n                            \\n                        </td>\\n                    \\n                        <td class=\"comparison_sim_items_column comparable_item1\">\\n                            \\n                                \\n                                \\n                                \\n                                \\n                                \\n                                    <span class=\"a-size-base a-color-price a-text-bold\">$20.15</span>\\n                                \\n                                \\n                            \\n                        </td>\\n                    \\n                        <td class=\"comparison_sim_items_column comparable_item2\">\\n                            \\n                                \\n                                \\n                                    <span class=\"a-size-base a-color-base\">Eligible for FREE Shipping</span>\\n                                \\n                                \\n                                \\n                                \\n                                \\n                            \\n                        </td>\\n                    \\n                        <td class=\"comparison_sim_items_column comparable_item3\">\\n                            \\n                                \\n                                \\n                                \\n                                \\n                                \\n                                    <span class=\"a-size-base a-color-price a-text-bold\">$23.65</span>\\n                                \\n                                \\n                            \\n                        </td>\\n                    \\n                </tr>\\n\\n\\n\\n            <tr id=\"comparison_sold_by_row\">\\n                <th class=\"comparison_attribute_name_column comparison_table_first_col\" role=\"rowheader\">\\n                    <span class=\"a-size-base a-color-base\">Sold By</span>\\n                </th>\\n\\n  \\n                <td class=\"comparison_baseitem_column\">\\n                    \\n                        \\n                        \\n                        \\n                            <a class=\"a-spacing-top-small a-link-normal\" target=\"_self\" rel=\"noopener\" href=\"/gp/help/seller/at-a-glance.html/ref=psdc_10304191_s0_B000067EE4?ie=UTF8&amp;seller=A2M0FUT1UHQA4D\">hotdealshop</a>\\n                        \\n                     \\n                </td>\\n\\n\\n                \\n                    <td class=\"comparison_sim_items_column comparable_item0\">\\n                         \\n                            \\n                         \\n                             <a class=\"a-spacing-top-small a-link-normal\" target=\"_self\" rel=\"noopener\" href=\"/gp/help/seller/at-a-glance.html/ref=psdc_10304191_s1_B000067EE4?ie=UTF8&amp;seller=A2M0FUT1UHQA4D\">hotdealshop</a>\\n                         \\n                         \\n                     </td>\\n                \\n                    <td class=\"comparison_sim_items_column comparable_item1\">\\n                         \\n                            \\n                         \\n                             <a class=\"a-spacing-top-small a-link-normal\" target=\"_self\" rel=\"noopener\" href=\"/gp/help/seller/at-a-glance.html/ref=psdc_10304191_s2_B000067EE4?ie=UTF8&amp;seller=A2M0FUT1UHQA4D\">hotdealshop</a>\\n                         \\n                         \\n                     </td>\\n                \\n                    <td class=\"comparison_sim_items_column comparable_item2\">\\n                         \\n                            \\n                         \\n                             <a class=\"a-spacing-top-small a-link-normal\" target=\"_self\" rel=\"noopener\" href=\"/gp/help/seller/at-a-glance.html/ref=psdc_10304191_s3_B000067EE4?ie=UTF8&amp;seller=A21ENAV0C10FG6\">TroDen</a>\\n                         \\n                         \\n                     </td>\\n                \\n                    <td class=\"comparison_sim_items_column comparable_item3\">\\n                         \\n                            \\n                         \\n                             <a class=\"a-spacing-top-small a-link-normal\" target=\"_self\" rel=\"noopener\" href=\"/gp/help/seller/at-a-glance.html/ref=psdc_10304191_s4_B000067EE4?ie=UTF8&amp;seller=A2M0FUT1UHQA4D\">hotdealshop</a>\\n                         \\n                         \\n                     </td>\\n                \\n             </tr>\\n\\n\\n            \\n       </tbody>'\n",
            " ...\n",
            " ' class=\"a-bordered a-horizontal-stripes  a-spacing-extra-large a-size-base comparison_table\">\\n\\n\\n\\n            \\n            \\n            \\n            \\n            \\n            <tr class=\"comparison_table_image_row\">\\n                <td class=\"comparison_table_first_col\"></td>\\n\\n\\n                <th class=\"comparison_image_title_cell\" role=\"columnheader\">\\n                    <div class=\"a-row a-spacing-top-micro\">\\n                        <center>\\n                             <img alt=\"Phytomer Hydra Original Thirst-Relief Melting Cream - 1.6oz\" src=\"https://images-na.ssl-images-amazon.com/images/I/41CQgwpv2DL._SL500_AC_SS350_.jpg\" id=\"comparison_image\">\\n                        </center>\\n                    </div>\\n                    <div class=\"a-row a-spacing-top-small\">\\n                        <div id=\"comparison_title\" class=\"a-section a-spacing-none\">\\n                            <span aria-hidden=\"true\" class=\"a-size-base a-color-base a-text-bold\">\\n                                This item\\n                            </span>\\n                            <span aria-hidden=\"true\" class=\"a-size-base a-color-base\">Phytomer Hydra Original Thirst-Relief Melting Cream - 1.6oz</span>\\n                        </div>\\n                        \\n                        \\n                    </div>\\n                </th>\\n\\n\\n                \\n                    <th class=\"comparison_image_title_cell comparable_item0\" role=\"columnheader\">\\n                        <a class=\"a-link-normal\" target=\"_self\" rel=\"noopener\" href=\"/dp/B00PKQVGTI/ref=psdc_16479981011_t1_B01HHAWG20\">\\n                          <div class=\"a-row a-spacing-top-micro\">\\n                            <center>\\n                                <img alt=\"\" src=\"https://images-na.ssl-images-amazon.com/images/I/41aSQnDd8CL._SL500_AC_SS350_.jpg\" aria-hidden=\"true\" id=\"comparison_image0\">\\n                            </center>\\n                          </div>\\n                          <div id=\"comparison_title0\" class=\"a-row a-spacing-top-small\">\\n                            <span class=\"a-size-base\">Phytomer Velvety Soothing Cream - Douceur Marine - 50ml/1.6oz</span>\\n                          </div>\\n                        </a>\\n                        \\n                        \\n                    </th>\\n                \\n                    <th class=\"comparison_image_title_cell comparable_item1\" role=\"columnheader\">\\n                        <a class=\"a-link-normal\" target=\"_self\" rel=\"noopener\" href=\"/dp/B078RKVQPG/ref=psdc_16479981011_t2_B01HHAWG20\">\\n                          <div class=\"a-row a-spacing-top-micro\">\\n                            <center>\\n                                <img alt=\"\" src=\"https://images-na.ssl-images-amazon.com/images/I/41IKpKVXgRL._SL500_AC_SS350_.jpg\" aria-hidden=\"true\" id=\"comparison_image1\">\\n                            </center>\\n                          </div>\\n                          <div id=\"comparison_title1\" class=\"a-row a-spacing-top-small\">\\n                            <span class=\"a-size-base\">Phytomer Oligoforce Moisturizing Enforcement Serum with Oligomer 50ml/1.6oz (Salon Size)</span>\\n                          </div>\\n                        </a>\\n                        \\n                        \\n                    </th>\\n                \\n                    <th class=\"comparison_image_title_cell comparable_item2\" role=\"columnheader\">\\n                        <a class=\"a-link-normal\" target=\"_self\" rel=\"noopener\" href=\"/dp/B07883ZN1B/ref=psdc_16479981011_t3_B01HHAWG20\">\\n                          <div class=\"a-row a-spacing-top-micro\">\\n                            <center>\\n                                <img alt=\"\" src=\"https://images-na.ssl-images-amazon.com/images/I/41Oe9xUD5pL._SL500_AC_SS350_.jpg\" aria-hidden=\"true\" id=\"comparison_image2\">\\n                            </center>\\n                          </div>\\n                          <div id=\"comparison_title2\" class=\"a-row a-spacing-top-small\">\\n                            <span class=\"a-size-base\">Phytomer Oligoforce Soothing Enforcement Serum with Oligomer 50ml/1.6oz (Salon Size)</span>\\n                          </div>\\n                        </a>\\n                        \\n                        \\n                    </th>\\n                \\n                    <th class=\"comparison_image_title_cell comparable_item3\" role=\"columnheader\">\\n                        <a class=\"a-link-normal\" target=\"_self\" rel=\"noopener\" href=\"/dp/B005678LY4/ref=psdc_16479981011_t4_B01HHAWG20\">\\n                          <div class=\"a-row a-spacing-top-micro\">\\n                            <center>\\n                                <img alt=\"\" src=\"https://images-na.ssl-images-amazon.com/images/I/41vtW27-ZhL._SL500_AC_SS350_.jpg\" aria-hidden=\"true\" id=\"comparison_image3\">\\n                            </center>\\n                          </div>\\n                          <div id=\"comparison_title3\" class=\"a-row a-spacing-top-small\">\\n                            <span class=\"a-size-base\">Phytomer Oligopur - Hydra-Matifying Control Cream - 1.6 fl oz</span>\\n                          </div>\\n                        </a>\\n                        \\n                        \\n                    </th>\\n                \\n                    <th class=\"comparison_image_title_cell comparable_item4\" role=\"columnheader\">\\n                        <a class=\"a-link-normal\" target=\"_self\" rel=\"noopener\" href=\"/dp/B078RPGNHF/ref=psdc_16479981011_t5_B01HHAWG20\">\\n                          <div class=\"a-row a-spacing-top-micro\">\\n                            <center>\\n                                <img alt=\"\" src=\"https://images-na.ssl-images-amazon.com/images/I/41EjOcwMhOL._SL500_AC_SS350_.jpg\" aria-hidden=\"true\" id=\"comparison_image4\">\\n                            </center>\\n                          </div>\\n                          <div id=\"comparison_title4\" class=\"a-row a-spacing-top-small\">\\n                            <span class=\"a-size-base\">Phytomer Hydracontinue Radiance Energizing Cream 100ml/3.3oz (Salon Size)</span>\\n                          </div>\\n                        </a>\\n                        \\n                        \\n                    </th>\\n                \\n            </tr>\\n\\n\\n            <tr></tr>\\n\\n\\n            \\n            \\n            <tr>\\n                <td class=\"comparison_table_first_col\"></td>\\n\\n\\n                <td class=\"comparison_add_to_cart_button\">\\n                    \\n                        \\n                        \\n                        \\n                            <span id=\"comparison_add_to_cart_button\" class=\"a-button a-spacing-small a-button-primary\"><span class=\"a-button-inner\"><a id=\"comparison_add_to_cart_button-announce\" href=\"/gp/item-dispatch/ref=psdc_16479981011_a0_B01HHAWG20?ie=UTF8&amp;itemCount=1&amp;nodeID=3760911&amp;offeringID.1=%252B4RdYOMPYolquqgHW2nwmuWSbxZT6FfiAkDHaVay6%252B5jqQ%252FH9v7VJN%252FFWaJxclVpljEkbtzfNb9uaiHamqHdtlXA8u6YOyzdipBOkKj%252F0lNO2Zj9eVas2h9PS2foXXf%252BdATVZsu8JmObP9rDxlUZfYEyyQFX6nJN&amp;storeID=beauty&amp;session-id=144-6296541-9587901&amp;submit.addToCart=addToCart&amp;signInToHUC=0\" class=\"a-button-text\" role=\"button\">Add to Cart</a></span></span>\\n                        \\n                    \\n                </td>\\n\\n\\n                \\n                    <td class=\"a-text-left comparison_add_to_cart_button comparable_item0\">\\n                        \\n                            \\n                            \\n                                <span id=\"comparison_add_to_cart_button0\" class=\"a-button a-spacing-small a-button-primary\"><span class=\"a-button-inner\"><a id=\"comparison_add_to_cart_button0-announce\" href=\"/gp/item-dispatch/ref=psdc_16479981011_a1_B01HHAWG20?ie=UTF8&amp;itemCount=1&amp;nodeID=3760911&amp;offeringID.1=%252B4RdYOMPYomsr8hFAA21pNWEjO11kRymhuDKcF2I5LlwRClibo%252F9bMa7jeTGcB5MOmceKOHGXkdudgq9azWQT6kqiDpqmCcpm6lFUkrQTR0ZnvP9ws04G6%252FPVbd7Pqz6VSzMCudF72bO2R%252BEbsn1QsueYvGM%252F12h&amp;storeID=beauty&amp;session-id=144-6296541-9587901&amp;submit.addToCart=addToCart&amp;signInToHUC=0\" class=\"a-button-text\" role=\"button\">Add to Cart</a></span></span>\\n                            \\n                        \\n                    </td>\\n                \\n                    <td class=\"a-text-left comparison_add_to_cart_button comparable_item1\">\\n                        \\n                            \\n                            \\n                                <span id=\"comparison_add_to_cart_button1\" class=\"a-button a-spacing-small a-button-primary\"><span class=\"a-button-inner\"><a id=\"comparison_add_to_cart_button1-announce\" href=\"/gp/item-dispatch/ref=psdc_16479981011_a2_B01HHAWG20?ie=UTF8&amp;itemCount=1&amp;nodeID=3760911&amp;offeringID.1=%252B4RdYOMPYon31anpMgl9yWbxxslxGA2qgfRBGxQlA45MPDuiQbVYcHXAhMDloaHVplAwVGymr5xAfBui%252BB7B5qs4hM8hrzmVeRPowfliIsjyZQv%252FNztpAjEUtgAxmolY%252FUlZBL8TdLhi%252BBTsLpn4%252Fk%252FhbjHf2XKf&amp;storeID=beauty&amp;session-id=144-6296541-9587901&amp;submit.addToCart=addToCart&amp;signInToHUC=0\" class=\"a-button-text\" role=\"button\">Add to Cart</a></span></span>\\n                            \\n                        \\n                    </td>\\n                \\n                    <td class=\"a-text-left comparison_add_to_cart_button comparable_item2\">\\n                        \\n                            \\n                            \\n                                <span id=\"comparison_add_to_cart_button2\" class=\"a-button a-spacing-small a-button-primary\"><span class=\"a-button-inner\"><a id=\"comparison_add_to_cart_button2-announce\" href=\"/gp/item-dispatch/ref=psdc_16479981011_a3_B01HHAWG20?ie=UTF8&amp;itemCount=1&amp;nodeID=3760911&amp;offeringID.1=%252B4RdYOMPYon31anpMgl9yW7Ej8QmwgDizmLglpzzOofLGywwJVmmQBrxVOhclem%252Bz5srmKGhTk3NSNHATVSNsBUDkQ4ba2r%252BlQck7oH73FTqQgzxKlJICbm6c85545xSeuZwptYVKJhiEfXtOxlFQPF3jrQExNGm&amp;storeID=beauty&amp;session-id=144-6296541-9587901&amp;submit.addToCart=addToCart&amp;signInToHUC=0\" class=\"a-button-text\" role=\"button\">Add to Cart</a></span></span>\\n                            \\n                        \\n                    </td>\\n                \\n                    <td class=\"a-text-left comparison_add_to_cart_button comparable_item3\">\\n                        \\n                            \\n                            \\n                                <span id=\"comparison_add_to_cart_button3\" class=\"a-button a-spacing-small a-button-primary\"><span class=\"a-button-inner\"><a id=\"comparison_add_to_cart_button3-announce\" href=\"/gp/item-dispatch/ref=psdc_16479981011_a4_B01HHAWG20?ie=UTF8&amp;itemCount=1&amp;nodeID=3760901&amp;offeringID.1=%252B4RdYOMPYomsr8hFAA21pA0BGKvY0brJLE361XQ8hfuxDi54nvIaYgyTYBW4E0f%252BgNFh63XdDQ60Qs%252FIFNj9hAFldUJ429EdZKDNZFWWE6QSPc4VF0CC921e6N3rhIT%252By8JAgzleatTVofTSba81DTLyPY%252FqtKLi&amp;storeID=hpc&amp;session-id=144-6296541-9587901&amp;submit.addToCart=addToCart&amp;signInToHUC=0\" class=\"a-button-text\" role=\"button\">Add to Cart</a></span></span>\\n                            \\n                        \\n                    </td>\\n                \\n                    <td class=\"a-text-left comparison_add_to_cart_button comparable_item4\">\\n                        \\n                            \\n                            \\n                                <span id=\"comparison_add_to_cart_button4\" class=\"a-button a-spacing-small a-button-primary\"><span class=\"a-button-inner\"><a id=\"comparison_add_to_cart_button4-announce\" href=\"/gp/item-dispatch/ref=psdc_16479981011_a5_B01HHAWG20?ie=UTF8&amp;itemCount=1&amp;nodeID=3760911&amp;offeringID.1=%252B4RdYOMPYon31anpMgl9yR%252FXZxfeJk6wCvh9hCKGgPNprTsPZe33hjEw5ix8HpiJPEiyrDpUQxfd%252FXzCwheaSJeFCoF%252B3MEyRBjUHmMY8aZtmOH3VkkOK6yZGjLBWJ1zD3jHb6LboltziVAOE4bBdA%253D%253D&amp;storeID=beauty&amp;session-id=144-6296541-9587901&amp;submit.addToCart=addToCart&amp;signInToHUC=0\" class=\"a-button-text\" role=\"button\">Add to Cart</a></span></span>\\n                            \\n                        \\n                    </td>\\n                \\n            </tr>\\n\\n\\n            <tr id=\"comparison_custormer_rating_row\">\\n                \\n                \\n                \\n                \\n\\n                <th class=\"comparison_attribute_name_column comparison_table_first_col\" role=\"rowheader\">\\n                    <span class=\"a-size-base a-color-base\">Customer Rating</span>\\n                </th>\\n\\n\\n                <td class=\"comparison_baseitem_column\">\\n                    \\n                    \\n                    \\n                    <span>\\n                        <span class=\"a-declarative\" data-action=\"a-popover\" data-a-popover=\"{&quot;max-width&quot;:&quot;700&quot;,&quot;closeButton&quot;:&quot;false&quot;,&quot;position&quot;:&quot;triggerBottom&quot;,&quot;url&quot;:&quot; /gp/customer-reviews/widgets/average-customer-review/popover/ref=acr_dpComparsion__popover?contextId=dpComparsion&amp;asin=B01HHAWG20 &quot;,&quot;restoreFocusOnHide&quot;:&quot;false&quot;}\">\\n                            <i class=\"a-icon a-icon-star a-star-4-5 a-spacing-none\"><span class=\"a-icon-alt\">4 out of 5 stars</span></i>\\n                        </span>\\n                        <a class=\"a-link-normal\" target=\"_self\" rel=\"noopener\" href=\"/product-reviews/B01HHAWG20/ref=psdc_16479981011_r0_B01HHAWG20?_encoding=UTF8&amp;showViewpoints=1\">(4)</a>\\n                        <span class=\"a-letter-space\"></span>\\n                    </span>\\n                </td>\\n\\n\\n                \\n                    <td class=\"comparison_sim_items_column comparable_item0\">\\n                        \\n                        \\n                        \\n                        <span>\\n                            <span class=\"a-declarative\" data-action=\"a-popover\" data-a-popover=\"{&quot;max-width&quot;:&quot;700&quot;,&quot;closeButton&quot;:&quot;false&quot;,&quot;position&quot;:&quot;triggerBottom&quot;,&quot;url&quot;:&quot; /gp/customer-reviews/widgets/average-customer-review/popover/ref=acr_dpComparsion__popover?contextId=dpComparsion&amp;asin=B00PKQVGTI &quot;,&quot;restoreFocusOnHide&quot;:&quot;false&quot;}\">\\n                                <i class=\"a-icon a-icon-star a-star-5 a-spacing-none\"><span class=\"a-icon-alt\">5 out of 5 stars</span></i>\\n                            </span>\\n                            <a class=\"a-link-normal\" target=\"_self\" rel=\"noopener\" href=\"/product-reviews/B00PKQVGTI/ref=psdc_16479981011_r1_B01HHAWG20?_encoding=UTF8&amp;showViewpoints=1\">(1)</a>\\n                            <span class=\"a-letter-space\"></span>\\n                        </span>\\n                    </td>\\n                \\n                    <td class=\"comparison_sim_items_column comparable_item1\">\\n                        \\n                        \\n                        \\n                        <span>\\n                            <span class=\"a-declarative\" data-action=\"a-popover\" data-a-popover=\"{&quot;max-width&quot;:&quot;700&quot;,&quot;closeButton&quot;:&quot;false&quot;,&quot;position&quot;:&quot;triggerBottom&quot;,&quot;url&quot;:&quot; /gp/customer-reviews/widgets/average-customer-review/popover/ref=acr_dpComparsion__popover?contextId=dpComparsion&amp;asin=B078RKVQPG &quot;,&quot;restoreFocusOnHide&quot;:&quot;false&quot;}\">\\n                                <i class=\"a-icon a-icon-star a-star-0 a-spacing-none\"><span class=\"a-icon-alt\">0 out of 5 stars</span></i>\\n                            </span>\\n                            <a class=\"a-link-normal\" target=\"_self\" rel=\"noopener\" href=\"/product-reviews/B078RKVQPG/ref=psdc_16479981011_r2_B01HHAWG20?_encoding=UTF8&amp;showViewpoints=1\">(0)</a>\\n                            <span class=\"a-letter-space\"></span>\\n                        </span>\\n                    </td>\\n                \\n                    <td class=\"comparison_sim_items_column comparable_item2\">\\n                        \\n                        \\n                        \\n                        <span>\\n                            <span class=\"a-declarative\" data-action=\"a-popover\" data-a-popover=\"{&quot;max-width&quot;:&quot;700&quot;,&quot;closeButton&quot;:&quot;false&quot;,&quot;position&quot;:&quot;triggerBottom&quot;,&quot;url&quot;:&quot; /gp/customer-reviews/widgets/average-customer-review/popover/ref=acr_dpComparsion__popover?contextId=dpComparsion&amp;asin=B07883ZN1B &quot;,&quot;restoreFocusOnHide&quot;:&quot;false&quot;}\">\\n                                <i class=\"a-icon a-icon-star a-star-5 a-spacing-none\"><span class=\"a-icon-alt\">5 out of 5 stars</span></i>\\n                            </span>\\n                            <a class=\"a-link-normal\" target=\"_self\" rel=\"noopener\" href=\"/product-reviews/B07883ZN1B/ref=psdc_16479981011_r3_B01HHAWG20?_encoding=UTF8&amp;showViewpoints=1\">(1)</a>\\n                            <span class=\"a-letter-space\"></span>\\n                        </span>\\n                    </td>\\n                \\n                    <td class=\"comparison_sim_items_column comparable_item3\">\\n                        \\n                        \\n                        \\n                        <span>\\n                            <span class=\"a-declarative\" data-action=\"a-popover\" data-a-popover=\"{&quot;max-width&quot;:&quot;700&quot;,&quot;closeButton&quot;:&quot;false&quot;,&quot;position&quot;:&quot;triggerBottom&quot;,&quot;url&quot;:&quot; /gp/customer-reviews/widgets/average-customer-review/popover/ref=acr_dpComparsion__popover?contextId=dpComparsion&amp;asin=B005678LY4 &quot;,&quot;restoreFocusOnHide&quot;:&quot;false&quot;}\">\\n                                <i class=\"a-icon a-icon-star a-star-4-5 a-spacing-none\"><span class=\"a-icon-alt\">4 out of 5 stars</span></i>\\n                            </span>\\n                            <a class=\"a-link-normal\" target=\"_self\" rel=\"noopener\" href=\"/product-reviews/B005678LY4/ref=psdc_16479981011_r4_B01HHAWG20?_encoding=UTF8&amp;showViewpoints=1\">(11)</a>\\n                            <span class=\"a-letter-space\"></span>\\n                        </span>\\n                    </td>\\n                \\n                    <td class=\"comparison_sim_items_column comparable_item4\">\\n                        \\n                        \\n                        \\n                        <span>\\n                            <span class=\"a-declarative\" data-action=\"a-popover\" data-a-popover=\"{&quot;max-width&quot;:&quot;700&quot;,&quot;closeButton&quot;:&quot;false&quot;,&quot;position&quot;:&quot;triggerBottom&quot;,&quot;url&quot;:&quot; /gp/customer-reviews/widgets/average-customer-review/popover/ref=acr_dpComparsion__popover?contextId=dpComparsion&amp;asin=B078RPGNHF &quot;,&quot;restoreFocusOnHide&quot;:&quot;false&quot;}\">\\n                                <i class=\"a-icon a-icon-star a-star-0 a-spacing-none\"><span class=\"a-icon-alt\">0 out of 5 stars</span></i>\\n                            </span>\\n                            <a class=\"a-link-normal\" target=\"_self\" rel=\"noopener\" href=\"/product-reviews/B078RPGNHF/ref=psdc_16479981011_r5_B01HHAWG20?_encoding=UTF8&amp;showViewpoints=1\">(0)</a>\\n                            <span class=\"a-letter-space\"></span>\\n                        </span>\\n                    </td>\\n                \\n            </tr>\\n\\n\\n            <tr id=\"comparison_price_row\">\\n                <th class=\"comparison_attribute_name_column comparison_table_first_col\" role=\"rowheader\">\\n                    <span class=\"a-size-base a-color-base\">Price</span>\\n                </th>\\n\\n\\n                <td class=\"comparison_baseitem_column\">\\n                    \\n                        \\n                        \\n                        \\n                        \\n                            \\n                                \\n                                    <span class=\"a-price\" data-a-size=\"l\" data-a-color=\"base\"><span class=\"a-offscreen\">$65.76</span><span aria-hidden=\"true\"><span class=\"a-price-symbol\">$</span><span class=\"a-price-whole\">65<span class=\"a-price-decimal\">\\x00</span></span><span class=\"a-price-fraction\">76</span></span></span>\\n                                \\n                                \\n                            \\n                        \\n                    \\n                </td>\\n\\n\\n                \\n                    <td class=\"comparison_sim_items_column comparable_item0\">\\n                    \\n                        \\n                        \\n                        \\n                            \\n                                \\n                                    <span class=\"a-price\" data-a-size=\"l\" data-a-color=\"base\"><span class=\"a-offscreen\">$54.19</span><span aria-hidden=\"true\"><span class=\"a-price-symbol\">$</span><span class=\"a-price-whole\">54<span class=\"a-price-decimal\">\\x00</span></span><span class=\"a-price-fraction\">19</span></span></span>\\n                                \\n                                \\n                            \\n                        \\n                    \\n                    </td>\\n                \\n                    <td class=\"comparison_sim_items_column comparable_item1\">\\n                    \\n                        \\n                        \\n                        \\n                            \\n                                \\n                                    <span class=\"a-price\" data-a-size=\"l\" data-a-color=\"base\"><span class=\"a-offscreen\">$77.57</span><span aria-hidden=\"true\"><span class=\"a-price-symbol\">$</span><span class=\"a-price-whole\">77<span class=\"a-price-decimal\">\\x00</span></span><span class=\"a-price-fraction\">57</span></span></span>\\n                                \\n                                \\n                            \\n                        \\n                    \\n                    </td>\\n                \\n                    <td class=\"comparison_sim_items_column comparable_item2\">\\n                    \\n                        \\n                        \\n                        \\n                            \\n                                \\n                                    <span class=\"a-price\" data-a-size=\"l\" data-a-color=\"base\"><span class=\"a-offscreen\">$69.66</span><span aria-hidden=\"true\"><span class=\"a-price-symbol\">$</span><span class=\"a-price-whole\">69<span class=\"a-price-decimal\">\\x00</span></span><span class=\"a-price-fraction\">66</span></span></span>\\n                                \\n                                \\n                            \\n                        \\n                    \\n                    </td>\\n                \\n                    <td class=\"comparison_sim_items_column comparable_item3\">\\n                    \\n                        \\n                        \\n                        \\n                            \\n                                \\n                                    <span class=\"a-price\" data-a-size=\"l\" data-a-color=\"base\"><span class=\"a-offscreen\">$33.20</span><span aria-hidden=\"true\"><span class=\"a-price-symbol\">$</span><span class=\"a-price-whole\">33<span class=\"a-price-decimal\">\\x00</span></span><span class=\"a-price-fraction\">20</span></span></span>\\n                                \\n                                \\n                            \\n                        \\n                    \\n                    </td>\\n                \\n                    <td class=\"comparison_sim_items_column comparable_item4\">\\n                    \\n                        \\n                        \\n                        \\n                            \\n                                \\n                                    <span class=\"a-price\" data-a-size=\"l\" data-a-color=\"base\"><span class=\"a-offscreen\">$54.09</span><span aria-hidden=\"true\"><span class=\"a-price-symbol\">$</span><span class=\"a-price-whole\">54<span class=\"a-price-decimal\">\\x00</span></span><span class=\"a-price-fraction\">09</span></span></span>\\n                                \\n                                \\n                            \\n                        \\n                    \\n                    </td>\\n                \\n            </tr>\\n\\n\\n    \\n                <tr id=\"comparison_shipping_info_row\">\\n                    <th class=\"comparison_attribute_name_column comparison_table_first_col\" role=\"rowheader\">\\n                        <span class=\"a-size-base a-color-base\">Shipping</span>\\n                    </th>\\n\\n    \\n                    <td class=\"comparison_baseitem_column\">\\n                        \\n                            \\n                            \\n                            \\n                                <span class=\"a-size-base a-color-base\">Eligible for FREE Shipping</span>\\n                            \\n                            \\n                            \\n                            \\n                            \\n                        \\n                    </td>\\n\\n    \\n                    \\n                        <td class=\"comparison_sim_items_column comparable_item0\">\\n                            \\n                                \\n                                \\n                                    <span class=\"a-size-base a-color-base\">Eligible for FREE Shipping</span>\\n                                \\n                                \\n                                \\n                                \\n                                \\n                            \\n                        </td>\\n                    \\n                        <td class=\"comparison_sim_items_column comparable_item1\">\\n                            \\n                                \\n                                \\n                                    <span class=\"a-size-base a-color-base\">Eligible for FREE Shipping</span>\\n                                \\n                                \\n                                \\n                                \\n                                \\n                            \\n                        </td>\\n                    \\n                        <td class=\"comparison_sim_items_column comparable_item2\">\\n                            \\n                                \\n                                \\n                                    <span class=\"a-size-base a-color-base\">Eligible for FREE Shipping</span>\\n                                \\n                                \\n                                \\n                                \\n                                \\n                            \\n                        </td>\\n                    \\n                        <td class=\"comparison_sim_items_column comparable_item3\">\\n                            \\n                                \\n                                \\n                                    <span class=\"a-size-base a-color-base\">Eligible for FREE Shipping</span>\\n                                \\n                                \\n                                \\n                                \\n                                \\n                            \\n                        </td>\\n                    \\n                        <td class=\"comparison_sim_items_column comparable_item4\">\\n                            \\n                                \\n                                \\n                                    <span class=\"a-size-base a-color-base\">Eligible for FREE Shipping</span>\\n                                \\n                                \\n                                \\n                                \\n                                \\n                            \\n                        </td>\\n                    \\n                </tr>\\n\\n\\n\\n            <tr id=\"comparison_sold_by_row\">\\n                <th class=\"comparison_attribute_name_column comparison_table_first_col\" role=\"rowheader\">\\n                    <span class=\"a-size-base a-color-base\">Sold By</span>\\n                </th>\\n\\n  \\n                <td class=\"comparison_baseitem_column\">\\n                    \\n                        \\n                        \\n                        \\n                            <a class=\"a-spacing-top-small a-link-normal\" target=\"_self\" rel=\"noopener\" href=\"/gp/help/seller/at-a-glance.html/ref=psdc_16479981011_s0_B01HHAWG20?ie=UTF8&amp;seller=ACOWV1OFIMQQ2\">Beauty Junkie</a>\\n                        \\n                     \\n                </td>\\n\\n\\n                \\n                    <td class=\"comparison_sim_items_column comparable_item0\">\\n                         \\n                            \\n                         \\n                             <a class=\"a-spacing-top-small a-link-normal\" target=\"_self\" rel=\"noopener\" href=\"/gp/help/seller/at-a-glance.html/ref=psdc_16479981011_s1_B01HHAWG20?ie=UTF8&amp;seller=A18LANNTX286HQ\">Daily Beauty Store</a>\\n                         \\n                         \\n                     </td>\\n                \\n                    <td class=\"comparison_sim_items_column comparable_item1\">\\n                         \\n                            \\n                         \\n                             <a class=\"a-spacing-top-small a-link-normal\" target=\"_self\" rel=\"noopener\" href=\"/gp/help/seller/at-a-glance.html/ref=psdc_16479981011_s2_B01HHAWG20?ie=UTF8&amp;seller=A18LANNTX286HQ\">Daily Beauty Store</a>\\n                         \\n                         \\n                     </td>\\n                \\n                    <td class=\"comparison_sim_items_column comparable_item2\">\\n                         \\n                            \\n                         \\n                             <a class=\"a-spacing-top-small a-link-normal\" target=\"_self\" rel=\"noopener\" href=\"/gp/help/seller/at-a-glance.html/ref=psdc_16479981011_s3_B01HHAWG20?ie=UTF8&amp;seller=ACOWV1OFIMQQ2\">Beauty Junkie</a>\\n                         \\n                         \\n                     </td>\\n                \\n                    <td class=\"comparison_sim_items_column comparable_item3\">\\n                         \\n                            \\n                         \\n                             <a class=\"a-spacing-top-small a-link-normal\" target=\"_self\" rel=\"noopener\" href=\"/gp/help/seller/at-a-glance.html/ref=psdc_16479981011_s4_B01HHAWG20?ie=UTF8&amp;seller=A3MT75038F86CX&amp;isAmazonFulfilled=1\">Johnson Distributors</a>\\n                         \\n                         \\n                     </td>\\n                \\n                    <td class=\"comparison_sim_items_column comparable_item4\">\\n                         \\n                            \\n                         \\n                             <a class=\"a-spacing-top-small a-link-normal\" target=\"_self\" rel=\"noopener\" href=\"/gp/help/seller/at-a-glance.html/ref=psdc_16479981011_s5_B01HHAWG20?ie=UTF8&amp;seller=A2WG3VTYDKLQ9W\">*Bright Light*</a>\\n                         \\n                         \\n                     </td>\\n                \\n             </tr>\\n\\n\\n            \\n                <tr>\\n                    <th class=\"a-span3 comparison_attribute_name_column comparison_table_first_col\" role=\"rowheader\">\\n                        <span class=\"a-size-base a-color-base\">Batteries are Included</span>\\n                    </th>\\n                    \\n\\n                    <td class=\"comparison_baseitem_column\">\\n                     \\n                        \\n                            \\n                            \\n                                 <span class=\"a-size-base a-color-base\">No</span>\\n                            \\n                        \\n                    </td>\\n\\n\\n                    \\n                        <td class=\"comparison_sim_items_column comparable_item0\">\\n                            \\n                            \\n                            \\n                               \\n                                  \\n                                  \\n                                      <span class=\"a-size-base a-color-base\">No</span>\\n                                  \\n                               \\n                        </td>\\n                    \\n                        <td class=\"comparison_sim_items_column comparable_item1\">\\n                            \\n                            \\n                            \\n                               \\n                                  \\n                                  \\n                                      <span class=\"a-size-base a-color-base\">No</span>\\n                                  \\n                               \\n                        </td>\\n                    \\n                        <td class=\"comparison_sim_items_column comparable_item2\">\\n                            \\n                            \\n                            \\n                               \\n                                  \\n                                  \\n                                      <span class=\"a-size-base a-color-base\">No</span>\\n                                  \\n                               \\n                        </td>\\n                    \\n                        <td class=\"comparison_sim_items_column comparable_item3\">\\n                            \\n                            \\n                            \\n                               \\n                                  \\n                                  \\n                                      <span class=\"a-size-base a-color-base\">No</span>\\n                                  \\n                               \\n                        </td>\\n                    \\n                        <td class=\"comparison_sim_items_column comparable_item4\">\\n                            \\n                            \\n                            \\n                               \\n                                  \\n                                  \\n                                      <span class=\"a-size-base a-color-base\">No</span>\\n                                  \\n                               \\n                        </td>\\n                    \\n                </tr>\\n            \\n                <tr>\\n                    <th class=\"a-span3 comparison_attribute_name_column comparison_table_first_col\" role=\"rowheader\">\\n                        <span class=\"a-size-base a-color-base\">Item Weight</span>\\n                    </th>\\n                    \\n\\n                    <td class=\"comparison_baseitem_column\">\\n                     \\n                        \\n                            \\n                                 <span class=\"a-color-secondary\"></span>\\n                            \\n                            \\n                        \\n                    </td>\\n\\n\\n                    \\n                        <td class=\"comparison_sim_items_column comparable_item0\">\\n                            \\n                            \\n                            \\n                               \\n                                  \\n                                      <span class=\"a-color-secondary\"></span>\\n                                  \\n                                  \\n                               \\n                        </td>\\n                    \\n                        <td class=\"comparison_sim_items_column comparable_item1\">\\n                            \\n                            \\n                            \\n                               \\n                                  \\n                                  \\n                                      <span class=\"a-size-base a-color-base\">6 ounces</span>\\n                                  \\n                               \\n                        </td>\\n                    \\n                        <td class=\"comparison_sim_items_column comparable_item2\">\\n                            \\n                            \\n                            \\n                               \\n                                  \\n                                  \\n                                      <span class=\"a-size-base a-color-base\">6 ounces</span>\\n                                  \\n                               \\n                        </td>\\n                    \\n                        <td class=\"comparison_sim_items_column comparable_item3\">\\n                            \\n                            \\n                            \\n                               \\n                                  \\n                                  \\n                                      <span class=\"a-size-base a-color-base\">1.6 ounces</span>\\n                                  \\n                               \\n                        </td>\\n                    \\n                        <td class=\"comparison_sim_items_column comparable_item4\">\\n                            \\n                            \\n                            \\n                               \\n                                  \\n                                  \\n                                      <span class=\"a-size-base a-color-base\">4.23 ounces</span>\\n                                  \\n                               \\n                        </td>\\n                    \\n                </tr>\\n            \\n                <tr>\\n                    <th class=\"a-span3 comparison_attribute_name_column comparison_table_first_col\" role=\"rowheader\">\\n                        <span class=\"a-size-base a-color-base\">Skin Type</span>\\n                    </th>\\n                    \\n\\n                    <td class=\"comparison_baseitem_column\">\\n                     \\n                        \\n                            \\n                                 <span class=\"a-color-secondary\"></span>\\n                            \\n                            \\n                        \\n                    </td>\\n\\n\\n                    \\n                        <td class=\"comparison_sim_items_column comparable_item0\">\\n                            \\n                            \\n                            \\n                               \\n                                  \\n                                  \\n                                      <span class=\"a-size-base a-color-base\">Sensitive</span>\\n                                  \\n                               \\n                        </td>\\n                    \\n                        <td class=\"comparison_sim_items_column comparable_item1\">\\n                            \\n                            \\n                            \\n                               \\n                                  \\n                                      <span class=\"a-color-secondary\"></span>\\n                                  \\n                                  \\n                               \\n                        </td>\\n                    \\n                        <td class=\"comparison_sim_items_column comparable_item2\">\\n                            \\n                            \\n                            \\n                               \\n                                  \\n                                      <span class=\"a-color-secondary\"></span>\\n                                  \\n                                  \\n                               \\n                        </td>\\n                    \\n                        <td class=\"comparison_sim_items_column comparable_item3\">\\n                            \\n                            \\n                            \\n                               \\n                                  \\n                                      <span class=\"a-color-secondary\"></span>\\n                                  \\n                                  \\n                               \\n                        </td>\\n                    \\n                        <td class=\"comparison_sim_items_column comparable_item4\">\\n                            \\n                            \\n                            \\n                               \\n                                  \\n                                      <span class=\"a-color-secondary\"></span>\\n                                  \\n                                  \\n                               \\n                        </td>\\n                    \\n                </tr>\\n            \\n       '\n",
            " ' class=\"a-bordered a-horizontal-stripes  a-spacing-extra-large a-size-base comparison_table\">\\n\\n\\n\\n            \\n            \\n            \\n            \\n            \\n            <tr class=\"comparison_table_image_row\">\\n                <td class=\"comparison_table_first_col\"></td>\\n\\n\\n                <th class=\"comparison_image_title_cell\" role=\"columnheader\">\\n                    <div class=\"a-row a-spacing-top-micro\">\\n                        <center>\\n                             <img alt=\"JahyShow Replacement Shaver Head For Philips Norelco RQ11 RQ12 Sensotouch 3D 1260 1280 1290 RQ1180 1160 1150 Arcitec Razor Shaving Unit Triple 3D\" src=\"https://images-na.ssl-images-amazon.com/images/I/51L8hPam5zL._SL500_AC_SS350_.jpg\" id=\"comparison_image\">\\n                        </center>\\n                    </div>\\n                    <div class=\"a-row a-spacing-top-small\">\\n                        <div id=\"comparison_title\" class=\"a-section a-spacing-none\">\\n                            <span aria-hidden=\"true\" class=\"a-size-base a-color-base a-text-bold\">\\n                                This item\\n                            </span>\\n                            <span aria-hidden=\"true\" class=\"a-size-base a-color-base\">JahyShow Replacement Shaver Head For Philips Norelco RQ11 RQ12 Sensotouch 3D 1260 1280 1290 RQ1180 1160 1150 Arcitec Razor Shaving Unit Triple 3D</span>\\n                        </div>\\n                        \\n                        \\n                    </div>\\n                </th>\\n\\n\\n                \\n                    <th class=\"comparison_image_title_cell comparable_item0\" role=\"columnheader\">\\n                        <a class=\"a-link-normal\" target=\"_self\" rel=\"noopener\" href=\"/dp/B0719PTM9Y/ref=psdc_10304191_t1_B01HHJQN8E\">\\n                          <div class=\"a-row a-spacing-top-micro\">\\n                            <center>\\n                                <img alt=\"\" src=\"https://images-na.ssl-images-amazon.com/images/I/41oh5%2BvsKPL._SL500_AC_SS350_.jpg\" aria-hidden=\"true\" id=\"comparison_image0\">\\n                            </center>\\n                          </div>\\n                          <div id=\"comparison_title0\" class=\"a-row a-spacing-top-small\">\\n                            <span class=\"a-size-base\">Replacement Head For Philips Norelco RQ11 Arcitec Razor Shaving Unit Triple Track SensoTouch 2D RQ1180 1160X 1150X</span>\\n                          </div>\\n                        </a>\\n                        \\n                        \\n                    </th>\\n                \\n                    <th class=\"comparison_image_title_cell comparable_item1\" role=\"columnheader\">\\n                        <a class=\"a-link-normal\" target=\"_self\" rel=\"noopener\" href=\"/dp/B01JZ5G9RS/ref=psdc_10304191_t2_B01HHJQN8E\">\\n                          <div class=\"a-row a-spacing-top-micro\">\\n                            <center>\\n                                <img alt=\"\" src=\"https://images-na.ssl-images-amazon.com/images/I/41E1WS1hzSL._SL500_AC_SS350_.jpg\" aria-hidden=\"true\" id=\"comparison_image1\">\\n                            </center>\\n                          </div>\\n                          <div id=\"comparison_title1\" class=\"a-row a-spacing-top-small\">\\n                            <span class=\"a-size-base\">New Shaver Head For PHILIPS NORELCO RQ12 Sensotouch 3D RQ12 Series Shavers</span>\\n                          </div>\\n                        </a>\\n                        \\n                        \\n                    </th>\\n                \\n                    <th class=\"comparison_image_title_cell comparable_item2\" role=\"columnheader\">\\n                        <a class=\"a-link-normal\" target=\"_self\" rel=\"noopener\" href=\"/dp/B072C2QC9L/ref=psdc_10304191_t3_B01HHJQN8E\">\\n                          <div class=\"a-row a-spacing-top-micro\">\\n                            <center>\\n                                <img alt=\"\" src=\"https://images-na.ssl-images-amazon.com/images/I/51oyraMV7vL._SL500_AC_SS350_.jpg\" aria-hidden=\"true\" id=\"comparison_image2\">\\n                            </center>\\n                          </div>\\n                          <div id=\"comparison_title2\" class=\"a-row a-spacing-top-small\">\\n                            <span class=\"a-size-base\">Replacement Shaving Head For Philips Norelco RQ12+ Arcitec Razor Unit Triple Track for Series 8000 (SensoTouch 3D) 1250X 1260X 1280X 1290X La Divine</span>\\n                          </div>\\n                        </a>\\n                        \\n                        \\n                    </th>\\n                \\n                    <th class=\"comparison_image_title_cell comparable_item3\" role=\"columnheader\">\\n                        <a class=\"a-link-normal\" target=\"_self\" rel=\"noopener\" href=\"/dp/B07BD1859Y/ref=psdc_10304191_t4_B01HHJQN8E\">\\n                          <div class=\"a-row a-spacing-top-micro\">\\n                            <center>\\n                                <img alt=\"\" src=\"https://images-na.ssl-images-amazon.com/images/I/41YuANXIioL._SL500_AC_SS350_.jpg\" aria-hidden=\"true\" id=\"comparison_image3\">\\n                            </center>\\n                          </div>\\n                          <div id=\"comparison_title3\" class=\"a-row a-spacing-top-small\">\\n                            <span class=\"a-size-base\">Full Set of Replacement Shaving Head fit Philips Norelco RQ10 Arcitec Razors RQ1050 RQ1060 RQ1080 RQ1095 RQ1075</span>\\n                          </div>\\n                        </a>\\n                        \\n                        \\n                    </th>\\n                \\n                    <th class=\"comparison_image_title_cell comparable_item4\" role=\"columnheader\">\\n                        <a class=\"a-link-normal\" target=\"_self\" rel=\"noopener\" href=\"/dp/B07JY7L8HR/ref=psdc_10304191_t5_B01HHJQN8E\">\\n                          <div class=\"a-row a-spacing-top-micro\">\\n                            <center>\\n                                <img alt=\"\" src=\"https://images-na.ssl-images-amazon.com/images/I/41cV12GejpL._SL500_AC_SS350_.jpg\" aria-hidden=\"true\" id=\"comparison_image4\">\\n                            </center>\\n                          </div>\\n                          <div id=\"comparison_title4\" class=\"a-row a-spacing-top-small\">\\n                            <span class=\"a-size-base\">Replacment Shaving Head for Philips Norelco RQ12 Arcitec Razer Shaving Until Triple Track SensoTouch 3D RQ1250 RQ1250CC RQ1260 RQ1260CC</span>\\n                          </div>\\n                        </a>\\n                        \\n                        \\n                    </th>\\n                \\n            </tr>\\n\\n\\n            <tr></tr>\\n\\n\\n            \\n            \\n            <tr>\\n                <td class=\"comparison_table_first_col\"></td>\\n\\n\\n                <td class=\"comparison_add_to_cart_button\">\\n                    \\n                        \\n                        \\n                        \\n                            <span id=\"comparison_add_to_cart_button\" class=\"a-button a-spacing-small a-button-primary\"><span class=\"a-button-inner\"><a id=\"comparison_add_to_cart_button-announce\" href=\"/gp/item-dispatch/ref=psdc_10304191_a0_B01HHJQN8E?ie=UTF8&amp;itemCount=1&amp;nodeID=3760911&amp;offeringID.1=Ja4CTqCWpfWRLteGuXMZmv1Zgc9KpcFi5SLWOvh21cG%252B50ygFoqyf7tZjvMHLaxfK6s3eBIV4oBeexiAWT06%252FCVnluoZB5eMNm7iDiejOzpTM8lbS62S%252Bs1yuBMj1VH96zQEzoMWhzyamWQXLxd0fvb7HF6iAxMJ&amp;storeID=beauty&amp;session-id=135-1438400-1937644&amp;submit.addToCart=addToCart&amp;signInToHUC=0\" class=\"a-button-text\" role=\"button\">Add to Cart</a></span></span>\\n                        \\n                    \\n                </td>\\n\\n\\n                \\n                    <td class=\"a-text-left comparison_add_to_cart_button comparable_item0\">\\n                        \\n                            \\n                            \\n                                <span id=\"comparison_add_to_cart_button0\" class=\"a-button a-spacing-small a-button-primary\"><span class=\"a-button-inner\"><a id=\"comparison_add_to_cart_button0-announce\" href=\"/gp/item-dispatch/ref=psdc_10304191_a1_B01HHJQN8E?ie=UTF8&amp;itemCount=1&amp;nodeID=3760911&amp;offeringID.1=Ja4CTqCWpfWOOIW3mUcXrHj6EjPC01w0q80Mwx%252BodqfsVq16F%252Blh8Vusqooa4kGIQUqlViwnq%252FWVmVUNO6itMSS2EAGLvDGZemtQy2MvHFPTbCoNziCeDjK%252FIV4atzuDjO%252BWyZV%252BtpQMXVm5UN4bKMzd%252B1c%252FNQzl&amp;storeID=beauty&amp;session-id=135-1438400-1937644&amp;submit.addToCart=addToCart&amp;signInToHUC=0\" class=\"a-button-text\" role=\"button\">Add to Cart</a></span></span>\\n                            \\n                        \\n                    </td>\\n                \\n                    <td class=\"a-text-left comparison_add_to_cart_button comparable_item1\">\\n                        \\n                            \\n                            \\n                                <span id=\"comparison_add_to_cart_button1\" class=\"a-button a-spacing-small a-button-primary\"><span class=\"a-button-inner\"><a id=\"comparison_add_to_cart_button1-announce\" href=\"/gp/item-dispatch/ref=psdc_10304191_a2_B01HHJQN8E?ie=UTF8&amp;itemCount=1&amp;nodeID=3760911&amp;offeringID.1=Ja4CTqCWpfWRLteGuXMZmoStY%252BD%252F9aa5jtOhbUO9lzGtY3n3rJqCXQRLH1kwTDOYMi2SZ7SlwweuKowApn1HNxV0y93bCjUP7m7kOyCrGXcnkBCWYotb%252FADL0V9UpZxG9etTWQKftBw%252FLd%252FKxpWBlAgNsK8P%252BKxG&amp;storeID=beauty&amp;session-id=135-1438400-1937644&amp;submit.addToCart=addToCart&amp;signInToHUC=0\" class=\"a-button-text\" role=\"button\">Add to Cart</a></span></span>\\n                            \\n                        \\n                    </td>\\n                \\n                    <td class=\"a-text-left comparison_add_to_cart_button comparable_item2\">\\n                        \\n                            \\n                            \\n                                <span id=\"comparison_add_to_cart_button2\" class=\"a-button a-spacing-small a-button-primary\"><span class=\"a-button-inner\"><a id=\"comparison_add_to_cart_button2-announce\" href=\"/gp/item-dispatch/ref=psdc_10304191_a3_B01HHJQN8E?ie=UTF8&amp;itemCount=1&amp;nodeID=3760911&amp;offeringID.1=Ja4CTqCWpfWOOIW3mUcXrCZzyZIbCFMDKCoaYgxyvvj0W05qN9R4PU4NIsW9O5htbDUOP%252FDARMAjOS8HGXB7HGjnfG%252FcMaMgy9h6bf3XAr0C5hNasKwLI3oK5zv1ftGYZAXYmdNLLOM3GxcXRZVidE2tWyiVWuid&amp;storeID=beauty&amp;session-id=135-1438400-1937644&amp;submit.addToCart=addToCart&amp;signInToHUC=0\" class=\"a-button-text\" role=\"button\">Add to Cart</a></span></span>\\n                            \\n                        \\n                    </td>\\n                \\n                    <td class=\"a-text-left comparison_add_to_cart_button comparable_item3\">\\n                        \\n                            \\n                            \\n                                <span id=\"comparison_add_to_cart_button3\" class=\"a-button a-spacing-small a-button-primary\"><span class=\"a-button-inner\"><a id=\"comparison_add_to_cart_button3-announce\" href=\"/gp/item-dispatch/ref=psdc_10304191_a4_B01HHJQN8E?ie=UTF8&amp;itemCount=1&amp;nodeID=3760911&amp;offeringID.1=Ja4CTqCWpfWOOIW3mUcXrNZYUppIHbzSlxxIm6VuDIzeMNvmxQGszu9jMpl75DyDKXH7YdcyK%252BfpE7RFa9jncWOcBiZp0YGev6RfzRnDleoY3%252FFOPlAEHA5G%252BxSmUaW%252BLrfCojTB4tq4zBk9BldM%252BXvz3Pab29ac&amp;storeID=beauty&amp;session-id=135-1438400-1937644&amp;submit.addToCart=addToCart&amp;signInToHUC=0\" class=\"a-button-text\" role=\"button\">Add to Cart</a></span></span>\\n                            \\n                        \\n                    </td>\\n                \\n                    <td class=\"a-text-left comparison_add_to_cart_button comparable_item4\">\\n                        \\n                            \\n                            \\n                                <span id=\"comparison_add_to_cart_button4\" class=\"a-button a-spacing-small a-button-primary\"><span class=\"a-button-inner\"><a id=\"comparison_add_to_cart_button4-announce\" href=\"/gp/item-dispatch/ref=psdc_10304191_a5_B01HHJQN8E?ie=UTF8&amp;itemCount=1&amp;nodeID=3760911&amp;offeringID.1=Ja4CTqCWpfWOOIW3mUcXrFSX%252F2yK%252FWFhQuogVkRfuI13zSuEvk4WXVpEVyHRyfHlEwMBEJFlJMYKedpS6gV5SzCDuwyJdSIq1oOAMygftupzA5ryQ9t9CZb4NRLTu5I7s0Q%252BP7JPhHs9Bd7zRw80%252Bsiouj5AxjDw&amp;storeID=beauty&amp;session-id=135-1438400-1937644&amp;submit.addToCart=addToCart&amp;signInToHUC=0\" class=\"a-button-text\" role=\"button\">Add to Cart</a></span></span>\\n                            \\n                        \\n                    </td>\\n                \\n            </tr>\\n\\n\\n            <tr id=\"comparison_custormer_rating_row\">\\n                \\n                \\n                \\n                \\n\\n                <th class=\"comparison_attribute_name_column comparison_table_first_col\" role=\"rowheader\">\\n                    <span class=\"a-size-base a-color-base\">Customer Rating</span>\\n                </th>\\n\\n\\n                <td class=\"comparison_baseitem_column\">\\n                    \\n                    \\n                    \\n                    <span>\\n                        <span class=\"a-declarative\" data-action=\"a-popover\" data-a-popover=\"{&quot;max-width&quot;:&quot;700&quot;,&quot;closeButton&quot;:&quot;false&quot;,&quot;position&quot;:&quot;triggerBottom&quot;,&quot;url&quot;:&quot; /gp/customer-reviews/widgets/average-customer-review/popover/ref=acr_dpComparsion__popover?contextId=dpComparsion&amp;asin=B01HHJQN8E &quot;,&quot;restoreFocusOnHide&quot;:&quot;false&quot;}\">\\n                            <i class=\"a-icon a-icon-star a-star-3-5 a-spacing-none\"><span class=\"a-icon-alt\">3 out of 5 stars</span></i>\\n                        </span>\\n                        <a class=\"a-link-normal\" target=\"_self\" rel=\"noopener\" href=\"/product-reviews/B01HHJQN8E/ref=psdc_10304191_r0_B01HHJQN8E?_encoding=UTF8&amp;showViewpoints=1\">(46)</a>\\n                        <span class=\"a-letter-space\"></span>\\n                    </span>\\n                </td>\\n\\n\\n                \\n                    <td class=\"comparison_sim_items_column comparable_item0\">\\n                        \\n                        \\n                        \\n                        <span>\\n                            <span class=\"a-declarative\" data-action=\"a-popover\" data-a-popover=\"{&quot;max-width&quot;:&quot;700&quot;,&quot;closeButton&quot;:&quot;false&quot;,&quot;position&quot;:&quot;triggerBottom&quot;,&quot;url&quot;:&quot; /gp/customer-reviews/widgets/average-customer-review/popover/ref=acr_dpComparsion__popover?contextId=dpComparsion&amp;asin=B0719PTM9Y &quot;,&quot;restoreFocusOnHide&quot;:&quot;false&quot;}\">\\n                                <i class=\"a-icon a-icon-star a-star-2 a-spacing-none\"><span class=\"a-icon-alt\">2 out of 5 stars</span></i>\\n                            </span>\\n                            <a class=\"a-link-normal\" target=\"_self\" rel=\"noopener\" href=\"/product-reviews/B0719PTM9Y/ref=psdc_10304191_r1_B01HHJQN8E?_encoding=UTF8&amp;showViewpoints=1\">(41)</a>\\n                            <span class=\"a-letter-space\"></span>\\n                        </span>\\n                    </td>\\n                \\n                    <td class=\"comparison_sim_items_column comparable_item1\">\\n                        \\n                        \\n                        \\n                        <span>\\n                            <span class=\"a-declarative\" data-action=\"a-popover\" data-a-popover=\"{&quot;max-width&quot;:&quot;700&quot;,&quot;closeButton&quot;:&quot;false&quot;,&quot;position&quot;:&quot;triggerBottom&quot;,&quot;url&quot;:&quot; /gp/customer-reviews/widgets/average-customer-review/popover/ref=acr_dpComparsion__popover?contextId=dpComparsion&amp;asin=B01JZ5G9RS &quot;,&quot;restoreFocusOnHide&quot;:&quot;false&quot;}\">\\n                                <i class=\"a-icon a-icon-star a-star-3 a-spacing-none\"><span class=\"a-icon-alt\">3 out of 5 stars</span></i>\\n                            </span>\\n                            <a class=\"a-link-normal\" target=\"_self\" rel=\"noopener\" href=\"/product-reviews/B01JZ5G9RS/ref=psdc_10304191_r2_B01HHJQN8E?_encoding=UTF8&amp;showViewpoints=1\">(25)</a>\\n                            <span class=\"a-letter-space\"></span>\\n                        </span>\\n                    </td>\\n                \\n                    <td class=\"comparison_sim_items_column comparable_item2\">\\n                        \\n                        \\n                        \\n                        <span>\\n                            <span class=\"a-declarative\" data-action=\"a-popover\" data-a-popover=\"{&quot;max-width&quot;:&quot;700&quot;,&quot;closeButton&quot;:&quot;false&quot;,&quot;position&quot;:&quot;triggerBottom&quot;,&quot;url&quot;:&quot; /gp/customer-reviews/widgets/average-customer-review/popover/ref=acr_dpComparsion__popover?contextId=dpComparsion&amp;asin=B072C2QC9L &quot;,&quot;restoreFocusOnHide&quot;:&quot;false&quot;}\">\\n                                <i class=\"a-icon a-icon-star a-star-0 a-spacing-none\"><span class=\"a-icon-alt\">0 out of 5 stars</span></i>\\n                            </span>\\n                            <a class=\"a-link-normal\" target=\"_self\" rel=\"noopener\" href=\"/product-reviews/B072C2QC9L/ref=psdc_10304191_r3_B01HHJQN8E?_encoding=UTF8&amp;showViewpoints=1\">(0)</a>\\n                            <span class=\"a-letter-space\"></span>\\n                        </span>\\n                    </td>\\n                \\n                    <td class=\"comparison_sim_items_column comparable_item3\">\\n                        \\n                        \\n                        \\n                        <span>\\n                            <span class=\"a-declarative\" data-action=\"a-popover\" data-a-popover=\"{&quot;max-width&quot;:&quot;700&quot;,&quot;closeButton&quot;:&quot;false&quot;,&quot;position&quot;:&quot;triggerBottom&quot;,&quot;url&quot;:&quot; /gp/customer-reviews/widgets/average-customer-review/popover/ref=acr_dpComparsion__popover?contextId=dpComparsion&amp;asin=B07BD1859Y &quot;,&quot;restoreFocusOnHide&quot;:&quot;false&quot;}\">\\n                                <i class=\"a-icon a-icon-star a-star-3 a-spacing-none\"><span class=\"a-icon-alt\">3 out of 5 stars</span></i>\\n                            </span>\\n                            <a class=\"a-link-normal\" target=\"_self\" rel=\"noopener\" href=\"/product-reviews/B07BD1859Y/ref=psdc_10304191_r4_B01HHJQN8E?_encoding=UTF8&amp;showViewpoints=1\">(31)</a>\\n                            <span class=\"a-letter-space\"></span>\\n                        </span>\\n                    </td>\\n                \\n                    <td class=\"comparison_sim_items_column comparable_item4\">\\n                        \\n                        \\n                        \\n                        <span>\\n                            <span class=\"a-declarative\" data-action=\"a-popover\" data-a-popover=\"{&quot;max-width&quot;:&quot;700&quot;,&quot;closeButton&quot;:&quot;false&quot;,&quot;position&quot;:&quot;triggerBottom&quot;,&quot;url&quot;:&quot; /gp/customer-reviews/widgets/average-customer-review/popover/ref=acr_dpComparsion__popover?contextId=dpComparsion&amp;asin=B07JY7L8HR &quot;,&quot;restoreFocusOnHide&quot;:&quot;false&quot;}\">\\n                                <i class=\"a-icon a-icon-star a-star-0 a-spacing-none\"><span class=\"a-icon-alt\">0 out of 5 stars</span></i>\\n                            </span>\\n                            <a class=\"a-link-normal\" target=\"_self\" rel=\"noopener\" href=\"/product-reviews/B07JY7L8HR/ref=psdc_10304191_r5_B01HHJQN8E?_encoding=UTF8&amp;showViewpoints=1\">(0)</a>\\n                            <span class=\"a-letter-space\"></span>\\n                        </span>\\n                    </td>\\n                \\n            </tr>\\n\\n\\n            <tr id=\"comparison_price_row\">\\n                <th class=\"comparison_attribute_name_column comparison_table_first_col\" role=\"rowheader\">\\n                    <span class=\"a-size-base a-color-base\">Price</span>\\n                </th>\\n\\n\\n                <td class=\"comparison_baseitem_column\">\\n                    \\n                        \\n                        \\n                        \\n                        \\n                            \\n                                \\n                                    <span class=\"a-price\" data-a-size=\"l\" data-a-color=\"base\"><span class=\"a-offscreen\">$13.80</span><span aria-hidden=\"true\"><span class=\"a-price-symbol\">$</span><span class=\"a-price-whole\">13<span class=\"a-price-decimal\">\\x00</span></span><span class=\"a-price-fraction\">80</span></span></span>\\n                                \\n                                \\n                            \\n                        \\n                    \\n                </td>\\n\\n\\n                \\n                    <td class=\"comparison_sim_items_column comparable_item0\">\\n                    \\n                        \\n                        \\n                        \\n                            \\n                                \\n                                    <span class=\"a-price\" data-a-size=\"l\" data-a-color=\"base\"><span class=\"a-offscreen\">$24.15</span><span aria-hidden=\"true\"><span class=\"a-price-symbol\">$</span><span class=\"a-price-whole\">24<span class=\"a-price-decimal\">\\x00</span></span><span class=\"a-price-fraction\">15</span></span></span>\\n                                \\n                                \\n                            \\n                        \\n                    \\n                    </td>\\n                \\n                    <td class=\"comparison_sim_items_column comparable_item1\">\\n                    \\n                        \\n                        \\n                        \\n                            \\n                                \\n                                    <span class=\"a-price\" data-a-size=\"l\" data-a-color=\"base\"><span class=\"a-offscreen\">$25.99</span><span aria-hidden=\"true\"><span class=\"a-price-symbol\">$</span><span class=\"a-price-whole\">25<span class=\"a-price-decimal\">\\x00</span></span><span class=\"a-price-fraction\">99</span></span></span>\\n                                \\n                                \\n                            \\n                        \\n                    \\n                    </td>\\n                \\n                    <td class=\"comparison_sim_items_column comparable_item2\">\\n                    \\n                        \\n                        \\n                        \\n                            \\n                                \\n                                    <span class=\"a-price\" data-a-size=\"l\" data-a-color=\"base\"><span class=\"a-offscreen\">$16.98</span><span aria-hidden=\"true\"><span class=\"a-price-symbol\">$</span><span class=\"a-price-whole\">16<span class=\"a-price-decimal\">\\x00</span></span><span class=\"a-price-fraction\">98</span></span></span>\\n                                \\n                                \\n                            \\n                        \\n                    \\n                    </td>\\n                \\n                    <td class=\"comparison_sim_items_column comparable_item3\">\\n                    \\n                        \\n                        \\n                        \\n                            \\n                                \\n                                    <span class=\"a-price\" data-a-size=\"l\" data-a-color=\"base\"><span class=\"a-offscreen\">$25.99</span><span aria-hidden=\"true\"><span class=\"a-price-symbol\">$</span><span class=\"a-price-whole\">25<span class=\"a-price-decimal\">\\x00</span></span><span class=\"a-price-fraction\">99</span></span></span>\\n                                \\n                                \\n                            \\n                        \\n                    \\n                    </td>\\n                \\n                    <td class=\"comparison_sim_items_column comparable_item4\">\\n                    \\n                        \\n                        \\n                        \\n                            \\n                                \\n                                    <span class=\"a-price\" data-a-size=\"l\" data-a-color=\"base\"><span class=\"a-offscreen\">$15.99</span><span aria-hidden=\"true\"><span class=\"a-price-symbol\">$</span><span class=\"a-price-whole\">15<span class=\"a-price-decimal\">\\x00</span></span><span class=\"a-price-fraction\">99</span></span></span>\\n                                \\n                                \\n                            \\n                        \\n                    \\n                    </td>\\n                \\n            </tr>\\n\\n\\n    \\n                <tr id=\"comparison_shipping_info_row\">\\n                    <th class=\"comparison_attribute_name_column comparison_table_first_col\" role=\"rowheader\">\\n                        <span class=\"a-size-base a-color-base\">Shipping</span>\\n                    </th>\\n\\n    \\n                    <td class=\"comparison_baseitem_column\">\\n                        \\n                            \\n                            \\n                            \\n                                <span class=\"a-size-base a-color-base\">Eligible for FREE Shipping</span>\\n                            \\n                            \\n                            \\n                            \\n                            \\n                        \\n                    </td>\\n\\n    \\n                    \\n                        <td class=\"comparison_sim_items_column comparable_item0\">\\n                            \\n                                \\n                                \\n                                    <span class=\"a-size-base a-color-base\">Eligible for FREE Shipping</span>\\n                                \\n                                \\n                                \\n                                \\n                                \\n                            \\n                        </td>\\n                    \\n                        <td class=\"comparison_sim_items_column comparable_item1\">\\n                            \\n                                \\n                                \\n                                    <span class=\"a-size-base a-color-base\">Eligible for FREE Shipping</span>\\n                                \\n                                \\n                                \\n                                \\n                                \\n                            \\n                        </td>\\n                    \\n                        <td class=\"comparison_sim_items_column comparable_item2\">\\n                            \\n                                \\n                                \\n                                    <span class=\"a-size-base a-color-base\">Eligible for FREE Shipping</span>\\n                                \\n                                \\n                                \\n                                \\n                                \\n                            \\n                        </td>\\n                    \\n                        <td class=\"comparison_sim_items_column comparable_item3\">\\n                            \\n                                \\n                                \\n                                    <span class=\"a-size-base a-color-base\">Eligible for FREE Shipping</span>\\n                                \\n                                \\n                                \\n                                \\n                                \\n                            \\n                        </td>\\n                    \\n                        <td class=\"comparison_sim_items_column comparable_item4\">\\n                            \\n                                \\n                                \\n                                    <span class=\"a-size-base a-color-base\">Eligible for FREE Shipping</span>\\n                                \\n                                \\n                                \\n                                \\n                                \\n                            \\n                        </td>\\n                    \\n                </tr>\\n\\n\\n\\n            <tr id=\"comparison_sold_by_row\">\\n                <th class=\"comparison_attribute_name_column comparison_table_first_col\" role=\"rowheader\">\\n                    <span class=\"a-size-base a-color-base\">Sold By</span>\\n                </th>\\n\\n  \\n                <td class=\"comparison_baseitem_column\">\\n                    \\n                        \\n                        \\n                        \\n                            <a class=\"a-spacing-top-small a-link-normal\" target=\"_self\" rel=\"noopener\" href=\"/gp/help/seller/at-a-glance.html/ref=psdc_10304191_s0_B01HHJQN8E?ie=UTF8&amp;seller=A21V3QIJN24012&amp;isAmazonFulfilled=1\">JahyShow</a>\\n                        \\n                     \\n                </td>\\n\\n\\n                \\n                    <td class=\"comparison_sim_items_column comparable_item0\">\\n                         \\n                            \\n                         \\n                             <a class=\"a-spacing-top-small a-link-normal\" target=\"_self\" rel=\"noopener\" href=\"/gp/help/seller/at-a-glance.html/ref=psdc_10304191_s1_B01HHJQN8E?ie=UTF8&amp;seller=A1OJ8JAK3OKCBX&amp;isAmazonFulfilled=1\">ZB LIMITED</a>\\n                         \\n                         \\n                     </td>\\n                \\n                    <td class=\"comparison_sim_items_column comparable_item1\">\\n                         \\n                            \\n                         \\n                             <a class=\"a-spacing-top-small a-link-normal\" target=\"_self\" rel=\"noopener\" href=\"/gp/help/seller/at-a-glance.html/ref=psdc_10304191_s2_B01HHJQN8E?ie=UTF8&amp;seller=A32SEX6CGLBPEK&amp;isAmazonFulfilled=1\">Acupress</a>\\n                         \\n                         \\n                     </td>\\n                \\n                    <td class=\"comparison_sim_items_column comparable_item2\">\\n                         \\n                            \\n                         \\n                             <a class=\"a-spacing-top-small a-link-normal\" target=\"_self\" rel=\"noopener\" href=\"/gp/help/seller/at-a-glance.html/ref=psdc_10304191_s3_B01HHJQN8E?ie=UTF8&amp;seller=A3OOCK6DL3TXLA&amp;isAmazonFulfilled=1\">Buy4Less Outlet</a>\\n                         \\n                         \\n                     </td>\\n                \\n                    <td class=\"comparison_sim_items_column comparable_item3\">\\n                         \\n                            \\n                         \\n                             <a class=\"a-spacing-top-small a-link-normal\" target=\"_self\" rel=\"noopener\" href=\"/gp/help/seller/at-a-glance.html/ref=psdc_10304191_s4_B01HHJQN8E?ie=UTF8&amp;seller=A32SEX6CGLBPEK&amp;isAmazonFulfilled=1\">Acupress</a>\\n                         \\n                         \\n                     </td>\\n                \\n                    <td class=\"comparison_sim_items_column comparable_item4\">\\n                         \\n                            \\n                         \\n                             <a class=\"a-spacing-top-small a-link-normal\" target=\"_self\" rel=\"noopener\" href=\"/gp/help/seller/at-a-glance.html/ref=psdc_10304191_s5_B01HHJQN8E?ie=UTF8&amp;seller=A2A0528UIFJUPL&amp;isAmazonFulfilled=1\">YamaMarket</a>\\n                         \\n                         \\n                     </td>\\n                \\n             </tr>\\n\\n\\n            \\n       '\n",
            " ' class=\"a-bordered a-horizontal-stripes  a-spacing-extra-large a-size-base comparison_table\">\\n\\n\\n\\n            \\n            \\n            \\n            \\n            \\n            <tr class=\"comparison_table_image_row\">\\n                <td class=\"comparison_table_first_col\"></td>\\n\\n\\n                <th class=\"comparison_image_title_cell\" role=\"columnheader\">\\n                    <div class=\"a-row a-spacing-top-micro\">\\n                        <center>\\n                             <img alt=\"Pokemon Plush 9.2 Inch / 23cm Gengar Doll Stuffed Animals Figure Soft Anime Collection Toy\" src=\"https://images-na.ssl-images-amazon.com/images/I/51MJdQ7FetL._SL500_AC_SS350_.jpg\" id=\"comparison_image\">\\n                        </center>\\n                    </div>\\n                    <div class=\"a-row a-spacing-top-small\">\\n                        <div id=\"comparison_title\" class=\"a-section a-spacing-none\">\\n                            <span aria-hidden=\"true\" class=\"a-size-base a-color-base a-text-bold\">\\n                                This item\\n                            </span>\\n                            <span aria-hidden=\"true\" class=\"a-size-base a-color-base\">Pokemon Plush 9.2 Inch / 23cm Gengar Doll Stuffed Animals Figure Soft Anime Collection Toy</span>\\n                        </div>\\n                        \\n                        \\n                    </div>\\n                </th>\\n\\n\\n                \\n                    <th class=\"comparison_image_title_cell comparable_item0\" role=\"columnheader\">\\n                        <a class=\"a-link-normal\" target=\"_self\" rel=\"noopener\" href=\"/dp/B01KAWUITU/ref=psdc_10304191_t1_B01HIUEEHO\">\\n                          <div class=\"a-row a-spacing-top-micro\">\\n                            <center>\\n                                <img alt=\"\" src=\"https://images-na.ssl-images-amazon.com/images/I/414a3l5hS4L._SL500_AC_SS350_.jpg\" aria-hidden=\"true\" id=\"comparison_image0\">\\n                            </center>\\n                          </div>\\n                          <div id=\"comparison_title0\" class=\"a-row a-spacing-top-small\">\\n                            <span class=\"a-size-base\">Pokemon Plush 11.6 Inch / 29cm Charmander Doll Stuffed Animals Figure Soft Anime Collection Toy</span>\\n                          </div>\\n                        </a>\\n                        \\n                        \\n                    </th>\\n                \\n                    <th class=\"comparison_image_title_cell comparable_item1\" role=\"columnheader\">\\n                        <a class=\"a-link-normal\" target=\"_self\" rel=\"noopener\" href=\"/dp/B00NWV6PJE/ref=psdc_10304191_t2_B01HIUEEHO\">\\n                          <div class=\"a-row a-spacing-top-micro\">\\n                            <center>\\n                                <img alt=\"\" src=\"https://images-na.ssl-images-amazon.com/images/I/51daPEUeSTL._SL500_AC_SS350_.jpg\" aria-hidden=\"true\" id=\"comparison_image1\">\\n                            </center>\\n                          </div>\\n                          <div id=\"comparison_title1\" class=\"a-row a-spacing-top-small\">\\n                            <span class=\"a-size-base\">Pocoyo 10\" Anime Animal Stuffed Plush Toys Pocoyo Elly</span>\\n                          </div>\\n                        </a>\\n                        \\n                        \\n                    </th>\\n                \\n                    <th class=\"comparison_image_title_cell comparable_item2\" role=\"columnheader\">\\n                        <a class=\"a-link-normal\" target=\"_self\" rel=\"noopener\" href=\"/dp/B00S65NE2C/ref=psdc_10304191_t3_B01HIUEEHO\">\\n                          <div class=\"a-row a-spacing-top-micro\">\\n                            <center>\\n                                <img alt=\"\" src=\"https://images-na.ssl-images-amazon.com/images/I/61L5kuWd1-L._SL500_AC_SS350_.jpg\" aria-hidden=\"true\" id=\"comparison_image2\">\\n                            </center>\\n                          </div>\\n                          <div id=\"comparison_title2\" class=\"a-row a-spacing-top-small\">\\n                            <span class=\"a-size-base\">Pocoyo 14cm Anime Animal Stuffed Plush Toys Loula</span>\\n                          </div>\\n                        </a>\\n                        \\n                        \\n                    </th>\\n                \\n            </tr>\\n\\n\\n            <tr></tr>\\n\\n\\n            \\n            \\n            <tr>\\n                <td class=\"comparison_table_first_col\"></td>\\n\\n\\n                <td class=\"comparison_add_to_cart_button\">\\n                    \\n                        \\n                        \\n                        \\n                            <span id=\"comparison_add_to_cart_button\" class=\"a-button a-spacing-small a-button-primary\"><span class=\"a-button-inner\"><a id=\"comparison_add_to_cart_button-announce\" href=\"/gp/item-dispatch/ref=psdc_10304191_a0_B01HIUEEHO?ie=UTF8&amp;itemCount=1&amp;nodeID=3760911&amp;offeringID.1=iR7hlPGAr5B6Ayqf5FtDDuSOBdGzxJHSGwJ4XCD7n%252BtHNnfgV3KmzzC71JTOLbjyeu59KP%252FtLxJT6k7quAuY8HXO228cioEgdy7ZXGZ8ygf829M9KkMNyKXU52Ypu%252FG5I27xBxy7%252F8qda8RFnEazicutQE9qb1W1&amp;storeID=beauty&amp;session-id=135-1438400-1937644&amp;submit.addToCart=addToCart&amp;signInToHUC=0\" class=\"a-button-text\" role=\"button\">Add to Cart</a></span></span>\\n                        \\n                    \\n                </td>\\n\\n\\n                \\n                    <td class=\"a-text-left comparison_add_to_cart_button comparable_item0\">\\n                        \\n                            \\n                            \\n                                <span id=\"comparison_add_to_cart_button0\" class=\"a-button a-spacing-small a-button-primary\"><span class=\"a-button-inner\"><a id=\"comparison_add_to_cart_button0-announce\" href=\"/gp/item-dispatch/ref=psdc_10304191_a1_B01HIUEEHO?ie=UTF8&amp;itemCount=1&amp;nodeID=3760911&amp;offeringID.1=iR7hlPGAr5B6Ayqf5FtDDhPBfcVbBfqTdNx0ug%252Fl7ZLkRK3q%252BtGjOnG%252Bxlh9BMDgXjefjDXD0n5r%252FZMtmLK76Tc2ewX43amlCFgIppkrUHPw1xPBH18UKfG5DNuCW0X%252FiKidEA52l125Yb%252FKS2YiwlTvbw5JYFXK&amp;storeID=beauty&amp;session-id=135-1438400-1937644&amp;submit.addToCart=addToCart&amp;signInToHUC=0\" class=\"a-button-text\" role=\"button\">Add to Cart</a></span></span>\\n                            \\n                        \\n                    </td>\\n                \\n                    <td class=\"a-text-left comparison_add_to_cart_button comparable_item1\">\\n                        \\n                            \\n                            \\n                                <span id=\"comparison_add_to_cart_button1\" class=\"a-button a-spacing-small a-button-primary\"><span class=\"a-button-inner\"><a id=\"comparison_add_to_cart_button1-announce\" href=\"/gp/item-dispatch/ref=psdc_10304191_a2_B01HIUEEHO?ie=UTF8&amp;itemCount=1&amp;nodeID=3760911&amp;offeringID.1=iR7hlPGAr5CtOPYvLpamheuTNUbfURhApk98YszV6CGjNIyC3g5S9%252BHaJ2iSORTcKRRFbllCkWuI7TjWd%252BAtGDUsbHl%252BWjE67gs2D7Rfp33yvpFGLADzQQ7Ve8RE9YrMVTogDIqT259xWy9gAmWoWPGk%252Bx97z3%252Fp&amp;storeID=beauty&amp;session-id=135-1438400-1937644&amp;submit.addToCart=addToCart&amp;signInToHUC=0\" class=\"a-button-text\" role=\"button\">Add to Cart</a></span></span>\\n                            \\n                        \\n                    </td>\\n                \\n                    <td class=\"a-text-left comparison_add_to_cart_button comparable_item2\">\\n                        \\n                            \\n                            \\n                                <span id=\"comparison_add_to_cart_button2\" class=\"a-button a-spacing-small a-button-primary\"><span class=\"a-button-inner\"><a id=\"comparison_add_to_cart_button2-announce\" href=\"/gp/item-dispatch/ref=psdc_10304191_a3_B01HIUEEHO?ie=UTF8&amp;itemCount=1&amp;nodeID=3760911&amp;offeringID.1=iR7hlPGAr5CtOPYvLpamhWnYmUTVSk2zJvBDpaLcAqnZ33ReP162erXz6BgRVX8C3qESEJYpEXwVcBmMNxJRVY6j2EPcudhHUpVmuwMYnhTKP6NFaoJMXQziyUpm%252Blxya5ZCxohwBuXEqm%252FFSj%252FM7N64L%252Bp3CMnv&amp;storeID=beauty&amp;session-id=135-1438400-1937644&amp;submit.addToCart=addToCart&amp;signInToHUC=0\" class=\"a-button-text\" role=\"button\">Add to Cart</a></span></span>\\n                            \\n                        \\n                    </td>\\n                \\n            </tr>\\n\\n\\n            <tr id=\"comparison_custormer_rating_row\">\\n                \\n                \\n                \\n                \\n\\n                <th class=\"comparison_attribute_name_column comparison_table_first_col\" role=\"rowheader\">\\n                    <span class=\"a-size-base a-color-base\">Customer Rating</span>\\n                </th>\\n\\n\\n                <td class=\"comparison_baseitem_column\">\\n                    \\n                    \\n                    \\n                    <span>\\n                        <span class=\"a-declarative\" data-action=\"a-popover\" data-a-popover=\"{&quot;max-width&quot;:&quot;700&quot;,&quot;closeButton&quot;:&quot;false&quot;,&quot;position&quot;:&quot;triggerBottom&quot;,&quot;url&quot;:&quot; /gp/customer-reviews/widgets/average-customer-review/popover/ref=acr_dpComparsion__popover?contextId=dpComparsion&amp;asin=B01HIUEEHO &quot;,&quot;restoreFocusOnHide&quot;:&quot;false&quot;}\">\\n                            <i class=\"a-icon a-icon-star a-star-4 a-spacing-none\"><span class=\"a-icon-alt\">4 out of 5 stars</span></i>\\n                        </span>\\n                        <a class=\"a-link-normal\" target=\"_self\" rel=\"noopener\" href=\"/product-reviews/B01HIUEEHO/ref=psdc_10304191_r0_B01HIUEEHO?_encoding=UTF8&amp;showViewpoints=1\">(5)</a>\\n                        <span class=\"a-letter-space\"></span>\\n                    </span>\\n                </td>\\n\\n\\n                \\n                    <td class=\"comparison_sim_items_column comparable_item0\">\\n                        \\n                        \\n                        \\n                        <span>\\n                            <span class=\"a-declarative\" data-action=\"a-popover\" data-a-popover=\"{&quot;max-width&quot;:&quot;700&quot;,&quot;closeButton&quot;:&quot;false&quot;,&quot;position&quot;:&quot;triggerBottom&quot;,&quot;url&quot;:&quot; /gp/customer-reviews/widgets/average-customer-review/popover/ref=acr_dpComparsion__popover?contextId=dpComparsion&amp;asin=B01KAWUITU &quot;,&quot;restoreFocusOnHide&quot;:&quot;false&quot;}\">\\n                                <i class=\"a-icon a-icon-star a-star-0 a-spacing-none\"><span class=\"a-icon-alt\">0 out of 5 stars</span></i>\\n                            </span>\\n                            <a class=\"a-link-normal\" target=\"_self\" rel=\"noopener\" href=\"/product-reviews/B01KAWUITU/ref=psdc_10304191_r1_B01HIUEEHO?_encoding=UTF8&amp;showViewpoints=1\">(0)</a>\\n                            <span class=\"a-letter-space\"></span>\\n                        </span>\\n                    </td>\\n                \\n                    <td class=\"comparison_sim_items_column comparable_item1\">\\n                        \\n                        \\n                        \\n                        <span>\\n                            <span class=\"a-declarative\" data-action=\"a-popover\" data-a-popover=\"{&quot;max-width&quot;:&quot;700&quot;,&quot;closeButton&quot;:&quot;false&quot;,&quot;position&quot;:&quot;triggerBottom&quot;,&quot;url&quot;:&quot; /gp/customer-reviews/widgets/average-customer-review/popover/ref=acr_dpComparsion__popover?contextId=dpComparsion&amp;asin=B00NWV6PJE &quot;,&quot;restoreFocusOnHide&quot;:&quot;false&quot;}\">\\n                                <i class=\"a-icon a-icon-star a-star-5 a-spacing-none\"><span class=\"a-icon-alt\">5 out of 5 stars</span></i>\\n                            </span>\\n                            <a class=\"a-link-normal\" target=\"_self\" rel=\"noopener\" href=\"/product-reviews/B00NWV6PJE/ref=psdc_10304191_r2_B01HIUEEHO?_encoding=UTF8&amp;showViewpoints=1\">(1)</a>\\n                            <span class=\"a-letter-space\"></span>\\n                        </span>\\n                    </td>\\n                \\n                    <td class=\"comparison_sim_items_column comparable_item2\">\\n                        \\n                        \\n                        \\n                        <span>\\n                            <span class=\"a-declarative\" data-action=\"a-popover\" data-a-popover=\"{&quot;max-width&quot;:&quot;700&quot;,&quot;closeButton&quot;:&quot;false&quot;,&quot;position&quot;:&quot;triggerBottom&quot;,&quot;url&quot;:&quot; /gp/customer-reviews/widgets/average-customer-review/popover/ref=acr_dpComparsion__popover?contextId=dpComparsion&amp;asin=B00S65NE2C &quot;,&quot;restoreFocusOnHide&quot;:&quot;false&quot;}\">\\n                                <i class=\"a-icon a-icon-star a-star-0 a-spacing-none\"><span class=\"a-icon-alt\">0 out of 5 stars</span></i>\\n                            </span>\\n                            <a class=\"a-link-normal\" target=\"_self\" rel=\"noopener\" href=\"/product-reviews/B00S65NE2C/ref=psdc_10304191_r3_B01HIUEEHO?_encoding=UTF8&amp;showViewpoints=1\">(0)</a>\\n                            <span class=\"a-letter-space\"></span>\\n                        </span>\\n                    </td>\\n                \\n            </tr>\\n\\n\\n            <tr id=\"comparison_price_row\">\\n                <th class=\"comparison_attribute_name_column comparison_table_first_col\" role=\"rowheader\">\\n                    <span class=\"a-size-base a-color-base\">Price</span>\\n                </th>\\n\\n\\n                <td class=\"comparison_baseitem_column\">\\n                    \\n                        \\n                        \\n                        \\n                        \\n                            \\n                                \\n                                    <span class=\"a-price\" data-a-size=\"l\" data-a-color=\"base\"><span class=\"a-offscreen\">$20.74</span><span aria-hidden=\"true\"><span class=\"a-price-symbol\">$</span><span class=\"a-price-whole\">20<span class=\"a-price-decimal\">\\x00</span></span><span class=\"a-price-fraction\">74</span></span></span>\\n                                \\n                                \\n                            \\n                        \\n                    \\n                </td>\\n\\n\\n                \\n                    <td class=\"comparison_sim_items_column comparable_item0\">\\n                    \\n                        \\n                        \\n                        \\n                            \\n                                \\n                                    <span class=\"a-price\" data-a-size=\"l\" data-a-color=\"base\"><span class=\"a-offscreen\">$15.25</span><span aria-hidden=\"true\"><span class=\"a-price-symbol\">$</span><span class=\"a-price-whole\">15<span class=\"a-price-decimal\">\\x00</span></span><span class=\"a-price-fraction\">25</span></span></span>\\n                                \\n                                \\n                            \\n                        \\n                    \\n                    </td>\\n                \\n                    <td class=\"comparison_sim_items_column comparable_item1\">\\n                    \\n                        \\n                        \\n                        \\n                            \\n                                \\n                                    <span class=\"a-price\" data-a-size=\"l\" data-a-color=\"base\"><span class=\"a-offscreen\">$36.99</span><span aria-hidden=\"true\"><span class=\"a-price-symbol\">$</span><span class=\"a-price-whole\">36<span class=\"a-price-decimal\">\\x00</span></span><span class=\"a-price-fraction\">99</span></span></span>\\n                                \\n                                \\n                            \\n                        \\n                    \\n                    </td>\\n                \\n                    <td class=\"comparison_sim_items_column comparable_item2\">\\n                    \\n                        \\n                        \\n                        \\n                            \\n                                \\n                                    <span class=\"a-price\" data-a-size=\"l\" data-a-color=\"base\"><span class=\"a-offscreen\">$25.51</span><span aria-hidden=\"true\"><span class=\"a-price-symbol\">$</span><span class=\"a-price-whole\">25<span class=\"a-price-decimal\">\\x00</span></span><span class=\"a-price-fraction\">51</span></span></span>\\n                                \\n                                \\n                            \\n                        \\n                    \\n                    </td>\\n                \\n            </tr>\\n\\n\\n    \\n                <tr id=\"comparison_shipping_info_row\">\\n                    <th class=\"comparison_attribute_name_column comparison_table_first_col\" role=\"rowheader\">\\n                        <span class=\"a-size-base a-color-base\">Shipping</span>\\n                    </th>\\n\\n    \\n                    <td class=\"comparison_baseitem_column\">\\n                        \\n                            \\n                            \\n                            \\n                                <span class=\"a-size-base a-color-base\">Eligible for FREE Shipping</span>\\n                            \\n                            \\n                            \\n                            \\n                            \\n                        \\n                    </td>\\n\\n    \\n                    \\n                        <td class=\"comparison_sim_items_column comparable_item0\">\\n                            \\n                                \\n                                \\n                                    <span class=\"a-size-base a-color-base\">Eligible for FREE Shipping</span>\\n                                \\n                                \\n                                \\n                                \\n                                \\n                            \\n                        </td>\\n                    \\n                        <td class=\"comparison_sim_items_column comparable_item1\">\\n                            \\n                                \\n                                \\n                                \\n                                \\n                                \\n                                    <span class=\"a-size-base a-color-price a-text-bold\">$4.49</span>\\n                                \\n                                \\n                            \\n                        </td>\\n                    \\n                        <td class=\"comparison_sim_items_column comparable_item2\">\\n                            \\n                                \\n                                \\n                                \\n                                \\n                                \\n                                    <span class=\"a-size-base a-color-price a-text-bold\">$4.49</span>\\n                                \\n                                \\n                            \\n                        </td>\\n                    \\n                </tr>\\n\\n\\n\\n            <tr id=\"comparison_sold_by_row\">\\n                <th class=\"comparison_attribute_name_column comparison_table_first_col\" role=\"rowheader\">\\n                    <span class=\"a-size-base a-color-base\">Sold By</span>\\n                </th>\\n\\n  \\n                <td class=\"comparison_baseitem_column\">\\n                    \\n                        \\n                        \\n                        \\n                            <a class=\"a-spacing-top-small a-link-normal\" target=\"_self\" rel=\"noopener\" href=\"/gp/help/seller/at-a-glance.html/ref=psdc_10304191_s0_B01HIUEEHO?ie=UTF8&amp;seller=A25YEU9EMIVXVC\">TILTON GRAY</a>\\n                        \\n                     \\n                </td>\\n\\n\\n                \\n                    <td class=\"comparison_sim_items_column comparable_item0\">\\n                         \\n                            \\n                         \\n                             <a class=\"a-spacing-top-small a-link-normal\" target=\"_self\" rel=\"noopener\" href=\"/gp/help/seller/at-a-glance.html/ref=psdc_10304191_s1_B01HIUEEHO?ie=UTF8&amp;seller=A2GV1O0AYGRZLM\">stephanie nelson</a>\\n                         \\n                         \\n                     </td>\\n                \\n                    <td class=\"comparison_sim_items_column comparable_item1\">\\n                         \\n                            \\n                         \\n                             <a class=\"a-spacing-top-small a-link-normal\" target=\"_self\" rel=\"noopener\" href=\"/gp/help/seller/at-a-glance.html/ref=psdc_10304191_s2_B01HIUEEHO?ie=UTF8&amp;seller=A2AZ7JNT9N1GWO\">24x7 toys</a>\\n                         \\n                         \\n                     </td>\\n                \\n                    <td class=\"comparison_sim_items_column comparable_item2\">\\n                         \\n                            \\n                         \\n                             <a class=\"a-spacing-top-small a-link-normal\" target=\"_self\" rel=\"noopener\" href=\"/gp/help/seller/at-a-glance.html/ref=psdc_10304191_s3_B01HIUEEHO?ie=UTF8&amp;seller=A2AZ7JNT9N1GWO\">24x7 toys</a>\\n                         \\n                         \\n                     </td>\\n                \\n             </tr>\\n\\n\\n            \\n       ']\n",
            "# details: 22402    {'\n",
            "    Product Dimensions: \n",
            "    ': '13.4 x 9 x...\n",
            "6809                              {'ASIN: ': 'B007R2UV80'}\n",
            "4718     {'\n",
            "    Product Dimensions: \n",
            "    ': '32 x 1 x 2...\n",
            "22695                             {'ASIN: ': 'B013AA1IUC'}\n",
            "17778                             {'ASIN: ': 'B00Q4253QE'}\n",
            "Name: details, dtype: object\n"
          ]
        }
      ],
      "id": "fyANlkXYLWt_"
    },
    {
      "cell_type": "code",
      "source": [
        "metadata.head(1)"
      ],
      "metadata": {
        "colab": {
          "base_uri": "https://localhost:8080/",
          "height": 0
        },
        "id": "QlY8o72oE0dq",
        "outputId": "6536b229-6849-49cb-b338-c993367715c9"
      },
      "execution_count": 11,
      "outputs": [
        {
          "output_type": "execute_result",
          "data": {
            "text/html": [
              "\n",
              "  <div id=\"df-c54f0703-afd5-42b5-a3bd-f274c0fdcbcc\">\n",
              "    <div class=\"colab-df-container\">\n",
              "      <div>\n",
              "<style scoped>\n",
              "    .dataframe tbody tr th:only-of-type {\n",
              "        vertical-align: middle;\n",
              "    }\n",
              "\n",
              "    .dataframe tbody tr th {\n",
              "        vertical-align: top;\n",
              "    }\n",
              "\n",
              "    .dataframe thead th {\n",
              "        text-align: right;\n",
              "    }\n",
              "</style>\n",
              "<table border=\"1\" class=\"dataframe\">\n",
              "  <thead>\n",
              "    <tr style=\"text-align: right;\">\n",
              "      <th></th>\n",
              "      <th>category</th>\n",
              "      <th>tech1</th>\n",
              "      <th>description</th>\n",
              "      <th>fit</th>\n",
              "      <th>title</th>\n",
              "      <th>also_buy</th>\n",
              "      <th>tech2</th>\n",
              "      <th>brand</th>\n",
              "      <th>feature</th>\n",
              "      <th>rank</th>\n",
              "      <th>also_view</th>\n",
              "      <th>details</th>\n",
              "      <th>main_cat</th>\n",
              "      <th>similar_item</th>\n",
              "      <th>date</th>\n",
              "      <th>price</th>\n",
              "      <th>asin</th>\n",
              "      <th>imageURL</th>\n",
              "      <th>imageURLHighRes</th>\n",
              "    </tr>\n",
              "  </thead>\n",
              "  <tbody>\n",
              "    <tr>\n",
              "      <th>0</th>\n",
              "      <td>[]</td>\n",
              "      <td></td>\n",
              "      <td>[Loud 'N Clear Personal Sound Amplifier allows...</td>\n",
              "      <td></td>\n",
              "      <td>Loud 'N Clear&amp;trade; Personal Sound Amplifier</td>\n",
              "      <td>[]</td>\n",
              "      <td></td>\n",
              "      <td>idea village</td>\n",
              "      <td>[]</td>\n",
              "      <td>2,938,573 in Beauty &amp; Personal Care (</td>\n",
              "      <td>[]</td>\n",
              "      <td>{'ASIN: ': '6546546450'}</td>\n",
              "      <td>All Beauty</td>\n",
              "      <td></td>\n",
              "      <td></td>\n",
              "      <td></td>\n",
              "      <td>6546546450</td>\n",
              "      <td>[]</td>\n",
              "      <td>[]</td>\n",
              "    </tr>\n",
              "  </tbody>\n",
              "</table>\n",
              "</div>\n",
              "      <button class=\"colab-df-convert\" onclick=\"convertToInteractive('df-c54f0703-afd5-42b5-a3bd-f274c0fdcbcc')\"\n",
              "              title=\"Convert this dataframe to an interactive table.\"\n",
              "              style=\"display:none;\">\n",
              "        \n",
              "  <svg xmlns=\"http://www.w3.org/2000/svg\" height=\"24px\"viewBox=\"0 0 24 24\"\n",
              "       width=\"24px\">\n",
              "    <path d=\"M0 0h24v24H0V0z\" fill=\"none\"/>\n",
              "    <path d=\"M18.56 5.44l.94 2.06.94-2.06 2.06-.94-2.06-.94-.94-2.06-.94 2.06-2.06.94zm-11 1L8.5 8.5l.94-2.06 2.06-.94-2.06-.94L8.5 2.5l-.94 2.06-2.06.94zm10 10l.94 2.06.94-2.06 2.06-.94-2.06-.94-.94-2.06-.94 2.06-2.06.94z\"/><path d=\"M17.41 7.96l-1.37-1.37c-.4-.4-.92-.59-1.43-.59-.52 0-1.04.2-1.43.59L10.3 9.45l-7.72 7.72c-.78.78-.78 2.05 0 2.83L4 21.41c.39.39.9.59 1.41.59.51 0 1.02-.2 1.41-.59l7.78-7.78 2.81-2.81c.8-.78.8-2.07 0-2.86zM5.41 20L4 18.59l7.72-7.72 1.47 1.35L5.41 20z\"/>\n",
              "  </svg>\n",
              "      </button>\n",
              "      \n",
              "  <style>\n",
              "    .colab-df-container {\n",
              "      display:flex;\n",
              "      flex-wrap:wrap;\n",
              "      gap: 12px;\n",
              "    }\n",
              "\n",
              "    .colab-df-convert {\n",
              "      background-color: #E8F0FE;\n",
              "      border: none;\n",
              "      border-radius: 50%;\n",
              "      cursor: pointer;\n",
              "      display: none;\n",
              "      fill: #1967D2;\n",
              "      height: 32px;\n",
              "      padding: 0 0 0 0;\n",
              "      width: 32px;\n",
              "    }\n",
              "\n",
              "    .colab-df-convert:hover {\n",
              "      background-color: #E2EBFA;\n",
              "      box-shadow: 0px 1px 2px rgba(60, 64, 67, 0.3), 0px 1px 3px 1px rgba(60, 64, 67, 0.15);\n",
              "      fill: #174EA6;\n",
              "    }\n",
              "\n",
              "    [theme=dark] .colab-df-convert {\n",
              "      background-color: #3B4455;\n",
              "      fill: #D2E3FC;\n",
              "    }\n",
              "\n",
              "    [theme=dark] .colab-df-convert:hover {\n",
              "      background-color: #434B5C;\n",
              "      box-shadow: 0px 1px 3px 1px rgba(0, 0, 0, 0.15);\n",
              "      filter: drop-shadow(0px 1px 2px rgba(0, 0, 0, 0.3));\n",
              "      fill: #FFFFFF;\n",
              "    }\n",
              "  </style>\n",
              "\n",
              "      <script>\n",
              "        const buttonEl =\n",
              "          document.querySelector('#df-c54f0703-afd5-42b5-a3bd-f274c0fdcbcc button.colab-df-convert');\n",
              "        buttonEl.style.display =\n",
              "          google.colab.kernel.accessAllowed ? 'block' : 'none';\n",
              "\n",
              "        async function convertToInteractive(key) {\n",
              "          const element = document.querySelector('#df-c54f0703-afd5-42b5-a3bd-f274c0fdcbcc');\n",
              "          const dataTable =\n",
              "            await google.colab.kernel.invokeFunction('convertToInteractive',\n",
              "                                                     [key], {});\n",
              "          if (!dataTable) return;\n",
              "\n",
              "          const docLinkHtml = 'Like what you see? Visit the ' +\n",
              "            '<a target=\"_blank\" href=https://colab.research.google.com/notebooks/data_table.ipynb>data table notebook</a>'\n",
              "            + ' to learn more about interactive tables.';\n",
              "          element.innerHTML = '';\n",
              "          dataTable['output_type'] = 'display_data';\n",
              "          await google.colab.output.renderOutput(dataTable, element);\n",
              "          const docLink = document.createElement('div');\n",
              "          docLink.innerHTML = docLinkHtml;\n",
              "          element.appendChild(docLink);\n",
              "        }\n",
              "      </script>\n",
              "    </div>\n",
              "  </div>\n",
              "  "
            ],
            "text/plain": [
              "  category tech1  ... imageURL imageURLHighRes\n",
              "0       []        ...       []              []\n",
              "\n",
              "[1 rows x 19 columns]"
            ]
          },
          "metadata": {},
          "execution_count": 11
        }
      ],
      "id": "QlY8o72oE0dq"
    },
    {
      "cell_type": "code",
      "source": [
        "(metadata.asin.value_counts()!=1).sum()"
      ],
      "metadata": {
        "colab": {
          "base_uri": "https://localhost:8080/"
        },
        "id": "YguA4chfnOXm",
        "outputId": "bdc0c946-846d-4107-8bc3-c5d09f8616fb"
      },
      "id": "YguA4chfnOXm",
      "execution_count": 12,
      "outputs": [
        {
          "output_type": "execute_result",
          "data": {
            "text/plain": [
              "404"
            ]
          },
          "metadata": {},
          "execution_count": 12
        }
      ]
    },
    {
      "cell_type": "code",
      "source": [
        "metadata_clean = metadata[['asin', 'title', 'description', 'rank', 'brand', 'price', 'also_view', 'also_buy']]\n",
        "metadata_clean = metadata_clean.drop_duplicates('asin')\n",
        "metadata_clean.head(1)"
      ],
      "metadata": {
        "colab": {
          "base_uri": "https://localhost:8080/",
          "height": 0
        },
        "id": "YLb4Ie78BUC1",
        "outputId": "11625041-9d84-4559-c3f7-6d85096bd2fa"
      },
      "execution_count": 13,
      "outputs": [
        {
          "output_type": "execute_result",
          "data": {
            "text/html": [
              "\n",
              "  <div id=\"df-9666a38b-a962-47a0-a3d0-e1efb2e6f541\">\n",
              "    <div class=\"colab-df-container\">\n",
              "      <div>\n",
              "<style scoped>\n",
              "    .dataframe tbody tr th:only-of-type {\n",
              "        vertical-align: middle;\n",
              "    }\n",
              "\n",
              "    .dataframe tbody tr th {\n",
              "        vertical-align: top;\n",
              "    }\n",
              "\n",
              "    .dataframe thead th {\n",
              "        text-align: right;\n",
              "    }\n",
              "</style>\n",
              "<table border=\"1\" class=\"dataframe\">\n",
              "  <thead>\n",
              "    <tr style=\"text-align: right;\">\n",
              "      <th></th>\n",
              "      <th>asin</th>\n",
              "      <th>title</th>\n",
              "      <th>description</th>\n",
              "      <th>rank</th>\n",
              "      <th>brand</th>\n",
              "      <th>price</th>\n",
              "      <th>also_view</th>\n",
              "      <th>also_buy</th>\n",
              "    </tr>\n",
              "  </thead>\n",
              "  <tbody>\n",
              "    <tr>\n",
              "      <th>0</th>\n",
              "      <td>6546546450</td>\n",
              "      <td>Loud 'N Clear&amp;trade; Personal Sound Amplifier</td>\n",
              "      <td>[Loud 'N Clear Personal Sound Amplifier allows...</td>\n",
              "      <td>2,938,573 in Beauty &amp; Personal Care (</td>\n",
              "      <td>idea village</td>\n",
              "      <td></td>\n",
              "      <td>[]</td>\n",
              "      <td>[]</td>\n",
              "    </tr>\n",
              "  </tbody>\n",
              "</table>\n",
              "</div>\n",
              "      <button class=\"colab-df-convert\" onclick=\"convertToInteractive('df-9666a38b-a962-47a0-a3d0-e1efb2e6f541')\"\n",
              "              title=\"Convert this dataframe to an interactive table.\"\n",
              "              style=\"display:none;\">\n",
              "        \n",
              "  <svg xmlns=\"http://www.w3.org/2000/svg\" height=\"24px\"viewBox=\"0 0 24 24\"\n",
              "       width=\"24px\">\n",
              "    <path d=\"M0 0h24v24H0V0z\" fill=\"none\"/>\n",
              "    <path d=\"M18.56 5.44l.94 2.06.94-2.06 2.06-.94-2.06-.94-.94-2.06-.94 2.06-2.06.94zm-11 1L8.5 8.5l.94-2.06 2.06-.94-2.06-.94L8.5 2.5l-.94 2.06-2.06.94zm10 10l.94 2.06.94-2.06 2.06-.94-2.06-.94-.94-2.06-.94 2.06-2.06.94z\"/><path d=\"M17.41 7.96l-1.37-1.37c-.4-.4-.92-.59-1.43-.59-.52 0-1.04.2-1.43.59L10.3 9.45l-7.72 7.72c-.78.78-.78 2.05 0 2.83L4 21.41c.39.39.9.59 1.41.59.51 0 1.02-.2 1.41-.59l7.78-7.78 2.81-2.81c.8-.78.8-2.07 0-2.86zM5.41 20L4 18.59l7.72-7.72 1.47 1.35L5.41 20z\"/>\n",
              "  </svg>\n",
              "      </button>\n",
              "      \n",
              "  <style>\n",
              "    .colab-df-container {\n",
              "      display:flex;\n",
              "      flex-wrap:wrap;\n",
              "      gap: 12px;\n",
              "    }\n",
              "\n",
              "    .colab-df-convert {\n",
              "      background-color: #E8F0FE;\n",
              "      border: none;\n",
              "      border-radius: 50%;\n",
              "      cursor: pointer;\n",
              "      display: none;\n",
              "      fill: #1967D2;\n",
              "      height: 32px;\n",
              "      padding: 0 0 0 0;\n",
              "      width: 32px;\n",
              "    }\n",
              "\n",
              "    .colab-df-convert:hover {\n",
              "      background-color: #E2EBFA;\n",
              "      box-shadow: 0px 1px 2px rgba(60, 64, 67, 0.3), 0px 1px 3px 1px rgba(60, 64, 67, 0.15);\n",
              "      fill: #174EA6;\n",
              "    }\n",
              "\n",
              "    [theme=dark] .colab-df-convert {\n",
              "      background-color: #3B4455;\n",
              "      fill: #D2E3FC;\n",
              "    }\n",
              "\n",
              "    [theme=dark] .colab-df-convert:hover {\n",
              "      background-color: #434B5C;\n",
              "      box-shadow: 0px 1px 3px 1px rgba(0, 0, 0, 0.15);\n",
              "      filter: drop-shadow(0px 1px 2px rgba(0, 0, 0, 0.3));\n",
              "      fill: #FFFFFF;\n",
              "    }\n",
              "  </style>\n",
              "\n",
              "      <script>\n",
              "        const buttonEl =\n",
              "          document.querySelector('#df-9666a38b-a962-47a0-a3d0-e1efb2e6f541 button.colab-df-convert');\n",
              "        buttonEl.style.display =\n",
              "          google.colab.kernel.accessAllowed ? 'block' : 'none';\n",
              "\n",
              "        async function convertToInteractive(key) {\n",
              "          const element = document.querySelector('#df-9666a38b-a962-47a0-a3d0-e1efb2e6f541');\n",
              "          const dataTable =\n",
              "            await google.colab.kernel.invokeFunction('convertToInteractive',\n",
              "                                                     [key], {});\n",
              "          if (!dataTable) return;\n",
              "\n",
              "          const docLinkHtml = 'Like what you see? Visit the ' +\n",
              "            '<a target=\"_blank\" href=https://colab.research.google.com/notebooks/data_table.ipynb>data table notebook</a>'\n",
              "            + ' to learn more about interactive tables.';\n",
              "          element.innerHTML = '';\n",
              "          dataTable['output_type'] = 'display_data';\n",
              "          await google.colab.output.renderOutput(dataTable, element);\n",
              "          const docLink = document.createElement('div');\n",
              "          docLink.innerHTML = docLinkHtml;\n",
              "          element.appendChild(docLink);\n",
              "        }\n",
              "      </script>\n",
              "    </div>\n",
              "  </div>\n",
              "  "
            ],
            "text/plain": [
              "         asin                                          title  ... also_view also_buy\n",
              "0  6546546450  Loud 'N Clear&trade; Personal Sound Amplifier  ...        []       []\n",
              "\n",
              "[1 rows x 8 columns]"
            ]
          },
          "metadata": {},
          "execution_count": 13
        }
      ],
      "id": "YLb4Ie78BUC1"
    },
    {
      "cell_type": "code",
      "source": [
        "metadata_clean['description'] = metadata_clean['description'].apply(lambda x: ''.join(x))\n",
        "metadata_clean['text'] = metadata_clean['title'] + metadata_clean['description']\n",
        "# metadata_clean['text'] = metadata_clean['title']\n",
        "# metadata_clean['text'] = metadata_clean['description']\n",
        "metadata_clean['text'] = metadata_clean['text'].apply(lambda x: x.lower())"
      ],
      "metadata": {
        "id": "xL9G29U5e0XO"
      },
      "id": "xL9G29U5e0XO",
      "execution_count": 14,
      "outputs": []
    },
    {
      "cell_type": "code",
      "source": [
        "metadata_clean['price'] = metadata_clean['price'].str.replace('$', '')\n",
        "metadata_clean['price'] = pd.to_numeric(metadata_clean['price'], errors = 'coerce')"
      ],
      "metadata": {
        "id": "2laCdlHhMpHq"
      },
      "execution_count": 15,
      "outputs": [],
      "id": "2laCdlHhMpHq"
    },
    {
      "cell_type": "code",
      "source": [
        "metadata_clean['cate'] = metadata_clean['rank'].str.split(' in ').str[1]\n",
        "metadata_clean['cate'] = metadata_clean['cate'].str.replace('amp;', '')\n",
        "metadata_clean['cate'] = metadata_clean['cate'].str.replace(' \\(', '')\n",
        "metadata_clean['cate'].unique()"
      ],
      "metadata": {
        "colab": {
          "base_uri": "https://localhost:8080/"
        },
        "id": "SOav6QnuEVJa",
        "outputId": "77e72db8-6917-46be-8c3f-207a0be5df21"
      },
      "execution_count": 16,
      "outputs": [
        {
          "output_type": "execute_result",
          "data": {
            "text/plain": [
              "array(['Beauty & Personal Care', nan, 'Grocery & Gourmet Food',\n",
              "       'Health & Household', 'Sports & Outdoors', 'Toys & Games', 'Baby',\n",
              "       'Clothing, Shoes & Jewelry', 'Home & Kitchen', 'Automotive',\n",
              "       'Tools & Home Improvement'], dtype=object)"
            ]
          },
          "metadata": {},
          "execution_count": 16
        }
      ],
      "id": "SOav6QnuEVJa"
    },
    {
      "cell_type": "code",
      "source": [
        "metadata_clean['rank'] = metadata_clean['rank'].str.split(expand = True)[0]\n",
        "metadata_clean['rank'] = metadata_clean['rank'].str.replace(',', '')\n",
        "metadata_clean['rank'] = pd.to_numeric(metadata_clean['rank'])"
      ],
      "metadata": {
        "id": "huzcQB3WEDuh"
      },
      "execution_count": 17,
      "outputs": [],
      "id": "huzcQB3WEDuh"
    },
    {
      "cell_type": "code",
      "source": [
        "metadata_clean.head(1)"
      ],
      "metadata": {
        "colab": {
          "base_uri": "https://localhost:8080/",
          "height": 0
        },
        "id": "lyzLudoqKxRM",
        "outputId": "97b90ead-e6a8-4203-b5b8-7503b1ae307c"
      },
      "execution_count": 18,
      "outputs": [
        {
          "output_type": "execute_result",
          "data": {
            "text/html": [
              "\n",
              "  <div id=\"df-d04a825f-80a1-4324-8ca4-c146ea0e8e29\">\n",
              "    <div class=\"colab-df-container\">\n",
              "      <div>\n",
              "<style scoped>\n",
              "    .dataframe tbody tr th:only-of-type {\n",
              "        vertical-align: middle;\n",
              "    }\n",
              "\n",
              "    .dataframe tbody tr th {\n",
              "        vertical-align: top;\n",
              "    }\n",
              "\n",
              "    .dataframe thead th {\n",
              "        text-align: right;\n",
              "    }\n",
              "</style>\n",
              "<table border=\"1\" class=\"dataframe\">\n",
              "  <thead>\n",
              "    <tr style=\"text-align: right;\">\n",
              "      <th></th>\n",
              "      <th>asin</th>\n",
              "      <th>title</th>\n",
              "      <th>description</th>\n",
              "      <th>rank</th>\n",
              "      <th>brand</th>\n",
              "      <th>price</th>\n",
              "      <th>also_view</th>\n",
              "      <th>also_buy</th>\n",
              "      <th>text</th>\n",
              "      <th>cate</th>\n",
              "    </tr>\n",
              "  </thead>\n",
              "  <tbody>\n",
              "    <tr>\n",
              "      <th>0</th>\n",
              "      <td>6546546450</td>\n",
              "      <td>Loud 'N Clear&amp;trade; Personal Sound Amplifier</td>\n",
              "      <td>Loud 'N Clear Personal Sound Amplifier allows ...</td>\n",
              "      <td>2938573.0</td>\n",
              "      <td>idea village</td>\n",
              "      <td>NaN</td>\n",
              "      <td>[]</td>\n",
              "      <td>[]</td>\n",
              "      <td>loud 'n clear&amp;trade; personal sound amplifierl...</td>\n",
              "      <td>Beauty &amp; Personal Care</td>\n",
              "    </tr>\n",
              "  </tbody>\n",
              "</table>\n",
              "</div>\n",
              "      <button class=\"colab-df-convert\" onclick=\"convertToInteractive('df-d04a825f-80a1-4324-8ca4-c146ea0e8e29')\"\n",
              "              title=\"Convert this dataframe to an interactive table.\"\n",
              "              style=\"display:none;\">\n",
              "        \n",
              "  <svg xmlns=\"http://www.w3.org/2000/svg\" height=\"24px\"viewBox=\"0 0 24 24\"\n",
              "       width=\"24px\">\n",
              "    <path d=\"M0 0h24v24H0V0z\" fill=\"none\"/>\n",
              "    <path d=\"M18.56 5.44l.94 2.06.94-2.06 2.06-.94-2.06-.94-.94-2.06-.94 2.06-2.06.94zm-11 1L8.5 8.5l.94-2.06 2.06-.94-2.06-.94L8.5 2.5l-.94 2.06-2.06.94zm10 10l.94 2.06.94-2.06 2.06-.94-2.06-.94-.94-2.06-.94 2.06-2.06.94z\"/><path d=\"M17.41 7.96l-1.37-1.37c-.4-.4-.92-.59-1.43-.59-.52 0-1.04.2-1.43.59L10.3 9.45l-7.72 7.72c-.78.78-.78 2.05 0 2.83L4 21.41c.39.39.9.59 1.41.59.51 0 1.02-.2 1.41-.59l7.78-7.78 2.81-2.81c.8-.78.8-2.07 0-2.86zM5.41 20L4 18.59l7.72-7.72 1.47 1.35L5.41 20z\"/>\n",
              "  </svg>\n",
              "      </button>\n",
              "      \n",
              "  <style>\n",
              "    .colab-df-container {\n",
              "      display:flex;\n",
              "      flex-wrap:wrap;\n",
              "      gap: 12px;\n",
              "    }\n",
              "\n",
              "    .colab-df-convert {\n",
              "      background-color: #E8F0FE;\n",
              "      border: none;\n",
              "      border-radius: 50%;\n",
              "      cursor: pointer;\n",
              "      display: none;\n",
              "      fill: #1967D2;\n",
              "      height: 32px;\n",
              "      padding: 0 0 0 0;\n",
              "      width: 32px;\n",
              "    }\n",
              "\n",
              "    .colab-df-convert:hover {\n",
              "      background-color: #E2EBFA;\n",
              "      box-shadow: 0px 1px 2px rgba(60, 64, 67, 0.3), 0px 1px 3px 1px rgba(60, 64, 67, 0.15);\n",
              "      fill: #174EA6;\n",
              "    }\n",
              "\n",
              "    [theme=dark] .colab-df-convert {\n",
              "      background-color: #3B4455;\n",
              "      fill: #D2E3FC;\n",
              "    }\n",
              "\n",
              "    [theme=dark] .colab-df-convert:hover {\n",
              "      background-color: #434B5C;\n",
              "      box-shadow: 0px 1px 3px 1px rgba(0, 0, 0, 0.15);\n",
              "      filter: drop-shadow(0px 1px 2px rgba(0, 0, 0, 0.3));\n",
              "      fill: #FFFFFF;\n",
              "    }\n",
              "  </style>\n",
              "\n",
              "      <script>\n",
              "        const buttonEl =\n",
              "          document.querySelector('#df-d04a825f-80a1-4324-8ca4-c146ea0e8e29 button.colab-df-convert');\n",
              "        buttonEl.style.display =\n",
              "          google.colab.kernel.accessAllowed ? 'block' : 'none';\n",
              "\n",
              "        async function convertToInteractive(key) {\n",
              "          const element = document.querySelector('#df-d04a825f-80a1-4324-8ca4-c146ea0e8e29');\n",
              "          const dataTable =\n",
              "            await google.colab.kernel.invokeFunction('convertToInteractive',\n",
              "                                                     [key], {});\n",
              "          if (!dataTable) return;\n",
              "\n",
              "          const docLinkHtml = 'Like what you see? Visit the ' +\n",
              "            '<a target=\"_blank\" href=https://colab.research.google.com/notebooks/data_table.ipynb>data table notebook</a>'\n",
              "            + ' to learn more about interactive tables.';\n",
              "          element.innerHTML = '';\n",
              "          dataTable['output_type'] = 'display_data';\n",
              "          await google.colab.output.renderOutput(dataTable, element);\n",
              "          const docLink = document.createElement('div');\n",
              "          docLink.innerHTML = docLinkHtml;\n",
              "          element.appendChild(docLink);\n",
              "        }\n",
              "      </script>\n",
              "    </div>\n",
              "  </div>\n",
              "  "
            ],
            "text/plain": [
              "         asin  ...                    cate\n",
              "0  6546546450  ...  Beauty & Personal Care\n",
              "\n",
              "[1 rows x 10 columns]"
            ]
          },
          "metadata": {},
          "execution_count": 18
        }
      ],
      "id": "lyzLudoqKxRM"
    },
    {
      "cell_type": "markdown",
      "id": "054eeba4",
      "metadata": {
        "id": "054eeba4"
      },
      "source": [
        "## 資料切分\n",
        "\n",
        "ratings_trainings"
      ]
    },
    {
      "cell_type": "code",
      "execution_count": 19,
      "id": "284b14a8",
      "metadata": {
        "id": "284b14a8"
      },
      "outputs": [],
      "source": [
        "ratings_trainings = ratings[\n",
        "    (ratings['DATE'] < '2018-09-01')\n",
        "]\n",
        "ratings_trainings.drop_duplicates(inplace=True)\n",
        "ratings_testings = ratings[\n",
        "    (ratings['DATE'] >= '2018-09-01') & \n",
        "    (ratings['DATE'] <= '2018-09-30')\n",
        "]\n",
        "ratings_testings_by_user = ratings_testings.groupby('reviewerID').agg(list).reset_index()[['reviewerID', 'asin']].to_dict('records')\n",
        "ratings_testings_by_user = { rating['reviewerID']: rating['asin'] for rating in ratings_testings_by_user }\n",
        "users = list(ratings_testings_by_user.keys())"
      ]
    },
    {
      "cell_type": "code",
      "source": [
        "users_training = ratings_trainings['reviewerID'].unique()"
      ],
      "metadata": {
        "id": "5ilhZyJtfxlm"
      },
      "id": "5ilhZyJtfxlm",
      "execution_count": 20,
      "outputs": []
    },
    {
      "cell_type": "code",
      "source": [
        "ratings_trainings['asin'].value_counts().describe()"
      ],
      "metadata": {
        "colab": {
          "base_uri": "https://localhost:8080/"
        },
        "id": "sBnj37aycd7J",
        "outputId": "bc6b8808-1e84-4921-956a-4e52df5349c2"
      },
      "execution_count": 21,
      "outputs": [
        {
          "output_type": "execute_result",
          "data": {
            "text/plain": [
              "count    32582.000000\n",
              "mean        11.100669\n",
              "std         95.092360\n",
              "min          1.000000\n",
              "25%          1.000000\n",
              "50%          2.000000\n",
              "75%          5.000000\n",
              "max       8667.000000\n",
              "Name: asin, dtype: float64"
            ]
          },
          "metadata": {},
          "execution_count": 21
        }
      ],
      "id": "sBnj37aycd7J"
    },
    {
      "cell_type": "code",
      "source": [
        "ratings_trainings['overall'].describe()"
      ],
      "metadata": {
        "colab": {
          "base_uri": "https://localhost:8080/"
        },
        "id": "OB1ele4_tHYB",
        "outputId": "d0e1f20e-1af9-4cee-92f9-f14b25f97cc8"
      },
      "execution_count": 22,
      "outputs": [
        {
          "output_type": "execute_result",
          "data": {
            "text/plain": [
              "count    361682.000000\n",
              "mean          4.107785\n",
              "std           1.364594\n",
              "min           1.000000\n",
              "25%           4.000000\n",
              "50%           5.000000\n",
              "75%           5.000000\n",
              "max           5.000000\n",
              "Name: overall, dtype: float64"
            ]
          },
          "metadata": {},
          "execution_count": 22
        }
      ],
      "id": "OB1ele4_tHYB"
    },
    {
      "cell_type": "markdown",
      "source": [
        "## Metadata 樣態分析\n",
        "\n",
        "依照上次rule-based經驗，採用前兩個月的資料來作分析"
      ],
      "metadata": {
        "id": "OIJmnKy9IcIW"
      },
      "id": "OIJmnKy9IcIW"
    },
    {
      "cell_type": "markdown",
      "source": [
        "### 讀取資料"
      ],
      "metadata": {
        "id": "W95nBuUMVfJt"
      },
      "id": "W95nBuUMVfJt"
    },
    {
      "cell_type": "code",
      "source": [
        "import datetime\n",
        "training_data = ratings_trainings[(ratings_trainings['DATE'] + datetime.timedelta(days = 9999)) > '2018-09-01']\n",
        "ratehot_table = training_data.groupby(by = ['asin']).aggregate({'overall':['mean', 'size']})['overall']\n",
        "metadata_clean = pd.merge(metadata_clean, ratehot_table, on='asin', how='left')\n",
        "metadata_clean.sort_values(['size'], ascending=False, inplace=True)"
      ],
      "metadata": {
        "id": "UekTQF_nIgh-"
      },
      "id": "UekTQF_nIgh-",
      "execution_count": 23,
      "outputs": []
    },
    {
      "cell_type": "code",
      "source": [
        "df = pd.merge(training_data, metadata_clean[['asin', 'cate', 'brand', 'price', 'rank', 'mean', 'size']], on='asin', how='left')\n",
        "df.loc[np.isnan(df['size']), 'size'] = 0\n",
        "df.shape"
      ],
      "metadata": {
        "id": "TzAy6qQuJ7bs",
        "colab": {
          "base_uri": "https://localhost:8080/"
        },
        "outputId": "f525f9c1-f82a-4912-979f-706304b13190"
      },
      "id": "TzAy6qQuJ7bs",
      "execution_count": 24,
      "outputs": [
        {
          "output_type": "execute_result",
          "data": {
            "text/plain": [
              "(361682, 11)"
            ]
          },
          "metadata": {},
          "execution_count": 24
        }
      ]
    },
    {
      "cell_type": "code",
      "source": [
        "df.sample(5)"
      ],
      "metadata": {
        "colab": {
          "base_uri": "https://localhost:8080/",
          "height": 336
        },
        "id": "r8pRTT-sLijm",
        "outputId": "cf8d289a-6a57-45e9-8963-2ef4ff6bfecf"
      },
      "id": "r8pRTT-sLijm",
      "execution_count": 25,
      "outputs": [
        {
          "output_type": "execute_result",
          "data": {
            "text/html": [
              "\n",
              "  <div id=\"df-8d78fe77-df5a-4c05-a71b-0ca517f1bbf6\">\n",
              "    <div class=\"colab-df-container\">\n",
              "      <div>\n",
              "<style scoped>\n",
              "    .dataframe tbody tr th:only-of-type {\n",
              "        vertical-align: middle;\n",
              "    }\n",
              "\n",
              "    .dataframe tbody tr th {\n",
              "        vertical-align: top;\n",
              "    }\n",
              "\n",
              "    .dataframe thead th {\n",
              "        text-align: right;\n",
              "    }\n",
              "</style>\n",
              "<table border=\"1\" class=\"dataframe\">\n",
              "  <thead>\n",
              "    <tr style=\"text-align: right;\">\n",
              "      <th></th>\n",
              "      <th>asin</th>\n",
              "      <th>reviewerID</th>\n",
              "      <th>overall</th>\n",
              "      <th>unixReviewTime</th>\n",
              "      <th>DATE</th>\n",
              "      <th>cate</th>\n",
              "      <th>brand</th>\n",
              "      <th>price</th>\n",
              "      <th>rank</th>\n",
              "      <th>mean</th>\n",
              "      <th>size</th>\n",
              "    </tr>\n",
              "  </thead>\n",
              "  <tbody>\n",
              "    <tr>\n",
              "      <th>39372</th>\n",
              "      <td>B000GLRREU</td>\n",
              "      <td>A1DWAI9V6IS7JZ</td>\n",
              "      <td>5.0</td>\n",
              "      <td>1304467200</td>\n",
              "      <td>2011-05-04</td>\n",
              "      <td>Beauty &amp; Personal Care</td>\n",
              "      <td>Waterpik</td>\n",
              "      <td>NaN</td>\n",
              "      <td>20356.0</td>\n",
              "      <td>4.405107</td>\n",
              "      <td>8341.0</td>\n",
              "    </tr>\n",
              "    <tr>\n",
              "      <th>21211</th>\n",
              "      <td>B0009MFUOA</td>\n",
              "      <td>A2802HG1Y0BGU6</td>\n",
              "      <td>3.0</td>\n",
              "      <td>1179100800</td>\n",
              "      <td>2007-05-14</td>\n",
              "      <td>Beauty &amp; Personal Care</td>\n",
              "      <td>Philips Norelco</td>\n",
              "      <td>18.23</td>\n",
              "      <td>702129.0</td>\n",
              "      <td>3.971496</td>\n",
              "      <td>421.0</td>\n",
              "    </tr>\n",
              "    <tr>\n",
              "      <th>87973</th>\n",
              "      <td>B004BD9152</td>\n",
              "      <td>A2NWG3UDO5T4BW</td>\n",
              "      <td>5.0</td>\n",
              "      <td>1415750400</td>\n",
              "      <td>2014-11-12</td>\n",
              "      <td>Beauty &amp; Personal Care</td>\n",
              "      <td>L'Oreal Paris</td>\n",
              "      <td>5.37</td>\n",
              "      <td>167810.0</td>\n",
              "      <td>4.395833</td>\n",
              "      <td>288.0</td>\n",
              "    </tr>\n",
              "    <tr>\n",
              "      <th>169991</th>\n",
              "      <td>B00PMUTNOM</td>\n",
              "      <td>A35AHTPLH9FRSV</td>\n",
              "      <td>5.0</td>\n",
              "      <td>1466553600</td>\n",
              "      <td>2016-06-22</td>\n",
              "      <td>Beauty &amp; Personal Care</td>\n",
              "      <td>Happylifehere</td>\n",
              "      <td>10.99</td>\n",
              "      <td>71644.0</td>\n",
              "      <td>4.147059</td>\n",
              "      <td>102.0</td>\n",
              "    </tr>\n",
              "    <tr>\n",
              "      <th>41529</th>\n",
              "      <td>B000H6A02A</td>\n",
              "      <td>A1E416M0G2AH9R</td>\n",
              "      <td>2.0</td>\n",
              "      <td>1412294400</td>\n",
              "      <td>2014-10-03</td>\n",
              "      <td>Beauty &amp; Personal Care</td>\n",
              "      <td>Remington</td>\n",
              "      <td>NaN</td>\n",
              "      <td>412099.0</td>\n",
              "      <td>3.599178</td>\n",
              "      <td>973.0</td>\n",
              "    </tr>\n",
              "  </tbody>\n",
              "</table>\n",
              "</div>\n",
              "      <button class=\"colab-df-convert\" onclick=\"convertToInteractive('df-8d78fe77-df5a-4c05-a71b-0ca517f1bbf6')\"\n",
              "              title=\"Convert this dataframe to an interactive table.\"\n",
              "              style=\"display:none;\">\n",
              "        \n",
              "  <svg xmlns=\"http://www.w3.org/2000/svg\" height=\"24px\"viewBox=\"0 0 24 24\"\n",
              "       width=\"24px\">\n",
              "    <path d=\"M0 0h24v24H0V0z\" fill=\"none\"/>\n",
              "    <path d=\"M18.56 5.44l.94 2.06.94-2.06 2.06-.94-2.06-.94-.94-2.06-.94 2.06-2.06.94zm-11 1L8.5 8.5l.94-2.06 2.06-.94-2.06-.94L8.5 2.5l-.94 2.06-2.06.94zm10 10l.94 2.06.94-2.06 2.06-.94-2.06-.94-.94-2.06-.94 2.06-2.06.94z\"/><path d=\"M17.41 7.96l-1.37-1.37c-.4-.4-.92-.59-1.43-.59-.52 0-1.04.2-1.43.59L10.3 9.45l-7.72 7.72c-.78.78-.78 2.05 0 2.83L4 21.41c.39.39.9.59 1.41.59.51 0 1.02-.2 1.41-.59l7.78-7.78 2.81-2.81c.8-.78.8-2.07 0-2.86zM5.41 20L4 18.59l7.72-7.72 1.47 1.35L5.41 20z\"/>\n",
              "  </svg>\n",
              "      </button>\n",
              "      \n",
              "  <style>\n",
              "    .colab-df-container {\n",
              "      display:flex;\n",
              "      flex-wrap:wrap;\n",
              "      gap: 12px;\n",
              "    }\n",
              "\n",
              "    .colab-df-convert {\n",
              "      background-color: #E8F0FE;\n",
              "      border: none;\n",
              "      border-radius: 50%;\n",
              "      cursor: pointer;\n",
              "      display: none;\n",
              "      fill: #1967D2;\n",
              "      height: 32px;\n",
              "      padding: 0 0 0 0;\n",
              "      width: 32px;\n",
              "    }\n",
              "\n",
              "    .colab-df-convert:hover {\n",
              "      background-color: #E2EBFA;\n",
              "      box-shadow: 0px 1px 2px rgba(60, 64, 67, 0.3), 0px 1px 3px 1px rgba(60, 64, 67, 0.15);\n",
              "      fill: #174EA6;\n",
              "    }\n",
              "\n",
              "    [theme=dark] .colab-df-convert {\n",
              "      background-color: #3B4455;\n",
              "      fill: #D2E3FC;\n",
              "    }\n",
              "\n",
              "    [theme=dark] .colab-df-convert:hover {\n",
              "      background-color: #434B5C;\n",
              "      box-shadow: 0px 1px 3px 1px rgba(0, 0, 0, 0.15);\n",
              "      filter: drop-shadow(0px 1px 2px rgba(0, 0, 0, 0.3));\n",
              "      fill: #FFFFFF;\n",
              "    }\n",
              "  </style>\n",
              "\n",
              "      <script>\n",
              "        const buttonEl =\n",
              "          document.querySelector('#df-8d78fe77-df5a-4c05-a71b-0ca517f1bbf6 button.colab-df-convert');\n",
              "        buttonEl.style.display =\n",
              "          google.colab.kernel.accessAllowed ? 'block' : 'none';\n",
              "\n",
              "        async function convertToInteractive(key) {\n",
              "          const element = document.querySelector('#df-8d78fe77-df5a-4c05-a71b-0ca517f1bbf6');\n",
              "          const dataTable =\n",
              "            await google.colab.kernel.invokeFunction('convertToInteractive',\n",
              "                                                     [key], {});\n",
              "          if (!dataTable) return;\n",
              "\n",
              "          const docLinkHtml = 'Like what you see? Visit the ' +\n",
              "            '<a target=\"_blank\" href=https://colab.research.google.com/notebooks/data_table.ipynb>data table notebook</a>'\n",
              "            + ' to learn more about interactive tables.';\n",
              "          element.innerHTML = '';\n",
              "          dataTable['output_type'] = 'display_data';\n",
              "          await google.colab.output.renderOutput(dataTable, element);\n",
              "          const docLink = document.createElement('div');\n",
              "          docLink.innerHTML = docLinkHtml;\n",
              "          element.appendChild(docLink);\n",
              "        }\n",
              "      </script>\n",
              "    </div>\n",
              "  </div>\n",
              "  "
            ],
            "text/plain": [
              "              asin      reviewerID  overall  ...      rank      mean    size\n",
              "39372   B000GLRREU  A1DWAI9V6IS7JZ      5.0  ...   20356.0  4.405107  8341.0\n",
              "21211   B0009MFUOA  A2802HG1Y0BGU6      3.0  ...  702129.0  3.971496   421.0\n",
              "87973   B004BD9152  A2NWG3UDO5T4BW      5.0  ...  167810.0  4.395833   288.0\n",
              "169991  B00PMUTNOM  A35AHTPLH9FRSV      5.0  ...   71644.0  4.147059   102.0\n",
              "41529   B000H6A02A  A1E416M0G2AH9R      2.0  ...  412099.0  3.599178   973.0\n",
              "\n",
              "[5 rows x 11 columns]"
            ]
          },
          "metadata": {},
          "execution_count": 25
        }
      ]
    },
    {
      "cell_type": "markdown",
      "source": [
        "### 分類與品牌\n",
        "\n",
        "- 分類只取 Beauty & Personal Care\n",
        "- 不依照品牌作相似的推薦"
      ],
      "metadata": {
        "id": "lgtPAmUDUhPD"
      },
      "id": "lgtPAmUDUhPD"
    },
    {
      "cell_type": "markdown",
      "source": [
        "總共有的品牌跟類別"
      ],
      "metadata": {
        "id": "IVFAYIOENQ2Q"
      },
      "id": "IVFAYIOENQ2Q"
    },
    {
      "cell_type": "code",
      "source": [
        "print('brand:', len(metadata_clean['brand'].unique())-1) # nan\n",
        "print('cate:', len(metadata_clean['cate'].unique())-1) # nan"
      ],
      "metadata": {
        "colab": {
          "base_uri": "https://localhost:8080/"
        },
        "id": "Ab-aXiUfOs3v",
        "outputId": "a100638e-219f-4b28-90f5-1c35ba4df6a2"
      },
      "execution_count": 26,
      "outputs": [
        {
          "output_type": "stream",
          "name": "stdout",
          "text": [
            "brand: 7862\n",
            "cate: 10\n"
          ]
        }
      ],
      "id": "Ab-aXiUfOs3v"
    },
    {
      "cell_type": "markdown",
      "source": [
        "可以直接排除掉美妝以外的商品"
      ],
      "metadata": {
        "id": "12XimGWdNaL4"
      },
      "id": "12XimGWdNaL4"
    },
    {
      "cell_type": "code",
      "source": [
        "df.groupby('cate')['asin'].count()"
      ],
      "metadata": {
        "colab": {
          "base_uri": "https://localhost:8080/"
        },
        "id": "2d2MgC-FLS7T",
        "outputId": "e93b2e70-6336-477f-8f94-d60aa9376cab"
      },
      "id": "2d2MgC-FLS7T",
      "execution_count": 27,
      "outputs": [
        {
          "output_type": "execute_result",
          "data": {
            "text/plain": [
              "cate\n",
              "Automotive                       13\n",
              "Baby                              2\n",
              "Beauty & Personal Care       352006\n",
              "Clothing, Shoes & Jewelry         9\n",
              "Grocery & Gourmet Food          245\n",
              "Health & Household              125\n",
              "Home & Kitchen                    1\n",
              "Sports & Outdoors                18\n",
              "Tools & Home Improvement          7\n",
              "Toys & Games                      9\n",
              "Name: asin, dtype: int64"
            ]
          },
          "metadata": {},
          "execution_count": 27
        }
      ]
    },
    {
      "cell_type": "markdown",
      "source": [
        "熱銷的商品不太會帶起該品牌其他商品"
      ],
      "metadata": {
        "id": "1Ib0e2WlTwWc"
      },
      "id": "1Ib0e2WlTwWc"
    },
    {
      "cell_type": "code",
      "source": [
        "df.groupby('brand')['asin'].count().nlargest(10)"
      ],
      "metadata": {
        "colab": {
          "base_uri": "https://localhost:8080/"
        },
        "id": "s7DIEz2KNfTf",
        "outputId": "a4ad9c0c-ccf5-425b-cf15-fccc3a3f67e9"
      },
      "id": "s7DIEz2KNfTf",
      "execution_count": 28,
      "outputs": [
        {
          "output_type": "execute_result",
          "data": {
            "text/plain": [
              "brand\n",
              "                   86524\n",
              "Waterpik           17056\n",
              "Philips Norelco    12419\n",
              "Astra               4576\n",
              "Pre de Provence     3398\n",
              "Aquaphor            2882\n",
              "Braun               2636\n",
              "Gillette            2488\n",
              "Panasonic           2473\n",
              "Helen Of Troy       2291\n",
              "Name: asin, dtype: int64"
            ]
          },
          "metadata": {},
          "execution_count": 28
        }
      ]
    },
    {
      "cell_type": "code",
      "source": [
        "df[df['brand'] != \"\"].drop_duplicates().groupby([df['DATE'].dt.strftime('%B'), df['brand']])['asin'].count().nlargest(10)"
      ],
      "metadata": {
        "colab": {
          "base_uri": "https://localhost:8080/"
        },
        "id": "LtsjwZVrSUeO",
        "outputId": "5437f8ea-3784-4eae-b140-56bd04590d82"
      },
      "id": "LtsjwZVrSUeO",
      "execution_count": 29,
      "outputs": [
        {
          "output_type": "execute_result",
          "data": {
            "text/plain": [
              "DATE       brand          \n",
              "January    Waterpik           1767\n",
              "December   Waterpik           1718\n",
              "January    Philips Norelco    1565\n",
              "February   Waterpik           1514\n",
              "March      Waterpik           1448\n",
              "August     Waterpik           1434\n",
              "July       Waterpik           1366\n",
              "November   Waterpik           1359\n",
              "September  Waterpik           1332\n",
              "April      Waterpik           1328\n",
              "Name: asin, dtype: int64"
            ]
          },
          "metadata": {},
          "execution_count": 29
        }
      ]
    },
    {
      "cell_type": "code",
      "source": [
        "df[df['brand']=='Waterpik']['size'].describe()"
      ],
      "metadata": {
        "colab": {
          "base_uri": "https://localhost:8080/"
        },
        "id": "rimF_lpZTYvP",
        "outputId": "a3b07ff7-19e6-44c4-c8cd-96fd902ca819"
      },
      "id": "rimF_lpZTYvP",
      "execution_count": 30,
      "outputs": [
        {
          "output_type": "execute_result",
          "data": {
            "text/plain": [
              "count    17056.000000\n",
              "mean      8483.252697\n",
              "std        477.929165\n",
              "min          3.000000\n",
              "25%       8341.000000\n",
              "50%       8667.000000\n",
              "75%       8667.000000\n",
              "max       8667.000000\n",
              "Name: size, dtype: float64"
            ]
          },
          "metadata": {},
          "execution_count": 30
        }
      ]
    },
    {
      "cell_type": "markdown",
      "source": [
        "購買多個同品牌商品，通常都是在同一天的訂單，故若只單純就熱銷推薦，不適合直接推薦許多同品牌商品"
      ],
      "metadata": {
        "id": "cB6_MbQfUESu"
      },
      "id": "cB6_MbQfUESu"
    },
    {
      "cell_type": "code",
      "source": [
        "topuser = df.reviewerID.value_counts().keys()[:5]\n",
        "df[df['reviewerID'].isin(topuser)].sort_values('reviewerID')"
      ],
      "metadata": {
        "colab": {
          "base_uri": "https://localhost:8080/",
          "height": 0
        },
        "id": "6zYmUuArOBdu",
        "outputId": "09a0658d-5030-432f-b17e-af4574e24c55"
      },
      "id": "6zYmUuArOBdu",
      "execution_count": 31,
      "outputs": [
        {
          "output_type": "execute_result",
          "data": {
            "text/html": [
              "\n",
              "  <div id=\"df-7ec2e357-d680-44d0-a86e-d19afbf5d01d\">\n",
              "    <div class=\"colab-df-container\">\n",
              "      <div>\n",
              "<style scoped>\n",
              "    .dataframe tbody tr th:only-of-type {\n",
              "        vertical-align: middle;\n",
              "    }\n",
              "\n",
              "    .dataframe tbody tr th {\n",
              "        vertical-align: top;\n",
              "    }\n",
              "\n",
              "    .dataframe thead th {\n",
              "        text-align: right;\n",
              "    }\n",
              "</style>\n",
              "<table border=\"1\" class=\"dataframe\">\n",
              "  <thead>\n",
              "    <tr style=\"text-align: right;\">\n",
              "      <th></th>\n",
              "      <th>asin</th>\n",
              "      <th>reviewerID</th>\n",
              "      <th>overall</th>\n",
              "      <th>unixReviewTime</th>\n",
              "      <th>DATE</th>\n",
              "      <th>cate</th>\n",
              "      <th>brand</th>\n",
              "      <th>price</th>\n",
              "      <th>rank</th>\n",
              "      <th>mean</th>\n",
              "      <th>size</th>\n",
              "    </tr>\n",
              "  </thead>\n",
              "  <tbody>\n",
              "    <tr>\n",
              "      <th>184945</th>\n",
              "      <td>B00W259T7G</td>\n",
              "      <td>A1EGCED01USBA9</td>\n",
              "      <td>5.0</td>\n",
              "      <td>1416182400</td>\n",
              "      <td>2014-11-17</td>\n",
              "      <td>Beauty &amp; Personal Care</td>\n",
              "      <td>Pre de Provence</td>\n",
              "      <td>4.99</td>\n",
              "      <td>130823.0</td>\n",
              "      <td>4.497835</td>\n",
              "      <td>2772.0</td>\n",
              "    </tr>\n",
              "    <tr>\n",
              "      <th>331587</th>\n",
              "      <td>B016HCSTU2</td>\n",
              "      <td>A1EGCED01USBA9</td>\n",
              "      <td>5.0</td>\n",
              "      <td>1455580800</td>\n",
              "      <td>2016-02-16</td>\n",
              "      <td>Beauty &amp; Personal Care</td>\n",
              "      <td></td>\n",
              "      <td>NaN</td>\n",
              "      <td>1648201.0</td>\n",
              "      <td>5.000000</td>\n",
              "      <td>1.0</td>\n",
              "    </tr>\n",
              "    <tr>\n",
              "      <th>184894</th>\n",
              "      <td>B00W259T7G</td>\n",
              "      <td>A1EGCED01USBA9</td>\n",
              "      <td>4.0</td>\n",
              "      <td>1419724800</td>\n",
              "      <td>2014-12-28</td>\n",
              "      <td>Beauty &amp; Personal Care</td>\n",
              "      <td>Pre de Provence</td>\n",
              "      <td>4.99</td>\n",
              "      <td>130823.0</td>\n",
              "      <td>4.497835</td>\n",
              "      <td>2772.0</td>\n",
              "    </tr>\n",
              "    <tr>\n",
              "      <th>333611</th>\n",
              "      <td>B017DN324M</td>\n",
              "      <td>A1EGCED01USBA9</td>\n",
              "      <td>5.0</td>\n",
              "      <td>1455580800</td>\n",
              "      <td>2016-02-16</td>\n",
              "      <td>Beauty &amp; Personal Care</td>\n",
              "      <td></td>\n",
              "      <td>NaN</td>\n",
              "      <td>2101688.0</td>\n",
              "      <td>5.000000</td>\n",
              "      <td>1.0</td>\n",
              "    </tr>\n",
              "    <tr>\n",
              "      <th>89436</th>\n",
              "      <td>B004LUQRJI</td>\n",
              "      <td>A1EGCED01USBA9</td>\n",
              "      <td>5.0</td>\n",
              "      <td>1476144000</td>\n",
              "      <td>2016-10-11</td>\n",
              "      <td>Beauty &amp; Personal Care</td>\n",
              "      <td>Paul Brown Hawaii</td>\n",
              "      <td>NaN</td>\n",
              "      <td>876376.0</td>\n",
              "      <td>4.984190</td>\n",
              "      <td>253.0</td>\n",
              "    </tr>\n",
              "    <tr>\n",
              "      <th>...</th>\n",
              "      <td>...</td>\n",
              "      <td>...</td>\n",
              "      <td>...</td>\n",
              "      <td>...</td>\n",
              "      <td>...</td>\n",
              "      <td>...</td>\n",
              "      <td>...</td>\n",
              "      <td>...</td>\n",
              "      <td>...</td>\n",
              "      <td>...</td>\n",
              "      <td>...</td>\n",
              "    </tr>\n",
              "    <tr>\n",
              "      <th>141599</th>\n",
              "      <td>B00FXTE88S</td>\n",
              "      <td>AENH50GW3OKDA</td>\n",
              "      <td>5.0</td>\n",
              "      <td>1445990400</td>\n",
              "      <td>2015-10-28</td>\n",
              "      <td>Beauty &amp; Personal Care</td>\n",
              "      <td>Diva Stuff</td>\n",
              "      <td>11.80</td>\n",
              "      <td>204508.0</td>\n",
              "      <td>3.892308</td>\n",
              "      <td>65.0</td>\n",
              "    </tr>\n",
              "    <tr>\n",
              "      <th>187585</th>\n",
              "      <td>B00X918PRC</td>\n",
              "      <td>AENH50GW3OKDA</td>\n",
              "      <td>5.0</td>\n",
              "      <td>1440460800</td>\n",
              "      <td>2015-08-25</td>\n",
              "      <td>Beauty &amp; Personal Care</td>\n",
              "      <td></td>\n",
              "      <td>NaN</td>\n",
              "      <td>469112.0</td>\n",
              "      <td>4.032258</td>\n",
              "      <td>31.0</td>\n",
              "    </tr>\n",
              "    <tr>\n",
              "      <th>168020</th>\n",
              "      <td>B00OR1D37A</td>\n",
              "      <td>AENH50GW3OKDA</td>\n",
              "      <td>5.0</td>\n",
              "      <td>1432166400</td>\n",
              "      <td>2015-05-21</td>\n",
              "      <td>Beauty &amp; Personal Care</td>\n",
              "      <td>Organic Fields Of Heather</td>\n",
              "      <td>NaN</td>\n",
              "      <td>275838.0</td>\n",
              "      <td>3.273438</td>\n",
              "      <td>128.0</td>\n",
              "    </tr>\n",
              "    <tr>\n",
              "      <th>177062</th>\n",
              "      <td>B00TP79D7A</td>\n",
              "      <td>AENH50GW3OKDA</td>\n",
              "      <td>5.0</td>\n",
              "      <td>1440806400</td>\n",
              "      <td>2015-08-29</td>\n",
              "      <td>Beauty &amp; Personal Care</td>\n",
              "      <td></td>\n",
              "      <td>NaN</td>\n",
              "      <td>613995.0</td>\n",
              "      <td>3.448276</td>\n",
              "      <td>29.0</td>\n",
              "    </tr>\n",
              "    <tr>\n",
              "      <th>130082</th>\n",
              "      <td>B00BSY3IG0</td>\n",
              "      <td>AENH50GW3OKDA</td>\n",
              "      <td>5.0</td>\n",
              "      <td>1440547200</td>\n",
              "      <td>2015-08-26</td>\n",
              "      <td>Beauty &amp; Personal Care</td>\n",
              "      <td></td>\n",
              "      <td>NaN</td>\n",
              "      <td>529651.0</td>\n",
              "      <td>4.000000</td>\n",
              "      <td>16.0</td>\n",
              "    </tr>\n",
              "  </tbody>\n",
              "</table>\n",
              "<p>107 rows × 11 columns</p>\n",
              "</div>\n",
              "      <button class=\"colab-df-convert\" onclick=\"convertToInteractive('df-7ec2e357-d680-44d0-a86e-d19afbf5d01d')\"\n",
              "              title=\"Convert this dataframe to an interactive table.\"\n",
              "              style=\"display:none;\">\n",
              "        \n",
              "  <svg xmlns=\"http://www.w3.org/2000/svg\" height=\"24px\"viewBox=\"0 0 24 24\"\n",
              "       width=\"24px\">\n",
              "    <path d=\"M0 0h24v24H0V0z\" fill=\"none\"/>\n",
              "    <path d=\"M18.56 5.44l.94 2.06.94-2.06 2.06-.94-2.06-.94-.94-2.06-.94 2.06-2.06.94zm-11 1L8.5 8.5l.94-2.06 2.06-.94-2.06-.94L8.5 2.5l-.94 2.06-2.06.94zm10 10l.94 2.06.94-2.06 2.06-.94-2.06-.94-.94-2.06-.94 2.06-2.06.94z\"/><path d=\"M17.41 7.96l-1.37-1.37c-.4-.4-.92-.59-1.43-.59-.52 0-1.04.2-1.43.59L10.3 9.45l-7.72 7.72c-.78.78-.78 2.05 0 2.83L4 21.41c.39.39.9.59 1.41.59.51 0 1.02-.2 1.41-.59l7.78-7.78 2.81-2.81c.8-.78.8-2.07 0-2.86zM5.41 20L4 18.59l7.72-7.72 1.47 1.35L5.41 20z\"/>\n",
              "  </svg>\n",
              "      </button>\n",
              "      \n",
              "  <style>\n",
              "    .colab-df-container {\n",
              "      display:flex;\n",
              "      flex-wrap:wrap;\n",
              "      gap: 12px;\n",
              "    }\n",
              "\n",
              "    .colab-df-convert {\n",
              "      background-color: #E8F0FE;\n",
              "      border: none;\n",
              "      border-radius: 50%;\n",
              "      cursor: pointer;\n",
              "      display: none;\n",
              "      fill: #1967D2;\n",
              "      height: 32px;\n",
              "      padding: 0 0 0 0;\n",
              "      width: 32px;\n",
              "    }\n",
              "\n",
              "    .colab-df-convert:hover {\n",
              "      background-color: #E2EBFA;\n",
              "      box-shadow: 0px 1px 2px rgba(60, 64, 67, 0.3), 0px 1px 3px 1px rgba(60, 64, 67, 0.15);\n",
              "      fill: #174EA6;\n",
              "    }\n",
              "\n",
              "    [theme=dark] .colab-df-convert {\n",
              "      background-color: #3B4455;\n",
              "      fill: #D2E3FC;\n",
              "    }\n",
              "\n",
              "    [theme=dark] .colab-df-convert:hover {\n",
              "      background-color: #434B5C;\n",
              "      box-shadow: 0px 1px 3px 1px rgba(0, 0, 0, 0.15);\n",
              "      filter: drop-shadow(0px 1px 2px rgba(0, 0, 0, 0.3));\n",
              "      fill: #FFFFFF;\n",
              "    }\n",
              "  </style>\n",
              "\n",
              "      <script>\n",
              "        const buttonEl =\n",
              "          document.querySelector('#df-7ec2e357-d680-44d0-a86e-d19afbf5d01d button.colab-df-convert');\n",
              "        buttonEl.style.display =\n",
              "          google.colab.kernel.accessAllowed ? 'block' : 'none';\n",
              "\n",
              "        async function convertToInteractive(key) {\n",
              "          const element = document.querySelector('#df-7ec2e357-d680-44d0-a86e-d19afbf5d01d');\n",
              "          const dataTable =\n",
              "            await google.colab.kernel.invokeFunction('convertToInteractive',\n",
              "                                                     [key], {});\n",
              "          if (!dataTable) return;\n",
              "\n",
              "          const docLinkHtml = 'Like what you see? Visit the ' +\n",
              "            '<a target=\"_blank\" href=https://colab.research.google.com/notebooks/data_table.ipynb>data table notebook</a>'\n",
              "            + ' to learn more about interactive tables.';\n",
              "          element.innerHTML = '';\n",
              "          dataTable['output_type'] = 'display_data';\n",
              "          await google.colab.output.renderOutput(dataTable, element);\n",
              "          const docLink = document.createElement('div');\n",
              "          docLink.innerHTML = docLinkHtml;\n",
              "          element.appendChild(docLink);\n",
              "        }\n",
              "      </script>\n",
              "    </div>\n",
              "  </div>\n",
              "  "
            ],
            "text/plain": [
              "              asin      reviewerID  overall  ...       rank      mean    size\n",
              "184945  B00W259T7G  A1EGCED01USBA9      5.0  ...   130823.0  4.497835  2772.0\n",
              "331587  B016HCSTU2  A1EGCED01USBA9      5.0  ...  1648201.0  5.000000     1.0\n",
              "184894  B00W259T7G  A1EGCED01USBA9      4.0  ...   130823.0  4.497835  2772.0\n",
              "333611  B017DN324M  A1EGCED01USBA9      5.0  ...  2101688.0  5.000000     1.0\n",
              "89436   B004LUQRJI  A1EGCED01USBA9      5.0  ...   876376.0  4.984190   253.0\n",
              "...            ...             ...      ...  ...        ...       ...     ...\n",
              "141599  B00FXTE88S   AENH50GW3OKDA      5.0  ...   204508.0  3.892308    65.0\n",
              "187585  B00X918PRC   AENH50GW3OKDA      5.0  ...   469112.0  4.032258    31.0\n",
              "168020  B00OR1D37A   AENH50GW3OKDA      5.0  ...   275838.0  3.273438   128.0\n",
              "177062  B00TP79D7A   AENH50GW3OKDA      5.0  ...   613995.0  3.448276    29.0\n",
              "130082  B00BSY3IG0   AENH50GW3OKDA      5.0  ...   529651.0  4.000000    16.0\n",
              "\n",
              "[107 rows x 11 columns]"
            ]
          },
          "metadata": {},
          "execution_count": 31
        }
      ]
    },
    {
      "cell_type": "markdown",
      "source": [
        "### 價格與排名\n",
        "\n",
        "- 有9成5的商品均在50元以下，並且從散佈圖看來，銷量最好的產品也多在50元以下\n",
        "- 排名部分沒有明顯的關係，因此暫不列入考量"
      ],
      "metadata": {
        "id": "8clR00irV4vh"
      },
      "id": "8clR00irV4vh"
    },
    {
      "cell_type": "code",
      "source": [
        "df.isna().sum().sort_values(ascending=False).to_frame(name='Number of NA').T"
      ],
      "metadata": {
        "colab": {
          "base_uri": "https://localhost:8080/",
          "height": 0
        },
        "id": "ECBwfYlD4hCx",
        "outputId": "ecaf2fa9-1bce-4f5f-dd1f-e0ef6cb57708"
      },
      "id": "ECBwfYlD4hCx",
      "execution_count": 32,
      "outputs": [
        {
          "output_type": "execute_result",
          "data": {
            "text/html": [
              "\n",
              "  <div id=\"df-60cec050-b1bb-47b7-a0c9-f84f40a0c5e3\">\n",
              "    <div class=\"colab-df-container\">\n",
              "      <div>\n",
              "<style scoped>\n",
              "    .dataframe tbody tr th:only-of-type {\n",
              "        vertical-align: middle;\n",
              "    }\n",
              "\n",
              "    .dataframe tbody tr th {\n",
              "        vertical-align: top;\n",
              "    }\n",
              "\n",
              "    .dataframe thead th {\n",
              "        text-align: right;\n",
              "    }\n",
              "</style>\n",
              "<table border=\"1\" class=\"dataframe\">\n",
              "  <thead>\n",
              "    <tr style=\"text-align: right;\">\n",
              "      <th></th>\n",
              "      <th>price</th>\n",
              "      <th>rank</th>\n",
              "      <th>cate</th>\n",
              "      <th>mean</th>\n",
              "      <th>brand</th>\n",
              "      <th>size</th>\n",
              "      <th>DATE</th>\n",
              "      <th>unixReviewTime</th>\n",
              "      <th>overall</th>\n",
              "      <th>reviewerID</th>\n",
              "      <th>asin</th>\n",
              "    </tr>\n",
              "  </thead>\n",
              "  <tbody>\n",
              "    <tr>\n",
              "      <th>Number of NA</th>\n",
              "      <td>181648</td>\n",
              "      <td>9247</td>\n",
              "      <td>9247</td>\n",
              "      <td>5120</td>\n",
              "      <td>5120</td>\n",
              "      <td>0</td>\n",
              "      <td>0</td>\n",
              "      <td>0</td>\n",
              "      <td>0</td>\n",
              "      <td>0</td>\n",
              "      <td>0</td>\n",
              "    </tr>\n",
              "  </tbody>\n",
              "</table>\n",
              "</div>\n",
              "      <button class=\"colab-df-convert\" onclick=\"convertToInteractive('df-60cec050-b1bb-47b7-a0c9-f84f40a0c5e3')\"\n",
              "              title=\"Convert this dataframe to an interactive table.\"\n",
              "              style=\"display:none;\">\n",
              "        \n",
              "  <svg xmlns=\"http://www.w3.org/2000/svg\" height=\"24px\"viewBox=\"0 0 24 24\"\n",
              "       width=\"24px\">\n",
              "    <path d=\"M0 0h24v24H0V0z\" fill=\"none\"/>\n",
              "    <path d=\"M18.56 5.44l.94 2.06.94-2.06 2.06-.94-2.06-.94-.94-2.06-.94 2.06-2.06.94zm-11 1L8.5 8.5l.94-2.06 2.06-.94-2.06-.94L8.5 2.5l-.94 2.06-2.06.94zm10 10l.94 2.06.94-2.06 2.06-.94-2.06-.94-.94-2.06-.94 2.06-2.06.94z\"/><path d=\"M17.41 7.96l-1.37-1.37c-.4-.4-.92-.59-1.43-.59-.52 0-1.04.2-1.43.59L10.3 9.45l-7.72 7.72c-.78.78-.78 2.05 0 2.83L4 21.41c.39.39.9.59 1.41.59.51 0 1.02-.2 1.41-.59l7.78-7.78 2.81-2.81c.8-.78.8-2.07 0-2.86zM5.41 20L4 18.59l7.72-7.72 1.47 1.35L5.41 20z\"/>\n",
              "  </svg>\n",
              "      </button>\n",
              "      \n",
              "  <style>\n",
              "    .colab-df-container {\n",
              "      display:flex;\n",
              "      flex-wrap:wrap;\n",
              "      gap: 12px;\n",
              "    }\n",
              "\n",
              "    .colab-df-convert {\n",
              "      background-color: #E8F0FE;\n",
              "      border: none;\n",
              "      border-radius: 50%;\n",
              "      cursor: pointer;\n",
              "      display: none;\n",
              "      fill: #1967D2;\n",
              "      height: 32px;\n",
              "      padding: 0 0 0 0;\n",
              "      width: 32px;\n",
              "    }\n",
              "\n",
              "    .colab-df-convert:hover {\n",
              "      background-color: #E2EBFA;\n",
              "      box-shadow: 0px 1px 2px rgba(60, 64, 67, 0.3), 0px 1px 3px 1px rgba(60, 64, 67, 0.15);\n",
              "      fill: #174EA6;\n",
              "    }\n",
              "\n",
              "    [theme=dark] .colab-df-convert {\n",
              "      background-color: #3B4455;\n",
              "      fill: #D2E3FC;\n",
              "    }\n",
              "\n",
              "    [theme=dark] .colab-df-convert:hover {\n",
              "      background-color: #434B5C;\n",
              "      box-shadow: 0px 1px 3px 1px rgba(0, 0, 0, 0.15);\n",
              "      filter: drop-shadow(0px 1px 2px rgba(0, 0, 0, 0.3));\n",
              "      fill: #FFFFFF;\n",
              "    }\n",
              "  </style>\n",
              "\n",
              "      <script>\n",
              "        const buttonEl =\n",
              "          document.querySelector('#df-60cec050-b1bb-47b7-a0c9-f84f40a0c5e3 button.colab-df-convert');\n",
              "        buttonEl.style.display =\n",
              "          google.colab.kernel.accessAllowed ? 'block' : 'none';\n",
              "\n",
              "        async function convertToInteractive(key) {\n",
              "          const element = document.querySelector('#df-60cec050-b1bb-47b7-a0c9-f84f40a0c5e3');\n",
              "          const dataTable =\n",
              "            await google.colab.kernel.invokeFunction('convertToInteractive',\n",
              "                                                     [key], {});\n",
              "          if (!dataTable) return;\n",
              "\n",
              "          const docLinkHtml = 'Like what you see? Visit the ' +\n",
              "            '<a target=\"_blank\" href=https://colab.research.google.com/notebooks/data_table.ipynb>data table notebook</a>'\n",
              "            + ' to learn more about interactive tables.';\n",
              "          element.innerHTML = '';\n",
              "          dataTable['output_type'] = 'display_data';\n",
              "          await google.colab.output.renderOutput(dataTable, element);\n",
              "          const docLink = document.createElement('div');\n",
              "          docLink.innerHTML = docLinkHtml;\n",
              "          element.appendChild(docLink);\n",
              "        }\n",
              "      </script>\n",
              "    </div>\n",
              "  </div>\n",
              "  "
            ],
            "text/plain": [
              "               price  rank  cate  ...  overall  reviewerID  asin\n",
              "Number of NA  181648  9247  9247  ...        0           0     0\n",
              "\n",
              "[1 rows x 11 columns]"
            ]
          },
          "metadata": {},
          "execution_count": 32
        }
      ]
    },
    {
      "cell_type": "code",
      "source": [
        "df_price = df[df['price'].isna() == False]\n",
        "df_rank = df[df['rank'].isna() == False]"
      ],
      "metadata": {
        "id": "TUANOM7jV7j-"
      },
      "id": "TUANOM7jV7j-",
      "execution_count": 33,
      "outputs": []
    },
    {
      "cell_type": "code",
      "source": [
        "print(df_price.shape)\n",
        "df_price['price'].describe()"
      ],
      "metadata": {
        "colab": {
          "base_uri": "https://localhost:8080/"
        },
        "id": "cchDpd8IyyVM",
        "outputId": "b558446c-01b0-4cea-d8d7-416910c054e4"
      },
      "id": "cchDpd8IyyVM",
      "execution_count": 34,
      "outputs": [
        {
          "output_type": "stream",
          "name": "stdout",
          "text": [
            "(180034, 11)\n"
          ]
        },
        {
          "output_type": "execute_result",
          "data": {
            "text/plain": [
              "count    180034.000000\n",
              "mean         19.046414\n",
              "std          32.492772\n",
              "min           0.010000\n",
              "25%           7.490000\n",
              "50%          11.990000\n",
              "75%          20.790000\n",
              "max         999.990000\n",
              "Name: price, dtype: float64"
            ]
          },
          "metadata": {},
          "execution_count": 34
        }
      ]
    },
    {
      "cell_type": "code",
      "source": [
        "df_price['price'].quantile(.95)"
      ],
      "metadata": {
        "colab": {
          "base_uri": "https://localhost:8080/"
        },
        "id": "N39OQJnru0zV",
        "outputId": "e3a0bc96-dce5-47b5-ffea-895e04a4050f"
      },
      "id": "N39OQJnru0zV",
      "execution_count": 35,
      "outputs": [
        {
          "output_type": "execute_result",
          "data": {
            "text/plain": [
              "50.459999999999994"
            ]
          },
          "metadata": {},
          "execution_count": 35
        }
      ]
    },
    {
      "cell_type": "code",
      "source": [
        "import matplotlib.pyplot as plt\n",
        "plt.scatter(df_price['price'], df_price['size'], s=1)\n",
        "plt.xlim(0, 200)\n",
        "plt.show()"
      ],
      "metadata": {
        "colab": {
          "base_uri": "https://localhost:8080/",
          "height": 0
        },
        "id": "YuNna7-5tjIJ",
        "outputId": "d6e7e41d-cb69-4251-de4a-d7e769ccaafa"
      },
      "id": "YuNna7-5tjIJ",
      "execution_count": 36,
      "outputs": [
        {
          "output_type": "display_data",
          "data": {
            "image/png": "[encoded data removed]",
            "text/plain": [
              "<Figure size 432x288 with 1 Axes>"
            ]
          },
          "metadata": {
            "needs_background": "light"
          }
        }
      ]
    },
    {
      "cell_type": "code",
      "source": [
        "plt.scatter(df_price['rank'], df_price['size'], s=1)\n",
        "plt.xscale('log')\n",
        "plt.show()"
      ],
      "metadata": {
        "colab": {
          "base_uri": "https://localhost:8080/",
          "height": 0
        },
        "id": "EIarqSxVxAGY",
        "outputId": "6096cc3e-47ac-4515-deba-c32605dd91d2"
      },
      "id": "EIarqSxVxAGY",
      "execution_count": 37,
      "outputs": [
        {
          "output_type": "display_data",
          "data": {
            "image/png": "[encoded data removed]",
            "text/plain": [
              "<Figure size 432x288 with 1 Axes>"
            ]
          },
          "metadata": {
            "needs_background": "light"
          }
        }
      ]
    },
    {
      "cell_type": "markdown",
      "source": [
        "### 評價\n",
        "\n",
        "- 5分評論佔據6成\n",
        "- 從各商品平均評價分數來看，5分確實是最多人買的，不過3分以上的商品也有不錯的購買量\n",
        "- 可能可以選擇兩種標準觀察何者更佳\n"
      ],
      "metadata": {
        "id": "ekkLw1pfUmSW"
      },
      "id": "ekkLw1pfUmSW"
    },
    {
      "cell_type": "code",
      "source": [
        "df[np.isnan(df['mean']) == False].shape"
      ],
      "metadata": {
        "colab": {
          "base_uri": "https://localhost:8080/"
        },
        "id": "PCegllXoU5wy",
        "outputId": "43c48cad-6eff-47cd-bb43-2050aed7ced5"
      },
      "id": "PCegllXoU5wy",
      "execution_count": 38,
      "outputs": [
        {
          "output_type": "execute_result",
          "data": {
            "text/plain": [
              "(356562, 11)"
            ]
          },
          "metadata": {},
          "execution_count": 38
        }
      ]
    },
    {
      "cell_type": "code",
      "source": [
        "import matplotlib.pyplot as plt\n",
        "\n",
        "fig, (ax1, ax2) = plt.subplots(1, 2)\n",
        "ax1.hist(df['overall'], bins=50)\n",
        "ax1.set_title('overall')\n",
        "ax1.set_ylabel('reviews count')\n",
        "ax2.hist(df['mean'], bins=50)\n",
        "ax2.set_title('overall mean')\n",
        "fig.tight_layout()"
      ],
      "metadata": {
        "id": "yYKKQDv8Vnd4",
        "colab": {
          "base_uri": "https://localhost:8080/",
          "height": 0
        },
        "outputId": "0d76f481-c2de-47a8-e5f0-d4080d3d74a9"
      },
      "id": "yYKKQDv8Vnd4",
      "execution_count": 39,
      "outputs": [
        {
          "output_type": "display_data",
          "data": {
            "image/png": "[encoded data removed]",
            "text/plain": [
              "<Figure size 432x288 with 2 Axes>"
            ]
          },
          "metadata": {
            "needs_background": "light"
          }
        }
      ]
    },
    {
      "cell_type": "code",
      "source": [
        "plt.scatter(df['mean'], df['size'])\n",
        "plt.xlabel('overall_mean')\n",
        "plt.ylabel('reviews count')\n",
        "plt.show()"
      ],
      "metadata": {
        "colab": {
          "base_uri": "https://localhost:8080/",
          "height": 0
        },
        "id": "d95RqyOaVV0m",
        "outputId": "e8630095-73fe-4c0c-b4e0-b0999f6eaedb"
      },
      "id": "d95RqyOaVV0m",
      "execution_count": 40,
      "outputs": [
        {
          "output_type": "display_data",
          "data": {
            "image/png": "[encoded data removed]",
            "text/plain": [
              "<Figure size 432x288 with 1 Axes>"
            ]
          },
          "metadata": {
            "needs_background": "light"
          }
        }
      ]
    },
    {
      "cell_type": "markdown",
      "source": [
        "## 字詞分析"
      ],
      "metadata": {
        "id": "5-Ap0G65AyFW"
      },
      "id": "5-Ap0G65AyFW"
    },
    {
      "cell_type": "code",
      "source": [
        "!pip install nltk\n",
        "\n",
        "import nltk\n",
        "from nltk.tokenize import word_tokenize\n",
        "from nltk.corpus import stopwords\n",
        "nltk.download('punkt')\n",
        "nltk.download('averaged_perceptron_tagger')\n",
        "nltk.download('wordnet')\n",
        "nltk.download('stopwords')"
      ],
      "metadata": {
        "colab": {
          "base_uri": "https://localhost:8080/"
        },
        "id": "4c3VvjKtSky5",
        "outputId": "84e02ab7-1a89-4faa-ec91-3f1be9c1a18e"
      },
      "id": "4c3VvjKtSky5",
      "execution_count": 41,
      "outputs": [
        {
          "output_type": "stream",
          "name": "stdout",
          "text": [
            "Requirement already satisfied: nltk in /usr/local/lib/python3.7/dist-packages (3.2.5)\n",
            "Requirement already satisfied: six in /usr/local/lib/python3.7/dist-packages (from nltk) (1.15.0)\n",
            "[nltk_data] Downloading package punkt to /root/nltk_data...\n",
            "[nltk_data]   Package punkt is already up-to-date!\n",
            "[nltk_data] Downloading package averaged_perceptron_tagger to\n",
            "[nltk_data]     /root/nltk_data...\n",
            "[nltk_data]   Package averaged_perceptron_tagger is already up-to-\n",
            "[nltk_data]       date!\n",
            "[nltk_data] Downloading package wordnet to /root/nltk_data...\n",
            "[nltk_data]   Package wordnet is already up-to-date!\n",
            "[nltk_data] Downloading package stopwords to /root/nltk_data...\n",
            "[nltk_data]   Package stopwords is already up-to-date!\n"
          ]
        },
        {
          "output_type": "execute_result",
          "data": {
            "text/plain": [
              "True"
            ]
          },
          "metadata": {},
          "execution_count": 41
        }
      ]
    },
    {
      "cell_type": "code",
      "source": [
        "from nltk.stem import WordNetLemmatizer\n",
        "from nltk import word_tokenize, pos_tag\n",
        "import re\n",
        "\n",
        "def cleanhtml(raw_html):\n",
        "    CLEANR = re.compile('<.*?>|&([a-z0-9]+|#[0-9]{1,6}|#x[0-9a-f]{1,6});')\n",
        "    cleantext = re.sub(CLEANR, '', raw_html)\n",
        "    return cleantext\n",
        "\n",
        "def text2token(text):\n",
        "    tokens = []\n",
        "    stopword_list_eng = stopwords.words('english')\n",
        "    wordnet = WordNetLemmatizer()\n",
        "\n",
        "    try:\n",
        "        text = word_tokenize(text)\n",
        "    except:\n",
        "       return []\n",
        "\n",
        "    for token, tag in pos_tag(text):\n",
        "        pos = tag[0]\n",
        "        if pos not in ['a', 'r', 'n', 'v']:\n",
        "            pos='n'\n",
        "        \n",
        "        t = wordnet.lemmatize(token,pos)\n",
        "        if t not in stopword_list_eng and t.isalpha():\n",
        "            tokens.append(t)\n",
        "\n",
        "    return tokens"
      ],
      "metadata": {
        "id": "A_e6-HgpUKH9"
      },
      "id": "A_e6-HgpUKH9",
      "execution_count": 42,
      "outputs": []
    },
    {
      "cell_type": "code",
      "source": [
        "has_des = (metadata_clean['text'].notnull())\n",
        "metadata_clean.loc[has_des, 'text'] = metadata_clean.loc[has_des, 'text'].apply(lambda x: cleanhtml(x))"
      ],
      "metadata": {
        "id": "0GvrngFuiwkm"
      },
      "id": "0GvrngFuiwkm",
      "execution_count": 43,
      "outputs": []
    },
    {
      "cell_type": "code",
      "source": [
        "metadata_clean['text_token'] = metadata_clean['text'].apply(text2token)\n",
        "metadata_clean['text_clean'] = metadata_clean['text_token'].apply(lambda x: ' '.join(x))"
      ],
      "metadata": {
        "id": "QrKcymlDk1EI"
      },
      "id": "QrKcymlDk1EI",
      "execution_count": 44,
      "outputs": []
    },
    {
      "cell_type": "code",
      "source": [
        "metadata_clean.head(3)"
      ],
      "metadata": {
        "id": "NuSWj0_MaRLt",
        "colab": {
          "base_uri": "https://localhost:8080/",
          "height": 0
        },
        "outputId": "3bc88705-321b-4590-d9f7-3adf0ab36325"
      },
      "id": "NuSWj0_MaRLt",
      "execution_count": 45,
      "outputs": [
        {
          "output_type": "execute_result",
          "data": {
            "text/html": [
              "\n",
              "  <div id=\"df-4fb469e1-4c09-4eba-ab62-ab081e6a5ee5\">\n",
              "    <div class=\"colab-df-container\">\n",
              "      <div>\n",
              "<style scoped>\n",
              "    .dataframe tbody tr th:only-of-type {\n",
              "        vertical-align: middle;\n",
              "    }\n",
              "\n",
              "    .dataframe tbody tr th {\n",
              "        vertical-align: top;\n",
              "    }\n",
              "\n",
              "    .dataframe thead th {\n",
              "        text-align: right;\n",
              "    }\n",
              "</style>\n",
              "<table border=\"1\" class=\"dataframe\">\n",
              "  <thead>\n",
              "    <tr style=\"text-align: right;\">\n",
              "      <th></th>\n",
              "      <th>asin</th>\n",
              "      <th>title</th>\n",
              "      <th>description</th>\n",
              "      <th>rank</th>\n",
              "      <th>brand</th>\n",
              "      <th>price</th>\n",
              "      <th>also_view</th>\n",
              "      <th>also_buy</th>\n",
              "      <th>text</th>\n",
              "      <th>cate</th>\n",
              "      <th>mean</th>\n",
              "      <th>size</th>\n",
              "      <th>text_token</th>\n",
              "      <th>text_clean</th>\n",
              "    </tr>\n",
              "  </thead>\n",
              "  <tbody>\n",
              "    <tr>\n",
              "      <th>850</th>\n",
              "      <td>B000FOI48G</td>\n",
              "      <td>Waterpik Ultra Water Flosser</td>\n",
              "      <td>Premium dental water jet with dramatically imp...</td>\n",
              "      <td>19437.0</td>\n",
              "      <td>Waterpik</td>\n",
              "      <td>NaN</td>\n",
              "      <td>[B0755JQ4RF, B010NNIZQE, B07H5KV2J1, B01I9TIJQ...</td>\n",
              "      <td>[B003FSTE4W, B001NIZ5U8, B00CU9VF2Q, B0062N798...</td>\n",
              "      <td>waterpik ultra water flosserpremium dental wat...</td>\n",
              "      <td>Beauty &amp; Personal Care</td>\n",
              "      <td>4.394369</td>\n",
              "      <td>8667.0</td>\n",
              "      <td>[waterpik, ultra, water, flosserpremium, denta...</td>\n",
              "      <td>waterpik ultra water flosserpremium dental wat...</td>\n",
              "    </tr>\n",
              "    <tr>\n",
              "      <th>970</th>\n",
              "      <td>B000GLRREU</td>\n",
              "      <td>Waterpik Ultra Water Flosser</td>\n",
              "      <td>Premium dental water jet with dramatically imp...</td>\n",
              "      <td>20356.0</td>\n",
              "      <td>Waterpik</td>\n",
              "      <td>NaN</td>\n",
              "      <td>[B0755JQ4RF, B010NNIZQE, B07H5KV2J1, B01I9TIJQ...</td>\n",
              "      <td>[B003FSTE4W, B001NIZ5U8, B00CU9VF2Q, B0062N798...</td>\n",
              "      <td>waterpik ultra water flosserpremium dental wat...</td>\n",
              "      <td>Beauty &amp; Personal Care</td>\n",
              "      <td>4.405107</td>\n",
              "      <td>8341.0</td>\n",
              "      <td>[waterpik, ultra, water, flosserpremium, denta...</td>\n",
              "      <td>waterpik ultra water flosserpremium dental wat...</td>\n",
              "    </tr>\n",
              "    <tr>\n",
              "      <th>3202</th>\n",
              "      <td>B001QY8QXM</td>\n",
              "      <td>Astra Platinum Double Edge Safety Razor Blades...</td>\n",
              "      <td>ASTRA stainless double edge blades fit all dou...</td>\n",
              "      <td>280.0</td>\n",
              "      <td>Astra</td>\n",
              "      <td>9.3</td>\n",
              "      <td>[B00DQ2W7UK, B00PKHIDRA, B07CGMTVM4, B07MB4LZC...</td>\n",
              "      <td>[]</td>\n",
              "      <td>astra platinum double edge safety razor blades...</td>\n",
              "      <td>Beauty &amp; Personal Care</td>\n",
              "      <td>4.555923</td>\n",
              "      <td>4542.0</td>\n",
              "      <td>[astra, platinum, double, edge, safety, razor,...</td>\n",
              "      <td>astra platinum double edge safety razor blade ...</td>\n",
              "    </tr>\n",
              "  </tbody>\n",
              "</table>\n",
              "</div>\n",
              "      <button class=\"colab-df-convert\" onclick=\"convertToInteractive('df-4fb469e1-4c09-4eba-ab62-ab081e6a5ee5')\"\n",
              "              title=\"Convert this dataframe to an interactive table.\"\n",
              "              style=\"display:none;\">\n",
              "        \n",
              "  <svg xmlns=\"http://www.w3.org/2000/svg\" height=\"24px\"viewBox=\"0 0 24 24\"\n",
              "       width=\"24px\">\n",
              "    <path d=\"M0 0h24v24H0V0z\" fill=\"none\"/>\n",
              "    <path d=\"M18.56 5.44l.94 2.06.94-2.06 2.06-.94-2.06-.94-.94-2.06-.94 2.06-2.06.94zm-11 1L8.5 8.5l.94-2.06 2.06-.94-2.06-.94L8.5 2.5l-.94 2.06-2.06.94zm10 10l.94 2.06.94-2.06 2.06-.94-2.06-.94-.94-2.06-.94 2.06-2.06.94z\"/><path d=\"M17.41 7.96l-1.37-1.37c-.4-.4-.92-.59-1.43-.59-.52 0-1.04.2-1.43.59L10.3 9.45l-7.72 7.72c-.78.78-.78 2.05 0 2.83L4 21.41c.39.39.9.59 1.41.59.51 0 1.02-.2 1.41-.59l7.78-7.78 2.81-2.81c.8-.78.8-2.07 0-2.86zM5.41 20L4 18.59l7.72-7.72 1.47 1.35L5.41 20z\"/>\n",
              "  </svg>\n",
              "      </button>\n",
              "      \n",
              "  <style>\n",
              "    .colab-df-container {\n",
              "      display:flex;\n",
              "      flex-wrap:wrap;\n",
              "      gap: 12px;\n",
              "    }\n",
              "\n",
              "    .colab-df-convert {\n",
              "      background-color: #E8F0FE;\n",
              "      border: none;\n",
              "      border-radius: 50%;\n",
              "      cursor: pointer;\n",
              "      display: none;\n",
              "      fill: #1967D2;\n",
              "      height: 32px;\n",
              "      padding: 0 0 0 0;\n",
              "      width: 32px;\n",
              "    }\n",
              "\n",
              "    .colab-df-convert:hover {\n",
              "      background-color: #E2EBFA;\n",
              "      box-shadow: 0px 1px 2px rgba(60, 64, 67, 0.3), 0px 1px 3px 1px rgba(60, 64, 67, 0.15);\n",
              "      fill: #174EA6;\n",
              "    }\n",
              "\n",
              "    [theme=dark] .colab-df-convert {\n",
              "      background-color: #3B4455;\n",
              "      fill: #D2E3FC;\n",
              "    }\n",
              "\n",
              "    [theme=dark] .colab-df-convert:hover {\n",
              "      background-color: #434B5C;\n",
              "      box-shadow: 0px 1px 3px 1px rgba(0, 0, 0, 0.15);\n",
              "      filter: drop-shadow(0px 1px 2px rgba(0, 0, 0, 0.3));\n",
              "      fill: #FFFFFF;\n",
              "    }\n",
              "  </style>\n",
              "\n",
              "      <script>\n",
              "        const buttonEl =\n",
              "          document.querySelector('#df-4fb469e1-4c09-4eba-ab62-ab081e6a5ee5 button.colab-df-convert');\n",
              "        buttonEl.style.display =\n",
              "          google.colab.kernel.accessAllowed ? 'block' : 'none';\n",
              "\n",
              "        async function convertToInteractive(key) {\n",
              "          const element = document.querySelector('#df-4fb469e1-4c09-4eba-ab62-ab081e6a5ee5');\n",
              "          const dataTable =\n",
              "            await google.colab.kernel.invokeFunction('convertToInteractive',\n",
              "                                                     [key], {});\n",
              "          if (!dataTable) return;\n",
              "\n",
              "          const docLinkHtml = 'Like what you see? Visit the ' +\n",
              "            '<a target=\"_blank\" href=https://colab.research.google.com/notebooks/data_table.ipynb>data table notebook</a>'\n",
              "            + ' to learn more about interactive tables.';\n",
              "          element.innerHTML = '';\n",
              "          dataTable['output_type'] = 'display_data';\n",
              "          await google.colab.output.renderOutput(dataTable, element);\n",
              "          const docLink = document.createElement('div');\n",
              "          docLink.innerHTML = docLinkHtml;\n",
              "          element.appendChild(docLink);\n",
              "        }\n",
              "      </script>\n",
              "    </div>\n",
              "  </div>\n",
              "  "
            ],
            "text/plain": [
              "            asin  ...                                         text_clean\n",
              "850   B000FOI48G  ...  waterpik ultra water flosserpremium dental wat...\n",
              "970   B000GLRREU  ...  waterpik ultra water flosserpremium dental wat...\n",
              "3202  B001QY8QXM  ...  astra platinum double edge safety razor blade ...\n",
              "\n",
              "[3 rows x 14 columns]"
            ]
          },
          "metadata": {},
          "execution_count": 45
        }
      ]
    },
    {
      "cell_type": "code",
      "source": [
        "from collections import Counter\n",
        "\n",
        "tokens = np.concatenate(np.array(metadata_clean['text_token'])).tolist()\n",
        "word_count = Counter(tokens)\n",
        "print(word_count.most_common(50))"
      ],
      "metadata": {
        "id": "4oO-SBuvUvJT",
        "colab": {
          "base_uri": "https://localhost:8080/"
        },
        "outputId": "c79de971-7bb3-4293-9825-514d55971d32"
      },
      "id": "4oO-SBuvUvJT",
      "execution_count": 46,
      "outputs": [
        {
          "output_type": "stream",
          "name": "stdout",
          "text": [
            "[('skin', 9798), ('hair', 9304), ('oil', 5925), ('oz', 5369), ('color', 5116), ('body', 4612), ('pack', 4322), ('natural', 4028), ('nail', 3930), ('product', 3582), ('use', 3518), ('set', 3182), ('black', 2975), ('cream', 2738), ('woman', 2717), ('brush', 2695), ('size', 2690), ('lip', 2527), ('new', 2465), ('help', 2364), ('eye', 2343), ('gel', 2281), ('face', 2237), ('quality', 2121), ('free', 2103), ('x', 2076), ('soap', 2056), ('makeup', 2023), ('fragrance', 2017), ('dry', 2001), ('one', 1990), ('made', 1901), ('ha', 1841), ('make', 1815), ('water', 1814), ('spray', 1781), ('soft', 1756), ('perfect', 1753), ('clean', 1746), ('beauty', 1711), ('care', 1686), ('long', 1672), ('day', 1655), ('white', 1628), ('formula', 1606), ('organic', 1605), ('ingredient', 1600), ('high', 1594), ('essential', 1553), ('hand', 1532)]\n"
          ]
        }
      ]
    },
    {
      "cell_type": "markdown",
      "source": [
        "## 將Metadata做篩選\n",
        "\n",
        "分為\n",
        "- 評分3以上 metadata_clean_3\n",
        "- 評分5分 metadata_clean_5"
      ],
      "metadata": {
        "id": "hv2ewf7oyHqP"
      },
      "id": "hv2ewf7oyHqP"
    },
    {
      "cell_type": "code",
      "source": [
        "metadata_clean.shape"
      ],
      "metadata": {
        "colab": {
          "base_uri": "https://localhost:8080/"
        },
        "id": "pgGwwic-yYxi",
        "outputId": "1c99a6a7-0aee-40a7-8d91-eeee4515f49f"
      },
      "id": "pgGwwic-yYxi",
      "execution_count": 47,
      "outputs": [
        {
          "output_type": "execute_result",
          "data": {
            "text/plain": [
              "(32488, 14)"
            ]
          },
          "metadata": {},
          "execution_count": 47
        }
      ]
    },
    {
      "cell_type": "code",
      "source": [
        "metadata_clean = metadata_clean[metadata_clean['cate'] == 'Beauty & Personal Care']\n",
        "metadata_clean.shape"
      ],
      "metadata": {
        "colab": {
          "base_uri": "https://localhost:8080/"
        },
        "id": "weoVKVcgyKkR",
        "outputId": "b11bfc3d-3399-42ca-94b3-d88dbc405666"
      },
      "id": "weoVKVcgyKkR",
      "execution_count": 48,
      "outputs": [
        {
          "output_type": "execute_result",
          "data": {
            "text/plain": [
              "(32015, 14)"
            ]
          },
          "metadata": {},
          "execution_count": 48
        }
      ]
    },
    {
      "cell_type": "code",
      "source": [
        "metadata_clean = metadata_clean[(metadata_clean['price'] > 50) == False]\n",
        "metadata_clean.shape"
      ],
      "metadata": {
        "colab": {
          "base_uri": "https://localhost:8080/"
        },
        "id": "pWJnr1G0yafv",
        "outputId": "f726cb41-6769-4ccf-92ec-11cff8aea810"
      },
      "id": "pWJnr1G0yafv",
      "execution_count": 49,
      "outputs": [
        {
          "output_type": "execute_result",
          "data": {
            "text/plain": [
              "(30766, 14)"
            ]
          },
          "metadata": {},
          "execution_count": 49
        }
      ]
    },
    {
      "cell_type": "code",
      "source": [
        "metadata_clean_3 = metadata_clean[(metadata_clean['mean'] < 3) == False]\n",
        "metadata_clean_3.shape"
      ],
      "metadata": {
        "colab": {
          "base_uri": "https://localhost:8080/"
        },
        "id": "VbL7SMiizLOG",
        "outputId": "bc2206d9-0526-4a0c-d1bf-8dd20c5c4399"
      },
      "execution_count": 50,
      "outputs": [
        {
          "output_type": "execute_result",
          "data": {
            "text/plain": [
              "(26499, 14)"
            ]
          },
          "metadata": {},
          "execution_count": 50
        }
      ],
      "id": "VbL7SMiizLOG"
    },
    {
      "cell_type": "code",
      "source": [
        "metadata_clean_5 = metadata_clean[(metadata_clean['mean'] < 5) == False]\n",
        "metadata_clean_5.shape"
      ],
      "metadata": {
        "colab": {
          "base_uri": "https://localhost:8080/"
        },
        "id": "N1ZfasY1zXNs",
        "outputId": "5f93e05d-e7a7-4c65-e123-fd6a535016c5"
      },
      "execution_count": 51,
      "outputs": [
        {
          "output_type": "execute_result",
          "data": {
            "text/plain": [
              "(11512, 14)"
            ]
          },
          "metadata": {},
          "execution_count": 51
        }
      ],
      "id": "N1ZfasY1zXNs"
    },
    {
      "cell_type": "markdown",
      "metadata": {
        "id": "a6c76061"
      },
      "source": [
        "## 產生推薦"
      ],
      "id": "a6c76061"
    },
    {
      "cell_type": "markdown",
      "source": [
        "### 相似分群"
      ],
      "metadata": {
        "id": "u7_6S1wdsME9"
      },
      "id": "u7_6S1wdsME9"
    },
    {
      "cell_type": "code",
      "source": [
        "from sklearn.feature_extraction.text import TfidfVectorizer\n",
        "\n",
        "# 計算商品用標題所表示的 tfidf 矩陣\n",
        "df = metadata_clean.drop_duplicates('title').reset_index(drop=True)\n",
        "tf = TfidfVectorizer(analyzer='word', min_df = 100)\n",
        "tfidf_matrix = tf.fit_transform(df['text_clean'])\n",
        "f = tfidf_matrix.toarray()\n",
        "\n",
        "df1 = pd.DataFrame(tfidf_matrix.toarray(), columns=tf.get_feature_names())\n",
        "res = pd.concat([df, df1], axis=1)\n",
        "res.head(1)"
      ],
      "metadata": {
        "colab": {
          "base_uri": "https://localhost:8080/",
          "height": 244
        },
        "id": "sH_RiqqW2gKH",
        "outputId": "8e071320-4f48-44e6-a3a9-17f703ce8aee"
      },
      "id": "sH_RiqqW2gKH",
      "execution_count": 52,
      "outputs": [
        {
          "output_type": "execute_result",
          "data": {
            "text/html": [
              "\n",
              "  <div id=\"df-db12dcc3-3d58-4431-8c46-3418ac628a2c\">\n",
              "    <div class=\"colab-df-container\">\n",
              "      <div>\n",
              "<style scoped>\n",
              "    .dataframe tbody tr th:only-of-type {\n",
              "        vertical-align: middle;\n",
              "    }\n",
              "\n",
              "    .dataframe tbody tr th {\n",
              "        vertical-align: top;\n",
              "    }\n",
              "\n",
              "    .dataframe thead th {\n",
              "        text-align: right;\n",
              "    }\n",
              "</style>\n",
              "<table border=\"1\" class=\"dataframe\">\n",
              "  <thead>\n",
              "    <tr style=\"text-align: right;\">\n",
              "      <th></th>\n",
              "      <th>asin</th>\n",
              "      <th>title</th>\n",
              "      <th>description</th>\n",
              "      <th>rank</th>\n",
              "      <th>brand</th>\n",
              "      <th>price</th>\n",
              "      <th>also_view</th>\n",
              "      <th>also_buy</th>\n",
              "      <th>text</th>\n",
              "      <th>cate</th>\n",
              "      <th>mean</th>\n",
              "      <th>size</th>\n",
              "      <th>text_token</th>\n",
              "      <th>text_clean</th>\n",
              "      <th>accessory</th>\n",
              "      <th>achieve</th>\n",
              "      <th>acid</th>\n",
              "      <th>acne</th>\n",
              "      <th>acrylic</th>\n",
              "      <th>act</th>\n",
              "      <th>action</th>\n",
              "      <th>active</th>\n",
              "      <th>actual</th>\n",
              "      <th>add</th>\n",
              "      <th>added</th>\n",
              "      <th>addition</th>\n",
              "      <th>adhesive</th>\n",
              "      <th>adjust</th>\n",
              "      <th>adjustable</th>\n",
              "      <th>adult</th>\n",
              "      <th>advanced</th>\n",
              "      <th>age</th>\n",
              "      <th>agent</th>\n",
              "      <th>aging</th>\n",
              "      <th>aid</th>\n",
              "      <th>air</th>\n",
              "      <th>alcohol</th>\n",
              "      <th>allow</th>\n",
              "      <th>allows</th>\n",
              "      <th>alloy</th>\n",
              "      <th>...</th>\n",
              "      <th>water</th>\n",
              "      <th>waterproof</th>\n",
              "      <th>wave</th>\n",
              "      <th>wavy</th>\n",
              "      <th>wax</th>\n",
              "      <th>way</th>\n",
              "      <th>wear</th>\n",
              "      <th>wearing</th>\n",
              "      <th>wedding</th>\n",
              "      <th>week</th>\n",
              "      <th>weight</th>\n",
              "      <th>well</th>\n",
              "      <th>wet</th>\n",
              "      <th>white</th>\n",
              "      <th>whitening</th>\n",
              "      <th>whole</th>\n",
              "      <th>wide</th>\n",
              "      <th>wig</th>\n",
              "      <th>wild</th>\n",
              "      <th>winter</th>\n",
              "      <th>wipe</th>\n",
              "      <th>within</th>\n",
              "      <th>without</th>\n",
              "      <th>wo</th>\n",
              "      <th>woman</th>\n",
              "      <th>wonderful</th>\n",
              "      <th>wood</th>\n",
              "      <th>work</th>\n",
              "      <th>working</th>\n",
              "      <th>world</th>\n",
              "      <th>worldwide</th>\n",
              "      <th>would</th>\n",
              "      <th>wrap</th>\n",
              "      <th>wrinkle</th>\n",
              "      <th>wrist</th>\n",
              "      <th>year</th>\n",
              "      <th>yellow</th>\n",
              "      <th>yet</th>\n",
              "      <th>youthful</th>\n",
              "      <th>zipper</th>\n",
              "    </tr>\n",
              "  </thead>\n",
              "  <tbody>\n",
              "    <tr>\n",
              "      <th>0</th>\n",
              "      <td>B000FOI48G</td>\n",
              "      <td>Waterpik Ultra Water Flosser</td>\n",
              "      <td>Premium dental water jet with dramatically imp...</td>\n",
              "      <td>19437.0</td>\n",
              "      <td>Waterpik</td>\n",
              "      <td>NaN</td>\n",
              "      <td>[B0755JQ4RF, B010NNIZQE, B07H5KV2J1, B01I9TIJQ...</td>\n",
              "      <td>[B003FSTE4W, B001NIZ5U8, B00CU9VF2Q, B0062N798...</td>\n",
              "      <td>waterpik ultra water flosserpremium dental wat...</td>\n",
              "      <td>Beauty &amp; Personal Care</td>\n",
              "      <td>4.394369</td>\n",
              "      <td>8667.0</td>\n",
              "      <td>[waterpik, ultra, water, flosserpremium, denta...</td>\n",
              "      <td>waterpik ultra water flosserpremium dental wat...</td>\n",
              "      <td>0.032263</td>\n",
              "      <td>0.0</td>\n",
              "      <td>0.0</td>\n",
              "      <td>0.0</td>\n",
              "      <td>0.0</td>\n",
              "      <td>0.0</td>\n",
              "      <td>0.0</td>\n",
              "      <td>0.0</td>\n",
              "      <td>0.0</td>\n",
              "      <td>0.0</td>\n",
              "      <td>0.0</td>\n",
              "      <td>0.0</td>\n",
              "      <td>0.0</td>\n",
              "      <td>0.0</td>\n",
              "      <td>0.038426</td>\n",
              "      <td>0.0</td>\n",
              "      <td>0.0</td>\n",
              "      <td>0.0</td>\n",
              "      <td>0.0</td>\n",
              "      <td>0.0</td>\n",
              "      <td>0.0</td>\n",
              "      <td>0.078539</td>\n",
              "      <td>0.0</td>\n",
              "      <td>0.0</td>\n",
              "      <td>0.0</td>\n",
              "      <td>0.0</td>\n",
              "      <td>...</td>\n",
              "      <td>0.487368</td>\n",
              "      <td>0.0</td>\n",
              "      <td>0.0</td>\n",
              "      <td>0.0</td>\n",
              "      <td>0.0</td>\n",
              "      <td>0.065942</td>\n",
              "      <td>0.0</td>\n",
              "      <td>0.0</td>\n",
              "      <td>0.0</td>\n",
              "      <td>0.0</td>\n",
              "      <td>0.0</td>\n",
              "      <td>0.0</td>\n",
              "      <td>0.0</td>\n",
              "      <td>0.0</td>\n",
              "      <td>0.0</td>\n",
              "      <td>0.0</td>\n",
              "      <td>0.0</td>\n",
              "      <td>0.0</td>\n",
              "      <td>0.0</td>\n",
              "      <td>0.0</td>\n",
              "      <td>0.0</td>\n",
              "      <td>0.0</td>\n",
              "      <td>0.0</td>\n",
              "      <td>0.0</td>\n",
              "      <td>0.0</td>\n",
              "      <td>0.0</td>\n",
              "      <td>0.0</td>\n",
              "      <td>0.0</td>\n",
              "      <td>0.0</td>\n",
              "      <td>0.036615</td>\n",
              "      <td>0.0</td>\n",
              "      <td>0.0</td>\n",
              "      <td>0.0</td>\n",
              "      <td>0.0</td>\n",
              "      <td>0.0</td>\n",
              "      <td>0.034384</td>\n",
              "      <td>0.0</td>\n",
              "      <td>0.0</td>\n",
              "      <td>0.0</td>\n",
              "      <td>0.0</td>\n",
              "    </tr>\n",
              "  </tbody>\n",
              "</table>\n",
              "<p>1 rows × 1224 columns</p>\n",
              "</div>\n",
              "      <button class=\"colab-df-convert\" onclick=\"convertToInteractive('df-db12dcc3-3d58-4431-8c46-3418ac628a2c')\"\n",
              "              title=\"Convert this dataframe to an interactive table.\"\n",
              "              style=\"display:none;\">\n",
              "        \n",
              "  <svg xmlns=\"http://www.w3.org/2000/svg\" height=\"24px\"viewBox=\"0 0 24 24\"\n",
              "       width=\"24px\">\n",
              "    <path d=\"M0 0h24v24H0V0z\" fill=\"none\"/>\n",
              "    <path d=\"M18.56 5.44l.94 2.06.94-2.06 2.06-.94-2.06-.94-.94-2.06-.94 2.06-2.06.94zm-11 1L8.5 8.5l.94-2.06 2.06-.94-2.06-.94L8.5 2.5l-.94 2.06-2.06.94zm10 10l.94 2.06.94-2.06 2.06-.94-2.06-.94-.94-2.06-.94 2.06-2.06.94z\"/><path d=\"M17.41 7.96l-1.37-1.37c-.4-.4-.92-.59-1.43-.59-.52 0-1.04.2-1.43.59L10.3 9.45l-7.72 7.72c-.78.78-.78 2.05 0 2.83L4 21.41c.39.39.9.59 1.41.59.51 0 1.02-.2 1.41-.59l7.78-7.78 2.81-2.81c.8-.78.8-2.07 0-2.86zM5.41 20L4 18.59l7.72-7.72 1.47 1.35L5.41 20z\"/>\n",
              "  </svg>\n",
              "      </button>\n",
              "      \n",
              "  <style>\n",
              "    .colab-df-container {\n",
              "      display:flex;\n",
              "      flex-wrap:wrap;\n",
              "      gap: 12px;\n",
              "    }\n",
              "\n",
              "    .colab-df-convert {\n",
              "      background-color: #E8F0FE;\n",
              "      border: none;\n",
              "      border-radius: 50%;\n",
              "      cursor: pointer;\n",
              "      display: none;\n",
              "      fill: #1967D2;\n",
              "      height: 32px;\n",
              "      padding: 0 0 0 0;\n",
              "      width: 32px;\n",
              "    }\n",
              "\n",
              "    .colab-df-convert:hover {\n",
              "      background-color: #E2EBFA;\n",
              "      box-shadow: 0px 1px 2px rgba(60, 64, 67, 0.3), 0px 1px 3px 1px rgba(60, 64, 67, 0.15);\n",
              "      fill: #174EA6;\n",
              "    }\n",
              "\n",
              "    [theme=dark] .colab-df-convert {\n",
              "      background-color: #3B4455;\n",
              "      fill: #D2E3FC;\n",
              "    }\n",
              "\n",
              "    [theme=dark] .colab-df-convert:hover {\n",
              "      background-color: #434B5C;\n",
              "      box-shadow: 0px 1px 3px 1px rgba(0, 0, 0, 0.15);\n",
              "      filter: drop-shadow(0px 1px 2px rgba(0, 0, 0, 0.3));\n",
              "      fill: #FFFFFF;\n",
              "    }\n",
              "  </style>\n",
              "\n",
              "      <script>\n",
              "        const buttonEl =\n",
              "          document.querySelector('#df-db12dcc3-3d58-4431-8c46-3418ac628a2c button.colab-df-convert');\n",
              "        buttonEl.style.display =\n",
              "          google.colab.kernel.accessAllowed ? 'block' : 'none';\n",
              "\n",
              "        async function convertToInteractive(key) {\n",
              "          const element = document.querySelector('#df-db12dcc3-3d58-4431-8c46-3418ac628a2c');\n",
              "          const dataTable =\n",
              "            await google.colab.kernel.invokeFunction('convertToInteractive',\n",
              "                                                     [key], {});\n",
              "          if (!dataTable) return;\n",
              "\n",
              "          const docLinkHtml = 'Like what you see? Visit the ' +\n",
              "            '<a target=\"_blank\" href=https://colab.research.google.com/notebooks/data_table.ipynb>data table notebook</a>'\n",
              "            + ' to learn more about interactive tables.';\n",
              "          element.innerHTML = '';\n",
              "          dataTable['output_type'] = 'display_data';\n",
              "          await google.colab.output.renderOutput(dataTable, element);\n",
              "          const docLink = document.createElement('div');\n",
              "          docLink.innerHTML = docLinkHtml;\n",
              "          element.appendChild(docLink);\n",
              "        }\n",
              "      </script>\n",
              "    </div>\n",
              "  </div>\n",
              "  "
            ],
            "text/plain": [
              "         asin                         title  ... youthful  zipper\n",
              "0  B000FOI48G  Waterpik Ultra Water Flosser  ...      0.0     0.0\n",
              "\n",
              "[1 rows x 1224 columns]"
            ]
          },
          "metadata": {},
          "execution_count": 52
        }
      ]
    },
    {
      "cell_type": "code",
      "source": [
        "from sklearn.cluster import AgglomerativeClustering\n",
        "m_agg = AgglomerativeClustering(n_clusters=10)\n",
        "res_agg = m_agg.fit_predict(f)"
      ],
      "metadata": {
        "id": "6LhJEGpn60Up"
      },
      "id": "6LhJEGpn60Up",
      "execution_count": 54,
      "outputs": []
    },
    {
      "cell_type": "code",
      "source": [
        "from sklearn.cluster import KMeans\n",
        "kmn = KMeans(n_clusters=10, random_state=0)\n",
        "res_kmn = kmn.fit_predict(f)"
      ],
      "metadata": {
        "id": "uGY-9Mj2ICd6"
      },
      "id": "uGY-9Mj2ICd6",
      "execution_count": 55,
      "outputs": []
    },
    {
      "cell_type": "code",
      "source": [
        "metadata_clean['aggclus'] = pd.Series(res_agg)\n",
        "metadata_clean['kmnclus'] = pd.Series(res_kmn)\n",
        "metadata_clean.head(1)"
      ],
      "metadata": {
        "colab": {
          "base_uri": "https://localhost:8080/",
          "height": 214
        },
        "id": "OrreYwTz76CO",
        "outputId": "7611ab0d-04a5-42ed-8698-47893c577550"
      },
      "id": "OrreYwTz76CO",
      "execution_count": 57,
      "outputs": [
        {
          "output_type": "execute_result",
          "data": {
            "text/html": [
              "\n",
              "  <div id=\"df-92726a45-b0a7-48a5-924f-955edf734878\">\n",
              "    <div class=\"colab-df-container\">\n",
              "      <div>\n",
              "<style scoped>\n",
              "    .dataframe tbody tr th:only-of-type {\n",
              "        vertical-align: middle;\n",
              "    }\n",
              "\n",
              "    .dataframe tbody tr th {\n",
              "        vertical-align: top;\n",
              "    }\n",
              "\n",
              "    .dataframe thead th {\n",
              "        text-align: right;\n",
              "    }\n",
              "</style>\n",
              "<table border=\"1\" class=\"dataframe\">\n",
              "  <thead>\n",
              "    <tr style=\"text-align: right;\">\n",
              "      <th></th>\n",
              "      <th>asin</th>\n",
              "      <th>title</th>\n",
              "      <th>description</th>\n",
              "      <th>rank</th>\n",
              "      <th>brand</th>\n",
              "      <th>price</th>\n",
              "      <th>also_view</th>\n",
              "      <th>also_buy</th>\n",
              "      <th>text</th>\n",
              "      <th>cate</th>\n",
              "      <th>mean</th>\n",
              "      <th>size</th>\n",
              "      <th>text_token</th>\n",
              "      <th>text_clean</th>\n",
              "      <th>aggclus</th>\n",
              "      <th>kmnclus</th>\n",
              "    </tr>\n",
              "  </thead>\n",
              "  <tbody>\n",
              "    <tr>\n",
              "      <th>850</th>\n",
              "      <td>B000FOI48G</td>\n",
              "      <td>Waterpik Ultra Water Flosser</td>\n",
              "      <td>Premium dental water jet with dramatically imp...</td>\n",
              "      <td>19437.0</td>\n",
              "      <td>Waterpik</td>\n",
              "      <td>NaN</td>\n",
              "      <td>[B0755JQ4RF, B010NNIZQE, B07H5KV2J1, B01I9TIJQ...</td>\n",
              "      <td>[B003FSTE4W, B001NIZ5U8, B00CU9VF2Q, B0062N798...</td>\n",
              "      <td>waterpik ultra water flosserpremium dental wat...</td>\n",
              "      <td>Beauty &amp; Personal Care</td>\n",
              "      <td>4.394369</td>\n",
              "      <td>8667.0</td>\n",
              "      <td>[waterpik, ultra, water, flosserpremium, denta...</td>\n",
              "      <td>waterpik ultra water flosserpremium dental wat...</td>\n",
              "      <td>3.0</td>\n",
              "      <td>7.0</td>\n",
              "    </tr>\n",
              "  </tbody>\n",
              "</table>\n",
              "</div>\n",
              "      <button class=\"colab-df-convert\" onclick=\"convertToInteractive('df-92726a45-b0a7-48a5-924f-955edf734878')\"\n",
              "              title=\"Convert this dataframe to an interactive table.\"\n",
              "              style=\"display:none;\">\n",
              "        \n",
              "  <svg xmlns=\"http://www.w3.org/2000/svg\" height=\"24px\"viewBox=\"0 0 24 24\"\n",
              "       width=\"24px\">\n",
              "    <path d=\"M0 0h24v24H0V0z\" fill=\"none\"/>\n",
              "    <path d=\"M18.56 5.44l.94 2.06.94-2.06 2.06-.94-2.06-.94-.94-2.06-.94 2.06-2.06.94zm-11 1L8.5 8.5l.94-2.06 2.06-.94-2.06-.94L8.5 2.5l-.94 2.06-2.06.94zm10 10l.94 2.06.94-2.06 2.06-.94-2.06-.94-.94-2.06-.94 2.06-2.06.94z\"/><path d=\"M17.41 7.96l-1.37-1.37c-.4-.4-.92-.59-1.43-.59-.52 0-1.04.2-1.43.59L10.3 9.45l-7.72 7.72c-.78.78-.78 2.05 0 2.83L4 21.41c.39.39.9.59 1.41.59.51 0 1.02-.2 1.41-.59l7.78-7.78 2.81-2.81c.8-.78.8-2.07 0-2.86zM5.41 20L4 18.59l7.72-7.72 1.47 1.35L5.41 20z\"/>\n",
              "  </svg>\n",
              "      </button>\n",
              "      \n",
              "  <style>\n",
              "    .colab-df-container {\n",
              "      display:flex;\n",
              "      flex-wrap:wrap;\n",
              "      gap: 12px;\n",
              "    }\n",
              "\n",
              "    .colab-df-convert {\n",
              "      background-color: #E8F0FE;\n",
              "      border: none;\n",
              "      border-radius: 50%;\n",
              "      cursor: pointer;\n",
              "      display: none;\n",
              "      fill: #1967D2;\n",
              "      height: 32px;\n",
              "      padding: 0 0 0 0;\n",
              "      width: 32px;\n",
              "    }\n",
              "\n",
              "    .colab-df-convert:hover {\n",
              "      background-color: #E2EBFA;\n",
              "      box-shadow: 0px 1px 2px rgba(60, 64, 67, 0.3), 0px 1px 3px 1px rgba(60, 64, 67, 0.15);\n",
              "      fill: #174EA6;\n",
              "    }\n",
              "\n",
              "    [theme=dark] .colab-df-convert {\n",
              "      background-color: #3B4455;\n",
              "      fill: #D2E3FC;\n",
              "    }\n",
              "\n",
              "    [theme=dark] .colab-df-convert:hover {\n",
              "      background-color: #434B5C;\n",
              "      box-shadow: 0px 1px 3px 1px rgba(0, 0, 0, 0.15);\n",
              "      filter: drop-shadow(0px 1px 2px rgba(0, 0, 0, 0.3));\n",
              "      fill: #FFFFFF;\n",
              "    }\n",
              "  </style>\n",
              "\n",
              "      <script>\n",
              "        const buttonEl =\n",
              "          document.querySelector('#df-92726a45-b0a7-48a5-924f-955edf734878 button.colab-df-convert');\n",
              "        buttonEl.style.display =\n",
              "          google.colab.kernel.accessAllowed ? 'block' : 'none';\n",
              "\n",
              "        async function convertToInteractive(key) {\n",
              "          const element = document.querySelector('#df-92726a45-b0a7-48a5-924f-955edf734878');\n",
              "          const dataTable =\n",
              "            await google.colab.kernel.invokeFunction('convertToInteractive',\n",
              "                                                     [key], {});\n",
              "          if (!dataTable) return;\n",
              "\n",
              "          const docLinkHtml = 'Like what you see? Visit the ' +\n",
              "            '<a target=\"_blank\" href=https://colab.research.google.com/notebooks/data_table.ipynb>data table notebook</a>'\n",
              "            + ' to learn more about interactive tables.';\n",
              "          element.innerHTML = '';\n",
              "          dataTable['output_type'] = 'display_data';\n",
              "          await google.colab.output.renderOutput(dataTable, element);\n",
              "          const docLink = document.createElement('div');\n",
              "          docLink.innerHTML = docLinkHtml;\n",
              "          element.appendChild(docLink);\n",
              "        }\n",
              "      </script>\n",
              "    </div>\n",
              "  </div>\n",
              "  "
            ],
            "text/plain": [
              "           asin                         title  ... aggclus  kmnclus\n",
              "850  B000FOI48G  Waterpik Ultra Water Flosser  ...     3.0      7.0\n",
              "\n",
              "[1 rows x 16 columns]"
            ]
          },
          "metadata": {},
          "execution_count": 57
        }
      ]
    },
    {
      "cell_type": "markdown",
      "source": [
        "### 相似度計算"
      ],
      "metadata": {
        "id": "zRlFmFT8Jt1z"
      },
      "id": "zRlFmFT8Jt1z"
    },
    {
      "cell_type": "code",
      "execution_count": null,
      "id": "61e7487b",
      "metadata": {
        "id": "61e7487b"
      },
      "outputs": [],
      "source": [
        "from sklearn.feature_extraction.text import TfidfVectorizer\n",
        "\n",
        "# 計算商品用標題所表示的 tfidf 矩陣\n",
        "df = metadata_clean.drop_duplicates('title')\n",
        "tf = TfidfVectorizer(analyzer='word', min_df = 100)\n",
        "tfidf_matrix = tf.fit_transform(df['text_clean'])\n",
        "\n",
        "# 計算商品間的相似程度\n",
        "from sklearn.metrics.pairwise import cosine_similarity\n",
        "similarity_matrix = cosine_similarity(tfidf_matrix)\n",
        "mapping = pd.Series(df.index,index = df['text_clean'])\n",
        "\n",
        "# 每個商品回傳 k 個最相近的商品\n",
        "def recommend_item(item_input, k=2):\n",
        "    try:\n",
        "        item_index = mapping[item_input]\n",
        "        similarity_score = list(enumerate(similarity_matrix[item_index]))\n",
        "        similarity_score = sorted(similarity_score, key=lambda x: x[1], reverse=True)\n",
        "        similarity_score = similarity_score[:k]\n",
        "        item_indices = [i[0] for i in similarity_score]\n",
        "        return (df['asin'].iloc[item_indices].tolist())\n",
        "    except:\n",
        "        return []\n",
        "\n",
        "# 利用使用者購買過的商品產生推薦\n",
        "def recommend_items(items, k):\n",
        "    res = []\n",
        "    for d in items:\n",
        "        res.extend(recommend_item(d, k))\n",
        "    return res\n"
      ]
    },
    {
      "cell_type": "code",
      "source": [
        "# for ele1, ele2 in zip(tf.get_feature_names()[:10], tf.idf_[:10]):\n",
        "#     print(ele1, ':', ele2)"
      ],
      "metadata": {
        "colab": {
          "base_uri": "https://localhost:8080/"
        },
        "id": "DQ46OxQnXUmU",
        "outputId": "f436e236-053e-4de2-d646-13da0c0fdd2f"
      },
      "id": "DQ46OxQnXUmU",
      "execution_count": null,
      "outputs": [
        {
          "output_type": "stream",
          "name": "stdout",
          "text": [
            "00 : 7.511652457575936\n",
            "000 : 8.610264746244045\n",
            "0000 : 9.996559107363936\n",
            "00000 : 10.284241179815718\n",
            "0001 : 10.689706287923881\n",
            "00020 : 10.689706287923881\n",
            "0003 : 10.284241179815718\n",
            "0006 : 10.689706287923881\n",
            "000835 : 10.689706287923881\n",
            "000iu : 10.689706287923881\n"
          ]
        }
      ]
    },
    {
      "cell_type": "code",
      "source": [
        "for ele1, ele2 in zip(tf.get_feature_names()[:10], tf.idf_[:10]):\n",
        "    print(ele1, ':', ele2)"
      ],
      "metadata": {
        "colab": {
          "base_uri": "https://localhost:8080/"
        },
        "id": "6gL4etWoYCT8",
        "outputId": "0b42fd1a-5c65-4cf8-d25a-717e478d0d84"
      },
      "id": "6gL4etWoYCT8",
      "execution_count": null,
      "outputs": [
        {
          "output_type": "stream",
          "name": "stdout",
          "text": [
            "ability : 6.728893118326304\n",
            "accessories : 5.906389916552316\n",
            "accessory : 5.206986198378066\n",
            "achieve : 6.35897294763755\n",
            "acid : 5.01124162125197\n",
            "acne : 5.5687229366587605\n",
            "acrylic : 5.52206724501796\n",
            "act : 6.71941437437176\n",
            "action : 5.885685243190625\n",
            "active : 5.74449879915008\n"
          ]
        }
      ]
    },
    {
      "cell_type": "markdown",
      "source": [
        "### 推薦"
      ],
      "metadata": {
        "id": "FlItpPXPJ3mf"
      },
      "id": "FlItpPXPJ3mf"
    },
    {
      "cell_type": "code",
      "execution_count": 157,
      "id": "9280a043",
      "metadata": {
        "id": "9280a043"
      },
      "outputs": [],
      "source": [
        "import datetime\n",
        "def recommender(training_data, metadata, clus, users_training=[], users=[], group=0, score=5, k=10, rule='', days=60):\n",
        "    '''\n",
        "    * training_data: dataframe 輸入的訓練資料集（2018-09-01 以前資料）\n",
        "    * users: [] 需要被推薦的使用者\n",
        "    * k: int 每個使用者需要推薦的商品數\n",
        "    * recommendations: dict\n",
        "      {\n",
        "          使用者一： [推薦商品一, 推薦商品二, ...],\n",
        "          使用者二： [...], ...\n",
        "      }\n",
        "    '''\n",
        "    recommendations = {}\n",
        "\n",
        "    # metadata = metadata.drop(['mean', 'size'], axis=1)\n",
        "    training_data = training_data[(training_data['DATE'] + datetime.timedelta(days = days)) > '2018-09-01']\n",
        "    ratehot_table = training_data.groupby(by = ['asin']).aggregate({'overall':['mean', 'size']})['overall']\n",
        "    metadata = pd.merge(metadata, ratehot_table, on='asin', how='left')\n",
        "    metadata = metadata.sort_values(['size'], ascending=False)\n",
        "    metadata = metadata[(metadata['mean']<score) == False]\n",
        "    metadata = metadata[metadata[clus+\"clus\"]==group]\n",
        "\n",
        "    recommendations = {user: metadata['asin'].tolist()[:k] for user in users}    \n",
        "    \n",
        "    ratings_trainings = training_data\n",
        "    if rule == 'personal_recommend':\n",
        "        recommendations = {user: recommend_items(metadata[metadata['asin'].isin(sorted(ratings_trainings[ratings_trainings['reviewerID'] == user]['asin'].tolist(), reverse=True))]['text_clean'].tolist(), k) for user in users if user in users_training}\n",
        "    \n",
        "    return recommendations"
      ]
    },
    {
      "cell_type": "markdown",
      "id": "04a4ca9e",
      "metadata": {
        "id": "04a4ca9e"
      },
      "source": [
        "## 結果評估"
      ]
    },
    {
      "cell_type": "code",
      "source": [
        "def evaluate(ratings_testings_by_user={}, ratings_by_user={}, method=None):\n",
        "    '''\n",
        "    * ratings_testings_by_user: dict 真實被購買的商品資料（2018-09-01 以後資料）\n",
        "    * ratings_by_user: dict 利用訓練資料學習的推薦商品\n",
        "    * method: str\n",
        "    * score: float\n",
        "    '''\n",
        "    total = 0\n",
        "    for d in ratings_testings_by_user:\n",
        "        if d in ratings_by_user:\n",
        "            total += len(set(ratings_by_user[d]) & set(ratings_testings_by_user[d]))\n",
        "\n",
        "    score = total / len(ratings_testings)\n",
        "    return score"
      ],
      "metadata": {
        "id": "Ma1uGXN4GZ_e"
      },
      "id": "Ma1uGXN4GZ_e",
      "execution_count": 142,
      "outputs": []
    },
    {
      "cell_type": "markdown",
      "source": [
        "## 結果比較"
      ],
      "metadata": {
        "id": "r8jHPujQGcS2"
      },
      "id": "r8jHPujQGcS2"
    },
    {
      "cell_type": "markdown",
      "source": [
        "#### 用使用者購買記錄做相似商品推薦"
      ],
      "metadata": {
        "id": "UuXyDZh0GiH2"
      },
      "id": "UuXyDZh0GiH2"
    },
    {
      "cell_type": "code",
      "execution_count": 81,
      "id": "ee763747",
      "metadata": {
        "id": "ee763747",
        "outputId": "e5eff67c-1a06-4f29-d6ed-64bb7b1cfe16",
        "colab": {
          "base_uri": "https://localhost:8080/"
        }
      },
      "outputs": [
        {
          "output_type": "stream",
          "name": "stdout",
          "text": [
            "0.0\n"
          ]
        }
      ],
      "source": [
        "ratings_by_user = recommender(ratings_trainings, metadata_clean, users_training, users, rule='personal_recommend')\n",
        "evaluate(ratings_testings_by_user, ratings_by_user)"
      ]
    },
    {
      "cell_type": "markdown",
      "source": [
        "### 觀察不同分群的結果"
      ],
      "metadata": {
        "id": "Ou42PJrzlquM"
      },
      "id": "Ou42PJrzlquM"
    },
    {
      "cell_type": "markdown",
      "source": [
        "#### kmeans"
      ],
      "metadata": {
        "id": "EPQDLS6ul9jC"
      },
      "id": "EPQDLS6ul9jC"
    },
    {
      "cell_type": "code",
      "source": [
        "for g in range(10):\n",
        "    ratings_by_user = recommender(training_data = ratings_trainings, metadata = metadata_clean, users = users, clus='kmn', group=g, score=3, k=10, days=60)\n",
        "    score = evaluate(ratings_testings_by_user, ratings_by_user)\n",
        "    print('g=%d, score=%.5f' %(g, score))"
      ],
      "metadata": {
        "colab": {
          "base_uri": "https://localhost:8080/"
        },
        "id": "stveDI_1P_LZ",
        "outputId": "3a53a0a3-7bbb-4c56-8e7b-fa54a70478b4"
      },
      "id": "stveDI_1P_LZ",
      "execution_count": 148,
      "outputs": [
        {
          "output_type": "stream",
          "name": "stdout",
          "text": [
            "g=0, score=0.13390\n",
            "g=1, score=0.02034\n",
            "g=2, score=0.04746\n",
            "g=3, score=0.00339\n",
            "g=4, score=0.01695\n",
            "g=5, score=0.00169\n",
            "g=6, score=0.00847\n",
            "g=7, score=0.00169\n",
            "g=8, score=0.03559\n",
            "g=9, score=0.01017\n"
          ]
        }
      ]
    },
    {
      "cell_type": "markdown",
      "source": [
        "#### agglomerative"
      ],
      "metadata": {
        "id": "-3fa65JMmBMo"
      },
      "id": "-3fa65JMmBMo"
    },
    {
      "cell_type": "code",
      "source": [
        "for g in range(10):\n",
        "    ratings_by_user = recommender(training_data = ratings_trainings, metadata = metadata_clean, users = users, clus='agg', group=g, score=3, k=10, days=60)\n",
        "    score = evaluate(ratings_testings_by_user, ratings_by_user)\n",
        "    print('g=%d, score=%.5f' %(g, score))"
      ],
      "metadata": {
        "colab": {
          "base_uri": "https://localhost:8080/"
        },
        "id": "92xs7DpJkVEI",
        "outputId": "acf9383c-76e7-46fa-9285-340e79efd0be"
      },
      "id": "92xs7DpJkVEI",
      "execution_count": 151,
      "outputs": [
        {
          "output_type": "stream",
          "name": "stdout",
          "text": [
            "g=0, score=0.15085\n",
            "g=1, score=0.02034\n",
            "g=2, score=0.00847\n",
            "g=3, score=0.00678\n",
            "g=4, score=0.00847\n",
            "g=5, score=0.00169\n",
            "g=6, score=0.02881\n",
            "g=7, score=0.00169\n",
            "g=8, score=0.00339\n",
            "g=9, score=0.01695\n"
          ]
        }
      ]
    },
    {
      "cell_type": "markdown",
      "source": [
        "### 觀察不同評分、時間長度的結果"
      ],
      "metadata": {
        "id": "rEShoPHKmGtQ"
      },
      "id": "rEShoPHKmGtQ"
    },
    {
      "cell_type": "code",
      "source": [
        "slst = [3, 4, 5]\n",
        "dlst = [10, 15, 20, 30, 60, 180]\n",
        "for s in slst:\n",
        "    for d in dlst:\n",
        "        ratings_by_user = recommender(training_data = ratings_trainings, metadata = metadata_clean, users = users, clus='agg', group=0, score=s, k=10, days=d)\n",
        "        score = evaluate(ratings_testings_by_user, ratings_by_user)\n",
        "        print('s=%d day=%d, score=%.5f' %(s, d, score))"
      ],
      "metadata": {
        "colab": {
          "base_uri": "https://localhost:8080/"
        },
        "id": "oUQP4MNqkb_x",
        "outputId": "227c3a44-3631-4e81-b99d-556436aaa09d"
      },
      "id": "oUQP4MNqkb_x",
      "execution_count": 162,
      "outputs": [
        {
          "output_type": "stream",
          "name": "stdout",
          "text": [
            "s=3 day=10, score=0.15763\n",
            "s=3 day=15, score=0.16780\n",
            "s=3 day=20, score=0.15593\n",
            "s=3 day=30, score=0.12712\n",
            "s=3 day=60, score=0.15085\n",
            "s=3 day=180, score=0.08305\n",
            "s=4 day=10, score=0.07797\n",
            "s=4 day=15, score=0.17119\n",
            "s=4 day=20, score=0.10169\n",
            "s=4 day=30, score=0.14746\n",
            "s=4 day=60, score=0.05593\n",
            "s=4 day=180, score=0.02034\n",
            "s=5 day=10, score=0.01017\n",
            "s=5 day=15, score=0.01017\n",
            "s=5 day=20, score=0.01695\n",
            "s=5 day=30, score=0.01695\n",
            "s=5 day=60, score=0.00508\n",
            "s=5 day=180, score=0.00000\n"
          ]
        }
      ]
    },
    {
      "cell_type": "code",
      "source": [
        "for k in range(10, 51, 10):\n",
        "    ratings_by_user = recommender(training_data = ratings_trainings, metadata = metadata_clean, users = users, clus='agg', group=0, score=3, k=k, days=15)\n",
        "    score = evaluate(ratings_testings_by_user, ratings_by_user)\n",
        "    print(score)"
      ],
      "metadata": {
        "colab": {
          "base_uri": "https://localhost:8080/"
        },
        "id": "mWklR1NEme5Z",
        "outputId": "c6630f1e-b6bf-48ac-da95-7546fd495eaa"
      },
      "id": "mWklR1NEme5Z",
      "execution_count": 164,
      "outputs": [
        {
          "output_type": "stream",
          "name": "stdout",
          "text": [
            "0.16779661016949152\n",
            "0.19152542372881357\n",
            "0.20508474576271185\n",
            "0.21016949152542372\n",
            "0.21016949152542372\n"
          ]
        }
      ]
    }
  ],
  "metadata": {
    "kernelspec": {
      "display_name": "Python 3",
      "language": "python",
      "name": "python3"
    },
    "language_info": {
      "codemirror_mode": {
        "name": "ipython",
        "version": 3
      },
      "file_extension": ".py",
      "mimetype": "text/x-python",
      "name": "python",
      "nbconvert_exporter": "python",
      "pygments_lexer": "ipython3",
      "version": "3.9.0"
    },
    "colab": {
      "name": "content-based 推薦系統.ipynb",
      "provenance": [],
      "include_colab_link": true
    }
  },
  "nbformat": 4,
  "nbformat_minor": 5
}